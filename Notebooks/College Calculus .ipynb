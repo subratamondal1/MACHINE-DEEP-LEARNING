{
 "cells": [
  {
   "cell_type": "markdown",
   "id": "4c0df274-90ff-4d40-bbba-c8cb00875e46",
   "metadata": {},
   "source": [
    "# <center>College Calculus 1</center>\n",
    "---\n",
    "**About**</br>\n",
    "**[SymPy](https://docs.sympy.org/latest/index.html)** is a Python library for symbolic mathematics. It aims to become a full-featured computer algebra system (CAS) while keeping the code as simple as possible in order to be comprehensible and easily extensible. SymPy is written entirely in Python.\n",
    "\n",
    "\n",
    "**Why SymPy?**\n",
    "SymPy is…</br>\n",
    "* **Free:** Licensed under BSD, SymPy is free both as in speech and as in beer.\n",
    "* **Python-based:** SymPy is written entirely in Python and uses Python for its language.\n",
    "* **Lightweight:** SymPy only depends on mpmath, a pure Python library for arbitrary floating point arithmetic, making it easy to use.\n",
    "* **A library:** Beyond use as an interactive tool, SymPy can be embedded in other applications and extended with custom functions.\n",
    "\n",
    "\n",
    "**[Features](https://www.sympy.org/en/features.html):**</br>\n",
    "1. Core capabilities\n",
    "2. Polynomials\n",
    "3. Calculus\n",
    "4. Solving equations\n",
    "5. Combinatorics\n",
    "6. Discrete math\n",
    "7. Matrices\n",
    "8. Geometry\n",
    "9. Plotting\n",
    "10. Physics\n",
    "11. Statistics\n",
    "12. Cryptography\n",
    "13. Parsing\n",
    "14. Printing\n",
    "---"
   ]
  },
  {
   "cell_type": "markdown",
   "id": "bd0cfe23-b984-44ef-abcb-d13d353745b5",
   "metadata": {},
   "source": [
    "## Introduction"
   ]
  },
  {
   "cell_type": "code",
   "execution_count": 1,
   "id": "b04a020a-9a64-4a99-b8ba-850b42bb1483",
   "metadata": {},
   "outputs": [],
   "source": [
    "import sympy as smp"
   ]
  },
  {
   "cell_type": "markdown",
   "id": "818e2814-2d6c-4933-9e63-9d92d1cf0280",
   "metadata": {},
   "source": [
    "Transform strings into instances of :class:`Symbol` clas"
   ]
  },
  {
   "cell_type": "code",
   "execution_count": 2,
   "id": "ddd17354-d534-49be-84ef-29be4ce6a3a0",
   "metadata": {},
   "outputs": [
    {
     "data": {
      "text/latex": [
       "$\\displaystyle x$"
      ],
      "text/plain": [
       "x"
      ]
     },
     "execution_count": 2,
     "metadata": {},
     "output_type": "execute_result"
    }
   ],
   "source": [
    "# Transform strings into instances of :class:`Symbol` clas\n",
    "smp.symbols(\"x\")"
   ]
  },
  {
   "cell_type": "code",
   "execution_count": 3,
   "id": "1ee0a0df-704b-4e66-b65c-13b7f696417c",
   "metadata": {},
   "outputs": [],
   "source": [
    "x = smp.symbols(\"x\")"
   ]
  },
  {
   "cell_type": "code",
   "execution_count": 4,
   "id": "15badb1d-975d-4703-a945-8e56aef29682",
   "metadata": {},
   "outputs": [
    {
     "data": {
      "text/latex": [
       "$\\displaystyle x^{x}$"
      ],
      "text/plain": [
       "x**x"
      ]
     },
     "execution_count": 4,
     "metadata": {},
     "output_type": "execute_result"
    }
   ],
   "source": [
    "x**x"
   ]
  },
  {
   "cell_type": "code",
   "execution_count": 5,
   "id": "8a5e5a06-6bb8-45f5-b3fd-2f277261a29b",
   "metadata": {},
   "outputs": [
    {
     "data": {
      "text/latex": [
       "$\\displaystyle x^{2}$"
      ],
      "text/plain": [
       "x**2"
      ]
     },
     "execution_count": 5,
     "metadata": {},
     "output_type": "execute_result"
    }
   ],
   "source": [
    "x**2"
   ]
  },
  {
   "cell_type": "markdown",
   "id": "84bef66e-7a09-462e-add8-cb025064ef3f",
   "metadata": {},
   "source": [
    "Substitutes old for new in an expression after sympifying args."
   ]
  },
  {
   "cell_type": "code",
   "execution_count": 6,
   "id": "169ca507-33c4-4512-92d8-9dae28873c1b",
   "metadata": {},
   "outputs": [
    {
     "data": {
      "text/latex": [
       "$\\displaystyle 5$"
      ],
      "text/plain": [
       "5"
      ]
     },
     "execution_count": 6,
     "metadata": {},
     "output_type": "execute_result"
    }
   ],
   "source": [
    "# Substitutes old for new in an expression after sympifying args.\n",
    "x.subs(x, 5)"
   ]
  },
  {
   "cell_type": "code",
   "execution_count": 7,
   "id": "50867e3b-8d72-47d1-bd41-ca59aa3568c5",
   "metadata": {},
   "outputs": [
    {
     "data": {
      "text/latex": [
       "$\\displaystyle x^{2}$"
      ],
      "text/plain": [
       "x**2"
      ]
     },
     "execution_count": 7,
     "metadata": {},
     "output_type": "execute_result"
    }
   ],
   "source": [
    "x ** 2"
   ]
  },
  {
   "cell_type": "markdown",
   "id": "e092ad4c-ae0c-4d94-9d19-89d24d854a06",
   "metadata": {},
   "source": [
    "### Functions"
   ]
  },
  {
   "cell_type": "code",
   "execution_count": 8,
   "id": "78fe7804-327a-4b56-bcf7-bea1880c637c",
   "metadata": {},
   "outputs": [],
   "source": [
    "y = smp.symbols(\"y\")\n",
    "f = x**2 + y"
   ]
  },
  {
   "cell_type": "code",
   "execution_count": 9,
   "id": "538f5a31-1155-40bb-bd8d-27dd36a98dc1",
   "metadata": {},
   "outputs": [
    {
     "data": {
      "text/latex": [
       "$\\displaystyle x^{2} + y$"
      ],
      "text/plain": [
       "x**2 + y"
      ]
     },
     "execution_count": 9,
     "metadata": {},
     "output_type": "execute_result"
    }
   ],
   "source": [
    "f"
   ]
  },
  {
   "cell_type": "markdown",
   "id": "8efc4dc9-9f53-41db-bb48-24ad92240778",
   "metadata": {},
   "source": [
    "### Substitute"
   ]
  },
  {
   "cell_type": "code",
   "execution_count": 10,
   "id": "4c625b5b-1b73-4a27-8a3d-9cb67a704572",
   "metadata": {},
   "outputs": [
    {
     "data": {
      "text/latex": [
       "$\\displaystyle y + 25$"
      ],
      "text/plain": [
       "y + 25"
      ]
     },
     "execution_count": 10,
     "metadata": {},
     "output_type": "execute_result"
    }
   ],
   "source": [
    "f.subs(x,5)"
   ]
  },
  {
   "cell_type": "code",
   "execution_count": 11,
   "id": "9cdf6833-0cec-4895-91ce-afc78b94edf7",
   "metadata": {},
   "outputs": [
    {
     "data": {
      "text/latex": [
       "$\\displaystyle x^{2} + y$"
      ],
      "text/plain": [
       "x**2 + y"
      ]
     },
     "execution_count": 11,
     "metadata": {},
     "output_type": "execute_result"
    }
   ],
   "source": [
    "f"
   ]
  },
  {
   "cell_type": "code",
   "execution_count": 12,
   "id": "07d65e8e-1d2a-4afc-9dab-ca49c95fc8cf",
   "metadata": {},
   "outputs": [
    {
     "data": {
      "text/latex": [
       "$\\displaystyle x^{2} + 5$"
      ],
      "text/plain": [
       "x**2 + 5"
      ]
     },
     "execution_count": 12,
     "metadata": {},
     "output_type": "execute_result"
    }
   ],
   "source": [
    "f.subs(y,5)"
   ]
  },
  {
   "cell_type": "code",
   "execution_count": 13,
   "id": "bed9ab4c-246f-4780-9035-63b62d137647",
   "metadata": {},
   "outputs": [
    {
     "data": {
      "text/latex": [
       "$\\displaystyle x$"
      ],
      "text/plain": [
       "x"
      ]
     },
     "execution_count": 13,
     "metadata": {},
     "output_type": "execute_result"
    }
   ],
   "source": [
    "x"
   ]
  },
  {
   "cell_type": "markdown",
   "id": "3c660e43-d696-4093-b14e-fdbe826bb1f4",
   "metadata": {},
   "source": [
    "### Trignometry"
   ]
  },
  {
   "cell_type": "code",
   "execution_count": 14,
   "id": "755c2798-0647-4d68-9148-43a0fa41bbb3",
   "metadata": {},
   "outputs": [
    {
     "data": {
      "text/latex": [
       "$\\displaystyle \\sin{\\left(x \\right)}$"
      ],
      "text/plain": [
       "sin(x)"
      ]
     },
     "execution_count": 14,
     "metadata": {},
     "output_type": "execute_result"
    }
   ],
   "source": [
    "smp.sin(x)"
   ]
  },
  {
   "cell_type": "code",
   "execution_count": 15,
   "id": "a8758c41-e6ec-487e-91ad-6b892a686acb",
   "metadata": {},
   "outputs": [
    {
     "data": {
      "text/latex": [
       "$\\displaystyle \\operatorname{asin}{\\left(x \\right)}$"
      ],
      "text/plain": [
       "asin(x)"
      ]
     },
     "execution_count": 15,
     "metadata": {},
     "output_type": "execute_result"
    }
   ],
   "source": [
    "smp.asin(x)"
   ]
  },
  {
   "cell_type": "markdown",
   "id": "1c262773-e9ad-45a6-a9f7-f3de5795b59e",
   "metadata": {},
   "source": [
    "### Exponent\n",
    "The exponential function, :math:`e^x`."
   ]
  },
  {
   "cell_type": "code",
   "execution_count": 16,
   "id": "fbfc8bed-1d75-4bbc-89b8-be4916a21345",
   "metadata": {},
   "outputs": [
    {
     "data": {
      "text/latex": [
       "$\\displaystyle e^{x}$"
      ],
      "text/plain": [
       "exp(x)"
      ]
     },
     "execution_count": 16,
     "metadata": {},
     "output_type": "execute_result"
    }
   ],
   "source": [
    "smp.exp(x)"
   ]
  },
  {
   "cell_type": "code",
   "execution_count": 17,
   "id": "50596ab4",
   "metadata": {},
   "outputs": [
    {
     "data": {
      "text/latex": [
       "$\\displaystyle e^{5}$"
      ],
      "text/plain": [
       "exp(5)"
      ]
     },
     "execution_count": 17,
     "metadata": {},
     "output_type": "execute_result"
    }
   ],
   "source": [
    "smp.exp(5)"
   ]
  },
  {
   "cell_type": "markdown",
   "id": "889e9b9a-17ac-43b0-9458-70bd399121ee",
   "metadata": {},
   "source": [
    "### Logarithm"
   ]
  },
  {
   "cell_type": "code",
   "execution_count": 18,
   "id": "e1a7dc21-1c87-4eb0-8794-a3081ddd581d",
   "metadata": {},
   "outputs": [
    {
     "data": {
      "text/latex": [
       "$\\displaystyle \\log{\\left(x \\right)}$"
      ],
      "text/plain": [
       "log(x)"
      ]
     },
     "execution_count": 18,
     "metadata": {},
     "output_type": "execute_result"
    }
   ],
   "source": [
    "smp.log(x)"
   ]
  },
  {
   "cell_type": "code",
   "execution_count": 19,
   "id": "0b00f353-a6de-4700-9b51-a14fbcc46f4d",
   "metadata": {},
   "outputs": [
    {
     "data": {
      "text/latex": [
       "$\\displaystyle \\frac{\\log{\\left(x \\right)}}{\\log{\\left(10 \\right)}}$"
      ],
      "text/plain": [
       "log(x)/log(10)"
      ]
     },
     "execution_count": 19,
     "metadata": {},
     "output_type": "execute_result"
    }
   ],
   "source": [
    "smp.log(x,10)"
   ]
  },
  {
   "cell_type": "markdown",
   "id": "cecf9846-a8d3-480f-b1e0-37b7bd746cd2",
   "metadata": {},
   "source": [
    "### Rational"
   ]
  },
  {
   "cell_type": "code",
   "execution_count": 20,
   "id": "ab2216d3-ae3d-4c82-9b80-ee4dc3aed3f9",
   "metadata": {},
   "outputs": [
    {
     "data": {
      "text/latex": [
       "$\\displaystyle x^{\\frac{3}{2}}$"
      ],
      "text/plain": [
       "x**(3/2)"
      ]
     },
     "execution_count": 20,
     "metadata": {},
     "output_type": "execute_result"
    }
   ],
   "source": [
    "x ** (smp.Rational(3,2))"
   ]
  },
  {
   "cell_type": "code",
   "execution_count": 21,
   "id": "3826c503-2dcd-46e8-b341-924cbdf69a29",
   "metadata": {},
   "outputs": [
    {
     "data": {
      "text/latex": [
       "$\\displaystyle x^{1.5}$"
      ],
      "text/plain": [
       "x**1.5"
      ]
     },
     "execution_count": 21,
     "metadata": {},
     "output_type": "execute_result"
    }
   ],
   "source": [
    "x ** (3/2)"
   ]
  },
  {
   "cell_type": "markdown",
   "id": "bf80f8ac",
   "metadata": {},
   "source": [
    "### Infinity"
   ]
  },
  {
   "cell_type": "code",
   "execution_count": 22,
   "id": "c8925e4c",
   "metadata": {},
   "outputs": [
    {
     "data": {
      "text/latex": [
       "$\\displaystyle \\infty$"
      ],
      "text/plain": [
       "oo"
      ]
     },
     "execution_count": 22,
     "metadata": {},
     "output_type": "execute_result"
    }
   ],
   "source": [
    "smp.oo"
   ]
  },
  {
   "cell_type": "markdown",
   "id": "1398a5e5",
   "metadata": {},
   "source": [
    "## Limits"
   ]
  },
  {
   "cell_type": "code",
   "execution_count": 23,
   "id": "d685d635",
   "metadata": {},
   "outputs": [
    {
     "data": {
      "text/latex": [
       "$\\displaystyle \\sin{\\left(\\frac{x}{2} + \\sin{\\left(x \\right)} \\right)}$"
      ],
      "text/plain": [
       "sin(x/2 + sin(x))"
      ]
     },
     "execution_count": 23,
     "metadata": {},
     "output_type": "execute_result"
    }
   ],
   "source": [
    "smp.sin(x/2 + smp.sin(x))"
   ]
  },
  {
   "cell_type": "code",
   "execution_count": 24,
   "id": "0d61e359",
   "metadata": {},
   "outputs": [
    {
     "data": {
      "text/latex": [
       "$\\displaystyle 1$"
      ],
      "text/plain": [
       "1"
      ]
     },
     "execution_count": 24,
     "metadata": {},
     "output_type": "execute_result"
    }
   ],
   "source": [
    "# Computes the limit of where x tends to pi\n",
    "smp.limit(smp.sin(x/2 + smp.sin(x)), x, smp.pi)"
   ]
  },
  {
   "cell_type": "code",
   "execution_count": 25,
   "id": "a57dc25b",
   "metadata": {},
   "outputs": [
    {
     "data": {
      "text/latex": [
       "$\\displaystyle \\frac{2 e^{\\frac{1}{x}}}{e^{\\frac{1}{x}} + 1}$"
      ],
      "text/plain": [
       "2*exp(1/x)/(exp(1/x) + 1)"
      ]
     },
     "execution_count": 25,
     "metadata": {},
     "output_type": "execute_result"
    }
   ],
   "source": [
    "(2 * smp.exp(1/x)) / (smp.exp(1/x) + 1)"
   ]
  },
  {
   "cell_type": "code",
   "execution_count": 26,
   "id": "4943c159",
   "metadata": {},
   "outputs": [
    {
     "data": {
      "text/latex": [
       "$\\displaystyle 2$"
      ],
      "text/plain": [
       "2"
      ]
     },
     "execution_count": 26,
     "metadata": {},
     "output_type": "execute_result"
    }
   ],
   "source": [
    "# Computes the limit of where tends to 0+\n",
    "smp.limit((2 * smp.exp(1/x)) / (smp.exp(1/x) + 1), x, 0, dir=\"+\")"
   ]
  },
  {
   "cell_type": "code",
   "execution_count": 27,
   "id": "1472fc05",
   "metadata": {},
   "outputs": [
    {
     "data": {
      "text/latex": [
       "$\\displaystyle 0$"
      ],
      "text/plain": [
       "0"
      ]
     },
     "execution_count": 27,
     "metadata": {},
     "output_type": "execute_result"
    }
   ],
   "source": [
    "# Computes the limit of where x tends to 0-\n",
    "smp.limit((2 * smp.exp(1/x)) / (smp.exp(1/x) + 1), x, 0, dir=\"-\")"
   ]
  },
  {
   "cell_type": "code",
   "execution_count": 28,
   "id": "c03f9b34",
   "metadata": {},
   "outputs": [
    {
     "data": {
      "text/latex": [
       "$\\displaystyle \\frac{\\cos{\\left(x \\right)} - 1}{x}$"
      ],
      "text/plain": [
       "(cos(x) - 1)/x"
      ]
     },
     "execution_count": 28,
     "metadata": {},
     "output_type": "execute_result"
    }
   ],
   "source": [
    "(smp.cos(x) - 1) / x"
   ]
  },
  {
   "cell_type": "code",
   "execution_count": 29,
   "id": "d93ee032",
   "metadata": {},
   "outputs": [
    {
     "data": {
      "text/latex": [
       "$\\displaystyle 0$"
      ],
      "text/plain": [
       "0"
      ]
     },
     "execution_count": 29,
     "metadata": {},
     "output_type": "execute_result"
    }
   ],
   "source": [
    "# Computes the limit of where x tends to infinity\n",
    "smp.limit((smp.cos(x) - 1) / x, x, smp.oo)"
   ]
  },
  {
   "cell_type": "markdown",
   "id": "6475369f",
   "metadata": {},
   "source": [
    "## Derivatives"
   ]
  },
  {
   "cell_type": "code",
   "execution_count": 30,
   "id": "5f8ec27c",
   "metadata": {},
   "outputs": [
    {
     "data": {
      "text/latex": [
       "$\\displaystyle \\frac{\\left(\\sin{\\left(x \\right)} + 1\\right)^{2}}{\\left(1 - \\cos{\\left(x \\right)}\\right)^{2}}$"
      ],
      "text/plain": [
       "(sin(x) + 1)**2/(1 - cos(x))**2"
      ]
     },
     "execution_count": 30,
     "metadata": {},
     "output_type": "execute_result"
    }
   ],
   "source": [
    "((1 + smp.sin(x)) / (1 - smp.cos(x))) ** 2"
   ]
  },
  {
   "cell_type": "code",
   "execution_count": 31,
   "id": "72efcd23",
   "metadata": {},
   "outputs": [
    {
     "data": {
      "text/latex": [
       "$\\displaystyle \\frac{2 \\left(\\sin{\\left(x \\right)} + 1\\right) \\cos{\\left(x \\right)}}{\\left(1 - \\cos{\\left(x \\right)}\\right)^{2}} - \\frac{2 \\left(\\sin{\\left(x \\right)} + 1\\right)^{2} \\sin{\\left(x \\right)}}{\\left(1 - \\cos{\\left(x \\right)}\\right)^{3}}$"
      ],
      "text/plain": [
       "2*(sin(x) + 1)*cos(x)/(1 - cos(x))**2 - 2*(sin(x) + 1)**2*sin(x)/(1 - cos(x))**3"
      ]
     },
     "execution_count": 31,
     "metadata": {},
     "output_type": "execute_result"
    }
   ],
   "source": [
    "# Differentiate the following w.r.t x\n",
    "smp.diff(((1 + smp.sin(x)) / (1 - smp.cos(x))) ** 2, x)"
   ]
  },
  {
   "cell_type": "code",
   "execution_count": 32,
   "id": "1fc77440",
   "metadata": {},
   "outputs": [
    {
     "data": {
      "text/latex": [
       "$\\displaystyle \\frac{\\left(y + \\sin{\\left(x \\right)}\\right)^{2}}{\\left(1 - \\cos{\\left(x \\right)}\\right)^{2}}$"
      ],
      "text/plain": [
       "(y + sin(x))**2/(1 - cos(x))**2"
      ]
     },
     "execution_count": 32,
     "metadata": {},
     "output_type": "execute_result"
    }
   ],
   "source": [
    "((y + smp.sin(x)) / (1 - smp.cos(x))) ** 2"
   ]
  },
  {
   "cell_type": "code",
   "execution_count": 33,
   "id": "661bbc6b",
   "metadata": {},
   "outputs": [
    {
     "data": {
      "text/latex": [
       "$\\displaystyle \\frac{2 y + 2 \\sin{\\left(x \\right)}}{\\left(1 - \\cos{\\left(x \\right)}\\right)^{2}}$"
      ],
      "text/plain": [
       "(2*y + 2*sin(x))/(1 - cos(x))**2"
      ]
     },
     "execution_count": 33,
     "metadata": {},
     "output_type": "execute_result"
    }
   ],
   "source": [
    "# Differentiate the following w.r.t y\n",
    "smp.diff(((y + smp.sin(x)) / (1 - smp.cos(x))) ** 2, y)"
   ]
  },
  {
   "cell_type": "code",
   "execution_count": 34,
   "id": "6f711ef4",
   "metadata": {},
   "outputs": [
    {
     "data": {
      "text/latex": [
       "$\\displaystyle \\left(\\frac{\\log{\\left(x \\right)}}{\\log{\\left(5 \\right)}}\\right)^{\\frac{x}{2}}$"
      ],
      "text/plain": [
       "(log(x)/log(5))**(x/2)"
      ]
     },
     "execution_count": 34,
     "metadata": {},
     "output_type": "execute_result"
    }
   ],
   "source": [
    "smp.log(x,5)**(x/2)"
   ]
  },
  {
   "cell_type": "code",
   "execution_count": 35,
   "id": "7e717e76",
   "metadata": {},
   "outputs": [
    {
     "data": {
      "text/latex": [
       "$\\displaystyle \\left(\\frac{\\log{\\left(x \\right)}}{\\log{\\left(5 \\right)}}\\right)^{\\frac{x}{2}} \\left(\\frac{\\log{\\left(\\frac{\\log{\\left(x \\right)}}{\\log{\\left(5 \\right)}} \\right)}}{2} + \\frac{1}{2 \\log{\\left(x \\right)}}\\right)$"
      ],
      "text/plain": [
       "(log(x)/log(5))**(x/2)*(log(log(x)/log(5))/2 + 1/(2*log(x)))"
      ]
     },
     "execution_count": 35,
     "metadata": {},
     "output_type": "execute_result"
    }
   ],
   "source": [
    "# Differentiate the following w.r.t x\n",
    "smp.diff(smp.log(x,5)**(x/2), x)"
   ]
  },
  {
   "cell_type": "markdown",
   "id": "e7c1289f",
   "metadata": {},
   "source": [
    "## Chain Rule"
   ]
  },
  {
   "cell_type": "code",
   "execution_count": 36,
   "id": "cbd6e12e",
   "metadata": {},
   "outputs": [],
   "source": [
    "# defining f & g as Functions\n",
    "f, g = smp.symbols(\"f g\", cls=smp.Function)\n",
    "g = g(x)\n",
    "f = f(x + g)"
   ]
  },
  {
   "cell_type": "code",
   "execution_count": 37,
   "id": "b227a7f6",
   "metadata": {},
   "outputs": [
    {
     "data": {
      "text/latex": [
       "$\\displaystyle g{\\left(x \\right)}$"
      ],
      "text/plain": [
       "g(x)"
      ]
     },
     "execution_count": 37,
     "metadata": {},
     "output_type": "execute_result"
    }
   ],
   "source": [
    "g"
   ]
  },
  {
   "cell_type": "code",
   "execution_count": 38,
   "id": "33d7fa9f",
   "metadata": {},
   "outputs": [
    {
     "data": {
      "text/latex": [
       "$\\displaystyle f{\\left(x + g{\\left(x \\right)} \\right)}$"
      ],
      "text/plain": [
       "f(x + g(x))"
      ]
     },
     "execution_count": 38,
     "metadata": {},
     "output_type": "execute_result"
    }
   ],
   "source": [
    "f"
   ]
  },
  {
   "cell_type": "code",
   "execution_count": 39,
   "id": "3f2bcb1c",
   "metadata": {},
   "outputs": [
    {
     "data": {
      "text/latex": [
       "$\\displaystyle \\left(\\frac{d}{d x} g{\\left(x \\right)} + 1\\right) \\left. \\frac{d}{d \\xi_{1}} f{\\left(\\xi_{1} \\right)} \\right|_{\\substack{ \\xi_{1}=x + g{\\left(x \\right)} }}$"
      ],
      "text/plain": [
       "(Derivative(g(x), x) + 1)*Subs(Derivative(f(_xi_1), _xi_1), _xi_1, x + g(x))"
      ]
     },
     "execution_count": 39,
     "metadata": {},
     "output_type": "execute_result"
    }
   ],
   "source": [
    "# Differentiate the following w.r.t x\n",
    "smp.diff(f,x)"
   ]
  },
  {
   "cell_type": "markdown",
   "id": "9618b393",
   "metadata": {},
   "source": [
    "## Indefinite Integrals \n",
    "Integrals are opposite to differentiation."
   ]
  },
  {
   "cell_type": "code",
   "execution_count": 44,
   "id": "49f98b39",
   "metadata": {},
   "outputs": [
    {
     "data": {
      "text/latex": [
       "$\\displaystyle \\cot{\\left(x \\right)} \\csc{\\left(x \\right)}$"
      ],
      "text/plain": [
       "cot(x)*csc(x)"
      ]
     },
     "execution_count": 44,
     "metadata": {},
     "output_type": "execute_result"
    }
   ],
   "source": [
    "smp.csc(x)*smp.cot(x)"
   ]
  },
  {
   "cell_type": "code",
   "execution_count": 45,
   "id": "f60dc166",
   "metadata": {},
   "outputs": [
    {
     "data": {
      "text/latex": [
       "$\\displaystyle - \\frac{1}{\\sin{\\left(x \\right)}}$"
      ],
      "text/plain": [
       "-1/sin(x)"
      ]
     },
     "execution_count": 45,
     "metadata": {},
     "output_type": "execute_result"
    }
   ],
   "source": [
    "# integrate the function w.r.t x\n",
    "smp.integrate(smp.csc(x)*smp.cot(x),x)"
   ]
  },
  {
   "cell_type": "code",
   "execution_count": 48,
   "id": "c6913d60",
   "metadata": {},
   "outputs": [
    {
     "data": {
      "text/latex": [
       "$\\displaystyle 4 \\tan{\\left(3 x \\right)} \\sec{\\left(3 x \\right)}$"
      ],
      "text/plain": [
       "4*tan(3*x)*sec(3*x)"
      ]
     },
     "execution_count": 48,
     "metadata": {},
     "output_type": "execute_result"
    }
   ],
   "source": [
    "4*smp.sec(3*x)*smp.tan(3*x)"
   ]
  },
  {
   "cell_type": "code",
   "execution_count": 50,
   "id": "cc4ac5bc",
   "metadata": {},
   "outputs": [
    {
     "data": {
      "text/latex": [
       "$\\displaystyle \\frac{4}{3 \\cos{\\left(3 x \\right)}}$"
      ],
      "text/plain": [
       "4/(3*cos(3*x))"
      ]
     },
     "execution_count": 50,
     "metadata": {},
     "output_type": "execute_result"
    }
   ],
   "source": [
    "# integrate the function w.r.t x\n",
    "smp.integrate(4*smp.sec(3*x)*smp.tan(3*x),x)"
   ]
  },
  {
   "cell_type": "code",
   "execution_count": 56,
   "id": "1da38f4b",
   "metadata": {},
   "outputs": [
    {
     "data": {
      "text/latex": [
       "$\\displaystyle \\frac{2}{\\sqrt{1 - x^{2}}} - \\frac{1}{\\sqrt[4]{x}}$"
      ],
      "text/plain": [
       "2/sqrt(1 - x**2) - 1/x**(1/4)"
      ]
     },
     "execution_count": 56,
     "metadata": {},
     "output_type": "execute_result"
    }
   ],
   "source": [
    "(2/(smp.sqrt(1- x**2))) - (1/x**smp.Rational(1,4))"
   ]
  },
  {
   "cell_type": "code",
   "execution_count": 57,
   "id": "16826241",
   "metadata": {},
   "outputs": [
    {
     "data": {
      "text/latex": [
       "$\\displaystyle - \\frac{4 x^{\\frac{3}{4}}}{3} + 2 \\operatorname{asin}{\\left(x \\right)}$"
      ],
      "text/plain": [
       "-4*x**(3/4)/3 + 2*asin(x)"
      ]
     },
     "execution_count": 57,
     "metadata": {},
     "output_type": "execute_result"
    }
   ],
   "source": [
    "# integrate the function w.r.t x\n",
    "smp.integrate((2/(smp.sqrt(1- x**2))) - (1/x**smp.Rational(1,4)),x)"
   ]
  },
  {
   "cell_type": "code",
   "execution_count": 84,
   "id": "e0db6253",
   "metadata": {},
   "outputs": [
    {
     "data": {
      "text/latex": [
       "$\\displaystyle \\frac{\\sqrt[3]{\\sqrt{x} + 1}}{\\sqrt{x}}$"
      ],
      "text/plain": [
       "(sqrt(x) + 1)**(1/3)/sqrt(x)"
      ]
     },
     "execution_count": 84,
     "metadata": {},
     "output_type": "execute_result"
    }
   ],
   "source": [
    "((1 + smp.sqrt(x))**smp.Rational(1,3))/smp.sqrt(x)"
   ]
  },
  {
   "cell_type": "code",
   "execution_count": 85,
   "id": "3997e762",
   "metadata": {},
   "outputs": [
    {
     "data": {
      "text/latex": [
       "$\\displaystyle \\frac{3 \\sqrt{x} \\sqrt[3]{\\sqrt{x} + 1}}{2} + \\frac{3 \\sqrt[3]{\\sqrt{x} + 1}}{2}$"
      ],
      "text/plain": [
       "3*sqrt(x)*(sqrt(x) + 1)**(1/3)/2 + 3*(sqrt(x) + 1)**(1/3)/2"
      ]
     },
     "execution_count": 85,
     "metadata": {},
     "output_type": "execute_result"
    }
   ],
   "source": [
    "# integrate the function w.r.t x\n",
    "smp.integrate(((1 + smp.sqrt(x))**smp.Rational(1,3))/smp.sqrt(x),x)"
   ]
  },
  {
   "cell_type": "code",
   "execution_count": 95,
   "id": "b0b4a5c6",
   "metadata": {},
   "outputs": [
    {
     "data": {
      "text/latex": [
       "$\\displaystyle x \\sqrt[4]{1 - x^{2}}$"
      ],
      "text/plain": [
       "x*(1 - x**2)**(1/4)"
      ]
     },
     "execution_count": 95,
     "metadata": {},
     "output_type": "execute_result"
    }
   ],
   "source": [
    "x*(1 - x**2)**smp.Rational(1,4)"
   ]
  },
  {
   "cell_type": "code",
   "execution_count": 96,
   "id": "34adf4cf",
   "metadata": {},
   "outputs": [
    {
     "data": {
      "text/latex": [
       "$\\displaystyle \\frac{2 x^{2} \\sqrt[4]{1 - x^{2}}}{5} - \\frac{2 \\sqrt[4]{1 - x^{2}}}{5}$"
      ],
      "text/plain": [
       "2*x**2*(1 - x**2)**(1/4)/5 - 2*(1 - x**2)**(1/4)/5"
      ]
     },
     "execution_count": 96,
     "metadata": {},
     "output_type": "execute_result"
    }
   ],
   "source": [
    "# integrate the function w.r.t x\n",
    "smp.integrate(x*(1 - x**2)**smp.Rational(1,4),x)"
   ]
  },
  {
   "cell_type": "code",
   "execution_count": 101,
   "id": "efa13afe",
   "metadata": {},
   "outputs": [
    {
     "data": {
      "text/latex": [
       "$\\displaystyle \\frac{\\left(2 x - 1\\right) \\cos{\\left(\\sqrt{3 \\left(2 x - 1\\right)^{2} + 6} \\right)}}{\\sqrt{3 \\left(2 x - 1\\right)^{2} + 6}}$"
      ],
      "text/plain": [
       "(2*x - 1)*cos(sqrt(3*(2*x - 1)**2 + 6))/sqrt(3*(2*x - 1)**2 + 6)"
      ]
     },
     "execution_count": 101,
     "metadata": {},
     "output_type": "execute_result"
    }
   ],
   "source": [
    "(((2*x - 1)*smp.cos(smp.sqrt(3*(2*x-1)**2+(6))))/smp.sqrt(3*(2*x-1)**2 + 6))"
   ]
  },
  {
   "cell_type": "code",
   "execution_count": 102,
   "id": "95886dcd",
   "metadata": {},
   "outputs": [
    {
     "data": {
      "text/latex": [
       "$\\displaystyle \\frac{\\sin{\\left(\\sqrt{3 \\left(2 x - 1\\right)^{2} + 6} \\right)}}{6}$"
      ],
      "text/plain": [
       "sin(sqrt(3*(2*x - 1)**2 + 6))/6"
      ]
     },
     "execution_count": 102,
     "metadata": {},
     "output_type": "execute_result"
    }
   ],
   "source": [
    "# integrate the function w.r.t x\n",
    "smp.integrate((((2*x - 1)*smp.cos(smp.sqrt(3*(2*x-1)**2+(6))))/smp.sqrt(3*(2*x-1)**2 + 6)),x)"
   ]
  },
  {
   "cell_type": "markdown",
   "id": "e0f64790",
   "metadata": {},
   "source": [
    "## Definite Integrals"
   ]
  },
  {
   "cell_type": "code",
   "execution_count": 120,
   "id": "5c104df4",
   "metadata": {},
   "outputs": [
    {
     "data": {
      "text/latex": [
       "$\\displaystyle - \\operatorname{asinh}{\\left(\\frac{1}{3} \\right)} + \\operatorname{asinh}{\\left(\\frac{4}{3} \\right)}$"
      ],
      "text/plain": [
       "-asinh(1/3) + asinh(4/3)"
      ]
     },
     "execution_count": 120,
     "metadata": {},
     "output_type": "execute_result"
    }
   ],
   "source": [
    "# integrate the function w.r.t x where the lower limit is 0 and the upper limit is ln(4)\n",
    "smp.integrate((smp.exp(x))/smp.sqrt((smp.exp(2*x))+9),(x,0,smp.log(4)))"
   ]
  },
  {
   "cell_type": "code",
   "execution_count": 116,
   "id": "2822900e",
   "metadata": {},
   "outputs": [
    {
     "data": {
      "text/latex": [
       "$\\displaystyle x$"
      ],
      "text/plain": [
       "x"
      ]
     },
     "execution_count": 116,
     "metadata": {},
     "output_type": "execute_result"
    }
   ],
   "source": [
    "t = smp.symbols(\"x\")\n",
    "t"
   ]
  },
  {
   "cell_type": "code",
   "execution_count": 117,
   "id": "09f272bd",
   "metadata": {},
   "outputs": [
    {
     "data": {
      "text/latex": [
       "$\\displaystyle x^{10} e^{x}$"
      ],
      "text/plain": [
       "x**10*exp(x)"
      ]
     },
     "execution_count": 117,
     "metadata": {},
     "output_type": "execute_result"
    }
   ],
   "source": [
    "x**10*smp.exp(x)"
   ]
  },
  {
   "cell_type": "code",
   "execution_count": 121,
   "id": "6f05c789",
   "metadata": {},
   "outputs": [
    {
     "data": {
      "text/latex": [
       "$\\displaystyle \\left(x^{10} - 10 x^{9} + 90 x^{8} - 720 x^{7} + 5040 x^{6} - 30240 x^{5} + 151200 x^{4} - 604800 x^{3} + 1814400 x^{2} - 3628800 x + 3628800\\right) e^{x} - 1334961 e$"
      ],
      "text/plain": [
       "(x**10 - 10*x**9 + 90*x**8 - 720*x**7 + 5040*x**6 - 30240*x**5 + 151200*x**4 - 604800*x**3 + 1814400*x**2 - 3628800*x + 3628800)*exp(x) - 1334961*E"
      ]
     },
     "execution_count": 121,
     "metadata": {},
     "output_type": "execute_result"
    }
   ],
   "source": [
    "# integrate the function w.r.t x where the lower limit is 0 and the upper limit is t\n",
    "smp.integrate((x**10*smp.exp(x)), (x,1,t))"
   ]
  },
  {
   "cell_type": "markdown",
   "id": "09add911",
   "metadata": {},
   "source": [
    "## Improper Integrals"
   ]
  },
  {
   "cell_type": "code",
   "execution_count": 125,
   "id": "38aa3f5a",
   "metadata": {},
   "outputs": [
    {
     "data": {
      "text/latex": [
       "$\\displaystyle \\frac{16 \\operatorname{atan}{\\left(x \\right)}}{x^{2} + 1}$"
      ],
      "text/plain": [
       "16*atan(x)/(x**2 + 1)"
      ]
     },
     "execution_count": 125,
     "metadata": {},
     "output_type": "execute_result"
    }
   ],
   "source": [
    "((16*smp.atan(x))/(1 + x**2))"
   ]
  },
  {
   "cell_type": "code",
   "execution_count": 126,
   "id": "32bf2fc2",
   "metadata": {},
   "outputs": [
    {
     "data": {
      "text/latex": [
       "$\\displaystyle 2 \\pi^{2}$"
      ],
      "text/plain": [
       "2*pi**2"
      ]
     },
     "execution_count": 126,
     "metadata": {},
     "output_type": "execute_result"
    }
   ],
   "source": [
    "# integrate the function w.r.t x where the lower limit is 0 and the upper limit is ∞\n",
    "smp.integrate(((16*smp.atan(x))/(1 + x**2)), (x,0,smp.oo))"
   ]
  },
  {
   "cell_type": "markdown",
   "id": "3a33c790",
   "metadata": {},
   "source": [
    "## Sequences and Series\n",
    "Use `.doit()` to calculate the value."
   ]
  },
  {
   "cell_type": "code",
   "execution_count": 127,
   "id": "b4b89508",
   "metadata": {},
   "outputs": [
    {
     "data": {
      "text/latex": [
       "$\\displaystyle n$"
      ],
      "text/plain": [
       "n"
      ]
     },
     "execution_count": 127,
     "metadata": {},
     "output_type": "execute_result"
    }
   ],
   "source": [
    "n = smp.symbols(\"n\")\n",
    "n"
   ]
  },
  {
   "cell_type": "code",
   "execution_count": 129,
   "id": "4a6e4877",
   "metadata": {},
   "outputs": [
    {
     "data": {
      "text/latex": [
       "$\\displaystyle \\sum_{n=0}^{\\infty} 6 \\cdot 4^{- n}$"
      ],
      "text/plain": [
       "Sum(6/4**n, (n, 0, oo))"
      ]
     },
     "execution_count": 129,
     "metadata": {},
     "output_type": "execute_result"
    }
   ],
   "source": [
    "smp.Sum((6 / 4**n), (n,0,smp.oo))"
   ]
  },
  {
   "cell_type": "code",
   "execution_count": 130,
   "id": "5c03bbc0",
   "metadata": {},
   "outputs": [
    {
     "data": {
      "text/latex": [
       "$\\displaystyle 8$"
      ],
      "text/plain": [
       "8"
      ]
     },
     "execution_count": 130,
     "metadata": {},
     "output_type": "execute_result"
    }
   ],
   "source": [
    "# calculate the Summation of the function which starts at the index n = 0 till n = ∞\n",
    "smp.Sum((6 / 4**n), (n,0,smp.oo)).doit()"
   ]
  },
  {
   "cell_type": "code",
   "execution_count": 134,
   "id": "2c6d595c",
   "metadata": {},
   "outputs": [
    {
     "data": {
      "text/latex": [
       "$\\displaystyle \\sum_{n=0}^{\\infty} 2^{n + 1} \\cdot 5^{- n}$"
      ],
      "text/plain": [
       "Sum(2**(n + 1)/5**n, (n, 0, oo))"
      ]
     },
     "execution_count": 134,
     "metadata": {},
     "output_type": "execute_result"
    }
   ],
   "source": [
    "smp.Sum((2**(n+1)/5**n),(n,0,smp.oo))"
   ]
  },
  {
   "cell_type": "code",
   "execution_count": 135,
   "id": "24fd955b",
   "metadata": {
    "scrolled": true
   },
   "outputs": [
    {
     "data": {
      "text/latex": [
       "$\\displaystyle \\frac{10}{3}$"
      ],
      "text/plain": [
       "10/3"
      ]
     },
     "execution_count": 135,
     "metadata": {},
     "output_type": "execute_result"
    }
   ],
   "source": [
    "# calculate the Summation of the function which starts at the index n = 0 till n = ∞\n",
    "smp.Sum((2**(n+1)/5**n),(n,0,smp.oo)).doit()"
   ]
  },
  {
   "cell_type": "code",
   "execution_count": 143,
   "id": "efff5b10",
   "metadata": {},
   "outputs": [
    {
     "data": {
      "text/latex": [
       "$\\displaystyle \\sum_{n=1}^{\\infty} \\frac{\\operatorname{atan}{\\left(n \\right)}}{n^{1.1}}$"
      ],
      "text/plain": [
       "Sum(atan(n)/n**1.1, (n, 1, oo))"
      ]
     },
     "execution_count": 143,
     "metadata": {},
     "output_type": "execute_result"
    }
   ],
   "source": [
    "smp.Sum((smp.atan(n) / n**1.1),(n,1,smp.oo))"
   ]
  },
  {
   "cell_type": "code",
   "execution_count": 142,
   "id": "59d7da5b",
   "metadata": {},
   "outputs": [
    {
     "data": {
      "text/latex": [
       "$\\displaystyle \\sum_{n=1}^{\\infty} \\frac{\\operatorname{atan}{\\left(n \\right)}}{n^{1.1}}$"
      ],
      "text/plain": [
       "Sum(atan(n)/n**1.1, (n, 1, oo))"
      ]
     },
     "execution_count": 142,
     "metadata": {},
     "output_type": "execute_result"
    }
   ],
   "source": [
    "# calculate the Summation of the function which starts at the index n = 1 till n = ∞\n",
    "smp.Sum((smp.atan(n) / n**1.1),(n,1,smp.oo)).doit() # Note: doesn't work so we'll use approximation method"
   ]
  },
  {
   "cell_type": "code",
   "execution_count": 144,
   "id": "eee93c9f",
   "metadata": {},
   "outputs": [
    {
     "data": {
      "text/latex": [
       "$\\displaystyle 15.3028821020457$"
      ],
      "text/plain": [
       "15.3028821020457"
      ]
     },
     "execution_count": 144,
     "metadata": {},
     "output_type": "execute_result"
    }
   ],
   "source": [
    "# calculate the Summation of the function which starts at the index n = 1 till n = ∞\n",
    "smp.Sum((smp.atan(n) / n**1.1),(n,1,smp.oo)).n() # Evaluate the given formula to an accuracy of *n* digits."
   ]
  },
  {
   "cell_type": "code",
   "execution_count": 147,
   "id": "15ac6984",
   "metadata": {},
   "outputs": [
    {
     "data": {
      "text/latex": [
       "$\\displaystyle \\sum_{n=1}^{\\infty} \\frac{\\cos{\\left(n \\right)} + 1}{n}$"
      ],
      "text/plain": [
       "Sum((cos(n) + 1)/n, (n, 1, oo))"
      ]
     },
     "execution_count": 147,
     "metadata": {},
     "output_type": "execute_result"
    }
   ],
   "source": [
    "smp.Sum(((1 + smp.cos(n))/n),(n,1,smp.oo))"
   ]
  },
  {
   "cell_type": "code",
   "execution_count": 151,
   "id": "d5b56a9e",
   "metadata": {},
   "outputs": [
    {
     "data": {
      "text/latex": [
       "$\\displaystyle \\sum_{n=1}^{\\infty} \\frac{\\cos{\\left(n \\right)} + 1}{n^{2}}$"
      ],
      "text/plain": [
       "Sum((cos(n) + 1)/n**2, (n, 1, oo))"
      ]
     },
     "execution_count": 151,
     "metadata": {},
     "output_type": "execute_result"
    }
   ],
   "source": [
    "smp.Sum(((1 + smp.cos(n))/n**2),(n,1,smp.oo)).doit()"
   ]
  },
  {
   "cell_type": "code",
   "execution_count": 152,
   "id": "d41680a0",
   "metadata": {},
   "outputs": [
    {
     "data": {
      "text/latex": [
       "$\\displaystyle 1.969$"
      ],
      "text/plain": [
       "1.969"
      ]
     },
     "execution_count": 152,
     "metadata": {},
     "output_type": "execute_result"
    }
   ],
   "source": [
    "# calculate the Summation of the function which starts at the index n = 1 till n = ∞\n",
    "smp.Sum(((1 + smp.cos(n))/n**2),(n,1,smp.oo)).n()"
   ]
  },
  {
   "cell_type": "code",
   "execution_count": null,
   "id": "22e39e92",
   "metadata": {},
   "outputs": [],
   "source": []
  },
  {
   "cell_type": "markdown",
   "id": "79e5db9b",
   "metadata": {},
   "source": [
    "---"
   ]
  },
  {
   "cell_type": "markdown",
   "id": "db710972",
   "metadata": {},
   "source": [
    "### Solving a problem"
   ]
  },
  {
   "cell_type": "code",
   "execution_count": 58,
   "id": "e89bbf2f",
   "metadata": {},
   "outputs": [],
   "source": [
    "x = smp.symbols(\"x\")"
   ]
  },
  {
   "cell_type": "code",
   "execution_count": 59,
   "id": "0939edc0",
   "metadata": {},
   "outputs": [
    {
     "data": {
      "text/latex": [
       "$\\displaystyle x$"
      ],
      "text/plain": [
       "x"
      ]
     },
     "execution_count": 59,
     "metadata": {},
     "output_type": "execute_result"
    }
   ],
   "source": [
    "x"
   ]
  },
  {
   "cell_type": "code",
   "execution_count": 69,
   "id": "9b33f8e3",
   "metadata": {},
   "outputs": [],
   "source": [
    "y = 0.01* x**2 + 0.5*x + 100"
   ]
  },
  {
   "cell_type": "code",
   "execution_count": 70,
   "id": "848f9c41",
   "metadata": {},
   "outputs": [
    {
     "data": {
      "text/latex": [
       "$\\displaystyle 0.01 x^{2} + 0.5 x + 100$"
      ],
      "text/plain": [
       "0.01*x**2 + 0.5*x + 100"
      ]
     },
     "execution_count": 70,
     "metadata": {},
     "output_type": "execute_result"
    }
   ],
   "source": [
    "y"
   ]
  },
  {
   "cell_type": "code",
   "execution_count": 71,
   "id": "b64fad60",
   "metadata": {},
   "outputs": [
    {
     "data": {
      "text/latex": [
       "$\\displaystyle 100$"
      ],
      "text/plain": [
       "100"
      ]
     },
     "execution_count": 71,
     "metadata": {},
     "output_type": "execute_result"
    }
   ],
   "source": [
    "t0 = y.subs(x,0)\n",
    "t0"
   ]
  },
  {
   "cell_type": "code",
   "execution_count": 72,
   "id": "e431c937",
   "metadata": {},
   "outputs": [
    {
     "data": {
      "text/latex": [
       "$\\displaystyle 105.31$"
      ],
      "text/plain": [
       "105.310000000000"
      ]
     },
     "execution_count": 72,
     "metadata": {},
     "output_type": "execute_result"
    }
   ],
   "source": [
    "t9 = y.subs(x,9)\n",
    "t9"
   ]
  },
  {
   "cell_type": "code",
   "execution_count": 73,
   "id": "9b38c67f",
   "metadata": {},
   "outputs": [
    {
     "data": {
      "text/latex": [
       "$\\displaystyle 106.0$"
      ],
      "text/plain": [
       "106.000000000000"
      ]
     },
     "execution_count": 73,
     "metadata": {},
     "output_type": "execute_result"
    }
   ],
   "source": [
    "t10 = y.subs(x,10)\n",
    "t10"
   ]
  },
  {
   "cell_type": "code",
   "execution_count": 74,
   "id": "d58e8bfd",
   "metadata": {},
   "outputs": [
    {
     "data": {
      "text/latex": [
       "$\\displaystyle 106.71$"
      ],
      "text/plain": [
       "106.710000000000"
      ]
     },
     "execution_count": 74,
     "metadata": {},
     "output_type": "execute_result"
    }
   ],
   "source": [
    "t11 = y.subs(x,11)\n",
    "t11"
   ]
  },
  {
   "cell_type": "code",
   "execution_count": 75,
   "id": "555426b4",
   "metadata": {},
   "outputs": [
    {
     "data": {
      "text/latex": [
       "$\\displaystyle 114.0$"
      ],
      "text/plain": [
       "114.000000000000"
      ]
     },
     "execution_count": 75,
     "metadata": {},
     "output_type": "execute_result"
    }
   ],
   "source": [
    "t20 = y.subs(x,20)\n",
    "t20"
   ]
  },
  {
   "cell_type": "code",
   "execution_count": 78,
   "id": "129d8e39",
   "metadata": {},
   "outputs": [
    {
     "data": {
      "text/latex": [
       "$\\displaystyle 0.02 x + 0.5$"
      ],
      "text/plain": [
       "0.02*x + 0.5"
      ]
     },
     "execution_count": 78,
     "metadata": {},
     "output_type": "execute_result"
    }
   ],
   "source": [
    "# rate of change\n",
    "rate_of_change = smp.diff(y, x)\n",
    "rate_of_change "
   ]
  },
  {
   "cell_type": "code",
   "execution_count": 79,
   "id": "7c7cb023",
   "metadata": {},
   "outputs": [
    {
     "data": {
      "text/latex": [
       "$\\displaystyle 0.7$"
      ],
      "text/plain": [
       "0.700000000000000"
      ]
     },
     "execution_count": 79,
     "metadata": {},
     "output_type": "execute_result"
    }
   ],
   "source": [
    "# water tank at 10 min\n",
    "rate_of_change.subs(x,10)"
   ]
  },
  {
   "cell_type": "code",
   "execution_count": 80,
   "id": "d82ebb47",
   "metadata": {},
   "outputs": [
    {
     "name": "stdout",
     "output_type": "stream",
     "text": [
      "The the water in the tank is changing at a speed of 0.700000000000000 gallons at time t = 10\n"
     ]
    }
   ],
   "source": [
    "print(f\"The the water in the tank is changing at a speed of {rate_of_change.subs(x,10)} gallons at time t = 10\")"
   ]
  },
  {
   "cell_type": "markdown",
   "id": "d18715af",
   "metadata": {},
   "source": [
    "---"
   ]
  },
  {
   "cell_type": "markdown",
   "id": "8b7c94b9",
   "metadata": {},
   "source": [
    "# <center>College Calculus 2</center>"
   ]
  },
  {
   "cell_type": "code",
   "execution_count": 157,
   "id": "41f615f9",
   "metadata": {},
   "outputs": [],
   "source": [
    "# import libraries\n",
    "import numpy as np\n",
    "import pandas as pd\n",
    "import sympy as smp"
   ]
  },
  {
   "cell_type": "markdown",
   "id": "ed4b33d8",
   "metadata": {},
   "source": [
    "## Vectors and Geometry"
   ]
  },
  {
   "cell_type": "code",
   "execution_count": 158,
   "id": "7065477a",
   "metadata": {},
   "outputs": [],
   "source": [
    "# defining symbols\n",
    "x, y, z, u_1, u_2, u_3, v_1, v_2, v_3, t = smp.symbols(\"x y z u_1 u_2 u_3 v_1 v_2 v_3 t\")"
   ]
  },
  {
   "cell_type": "markdown",
   "id": "0ca34951",
   "metadata": {},
   "source": [
    "### Addition and Multiplication"
   ]
  },
  {
   "cell_type": "code",
   "execution_count": 154,
   "id": "3bc7a8c1",
   "metadata": {},
   "outputs": [],
   "source": []
  },
  {
   "cell_type": "code",
   "execution_count": null,
   "id": "3b2bb850",
   "metadata": {},
   "outputs": [],
   "source": []
  },
  {
   "cell_type": "code",
   "execution_count": null,
   "id": "52b767bb",
   "metadata": {},
   "outputs": [],
   "source": []
  }
 ],
 "metadata": {
  "kernelspec": {
   "display_name": "Python 3 (ipykernel)",
   "language": "python",
   "name": "python3"
  },
  "language_info": {
   "codemirror_mode": {
    "name": "ipython",
    "version": 3
   },
   "file_extension": ".py",
   "mimetype": "text/x-python",
   "name": "python",
   "nbconvert_exporter": "python",
   "pygments_lexer": "ipython3",
   "version": "3.11.1"
  }
 },
 "nbformat": 4,
 "nbformat_minor": 5
}
