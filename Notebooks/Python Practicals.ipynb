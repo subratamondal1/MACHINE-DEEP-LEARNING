{
 "cells": [
  {
   "cell_type": "markdown",
   "id": "644ab22d-9274-472d-a100-ac2d32d0a4a9",
   "metadata": {},
   "source": [
    "# <center>PYTHON PRACTICALS</center>\n",
    "<center>Subrata Mondal | 190305105172</center>"
   ]
  },
  {
   "cell_type": "markdown",
   "id": "1c70a117-55bf-4651-af91-67b50ef5d128",
   "metadata": {},
   "source": [
    "# <center>Practical 1</center>\n",
    "---\n",
    "**Write a program to display the following information: Name, Address, Phone No.**"
   ]
  },
  {
   "cell_type": "code",
   "execution_count": 5,
   "id": "27e2158e-a559-4601-833b-a0abea12a1ca",
   "metadata": {},
   "outputs": [],
   "source": [
    "def solution1():\n",
    "    name = input(\"Your name : \")\n",
    "    address = input(\"Your Address : \")\n",
    "    phone = int(input(\"Your Phone no : \"))\n",
    "    result = f\"\"\"Name : {name}\\nAddress: {address}\\nPhone: {phone}\\n\"\"\"\n",
    "    return result"
   ]
  },
  {
   "cell_type": "code",
   "execution_count": 6,
   "id": "6a417fa0-553f-4611-8637-a0d031d8311c",
   "metadata": {},
   "outputs": [
    {
     "name": "stdin",
     "output_type": "stream",
     "text": [
      "Your name :  Subrata Mondal\n",
      "Your Address :  Kolkata, WB\n",
      "Your Phone no :  6294505807\n"
     ]
    },
    {
     "name": "stdout",
     "output_type": "stream",
     "text": [
      "Name : Subrata Mondal\n",
      "Address: Kolkata, WB\n",
      "Phone: 6294505807\n",
      "\n"
     ]
    }
   ],
   "source": [
    "print(solution1())"
   ]
  },
  {
   "cell_type": "markdown",
   "id": "15a02c44-667d-4c7c-8afd-a9cc3665c1f3",
   "metadata": {},
   "source": [
    "# <center>Practical 2</center>\n",
    "---\n",
    "**Write a program to read two numbers from the keyboard and display the larger one on the screen.**"
   ]
  },
  {
   "cell_type": "code",
   "execution_count": 28,
   "id": "696059b9-e26d-4be1-a68b-d4d1cc066616",
   "metadata": {},
   "outputs": [
    {
     "name": "stdin",
     "output_type": "stream",
     "text": [
      "Number 1:  66\n",
      "Number 2:  69\n"
     ]
    },
    {
     "name": "stdout",
     "output_type": "stream",
     "text": [
      "69\n"
     ]
    }
   ],
   "source": [
    "def solution2():\n",
    "    no1 = int(input(\"Number 1: \"))\n",
    "    no2 = int(input(\"Number 2: \"))\n",
    "    \n",
    "    if no1 > no2:\n",
    "        return no1\n",
    "    return no2\n",
    "\n",
    "print(solution2())"
   ]
  },
  {
   "cell_type": "markdown",
   "id": "c7c52522-abdf-4fe6-bf2c-5501eded2ba6",
   "metadata": {},
   "source": [
    "# <center>Practical 3</center>\n",
    "---\n",
    "**Write a program to find if a given number is prime or not.**"
   ]
  },
  {
   "cell_type": "code",
   "execution_count": 27,
   "id": "11aa8212-5c54-4842-ad0d-dba9298df6f6",
   "metadata": {},
   "outputs": [
    {
     "name": "stdout",
     "output_type": "stream",
     "text": [
      "is PRIME\n"
     ]
    }
   ],
   "source": [
    "def solution3(N:int):\n",
    "    for outer in range(2,N):\n",
    "        if N % outer == 0:\n",
    "            return \"not PRIME\"\n",
    "    return \"is PRIME\"\n",
    "\n",
    "print(solution3(97))"
   ]
  },
  {
   "cell_type": "markdown",
   "id": "4aa672c7-0979-4289-97a8-8f89df5cf875",
   "metadata": {},
   "source": [
    "# <center>Practical 4</center>\n",
    "---\n",
    "**Write a function to swap values of a pair of integers.**"
   ]
  },
  {
   "cell_type": "code",
   "execution_count": 34,
   "id": "b34cffac-bbaf-4902-a56b-4bc15f0144c9",
   "metadata": {},
   "outputs": [
    {
     "name": "stdout",
     "output_type": "stream",
     "text": [
      "(6, 9)\n"
     ]
    }
   ],
   "source": [
    "def solution4(A:int, B:int):\n",
    "    A,B = B,A\n",
    "    return A,B\n",
    "\n",
    "print(solution4(9,6))"
   ]
  },
  {
   "cell_type": "markdown",
   "id": "3fd44c37-c94c-4aff-9efa-991dbfa1040b",
   "metadata": {},
   "source": [
    "# <center>Practical 5</center>\n",
    "---\n",
    "**Write a program to find N! using function.**"
   ]
  },
  {
   "cell_type": "code",
   "execution_count": 50,
   "id": "57068238-b750-4fbb-b3fa-1720daa378ad",
   "metadata": {},
   "outputs": [
    {
     "name": "stdout",
     "output_type": "stream",
     "text": [
      "120\n"
     ]
    }
   ],
   "source": [
    "def solution5(N:int):\n",
    "    result = 1\n",
    "    for i in range(N,0,-1):\n",
    "        result *= i\n",
    "    return result\n",
    "\n",
    "print(solution5(5))"
   ]
  },
  {
   "cell_type": "markdown",
   "id": "872fc96e-08f4-49be-b8ad-42d37aff8215",
   "metadata": {},
   "source": [
    "# <center>Practical 6</center>\n",
    "---\n",
    "**Write a program to print Fibonacci series of \"n\" numbers, where \"n\" is given by the programmer.**"
   ]
  },
  {
   "cell_type": "code",
   "execution_count": 73,
   "id": "0d19c50a-0720-4723-9492-8036a7d04568",
   "metadata": {},
   "outputs": [
    {
     "name": "stdin",
     "output_type": "stream",
     "text": [
      "Enter a number:  7\n"
     ]
    },
    {
     "name": "stdout",
     "output_type": "stream",
     "text": [
      "0\n",
      "1\n",
      "1\n",
      "2\n",
      "3\n",
      "5\n",
      "8\n",
      "13\n"
     ]
    }
   ],
   "source": [
    "N = int(input(\"Enter a number: \"))\n",
    "def solution6(N):\n",
    "    if N == 0:\n",
    "        return 0\n",
    "    elif N == 1:\n",
    "        return 1\n",
    "    else:\n",
    "        return solution6(N-1) + solution6(N-2)\n",
    "\n",
    "for i in range(N+1):\n",
    "    print(solution6(i))\n"
   ]
  },
  {
   "cell_type": "markdown",
   "id": "837b4d0d-aaaa-446c-affe-5126137fd6ac",
   "metadata": {},
   "source": [
    "# <center>Practical 7</center>\n",
    "---\n",
    "**Write a program to read a set of numbers in an array and find the largest of them.**"
   ]
  },
  {
   "cell_type": "code",
   "execution_count": 1,
   "id": "dc894bf9-7b8e-4ad6-8315-3ff352491ae3",
   "metadata": {},
   "outputs": [
    {
     "name": "stdout",
     "output_type": "stream",
     "text": [
      "6\n"
     ]
    }
   ],
   "source": [
    "def solution7(S:set):\n",
    "    # stores each element in this store list\n",
    "    store = list()\n",
    "    \n",
    "    for i in S:\n",
    "        store.append(i)\n",
    "    return max(store)\n",
    "\n",
    "    \n",
    "S = {3,4,5,6}\n",
    "print(solution7(S))"
   ]
  },
  {
   "cell_type": "markdown",
   "id": "fb29baf0-2fb0-47a1-bed0-a6c72d309c1d",
   "metadata": {},
   "source": [
    "# <center>Practical 8</center>\n",
    "---\n",
    "**Write a program to sort a list of names in ascending order.**"
   ]
  },
  {
   "cell_type": "code",
   "execution_count": 19,
   "id": "6c0889e2-6c59-4596-9999-68dcf09ecffc",
   "metadata": {},
   "outputs": [
    {
     "name": "stdout",
     "output_type": "stream",
     "text": [
      "['a', 'a', 'b', 'r', 's', 't', 'u']\n"
     ]
    }
   ],
   "source": [
    "def solution8(L:list):\n",
    "    # stores each element in this store list\n",
    "    store = []\n",
    "    \n",
    "    for i in L:\n",
    "        i = str(i)\n",
    "        store.append(i.lower())       \n",
    "    return sorted(store)\n",
    "\n",
    "L = [\"S\",\"u\",\"b\",\"r\",\"a\",\"t\",\"a\"]\n",
    "print(solution8(L))"
   ]
  },
  {
   "cell_type": "markdown",
   "id": "6733411c-194b-451d-a7e8-ddfa6faf4da0",
   "metadata": {},
   "source": [
    "# <center>Practical 9</center>\n",
    "---\n",
    "**Write a program to read a set of numbers from keyboard & find sum of all elements of the given array using a function.**\n"
   ]
  },
  {
   "cell_type": "code",
   "execution_count": 80,
   "id": "0db4ed4c-1540-4ae0-90e9-396e7ba8087b",
   "metadata": {},
   "outputs": [
    {
     "name": "stdin",
     "output_type": "stream",
     "text": [
      "Enter numbers separated by space:  9 19 29 39 49 59 69 79 89 99\n"
     ]
    },
    {
     "data": {
      "text/plain": [
       "540"
      ]
     },
     "execution_count": 80,
     "metadata": {},
     "output_type": "execute_result"
    }
   ],
   "source": [
    "def solution9():\n",
    "    # take user input\n",
    "    N = input(\"Enter numbers separated by space: \")\n",
    "    \n",
    "    # split them based on spaces\n",
    "    N = N.split(\" \")\n",
    "    \n",
    "    # store container\n",
    "    store = list()\n",
    "    \n",
    "    # convert datatype to int and store it in store\n",
    "    for i in N:\n",
    "        store.append(int(i))\n",
    "    \n",
    "    \n",
    "    result = 0\n",
    "    \n",
    "    # for every element in store, do summation\n",
    "    for i in store:\n",
    "        result += i\n",
    "    \n",
    "    # return result\n",
    "    return result\n",
    "    \n",
    "\n",
    "solution9()  "
   ]
  },
  {
   "cell_type": "markdown",
   "id": "e0160a2e-b89d-4941-aeb5-1a99cdd72a5f",
   "metadata": {},
   "source": [
    "# <center>Practical 10</center>\n",
    "---\n",
    "**Calculate area of different geometrical figures (`circle,rectangle,square,triangle`).**\n",
    "\n",
    "`Circle:`"
   ]
  },
  {
   "cell_type": "code",
   "execution_count": 14,
   "id": "3dfdf96e-9ea2-484c-be5b-c86b435b28f4",
   "metadata": {},
   "outputs": [
    {
     "name": "stdout",
     "output_type": "stream",
     "text": [
      "Area of circle with radius 3 is 28.259999999999998\n"
     ]
    }
   ],
   "source": [
    "def circle(radius:float):\n",
    "    pi = 3.14\n",
    "    \n",
    "    return pi * radius * radius\n",
    "\n",
    "radius = 3\n",
    "\n",
    "print(f\"Area of circle with radius {radius} is {circle(radius)}\")"
   ]
  },
  {
   "cell_type": "markdown",
   "id": "1e0e7c95-fbb8-4b10-880a-6e1e6364374a",
   "metadata": {},
   "source": [
    "`Rectangle:`"
   ]
  },
  {
   "cell_type": "code",
   "execution_count": 15,
   "id": "451e3743-04cd-4ada-b1c3-cd610728ec51",
   "metadata": {},
   "outputs": [
    {
     "name": "stdout",
     "output_type": "stream",
     "text": [
      "Area of rectangle with length 4 & width 5 is 20\n"
     ]
    }
   ],
   "source": [
    "def rectangle(length:float, width:float):\n",
    "    return length * width\n",
    "\n",
    "length = 4\n",
    "width = 5\n",
    "\n",
    "print(f\"Area of rectangle with length {length} & width {width} is {rectangle(length,width)}\")"
   ]
  },
  {
   "cell_type": "markdown",
   "id": "c5413332-17ad-4060-a9f9-005675605014",
   "metadata": {},
   "source": [
    "`Square:`"
   ]
  },
  {
   "cell_type": "code",
   "execution_count": 20,
   "id": "ce95bb1b-26be-44a3-88bb-6672e61563a8",
   "metadata": {},
   "outputs": [
    {
     "name": "stdout",
     "output_type": "stream",
     "text": [
      "Area of square with side 4 is 16\n"
     ]
    }
   ],
   "source": [
    "def square(side:float):\n",
    "    return side * side\n",
    "\n",
    "side = 4\n",
    "print(f\"Area of square with side {side} is {square(side)}\")"
   ]
  },
  {
   "cell_type": "markdown",
   "id": "50ad2eb3-5083-41a0-82f1-ab0d8f67a510",
   "metadata": {},
   "source": [
    "`Triangle:`"
   ]
  },
  {
   "cell_type": "code",
   "execution_count": 21,
   "id": "d17cacef-f974-494e-a21f-bf47c39353a5",
   "metadata": {},
   "outputs": [
    {
     "name": "stdout",
     "output_type": "stream",
     "text": [
      "Area of triangle with base 4 & height 6 is 12.0\n"
     ]
    }
   ],
   "source": [
    "def triangle(base:float, height:float):\n",
    "    return base * height * 1/2\n",
    "\n",
    "base = 4\n",
    "height = 6\n",
    "\n",
    "print(f\"Area of triangle with base {base} & height {height} is {triangle(base,height)}\")"
   ]
  },
  {
   "cell_type": "code",
   "execution_count": null,
   "id": "8270ef71-cbd5-4ba3-b34f-30a6c8ad8649",
   "metadata": {},
   "outputs": [],
   "source": []
  },
  {
   "cell_type": "code",
   "execution_count": 4,
   "id": "7eb3fdfd-4a48-4987-858f-463710c7633b",
   "metadata": {},
   "outputs": [],
   "source": [
    "import numpy as np"
   ]
  },
  {
   "cell_type": "code",
   "execution_count": 6,
   "id": "6b856ba3-9a7b-4eb5-90ee-38fc30442c8f",
   "metadata": {},
   "outputs": [
    {
     "name": "stdout",
     "output_type": "stream",
     "text": [
      "1 0 0 0 0 0 0 0 0 0 1 \n",
      "0 1 0 0 0 0 0 0 0 1 0 \n",
      "0 0 1 0 0 0 0 0 1 0 0 \n",
      "0 0 0 1 0 0 0 1 0 0 0 \n",
      "0 0 0 0 1 0 1 0 0 0 0 \n",
      "0 0 0 0 0 1 0 0 0 0 0 \n",
      "0 0 0 0 1 0 1 0 0 0 0 \n",
      "0 0 0 1 0 0 0 1 0 0 0 \n",
      "0 0 1 0 0 0 0 0 1 0 0 \n",
      "0 1 0 0 0 0 0 0 0 1 0 \n",
      "1 0 0 0 0 0 0 0 0 0 1 \n"
     ]
    }
   ],
   "source": [
    "n = 11\n",
    "star = np.zeros((n,n),dtype =int)\n",
    "\n",
    "for outer in np.arange(n):\n",
    "    for inner in np.arange(n):\n",
    "        if inner == outer or inner + outer == n-1:\n",
    "            star[outer][inner] = 1\n",
    "        else:\n",
    "            star[outer][inner] = 0\n",
    " \n",
    "for outer in np.arange(n):\n",
    "    for inner in np.arange(n):\n",
    "        print(star[outer][inner],end=\" \")\n",
    "    print()\n",
    "    "
   ]
  },
  {
   "cell_type": "markdown",
   "id": "3730bfea-44bb-4cae-8b85-ededb6efc2d2",
   "metadata": {},
   "source": [
    "---"
   ]
  },
  {
   "cell_type": "code",
   "execution_count": null,
   "id": "62d25c60-119f-4050-9979-a181150f2d4f",
   "metadata": {},
   "outputs": [],
   "source": []
  }
 ],
 "metadata": {
  "kernelspec": {
   "display_name": "Python 3 (ipykernel)",
   "language": "python",
   "name": "python3"
  },
  "language_info": {
   "codemirror_mode": {
    "name": "ipython",
    "version": 3
   },
   "file_extension": ".py",
   "mimetype": "text/x-python",
   "name": "python",
   "nbconvert_exporter": "python",
   "pygments_lexer": "ipython3",
   "version": "3.11.1"
  }
 },
 "nbformat": 4,
 "nbformat_minor": 5
}
