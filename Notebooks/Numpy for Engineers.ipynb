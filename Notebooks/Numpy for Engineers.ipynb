{
 "cells": [
  {
   "cell_type": "markdown",
   "id": "ac84cf2c-0767-40cb-8d10-1d1c48bd1ed3",
   "metadata": {
    "tags": []
   },
   "source": [
    "# <center>NumPy for Engineers</center>\n",
    "---"
   ]
  },
  {
   "cell_type": "code",
   "execution_count": 43,
   "id": "d46b6153-78c8-45c7-b915-aed01c9fb108",
   "metadata": {},
   "outputs": [],
   "source": [
    "# import libraries\n",
    "import numpy as np\n",
    "import matplotlib.pyplot as plt\n",
    "import seaborn as sns\n",
    "sns.set()"
   ]
  },
  {
   "cell_type": "markdown",
   "id": "66207458-351f-4e59-955d-046b39075d30",
   "metadata": {
    "tags": []
   },
   "source": [
    "# Creating NumPy Arrays"
   ]
  },
  {
   "cell_type": "code",
   "execution_count": 44,
   "id": "9859c466-9065-4ac0-9870-f3d4ff81f14b",
   "metadata": {},
   "outputs": [
    {
     "data": {
      "text/plain": [
       "array([1, 2, 3, 4, 5])"
      ]
     },
     "execution_count": 44,
     "metadata": {},
     "output_type": "execute_result"
    }
   ],
   "source": [
    "# Create an array from list\n",
    "a1 = np.array([1,2,3,4,5])\n",
    "a1"
   ]
  },
  {
   "cell_type": "code",
   "execution_count": 45,
   "id": "0f1b8ccf-2ef6-4ecd-9aae-6392dbd8dd48",
   "metadata": {},
   "outputs": [
    {
     "data": {
      "text/plain": [
       "array([0, 0, 0, 0, 0, 0, 0, 0, 0, 0])"
      ]
     },
     "execution_count": 45,
     "metadata": {},
     "output_type": "execute_result"
    }
   ],
   "source": [
    "# Return a new array of given shape and type, filled with zeros.\n",
    "a2 = np.zeros((10,), dtype=\"int\")\n",
    "a2"
   ]
  },
  {
   "cell_type": "code",
   "execution_count": 46,
   "id": "cefd24ab-fab7-42dd-89f1-9d811c4fa2e4",
   "metadata": {},
   "outputs": [
    {
     "data": {
      "text/plain": [
       "array([1, 1, 1, 1, 1, 1, 1, 1, 1, 1])"
      ]
     },
     "execution_count": 46,
     "metadata": {},
     "output_type": "execute_result"
    }
   ],
   "source": [
    "# Return a new array of given shape and type, filled with ones.\n",
    "a3 = np.ones((10,), dtype=\"int\")\n",
    "a3"
   ]
  },
  {
   "cell_type": "code",
   "execution_count": 47,
   "id": "6ed36521-e34a-41f2-9b91-68f656d6ecef",
   "metadata": {},
   "outputs": [
    {
     "data": {
      "text/plain": [
       "array([0.7064633 , 0.83059315, 0.52651713, 0.46938386, 0.01732719,\n",
       "       0.42537333, 0.16045218, 0.19894152, 0.10121571, 0.21961786])"
      ]
     },
     "execution_count": 47,
     "metadata": {},
     "output_type": "execute_result"
    }
   ],
   "source": [
    "# Return random floats in the half-open interval [0.0, 1.0)\n",
    "a4 = np.random.random((10,))\n",
    "a4"
   ]
  },
  {
   "cell_type": "code",
   "execution_count": 48,
   "id": "63add082-a5ef-4040-98c6-fa14cc0f4911",
   "metadata": {},
   "outputs": [
    {
     "data": {
      "text/plain": [
       "array([-1.68245528,  2.19179792, -0.92802548, -0.50837562,  0.51429283,\n",
       "        0.4429078 , -1.47417096, -0.48306077,  0.39747716,  0.743659  ])"
      ]
     },
     "execution_count": 48,
     "metadata": {},
     "output_type": "execute_result"
    }
   ],
   "source": [
    "# Return a sample (or samples) from the \"standard normal\" or gaussian distribution.\n",
    "a5 = np.random.randn(10)\n",
    "a5"
   ]
  },
  {
   "cell_type": "code",
   "execution_count": 49,
   "id": "6c0553ef-6b8c-4ca6-aa84-94523106c36f",
   "metadata": {},
   "outputs": [
    {
     "data": {
      "text/plain": [
       "array([ 0.        ,  0.20408163,  0.40816327,  0.6122449 ,  0.81632653,\n",
       "        1.02040816,  1.2244898 ,  1.42857143,  1.63265306,  1.83673469,\n",
       "        2.04081633,  2.24489796,  2.44897959,  2.65306122,  2.85714286,\n",
       "        3.06122449,  3.26530612,  3.46938776,  3.67346939,  3.87755102,\n",
       "        4.08163265,  4.28571429,  4.48979592,  4.69387755,  4.89795918,\n",
       "        5.10204082,  5.30612245,  5.51020408,  5.71428571,  5.91836735,\n",
       "        6.12244898,  6.32653061,  6.53061224,  6.73469388,  6.93877551,\n",
       "        7.14285714,  7.34693878,  7.55102041,  7.75510204,  7.95918367,\n",
       "        8.16326531,  8.36734694,  8.57142857,  8.7755102 ,  8.97959184,\n",
       "        9.18367347,  9.3877551 ,  9.59183673,  9.79591837, 10.        ])"
      ]
     },
     "execution_count": 49,
     "metadata": {},
     "output_type": "execute_result"
    }
   ],
   "source": [
    "# Return evenly spaced numbers over a specified interval. (start, stop, quantity)\n",
    "a6 = np.linspace(start=0, stop=10, num=50)\n",
    "a6"
   ]
  },
  {
   "cell_type": "code",
   "execution_count": 50,
   "id": "72b3522a-51ed-4074-9acb-138455afc918",
   "metadata": {},
   "outputs": [
    {
     "data": {
      "text/plain": [
       "array([0. , 0.1, 0.2, 0.3, 0.4, 0.5, 0.6, 0.7, 0.8, 0.9, 1. , 1.1, 1.2,\n",
       "       1.3, 1.4, 1.5, 1.6, 1.7, 1.8, 1.9, 2. , 2.1, 2.2, 2.3, 2.4, 2.5,\n",
       "       2.6, 2.7, 2.8, 2.9, 3. , 3.1, 3.2, 3.3, 3.4, 3.5, 3.6, 3.7, 3.8,\n",
       "       3.9, 4. , 4.1, 4.2, 4.3, 4.4, 4.5, 4.6, 4.7, 4.8, 4.9, 5. , 5.1,\n",
       "       5.2, 5.3, 5.4, 5.5, 5.6, 5.7, 5.8, 5.9, 6. , 6.1, 6.2, 6.3, 6.4,\n",
       "       6.5, 6.6, 6.7, 6.8, 6.9, 7. , 7.1, 7.2, 7.3, 7.4, 7.5, 7.6, 7.7,\n",
       "       7.8, 7.9, 8. , 8.1, 8.2, 8.3, 8.4, 8.5, 8.6, 8.7, 8.8, 8.9, 9. ,\n",
       "       9.1, 9.2, 9.3, 9.4, 9.5, 9.6, 9.7, 9.8, 9.9])"
      ]
     },
     "execution_count": 50,
     "metadata": {},
     "output_type": "execute_result"
    }
   ],
   "source": [
    "# Return evenly spaced values within a given interval. (start, stop, space)\n",
    "a7 = np.arange(0, 10, 0.1)\n",
    "a7"
   ]
  },
  {
   "cell_type": "markdown",
   "id": "e337b0d8-f8fa-490c-b320-45f5323cad8f",
   "metadata": {
    "tags": []
   },
   "source": [
    "# Array Operations\n",
    "Does element-wise operations by default.\n",
    "\n",
    "[NumPy Mathematical functions](https://numpy.org/doc/stable/reference/routines.math.html)"
   ]
  },
  {
   "cell_type": "code",
   "execution_count": 51,
   "id": "ba08d0d0-4658-4459-8367-3742426ca6c2",
   "metadata": {},
   "outputs": [
    {
     "data": {
      "text/plain": [
       "array([1, 2, 3, 4, 5])"
      ]
     },
     "execution_count": 51,
     "metadata": {},
     "output_type": "execute_result"
    }
   ],
   "source": [
    "a1"
   ]
  },
  {
   "cell_type": "code",
   "execution_count": 52,
   "id": "3b1979c5-32fd-403b-b509-1c2780dc70a9",
   "metadata": {},
   "outputs": [
    {
     "data": {
      "text/plain": [
       "array([ 4,  8, 12, 16, 20])"
      ]
     },
     "execution_count": 52,
     "metadata": {},
     "output_type": "execute_result"
    }
   ],
   "source": [
    "# element-wise operations\n",
    "a1 * 4"
   ]
  },
  {
   "cell_type": "markdown",
   "id": "73ab518b-fa04-499d-b834-f416e04fc951",
   "metadata": {},
   "source": [
    "## Boolean Masking"
   ]
  },
  {
   "cell_type": "code",
   "execution_count": 53,
   "id": "65fbdcc5-d917-4eeb-b3cd-86f5678fd734",
   "metadata": {},
   "outputs": [
    {
     "data": {
      "text/plain": [
       "array([False, False, False,  True,  True])"
      ]
     },
     "execution_count": 53,
     "metadata": {},
     "output_type": "execute_result"
    }
   ],
   "source": [
    "# returns the index of the value that meets the boolean condition\n",
    "a1 > 3   "
   ]
  },
  {
   "cell_type": "code",
   "execution_count": 54,
   "id": "e80a933a-a3b2-4f70-b255-500177fa7458",
   "metadata": {},
   "outputs": [
    {
     "data": {
      "text/plain": [
       "array([4, 5])"
      ]
     },
     "execution_count": 54,
     "metadata": {},
     "output_type": "execute_result"
    }
   ],
   "source": [
    "# returns the value that meets the boolean condition\n",
    "a1[a1 > 3]"
   ]
  },
  {
   "cell_type": "code",
   "execution_count": 55,
   "id": "27e17ee7-a0d7-449d-9fde-9261094d2684",
   "metadata": {},
   "outputs": [
    {
     "name": "stdout",
     "output_type": "stream",
     "text": [
      "[1 2 3 4 5]\n"
     ]
    },
    {
     "data": {
      "text/plain": [
       "array([3.        , 2.5       , 2.33333333, 2.25      , 2.2       ])"
      ]
     },
     "execution_count": 55,
     "metadata": {},
     "output_type": "execute_result"
    }
   ],
   "source": [
    "# solving equations\n",
    "x = a1\n",
    "print(x)\n",
    "\n",
    "1/x + 2"
   ]
  },
  {
   "cell_type": "code",
   "execution_count": 56,
   "id": "c36ae564-9e45-4385-b65d-79be8cbf4f14",
   "metadata": {},
   "outputs": [
    {
     "name": "stdout",
     "output_type": "stream",
     "text": [
      "[ 0.          0.40816327  0.81632653  1.2244898   1.63265306  2.04081633\n",
      "  2.44897959  2.85714286  3.26530612  3.67346939  4.08163265  4.48979592\n",
      "  4.89795918  5.30612245  5.71428571  6.12244898  6.53061224  6.93877551\n",
      "  7.34693878  7.75510204  8.16326531  8.57142857  8.97959184  9.3877551\n",
      "  9.79591837 10.20408163 10.6122449  11.02040816 11.42857143 11.83673469\n",
      " 12.24489796 12.65306122 13.06122449 13.46938776 13.87755102 14.28571429\n",
      " 14.69387755 15.10204082 15.51020408 15.91836735 16.32653061 16.73469388\n",
      " 17.14285714 17.55102041 17.95918367 18.36734694 18.7755102  19.18367347\n",
      " 19.59183673 20.        ] \n",
      "\n",
      "[0.00000000e+00 1.66597251e-01 6.66389005e-01 1.49937526e+00\n",
      " 2.66555602e+00 4.16493128e+00 5.99750104e+00 8.16326531e+00\n",
      " 1.06622241e+01 1.34943773e+01 1.66597251e+01 2.01582674e+01\n",
      " 2.39900042e+01 2.81549354e+01 3.26530612e+01 3.74843815e+01\n",
      " 4.26488963e+01 4.81466056e+01 5.39775094e+01 6.01416077e+01\n",
      " 6.66389005e+01 7.34693878e+01 8.06330696e+01 8.81299459e+01\n",
      " 9.59600167e+01 1.04123282e+02 1.12619742e+02 1.21449396e+02\n",
      " 1.30612245e+02 1.40108288e+02 1.49937526e+02 1.60099958e+02\n",
      " 1.70595585e+02 1.81424406e+02 1.92586422e+02 2.04081633e+02\n",
      " 2.15910037e+02 2.28071637e+02 2.40566431e+02 2.53394419e+02\n",
      " 2.66555602e+02 2.80049979e+02 2.93877551e+02 3.08038317e+02\n",
      " 3.22532278e+02 3.37359434e+02 3.52519783e+02 3.68013328e+02\n",
      " 3.83840067e+02 4.00000000e+02] \n",
      "\n"
     ]
    },
    {
     "data": {
      "text/plain": [
       "[<matplotlib.lines.Line2D at 0x120d4d810>]"
      ]
     },
     "execution_count": 56,
     "metadata": {},
     "output_type": "execute_result"
    },
    {
     "data": {
      "image/png": "[encoded data removed]",
      "text/plain": [
       "<Figure size 640x480 with 1 Axes>"
      ]
     },
     "metadata": {},
     "output_type": "display_data"
    }
   ],
   "source": [
    "x = np.linspace(0,20,50)\n",
    "print(x, \"\\n\")\n",
    "\n",
    "y = x ** 2\n",
    "print(y, \"\\n\")\n",
    "\n",
    "# plotting\n",
    "plt.plot(x, y)"
   ]
  },
  {
   "cell_type": "code",
   "execution_count": 57,
   "id": "9d22b1d7-3c1e-47d3-b476-6ea5b5e124ce",
   "metadata": {},
   "outputs": [
    {
     "data": {
      "text/plain": [
       "(array([1., 2., 2., 0., 0., 2., 1., 0., 1., 1.]),\n",
       " array([0.01732719, 0.09865379, 0.17998038, 0.26130698, 0.34263358,\n",
       "        0.42396017, 0.50528677, 0.58661336, 0.66793996, 0.74926656,\n",
       "        0.83059315]),\n",
       " <BarContainer object of 10 artists>)"
      ]
     },
     "execution_count": 57,
     "metadata": {},
     "output_type": "execute_result"
    },
    {
     "data": {
      "image/png": "[encoded data removed]",
      "text/plain": [
       "<Figure size 640x480 with 1 Axes>"
      ]
     },
     "metadata": {},
     "output_type": "display_data"
    }
   ],
   "source": [
    "# plot histogram\n",
    "plt.hist(a4)"
   ]
  },
  {
   "cell_type": "code",
   "execution_count": 63,
   "id": "07d05586-b69b-477f-b74b-6187503ce403",
   "metadata": {},
   "outputs": [
    {
     "data": {
      "text/plain": [
       "[<matplotlib.lines.Line2D at 0x121014f50>]"
      ]
     },
     "execution_count": 63,
     "metadata": {},
     "output_type": "execute_result"
    },
    {
     "data": {
      "image/png": "[encoded data removed]",
      "text/plain": [
       "<Figure size 640x480 with 1 Axes>"
      ]
     },
     "metadata": {},
     "output_type": "display_data"
    }
   ],
   "source": [
    "# applying operations on matrix element-wise without any for loop\n",
    "def f(x):\n",
    "    return x**2 * np.sin(x) / np.exp(-x)\n",
    "\n",
    "x = np.linspace(0,10,100) # vector\n",
    "y = f(x)                  # vector\n",
    "\n",
    "plt.plot(x,y)"
   ]
  },
  {
   "cell_type": "code",
   "execution_count": null,
   "id": "bdefef90-3487-4e40-8e71-3051f54d97ac",
   "metadata": {},
   "outputs": [],
   "source": []
  },
  {
   "cell_type": "code",
   "execution_count": null,
   "id": "76531e72-1707-435e-8094-fad6bf4c412d",
   "metadata": {},
   "outputs": [],
   "source": []
  },
  {
   "cell_type": "code",
   "execution_count": null,
   "id": "a878ba7e-0131-4e17-aead-cbef115cbdec",
   "metadata": {},
   "outputs": [],
   "source": []
  }
 ],
 "metadata": {
  "kernelspec": {
   "display_name": "Python 3 (ipykernel)",
   "language": "python",
   "name": "python3"
  },
  "language_info": {
   "codemirror_mode": {
    "name": "ipython",
    "version": 3
   },
   "file_extension": ".py",
   "mimetype": "text/x-python",
   "name": "python",
   "nbconvert_exporter": "python",
   "pygments_lexer": "ipython3",
   "version": "3.11.1"
  }
 },
 "nbformat": 4,
 "nbformat_minor": 5
}
