{
  "nbformat": 4,
  "nbformat_minor": 0,
  "metadata": {
    "colab": {
      "name": "PyTorchCNN.ipynb",
      "version": "0.3.2",
      "provenance": [],
      "collapsed_sections": []
    },
    "kernelspec": {
      "name": "python3",
      "display_name": "Python 3"
    },
    "accelerator": "GPU"
  },
  "cells": [
    {
      "cell_type": "markdown",
      "metadata": {
        "id": "_rYNWvKcALr7",
        "colab_type": "text"
      },
      "source": [
        "# CNN Using Pytorch\n",
        "\n",
        "* **References: The code in this notebook is taken from the deep learning course by [PadhAI](https://padhai.onefourthlabs.in/).**"
      ]
    },
    {
      "cell_type": "markdown",
      "metadata": {
        "id": "6yY-u1fMO3se",
        "colab_type": "text"
      },
      "source": [
        "## Outline\n",
        "\n",
        "* Downloading dataset (CIFAR10)\n",
        "* `Dataloader` in `torch.utils`\n",
        "* Visualising images\n",
        "* Single and multiple convolutional layers\n",
        "* LeNet\n",
        "* Training LeNet\n",
        "* Training on GPU\n",
        "* Simple visualisation\n",
        "* Exercises"
      ]
    },
    {
      "cell_type": "code",
      "metadata": {
        "id": "ebTDFe6qZOS6",
        "colab_type": "code",
        "colab": {}
      },
      "source": [
        "import torch\n",
        "import matplotlib.pyplot as plt\n",
        "import numpy as np"
      ],
      "execution_count": 0,
      "outputs": []
    },
    {
      "cell_type": "markdown",
      "metadata": {
        "id": "v3RZSgGLO9iY",
        "colab_type": "text"
      },
      "source": [
        "## Data loading"
      ]
    },
    {
      "cell_type": "code",
      "metadata": {
        "id": "fOgFtnl2ZXsx",
        "colab_type": "code",
        "outputId": "87932e00-ec3f-4275-e70f-951d53795a7e",
        "colab": {
          "base_uri": "https://localhost:8080/",
          "height": 34
        }
      },
      "source": [
        "import torchvision\n",
        "import torchvision.transforms as transforms\n",
        "\n",
        "#setup training set\n",
        "#transforming the PIL Image to tensors\n",
        "trainset = torchvision.datasets.CIFAR10(root = \"./data\", train = True,\n",
        "                                         download = True, transform = transforms.ToTensor())"
      ],
      "execution_count": 0,
      "outputs": [
        {
          "output_type": "stream",
          "text": [
            "Files already downloaded and verified\n"
          ],
          "name": "stdout"
        }
      ]
    },
    {
      "cell_type": "code",
      "metadata": {
        "id": "tjT-1-Uba1n-",
        "colab_type": "code",
        "colab": {}
      },
      "source": [
        "classes = ('plane', 'car', 'bird', 'cat', 'deer', 'dog', 'frog', 'horse', 'ship', 'truck')"
      ],
      "execution_count": 0,
      "outputs": []
    },
    {
      "cell_type": "code",
      "metadata": {
        "id": "dpU3_h-JaFi_",
        "colab_type": "code",
        "colab": {}
      },
      "source": [
        "#loading the training data from trainset\n",
        "trainloader = torch.utils.data.DataLoader(trainset, batch_size=4, shuffle = True)"
      ],
      "execution_count": 0,
      "outputs": []
    },
    {
      "cell_type": "code",
      "metadata": {
        "id": "TGkggskRaXhz",
        "colab_type": "code",
        "outputId": "b3b76de2-dcf8-4142-b689-16ccfd34811b",
        "colab": {
          "base_uri": "https://localhost:8080/",
          "height": 70
        }
      },
      "source": [
        "#sneak peak into the train data\n",
        "\n",
        "#iterating into the data\n",
        "dataiter = iter(trainloader)\n",
        "images, labels = dataiter.next()\n",
        "\n",
        "print(images.shape) #shape of all 4 images\n",
        "print(images[1].shape) #shape of one image\n",
        "print(labels[1].item()) #label number"
      ],
      "execution_count": 0,
      "outputs": [
        {
          "output_type": "stream",
          "text": [
            "torch.Size([4, 3, 32, 32])\n",
            "torch.Size([3, 32, 32])\n",
            "6\n"
          ],
          "name": "stdout"
        }
      ]
    },
    {
      "cell_type": "markdown",
      "metadata": {
        "id": "bQTsI03XPGId",
        "colab_type": "text"
      },
      "source": [
        "## Visualise data"
      ]
    },
    {
      "cell_type": "code",
      "metadata": {
        "id": "RMLgzgf8PtN9",
        "colab_type": "code",
        "outputId": "e3f4826c-9173-4dbc-d504-5541936c8d0c",
        "colab": {
          "base_uri": "https://localhost:8080/",
          "height": 34
        }
      },
      "source": [
        "#taking the first image from batch of 4 images\n",
        "\n",
        "img = images[1]\n",
        "print(type(img))"
      ],
      "execution_count": 0,
      "outputs": [
        {
          "output_type": "stream",
          "text": [
            "<class 'torch.Tensor'>\n"
          ],
          "name": "stdout"
        }
      ]
    },
    {
      "cell_type": "code",
      "metadata": {
        "id": "mXeB_gG9QIIW",
        "colab_type": "code",
        "outputId": "e955eecf-2e33-471a-a245-b1a04afb4feb",
        "colab": {
          "base_uri": "https://localhost:8080/",
          "height": 34
        }
      },
      "source": [
        "#convert the tensor to numpy for displaying the image\n",
        "npimg = img.numpy()\n",
        "print(npimg.shape)"
      ],
      "execution_count": 0,
      "outputs": [
        {
          "output_type": "stream",
          "text": [
            "(3, 32, 32)\n"
          ],
          "name": "stdout"
        }
      ]
    },
    {
      "cell_type": "code",
      "metadata": {
        "id": "T7MfJdNAQKmy",
        "colab_type": "code",
        "outputId": "9a221ce8-7660-4f80-a6bc-2e21ecfe227f",
        "colab": {
          "base_uri": "https://localhost:8080/",
          "height": 34
        }
      },
      "source": [
        "#for displaying the image, shape of the image should be height * width * channels\n",
        "npimg = np.transpose(npimg, (1, 2, 0))\n",
        "print(npimg.shape)"
      ],
      "execution_count": 0,
      "outputs": [
        {
          "output_type": "stream",
          "text": [
            "(32, 32, 3)\n"
          ],
          "name": "stdout"
        }
      ]
    },
    {
      "cell_type": "code",
      "metadata": {
        "id": "Xjh0IJNIQS4G",
        "colab_type": "code",
        "outputId": "ee1892c7-37dd-4107-de1d-8cc0981e1f48",
        "colab": {
          "base_uri": "https://localhost:8080/",
          "height": 106
        }
      },
      "source": [
        "plt.figure(figsize = (1,1))\n",
        "plt.imshow(npimg)\n",
        "plt.show()"
      ],
      "execution_count": 0,
      "outputs": [
        {
          "output_type": "display_data",
          "data": {
            "image/png": "[encoded data removed]",
            "text/plain": [
              "<Figure size 72x72 with 1 Axes>"
            ]
          },
          "metadata": {
            "tags": []
          }
        }
      ]
    },
    {
      "cell_type": "code",
      "metadata": {
        "id": "ItDj5P3xZrX3",
        "colab_type": "code",
        "colab": {}
      },
      "source": [
        "def imshow(img):\n",
        "    npimg = img.numpy()\n",
        "    plt.imshow(np.transpose(npimg, (1, 2, 0)))\n",
        "    plt.show()"
      ],
      "execution_count": 0,
      "outputs": []
    },
    {
      "cell_type": "code",
      "metadata": {
        "id": "SUUH0-2PFMLQ",
        "colab_type": "code",
        "outputId": "23e7c766-293e-4fe1-919b-5f80c8791e87",
        "colab": {
          "base_uri": "https://localhost:8080/",
          "height": 157
        }
      },
      "source": [
        "imshow(torchvision.utils.make_grid(images))\n",
        "print(' '.join(classes[labels[j]] for j in range(4)))"
      ],
      "execution_count": 0,
      "outputs": [
        {
          "output_type": "display_data",
          "data": {
            "image/png": "[encoded data removed]",
            "text/plain": [
              "<Figure size 432x288 with 1 Axes>"
            ]
          },
          "metadata": {
            "tags": []
          }
        },
        {
          "output_type": "stream",
          "text": [
            "bird frog cat horse\n"
          ],
          "name": "stdout"
        }
      ]
    },
    {
      "cell_type": "markdown",
      "metadata": {
        "id": "KIP5NFfgQfNo",
        "colab_type": "text"
      },
      "source": [
        "## Single Convolutional Layer"
      ]
    },
    {
      "cell_type": "code",
      "metadata": {
        "id": "5tcRedwjFgYB",
        "colab_type": "code",
        "colab": {}
      },
      "source": [
        "import torch.nn as nn\n",
        "\n",
        "#torchsummary gives fine visualization of your model network \n",
        "from torchsummary import summary"
      ],
      "execution_count": 0,
      "outputs": []
    },
    {
      "cell_type": "code",
      "metadata": {
        "id": "-J1FCUm6FlR6",
        "colab_type": "code",
        "colab": {}
      },
      "source": [
        "class FirstCNN(nn.Module):\n",
        "  \n",
        "  def __init__(self):\n",
        "    super(FirstCNN, self).__init__()\n",
        "    #single layer convolution\n",
        "    self.conv1 = nn.Conv2d(3, 16, 3, padding = (1,1), stride = (2, 2))\n",
        "    \n",
        "  def forward(self, x):\n",
        "    #execute forward pass\n",
        "    x = self.conv1(x)\n",
        "    return(x)"
      ],
      "execution_count": 0,
      "outputs": []
    },
    {
      "cell_type": "code",
      "metadata": {
        "id": "Gj33mJuCg8w-",
        "colab_type": "code",
        "colab": {}
      },
      "source": [
        "#create a object of class\n",
        "net = FirstCNN()"
      ],
      "execution_count": 0,
      "outputs": []
    },
    {
      "cell_type": "code",
      "metadata": {
        "id": "Y7A3DS7kMBpD",
        "colab_type": "code",
        "outputId": "2ce3012a-8896-4fa0-9d2c-5fa68bf8756e",
        "colab": {
          "base_uri": "https://localhost:8080/",
          "height": 70
        }
      },
      "source": [
        "#print summary of network\n",
        "print(net)"
      ],
      "execution_count": 0,
      "outputs": [
        {
          "output_type": "stream",
          "text": [
            "FirstCNN(\n",
            "  (conv1): Conv2d(3, 16, kernel_size=(3, 3), stride=(2, 2), padding=(1, 1))\n",
            ")\n"
          ],
          "name": "stdout"
        }
      ]
    },
    {
      "cell_type": "code",
      "metadata": {
        "id": "KhxO4p0RKldv",
        "colab_type": "code",
        "outputId": "994bb32a-555c-4ddf-a777-fc3ca2c9379c",
        "colab": {
          "base_uri": "https://localhost:8080/",
          "height": 34
        }
      },
      "source": [
        "#input shape\n",
        "images.shape"
      ],
      "execution_count": 0,
      "outputs": [
        {
          "output_type": "execute_result",
          "data": {
            "text/plain": [
              "torch.Size([4, 3, 32, 32])"
            ]
          },
          "metadata": {
            "tags": []
          },
          "execution_count": 20
        }
      ]
    },
    {
      "cell_type": "code",
      "metadata": {
        "id": "BnAWY2-qg9jR",
        "colab_type": "code",
        "outputId": "762032a0-e9c8-4e42-de82-2205f2e09841",
        "colab": {
          "base_uri": "https://localhost:8080/",
          "height": 34
        }
      },
      "source": [
        "#output from the convolution\n",
        "out = net(images)\n",
        "out.shape"
      ],
      "execution_count": 0,
      "outputs": [
        {
          "output_type": "execute_result",
          "data": {
            "text/plain": [
              "torch.Size([4, 16, 16, 16])"
            ]
          },
          "metadata": {
            "tags": []
          },
          "execution_count": 21
        }
      ]
    },
    {
      "cell_type": "code",
      "metadata": {
        "id": "ynP7midTjfIn",
        "colab_type": "code",
        "outputId": "dd49de28-897c-446b-80b4-5ce8f2729cc2",
        "colab": {
          "base_uri": "https://localhost:8080/",
          "height": 52
        }
      },
      "source": [
        "#total parameters in a network\n",
        "for param in net.parameters():\n",
        "    print(param.shape, \"Parameters\")"
      ],
      "execution_count": 0,
      "outputs": [
        {
          "output_type": "stream",
          "text": [
            "torch.Size([16, 3, 3, 3]) Parameters\n",
            "torch.Size([16]) Parameters\n"
          ],
          "name": "stdout"
        }
      ]
    },
    {
      "cell_type": "code",
      "metadata": {
        "id": "aBYgoxzEia-D",
        "colab_type": "code",
        "outputId": "6f5838cb-0d28-4e42-80cf-e084d38b79b4",
        "colab": {
          "base_uri": "https://localhost:8080/",
          "height": 34
        }
      },
      "source": [
        "#plotting the output of convolution, taking the first channel\n",
        "out1 = out[0, 0, :, :].detach().numpy()\n",
        "print(out1.shape)"
      ],
      "execution_count": 0,
      "outputs": [
        {
          "output_type": "stream",
          "text": [
            "(16, 16)\n"
          ],
          "name": "stdout"
        }
      ]
    },
    {
      "cell_type": "code",
      "metadata": {
        "id": "FG8Mqfw5i7hP",
        "colab_type": "code",
        "outputId": "bfd9831d-3c72-4dd2-8cb4-ba7f715dacf8",
        "colab": {
          "base_uri": "https://localhost:8080/",
          "height": 286
        }
      },
      "source": [
        "plt.imshow(out[0, 0, :, :].detach().numpy())\n",
        "plt.figure(figsize = (10,10), dpi = 2000)\n",
        "plt.show()\n"
      ],
      "execution_count": 0,
      "outputs": [
        {
          "output_type": "display_data",
          "data": {
            "image/png": "[encoded data removed]",
            "text/plain": [
              "<Figure size 432x288 with 1 Axes>"
            ]
          },
          "metadata": {
            "tags": []
          }
        },
        {
          "output_type": "display_data",
          "data": {
            "text/plain": [
              "<Figure size 20000x20000 with 0 Axes>"
            ]
          },
          "metadata": {
            "tags": []
          }
        }
      ]
    },
    {
      "cell_type": "code",
      "metadata": {
        "id": "NGNSccAdMIYE",
        "colab_type": "code",
        "outputId": "3074e1e4-f8cd-4392-e9b5-a59ea264f3c0",
        "colab": {
          "base_uri": "https://localhost:8080/",
          "height": 286
        }
      },
      "source": [
        "plt.imshow(out[0, 1, :, :].detach().numpy())\n",
        "plt.figure(figsize = (10,10))\n",
        "plt.show()"
      ],
      "execution_count": 0,
      "outputs": [
        {
          "output_type": "display_data",
          "data": {
            "image/png": "[encoded data removed]",
            "text/plain": [
              "<Figure size 432x288 with 1 Axes>"
            ]
          },
          "metadata": {
            "tags": []
          }
        },
        {
          "output_type": "display_data",
          "data": {
            "text/plain": [
              "<Figure size 720x720 with 0 Axes>"
            ]
          },
          "metadata": {
            "tags": []
          }
        }
      ]
    },
    {
      "cell_type": "markdown",
      "metadata": {
        "id": "Y6nSsRqRQ3sJ",
        "colab_type": "text"
      },
      "source": [
        "## Deep Convolutional Network"
      ]
    },
    {
      "cell_type": "code",
      "metadata": {
        "colab_type": "code",
        "id": "t6Hrh22nOFsB",
        "colab": {}
      },
      "source": [
        "class FirstCNN_v2(nn.Module):\n",
        "    def __init__(self): \n",
        "        super(FirstCNN_v2, self).__init__()\n",
        "        #create a cnn using nn.sequential\n",
        "        self.model = nn.Sequential(\n",
        "            nn.Conv2d(3, 8, 3),   # (N, 3, 32, 32) -> (N, 8, 30, 30)\n",
        "            nn.Conv2d(8, 16, 3)   # (N, 8, 30, 30) -> (N, 16, 28, 28)\n",
        "        )\n",
        "        \n",
        "    def forward(self, x):\n",
        "        x = self.model(x)\n",
        "        return x"
      ],
      "execution_count": 0,
      "outputs": []
    },
    {
      "cell_type": "code",
      "metadata": {
        "id": "1TlJtTMoliU3",
        "colab_type": "code",
        "outputId": "08f09d8c-db5c-4ead-e6f6-d6170fe69247",
        "colab": {
          "base_uri": "https://localhost:8080/",
          "height": 34
        }
      },
      "source": [
        "net = FirstCNN_v2()\n",
        "out = net(images)\n",
        "out.shape"
      ],
      "execution_count": 0,
      "outputs": [
        {
          "output_type": "execute_result",
          "data": {
            "text/plain": [
              "torch.Size([4, 16, 28, 28])"
            ]
          },
          "metadata": {
            "tags": []
          },
          "execution_count": 27
        }
      ]
    },
    {
      "cell_type": "code",
      "metadata": {
        "id": "jpPuOr1TlilH",
        "colab_type": "code",
        "outputId": "1b39d9dc-f947-4bf1-b8c3-8415f73acfef",
        "colab": {
          "base_uri": "https://localhost:8080/",
          "height": 286
        }
      },
      "source": [
        "plt.imshow(out[0, 0, :, :].detach().numpy())"
      ],
      "execution_count": 0,
      "outputs": [
        {
          "output_type": "execute_result",
          "data": {
            "text/plain": [
              "<matplotlib.image.AxesImage at 0x7f91655978d0>"
            ]
          },
          "metadata": {
            "tags": []
          },
          "execution_count": 28
        },
        {
          "output_type": "display_data",
          "data": {
            "image/png": "[encoded data removed]",
            "text/plain": [
              "<Figure size 432x288 with 1 Axes>"
            ]
          },
          "metadata": {
            "tags": []
          }
        }
      ]
    },
    {
      "cell_type": "code",
      "metadata": {
        "id": "5GnYimnTmFyi",
        "colab_type": "code",
        "colab": {}
      },
      "source": [
        "class FirstCNN_v3(nn.Module):\n",
        "    def __init__(self): \n",
        "        super(FirstCNN_v3, self).__init__()\n",
        "        self.model = nn.Sequential(\n",
        "            nn.Conv2d(3, 6, 5),          # (N, 3, 32, 32) -> (N, 6, 28, 28)\n",
        "            nn.AvgPool2d(kernel_size = 2, stride=2),   # (N, 6, 28, 28) -> (N, 6, 14, 14)\n",
        "            nn.Conv2d(6, 16, 5),         # (N, 6, 14, 14) -> (N, 16, 10, 10)\n",
        "            nn.AvgPool2d(2, stride=2)    # (N, 16, 10, 10) -> (N, 16, 5, 5)\n",
        "        )\n",
        "        \n",
        "    def forward(self, x):\n",
        "        x = self.model(x)\n",
        "        return x"
      ],
      "execution_count": 0,
      "outputs": []
    },
    {
      "cell_type": "code",
      "metadata": {
        "id": "ldq1anrdmwox",
        "colab_type": "code",
        "outputId": "bd4a0220-2a13-46c9-c537-80da0088097d",
        "colab": {
          "base_uri": "https://localhost:8080/",
          "height": 34
        }
      },
      "source": [
        "net = FirstCNN_v3()\n",
        "out = net(images)\n",
        "out.shape"
      ],
      "execution_count": 0,
      "outputs": [
        {
          "output_type": "execute_result",
          "data": {
            "text/plain": [
              "torch.Size([4, 16, 5, 5])"
            ]
          },
          "metadata": {
            "tags": []
          },
          "execution_count": 30
        }
      ]
    },
    {
      "cell_type": "code",
      "metadata": {
        "id": "tOnUd7TyVunB",
        "colab_type": "code",
        "outputId": "e3e4b833-b543-4074-8888-418c9bb14abb",
        "colab": {
          "base_uri": "https://localhost:8080/",
          "height": 269
        }
      },
      "source": [
        "plt.imshow(out[0, 0, :, :].detach().numpy())\n",
        "plt.show()"
      ],
      "execution_count": 0,
      "outputs": [
        {
          "output_type": "display_data",
          "data": {
            "image/png": "[encoded data removed]",
            "text/plain": [
              "<Figure size 432x288 with 1 Axes>"
            ]
          },
          "metadata": {
            "tags": []
          }
        }
      ]
    },
    {
      "cell_type": "code",
      "metadata": {
        "id": "sAEGAfpdO8zd",
        "colab_type": "code",
        "outputId": "137286d8-dade-470f-f354-384d39adef5e",
        "colab": {
          "base_uri": "https://localhost:8080/",
          "height": 269
        }
      },
      "source": [
        "plt.imshow(out[0, 1, :, :].detach().numpy())\n",
        "plt.show()"
      ],
      "execution_count": 0,
      "outputs": [
        {
          "output_type": "display_data",
          "data": {
            "image/png": "[encoded data removed]",
            "text/plain": [
              "<Figure size 432x288 with 1 Axes>"
            ]
          },
          "metadata": {
            "tags": []
          }
        }
      ]
    },
    {
      "cell_type": "markdown",
      "metadata": {
        "id": "vymNQCrDQ7dM",
        "colab_type": "text"
      },
      "source": [
        "## LeNet\n",
        "\n",
        "- Tanh Activation"
      ]
    },
    {
      "cell_type": "code",
      "metadata": {
        "id": "k4rIj1LtPFWg",
        "colab_type": "code",
        "colab": {}
      },
      "source": [
        "class LeNet(nn.Module):\n",
        "  def __init__(self):\n",
        "    super(LeNet, self).__init__()\n",
        "    self.cnn_model = nn.Sequential(\n",
        "        nn.Conv2d(3, 6, kernel_size = 5), #(N, 3, 32, 32) -> (N, 6, 28, 28)\n",
        "        nn.Tanh(),\n",
        "        nn.AvgPool2d(2, stride = 2), #(N, 6, 28, 28) -> (N, 6, 14, 14)\n",
        "        nn.Conv2d(6, 16, kernel_size = 5), #(N, 6, 14, 14) -> (N, 6, 10, 10)\n",
        "        nn.Tanh(),\n",
        "        nn.AvgPool2d(2, stride = 2) #(N, 6, 10, 10) -> (N, 16, 5, 5)\n",
        "    )\n",
        "    \n",
        "    self.fc_model = nn.Sequential(\n",
        "        nn.Linear(400, 120), # (N, 400) -> (N, 120)\n",
        "        nn.Tanh(),\n",
        "        nn.Linear(120, 84), # (N, 120) -> (N, 84)\n",
        "        nn.Tanh(),\n",
        "        nn.Linear(84, 10)  # (N, 84)  -> (N, 10)\n",
        "    )\n",
        "    \n",
        "  def forward(self, x):\n",
        "      print(x.shape)\n",
        "      x = self.cnn_model(x)\n",
        "      print(x.shape)\n",
        "      print(x)\n",
        "      x = x.view(x.size(0), -1)\n",
        "      print(x.shape)\n",
        "      x = self.fc_model(x)\n",
        "      print(x.shape)\n",
        "      return x"
      ],
      "execution_count": 0,
      "outputs": []
    },
    {
      "cell_type": "code",
      "metadata": {
        "id": "hruUII0sRIO4",
        "colab_type": "code",
        "outputId": "8ca8c832-099a-409f-ee7f-ff1275274a6f",
        "colab": {
          "base_uri": "https://localhost:8080/",
          "height": 87
        }
      },
      "source": [
        "net = LeNet()\n",
        "#running the lenet cnn\n",
        "out = net(images)"
      ],
      "execution_count": 0,
      "outputs": [
        {
          "output_type": "stream",
          "text": [
            "torch.Size([4, 3, 32, 32])\n",
            "torch.Size([4, 16, 5, 5])\n",
            "torch.Size([4, 400])\n",
            "torch.Size([4, 10])\n"
          ],
          "name": "stdout"
        }
      ]
    },
    {
      "cell_type": "code",
      "metadata": {
        "id": "2E66qlEzRapT",
        "colab_type": "code",
        "outputId": "2dc9c573-18ab-47de-e786-a73405070423",
        "colab": {
          "base_uri": "https://localhost:8080/",
          "height": 158
        }
      },
      "source": [
        "#printing the class probabilities for 4 different images\n",
        "print(out)"
      ],
      "execution_count": 0,
      "outputs": [
        {
          "output_type": "stream",
          "text": [
            "tensor([[ 0.5297, -0.0763,  0.4626,  0.2561, -0.0853,  0.1546, -0.2428,  0.5761,\n",
            "          0.4410,  0.4118],\n",
            "        [ 0.5500, -0.0720,  0.4773,  0.2621, -0.0651,  0.1808, -0.2069,  0.5861,\n",
            "          0.4558,  0.4012],\n",
            "        [ 0.5529, -0.0673,  0.4942,  0.2632, -0.0480,  0.1906, -0.1949,  0.5919,\n",
            "          0.4607,  0.3991],\n",
            "        [ 0.5519, -0.0647,  0.5034,  0.2630, -0.0395,  0.1933, -0.1922,  0.5943,\n",
            "          0.4619,  0.3993]], grad_fn=<AddmmBackward>)\n"
          ],
          "name": "stdout"
        }
      ]
    },
    {
      "cell_type": "code",
      "metadata": {
        "id": "ZiYvD0l7Rhma",
        "colab_type": "code",
        "outputId": "a5b9cdc9-7a34-4db5-dc6f-7ab7dc899f0f",
        "colab": {
          "base_uri": "https://localhost:8080/",
          "height": 34
        }
      },
      "source": [
        "#taking only the maximum value \n",
        "max_values, pred_class = torch.max(out.data, 1)\n",
        "print(pred_class)"
      ],
      "execution_count": 0,
      "outputs": [
        {
          "output_type": "stream",
          "text": [
            "tensor([7, 7, 7, 7])\n"
          ],
          "name": "stdout"
        }
      ]
    },
    {
      "cell_type": "markdown",
      "metadata": {
        "id": "lOQGdybZRQqk",
        "colab_type": "text"
      },
      "source": [
        "## Training LeNet"
      ]
    },
    {
      "cell_type": "code",
      "metadata": {
        "id": "ylTZodUuV1eb",
        "colab_type": "code",
        "colab": {}
      },
      "source": [
        "class LeNet(nn.Module):\n",
        "    def __init__(self): \n",
        "        super(LeNet, self).__init__()\n",
        "        self.cnn_model = nn.Sequential(\n",
        "            nn.Conv2d(3, 6, 5),         # (N, 3, 32, 32) -> (N,  6, 28, 28)\n",
        "            nn.Tanh(),\n",
        "            nn.AvgPool2d(2, stride=2),  # (N, 6, 28, 28) -> (N,  6, 14, 14)\n",
        "            nn.Conv2d(6, 16, 5),        # (N, 6, 14, 14) -> (N, 16, 10, 10)  \n",
        "            nn.Tanh(),\n",
        "            nn.AvgPool2d(2, stride=2)   # (N,16, 10, 10) -> (N, 16, 5, 5)\n",
        "        )\n",
        "        self.fc_model = nn.Sequential(\n",
        "            nn.Linear(400,120),         # (N, 400) -> (N, 120)\n",
        "            nn.Tanh(),\n",
        "            nn.Linear(120,84),          # (N, 120) -> (N, 84)\n",
        "            nn.Tanh(),\n",
        "            nn.Linear(84,10)            # (N, 84)  -> (N, 10)\n",
        "        )\n",
        "        \n",
        "    def forward(self, x):\n",
        "        x = self.cnn_model(x)\n",
        "        x = x.view(x.size(0), -1)\n",
        "        x = self.fc_model(x)\n",
        "        return x"
      ],
      "execution_count": 0,
      "outputs": []
    },
    {
      "cell_type": "code",
      "metadata": {
        "id": "GOWc4kya8UDC",
        "colab_type": "code",
        "outputId": "47b80284-0daf-4232-9796-49ebf1e2b0bc",
        "colab": {
          "base_uri": "https://localhost:8080/",
          "height": 52
        }
      },
      "source": [
        "batch_size = 128\n",
        "trainset = torchvision.datasets.CIFAR10(root='./data', train=True, download=True, transform=transforms.ToTensor())\n",
        "trainloader = torch.utils.data.DataLoader(trainset, batch_size=batch_size, shuffle=True)\n",
        "testset = torchvision.datasets.CIFAR10(root='./data', train=False, download=True, transform=transforms.ToTensor())\n",
        "testloader = torch.utils.data.DataLoader(testset, batch_size=batch_size, shuffle=False)"
      ],
      "execution_count": 0,
      "outputs": [
        {
          "output_type": "stream",
          "text": [
            "Files already downloaded and verified\n",
            "Files already downloaded and verified\n"
          ],
          "name": "stdout"
        }
      ]
    },
    {
      "cell_type": "code",
      "metadata": {
        "id": "odvM-ziiSyH_",
        "colab_type": "code",
        "colab": {}
      },
      "source": [
        "def evaluation(dataloader):\n",
        "  #function to calculate the accuracy\n",
        "    total, correct = 0, 0\n",
        "    for data in dataloader:\n",
        "      inputs, labels = data\n",
        "      outputs = net(inputs)\n",
        "      _, pred = torch.max(outputs.data, 1)\n",
        "      total += labels.size(0)\n",
        "      correct += (pred == labels).sum().item()\n",
        "    return(100 * correct/total)"
      ],
      "execution_count": 0,
      "outputs": []
    },
    {
      "cell_type": "code",
      "metadata": {
        "id": "3pYTvSvD2TwM",
        "colab_type": "code",
        "colab": {}
      },
      "source": [
        "#create an object of LeNet class, \n",
        "net = LeNet()"
      ],
      "execution_count": 0,
      "outputs": []
    },
    {
      "cell_type": "code",
      "metadata": {
        "id": "2T6Wzz7J2xq3",
        "colab_type": "code",
        "colab": {}
      },
      "source": [
        "import torch.optim as optim\n",
        "\n",
        "#define the loss function \n",
        "loss_fn = nn.CrossEntropyLoss()\n",
        "#using the adam optimizer for backpropagation\n",
        "opt = optim.Adam(net.parameters())"
      ],
      "execution_count": 0,
      "outputs": []
    },
    {
      "cell_type": "code",
      "metadata": {
        "id": "a0LnxsXi6Cgt",
        "colab_type": "code",
        "outputId": "9eba8b9e-a820-42a9-edc4-bd87a4df566e",
        "colab": {
          "base_uri": "https://localhost:8080/",
          "height": 462
        }
      },
      "source": [
        "%%time\n",
        "loss_arr = []\n",
        "loss_epoch_arr = []\n",
        "max_epochs = 10\n",
        "\n",
        "for epoch in range(max_epochs):\n",
        "\n",
        "    for i, data in enumerate(trainloader, 0):\n",
        "\n",
        "        inputs, labels = data\n",
        "        \n",
        "        #forward pass\n",
        "        outputs = net(inputs)\n",
        "        loss = loss_fn(outputs, labels)\n",
        "        \n",
        "        #backward and optimize\n",
        "        opt.zero_grad()\n",
        "        loss.backward()\n",
        "        opt.step()\n",
        "        \n",
        "        loss_arr.append(loss.item())\n",
        "        \n",
        "    loss_epoch_arr.append(loss.item())\n",
        "        \n",
        "    print('Epoch: %d/%d, Test acc: %0.2f, Train acc: %0.2f' % (epoch, max_epochs, evaluation(testloader), evaluation(trainloader)))\n",
        "    \n",
        "    \n",
        "plt.plot(loss_epoch_arr)\n",
        "plt.show()"
      ],
      "execution_count": 0,
      "outputs": [
        {
          "output_type": "stream",
          "text": [
            "\r170500096it [00:40, 8084188.66it/s]                               "
          ],
          "name": "stderr"
        },
        {
          "output_type": "stream",
          "text": [
            "Epoch: 0/10, Test acc: 37.52, Train acc: 37.91\n",
            "Epoch: 1/10, Test acc: 42.33, Train acc: 43.11\n",
            "Epoch: 2/10, Test acc: 46.76, Train acc: 47.55\n",
            "Epoch: 3/10, Test acc: 49.25, Train acc: 50.51\n",
            "Epoch: 4/10, Test acc: 50.42, Train acc: 52.30\n",
            "Epoch: 5/10, Test acc: 51.68, Train acc: 54.42\n",
            "Epoch: 7/10, Test acc: 51.76, Train acc: 56.16\n",
            "Epoch: 8/10, Test acc: 54.07, Train acc: 59.16\n",
            "Epoch: 9/10, Test acc: 55.01, Train acc: 60.24\n"
          ],
          "name": "stdout"
        },
        {
          "output_type": "display_data",
          "data": {
            "image/png": "[encoded data removed]",
            "text/plain": [
              "<Figure size 432x288 with 1 Axes>"
            ]
          },
          "metadata": {
            "tags": []
          }
        },
        {
          "output_type": "stream",
          "text": [
            "CPU times: user 4min 10s, sys: 7.13 s, total: 4min 17s\n",
            "Wall time: 4min 18s\n"
          ],
          "name": "stdout"
        }
      ]
    },
    {
      "cell_type": "markdown",
      "metadata": {
        "id": "ECHeB_BUTHl5",
        "colab_type": "text"
      },
      "source": [
        "## Move to GPU"
      ]
    },
    {
      "cell_type": "code",
      "metadata": {
        "id": "Mj0-Y6zJTJ5z",
        "colab_type": "code",
        "outputId": "0f495374-4118-486a-8b78-5112bd09dafa",
        "colab": {
          "base_uri": "https://localhost:8080/",
          "height": 34
        }
      },
      "source": [
        "device = torch.device(\"cuda:0\" if torch.cuda.is_available() else \"cpu\")\n",
        "print(device)"
      ],
      "execution_count": 0,
      "outputs": [
        {
          "output_type": "stream",
          "text": [
            "cuda:0\n"
          ],
          "name": "stdout"
        }
      ]
    },
    {
      "cell_type": "code",
      "metadata": {
        "id": "n4fHbz2fTNpR",
        "colab_type": "code",
        "colab": {}
      },
      "source": [
        "def evaluation(dataloader):\n",
        "    total, correct = 0, 0\n",
        "    for data in dataloader:\n",
        "        inputs, labels = data\n",
        "        inputs, labels = inputs.to(device), labels.to(device)\n",
        "        outputs = net(inputs)\n",
        "        _, pred = torch.max(outputs.data, 1)\n",
        "        total += labels.size(0)\n",
        "        correct += (pred == labels).sum().item()\n",
        "    return 100 * correct / total"
      ],
      "execution_count": 0,
      "outputs": []
    },
    {
      "cell_type": "code",
      "metadata": {
        "id": "mnxecsfVTQH-",
        "colab_type": "code",
        "colab": {}
      },
      "source": [
        "net = LeNet().to(device)\n",
        "loss_fn = nn.CrossEntropyLoss()\n",
        "opt = optim.Adam(net.parameters())"
      ],
      "execution_count": 0,
      "outputs": []
    },
    {
      "cell_type": "code",
      "metadata": {
        "id": "i9t3Js-XTWkf",
        "colab_type": "code",
        "outputId": "097c8883-e498-46ae-b2c1-51a56c9ed36f",
        "colab": {
          "base_uri": "https://localhost:8080/",
          "height": 932
        }
      },
      "source": [
        "%%time\n",
        "max_epochs = 50\n",
        "\n",
        "for epoch in range(max_epochs):\n",
        "\n",
        "    for i, data in enumerate(trainloader, 0):\n",
        "\n",
        "        inputs, labels = data\n",
        "        inputs, labels = inputs.to(device), labels.to(device)\n",
        "\n",
        "        opt.zero_grad()\n",
        "\n",
        "        outputs = net(inputs)\n",
        "        loss = loss_fn(outputs, labels)\n",
        "        loss.backward()\n",
        "        opt.step()\n",
        "        \n",
        "    print('Epoch: %d/%d' % (epoch, max_epochs))"
      ],
      "execution_count": 0,
      "outputs": [
        {
          "output_type": "stream",
          "text": [
            "Epoch: 0/50\n",
            "Epoch: 1/50\n",
            "Epoch: 2/50\n",
            "Epoch: 3/50\n",
            "Epoch: 4/50\n",
            "Epoch: 5/50\n",
            "Epoch: 6/50\n",
            "Epoch: 7/50\n",
            "Epoch: 8/50\n",
            "Epoch: 9/50\n",
            "Epoch: 10/50\n",
            "Epoch: 11/50\n",
            "Epoch: 12/50\n",
            "Epoch: 13/50\n",
            "Epoch: 14/50\n",
            "Epoch: 15/50\n",
            "Epoch: 16/50\n",
            "Epoch: 17/50\n",
            "Epoch: 18/50\n",
            "Epoch: 19/50\n",
            "Epoch: 20/50\n",
            "Epoch: 21/50\n",
            "Epoch: 22/50\n",
            "Epoch: 23/50\n",
            "Epoch: 24/50\n",
            "Epoch: 25/50\n",
            "Epoch: 26/50\n",
            "Epoch: 27/50\n",
            "Epoch: 28/50\n",
            "Epoch: 29/50\n",
            "Epoch: 30/50\n",
            "Epoch: 31/50\n",
            "Epoch: 32/50\n",
            "Epoch: 33/50\n",
            "Epoch: 34/50\n",
            "Epoch: 35/50\n",
            "Epoch: 36/50\n",
            "Epoch: 37/50\n",
            "Epoch: 38/50\n",
            "Epoch: 39/50\n",
            "Epoch: 40/50\n",
            "Epoch: 41/50\n",
            "Epoch: 42/50\n",
            "Epoch: 43/50\n",
            "Epoch: 44/50\n",
            "Epoch: 45/50\n",
            "Epoch: 46/50\n",
            "Epoch: 47/50\n",
            "Epoch: 48/50\n",
            "Epoch: 49/50\n",
            "CPU times: user 4min 36s, sys: 4.51 s, total: 4min 41s\n",
            "Wall time: 4min 41s\n"
          ],
          "name": "stdout"
        }
      ]
    },
    {
      "cell_type": "code",
      "metadata": {
        "id": "1mao_iiQZVlE",
        "colab_type": "code",
        "outputId": "5f1fcde0-d94d-478d-c439-d4d66eec5874",
        "colab": {
          "base_uri": "https://localhost:8080/",
          "height": 34
        }
      },
      "source": [
        "print('Test acc: %0.2f, Train acc: %0.2f' % (evaluation(testloader), evaluation(trainloader)))"
      ],
      "execution_count": 0,
      "outputs": [
        {
          "output_type": "stream",
          "text": [
            "Test acc: 52.98, Train acc: 82.96\n"
          ],
          "name": "stdout"
        }
      ]
    },
    {
      "cell_type": "markdown",
      "metadata": {
        "id": "Fq5T-KsjTEUQ",
        "colab_type": "text"
      },
      "source": [
        "## Basic Visualisation"
      ]
    },
    {
      "cell_type": "code",
      "metadata": {
        "id": "LWfeXhrzSFSc",
        "colab_type": "code",
        "outputId": "09bdf0b5-233e-4811-83be-99336ac535c2",
        "colab": {
          "base_uri": "https://localhost:8080/",
          "height": 139
        }
      },
      "source": [
        "imshow(torchvision.utils.make_grid(images))"
      ],
      "execution_count": 0,
      "outputs": [
        {
          "output_type": "display_data",
          "data": {
            "image/png": "[encoded data removed]",
            "text/plain": [
              "<Figure size 432x288 with 1 Axes>"
            ]
          },
          "metadata": {
            "tags": []
          }
        }
      ]
    },
    {
      "cell_type": "code",
      "metadata": {
        "id": "DiorUKc-LnWx",
        "colab_type": "code",
        "colab": {}
      },
      "source": [
        "net = net.to('cpu')"
      ],
      "execution_count": 0,
      "outputs": []
    },
    {
      "cell_type": "code",
      "metadata": {
        "id": "luNsBRCAKQC_",
        "colab_type": "code",
        "outputId": "9a8102d1-8002-45df-c2d4-3937409172d1",
        "colab": {
          "base_uri": "https://localhost:8080/",
          "height": 34
        }
      },
      "source": [
        "out = net(images)\n",
        "print(out.shape)"
      ],
      "execution_count": 0,
      "outputs": [
        {
          "output_type": "stream",
          "text": [
            "torch.Size([4, 10])\n"
          ],
          "name": "stdout"
        }
      ]
    },
    {
      "cell_type": "code",
      "metadata": {
        "id": "-38nfaIUKSeF",
        "colab_type": "code",
        "outputId": "0e2380e1-f0a3-442b-a05d-e505383f6774",
        "colab": {
          "base_uri": "https://localhost:8080/",
          "height": 34
        }
      },
      "source": [
        "out = net.cnn_model[0](images)\n",
        "out.shape"
      ],
      "execution_count": 0,
      "outputs": [
        {
          "output_type": "execute_result",
          "data": {
            "text/plain": [
              "torch.Size([4, 6, 28, 28])"
            ]
          },
          "metadata": {
            "tags": []
          },
          "execution_count": 47
        }
      ]
    },
    {
      "cell_type": "code",
      "metadata": {
        "id": "Gqj4_qG1KYcO",
        "colab_type": "code",
        "outputId": "2cc9274d-f78c-4f55-cce8-6fdf5f8e0a28",
        "colab": {
          "base_uri": "https://localhost:8080/",
          "height": 160
        }
      },
      "source": [
        "image_id = 3\n",
        "plt.figure(figsize = (2,2))\n",
        "imshow(images[image_id,])"
      ],
      "execution_count": 0,
      "outputs": [
        {
          "output_type": "display_data",
          "data": {
            "image/png": "[encoded data removed]",
            "text/plain": [
              "<Figure size 144x144 with 1 Axes>"
            ]
          },
          "metadata": {
            "tags": []
          }
        }
      ]
    },
    {
      "cell_type": "code",
      "metadata": {
        "id": "19iXHHLitP2D",
        "colab_type": "code",
        "outputId": "cd79a976-537a-407e-c9b0-ee87397ae91c",
        "colab": {
          "base_uri": "https://localhost:8080/",
          "height": 450
        }
      },
      "source": [
        "plt.figure(figsize = (6,6))\n",
        "plt.subplot(321)\n",
        "for i in range(6):\n",
        "    ax1 = plt.subplot(3, 2, i+1)\n",
        "    plt.imshow(out[image_id, i, :, :].detach().numpy(), cmap=\"binary\")\n",
        "plt.show()"
      ],
      "execution_count": 0,
      "outputs": [
        {
          "output_type": "stream",
          "text": [
            "/usr/local/lib/python3.6/dist-packages/matplotlib/figure.py:98: MatplotlibDeprecationWarning: \n",
            "Adding an axes using the same arguments as a previous axes currently reuses the earlier instance.  In a future version, a new instance will always be created and returned.  Meanwhile, this warning can be suppressed, and the future behavior ensured, by passing a unique label to each axes instance.\n",
            "  \"Adding an axes using the same arguments as a previous axes \"\n"
          ],
          "name": "stderr"
        },
        {
          "output_type": "display_data",
          "data": {
            "image/png": "[encoded data removed]",
            "text/plain": [
              "<Figure size 432x432 with 6 Axes>"
            ]
          },
          "metadata": {
            "tags": []
          }
        }
      ]
    },
    {
      "cell_type": "markdown",
      "metadata": {
        "id": "eARYa3OZexaC",
        "colab_type": "text"
      },
      "source": [
        "## Exercises\n",
        "\n",
        "* Modify LeNet to work with ReLU instead of Tanh -> What is the impact on training time, final loss\n",
        "* We have observed over-fitting -> Use weight_decay in torch.optim to add L2 regularisation\n",
        "* Instead of CIFAR10, use the MNIST data available from `torchvision.datasets.MNIST`. Download and visualise MNIST data.\n",
        "* But importantly MNIST images have only 1 channel instead of 3 channels in the case of CIFAR10. Modify LeNet to work with MNIST. Train and find optimised test accuracy."
      ]
    },
    {
      "cell_type": "markdown",
      "metadata": {
        "id": "bVIMbb09jh_T",
        "colab_type": "text"
      },
      "source": [
        "## LeNet With ReLU"
      ]
    },
    {
      "cell_type": "code",
      "metadata": {
        "id": "EnMyNqhVwrgr",
        "colab_type": "code",
        "colab": {}
      },
      "source": [
        "#Used ReLU non-linear activation instead of tanh\n",
        "\n",
        "class LeNet_ReLU(nn.Module):\n",
        "    def __init__(self): \n",
        "        super(LeNet_ReLU, self).__init__()\n",
        "        self.cnn_model = nn.Sequential(\n",
        "            nn.Conv2d(3, 6, 5),         # (N, 3, 32, 32) -> (N,  6, 28, 28)\n",
        "            nn.ReLU(),\n",
        "            nn.AvgPool2d(2, stride=2),  # (N, 6, 28, 28) -> (N,  6, 14, 14)\n",
        "            nn.Conv2d(6, 16, 5),        # (N, 6, 14, 14) -> (N, 16, 10, 10)  \n",
        "            nn.ReLU(),\n",
        "            nn.AvgPool2d(2, stride=2)   # (N,16, 10, 10) -> (N, 16, 5, 5)\n",
        "        )\n",
        "        self.fc_model = nn.Sequential(\n",
        "            nn.Linear(400,120),         # (N, 400) -> (N, 120)\n",
        "            nn.ReLU(),\n",
        "            nn.Linear(120,84),          # (N, 120) -> (N, 84)\n",
        "            nn.ReLU(),\n",
        "            nn.Linear(84,10)            # (N, 84)  -> (N, 10)\n",
        "        )\n",
        "        \n",
        "    def forward(self, x):\n",
        "        x = self.cnn_model(x)\n",
        "        x = x.view(x.size(0), -1)\n",
        "        x = self.fc_model(x)\n",
        "        return x"
      ],
      "execution_count": 0,
      "outputs": []
    },
    {
      "cell_type": "code",
      "metadata": {
        "id": "INEkWtE0kkFX",
        "colab_type": "code",
        "colab": {}
      },
      "source": [
        "#Train using the GPU\n",
        "net = LeNet_ReLU().to(device)\n",
        "loss_fn = nn.CrossEntropyLoss()\n",
        "opt = optim.Adam(net.parameters())"
      ],
      "execution_count": 0,
      "outputs": []
    },
    {
      "cell_type": "code",
      "metadata": {
        "id": "KnIfansllW5C",
        "colab_type": "code",
        "outputId": "590b5e8b-01cb-4259-f083-3836cd940946",
        "colab": {
          "base_uri": "https://localhost:8080/",
          "height": 1198
        }
      },
      "source": [
        "%%time\n",
        "loss_arr = []\n",
        "loss_epoch_arr = []\n",
        "max_epochs = 50\n",
        "\n",
        "for epoch in range(max_epochs):\n",
        "\n",
        "    for i, data in enumerate(trainloader, 0):\n",
        "\n",
        "        inputs, labels = data\n",
        "        inputs, labels = inputs.to(device), labels.to(device)\n",
        "\n",
        "        opt.zero_grad()\n",
        "\n",
        "        outputs = net(inputs)\n",
        "        loss = loss_fn(outputs, labels)\n",
        "        loss.backward()\n",
        "        opt.step()\n",
        "        loss_arr.append(loss.item())\n",
        "        \n",
        "    loss_epoch_arr.append(loss.item())\n",
        "        \n",
        "    print('Epoch: %d/%d, Test acc: %0.2f, Train acc: %0.2f' % (epoch, max_epochs, evaluation(testloader), evaluation(trainloader)))\n",
        "    \n",
        "    \n",
        "plt.plot(loss_epoch_arr)\n",
        "plt.xlabel(\"epochs\")\n",
        "plt.ylabel(\"loss\")\n",
        "plt.title(\"\")\n",
        "plt.show()    "
      ],
      "execution_count": 0,
      "outputs": [
        {
          "output_type": "stream",
          "text": [
            "Epoch: 0/50, Test acc: 38.93, Train acc: 38.79\n",
            "Epoch: 1/50, Test acc: 44.68, Train acc: 44.95\n",
            "Epoch: 2/50, Test acc: 48.49, Train acc: 48.98\n",
            "Epoch: 3/50, Test acc: 50.51, Train acc: 50.94\n",
            "Epoch: 4/50, Test acc: 52.35, Train acc: 53.19\n",
            "Epoch: 5/50, Test acc: 53.86, Train acc: 54.95\n",
            "Epoch: 6/50, Test acc: 54.55, Train acc: 56.49\n",
            "Epoch: 7/50, Test acc: 55.66, Train acc: 57.41\n",
            "Epoch: 8/50, Test acc: 55.77, Train acc: 58.64\n",
            "Epoch: 9/50, Test acc: 56.74, Train acc: 59.68\n",
            "Epoch: 10/50, Test acc: 57.34, Train acc: 60.67\n",
            "Epoch: 11/50, Test acc: 57.26, Train acc: 60.91\n",
            "Epoch: 12/50, Test acc: 58.62, Train acc: 62.58\n",
            "Epoch: 13/50, Test acc: 58.45, Train acc: 62.61\n",
            "Epoch: 14/50, Test acc: 59.20, Train acc: 64.26\n",
            "Epoch: 15/50, Test acc: 59.73, Train acc: 65.15\n",
            "Epoch: 16/50, Test acc: 59.01, Train acc: 65.08\n",
            "Epoch: 17/50, Test acc: 59.46, Train acc: 65.91\n",
            "Epoch: 18/50, Test acc: 60.11, Train acc: 67.43\n",
            "Epoch: 19/50, Test acc: 59.73, Train acc: 67.28\n",
            "Epoch: 20/50, Test acc: 59.42, Train acc: 67.60\n",
            "Epoch: 21/50, Test acc: 59.81, Train acc: 67.98\n",
            "Epoch: 22/50, Test acc: 60.11, Train acc: 69.29\n",
            "Epoch: 23/50, Test acc: 60.19, Train acc: 69.16\n",
            "Epoch: 24/50, Test acc: 60.66, Train acc: 70.24\n",
            "Epoch: 25/50, Test acc: 60.36, Train acc: 70.33\n",
            "Epoch: 26/50, Test acc: 59.92, Train acc: 70.06\n",
            "Epoch: 27/50, Test acc: 60.80, Train acc: 71.16\n",
            "Epoch: 28/50, Test acc: 60.19, Train acc: 71.44\n",
            "Epoch: 29/50, Test acc: 61.27, Train acc: 72.76\n",
            "Epoch: 30/50, Test acc: 59.97, Train acc: 72.03\n",
            "Epoch: 31/50, Test acc: 60.94, Train acc: 72.72\n",
            "Epoch: 32/50, Test acc: 60.70, Train acc: 73.24\n",
            "Epoch: 33/50, Test acc: 60.52, Train acc: 72.58\n",
            "Epoch: 34/50, Test acc: 60.38, Train acc: 74.01\n",
            "Epoch: 35/50, Test acc: 61.18, Train acc: 74.71\n",
            "Epoch: 36/50, Test acc: 60.27, Train acc: 74.76\n",
            "Epoch: 37/50, Test acc: 60.73, Train acc: 75.55\n",
            "Epoch: 38/50, Test acc: 61.08, Train acc: 75.76\n",
            "Epoch: 39/50, Test acc: 60.74, Train acc: 75.65\n",
            "Epoch: 40/50, Test acc: 60.68, Train acc: 76.49\n",
            "Epoch: 41/50, Test acc: 60.14, Train acc: 74.63\n",
            "Epoch: 42/50, Test acc: 59.71, Train acc: 76.58\n",
            "Epoch: 43/50, Test acc: 60.22, Train acc: 75.73\n",
            "Epoch: 44/50, Test acc: 59.80, Train acc: 77.35\n",
            "Epoch: 45/50, Test acc: 59.72, Train acc: 77.14\n",
            "Epoch: 46/50, Test acc: 60.28, Train acc: 77.19\n",
            "Epoch: 47/50, Test acc: 60.17, Train acc: 78.15\n",
            "Epoch: 48/50, Test acc: 60.32, Train acc: 78.68\n",
            "Epoch: 49/50, Test acc: 60.62, Train acc: 79.40\n"
          ],
          "name": "stdout"
        },
        {
          "output_type": "display_data",
          "data": {
            "image/png": "[encoded data removed]",
            "text/plain": [
              "<Figure size 432x288 with 1 Axes>"
            ]
          },
          "metadata": {
            "tags": []
          }
        },
        {
          "output_type": "stream",
          "text": [
            "CPU times: user 9min 39s, sys: 15.4 s, total: 9min 54s\n",
            "Wall time: 9min 55s\n"
          ],
          "name": "stdout"
        }
      ]
    },
    {
      "cell_type": "code",
      "metadata": {
        "id": "1o5cbiPUpjBV",
        "colab_type": "code",
        "outputId": "520d0076-a0d3-4feb-c698-4bd3c6a5999b",
        "colab": {
          "base_uri": "https://localhost:8080/",
          "height": 295
        }
      },
      "source": [
        "plt.plot(loss_epoch_arr)\n",
        "plt.xlabel(\"epochs\")\n",
        "plt.ylabel(\"loss\")\n",
        "plt.title(\"Epochs vs Loss - Lenet With ReLU on CIFAR10\")\n",
        "plt.show()   "
      ],
      "execution_count": 0,
      "outputs": [
        {
          "output_type": "display_data",
          "data": {
            "image/png": "[encoded data removed]",
            "text/plain": [
              "<Figure size 432x288 with 1 Axes>"
            ]
          },
          "metadata": {
            "tags": []
          }
        }
      ]
    },
    {
      "cell_type": "code",
      "metadata": {
        "id": "lkLFN9RhnJUt",
        "colab_type": "code",
        "outputId": "974d0f0f-f852-4264-b2c6-53b50c607490",
        "colab": {
          "base_uri": "https://localhost:8080/",
          "height": 34
        }
      },
      "source": [
        "print('Test acc: %0.2f, Train acc: %0.2f' % (evaluation(testloader), evaluation(trainloader)))"
      ],
      "execution_count": 0,
      "outputs": [
        {
          "output_type": "stream",
          "text": [
            "Test acc: 60.62, Train acc: 79.40\n"
          ],
          "name": "stdout"
        }
      ]
    },
    {
      "cell_type": "markdown",
      "metadata": {
        "id": "RLoJL7ZAvAOu",
        "colab_type": "text"
      },
      "source": [
        "## Adding L2 Regularization\n",
        "- From the above loss plot we can see that it is overfitting the data, so we will apply L2 regularization using weight_decay in optim"
      ]
    },
    {
      "cell_type": "code",
      "metadata": {
        "id": "b-M8Crc9vRwp",
        "colab_type": "code",
        "colab": {}
      },
      "source": [
        "net = LeNet().to(device)\n",
        "loss_fn = nn.CrossEntropyLoss()\n",
        "\n",
        "#weight_decay = L2\n",
        "optimizer_l2 = torch.optim.Adam(net.parameters(), lr=1e-4, weight_decay=1e-5)\n",
        "\n",
        "#optimizer = optim.SGD(net.parameters(), lr=0.001, momentum=0.9)"
      ],
      "execution_count": 0,
      "outputs": []
    },
    {
      "cell_type": "code",
      "metadata": {
        "id": "wo4zpuU6wtwo",
        "colab_type": "code",
        "outputId": "8163240d-cf18-4a05-9317-8c74467bcf69",
        "colab": {
          "base_uri": "https://localhost:8080/",
          "height": 1198
        }
      },
      "source": [
        "%%time\n",
        "loss_arr = []\n",
        "loss_epoch_arr = []\n",
        "max_epochs = 50\n",
        "\n",
        "for epoch in range(max_epochs):\n",
        "\n",
        "    for i, data in enumerate(trainloader, 0):\n",
        "      \n",
        "        # get the inputs\n",
        "        inputs, labels = data\n",
        "        \n",
        "        #move inputs to gpu\n",
        "        inputs, labels = inputs.to(device), labels.to(device)\n",
        "        \n",
        "        # zero the parameter gradients\n",
        "        optimizer_l2.zero_grad()\n",
        "        \n",
        "        # forward + backward + optimize\n",
        "        outputs = net(inputs)\n",
        "        loss = loss_fn(outputs, labels)\n",
        "        loss.backward()\n",
        "        optimizer_l2.step()\n",
        "        \n",
        "        #store loss value for loss plot\n",
        "        loss_arr.append(loss.item())\n",
        "        \n",
        "    loss_epoch_arr.append(loss.item())\n",
        "        \n",
        "    print('Epoch: %d/%d, Test acc: %0.2f, Train acc: %0.2f' % (epoch, max_epochs, evaluation(testloader), evaluation(trainloader)))\n",
        "    \n",
        "    \n",
        "plt.plot(loss_epoch_arr)\n",
        "plt.xlabel(\"epochs\")\n",
        "plt.ylabel(\"loss\")\n",
        "plt.title(\"\")\n",
        "plt.show()    "
      ],
      "execution_count": 0,
      "outputs": [
        {
          "output_type": "stream",
          "text": [
            "Epoch: 0/50, Test acc: 28.61, Train acc: 28.83\n",
            "Epoch: 1/50, Test acc: 33.28, Train acc: 33.06\n",
            "Epoch: 2/50, Test acc: 35.30, Train acc: 35.13\n",
            "Epoch: 3/50, Test acc: 36.74, Train acc: 36.84\n",
            "Epoch: 4/50, Test acc: 37.42, Train acc: 37.52\n",
            "Epoch: 5/50, Test acc: 38.54, Train acc: 38.57\n",
            "Epoch: 6/50, Test acc: 38.96, Train acc: 39.10\n",
            "Epoch: 7/50, Test acc: 39.21, Train acc: 39.74\n",
            "Epoch: 8/50, Test acc: 40.36, Train acc: 40.46\n",
            "Epoch: 9/50, Test acc: 40.85, Train acc: 40.95\n",
            "Epoch: 10/50, Test acc: 41.27, Train acc: 41.78\n",
            "Epoch: 11/50, Test acc: 41.80, Train acc: 41.94\n",
            "Epoch: 12/50, Test acc: 42.16, Train acc: 42.76\n",
            "Epoch: 13/50, Test acc: 43.00, Train acc: 43.40\n",
            "Epoch: 14/50, Test acc: 43.05, Train acc: 43.66\n",
            "Epoch: 15/50, Test acc: 44.27, Train acc: 44.58\n",
            "Epoch: 16/50, Test acc: 44.60, Train acc: 45.17\n",
            "Epoch: 17/50, Test acc: 45.57, Train acc: 45.88\n",
            "Epoch: 18/50, Test acc: 45.94, Train acc: 46.16\n",
            "Epoch: 19/50, Test acc: 46.30, Train acc: 46.65\n",
            "Epoch: 20/50, Test acc: 47.01, Train acc: 47.15\n",
            "Epoch: 21/50, Test acc: 47.00, Train acc: 47.47\n",
            "Epoch: 22/50, Test acc: 47.41, Train acc: 47.92\n",
            "Epoch: 23/50, Test acc: 48.17, Train acc: 48.51\n",
            "Epoch: 24/50, Test acc: 48.32, Train acc: 48.73\n",
            "Epoch: 25/50, Test acc: 48.72, Train acc: 49.29\n",
            "Epoch: 26/50, Test acc: 49.24, Train acc: 49.84\n",
            "Epoch: 27/50, Test acc: 49.25, Train acc: 50.04\n",
            "Epoch: 28/50, Test acc: 49.77, Train acc: 50.52\n",
            "Epoch: 29/50, Test acc: 49.41, Train acc: 50.50\n",
            "Epoch: 30/50, Test acc: 50.55, Train acc: 51.29\n",
            "Epoch: 31/50, Test acc: 50.62, Train acc: 51.56\n",
            "Epoch: 32/50, Test acc: 50.77, Train acc: 51.77\n",
            "Epoch: 33/50, Test acc: 50.56, Train acc: 52.06\n",
            "Epoch: 34/50, Test acc: 51.30, Train acc: 52.77\n",
            "Epoch: 35/50, Test acc: 51.60, Train acc: 52.91\n",
            "Epoch: 36/50, Test acc: 51.82, Train acc: 53.28\n",
            "Epoch: 37/50, Test acc: 52.21, Train acc: 53.45\n",
            "Epoch: 38/50, Test acc: 52.22, Train acc: 53.81\n",
            "Epoch: 39/50, Test acc: 52.10, Train acc: 54.04\n",
            "Epoch: 40/50, Test acc: 52.62, Train acc: 54.05\n",
            "Epoch: 41/50, Test acc: 52.71, Train acc: 54.34\n",
            "Epoch: 42/50, Test acc: 52.59, Train acc: 54.86\n",
            "Epoch: 43/50, Test acc: 53.50, Train acc: 55.07\n",
            "Epoch: 44/50, Test acc: 53.24, Train acc: 55.10\n",
            "Epoch: 45/50, Test acc: 53.36, Train acc: 55.32\n",
            "Epoch: 46/50, Test acc: 53.42, Train acc: 55.52\n",
            "Epoch: 47/50, Test acc: 53.76, Train acc: 56.05\n",
            "Epoch: 48/50, Test acc: 53.92, Train acc: 55.99\n",
            "Epoch: 49/50, Test acc: 54.07, Train acc: 55.87\n"
          ],
          "name": "stdout"
        },
        {
          "output_type": "display_data",
          "data": {
            "image/png": "[encoded data removed]",
            "text/plain": [
              "<Figure size 432x288 with 1 Axes>"
            ]
          },
          "metadata": {
            "tags": []
          }
        },
        {
          "output_type": "stream",
          "text": [
            "CPU times: user 9min 36s, sys: 14.7 s, total: 9min 51s\n",
            "Wall time: 9min 52s\n"
          ],
          "name": "stdout"
        }
      ]
    },
    {
      "cell_type": "code",
      "metadata": {
        "id": "tcwZ1VuzWU-Q",
        "colab_type": "code",
        "colab": {}
      },
      "source": [
        "print('Test acc: %0.2f, Train acc: %0.2f' % (evaluation(testloader), evaluation(trainloader)))"
      ],
      "execution_count": 0,
      "outputs": []
    },
    {
      "cell_type": "markdown",
      "metadata": {
        "id": "R2mM8hwJymDj",
        "colab_type": "text"
      },
      "source": [
        "## Using MNIST with LeNet"
      ]
    },
    {
      "cell_type": "code",
      "metadata": {
        "id": "R1qG5DUD0toi",
        "colab_type": "code",
        "colab": {}
      },
      "source": [
        "#required data libraries\n",
        "from torchvision.datasets.mnist import MNIST"
      ],
      "execution_count": 0,
      "outputs": []
    },
    {
      "cell_type": "code",
      "metadata": {
        "id": "dEA2Vdx60tkK",
        "colab_type": "code",
        "outputId": "96876329-6e71-4c84-d413-497aff3cab1f",
        "colab": {
          "base_uri": "https://localhost:8080/",
          "height": 457
        }
      },
      "source": [
        "#downloading the train and test data and storing in a folder \n",
        "\n",
        "data_train = MNIST('./data/mnist',\n",
        "                   download=True,\n",
        "                   transform=transforms.Compose([\n",
        "                       transforms.Resize((32, 32)),\n",
        "                       transforms.ToTensor()]))\n",
        "\n",
        "data_test = MNIST('./data/mnist',\n",
        "                  train=False,\n",
        "                  download=True,\n",
        "                  transform=transforms.Compose([\n",
        "                      transforms.Resize((32, 32)),\n",
        "                      transforms.ToTensor()]))"
      ],
      "execution_count": 0,
      "outputs": [
        {
          "output_type": "stream",
          "text": [
            "\n",
            "0it [00:00, ?it/s]\u001b[A"
          ],
          "name": "stderr"
        },
        {
          "output_type": "stream",
          "text": [
            "Downloading http://yann.lecun.com/exdb/mnist/train-images-idx3-ubyte.gz to ./data/mnist/MNIST/raw/train-images-idx3-ubyte.gz\n"
          ],
          "name": "stdout"
        },
        {
          "output_type": "stream",
          "text": [
            "\n",
            "  0%|          | 0/9912422 [00:00<?, ?it/s]\u001b[A\n",
            "  1%|          | 98304/9912422 [00:00<00:13, 743677.04it/s]\u001b[A\n",
            " 11%|█         | 1081344/9912422 [00:00<00:08, 1028994.63it/s]\u001b[A\n",
            " 62%|██████▏   | 6184960/9912422 [00:00<00:02, 1457397.83it/s]\u001b[A\n",
            "9920512it [00:00, 19006667.31it/s]                            \u001b[A"
          ],
          "name": "stderr"
        },
        {
          "output_type": "stream",
          "text": [
            "Extracting ./data/mnist/MNIST/raw/train-images-idx3-ubyte.gz\n"
          ],
          "name": "stdout"
        },
        {
          "output_type": "stream",
          "text": [
            "\n",
            "0it [00:00, ?it/s]\u001b[A\n",
            " 85%|████████▌ | 24576/28881 [00:00<00:00, 245675.30it/s]\u001b[A\n",
            "32768it [00:00, 312674.64it/s]                           \u001b[A\n",
            "0it [00:00, ?it/s]\u001b[A"
          ],
          "name": "stderr"
        },
        {
          "output_type": "stream",
          "text": [
            "Downloading http://yann.lecun.com/exdb/mnist/train-labels-idx1-ubyte.gz to ./data/mnist/MNIST/raw/train-labels-idx1-ubyte.gz\n",
            "Extracting ./data/mnist/MNIST/raw/train-labels-idx1-ubyte.gz\n",
            "Downloading http://yann.lecun.com/exdb/mnist/t10k-images-idx3-ubyte.gz to ./data/mnist/MNIST/raw/t10k-images-idx3-ubyte.gz\n"
          ],
          "name": "stdout"
        },
        {
          "output_type": "stream",
          "text": [
            "\n",
            "  1%|          | 16384/1648877 [00:00<00:14, 116000.84it/s]\u001b[A\n",
            " 26%|██▌       | 425984/1648877 [00:00<00:07, 163335.88it/s]\u001b[A\n",
            "1654784it [00:00, 5102598.80it/s]                           \u001b[A\n",
            "0it [00:00, ?it/s]\u001b[A\n",
            "8192it [00:00, 123201.32it/s]\u001b[A"
          ],
          "name": "stderr"
        },
        {
          "output_type": "stream",
          "text": [
            "Extracting ./data/mnist/MNIST/raw/t10k-images-idx3-ubyte.gz\n",
            "Downloading http://yann.lecun.com/exdb/mnist/t10k-labels-idx1-ubyte.gz to ./data/mnist/MNIST/raw/t10k-labels-idx1-ubyte.gz\n",
            "Extracting ./data/mnist/MNIST/raw/t10k-labels-idx1-ubyte.gz\n",
            "Processing...\n",
            "Done!\n"
          ],
          "name": "stdout"
        }
      ]
    },
    {
      "cell_type": "code",
      "metadata": {
        "id": "P3nAh_eS1W9t",
        "colab_type": "code",
        "colab": {}
      },
      "source": [
        "batch_size = 128\n",
        "\n",
        "#define train and test loader\n",
        "trainloader = torch.utils.data.DataLoader(data_train, batch_size=batch_size, shuffle=True)\n",
        "\n",
        "testloader = torch.utils.data.DataLoader(data_train, batch_size=batch_size, shuffle=False)"
      ],
      "execution_count": 0,
      "outputs": []
    },
    {
      "cell_type": "code",
      "metadata": {
        "id": "HSCWJE2NyltS",
        "colab_type": "code",
        "colab": {}
      },
      "source": [
        "#writing lenet for mnist\n",
        "\n",
        "#Used ReLU non-linear activation instead of tanh\n",
        "\n",
        "#MNIST Data has gray images so channels will be equal to 1. The size of the image would be (1x32x32)\n",
        "\n",
        "class LeNet_mnist(nn.Module):\n",
        "    def __init__(self): \n",
        "        super(LeNet_mnist, self).__init__()\n",
        "        self.cnn_model = nn.Sequential(\n",
        "            nn.Conv2d(1, 6, 5),         # (N, 1, 32, 32) -> (N,  6, 28, 28)\n",
        "            nn.ReLU(),\n",
        "            nn.AvgPool2d(2, stride=2),  # (N, 6, 28, 28) -> (N,  6, 14, 14)\n",
        "            nn.Conv2d(6, 16, 5),        # (N, 6, 14, 14) -> (N, 16, 10, 10)  \n",
        "            nn.ReLU(),\n",
        "            nn.AvgPool2d(2, stride=2)   # (N,16, 10, 10) -> (N, 16, 5, 5)\n",
        "        )\n",
        "        self.fc_model = nn.Sequential(\n",
        "            nn.Linear(400,120),         # (N, 400) -> (N, 120)\n",
        "            nn.ReLU(),\n",
        "            nn.Linear(120,84),          # (N, 120) -> (N, 84)\n",
        "            nn.ReLU(),\n",
        "            nn.Linear(84,10)            # (N, 84)  -> (N, 10)\n",
        "        )\n",
        "        \n",
        "    def forward(self, x):\n",
        "        x = self.cnn_model(x)\n",
        "        x = x.view(x.size(0), -1)\n",
        "        x = self.fc_model(x)\n",
        "        return x"
      ],
      "execution_count": 0,
      "outputs": []
    },
    {
      "cell_type": "markdown",
      "metadata": {
        "id": "WARiNVY42Do8",
        "colab_type": "text"
      },
      "source": [
        "## Training MNIST LeNet on GPU"
      ]
    },
    {
      "cell_type": "code",
      "metadata": {
        "id": "nwHoRZQe0ju8",
        "colab_type": "code",
        "colab": {}
      },
      "source": [
        "#define a class object\n",
        "net = LeNet_mnist().to(device)\n",
        "#loss function\n",
        "loss_fn = nn.CrossEntropyLoss()\n",
        "#optimizer\n",
        "optimizer = optim.Adam(net.parameters(), lr=2e-3,weight_decay=1e-5)"
      ],
      "execution_count": 0,
      "outputs": []
    },
    {
      "cell_type": "code",
      "metadata": {
        "id": "PYROJ6M20jkc",
        "colab_type": "code",
        "outputId": "e086a8c3-bc49-4d0a-a882-405a03eb0a90",
        "colab": {
          "base_uri": "https://localhost:8080/",
          "height": 2078
        }
      },
      "source": [
        "%%time\n",
        "loss_arr = []\n",
        "loss_epoch_arr = []\n",
        "max_epochs = 100\n",
        "\n",
        "for epoch in range(max_epochs):\n",
        "\n",
        "    for i, data in enumerate(trainloader, 0):\n",
        "      \n",
        "        # get the inputs\n",
        "        inputs, labels = data\n",
        "        \n",
        "        #move inputs to gpu\n",
        "        inputs, labels = inputs.to(device), labels.to(device)\n",
        "        \n",
        "        # zero the parameter gradients\n",
        "        optimizer.zero_grad()\n",
        "        \n",
        "        # forward + backward + optimize\n",
        "        outputs = net(inputs)\n",
        "        loss = loss_fn(outputs, labels)\n",
        "        loss.backward()\n",
        "        optimizer.step()\n",
        "        \n",
        "        #store loss value for loss plot\n",
        "        loss_arr.append(loss.item())\n",
        "        \n",
        "    loss_epoch_arr.append(loss.item())\n",
        "        \n",
        "    print('Epoch: %d/%d, Test acc: %0.2f, Train acc: %0.2f' % (epoch, max_epochs, evaluation(testloader), evaluation(trainloader)))\n",
        "    \n",
        "    \n",
        "plt.plot(loss_epoch_arr)\n",
        "plt.xlabel(\"epochs\")\n",
        "plt.ylabel(\"loss\")\n",
        "plt.title(\"\")\n",
        "plt.show()    "
      ],
      "execution_count": 0,
      "outputs": [
        {
          "output_type": "stream",
          "text": [
            "Epoch: 0/100, Test acc: 99.91, Train acc: 99.91\n",
            "Epoch: 1/100, Test acc: 99.88, Train acc: 99.88\n",
            "Epoch: 2/100, Test acc: 99.93, Train acc: 99.93\n",
            "Epoch: 3/100, Test acc: 99.94, Train acc: 99.94\n",
            "Epoch: 4/100, Test acc: 99.93, Train acc: 99.93\n",
            "Epoch: 5/100, Test acc: 99.95, Train acc: 99.95\n",
            "Epoch: 6/100, Test acc: 99.60, Train acc: 99.60\n",
            "Epoch: 7/100, Test acc: 99.91, Train acc: 99.91\n",
            "Epoch: 8/100, Test acc: 99.93, Train acc: 99.93\n",
            "Epoch: 9/100, Test acc: 99.97, Train acc: 99.97\n",
            "Epoch: 10/100, Test acc: 99.97, Train acc: 99.97\n",
            "Epoch: 11/100, Test acc: 99.95, Train acc: 99.95\n",
            "Epoch: 12/100, Test acc: 99.84, Train acc: 99.84\n",
            "Epoch: 13/100, Test acc: 99.96, Train acc: 99.96\n",
            "Epoch: 14/100, Test acc: 99.94, Train acc: 99.94\n",
            "Epoch: 15/100, Test acc: 99.96, Train acc: 99.96\n",
            "Epoch: 16/100, Test acc: 99.97, Train acc: 99.97\n",
            "Epoch: 17/100, Test acc: 99.97, Train acc: 99.97\n",
            "Epoch: 18/100, Test acc: 99.99, Train acc: 99.99\n",
            "Epoch: 19/100, Test acc: 99.98, Train acc: 99.98\n",
            "Epoch: 20/100, Test acc: 99.69, Train acc: 99.69\n",
            "Epoch: 21/100, Test acc: 99.89, Train acc: 99.89\n",
            "Epoch: 22/100, Test acc: 99.97, Train acc: 99.97\n",
            "Epoch: 23/100, Test acc: 99.94, Train acc: 99.94\n",
            "Epoch: 24/100, Test acc: 99.93, Train acc: 99.93\n",
            "Epoch: 25/100, Test acc: 99.94, Train acc: 99.94\n",
            "Epoch: 26/100, Test acc: 99.91, Train acc: 99.91\n",
            "Epoch: 27/100, Test acc: 99.92, Train acc: 99.92\n",
            "Epoch: 28/100, Test acc: 99.97, Train acc: 99.97\n",
            "Epoch: 29/100, Test acc: 99.96, Train acc: 99.96\n",
            "Epoch: 30/100, Test acc: 99.95, Train acc: 99.95\n",
            "Epoch: 31/100, Test acc: 99.90, Train acc: 99.90\n",
            "Epoch: 32/100, Test acc: 99.95, Train acc: 99.95\n",
            "Epoch: 33/100, Test acc: 99.98, Train acc: 99.98\n",
            "Epoch: 34/100, Test acc: 99.93, Train acc: 99.93\n",
            "Epoch: 35/100, Test acc: 99.96, Train acc: 99.96\n",
            "Epoch: 36/100, Test acc: 99.85, Train acc: 99.85\n",
            "Epoch: 37/100, Test acc: 99.91, Train acc: 99.91\n",
            "Epoch: 38/100, Test acc: 99.97, Train acc: 99.97\n",
            "Epoch: 39/100, Test acc: 99.92, Train acc: 99.92\n",
            "Epoch: 40/100, Test acc: 99.98, Train acc: 99.98\n",
            "Epoch: 41/100, Test acc: 99.64, Train acc: 99.64\n",
            "Epoch: 42/100, Test acc: 99.96, Train acc: 99.96\n",
            "Epoch: 43/100, Test acc: 99.96, Train acc: 99.96\n",
            "Epoch: 44/100, Test acc: 99.99, Train acc: 99.99\n",
            "Epoch: 45/100, Test acc: 99.92, Train acc: 99.92\n",
            "Epoch: 46/100, Test acc: 99.80, Train acc: 99.80\n",
            "Epoch: 47/100, Test acc: 99.91, Train acc: 99.91\n",
            "Epoch: 48/100, Test acc: 99.94, Train acc: 99.94\n",
            "Epoch: 49/100, Test acc: 99.94, Train acc: 99.94\n",
            "Epoch: 50/100, Test acc: 99.90, Train acc: 99.90\n",
            "Epoch: 51/100, Test acc: 99.98, Train acc: 99.98\n",
            "Epoch: 52/100, Test acc: 99.99, Train acc: 99.99\n",
            "Epoch: 53/100, Test acc: 99.83, Train acc: 99.83\n",
            "Epoch: 54/100, Test acc: 99.92, Train acc: 99.92\n",
            "Epoch: 55/100, Test acc: 99.93, Train acc: 99.93\n",
            "Epoch: 56/100, Test acc: 99.95, Train acc: 99.95\n",
            "Epoch: 57/100, Test acc: 99.88, Train acc: 99.88\n",
            "Epoch: 58/100, Test acc: 99.93, Train acc: 99.93\n",
            "Epoch: 59/100, Test acc: 99.92, Train acc: 99.92\n",
            "Epoch: 60/100, Test acc: 99.92, Train acc: 99.92\n",
            "Epoch: 61/100, Test acc: 99.97, Train acc: 99.97\n",
            "Epoch: 62/100, Test acc: 99.85, Train acc: 99.85\n",
            "Epoch: 63/100, Test acc: 99.86, Train acc: 99.86\n",
            "Epoch: 64/100, Test acc: 99.90, Train acc: 99.90\n",
            "Epoch: 65/100, Test acc: 99.92, Train acc: 99.92\n",
            "Epoch: 66/100, Test acc: 99.96, Train acc: 99.96\n",
            "Epoch: 67/100, Test acc: 99.97, Train acc: 99.97\n",
            "Epoch: 68/100, Test acc: 99.98, Train acc: 99.98\n",
            "Epoch: 69/100, Test acc: 99.99, Train acc: 99.99\n",
            "Epoch: 70/100, Test acc: 99.97, Train acc: 99.97\n",
            "Epoch: 71/100, Test acc: 99.92, Train acc: 99.92\n",
            "Epoch: 72/100, Test acc: 99.85, Train acc: 99.85\n",
            "Epoch: 73/100, Test acc: 99.73, Train acc: 99.73\n",
            "Epoch: 74/100, Test acc: 99.98, Train acc: 99.98\n",
            "Epoch: 75/100, Test acc: 99.93, Train acc: 99.93\n",
            "Epoch: 76/100, Test acc: 99.83, Train acc: 99.83\n",
            "Epoch: 77/100, Test acc: 99.96, Train acc: 99.96\n",
            "Epoch: 78/100, Test acc: 99.92, Train acc: 99.92\n",
            "Epoch: 79/100, Test acc: 99.99, Train acc: 99.99\n",
            "Epoch: 80/100, Test acc: 99.70, Train acc: 99.70\n",
            "Epoch: 81/100, Test acc: 99.96, Train acc: 99.96\n",
            "Epoch: 82/100, Test acc: 99.98, Train acc: 99.98\n",
            "Epoch: 83/100, Test acc: 99.95, Train acc: 99.95\n",
            "Epoch: 84/100, Test acc: 99.92, Train acc: 99.92\n",
            "Epoch: 85/100, Test acc: 99.99, Train acc: 99.99\n",
            "Epoch: 86/100, Test acc: 99.99, Train acc: 99.99\n",
            "Epoch: 87/100, Test acc: 99.97, Train acc: 99.97\n",
            "Epoch: 88/100, Test acc: 99.77, Train acc: 99.77\n",
            "Epoch: 89/100, Test acc: 99.94, Train acc: 99.94\n",
            "Epoch: 90/100, Test acc: 99.96, Train acc: 99.96\n",
            "Epoch: 91/100, Test acc: 99.95, Train acc: 99.95\n",
            "Epoch: 92/100, Test acc: 99.97, Train acc: 99.97\n",
            "Epoch: 93/100, Test acc: 99.94, Train acc: 99.94\n",
            "Epoch: 94/100, Test acc: 99.92, Train acc: 99.92\n",
            "Epoch: 95/100, Test acc: 99.85, Train acc: 99.85\n",
            "Epoch: 96/100, Test acc: 99.95, Train acc: 99.95\n",
            "Epoch: 97/100, Test acc: 99.98, Train acc: 99.98\n",
            "Epoch: 98/100, Test acc: 100.00, Train acc: 100.00\n",
            "Epoch: 99/100, Test acc: 100.00, Train acc: 100.00\n"
          ],
          "name": "stdout"
        },
        {
          "output_type": "display_data",
          "data": {
            "image/png": "[encoded data removed]",
            "text/plain": [
              "<Figure size 432x288 with 1 Axes>"
            ]
          },
          "metadata": {
            "tags": []
          }
        },
        {
          "output_type": "stream",
          "text": [
            "CPU times: user 32min 1s, sys: 41.3 s, total: 32min 42s\n",
            "Wall time: 32min 44s\n"
          ],
          "name": "stdout"
        }
      ]
    },
    {
      "cell_type": "code",
      "metadata": {
        "id": "nCeN4dhbWY2Z",
        "colab_type": "code",
        "outputId": "6b9804c5-2098-46f1-9d8f-c1cdc2f48f04",
        "colab": {
          "base_uri": "https://localhost:8080/",
          "height": 34
        }
      },
      "source": [
        "print('Test acc: %0.2f, Train acc: %0.2f' % (evaluation(testloader), evaluation(trainloader)))"
      ],
      "execution_count": 0,
      "outputs": [
        {
          "output_type": "stream",
          "text": [
            "Test acc: 99.99, Train acc: 99.99\n"
          ],
          "name": "stdout"
        }
      ]
    },
    {
      "cell_type": "code",
      "metadata": {
        "id": "L9ujIm3rYhs4",
        "colab_type": "code",
        "colab": {}
      },
      "source": [
        ""
      ],
      "execution_count": 0,
      "outputs": []
    }
  ]
}