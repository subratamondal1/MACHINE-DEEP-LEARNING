{
  "nbformat": 4,
  "nbformat_minor": 0,
  "metadata": {
    "colab": {
      "name": "PyTorchCNN_FashionMNIST.ipynb",
      "version": "0.3.2",
      "provenance": [],
      "collapsed_sections": []
    },
    "kernelspec": {
      "name": "python3",
      "display_name": "Python 3"
    },
    "accelerator": "GPU"
  },
  "cells": [
    {
      "cell_type": "markdown",
      "metadata": {
        "id": "_rYNWvKcALr7",
        "colab_type": "text"
      },
      "source": [
        "# FashionMNIST Using Pytorch\n",
        "* **References: The code in this notebook is taken from the deep learning course by [PadhAI](https://padhai.onefourthlabs.in/).**"
      ]
    },
    {
      "cell_type": "markdown",
      "metadata": {
        "id": "6yY-u1fMO3se",
        "colab_type": "text"
      },
      "source": [
        "## Outline\n",
        "\n",
        "* Downloading dataset (Fashion MNIST)\n",
        "* `Dataloader` in `torch.utils`\n",
        "* Visualising images\n",
        "* Single and multiple convolutional layers\n",
        "* LeNet\n",
        "* Training LeNet\n",
        "* Training on GPU\n",
        "* Simple visualisation\n",
        "* Exercises"
      ]
    },
    {
      "cell_type": "code",
      "metadata": {
        "id": "ebTDFe6qZOS6",
        "colab_type": "code",
        "outputId": "996a74f6-aca4-4667-8327-9cebfe22114f",
        "colab": {
          "base_uri": "https://localhost:8080/",
          "height": 52
        }
      },
      "source": [
        "#import lib\n",
        "import torch\n",
        "import matplotlib.pyplot as plt\n",
        "import numpy as np\n",
        "plt.figure(figsize = (3,3))"
      ],
      "execution_count": 0,
      "outputs": [
        {
          "output_type": "execute_result",
          "data": {
            "text/plain": [
              "<Figure size 216x216 with 0 Axes>"
            ]
          },
          "metadata": {
            "tags": []
          },
          "execution_count": 1
        },
        {
          "output_type": "display_data",
          "data": {
            "text/plain": [
              "<Figure size 216x216 with 0 Axes>"
            ]
          },
          "metadata": {
            "tags": []
          }
        }
      ]
    },
    {
      "cell_type": "markdown",
      "metadata": {
        "id": "v3RZSgGLO9iY",
        "colab_type": "text"
      },
      "source": [
        "## Data loading"
      ]
    },
    {
      "cell_type": "code",
      "metadata": {
        "id": "fOgFtnl2ZXsx",
        "colab_type": "code",
        "outputId": "fdd04f00-0c2f-4758-f903-98c1a5a05b3b",
        "colab": {
          "base_uri": "https://localhost:8080/",
          "height": 263
        }
      },
      "source": [
        "import torchvision\n",
        "import torchvision.transforms as transforms\n",
        "\n",
        "#setup training set\n",
        "#transforming the PIL Image to tensors\n",
        "trainset = torchvision.datasets.FashionMNIST(root = \"./data\", train = True, download = True, transform = transforms.ToTensor())"
      ],
      "execution_count": 0,
      "outputs": [
        {
          "output_type": "stream",
          "text": [
            "\r0it [00:00, ?it/s]"
          ],
          "name": "stderr"
        },
        {
          "output_type": "stream",
          "text": [
            "Downloading http://fashion-mnist.s3-website.eu-central-1.amazonaws.com/train-images-idx3-ubyte.gz to ./data/FashionMNIST/raw/train-images-idx3-ubyte.gz\n"
          ],
          "name": "stdout"
        },
        {
          "output_type": "stream",
          "text": [
            "26427392it [00:02, 10704941.10it/s]                             \n"
          ],
          "name": "stderr"
        },
        {
          "output_type": "stream",
          "text": [
            "Extracting ./data/FashionMNIST/raw/train-images-idx3-ubyte.gz\n"
          ],
          "name": "stdout"
        },
        {
          "output_type": "stream",
          "text": [
            "\r0it [00:00, ?it/s]"
          ],
          "name": "stderr"
        },
        {
          "output_type": "stream",
          "text": [
            "Downloading http://fashion-mnist.s3-website.eu-central-1.amazonaws.com/train-labels-idx1-ubyte.gz to ./data/FashionMNIST/raw/train-labels-idx1-ubyte.gz\n"
          ],
          "name": "stdout"
        },
        {
          "output_type": "stream",
          "text": [
            "32768it [00:00, 70045.47it/s]                            \n",
            "0it [00:00, ?it/s]"
          ],
          "name": "stderr"
        },
        {
          "output_type": "stream",
          "text": [
            "Extracting ./data/FashionMNIST/raw/train-labels-idx1-ubyte.gz\n",
            "Downloading http://fashion-mnist.s3-website.eu-central-1.amazonaws.com/t10k-images-idx3-ubyte.gz to ./data/FashionMNIST/raw/t10k-images-idx3-ubyte.gz\n"
          ],
          "name": "stdout"
        },
        {
          "output_type": "stream",
          "text": [
            "4423680it [00:01, 3160862.33it/s]                            \n",
            "0it [00:00, ?it/s]"
          ],
          "name": "stderr"
        },
        {
          "output_type": "stream",
          "text": [
            "Extracting ./data/FashionMNIST/raw/t10k-images-idx3-ubyte.gz\n",
            "Downloading http://fashion-mnist.s3-website.eu-central-1.amazonaws.com/t10k-labels-idx1-ubyte.gz to ./data/FashionMNIST/raw/t10k-labels-idx1-ubyte.gz\n"
          ],
          "name": "stdout"
        },
        {
          "output_type": "stream",
          "text": [
            "8192it [00:00, 26092.33it/s]            "
          ],
          "name": "stderr"
        },
        {
          "output_type": "stream",
          "text": [
            "Extracting ./data/FashionMNIST/raw/t10k-labels-idx1-ubyte.gz\n",
            "Processing...\n",
            "Done!\n"
          ],
          "name": "stdout"
        },
        {
          "output_type": "stream",
          "text": [
            "\n"
          ],
          "name": "stderr"
        }
      ]
    },
    {
      "cell_type": "code",
      "metadata": {
        "id": "dpU3_h-JaFi_",
        "colab_type": "code",
        "colab": {}
      },
      "source": [
        "#loading the training data from trainset\n",
        "trainloader = torch.utils.data.DataLoader(trainset, batch_size=4, shuffle = True)"
      ],
      "execution_count": 0,
      "outputs": []
    },
    {
      "cell_type": "code",
      "metadata": {
        "id": "TGkggskRaXhz",
        "colab_type": "code",
        "outputId": "0513da34-d4f8-4afb-df6b-9fe08e64cf65",
        "colab": {
          "base_uri": "https://localhost:8080/",
          "height": 70
        }
      },
      "source": [
        "#sneak peak into the train data\n",
        "\n",
        "#iterating into the data\n",
        "dataiter = iter(trainloader)\n",
        "images, labels = dataiter.next()\n",
        "\n",
        "print(images.shape) #shape of all 4 images\n",
        "print(images[1].shape) #shape of one image\n",
        "print(labels[1].item()) #label number"
      ],
      "execution_count": 0,
      "outputs": [
        {
          "output_type": "stream",
          "text": [
            "torch.Size([4, 1, 28, 28])\n",
            "torch.Size([1, 28, 28])\n",
            "7\n"
          ],
          "name": "stdout"
        }
      ]
    },
    {
      "cell_type": "markdown",
      "metadata": {
        "id": "bQTsI03XPGId",
        "colab_type": "text"
      },
      "source": [
        "## Visualise data"
      ]
    },
    {
      "cell_type": "code",
      "metadata": {
        "id": "RMLgzgf8PtN9",
        "colab_type": "code",
        "outputId": "1d130dfe-0675-4285-ffbf-a6d78d5f01a0",
        "colab": {
          "base_uri": "https://localhost:8080/",
          "height": 34
        }
      },
      "source": [
        "#taking the first image from batch of 4 images\n",
        "\n",
        "img = images[1]\n",
        "print(type(img))"
      ],
      "execution_count": 0,
      "outputs": [
        {
          "output_type": "stream",
          "text": [
            "<class 'torch.Tensor'>\n"
          ],
          "name": "stdout"
        }
      ]
    },
    {
      "cell_type": "code",
      "metadata": {
        "id": "mXeB_gG9QIIW",
        "colab_type": "code",
        "outputId": "4fdb0132-2e9c-4b27-dfe1-7b75f5fdd264",
        "colab": {
          "base_uri": "https://localhost:8080/",
          "height": 34
        }
      },
      "source": [
        "#convert the tensor to numpy for displaying the image\n",
        "npimg = img.numpy()\n",
        "print(npimg.shape)"
      ],
      "execution_count": 0,
      "outputs": [
        {
          "output_type": "stream",
          "text": [
            "(1, 28, 28)\n"
          ],
          "name": "stdout"
        }
      ]
    },
    {
      "cell_type": "code",
      "metadata": {
        "id": "T7MfJdNAQKmy",
        "colab_type": "code",
        "outputId": "48223251-a08a-4e6c-8e6f-31ee7233b493",
        "colab": {
          "base_uri": "https://localhost:8080/",
          "height": 34
        }
      },
      "source": [
        "#for displaying the image, shape of the image should be height * width * channels\n",
        "npimg = np.transpose(npimg, (1, 2, 0))\n",
        "print(npimg.shape)"
      ],
      "execution_count": 0,
      "outputs": [
        {
          "output_type": "stream",
          "text": [
            "(28, 28, 1)\n"
          ],
          "name": "stdout"
        }
      ]
    },
    {
      "cell_type": "code",
      "metadata": {
        "id": "c-x3SfH0aapV",
        "colab_type": "code",
        "outputId": "dc12bda3-ab96-40a5-ad8c-ae92815b5db1",
        "colab": {
          "base_uri": "https://localhost:8080/",
          "height": 34
        }
      },
      "source": [
        "np.squeeze(npimg).shape"
      ],
      "execution_count": 0,
      "outputs": [
        {
          "output_type": "execute_result",
          "data": {
            "text/plain": [
              "(28, 28)"
            ]
          },
          "metadata": {
            "tags": []
          },
          "execution_count": 8
        }
      ]
    },
    {
      "cell_type": "code",
      "metadata": {
        "id": "Xjh0IJNIQS4G",
        "colab_type": "code",
        "outputId": "8e3a98ee-f811-4b1a-b923-17babff3d292",
        "colab": {
          "base_uri": "https://localhost:8080/",
          "height": 160
        }
      },
      "source": [
        "plt.figure(figsize = (2,2))\n",
        "plt.imshow(np.squeeze(npimg))\n",
        "plt.show()"
      ],
      "execution_count": 0,
      "outputs": [
        {
          "output_type": "display_data",
          "data": {
            "image/png": "[encoded data removed]",
            "text/plain": [
              "<Figure size 144x144 with 1 Axes>"
            ]
          },
          "metadata": {
            "tags": []
          }
        }
      ]
    },
    {
      "cell_type": "code",
      "metadata": {
        "id": "ItDj5P3xZrX3",
        "colab_type": "code",
        "colab": {}
      },
      "source": [
        "classes = ('T-Shirt','Trouser','Pullover','Dress','Coat','Sandal','Shirt','Sneaker','Bag','Ankle Boot')\n",
        "\n",
        "def imshow(img):\n",
        "    npimg = img.numpy() #convert the tensor to numpy for displaying the image\n",
        "    plt.imshow(np.transpose(npimg, (1, 2, 0))) #for displaying the image, shape of the image should be height * width * channels\n",
        "    plt.show()"
      ],
      "execution_count": 0,
      "outputs": []
    },
    {
      "cell_type": "code",
      "metadata": {
        "id": "SUUH0-2PFMLQ",
        "colab_type": "code",
        "outputId": "42daa6e7-4e09-4fa4-dc2d-fc81a435c18d",
        "colab": {
          "base_uri": "https://localhost:8080/",
          "height": 157
        }
      },
      "source": [
        "imshow(torchvision.utils.make_grid(images))\n",
        "print(' '.join(classes[labels[j]] for j in range(4)))"
      ],
      "execution_count": 0,
      "outputs": [
        {
          "output_type": "display_data",
          "data": {
            "image/png": "[encoded data removed]",
            "text/plain": [
              "<Figure size 432x288 with 1 Axes>"
            ]
          },
          "metadata": {
            "tags": []
          }
        },
        {
          "output_type": "stream",
          "text": [
            "Coat Sneaker T-Shirt Sneaker\n"
          ],
          "name": "stdout"
        }
      ]
    },
    {
      "cell_type": "markdown",
      "metadata": {
        "id": "KIP5NFfgQfNo",
        "colab_type": "text"
      },
      "source": [
        "## Single Convolutional Layer"
      ]
    },
    {
      "cell_type": "code",
      "metadata": {
        "id": "5tcRedwjFgYB",
        "colab_type": "code",
        "colab": {}
      },
      "source": [
        "import torch.nn as nn"
      ],
      "execution_count": 0,
      "outputs": []
    },
    {
      "cell_type": "code",
      "metadata": {
        "id": "-J1FCUm6FlR6",
        "colab_type": "code",
        "colab": {}
      },
      "source": [
        "class FirstCNN(nn.Module):\n",
        "    def __init__(self):\n",
        "        super(FirstCNN, self).__init__()\n",
        "        #single layer convolution\n",
        "        self.conv1 = nn.Conv2d(1, 16, 3, padding = (1,1), stride = (2, 2))\n",
        "    \n",
        "    def forward(self, x):\n",
        "        #execute forward pass\n",
        "        x = self.conv1(x)\n",
        "        return(x)"
      ],
      "execution_count": 0,
      "outputs": []
    },
    {
      "cell_type": "code",
      "metadata": {
        "id": "Gj33mJuCg8w-",
        "colab_type": "code",
        "colab": {}
      },
      "source": [
        "#create a object of class\n",
        "net = FirstCNN()"
      ],
      "execution_count": 0,
      "outputs": []
    },
    {
      "cell_type": "code",
      "metadata": {
        "id": "Y7A3DS7kMBpD",
        "colab_type": "code",
        "outputId": "4e0f4948-0e8f-4eb4-e50b-c067195d5594",
        "colab": {
          "base_uri": "https://localhost:8080/",
          "height": 70
        }
      },
      "source": [
        "#print summary of network\n",
        "print(net)"
      ],
      "execution_count": 0,
      "outputs": [
        {
          "output_type": "stream",
          "text": [
            "FirstCNN(\n",
            "  (conv1): Conv2d(1, 16, kernel_size=(3, 3), stride=(2, 2), padding=(1, 1))\n",
            ")\n"
          ],
          "name": "stdout"
        }
      ]
    },
    {
      "cell_type": "code",
      "metadata": {
        "id": "KhxO4p0RKldv",
        "colab_type": "code",
        "outputId": "e10b6090-2bba-4c6f-c781-451f2ee8e434",
        "colab": {
          "base_uri": "https://localhost:8080/",
          "height": 34
        }
      },
      "source": [
        "#input shape\n",
        "images.shape"
      ],
      "execution_count": 0,
      "outputs": [
        {
          "output_type": "execute_result",
          "data": {
            "text/plain": [
              "torch.Size([4, 1, 28, 28])"
            ]
          },
          "metadata": {
            "tags": []
          },
          "execution_count": 16
        }
      ]
    },
    {
      "cell_type": "code",
      "metadata": {
        "id": "BnAWY2-qg9jR",
        "colab_type": "code",
        "outputId": "89cc538a-ecc8-4bf6-c242-45dded7ddbc6",
        "colab": {
          "base_uri": "https://localhost:8080/",
          "height": 34
        }
      },
      "source": [
        "#output from the convolution\n",
        "out = net(images)\n",
        "out.shape"
      ],
      "execution_count": 0,
      "outputs": [
        {
          "output_type": "execute_result",
          "data": {
            "text/plain": [
              "torch.Size([4, 16, 14, 14])"
            ]
          },
          "metadata": {
            "tags": []
          },
          "execution_count": 17
        }
      ]
    },
    {
      "cell_type": "code",
      "metadata": {
        "id": "ynP7midTjfIn",
        "colab_type": "code",
        "outputId": "8b328b8d-6b17-4c84-acb4-8d3eb8c8ce3e",
        "colab": {
          "base_uri": "https://localhost:8080/",
          "height": 52
        }
      },
      "source": [
        "#total parameters in a network\n",
        "for param in net.parameters():\n",
        "    print(param.shape, \"Parameters\")"
      ],
      "execution_count": 0,
      "outputs": [
        {
          "output_type": "stream",
          "text": [
            "torch.Size([16, 1, 3, 3]) Parameters\n",
            "torch.Size([16]) Parameters\n"
          ],
          "name": "stdout"
        }
      ]
    },
    {
      "cell_type": "code",
      "metadata": {
        "id": "aBYgoxzEia-D",
        "colab_type": "code",
        "outputId": "197b8477-13eb-425f-dd51-b0c95d74e589",
        "colab": {
          "base_uri": "https://localhost:8080/",
          "height": 34
        }
      },
      "source": [
        "#plotting the output of convolution, taking the first channel\n",
        "out1 = out[0, 0, :, :].detach().numpy()\n",
        "print(out1.shape)"
      ],
      "execution_count": 0,
      "outputs": [
        {
          "output_type": "stream",
          "text": [
            "(14, 14)\n"
          ],
          "name": "stdout"
        }
      ]
    },
    {
      "cell_type": "code",
      "metadata": {
        "id": "FG8Mqfw5i7hP",
        "colab_type": "code",
        "outputId": "4e7307d0-ad4b-40f9-9db2-101c146e1ad0",
        "colab": {
          "base_uri": "https://localhost:8080/",
          "height": 286
        }
      },
      "source": [
        "#display the output in the first layer\n",
        "\n",
        "plt.imshow(out[0, 0, :, :].detach().numpy())\n",
        "plt.figure(figsize = (10,10), dpi = 2000)\n",
        "plt.show()\n"
      ],
      "execution_count": 0,
      "outputs": [
        {
          "output_type": "display_data",
          "data": {
            "image/png": "[encoded data removed]",
            "text/plain": [
              "<Figure size 432x288 with 1 Axes>"
            ]
          },
          "metadata": {
            "tags": []
          }
        },
        {
          "output_type": "display_data",
          "data": {
            "text/plain": [
              "<Figure size 20000x20000 with 0 Axes>"
            ]
          },
          "metadata": {
            "tags": []
          }
        }
      ]
    },
    {
      "cell_type": "code",
      "metadata": {
        "id": "NGNSccAdMIYE",
        "colab_type": "code",
        "outputId": "5ba8cba9-fcd8-4658-f910-dcef627ecb2a",
        "colab": {
          "base_uri": "https://localhost:8080/",
          "height": 286
        }
      },
      "source": [
        "#looking into the layer output, second layer output\n",
        "\n",
        "plt.imshow(out[0, 1, :, :].detach().numpy())\n",
        "plt.figure(figsize = (10,10))\n",
        "plt.show()"
      ],
      "execution_count": 0,
      "outputs": [
        {
          "output_type": "display_data",
          "data": {
            "image/png": "[encoded data removed]",
            "text/plain": [
              "<Figure size 432x288 with 1 Axes>"
            ]
          },
          "metadata": {
            "tags": []
          }
        },
        {
          "output_type": "display_data",
          "data": {
            "text/plain": [
              "<Figure size 720x720 with 0 Axes>"
            ]
          },
          "metadata": {
            "tags": []
          }
        }
      ]
    },
    {
      "cell_type": "markdown",
      "metadata": {
        "id": "Y6nSsRqRQ3sJ",
        "colab_type": "text"
      },
      "source": [
        "## Deep Convolutional Network"
      ]
    },
    {
      "cell_type": "code",
      "metadata": {
        "colab_type": "code",
        "id": "t6Hrh22nOFsB",
        "colab": {}
      },
      "source": [
        "#creating custom convolution network using two blocks of 2D convolution\n",
        "class FirstCNN_v2(nn.Module):\n",
        "    def __init__(self): \n",
        "        super(FirstCNN_v2, self).__init__()\n",
        "        #create a cnn using nn.sequential\n",
        "        self.model = nn.Sequential(\n",
        "            nn.Conv2d(1, 8, 3),   # (N, 1, 32, 32) -> (N, 8, 30, 30)\n",
        "            nn.Conv2d(8, 16, 3)   # (N, 8, 30, 30) -> (N, 16, 28, 28)\n",
        "        )\n",
        "        \n",
        "    def forward(self, x):\n",
        "        x = self.model(x)\n",
        "        return x"
      ],
      "execution_count": 0,
      "outputs": []
    },
    {
      "cell_type": "code",
      "metadata": {
        "id": "1TlJtTMoliU3",
        "colab_type": "code",
        "outputId": "1020c11f-eb20-467f-eb30-c4da17d695cf",
        "colab": {
          "base_uri": "https://localhost:8080/",
          "height": 34
        }
      },
      "source": [
        "#create a class object and pass the input images to it.\n",
        "net = FirstCNN_v2()\n",
        "out = net(images)\n",
        "out.shape"
      ],
      "execution_count": 0,
      "outputs": [
        {
          "output_type": "execute_result",
          "data": {
            "text/plain": [
              "torch.Size([4, 16, 24, 24])"
            ]
          },
          "metadata": {
            "tags": []
          },
          "execution_count": 23
        }
      ]
    },
    {
      "cell_type": "code",
      "metadata": {
        "id": "jpPuOr1TlilH",
        "colab_type": "code",
        "outputId": "32eeef5f-7fae-484d-cfef-dd77caa10972",
        "colab": {
          "base_uri": "https://localhost:8080/",
          "height": 286
        }
      },
      "source": [
        "#visualize the convolution layer\n",
        "plt.imshow(out[0, 0, :, :].detach().numpy())"
      ],
      "execution_count": 0,
      "outputs": [
        {
          "output_type": "execute_result",
          "data": {
            "text/plain": [
              "<matplotlib.image.AxesImage at 0x7f51b5574f98>"
            ]
          },
          "metadata": {
            "tags": []
          },
          "execution_count": 24
        },
        {
          "output_type": "display_data",
          "data": {
            "image/png": "[encoded data removed]",
            "text/plain": [
              "<Figure size 432x288 with 1 Axes>"
            ]
          },
          "metadata": {
            "tags": []
          }
        }
      ]
    },
    {
      "cell_type": "code",
      "metadata": {
        "id": "5GnYimnTmFyi",
        "colab_type": "code",
        "colab": {}
      },
      "source": [
        "#in this class, we will use AvgPool for averge pooling - sub sampling\n",
        "class FirstCNN_v3(nn.Module):\n",
        "    def __init__(self): \n",
        "        super(FirstCNN_v3, self).__init__()\n",
        "        self.model = nn.Sequential(\n",
        "            nn.Conv2d(1, 6, 5),          # (N, 1, 32, 32) -> (N, 6, 28, 28)\n",
        "            nn.AvgPool2d(kernel_size = 2, stride=2),   # (N, 6, 28, 28) -> (N, 6, 14, 14)\n",
        "            nn.Conv2d(6, 16, 5),         # (N, 6, 14, 14) -> (N, 16, 10, 10)\n",
        "            nn.AvgPool2d(2, stride=2)    # (N, 16, 10, 10) -> (N, 16, 5, 5)\n",
        "        )\n",
        "        \n",
        "    def forward(self, x):\n",
        "        x = self.model(x)\n",
        "        return x"
      ],
      "execution_count": 0,
      "outputs": []
    },
    {
      "cell_type": "code",
      "metadata": {
        "id": "ldq1anrdmwox",
        "colab_type": "code",
        "outputId": "d76877db-8270-4723-de33-c10843ebd0fe",
        "colab": {
          "base_uri": "https://localhost:8080/",
          "height": 34
        }
      },
      "source": [
        "#create a class object and pass the input images to it.\n",
        "net = FirstCNN_v3()\n",
        "out = net(images)\n",
        "out.shape"
      ],
      "execution_count": 0,
      "outputs": [
        {
          "output_type": "execute_result",
          "data": {
            "text/plain": [
              "torch.Size([4, 16, 4, 4])"
            ]
          },
          "metadata": {
            "tags": []
          },
          "execution_count": 26
        }
      ]
    },
    {
      "cell_type": "code",
      "metadata": {
        "id": "tOnUd7TyVunB",
        "colab_type": "code",
        "outputId": "ea955a4a-5292-4f6d-f37d-1fe7d676ca91",
        "colab": {
          "base_uri": "https://localhost:8080/",
          "height": 269
        }
      },
      "source": [
        "#visualize the layer outputs\n",
        "plt.imshow(out[0, 0, :, :].detach().numpy())\n",
        "plt.show()"
      ],
      "execution_count": 0,
      "outputs": [
        {
          "output_type": "display_data",
          "data": {
            "image/png": "[encoded data removed]",
            "text/plain": [
              "<Figure size 432x288 with 1 Axes>"
            ]
          },
          "metadata": {
            "tags": []
          }
        }
      ]
    },
    {
      "cell_type": "code",
      "metadata": {
        "id": "sAEGAfpdO8zd",
        "colab_type": "code",
        "outputId": "615d3b69-75bb-4323-a9c2-2440abdcbe5e",
        "colab": {
          "base_uri": "https://localhost:8080/",
          "height": 269
        }
      },
      "source": [
        "plt.imshow(out[0, 1, :, :].detach().numpy())\n",
        "plt.show()"
      ],
      "execution_count": 0,
      "outputs": [
        {
          "output_type": "display_data",
          "data": {
            "image/png": "[encoded data removed]",
            "text/plain": [
              "<Figure size 432x288 with 1 Axes>"
            ]
          },
          "metadata": {
            "tags": []
          }
        }
      ]
    },
    {
      "cell_type": "markdown",
      "metadata": {
        "id": "vymNQCrDQ7dM",
        "colab_type": "text"
      },
      "source": [
        "## LeNet\n",
        "\n",
        "- Tanh Activation"
      ]
    },
    {
      "cell_type": "code",
      "metadata": {
        "id": "k4rIj1LtPFWg",
        "colab_type": "code",
        "colab": {}
      },
      "source": [
        "#class implementing the lenet network\n",
        "class LeNet(nn.Module):\n",
        "    def __init__(self):\n",
        "        super(LeNet, self).__init__()\n",
        "        self.cnn_model = nn.Sequential(\n",
        "            nn.Conv2d(1, 6, kernel_size = 5), #(N, 1, 28, 28) -> (N, 6, 24, 24)\n",
        "            nn.Tanh(),\n",
        "            nn.AvgPool2d(2, stride = 2), #(N, 6, 24, 24) -> (N, 6, 12, 12)\n",
        "            \n",
        "            nn.Conv2d(6, 16, kernel_size = 5), #(N, 6, 12, 12) -> (N, 6, 8, 8)\n",
        "            nn.Tanh(),\n",
        "            nn.AvgPool2d(2, stride = 2)) #(N, 6, 8, 8) -> (N, 16, 4, 4)\n",
        "    \n",
        "        self.fc_model = nn.Sequential(\n",
        "            nn.Linear(256, 120), # (N, 256) -> (N, 120)\n",
        "            nn.Tanh(),\n",
        "            nn.Linear(120, 84), # (N, 120) -> (N, 84)\n",
        "            nn.Tanh(),\n",
        "            nn.Linear(84, 10))  # (N, 84)  -> (N, 10))\n",
        "            \n",
        "    def forward(self, x):\n",
        "        #print(x.shape)\n",
        "        x = self.cnn_model(x)\n",
        "        #print(x.shape)\n",
        "        #print(x)\n",
        "        x = x.view(x.size(0), -1)\n",
        "        #print(x.shape)\n",
        "        x = self.fc_model(x)\n",
        "        #print(x.shape)\n",
        "        return x"
      ],
      "execution_count": 0,
      "outputs": []
    },
    {
      "cell_type": "code",
      "metadata": {
        "id": "hruUII0sRIO4",
        "colab_type": "code",
        "colab": {}
      },
      "source": [
        "net = LeNet()\n",
        "#running the lenet cnn\n",
        "out = net(images)"
      ],
      "execution_count": 0,
      "outputs": []
    },
    {
      "cell_type": "code",
      "metadata": {
        "id": "2E66qlEzRapT",
        "colab_type": "code",
        "outputId": "a098b831-0b17-4d32-9e90-9e5bb0424115",
        "colab": {
          "base_uri": "https://localhost:8080/",
          "height": 158
        }
      },
      "source": [
        "#printing the class probabilities for 4 different images\n",
        "print(out)"
      ],
      "execution_count": 0,
      "outputs": [
        {
          "output_type": "stream",
          "text": [
            "tensor([[-0.0640,  0.1498, -0.1436, -0.0763,  0.0496,  0.0011, -0.1011, -0.0966,\n",
            "          0.0568, -0.0271],\n",
            "        [-0.0470,  0.1197, -0.1052, -0.0833,  0.0124,  0.0239, -0.0796, -0.0615,\n",
            "          0.0176, -0.0425],\n",
            "        [-0.0677,  0.1336, -0.1360, -0.0762,  0.0470,  0.0095, -0.0797, -0.0866,\n",
            "          0.0385, -0.0213],\n",
            "        [-0.0515,  0.1153, -0.1038, -0.0766,  0.0112,  0.0185, -0.0835, -0.0528,\n",
            "          0.0261, -0.0288]], grad_fn=<AddmmBackward>)\n"
          ],
          "name": "stdout"
        }
      ]
    },
    {
      "cell_type": "code",
      "metadata": {
        "id": "ZiYvD0l7Rhma",
        "colab_type": "code",
        "outputId": "940f738e-c3b3-4eb1-e12b-948efd16be69",
        "colab": {
          "base_uri": "https://localhost:8080/",
          "height": 34
        }
      },
      "source": [
        "#taking only the maximum value \n",
        "max_values, pred_class = torch.max(out.data, 1)\n",
        "print(pred_class)"
      ],
      "execution_count": 0,
      "outputs": [
        {
          "output_type": "stream",
          "text": [
            "tensor([1, 1, 1, 1])\n"
          ],
          "name": "stdout"
        }
      ]
    },
    {
      "cell_type": "markdown",
      "metadata": {
        "id": "lOQGdybZRQqk",
        "colab_type": "text"
      },
      "source": [
        "## Training LeNet"
      ]
    },
    {
      "cell_type": "code",
      "metadata": {
        "id": "GOWc4kya8UDC",
        "colab_type": "code",
        "colab": {}
      },
      "source": [
        "#increase the batch size\n",
        "batch_size = 128\n",
        "\n",
        "#download the data again and set the train, test loader with different batch size\n",
        "trainset = torchvision.datasets.FashionMNIST(root='./data', train=True, download=True, transform=transforms.ToTensor())\n",
        "trainloader = torch.utils.data.DataLoader(trainset, batch_size=batch_size, shuffle=True)\n",
        "testset = torchvision.datasets.FashionMNIST(root='./data', train=False, download=True, transform=transforms.ToTensor())\n",
        "testloader = torch.utils.data.DataLoader(testset, batch_size=batch_size, shuffle=False)"
      ],
      "execution_count": 0,
      "outputs": []
    },
    {
      "cell_type": "code",
      "metadata": {
        "id": "odvM-ziiSyH_",
        "colab_type": "code",
        "colab": {}
      },
      "source": [
        "def evaluation(dataloader):\n",
        "  #function to calculate the accuracy\n",
        "    total, correct = 0, 0\n",
        "    for data in dataloader:\n",
        "        #get the input and labels from data\n",
        "        inputs, labels = data\n",
        "        outputs = net(inputs)\n",
        "        _, pred = torch.max(outputs.data, 1)\n",
        "        total += labels.size(0)\n",
        "        #calculate the accuracy\n",
        "        correct += (pred == labels).sum().item()\n",
        "        \n",
        "    return(100 * correct/total)"
      ],
      "execution_count": 0,
      "outputs": []
    },
    {
      "cell_type": "code",
      "metadata": {
        "id": "3pYTvSvD2TwM",
        "colab_type": "code",
        "colab": {}
      },
      "source": [
        "#create an object of LeNet class, \n",
        "net = LeNet()"
      ],
      "execution_count": 0,
      "outputs": []
    },
    {
      "cell_type": "code",
      "metadata": {
        "id": "2T6Wzz7J2xq3",
        "colab_type": "code",
        "colab": {}
      },
      "source": [
        "import torch.optim as optim\n",
        "\n",
        "#define the loss function \n",
        "loss_fn = nn.CrossEntropyLoss()\n",
        "#using the adam optimizer for backpropagation\n",
        "opt = optim.Adam(net.parameters())"
      ],
      "execution_count": 0,
      "outputs": []
    },
    {
      "cell_type": "code",
      "metadata": {
        "id": "a0LnxsXi6Cgt",
        "colab_type": "code",
        "outputId": "0ad2c45d-ef33-46f0-927d-1bedf3a964a8",
        "colab": {
          "base_uri": "https://localhost:8080/",
          "height": 480
        }
      },
      "source": [
        "%%time\n",
        "loss_arr = []\n",
        "loss_epoch_arr = []\n",
        "max_epochs = 10 #epoch count\n",
        "\n",
        "for epoch in range(max_epochs):\n",
        "\n",
        "    for i, data in enumerate(trainloader, 0):\n",
        "\n",
        "        inputs, labels = data\n",
        "        \n",
        "        #forward pass\n",
        "        outputs = net(inputs)\n",
        "        loss = loss_fn(outputs, labels)\n",
        "        \n",
        "        #backward and optimize\n",
        "        opt.zero_grad()\n",
        "        loss.backward()\n",
        "        opt.step()\n",
        "        \n",
        "        loss_arr.append(loss.item())\n",
        "        \n",
        "    loss_epoch_arr.append(loss.item())\n",
        "        \n",
        "    print('Epoch: %d/%d, Test acc: %0.2f, Train acc: %0.2f' % (epoch, max_epochs, evaluation(testloader), evaluation(trainloader)))\n",
        "    \n",
        "    \n",
        "plt.plot(loss_epoch_arr)\n",
        "plt.show()"
      ],
      "execution_count": 0,
      "outputs": [
        {
          "output_type": "stream",
          "text": [
            "Epoch: 0/10, Test acc: 78.97, Train acc: 80.42\n",
            "Epoch: 1/10, Test acc: 81.15, Train acc: 82.73\n",
            "Epoch: 2/10, Test acc: 83.33, Train acc: 84.54\n",
            "Epoch: 3/10, Test acc: 85.51, Train acc: 86.86\n",
            "Epoch: 4/10, Test acc: 85.71, Train acc: 86.97\n",
            "Epoch: 5/10, Test acc: 85.68, Train acc: 87.36\n",
            "Epoch: 6/10, Test acc: 87.04, Train acc: 88.66\n",
            "Epoch: 7/10, Test acc: 87.57, Train acc: 89.32\n",
            "Epoch: 8/10, Test acc: 87.67, Train acc: 89.37\n",
            "Epoch: 9/10, Test acc: 87.45, Train acc: 89.48\n"
          ],
          "name": "stdout"
        },
        {
          "output_type": "display_data",
          "data": {
            "image/png": "[encoded data removed]",
            "text/plain": [
              "<Figure size 432x288 with 1 Axes>"
            ]
          },
          "metadata": {
            "tags": []
          }
        },
        {
          "output_type": "stream",
          "text": [
            "CPU times: user 5min 25s, sys: 7.94 s, total: 5min 33s\n",
            "Wall time: 5min 34s\n"
          ],
          "name": "stdout"
        }
      ]
    },
    {
      "cell_type": "markdown",
      "metadata": {
        "id": "ECHeB_BUTHl5",
        "colab_type": "text"
      },
      "source": [
        "## Move to GPU"
      ]
    },
    {
      "cell_type": "code",
      "metadata": {
        "id": "Mj0-Y6zJTJ5z",
        "colab_type": "code",
        "outputId": "c661998c-1651-4e16-d7bb-3af42a545232",
        "colab": {
          "base_uri": "https://localhost:8080/",
          "height": 34
        }
      },
      "source": [
        "#reference a variable to gpu card\n",
        "device = torch.device(\"cuda:0\" if torch.cuda.is_available() else \"cpu\")\n",
        "print(device)"
      ],
      "execution_count": 0,
      "outputs": [
        {
          "output_type": "stream",
          "text": [
            "cuda:0\n"
          ],
          "name": "stdout"
        }
      ]
    },
    {
      "cell_type": "code",
      "metadata": {
        "id": "n4fHbz2fTNpR",
        "colab_type": "code",
        "colab": {}
      },
      "source": [
        "#function to do evaluation (calculate the accuracy) in gpu\n",
        "def evaluation(dataloader):\n",
        "    total, correct = 0, 0\n",
        "    \n",
        "    #keeping the network in evaluation mode\n",
        "    net.eval()\n",
        "    for data in dataloader:\n",
        "        inputs, labels = data\n",
        "        #moving the inputs and labels to gpu\n",
        "        inputs, labels = inputs.to(device), labels.to(device)\n",
        "        outputs = net(inputs)\n",
        "        _, pred = torch.max(outputs.data, 1)\n",
        "        total += labels.size(0)\n",
        "        correct += (pred == labels).sum().item()\n",
        "    return 100 * correct / total"
      ],
      "execution_count": 0,
      "outputs": []
    },
    {
      "cell_type": "code",
      "metadata": {
        "id": "mnxecsfVTQH-",
        "colab_type": "code",
        "colab": {}
      },
      "source": [
        "#create the model object and move it to GPU\n",
        "net = LeNet().to(device)\n",
        "loss_fn = nn.CrossEntropyLoss()\n",
        "opt = optim.Adam(net.parameters())"
      ],
      "execution_count": 0,
      "outputs": []
    },
    {
      "cell_type": "code",
      "metadata": {
        "id": "i9t3Js-XTWkf",
        "colab_type": "code",
        "outputId": "811315f9-b00e-4c43-b2c9-60173f64b223",
        "colab": {
          "base_uri": "https://localhost:8080/",
          "height": 494
        }
      },
      "source": [
        "%%time\n",
        "loss_arr = []\n",
        "loss_epoch_arr = []\n",
        "max_epochs = 10\n",
        "\n",
        "for epoch in range(max_epochs):\n",
        "    #iterate through all the batches in each epoch\n",
        "    for i, data in enumerate(trainloader, 0):\n",
        "        \n",
        "        #keeping the network in training mode\n",
        "        net.train()\n",
        "    \n",
        "        inputs, labels = data\n",
        "        #moving the input and labels to gpu\n",
        "        inputs, labels = inputs.to(device), labels.to(device)\n",
        "        #clear the gradients\n",
        "        opt.zero_grad()\n",
        "        #forward pass\n",
        "        outputs = net(inputs)\n",
        "        loss = loss_fn(outputs, labels)\n",
        "        #backward pass\n",
        "        loss.backward()\n",
        "        opt.step()\n",
        "        \n",
        "        loss_arr.append(loss.item())\n",
        "        \n",
        "    loss_epoch_arr.append(loss.item())\n",
        "        \n",
        "    print('Epoch: %d/%d, Test acc: %0.2f, Train acc: %0.2f' % (epoch, max_epochs, evaluation(testloader), evaluation(trainloader)))\n",
        "    \n",
        "    \n",
        "plt.plot(loss_epoch_arr)\n",
        "plt.xlabel(\"Epoch\")\n",
        "plt.ylabel(\"Loss\")\n",
        "plt.show()"
      ],
      "execution_count": 0,
      "outputs": [
        {
          "output_type": "stream",
          "text": [
            "Epoch: 0/10, Test acc: 78.73, Train acc: 79.72\n",
            "Epoch: 1/10, Test acc: 81.99, Train acc: 83.54\n",
            "Epoch: 2/10, Test acc: 83.87, Train acc: 85.14\n",
            "Epoch: 3/10, Test acc: 84.31, Train acc: 85.94\n",
            "Epoch: 4/10, Test acc: 86.05, Train acc: 87.41\n",
            "Epoch: 5/10, Test acc: 86.24, Train acc: 88.15\n",
            "Epoch: 6/10, Test acc: 86.72, Train acc: 88.80\n",
            "Epoch: 7/10, Test acc: 86.90, Train acc: 88.88\n",
            "Epoch: 8/10, Test acc: 87.21, Train acc: 89.21\n",
            "Epoch: 9/10, Test acc: 87.55, Train acc: 89.78\n"
          ],
          "name": "stdout"
        },
        {
          "output_type": "display_data",
          "data": {
            "image/png": "[encoded data removed]",
            "text/plain": [
              "<Figure size 432x288 with 1 Axes>"
            ]
          },
          "metadata": {
            "tags": []
          }
        },
        {
          "output_type": "stream",
          "text": [
            "CPU times: user 3min 3s, sys: 5.82 s, total: 3min 9s\n",
            "Wall time: 3min 10s\n"
          ],
          "name": "stdout"
        }
      ]
    },
    {
      "cell_type": "code",
      "metadata": {
        "id": "1mao_iiQZVlE",
        "colab_type": "code",
        "outputId": "55800fbb-5072-4a93-ffe8-f6d906e8d692",
        "colab": {
          "base_uri": "https://localhost:8080/",
          "height": 34
        }
      },
      "source": [
        "#test on testing data\n",
        "\n",
        "print('Test acc: %0.2f, Train acc: %0.2f' % (evaluation(testloader), evaluation(trainloader)))"
      ],
      "execution_count": 0,
      "outputs": [
        {
          "output_type": "stream",
          "text": [
            "Test acc: 87.55, Train acc: 89.78\n"
          ],
          "name": "stdout"
        }
      ]
    },
    {
      "cell_type": "markdown",
      "metadata": {
        "id": "Fq5T-KsjTEUQ",
        "colab_type": "text"
      },
      "source": [
        "## Basic Visualisation"
      ]
    },
    {
      "cell_type": "code",
      "metadata": {
        "id": "LWfeXhrzSFSc",
        "colab_type": "code",
        "outputId": "2b0f5f36-2a6d-4594-e48b-36ece32337f9",
        "colab": {
          "base_uri": "https://localhost:8080/",
          "height": 139
        }
      },
      "source": [
        "imshow(torchvision.utils.make_grid(images))"
      ],
      "execution_count": 0,
      "outputs": [
        {
          "output_type": "display_data",
          "data": {
            "image/png": "[encoded data removed]",
            "text/plain": [
              "<Figure size 432x288 with 1 Axes>"
            ]
          },
          "metadata": {
            "tags": []
          }
        }
      ]
    },
    {
      "cell_type": "code",
      "metadata": {
        "id": "DiorUKc-LnWx",
        "colab_type": "code",
        "colab": {}
      },
      "source": [
        "net = net.to('cpu')"
      ],
      "execution_count": 0,
      "outputs": []
    },
    {
      "cell_type": "code",
      "metadata": {
        "id": "luNsBRCAKQC_",
        "colab_type": "code",
        "outputId": "c73d3757-6261-490e-caee-012fae63a1aa",
        "colab": {
          "base_uri": "https://localhost:8080/",
          "height": 34
        }
      },
      "source": [
        "out = net(images)\n",
        "print(out.shape)"
      ],
      "execution_count": 0,
      "outputs": [
        {
          "output_type": "stream",
          "text": [
            "torch.Size([4, 10])\n"
          ],
          "name": "stdout"
        }
      ]
    },
    {
      "cell_type": "code",
      "metadata": {
        "id": "-38nfaIUKSeF",
        "colab_type": "code",
        "outputId": "82e73c5d-f3e2-4bdb-95c4-9674daaa280e",
        "colab": {
          "base_uri": "https://localhost:8080/",
          "height": 34
        }
      },
      "source": [
        "out = net.cnn_model[0](images)\n",
        "out.shape"
      ],
      "execution_count": 0,
      "outputs": [
        {
          "output_type": "execute_result",
          "data": {
            "text/plain": [
              "torch.Size([4, 6, 24, 24])"
            ]
          },
          "metadata": {
            "tags": []
          },
          "execution_count": 46
        }
      ]
    },
    {
      "cell_type": "code",
      "metadata": {
        "id": "19iXHHLitP2D",
        "colab_type": "code",
        "outputId": "0aaf0c4a-a3c3-4041-e5c8-d2ff48856896",
        "colab": {
          "base_uri": "https://localhost:8080/",
          "height": 450
        }
      },
      "source": [
        "plt.figure(figsize = (6,6))\n",
        "plt.subplot(321)\n",
        "for i in range(6):\n",
        "    ax1 = plt.subplot(3, 2, i+1)\n",
        "    plt.imshow(out[image_id, i, :, :].detach().numpy(), cmap=\"binary\")\n",
        "plt.show()"
      ],
      "execution_count": 0,
      "outputs": [
        {
          "output_type": "stream",
          "text": [
            "/usr/local/lib/python3.6/dist-packages/matplotlib/figure.py:98: MatplotlibDeprecationWarning: \n",
            "Adding an axes using the same arguments as a previous axes currently reuses the earlier instance.  In a future version, a new instance will always be created and returned.  Meanwhile, this warning can be suppressed, and the future behavior ensured, by passing a unique label to each axes instance.\n",
            "  \"Adding an axes using the same arguments as a previous axes \"\n"
          ],
          "name": "stderr"
        },
        {
          "output_type": "display_data",
          "data": {
            "image/png": "[encoded data removed]",
            "text/plain": [
              "<Figure size 432x432 with 6 Axes>"
            ]
          },
          "metadata": {
            "tags": []
          }
        }
      ]
    },
    {
      "cell_type": "markdown",
      "metadata": {
        "id": "eARYa3OZexaC",
        "colab_type": "text"
      },
      "source": [
        "## Exercises\n",
        "\n",
        "* Modify LeNet to work with ReLU instead of Tanh -> What is the impact on training time, final loss\n",
        "* We have observed over-fitting -> Use weight_decay in torch.optim to add L2 regularisation\n"
      ]
    },
    {
      "cell_type": "markdown",
      "metadata": {
        "id": "bVIMbb09jh_T",
        "colab_type": "text"
      },
      "source": [
        "## LeNet With ReLU"
      ]
    },
    {
      "cell_type": "code",
      "metadata": {
        "id": "EnMyNqhVwrgr",
        "colab_type": "code",
        "colab": {}
      },
      "source": [
        "#Used ReLU non-linear activation instead of tanh\n",
        "\n",
        "class LeNet_ReLU(nn.Module):\n",
        "    def __init__(self): \n",
        "        super(LeNet_ReLU, self).__init__()\n",
        "        self.cnn_model = nn.Sequential(\n",
        "            nn.Conv2d(3, 6, 5),         # (N, 3, 32, 32) -> (N,  6, 28, 28)\n",
        "            nn.ReLU(),\n",
        "            nn.AvgPool2d(2, stride=2),  # (N, 6, 28, 28) -> (N,  6, 14, 14)\n",
        "            nn.Conv2d(6, 16, 5),        # (N, 6, 14, 14) -> (N, 16, 10, 10)  \n",
        "            nn.ReLU(),\n",
        "            nn.AvgPool2d(2, stride=2)   # (N,16, 10, 10) -> (N, 16, 5, 5)\n",
        "        )\n",
        "        self.fc_model = nn.Sequential(\n",
        "            nn.Linear(400,120),         # (N, 400) -> (N, 120)\n",
        "            nn.ReLU(),\n",
        "            nn.Linear(120,84),          # (N, 120) -> (N, 84)\n",
        "            nn.ReLU(),\n",
        "            nn.Linear(84,10)            # (N, 84)  -> (N, 10)\n",
        "        )\n",
        "        \n",
        "    def forward(self, x):\n",
        "        x = self.cnn_model(x)\n",
        "        x = x.view(x.size(0), -1)\n",
        "        x = self.fc_model(x)\n",
        "        return x"
      ],
      "execution_count": 0,
      "outputs": []
    },
    {
      "cell_type": "code",
      "metadata": {
        "id": "INEkWtE0kkFX",
        "colab_type": "code",
        "colab": {}
      },
      "source": [
        "#Train using the GPU\n",
        "net = LeNet_ReLU().to(device)\n",
        "loss_fn = nn.CrossEntropyLoss()\n",
        "opt = optim.Adam(net.parameters())"
      ],
      "execution_count": 0,
      "outputs": []
    },
    {
      "cell_type": "code",
      "metadata": {
        "id": "KnIfansllW5C",
        "colab_type": "code",
        "outputId": "590b5e8b-01cb-4259-f083-3836cd940946",
        "colab": {
          "base_uri": "https://localhost:8080/",
          "height": 1198
        }
      },
      "source": [
        "%%time\n",
        "loss_arr = []\n",
        "loss_epoch_arr = []\n",
        "max_epochs = 50\n",
        "\n",
        "for epoch in range(max_epochs):\n",
        "\n",
        "    for i, data in enumerate(trainloader, 0):\n",
        "\n",
        "        inputs, labels = data\n",
        "        inputs, labels = inputs.to(device), labels.to(device)\n",
        "\n",
        "        opt.zero_grad()\n",
        "\n",
        "        outputs = net(inputs)\n",
        "        loss = loss_fn(outputs, labels)\n",
        "        loss.backward()\n",
        "        opt.step()\n",
        "        loss_arr.append(loss.item())\n",
        "        \n",
        "    loss_epoch_arr.append(loss.item())\n",
        "        \n",
        "    print('Epoch: %d/%d, Test acc: %0.2f, Train acc: %0.2f' % (epoch, max_epochs, evaluation(testloader), evaluation(trainloader)))\n",
        "    \n",
        "    \n",
        "plt.plot(loss_epoch_arr)\n",
        "plt.xlabel(\"epochs\")\n",
        "plt.ylabel(\"loss\")\n",
        "plt.title(\"\")\n",
        "plt.show()    "
      ],
      "execution_count": 0,
      "outputs": [
        {
          "output_type": "stream",
          "text": [
            "Epoch: 0/50, Test acc: 38.93, Train acc: 38.79\n",
            "Epoch: 1/50, Test acc: 44.68, Train acc: 44.95\n",
            "Epoch: 2/50, Test acc: 48.49, Train acc: 48.98\n",
            "Epoch: 3/50, Test acc: 50.51, Train acc: 50.94\n",
            "Epoch: 4/50, Test acc: 52.35, Train acc: 53.19\n",
            "Epoch: 5/50, Test acc: 53.86, Train acc: 54.95\n",
            "Epoch: 6/50, Test acc: 54.55, Train acc: 56.49\n",
            "Epoch: 7/50, Test acc: 55.66, Train acc: 57.41\n",
            "Epoch: 8/50, Test acc: 55.77, Train acc: 58.64\n",
            "Epoch: 9/50, Test acc: 56.74, Train acc: 59.68\n",
            "Epoch: 10/50, Test acc: 57.34, Train acc: 60.67\n",
            "Epoch: 11/50, Test acc: 57.26, Train acc: 60.91\n",
            "Epoch: 12/50, Test acc: 58.62, Train acc: 62.58\n",
            "Epoch: 13/50, Test acc: 58.45, Train acc: 62.61\n",
            "Epoch: 14/50, Test acc: 59.20, Train acc: 64.26\n",
            "Epoch: 15/50, Test acc: 59.73, Train acc: 65.15\n",
            "Epoch: 16/50, Test acc: 59.01, Train acc: 65.08\n",
            "Epoch: 17/50, Test acc: 59.46, Train acc: 65.91\n",
            "Epoch: 18/50, Test acc: 60.11, Train acc: 67.43\n",
            "Epoch: 19/50, Test acc: 59.73, Train acc: 67.28\n",
            "Epoch: 20/50, Test acc: 59.42, Train acc: 67.60\n",
            "Epoch: 21/50, Test acc: 59.81, Train acc: 67.98\n",
            "Epoch: 22/50, Test acc: 60.11, Train acc: 69.29\n",
            "Epoch: 23/50, Test acc: 60.19, Train acc: 69.16\n",
            "Epoch: 24/50, Test acc: 60.66, Train acc: 70.24\n",
            "Epoch: 25/50, Test acc: 60.36, Train acc: 70.33\n",
            "Epoch: 26/50, Test acc: 59.92, Train acc: 70.06\n",
            "Epoch: 27/50, Test acc: 60.80, Train acc: 71.16\n",
            "Epoch: 28/50, Test acc: 60.19, Train acc: 71.44\n",
            "Epoch: 29/50, Test acc: 61.27, Train acc: 72.76\n",
            "Epoch: 30/50, Test acc: 59.97, Train acc: 72.03\n",
            "Epoch: 31/50, Test acc: 60.94, Train acc: 72.72\n",
            "Epoch: 32/50, Test acc: 60.70, Train acc: 73.24\n",
            "Epoch: 33/50, Test acc: 60.52, Train acc: 72.58\n",
            "Epoch: 34/50, Test acc: 60.38, Train acc: 74.01\n",
            "Epoch: 35/50, Test acc: 61.18, Train acc: 74.71\n",
            "Epoch: 36/50, Test acc: 60.27, Train acc: 74.76\n",
            "Epoch: 37/50, Test acc: 60.73, Train acc: 75.55\n",
            "Epoch: 38/50, Test acc: 61.08, Train acc: 75.76\n",
            "Epoch: 39/50, Test acc: 60.74, Train acc: 75.65\n",
            "Epoch: 40/50, Test acc: 60.68, Train acc: 76.49\n",
            "Epoch: 41/50, Test acc: 60.14, Train acc: 74.63\n",
            "Epoch: 42/50, Test acc: 59.71, Train acc: 76.58\n",
            "Epoch: 43/50, Test acc: 60.22, Train acc: 75.73\n",
            "Epoch: 44/50, Test acc: 59.80, Train acc: 77.35\n",
            "Epoch: 45/50, Test acc: 59.72, Train acc: 77.14\n",
            "Epoch: 46/50, Test acc: 60.28, Train acc: 77.19\n",
            "Epoch: 47/50, Test acc: 60.17, Train acc: 78.15\n",
            "Epoch: 48/50, Test acc: 60.32, Train acc: 78.68\n",
            "Epoch: 49/50, Test acc: 60.62, Train acc: 79.40\n"
          ],
          "name": "stdout"
        },
        {
          "output_type": "display_data",
          "data": {
            "image/png": "[encoded data removed]",
            "text/plain": [
              "<Figure size 432x288 with 1 Axes>"
            ]
          },
          "metadata": {
            "tags": []
          }
        },
        {
          "output_type": "stream",
          "text": [
            "CPU times: user 9min 39s, sys: 15.4 s, total: 9min 54s\n",
            "Wall time: 9min 55s\n"
          ],
          "name": "stdout"
        }
      ]
    },
    {
      "cell_type": "code",
      "metadata": {
        "id": "1o5cbiPUpjBV",
        "colab_type": "code",
        "outputId": "520d0076-a0d3-4feb-c698-4bd3c6a5999b",
        "colab": {
          "base_uri": "https://localhost:8080/",
          "height": 295
        }
      },
      "source": [
        "plt.plot(loss_epoch_arr)\n",
        "plt.xlabel(\"epochs\")\n",
        "plt.ylabel(\"loss\")\n",
        "plt.title(\"Epochs vs Loss - Lenet With ReLU on CIFAR10\")\n",
        "plt.show()   "
      ],
      "execution_count": 0,
      "outputs": [
        {
          "output_type": "display_data",
          "data": {
            "image/png": "[encoded data removed]",
            "text/plain": [
              "<Figure size 432x288 with 1 Axes>"
            ]
          },
          "metadata": {
            "tags": []
          }
        }
      ]
    },
    {
      "cell_type": "code",
      "metadata": {
        "id": "lkLFN9RhnJUt",
        "colab_type": "code",
        "outputId": "974d0f0f-f852-4264-b2c6-53b50c607490",
        "colab": {
          "base_uri": "https://localhost:8080/",
          "height": 34
        }
      },
      "source": [
        "print('Test acc: %0.2f, Train acc: %0.2f' % (evaluation(testloader), evaluation(trainloader)))"
      ],
      "execution_count": 0,
      "outputs": [
        {
          "output_type": "stream",
          "text": [
            "Test acc: 60.62, Train acc: 79.40\n"
          ],
          "name": "stdout"
        }
      ]
    },
    {
      "cell_type": "markdown",
      "metadata": {
        "id": "RLoJL7ZAvAOu",
        "colab_type": "text"
      },
      "source": [
        "## Adding L2 Regularization\n",
        "- From the above loss plot we can see that it is overfitting the data, so we will apply L2 regularization using weight_decay in optim"
      ]
    },
    {
      "cell_type": "code",
      "metadata": {
        "id": "b-M8Crc9vRwp",
        "colab_type": "code",
        "colab": {}
      },
      "source": [
        "net = LeNet().to(device)\n",
        "loss_fn = nn.CrossEntropyLoss()\n",
        "\n",
        "#weight_decay = L2\n",
        "optimizer_l2 = torch.optim.Adam(net.parameters(), lr=1e-4, weight_decay=1e-5)\n",
        "\n",
        "#optimizer = optim.SGD(net.parameters(), lr=0.001, momentum=0.9)"
      ],
      "execution_count": 0,
      "outputs": []
    },
    {
      "cell_type": "code",
      "metadata": {
        "id": "wo4zpuU6wtwo",
        "colab_type": "code",
        "outputId": "8163240d-cf18-4a05-9317-8c74467bcf69",
        "colab": {
          "base_uri": "https://localhost:8080/",
          "height": 1198
        }
      },
      "source": [
        "%%time\n",
        "loss_arr = []\n",
        "loss_epoch_arr = []\n",
        "max_epochs = 50\n",
        "\n",
        "for epoch in range(max_epochs):\n",
        "\n",
        "    for i, data in enumerate(trainloader, 0):\n",
        "      \n",
        "        # get the inputs\n",
        "        inputs, labels = data\n",
        "        \n",
        "        #move inputs to gpu\n",
        "        inputs, labels = inputs.to(device), labels.to(device)\n",
        "        \n",
        "        # zero the parameter gradients\n",
        "        optimizer_l2.zero_grad()\n",
        "        \n",
        "        # forward + backward + optimize\n",
        "        outputs = net(inputs)\n",
        "        loss = loss_fn(outputs, labels)\n",
        "        loss.backward()\n",
        "        optimizer_l2.step()\n",
        "        \n",
        "        #store loss value for loss plot\n",
        "        loss_arr.append(loss.item())\n",
        "        \n",
        "    loss_epoch_arr.append(loss.item())\n",
        "        \n",
        "    print('Epoch: %d/%d, Test acc: %0.2f, Train acc: %0.2f' % (epoch, max_epochs, evaluation(testloader), evaluation(trainloader)))\n",
        "    \n",
        "    \n",
        "plt.plot(loss_epoch_arr)\n",
        "plt.xlabel(\"epochs\")\n",
        "plt.ylabel(\"loss\")\n",
        "plt.title(\"\")\n",
        "plt.show()    "
      ],
      "execution_count": 0,
      "outputs": [
        {
          "output_type": "stream",
          "text": [
            "Epoch: 0/50, Test acc: 28.61, Train acc: 28.83\n",
            "Epoch: 1/50, Test acc: 33.28, Train acc: 33.06\n",
            "Epoch: 2/50, Test acc: 35.30, Train acc: 35.13\n",
            "Epoch: 3/50, Test acc: 36.74, Train acc: 36.84\n",
            "Epoch: 4/50, Test acc: 37.42, Train acc: 37.52\n",
            "Epoch: 5/50, Test acc: 38.54, Train acc: 38.57\n",
            "Epoch: 6/50, Test acc: 38.96, Train acc: 39.10\n",
            "Epoch: 7/50, Test acc: 39.21, Train acc: 39.74\n",
            "Epoch: 8/50, Test acc: 40.36, Train acc: 40.46\n",
            "Epoch: 9/50, Test acc: 40.85, Train acc: 40.95\n",
            "Epoch: 10/50, Test acc: 41.27, Train acc: 41.78\n",
            "Epoch: 11/50, Test acc: 41.80, Train acc: 41.94\n",
            "Epoch: 12/50, Test acc: 42.16, Train acc: 42.76\n",
            "Epoch: 13/50, Test acc: 43.00, Train acc: 43.40\n",
            "Epoch: 14/50, Test acc: 43.05, Train acc: 43.66\n",
            "Epoch: 15/50, Test acc: 44.27, Train acc: 44.58\n",
            "Epoch: 16/50, Test acc: 44.60, Train acc: 45.17\n",
            "Epoch: 17/50, Test acc: 45.57, Train acc: 45.88\n",
            "Epoch: 18/50, Test acc: 45.94, Train acc: 46.16\n",
            "Epoch: 19/50, Test acc: 46.30, Train acc: 46.65\n",
            "Epoch: 20/50, Test acc: 47.01, Train acc: 47.15\n",
            "Epoch: 21/50, Test acc: 47.00, Train acc: 47.47\n",
            "Epoch: 22/50, Test acc: 47.41, Train acc: 47.92\n",
            "Epoch: 23/50, Test acc: 48.17, Train acc: 48.51\n",
            "Epoch: 24/50, Test acc: 48.32, Train acc: 48.73\n",
            "Epoch: 25/50, Test acc: 48.72, Train acc: 49.29\n",
            "Epoch: 26/50, Test acc: 49.24, Train acc: 49.84\n",
            "Epoch: 27/50, Test acc: 49.25, Train acc: 50.04\n",
            "Epoch: 28/50, Test acc: 49.77, Train acc: 50.52\n",
            "Epoch: 29/50, Test acc: 49.41, Train acc: 50.50\n",
            "Epoch: 30/50, Test acc: 50.55, Train acc: 51.29\n",
            "Epoch: 31/50, Test acc: 50.62, Train acc: 51.56\n",
            "Epoch: 32/50, Test acc: 50.77, Train acc: 51.77\n",
            "Epoch: 33/50, Test acc: 50.56, Train acc: 52.06\n",
            "Epoch: 34/50, Test acc: 51.30, Train acc: 52.77\n",
            "Epoch: 35/50, Test acc: 51.60, Train acc: 52.91\n",
            "Epoch: 36/50, Test acc: 51.82, Train acc: 53.28\n",
            "Epoch: 37/50, Test acc: 52.21, Train acc: 53.45\n",
            "Epoch: 38/50, Test acc: 52.22, Train acc: 53.81\n",
            "Epoch: 39/50, Test acc: 52.10, Train acc: 54.04\n",
            "Epoch: 40/50, Test acc: 52.62, Train acc: 54.05\n",
            "Epoch: 41/50, Test acc: 52.71, Train acc: 54.34\n",
            "Epoch: 42/50, Test acc: 52.59, Train acc: 54.86\n",
            "Epoch: 43/50, Test acc: 53.50, Train acc: 55.07\n",
            "Epoch: 44/50, Test acc: 53.24, Train acc: 55.10\n",
            "Epoch: 45/50, Test acc: 53.36, Train acc: 55.32\n",
            "Epoch: 46/50, Test acc: 53.42, Train acc: 55.52\n",
            "Epoch: 47/50, Test acc: 53.76, Train acc: 56.05\n",
            "Epoch: 48/50, Test acc: 53.92, Train acc: 55.99\n",
            "Epoch: 49/50, Test acc: 54.07, Train acc: 55.87\n"
          ],
          "name": "stdout"
        },
        {
          "output_type": "display_data",
          "data": {
            "image/png": "[encoded data removed]",
            "text/plain": [
              "<Figure size 432x288 with 1 Axes>"
            ]
          },
          "metadata": {
            "tags": []
          }
        },
        {
          "output_type": "stream",
          "text": [
            "CPU times: user 9min 36s, sys: 14.7 s, total: 9min 51s\n",
            "Wall time: 9min 52s\n"
          ],
          "name": "stdout"
        }
      ]
    },
    {
      "cell_type": "code",
      "metadata": {
        "id": "tcwZ1VuzWU-Q",
        "colab_type": "code",
        "colab": {}
      },
      "source": [
        "print('Test acc: %0.2f, Train acc: %0.2f' % (evaluation(testloader), evaluation(trainloader)))"
      ],
      "execution_count": 0,
      "outputs": []
    },
    {
      "cell_type": "code",
      "metadata": {
        "id": "L9ujIm3rYhs4",
        "colab_type": "code",
        "colab": {}
      },
      "source": [
        ""
      ],
      "execution_count": 0,
      "outputs": []
    }
  ]
}