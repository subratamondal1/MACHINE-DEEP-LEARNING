{
  "nbformat": 4,
  "nbformat_minor": 0,
  "metadata": {
    "colab": {
      "name": "Name2Nation.ipynb",
      "provenance": [],
      "collapsed_sections": []
    },
    "kernelspec": {
      "name": "python3",
      "display_name": "Python 3"
    },
    "accelerator": "GPU"
  },
  "cells": [
    {
      "cell_type": "markdown",
      "metadata": {
        "id": "PDp5Hf1UUgiW",
        "colab_type": "text"
      },
      "source": [
        "# Classifying the Name Nationality of a Person using RNN & Pytorch\n",
        "\n",
        "### Author: Niranjan Kumar\n",
        "* **References: The code in this notebook is taken from the deep learning course by [PadhAI](https://padhai.onefourthlabs.in/).**\n",
        "* **Github Repo: https://github.com/Niranjankumar-c/DeepLearning-PadhAI**"
      ]
    },
    {
      "cell_type": "markdown",
      "metadata": {
        "id": "SnEXi6KNUpNU",
        "colab_type": "text"
      },
      "source": [
        "## Outline\n",
        "1. Dataset \n",
        "2. Data processing - Test-train split, encoding, visualisation\n",
        "3. Basic RNN - testing inference\n",
        "4. Evaluation and training\n",
        "5. LSTM"
      ]
    },
    {
      "cell_type": "code",
      "metadata": {
        "id": "PZd2TU6lUnK8",
        "colab_type": "code",
        "colab": {}
      },
      "source": [
        "#import packages\n",
        "from io import open\n",
        "import os, string, random, time, math\n",
        "import matplotlib.pyplot as plt\n",
        "import seaborn as sns\n",
        "import numpy as np"
      ],
      "execution_count": 0,
      "outputs": []
    },
    {
      "cell_type": "code",
      "metadata": {
        "id": "btWJ7Iq8yuGb",
        "colab_type": "code",
        "colab": {}
      },
      "source": [
        "from sklearn.model_selection import train_test_split\n",
        "import torch \n",
        "import torch.nn as nn\n",
        "import torch.optim as optim\n",
        "\n",
        "#clearing output\n",
        "from IPython.display import clear_output"
      ],
      "execution_count": 0,
      "outputs": []
    },
    {
      "cell_type": "code",
      "metadata": {
        "id": "Y91WYYnMzMMc",
        "colab_type": "code",
        "colab": {}
      },
      "source": [
        "languages = []\n",
        "data = []\n",
        "X = []\n",
        "y = []\n",
        "\n",
        "with open(\"name2lang.txt\", 'r') as f:\n",
        "    #read the dataset\n",
        "    for line in f:\n",
        "        line = line.split(\",\")\n",
        "        name = line[0].strip()\n",
        "        lang = line[1].strip()\n",
        "        if not lang in languages:\n",
        "            languages.append(lang)\n",
        "        X.append(name)\n",
        "        y.append(lang)\n",
        "        data.append((name, lang))\n",
        "\n",
        "n_languages = len(languages)"
      ],
      "execution_count": 0,
      "outputs": []
    },
    {
      "cell_type": "code",
      "metadata": {
        "id": "qvKYGyWBzPUI",
        "colab_type": "code",
        "outputId": "2b4ee1fb-586c-467d-f10f-ed1989d2eb5b",
        "colab": {
          "base_uri": "https://localhost:8080/",
          "height": 34
        }
      },
      "source": [
        "#number of languages\n",
        "n_languages"
      ],
      "execution_count": 0,
      "outputs": [
        {
          "output_type": "execute_result",
          "data": {
            "text/plain": [
              "18"
            ]
          },
          "metadata": {
            "tags": []
          },
          "execution_count": 4
        }
      ]
    },
    {
      "cell_type": "code",
      "metadata": {
        "id": "wY337edB4U1_",
        "colab_type": "code",
        "outputId": "df9f6da7-4469-455e-c1b3-8c260aa70611",
        "colab": {
          "base_uri": "https://localhost:8080/",
          "height": 34
        }
      },
      "source": [
        "#data count\n",
        "len(X)"
      ],
      "execution_count": 0,
      "outputs": [
        {
          "output_type": "execute_result",
          "data": {
            "text/plain": [
              "20050"
            ]
          },
          "metadata": {
            "tags": []
          },
          "execution_count": 5
        }
      ]
    },
    {
      "cell_type": "code",
      "metadata": {
        "id": "fWJFsNF_5CIp",
        "colab_type": "code",
        "outputId": "485ce90c-55bb-4169-ca35-65588cc6024a",
        "colab": {
          "base_uri": "https://localhost:8080/",
          "height": 72
        }
      },
      "source": [
        "print(languages)\n",
        "print(data[:10])"
      ],
      "execution_count": 0,
      "outputs": [
        {
          "output_type": "stream",
          "text": [
            "['Portuguese', 'Irish', 'Spanish', 'Vietnamese', 'Chinese', 'Greek', 'Czech', 'Dutch', 'Japanese', 'French', 'German', 'Scottish', 'English', 'Russian', 'Polish', 'Arabic', 'Korean', 'Italian']\n",
            "[('Abreu', 'Portuguese'), ('Albuquerque', 'Portuguese'), ('Almeida', 'Portuguese'), ('Alves', 'Portuguese'), ('Araujo', 'Portuguese'), ('Araullo', 'Portuguese'), ('Barros', 'Portuguese'), ('Basurto', 'Portuguese'), ('Belo', 'Portuguese'), ('Cabral', 'Portuguese')]\n"
          ],
          "name": "stdout"
        }
      ]
    },
    {
      "cell_type": "markdown",
      "metadata": {
        "id": "HiZ47q2o6tvb",
        "colab_type": "text"
      },
      "source": [
        "## Train Test Split"
      ]
    },
    {
      "cell_type": "code",
      "metadata": {
        "id": "_UYekC416pR0",
        "colab_type": "code",
        "colab": {}
      },
      "source": [
        "#split the data 70 30\n",
        "X_train, X_test, y_train, y_test = train_test_split(X, y, test_size = 0.3, random_state = 123, stratify = y)"
      ],
      "execution_count": 0,
      "outputs": []
    },
    {
      "cell_type": "code",
      "metadata": {
        "id": "6913kyw9-4Ce",
        "colab_type": "code",
        "outputId": "32081ef7-43c1-427c-f9aa-b70c570ef60a",
        "colab": {
          "base_uri": "https://localhost:8080/",
          "height": 52
        }
      },
      "source": [
        "print(\"Training Data: \", len(X_train))\n",
        "print(\"Testing Data: \", len(X_test))"
      ],
      "execution_count": 0,
      "outputs": [
        {
          "output_type": "stream",
          "text": [
            "Training Data:  14035\n",
            "Testing Data:  6015\n"
          ],
          "name": "stdout"
        }
      ]
    },
    {
      "cell_type": "markdown",
      "metadata": {
        "id": "S4OqwKvn_N4m",
        "colab_type": "text"
      },
      "source": [
        "# Encoding Names and Languages"
      ]
    },
    {
      "cell_type": "code",
      "metadata": {
        "id": "cQ8B7F9i--AV",
        "colab_type": "code",
        "outputId": "10a2fbcc-e22e-41e1-d3be-72bf8550dff1",
        "colab": {
          "base_uri": "https://localhost:8080/",
          "height": 34
        }
      },
      "source": [
        "#get all the letters\n",
        "\n",
        "all_letters = string.ascii_letters + \".,;\"\n",
        "n_letters = len(all_letters)\n",
        "\n",
        "print(\"Number of letters: \", n_letters)"
      ],
      "execution_count": 0,
      "outputs": [
        {
          "output_type": "stream",
          "text": [
            "Number of letters:  55\n"
          ],
          "name": "stdout"
        }
      ]
    },
    {
      "cell_type": "code",
      "metadata": {
        "id": "Hyes9BW7CTaU",
        "colab_type": "code",
        "colab": {}
      },
      "source": [
        "#function to create name representation\n",
        "\n",
        "def name_rep(name):\n",
        "    rep = torch.zeros(len(name), 1, n_letters)\n",
        "    for index, letter in enumerate(name):\n",
        "        pos = all_letters.find(letter)\n",
        "        rep[index][0][pos] = 1\n",
        "    return rep"
      ],
      "execution_count": 0,
      "outputs": []
    },
    {
      "cell_type": "code",
      "metadata": {
        "id": "qvsscR5nE67_",
        "colab_type": "code",
        "colab": {}
      },
      "source": [
        "#function to create lang representation\n",
        "\n",
        "def nat_rep(lang):\n",
        "    return torch.tensor([languages.index(lang)], dtype = torch.long)"
      ],
      "execution_count": 0,
      "outputs": []
    },
    {
      "cell_type": "code",
      "metadata": {
        "id": "homMpTQbFcUM",
        "colab_type": "code",
        "outputId": "4c40e51e-5726-45fd-e6ec-5a072772a35a",
        "colab": {
          "base_uri": "https://localhost:8080/",
          "height": 439
        }
      },
      "source": [
        "name_rep(\"Kumar\")"
      ],
      "execution_count": 0,
      "outputs": [
        {
          "output_type": "execute_result",
          "data": {
            "text/plain": [
              "tensor([[[0., 0., 0., 0., 0., 0., 0., 0., 0., 0., 0., 0., 0., 0., 0., 0., 0.,\n",
              "          0., 0., 0., 0., 0., 0., 0., 0., 0., 0., 0., 0., 0., 0., 0., 0., 0.,\n",
              "          0., 0., 1., 0., 0., 0., 0., 0., 0., 0., 0., 0., 0., 0., 0., 0., 0.,\n",
              "          0., 0., 0., 0.]],\n",
              "\n",
              "        [[0., 0., 0., 0., 0., 0., 0., 0., 0., 0., 0., 0., 0., 0., 0., 0., 0.,\n",
              "          0., 0., 0., 1., 0., 0., 0., 0., 0., 0., 0., 0., 0., 0., 0., 0., 0.,\n",
              "          0., 0., 0., 0., 0., 0., 0., 0., 0., 0., 0., 0., 0., 0., 0., 0., 0.,\n",
              "          0., 0., 0., 0.]],\n",
              "\n",
              "        [[0., 0., 0., 0., 0., 0., 0., 0., 0., 0., 0., 0., 1., 0., 0., 0., 0.,\n",
              "          0., 0., 0., 0., 0., 0., 0., 0., 0., 0., 0., 0., 0., 0., 0., 0., 0.,\n",
              "          0., 0., 0., 0., 0., 0., 0., 0., 0., 0., 0., 0., 0., 0., 0., 0., 0.,\n",
              "          0., 0., 0., 0.]],\n",
              "\n",
              "        [[1., 0., 0., 0., 0., 0., 0., 0., 0., 0., 0., 0., 0., 0., 0., 0., 0.,\n",
              "          0., 0., 0., 0., 0., 0., 0., 0., 0., 0., 0., 0., 0., 0., 0., 0., 0.,\n",
              "          0., 0., 0., 0., 0., 0., 0., 0., 0., 0., 0., 0., 0., 0., 0., 0., 0.,\n",
              "          0., 0., 0., 0.]],\n",
              "\n",
              "        [[0., 0., 0., 0., 0., 0., 0., 0., 0., 0., 0., 0., 0., 0., 0., 0., 0.,\n",
              "          1., 0., 0., 0., 0., 0., 0., 0., 0., 0., 0., 0., 0., 0., 0., 0., 0.,\n",
              "          0., 0., 0., 0., 0., 0., 0., 0., 0., 0., 0., 0., 0., 0., 0., 0., 0.,\n",
              "          0., 0., 0., 0.]]])"
            ]
          },
          "metadata": {
            "tags": []
          },
          "execution_count": 12
        }
      ]
    },
    {
      "cell_type": "code",
      "metadata": {
        "id": "bI6ytCheFwcy",
        "colab_type": "code",
        "outputId": "aa007b26-3476-4d44-be7e-f5655cc8edd4",
        "colab": {
          "base_uri": "https://localhost:8080/",
          "height": 34
        }
      },
      "source": [
        "nat_rep(\"Irish\")"
      ],
      "execution_count": 0,
      "outputs": [
        {
          "output_type": "execute_result",
          "data": {
            "text/plain": [
              "tensor([1])"
            ]
          },
          "metadata": {
            "tags": []
          },
          "execution_count": 13
        }
      ]
    },
    {
      "cell_type": "code",
      "metadata": {
        "id": "LTZXDrexGl5E",
        "colab_type": "code",
        "colab": {}
      },
      "source": [
        ""
      ],
      "execution_count": 0,
      "outputs": []
    },
    {
      "cell_type": "markdown",
      "metadata": {
        "id": "VYnVuUroNonq",
        "colab_type": "text"
      },
      "source": [
        "# Basic EDA Analysis"
      ]
    },
    {
      "cell_type": "code",
      "metadata": {
        "id": "vlCbDxjuNrGX",
        "colab_type": "code",
        "colab": {}
      },
      "source": [
        "#check the distribution of the languages\n",
        "\n",
        "count = {}\n",
        "for l in languages:\n",
        "    count[l] = 0\n",
        "\n",
        "for d in data:\n",
        "    count[d[1]] += 1"
      ],
      "execution_count": 0,
      "outputs": []
    },
    {
      "cell_type": "code",
      "metadata": {
        "id": "XJ-6rU9fN6qN",
        "colab_type": "code",
        "outputId": "6fb24af1-41e0-499d-96e9-a75f563a5bcc",
        "colab": {
          "base_uri": "https://localhost:8080/",
          "height": 390
        }
      },
      "source": [
        "#plot the distribution\n",
        "plt.style.use(\"seaborn\")\n",
        "plt_ = sns.barplot(list(count.keys()), list(count.values()))\n",
        "plt_.set_xticklabels(plt_.get_xticklabels(), rotation = 90)\n",
        "plt.show()"
      ],
      "execution_count": 0,
      "outputs": [
        {
          "output_type": "display_data",
          "data": {
            "image/png": "[encoded data removed]",
            "text/plain": [
              "<Figure size 576x396 with 1 Axes>"
            ]
          },
          "metadata": {
            "tags": []
          }
        }
      ]
    },
    {
      "cell_type": "code",
      "metadata": {
        "id": "bGi5rbPWOPmu",
        "colab_type": "code",
        "colab": {}
      },
      "source": [
        ""
      ],
      "execution_count": 0,
      "outputs": []
    },
    {
      "cell_type": "markdown",
      "metadata": {
        "id": "G8WWShboVpY0",
        "colab_type": "text"
      },
      "source": [
        "# RNN Network"
      ]
    },
    {
      "cell_type": "code",
      "metadata": {
        "id": "R3lAteTGSRky",
        "colab_type": "code",
        "colab": {}
      },
      "source": [
        "#define a basic rnn network\n",
        "\n",
        "class RNN_net(nn.Module):\n",
        "\n",
        "    def __init__(self, input_size, hidden_size, output_size):\n",
        "        super(RNN_net, self).__init__()\n",
        "        #declare the hidden size for the network\n",
        "        self.hidden_size = hidden_size\n",
        "        self.i2h = nn.Linear(input_size + hidden_size, hidden_size) #input to hidden layer\n",
        "        self.i2o = nn.Linear(input_size + hidden_size, output_size) #input to output layer\n",
        "        self.softmax = nn.LogSoftmax(dim = 1) #softmax for classification\n",
        "    \n",
        "    def forward(self, input_, hidden):\n",
        "        combined = torch.cat((input_, hidden), 1) #concatenate tensors on column wise\n",
        "        hidden = self.i2h(combined) #generate hidden representation\n",
        "        output = self.i2o(combined) #generate output representation\n",
        "        output = self.softmax(output) #get the softmax label\n",
        "        return output, hidden\n",
        "\n",
        "    def init_hidden(self):\n",
        "        return torch.zeros(1, self.hidden_size)"
      ],
      "execution_count": 0,
      "outputs": []
    },
    {
      "cell_type": "code",
      "metadata": {
        "id": "uEN81A8_SRZB",
        "colab_type": "code",
        "colab": {}
      },
      "source": [
        "#declare the size of the hidden layer representation\n",
        "n_hidden = 128\n",
        "\n",
        "#create a object of the class\n",
        "net = RNN_net(n_letters, n_hidden, n_languages)"
      ],
      "execution_count": 0,
      "outputs": []
    },
    {
      "cell_type": "code",
      "metadata": {
        "id": "oZ4PW4iZXZth",
        "colab_type": "code",
        "colab": {}
      },
      "source": [
        "#function to make inference\n",
        "\n",
        "def infer(net, name):\n",
        "    net.eval()\n",
        "    name_ohe = name_rep(name)\n",
        "    hidden = net.init_hidden()\n",
        "\n",
        "    for i in range(name_ohe.size()[0]):\n",
        "        output, hidden = net(name_ohe[i], hidden)\n",
        "\n",
        "    return output"
      ],
      "execution_count": 0,
      "outputs": []
    },
    {
      "cell_type": "code",
      "metadata": {
        "id": "Su_TsM8EXwIM",
        "colab_type": "code",
        "outputId": "42a26a0f-f2f9-4557-b62a-99bd36bc4479",
        "colab": {
          "base_uri": "https://localhost:8080/",
          "height": 70
        }
      },
      "source": [
        "#before training the network, make a inference to test the network\n",
        "\n",
        "output = infer(net, \"Adam\")\n",
        "index = torch.argmax(output)\n",
        "print(output, index)"
      ],
      "execution_count": 0,
      "outputs": [
        {
          "output_type": "stream",
          "text": [
            "tensor([[-2.8833, -2.9890, -2.9155, -2.8551, -2.9339, -2.9087, -2.7798, -2.8491,\n",
            "         -2.8261, -2.7706, -2.9423, -2.9466, -2.9898, -2.8091, -2.8647, -3.0544,\n",
            "         -2.8575, -2.8995]], grad_fn=<LogSoftmaxBackward>) tensor(9)\n"
          ],
          "name": "stdout"
        }
      ]
    },
    {
      "cell_type": "markdown",
      "metadata": {
        "id": "MONZ_pPiZGnI",
        "colab_type": "text"
      },
      "source": [
        "# Evaluate Basic RNN Model\n",
        "- Create a evaluation setup"
      ]
    },
    {
      "cell_type": "code",
      "metadata": {
        "id": "uKCA7AoRXx-r",
        "colab_type": "code",
        "colab": {}
      },
      "source": [
        "#create a dataloader\n",
        "\n",
        "def dataloader(npoints, X_, y_):\n",
        "    to_ret = []\n",
        "    for i in range(npoints):\n",
        "        index_ = np.random.randint(len(X_))\n",
        "        name, lang = X_[index_], y_[index_] #get the data at the random index\n",
        "        to_ret.append((name, lang, name_rep(name), nat_rep(lang)))\n",
        "\n",
        "    return to_ret\n"
      ],
      "execution_count": 0,
      "outputs": []
    },
    {
      "cell_type": "code",
      "metadata": {
        "id": "8lnkDGUXacLE",
        "colab_type": "code",
        "outputId": "79b71c36-e841-4d82-f054-7d0b373ed2ea",
        "colab": {
          "base_uri": "https://localhost:8080/",
          "height": 580
        }
      },
      "source": [
        "dataloader(1, X_train, y_train)"
      ],
      "execution_count": 0,
      "outputs": [
        {
          "output_type": "execute_result",
          "data": {
            "text/plain": [
              "[('Winter',\n",
              "  'German',\n",
              "  tensor([[[0., 0., 0., 0., 0., 0., 0., 0., 0., 0., 0., 0., 0., 0., 0., 0., 0.,\n",
              "            0., 0., 0., 0., 0., 0., 0., 0., 0., 0., 0., 0., 0., 0., 0., 0., 0.,\n",
              "            0., 0., 0., 0., 0., 0., 0., 0., 0., 0., 0., 0., 0., 0., 1., 0., 0.,\n",
              "            0., 0., 0., 0.]],\n",
              "  \n",
              "          [[0., 0., 0., 0., 0., 0., 0., 0., 1., 0., 0., 0., 0., 0., 0., 0., 0.,\n",
              "            0., 0., 0., 0., 0., 0., 0., 0., 0., 0., 0., 0., 0., 0., 0., 0., 0.,\n",
              "            0., 0., 0., 0., 0., 0., 0., 0., 0., 0., 0., 0., 0., 0., 0., 0., 0.,\n",
              "            0., 0., 0., 0.]],\n",
              "  \n",
              "          [[0., 0., 0., 0., 0., 0., 0., 0., 0., 0., 0., 0., 0., 1., 0., 0., 0.,\n",
              "            0., 0., 0., 0., 0., 0., 0., 0., 0., 0., 0., 0., 0., 0., 0., 0., 0.,\n",
              "            0., 0., 0., 0., 0., 0., 0., 0., 0., 0., 0., 0., 0., 0., 0., 0., 0.,\n",
              "            0., 0., 0., 0.]],\n",
              "  \n",
              "          [[0., 0., 0., 0., 0., 0., 0., 0., 0., 0., 0., 0., 0., 0., 0., 0., 0.,\n",
              "            0., 0., 1., 0., 0., 0., 0., 0., 0., 0., 0., 0., 0., 0., 0., 0., 0.,\n",
              "            0., 0., 0., 0., 0., 0., 0., 0., 0., 0., 0., 0., 0., 0., 0., 0., 0.,\n",
              "            0., 0., 0., 0.]],\n",
              "  \n",
              "          [[0., 0., 0., 0., 1., 0., 0., 0., 0., 0., 0., 0., 0., 0., 0., 0., 0.,\n",
              "            0., 0., 0., 0., 0., 0., 0., 0., 0., 0., 0., 0., 0., 0., 0., 0., 0.,\n",
              "            0., 0., 0., 0., 0., 0., 0., 0., 0., 0., 0., 0., 0., 0., 0., 0., 0.,\n",
              "            0., 0., 0., 0.]],\n",
              "  \n",
              "          [[0., 0., 0., 0., 0., 0., 0., 0., 0., 0., 0., 0., 0., 0., 0., 0., 0.,\n",
              "            1., 0., 0., 0., 0., 0., 0., 0., 0., 0., 0., 0., 0., 0., 0., 0., 0.,\n",
              "            0., 0., 0., 0., 0., 0., 0., 0., 0., 0., 0., 0., 0., 0., 0., 0., 0.,\n",
              "            0., 0., 0., 0.]]]),\n",
              "  tensor([10]))]"
            ]
          },
          "metadata": {
            "tags": []
          },
          "execution_count": 21
        }
      ]
    },
    {
      "cell_type": "code",
      "metadata": {
        "id": "nAGLmmwNacBY",
        "colab_type": "code",
        "colab": {}
      },
      "source": [
        "#create a function to evaluate model\n",
        "\n",
        "def eval(net, n_points, k, X_, y_):\n",
        "     data_ = dataloader(n_points, X_, y_)\n",
        "     correct = 0\n",
        "\n",
        "     for name, language, name_ohe, lang_rep in data_:\n",
        "         output = infer(net, name) #prediction\n",
        "         val, indices = output.topk(k) #get the top k predictions\n",
        "\n",
        "         if lang_rep in indices:\n",
        "             correct += 1\n",
        "    \n",
        "     accuracy = correct/n_points\n",
        "     return accuracy"
      ],
      "execution_count": 0,
      "outputs": []
    },
    {
      "cell_type": "code",
      "metadata": {
        "id": "BI5ItvwdXx3w",
        "colab_type": "code",
        "outputId": "3e37ac9e-fc46-4231-bc58-de49d11d173e",
        "colab": {
          "base_uri": "https://localhost:8080/",
          "height": 34
        }
      },
      "source": [
        "#basic model evaluation - top 3 accuracy\n",
        "\n",
        "eval(net, 100, 3, X_test, y_test)"
      ],
      "execution_count": 0,
      "outputs": [
        {
          "output_type": "execute_result",
          "data": {
            "text/plain": [
              "0.43"
            ]
          },
          "metadata": {
            "tags": []
          },
          "execution_count": 23
        }
      ]
    },
    {
      "cell_type": "code",
      "metadata": {
        "id": "tWqm3pgUaJgl",
        "colab_type": "code",
        "colab": {}
      },
      "source": [
        ""
      ],
      "execution_count": 0,
      "outputs": []
    },
    {
      "cell_type": "markdown",
      "metadata": {
        "id": "ErPMMk1Sboi6",
        "colab_type": "text"
      },
      "source": [
        "# Training SetUp"
      ]
    },
    {
      "cell_type": "code",
      "metadata": {
        "id": "K9bb3ELFeWBS",
        "colab_type": "code",
        "colab": {}
      },
      "source": [
        "#function to train the data\n",
        "\n",
        "def train(net, opt, criterion, n_points):\n",
        "    \n",
        "    opt.zero_grad()\n",
        "    total_loss = 0\n",
        "    \n",
        "    data_ = dataloader(n_points, X_train, y_train)\n",
        "    \n",
        "    for name, language, name_ohe, lang_rep in data_:\n",
        "\n",
        "        hidden = net.init_hidden()\n",
        "\n",
        "        for i in range(name_ohe.size()[0]):\n",
        "            output, hidden = net(name_ohe[i], hidden)\n",
        "            \n",
        "        loss = criterion(output, lang_rep)\n",
        "        loss.backward(retain_graph=True)\n",
        "        \n",
        "        total_loss += loss\n",
        "        \n",
        "    opt.step()       \n",
        "            \n",
        "    return total_loss/n_points"
      ],
      "execution_count": 0,
      "outputs": []
    },
    {
      "cell_type": "code",
      "metadata": {
        "id": "MP3q5IVfbqhh",
        "colab_type": "code",
        "colab": {}
      },
      "source": [
        "def train_setup(net, lr = 0.01, n_batches = 100, batch_size = 10, momentum = 0.9, display_freq = 5):\n",
        "\n",
        "    criterion = nn.NLLLoss() #define a loss function\n",
        "    opt = optim.SGD(net.parameters(), lr = lr, momentum = momentum) #define a optimizer\n",
        "    loss_arr = np.zeros(n_batches + 1)\n",
        "\n",
        "    #iterate through all the batches\n",
        "    for i in range(n_batches):\n",
        "        loss_arr[i + 1] = (loss_arr[i]*i + train(net, opt, criterion, batch_size))/(i + 1)\n",
        "\n",
        "        if i%display_freq == display_freq - 1:\n",
        "            clear_output(wait = True)\n",
        "\n",
        "            print(\"Iteration number \", i + 1, \"Top - 1 Accuracy:\", round(eval(net, len(X_test), 1, X_test, y_test),4), \n",
        "                  'Top-2 Accuracy:', round(eval(net, len(X_test), 2, X_test, y_test),4), 'Loss:', round(loss_arr[i],4))\n",
        "            plt.figure()\n",
        "            plt.plot(loss_arr[1:i], \"-*\")\n",
        "            plt.xlabel(\"Iteration\")\n",
        "            plt.ylabel(\"Loss\")\n",
        "            plt.show()\n",
        "            print(\"\\n\\n\")\n"
      ],
      "execution_count": 0,
      "outputs": []
    },
    {
      "cell_type": "code",
      "metadata": {
        "id": "qTp3JWTQd_wb",
        "colab_type": "code",
        "outputId": "2e61f99b-ff97-488d-fe7a-c209df29a4d9",
        "colab": {
          "base_uri": "https://localhost:8080/",
          "height": 431
        }
      },
      "source": [
        "#declare all the parameters\n",
        "\n",
        "n_hidden = 128\n",
        "net = RNN_net(n_letters, n_hidden, n_languages)\n",
        "train_setup(net, lr = 0.0005, n_batches = 100, batch_size = 256)"
      ],
      "execution_count": 0,
      "outputs": [
        {
          "output_type": "stream",
          "text": [
            "Iteration number  100 Top - 1 Accuracy: 0.6838 Top-2 Accuracy: 0.7947 Loss: 2.0 4\n"
          ],
          "name": "stdout"
        },
        {
          "output_type": "display_data",
          "data": {
            "image/png": "[encoded data removed]",
            "text/plain": [
              "<Figure size 576x396 with 1 Axes>"
            ]
          },
          "metadata": {
            "tags": []
          }
        },
        {
          "output_type": "stream",
          "text": [
            "\n",
            "\n",
            "\n"
          ],
          "name": "stdout"
        }
      ]
    },
    {
      "cell_type": "code",
      "metadata": {
        "id": "VUkXsygTeKVD",
        "colab_type": "code",
        "colab": {}
      },
      "source": [
        ""
      ],
      "execution_count": 0,
      "outputs": []
    },
    {
      "cell_type": "markdown",
      "metadata": {
        "id": "3OPDht4di5yI",
        "colab_type": "text"
      },
      "source": [
        "# LSTM Implementation"
      ]
    },
    {
      "cell_type": "code",
      "metadata": {
        "id": "0DVRHMMgi70x",
        "colab_type": "code",
        "colab": {}
      },
      "source": [
        "#LSTM class\n",
        "\n",
        "class LSTM_net(nn.Module):\n",
        "    def __init__(self, input_size, hidden_size, output_size):\n",
        "        super(LSTM_net, self).__init__()\n",
        "        self.hidden_size = hidden_size\n",
        "        self.lstm_cell = nn.LSTM(input_size, hidden_size) #LSTM cell\n",
        "        self.h2o = nn.Linear(hidden_size, output_size)\n",
        "        self.softmax = nn.LogSoftmax(dim = 2)\n",
        "\n",
        "    def forward(self, input_, hidden):\n",
        "        out, hidden = self.lstm_cell(input_.view(1, 1, -1), hidden)\n",
        "        output = self.h2o(hidden[0])\n",
        "        output = self.softmax(output)\n",
        "        return output.view(1, -1), hidden\n",
        "\n",
        "    def init_hidden(self):\n",
        "        return (torch.zeros(1, 1, self.hidden_size), torch.zeros(1, 1, self.hidden_size))"
      ],
      "execution_count": 0,
      "outputs": []
    },
    {
      "cell_type": "code",
      "metadata": {
        "id": "TM87jQV3i-2M",
        "colab_type": "code",
        "outputId": "dbd1ad99-3e94-4710-8014-f6cca41c6a32",
        "colab": {
          "base_uri": "https://localhost:8080/",
          "height": 431
        }
      },
      "source": [
        "#create hyperparameters\n",
        "n_hidden = 128\n",
        "net = LSTM_net(n_letters, n_hidden, n_languages)\n",
        "train_setup(net, lr = 0.0005, n_batches = 100, batch_size = 256)"
      ],
      "execution_count": 0,
      "outputs": [
        {
          "output_type": "stream",
          "text": [
            "Iteration number  100 Top - 1 Accuracy: 0.5357 Top-2 Accuracy: 0.6933 Loss: 2.0 4\n"
          ],
          "name": "stdout"
        },
        {
          "output_type": "display_data",
          "data": {
            "image/png": "[encoded data removed]",
            "text/plain": [
              "<Figure size 576x396 with 1 Axes>"
            ]
          },
          "metadata": {
            "tags": []
          }
        },
        {
          "output_type": "stream",
          "text": [
            "\n",
            "\n",
            "\n"
          ],
          "name": "stdout"
        }
      ]
    },
    {
      "cell_type": "code",
      "metadata": {
        "id": "iLJStlyJkKZU",
        "colab_type": "code",
        "colab": {}
      },
      "source": [
        ""
      ],
      "execution_count": 0,
      "outputs": []
    },
    {
      "cell_type": "markdown",
      "metadata": {
        "id": "05Ju7CPykRZ6",
        "colab_type": "text"
      },
      "source": [
        "# GRU Unit"
      ]
    },
    {
      "cell_type": "code",
      "metadata": {
        "id": "-YU4EoJTkREc",
        "colab_type": "code",
        "colab": {}
      },
      "source": [
        "#GRU implementation\n",
        "\n",
        "class GRU_net(nn.Module):\n",
        "    def __init__(self, input_size, hidden_size, output_size):\n",
        "        super(GRU_net, self).__init__()\n",
        "        self.hidden_size = hidden_size\n",
        "        self.gru_cell = nn.GRU(input_size, hidden_size) #gru cell\n",
        "        self.h2o = nn.Linear(hidden_size, output_size)\n",
        "        self.softmax = nn.LogSoftmax(dim = 2)\n",
        "    \n",
        "    def forward(self, input_, hidden):\n",
        "        out, hidden = self.gru_cell(input_.view(1, 1, -1), hidden)\n",
        "        output = self.h2o(hidden)\n",
        "        output = self.softmax(output)\n",
        "        return output.view(1, -1), hidden\n",
        "    \n",
        "    def init_hidden(self):\n",
        "        return torch.zeros(1, 1, self.hidden_size)"
      ],
      "execution_count": 0,
      "outputs": []
    },
    {
      "cell_type": "code",
      "metadata": {
        "id": "pACW-iyXmdRE",
        "colab_type": "code",
        "outputId": "6021ed9a-697f-4e4b-a4d3-ee2d2b03f871",
        "colab": {
          "base_uri": "https://localhost:8080/",
          "height": 431
        }
      },
      "source": [
        "#hyperparameters\n",
        "\n",
        "n_hidden = 128\n",
        "net = LSTM_net(n_letters, n_hidden, n_languages)\n",
        "train_setup(net, lr = 0.0005, n_batches = 100, batch_size = 256)"
      ],
      "execution_count": 0,
      "outputs": [
        {
          "output_type": "stream",
          "text": [
            "Iteration number  100 Top - 1 Accuracy: 0.5624 Top-2 Accuracy: 0.6848 Loss: 2.0 4\n"
          ],
          "name": "stdout"
        },
        {
          "output_type": "display_data",
          "data": {
            "image/png": "[encoded data removed]",
            "text/plain": [
              "<Figure size 576x396 with 1 Axes>"
            ]
          },
          "metadata": {
            "tags": []
          }
        },
        {
          "output_type": "stream",
          "text": [
            "\n",
            "\n",
            "\n"
          ],
          "name": "stdout"
        }
      ]
    },
    {
      "cell_type": "code",
      "metadata": {
        "id": "XV8oIxpqmsZy",
        "colab_type": "code",
        "colab": {}
      },
      "source": [
        ""
      ],
      "execution_count": 0,
      "outputs": []
    },
    {
      "cell_type": "markdown",
      "metadata": {
        "id": "dzYRotw6mx7V",
        "colab_type": "text"
      },
      "source": [
        "# Exercises\n",
        "\n",
        "- Compute language wise accuracy, plot confusion matrix\n",
        "- Play with hyper-parameters and try to get better results\n",
        "- Observe gradient explosion at higher learning rates\n",
        "- Increase performance by moving to GPU\n",
        "- Think about how to increase performance further (idea: are we benefiting from batching in our implementation?)"
      ]
    },
    {
      "cell_type": "code",
      "metadata": {
        "id": "k9MB7lfHo_uM",
        "colab_type": "code",
        "colab": {}
      },
      "source": [
        ""
      ],
      "execution_count": 0,
      "outputs": []
    }
  ]
}