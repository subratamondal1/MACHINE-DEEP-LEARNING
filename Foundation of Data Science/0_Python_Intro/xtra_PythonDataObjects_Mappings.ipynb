{
 "cells": [
  {
   "cell_type": "markdown",
   "metadata": {
    "colab_type": "text",
    "id": "M01rKlUI_KYo"
   },
   "source": [
    "\n",
    "<img src=\"https://i.imgur.com/nTOFzVI.png\" alt=\"drawing\" width=\"400\"/>\n",
    "\n",
    "# by One Fourth Labs\n",
    "\n",
    "\n",
    "For more reading or to go indepth refer official reference of python language https://docs.python.org/3/reference/\n"
   ]
  },
  {
   "cell_type": "markdown",
   "metadata": {
    "colab_type": "text",
    "id": "BaPS5VydEkSq"
   },
   "source": [
    "#**Dictionary**\n",
    "Dictionaries are **mutable data objects** that has mapping between the keys and values.\n",
    "Keys are similar to set elements that would be hashed and stored. Each key will a have a value (object) associated with it. Dictionary do not preserve ordering.\n",
    "\n",
    ">*Keys has to be immutable objects like int, float, string, tuple; whereas values can be any mutable or immutable object like even lists. This is because only keys are hashed, not values.*"
   ]
  },
  {
   "cell_type": "markdown",
   "metadata": {
    "colab_type": "text",
    "id": "WK8zHy_cUhM9"
   },
   "source": [
    "## Creating Dictionary\n",
    "\n"
   ]
  },
  {
   "cell_type": "markdown",
   "metadata": {
    "colab_type": "text",
    "id": "kqhPBrVzbKx_"
   },
   "source": [
    "Dict can be created in 3 ways\n",
    "1. using `{}`  curly brackets\n",
    "2. using `dict()` function, which takes any sequence type or iterable objects (like other list, tuple, set) whose **elements are objects with pair of elements**\n",
    "3. using  `fromkeys()` method for initializing dictionary\n",
    "\n",
    "A dictioanry element has two parts represented as `{key : value}`. Key and associated value should be seperated by `:`. <br>\n",
    "The Keys will/need_to be unique while values will/need not.\n"
   ]
  },
  {
   "cell_type": "code",
   "execution_count": 1,
   "metadata": {
    "colab": {
     "base_uri": "https://localhost:8080/",
     "height": 105
    },
    "colab_type": "code",
    "id": "otCZN4w8ERE8",
    "outputId": "db8049c3-ec06-43c9-c9e6-87d879e25016"
   },
   "outputs": [
    {
     "name": "stdout",
     "output_type": "stream",
     "text": [
      "a =  {} \n",
      "b =  {} \n",
      "c =  {'a': 1, 'b': 2, 'c': 3, 'd': 4} \n",
      "d =  {1: 'a', 2: 'b'} \n",
      "e =  {'a': 1, 'b': 2, 'c': 3, 'd': 4}\n"
     ]
    }
   ],
   "source": [
    "# empty dictionary\n",
    "a = {}\n",
    "b = dict()\n",
    "\n",
    "# initalized dictionary\n",
    "c = {\"a\":1,\"b\":2, \"c\":3, \"d\":4}\n",
    "d = dict([ (1,\"a\"), (2,\"b\") ]) # create dict from sequence of paired elements\n",
    "e = c # shallow copy from a dict\n",
    "\n",
    "# Print\n",
    "print(\"a = \",a, \"\\nb = \",b, \"\\nc = \",c, \"\\nd = \",d, \"\\ne = \",e )"
   ]
  },
  {
   "cell_type": "markdown",
   "metadata": {
    "colab_type": "text",
    "id": "2rcWbvgbi_3U"
   },
   "source": [
    "As one can see a list with elements made of tuple with element pairs is converted into Dictionary.\n",
    "\n",
    "For `dict()` function, it is required to have paired elements or else it will throw error. Check the below cases."
   ]
  },
  {
   "cell_type": "code",
   "execution_count": 2,
   "metadata": {
    "colab": {
     "base_uri": "https://localhost:8080/",
     "height": 88
    },
    "colab_type": "code",
    "id": "gVdQA3toLp3j",
    "outputId": "5bdb2405-6fef-489d-8e78-7f6e27dba282"
   },
   "outputs": [
    {
     "name": "stdout",
     "output_type": "stream",
     "text": [
      "`a` convertion TypeError: cannot convert dictionary update sequence element #0 to a sequence\n",
      "`b` convertion TypeError: cannot convert dictionary update sequence element #0 to a sequence\n",
      "`c` convertion TypeError: cannot convert dictionary update sequence element #0 to a sequence\n",
      "`d` convertion TypeError: dictionary update sequence element #0 has length 1; 2 is required\n"
     ]
    }
   ],
   "source": [
    "a = [1,2,3,4]\n",
    "try:\n",
    "    out = dict(a) # throw error\n",
    "except Exception as error:\n",
    "    print(\"`a` convertion TypeError:\", error)\n",
    "\n",
    "b = (1,2)\n",
    "try:\n",
    "    out = dict(b) # throw error\n",
    "except Exception as error:\n",
    "    print(\"`b` convertion TypeError:\", error)\n",
    "\n",
    "c = {1,2,3}\n",
    "try:\n",
    "    out = dict(c) # throw error\n",
    "except Exception as error:\n",
    "    print(\"`c` convertion TypeError:\", error)\n",
    "\n",
    "d = \"hello World\"\n",
    "try:\n",
    "    out = dict(d) # throw error\n",
    "except Exception as error:\n",
    "    print(\"`d` convertion TypeError:\", error)\n"
   ]
  },
  {
   "cell_type": "markdown",
   "metadata": {
    "colab_type": "text",
    "id": "rPOsQnMyM4Si"
   },
   "source": [
    "It is mandatory for data sequences and sets to have elements as clubbed pairs of objects, that would form key and corresponding value in dictionary.\n",
    "\n",
    "The elements can be clubbed using data objects like list, tuple or set; Each nested object should have exactly two elements."
   ]
  },
  {
   "cell_type": "code",
   "execution_count": 3,
   "metadata": {
    "colab": {
     "base_uri": "https://localhost:8080/",
     "height": 88
    },
    "colab_type": "code",
    "id": "4-_2ODdoOlrA",
    "outputId": "d073399d-096c-415c-a788-47c3ce504070"
   },
   "outputs": [
    {
     "name": "stdout",
     "output_type": "stream",
     "text": [
      "b = {1: 2, 2: 3, 4: 5}\n",
      "d = {1: 2, 2: 3, 4: 5}\n",
      "f = {'hello': 'world'}\n",
      "Error at g: dictionary update sequence element #0 has length 3; 2 is required\n"
     ]
    }
   ],
   "source": [
    "a = [[1,2], [2,3], [4,5]]\n",
    "b = dict(a)\n",
    "c = [{1,2}, [2,3], (4,5)]\n",
    "d = dict(c)\n",
    "e= [['hello','world'] ]\n",
    "f=dict(e)\n",
    "\n",
    "print(\"b =\", b)\n",
    "print(\"d =\", d)\n",
    "print(\"f =\", f)\n",
    "\n",
    "\n",
    "g = [ [1,2,3], [4,5,6] ]\n",
    "try :\n",
    "    h = dict(g) # this will throw error\n",
    "except Exception as error:\n",
    "    print(\"Error at g:\", error)\n",
    "\n"
   ]
  },
  {
   "cell_type": "markdown",
   "metadata": {
    "colab_type": "text",
    "id": "OiMxqItgDt8n"
   },
   "source": [
    "---"
   ]
  },
  {
   "cell_type": "markdown",
   "metadata": {
    "colab_type": "text",
    "id": "aaSvCgclACVi"
   },
   "source": [
    "Dictionary keys will be hashed thus they must be immutable objects, where as values can be any mutable or immutable object"
   ]
  },
  {
   "cell_type": "code",
   "execution_count": 4,
   "metadata": {
    "colab": {
     "base_uri": "https://localhost:8080/",
     "height": 90
    },
    "colab_type": "code",
    "id": "rFIEhnXcjbdT",
    "outputId": "6cc1de1e-5339-42ef-83b8-6b4184efa216"
   },
   "outputs": [
    {
     "name": "stdout",
     "output_type": "stream",
     "text": [
      "a = {(1, 2): 'tuple key', 'test': 'string key', frozenset({1, 2}): 'Frozen set key', 1: 'int key', 1.222: 'float key', (1+2j): 'complex key'}\n",
      "Error at b: unhashable type: 'list'\n",
      "Error at c: unhashable type: 'set'\n"
     ]
    }
   ],
   "source": [
    "a = {\n",
    "    (1,2): \"tuple key\",\n",
    "    \"test\": \"string key\",\n",
    "    frozenset((1,2)): \"Frozen set key\",\n",
    "    1:      \"int key\",\n",
    "    1.222:  \"float key\",\n",
    "    1+2j:   \"complex key\",\n",
    "} \n",
    "\n",
    "print(\"a =\", a)\n",
    "\n",
    "try:\n",
    "    b = { [1,2]: \"list key\" }\n",
    "except Exception as error:\n",
    "    print(\"Error at b:\", error)\n",
    "\n",
    "try:\n",
    "    c = { {1,2}: \"list key\" }\n",
    "except Exception as error:\n",
    "    print(\"Error at c:\", error)"
   ]
  },
  {
   "cell_type": "code",
   "execution_count": 5,
   "metadata": {
    "colab": {
     "base_uri": "https://localhost:8080/",
     "height": 55
    },
    "colab_type": "code",
    "id": "QP6dkuKfE7o9",
    "outputId": "204cad82-c0d2-41cd-91c2-1ae9c6dde590"
   },
   "outputs": [
    {
     "name": "stdout",
     "output_type": "stream",
     "text": [
      "a = {'tuple': (1, 2), 'string': 'test', 'frozenset': frozenset({1, 2}), 'int': 1, 'float': 1.222, 'complex number': (1+2j), 'list': [1, 2, 3], 'set': {1, 2, 3}}\n"
     ]
    }
   ],
   "source": [
    "a = {\n",
    "    \"tuple\": (1,2),\n",
    "    \"string\": \"test\",\n",
    "    \"frozenset\": frozenset((1,2)),\n",
    "    \"int\": 1,\n",
    "    \"float\": 1.222,\n",
    "    \"complex number\": 1+2j,\n",
    "    \"list\": [1,2,3],\n",
    "    \"set\": {1,2,3},\n",
    "} \n",
    "\n",
    "print(\"a =\", a)\n"
   ]
  },
  {
   "cell_type": "markdown",
   "metadata": {
    "colab_type": "text",
    "id": "0waHWI_3IJNO"
   },
   "source": [
    "As the keys of dictionaries are hashed there will not be duplicated keys in a dict. The value of key will be updated to the latest instance of key's value."
   ]
  },
  {
   "cell_type": "code",
   "execution_count": 6,
   "metadata": {
    "colab": {
     "base_uri": "https://localhost:8080/",
     "height": 35
    },
    "colab_type": "code",
    "id": "J4mMvqZaInlD",
    "outputId": "e6926259-5c36-45ae-d57a-fc754b4f4d31"
   },
   "outputs": [
    {
     "name": "stdout",
     "output_type": "stream",
     "text": [
      "z = {'a': 3, 'b': 1, 'c': 2, 'd': 3}\n"
     ]
    }
   ],
   "source": [
    "z = {\n",
    "    \"a\": 1, \"b\": 1, \n",
    "    \"a\": 2, \"c\": 2,\n",
    "    \"a\": 3, \"d\": 3,\n",
    "}\n",
    "\n",
    "print(\"z =\", z)"
   ]
  },
  {
   "cell_type": "markdown",
   "metadata": {
    "colab_type": "text",
    "id": "eRpmaYVxJW8W"
   },
   "source": [
    "One can see that the last occurence of key `a`had value as `3` which is retained. \n",
    "Also one can see that both the value of `a` and `c` are same(`3`), thus values can have duplicate objects."
   ]
  },
  {
   "cell_type": "markdown",
   "metadata": {
    "colab_type": "text",
    "id": "nJ7mqazbH-NV"
   },
   "source": [
    "---"
   ]
  },
  {
   "cell_type": "markdown",
   "metadata": {
    "colab_type": "text",
    "id": "Np4c1vR_GVvR"
   },
   "source": [
    "There could be cases where one may need to have just the keys in dict and values would be created at a future point.\n",
    "\n",
    "But a dictionary key cannot exist without a value, in such cases one can initialize the value to `None`"
   ]
  },
  {
   "cell_type": "code",
   "execution_count": 7,
   "metadata": {
    "colab": {
     "base_uri": "https://localhost:8080/",
     "height": 35
    },
    "colab_type": "code",
    "id": "PRQ4uOL5Zmzo",
    "outputId": "59d0fa65-6fcc-4cc9-d916-98805a6cbf11"
   },
   "outputs": [
    {
     "name": "stdout",
     "output_type": "stream",
     "text": [
      "{'a': None, 'b': None, 'c': None}\n"
     ]
    }
   ],
   "source": [
    "a = {\"a\": None, \"b\":None, \"c\": None}\n",
    "print(a)"
   ]
  },
  {
   "cell_type": "markdown",
   "metadata": {
    "colab_type": "text",
    "id": "xwbspZATaHKc"
   },
   "source": [
    "Or there could be case where we may want to initialize all the values tp some constant values or empty objects and would modify later point in code.\n",
    "\n",
    "This pattern is frequently used in may applications, so there is dedicated function in dictionary called `dict.fromkeys()`. <br>\n",
    "This two arguments, firstly a sequence data or set as argument and secondly optional value to which each keys will be initalized, if not given `None` will be taken as default. "
   ]
  },
  {
   "cell_type": "code",
   "execution_count": 8,
   "metadata": {
    "colab": {
     "base_uri": "https://localhost:8080/",
     "height": 52
    },
    "colab_type": "code",
    "id": "uuirsGnlaUSt",
    "outputId": "aaacc33b-c891-4f6f-997f-e3246faa7241"
   },
   "outputs": [
    {
     "name": "stdout",
     "output_type": "stream",
     "text": [
      "b = {1: None, 2: None, 3: None, 4: None, 5: None, 6: None, 7: None}\n",
      "e = {'apple': [1, 2, 3], 'banana': [1, 2, 3], 'cucumber': [1, 2, 3]}\n"
     ]
    }
   ],
   "source": [
    "a = [1,2,3,4,5,6,7]\n",
    "b = dict.fromkeys(a) # values will be none\n",
    "print(\"b =\", b)\n",
    "\n",
    "c = [\"apple\", \"banana\", \"cucumber\" ]\n",
    "d = [1,2,3]\n",
    "e = dict.fromkeys(c,d)\n",
    "print(\"e =\", e)"
   ]
  },
  {
   "cell_type": "markdown",
   "metadata": {
    "colab_type": "text",
    "id": "du7EPTmlfDEv"
   },
   "source": [
    "> Note that function did not iterate over values argument instead it took entire list and made it as value for all the keys"
   ]
  },
  {
   "cell_type": "markdown",
   "metadata": {
    "colab_type": "text",
    "id": "ePwsE3WW1q_t"
   },
   "source": [
    "---\n",
    "<br><br>"
   ]
  },
  {
   "cell_type": "markdown",
   "metadata": {
    "colab_type": "text",
    "id": "suMeeKl0JZcE"
   },
   "source": [
    "## Accessing elements "
   ]
  },
  {
   "cell_type": "markdown",
   "metadata": {
    "colab_type": "text",
    "id": "6i17hPIXLVEV"
   },
   "source": [
    "Dictionary elements cannot be indexed like list or tuple with numbers.\n",
    "Each value has to be accessed using keys. This is because keys are stored based on hashing, not sequentially in memory.\n",
    "\n",
    "Subscripting with `[]` square bracket is used for accessing values, using keys for referencing."
   ]
  },
  {
   "cell_type": "code",
   "execution_count": 9,
   "metadata": {
    "colab": {
     "base_uri": "https://localhost:8080/",
     "height": 70
    },
    "colab_type": "code",
    "id": "BFr1GYxwLnnu",
    "outputId": "1fd99210-107f-4765-d0b8-b146970367b4"
   },
   "outputs": [
    {
     "name": "stdout",
     "output_type": "stream",
     "text": [
      "value at \"a\" : 1\n",
      "value at \"b\" : 2\n",
      "KeyError: 1\n"
     ]
    }
   ],
   "source": [
    "z = {\"a\": 1, \"b\": 2, \"c\": 3, \"d\": 4}\n",
    "y = z[\"a\"]\n",
    "x = z [\"b\"]\n",
    "print(\"value at \\\"a\\\" :\", y)\n",
    "print(\"value at \\\"b\\\" :\", x)\n",
    "\n",
    "try:\n",
    "    w = z[1]\n",
    "except KeyError as error:\n",
    "    print(\"KeyError:\", error)"
   ]
  },
  {
   "cell_type": "markdown",
   "metadata": {
    "colab_type": "text",
    "id": "8fnBFFBYrbIi"
   },
   "source": [
    "Referenced with `1` dict does not consider it as index instead takes it as key and looks at corresponding hashing, since it does not exist it throws KeyError."
   ]
  },
  {
   "cell_type": "markdown",
   "metadata": {
    "colab_type": "text",
    "id": "pCw0RSl1R3pu"
   },
   "source": [
    "When one tries to reference a key that is not present using `[]`, it will throw error. <br>\n",
    "For certain program logic, it might be useful to get value if present else silently move to next step. In such cases one could use `get()`.\n",
    "It will return value if key exists else will return `None`\n"
   ]
  },
  {
   "cell_type": "code",
   "execution_count": 10,
   "metadata": {
    "colab": {
     "base_uri": "https://localhost:8080/",
     "height": 52
    },
    "colab_type": "code",
    "id": "aajs1GVbS0nd",
    "outputId": "a830de71-6b5b-476c-9a37-33f717c26527"
   },
   "outputs": [
    {
     "name": "stdout",
     "output_type": "stream",
     "text": [
      "KeyError: 'e'\n",
      "using get: None\n"
     ]
    }
   ],
   "source": [
    "z = {\"a\": 1, \"b\": 2, \"c\": 3, \"d\": 4}\n",
    "\n",
    "try:\n",
    "    y = z[\"e\"]\n",
    "except KeyError as error:\n",
    "    print(\"KeyError:\" , error)\n",
    "\n",
    "y = z.get(\"e\")\n",
    "print('using get:', y)"
   ]
  },
  {
   "cell_type": "markdown",
   "metadata": {
    "colab_type": "text",
    "id": "wMHaLyE_O1e0"
   },
   "source": [
    "---\n",
    "<br>"
   ]
  },
  {
   "cell_type": "markdown",
   "metadata": {
    "colab_type": "text",
    "id": "VsDbjB-bOJzN"
   },
   "source": [
    "One  can  use `in` statement to ckeck if a specific key is present in a dictionary or not.\n",
    "\n",
    "> Only membership of keys can be checked with `in`, one cannot use to check if a value exists in dict. "
   ]
  },
  {
   "cell_type": "code",
   "execution_count": 11,
   "metadata": {
    "colab": {
     "base_uri": "https://localhost:8080/",
     "height": 70
    },
    "colab_type": "code",
    "id": "KkJXi3dOO7Rp",
    "outputId": "78dfb28b-8888-4284-d4dd-0382c79fc95c"
   },
   "outputs": [
    {
     "name": "stdout",
     "output_type": "stream",
     "text": [
      "is dog present: True\n",
      "is wolf present: False\n",
      "is 1 present: False\n"
     ]
    }
   ],
   "source": [
    "a = {\"ant\": 1, \"bear\":2, \"cat\": 3, \"dog\": 4, \"elephant\": 5}\n",
    "a_dog = \"dog\" in a\n",
    "a_wolf = \"wolf\" in a\n",
    "a_1 = 1 in a\n",
    "\n",
    "print(\"is dog present:\", a_dog)\n",
    "print(\"is wolf present:\", a_wolf)\n",
    "print(\"is 1 present:\", a_1)\n",
    "\n"
   ]
  },
  {
   "cell_type": "markdown",
   "metadata": {
    "colab_type": "text",
    "id": "jFG7aARpJxCT"
   },
   "source": [
    "Iterating with `for` and `in` and accessing the dict elements for updating them can be done as shown below."
   ]
  },
  {
   "cell_type": "code",
   "execution_count": 12,
   "metadata": {
    "colab": {
     "base_uri": "https://localhost:8080/",
     "height": 35
    },
    "colab_type": "code",
    "id": "jCu9FDITJV3c",
    "outputId": "ead3c797-e29b-43d3-b732-68fed2a67cfd"
   },
   "outputs": [
    {
     "name": "stdout",
     "output_type": "stream",
     "text": [
      "updated a = {'ant': 11, 'bear': 12, 'cat': 13, 'dog': 14, 'elephant': 15}\n"
     ]
    }
   ],
   "source": [
    "a = {\"ant\": 1, \"bear\":2, \"cat\": 3, \"dog\": 4, \"elephant\": 5}\n",
    "\n",
    "for i in a:\n",
    "    a[i] +=10\n",
    "\n",
    "print(\"updated a =\", a) "
   ]
  },
  {
   "cell_type": "markdown",
   "metadata": {
    "colab_type": "text",
    "id": "LQIrLpddgmPR"
   },
   "source": [
    "### View Objects\n",
    "\n",
    "Refer [Docs](https://docs.python.org/3/library/stdtypes.html#dictionary-view-objects) for more details"
   ]
  },
  {
   "cell_type": "markdown",
   "metadata": {
    "colab_type": "text",
    "id": "S4JqhUnJu34T"
   },
   "source": [
    "*One could use `in` for checking if key exists. But what if one needs to check if a value exists in a dict?*\n",
    "\n",
    "A simple work around could be to use `values()` method. it returns all the values of a dictionary as a `dict_value` class which is view object (i.e gives view like a list).<br>\n",
    "One can use this with `in` to check if the value present in the object returned by `values()`"
   ]
  },
  {
   "cell_type": "code",
   "execution_count": 13,
   "metadata": {
    "colab": {
     "base_uri": "https://localhost:8080/",
     "height": 52
    },
    "colab_type": "code",
    "id": "wqCxB34Qv8fR",
    "outputId": "1b04dd87-267e-4976-ff44-ca0883ff94f9"
   },
   "outputs": [
    {
     "name": "stdout",
     "output_type": "stream",
     "text": [
      "is 1 present: True\n",
      "a_vals =  dict_values([1, 2, 3, 4, 5])\n"
     ]
    }
   ],
   "source": [
    "a = {\"ant\": 1, \"bear\":2, \"cat\": 3, \"dog\": 4, \"elephant\": 5}\n",
    "a_vals = a.values()\n",
    "\n",
    "a_1 = 1 in a_vals\n",
    "print(\"is 1 present:\", a_1)\n",
    "print(\"a_vals = \", a_vals)"
   ]
  },
  {
   "cell_type": "markdown",
   "metadata": {
    "colab_type": "text",
    "id": "r0pbKgQzyGYZ"
   },
   "source": [
    "Notice that though the object seems like list it is actually a dict_values object. The object is not subscriptable with index like list."
   ]
  },
  {
   "cell_type": "code",
   "execution_count": 14,
   "metadata": {
    "colab": {
     "base_uri": "https://localhost:8080/",
     "height": 35
    },
    "colab_type": "code",
    "id": "e9OAsG5-Ibwd",
    "outputId": "81925ac3-92fa-4294-f0e9-24745a6517b7"
   },
   "outputs": [
    {
     "name": "stdout",
     "output_type": "stream",
     "text": [
      "a_vals before =  dict_values([1, 2, 3, 4, 5])\n"
     ]
    }
   ],
   "source": [
    "a = {\"ant\": 1, \"bear\":2, \"cat\": 3, \"dog\": 4, \"elephant\": 5}\n",
    "a_vals = a.values()\n",
    "print(\"a_vals before = \", a_vals)"
   ]
  },
  {
   "cell_type": "markdown",
   "metadata": {
    "colab_type": "text",
    "id": "VxgDlE8AI2ZV"
   },
   "source": [
    "Similarly there is `keys()` method which will return `dict_keys` class which again is a view object."
   ]
  },
  {
   "cell_type": "code",
   "execution_count": 15,
   "metadata": {
    "colab": {
     "base_uri": "https://localhost:8080/",
     "height": 35
    },
    "colab_type": "code",
    "id": "ZW91q_rTJIQe",
    "outputId": "4e8b8387-adcf-4030-857a-6310347e44b4"
   },
   "outputs": [
    {
     "name": "stdout",
     "output_type": "stream",
     "text": [
      "a_keys =  dict_keys(['ant', 'bear', 'cat', 'dog', 'elephant'])\n"
     ]
    }
   ],
   "source": [
    "a = {\"ant\": 1, \"bear\":2, \"cat\": 3, \"dog\": 4, \"elephant\": 5}\n",
    "a_keys = a.keys()\n",
    "print(\"a_keys = \", a_keys)"
   ]
  },
  {
   "cell_type": "markdown",
   "metadata": {
    "colab_type": "text",
    "id": "7chQk1fluDqX"
   },
   "source": [
    "Previously we converted sequence type data with paired elements into a dictionary. We could also do the inverse, we could convert dictionary into `dict_items` view object, which equivalent to tuple pairs.\n",
    "\n",
    "For which we could use `items()` method which returns `dict_items` which again is a view object."
   ]
  },
  {
   "cell_type": "code",
   "execution_count": 16,
   "metadata": {
    "colab": {
     "base_uri": "https://localhost:8080/",
     "height": 35
    },
    "colab_type": "code",
    "id": "wHR1tNTguSYD",
    "outputId": "8fb16d34-0725-44dd-c039-77ec4e251013"
   },
   "outputs": [
    {
     "name": "stdout",
     "output_type": "stream",
     "text": [
      "a_keys =  dict_items([('ant', 1), ('bear', 2), ('cat', 3), ('dog', 4), ('elephant', 5)])\n"
     ]
    }
   ],
   "source": [
    "a = {\"ant\": 1, \"bear\":2, \"cat\": 3, \"dog\": 4, \"elephant\": 5}\n",
    "a_items = a.items()\n",
    "print(\"a_keys = \", a_items)"
   ]
  },
  {
   "cell_type": "markdown",
   "metadata": {
    "colab_type": "text",
    "id": "e80lPskghw87"
   },
   "source": [
    "One Significance of having view object is any changes or updates to the dictionary object will reflect in view object. These objects are references to the actual dictionary.\n",
    "\n",
    "> In Python2 `values()` `items()` `keys()` methods returned seperate list object, that did not preservethe link. Only in Python3 this was changed to view object."
   ]
  },
  {
   "cell_type": "code",
   "execution_count": 17,
   "metadata": {
    "colab": {
     "base_uri": "https://localhost:8080/",
     "height": 158
    },
    "colab_type": "code",
    "id": "sjDvgUrVh_Z3",
    "outputId": "4b42db1e-ccd7-490d-9fe1-517ade797e3d"
   },
   "outputs": [
    {
     "name": "stdout",
     "output_type": "stream",
     "text": [
      "Before changing:\n",
      " dict_values([1, 2, 3]) \n",
      " dict_keys(['ant', 'bear', 'cat']) \n",
      " dict_items([('ant', 1), ('bear', 2), ('cat', 3)])\n",
      "After changing:\n",
      " dict_values([10, 2, 3, 40]) \n",
      " dict_keys(['ant', 'bear', 'cat', 'dog']) \n",
      " dict_items([('ant', 10), ('bear', 2), ('cat', 3), ('dog', 40)])\n"
     ]
    }
   ],
   "source": [
    "a = {\"ant\": 1, \"bear\":2, \"cat\": 3}\n",
    "a_vals = a.values()\n",
    "a_keys = a.keys()\n",
    "a_items = a.items()\n",
    "print(\"Before changing:\\n\", a_vals, \"\\n\", a_keys, \"\\n\", a_items)\n",
    "\n",
    "a[\"ant\"] = 10 # change value\n",
    "a[\"dog\"] = 40 # addd new element\n",
    "\n",
    "print(\"After changing:\\n\", a_vals, \"\\n\", a_keys, \"\\n\", a_items)"
   ]
  },
  {
   "cell_type": "markdown",
   "metadata": {
    "colab_type": "text",
    "id": "UIDTaBET2BPo"
   },
   "source": [
    "`keys()`, `values()` and `items()` would useful in many cases involving complex operations with dictionary data. Limiting the usage to simple examples here.\n",
    "\n",
    ">One could convert these view objects into other data structures easily with creation functions like `list()`, `tuple()` and `set()` and use them further."
   ]
  },
  {
   "cell_type": "markdown",
   "metadata": {
    "colab_type": "text",
    "id": "Irs5Geprol7p"
   },
   "source": [
    "\n",
    "---\n",
    "<br>"
   ]
  },
  {
   "cell_type": "markdown",
   "metadata": {
    "colab_type": "text",
    "id": "31P3t7Sea0Ac"
   },
   "source": [
    "\n",
    "## Inserting elements\n",
    "\n",
    "Dictionary are **mutable** object, so one can add elements to existing object without creating new object."
   ]
  },
  {
   "cell_type": "markdown",
   "metadata": {
    "colab_type": "text",
    "id": "TkeTGHZIbRKG"
   },
   "source": [
    "For adding new element one can directly subscript the new key with `[]` and assign the corresponding values.\n",
    "\n",
    "\n"
   ]
  },
  {
   "cell_type": "code",
   "execution_count": 18,
   "metadata": {
    "colab": {
     "base_uri": "https://localhost:8080/",
     "height": 35
    },
    "colab_type": "code",
    "id": "koFt26U9ZvXd",
    "outputId": "5ea3ad92-a0d3-4af6-c7c6-0e0b4e669549"
   },
   "outputs": [
    {
     "name": "stdout",
     "output_type": "stream",
     "text": [
      "a= {'ant': 1, 'bear': 2, 'cat': 3, 'dog': 4, 'elephant': 5, 'fox': 6}\n"
     ]
    }
   ],
   "source": [
    "a = {\"ant\": 1, \"bear\":2, \"cat\": 3, \"dog\": 4, \"elephant\": 5}\n",
    "a[\"fox\"] = 6\n",
    "\n",
    "print('a=', a)"
   ]
  },
  {
   "cell_type": "markdown",
   "metadata": {
    "colab_type": "text",
    "id": "UDpPLWABBORp"
   },
   "source": [
    "One alternative way would be to use `update()` to add new elements.\n",
    "\n",
    "Update takes a dictionary or sequences with paired elements. So this could be used for bulk updates as well.\n"
   ]
  },
  {
   "cell_type": "code",
   "execution_count": 19,
   "metadata": {
    "colab": {
     "base_uri": "https://localhost:8080/",
     "height": 35
    },
    "colab_type": "code",
    "id": "ugDzu5ZJeQcc",
    "outputId": "caae10ea-f122-48b5-9d3d-6f0e9b3cbaec"
   },
   "outputs": [
    {
     "name": "stdout",
     "output_type": "stream",
     "text": [
      "{'ant': 1, 'bear': 2, 'cat': 3, 'dog': 4, 'elephant': 5}\n"
     ]
    }
   ],
   "source": [
    "a = {\"ant\": 1, \"bear\":2, \"cat\": 3}\n",
    "a.update({'dog': 4})\n",
    "a.update( [(\"dog\", 4), (\"elephant\", 5)] )\n",
    "print(a)"
   ]
  },
  {
   "cell_type": "markdown",
   "metadata": {
    "colab_type": "text",
    "id": "w-M_MpCWZH_O"
   },
   "source": [
    "The keys of dictionar are unique, thus using subscript `[]` or `update()` on existing keys will change the values of the keys.\n",
    "\n",
    ">The subscripting `[]` will be faster for adding single element compared to `update()` method.<br>\n",
    "But `update()` will be and faster useful for bulk update with large number of elements compared to iterating.\n"
   ]
  },
  {
   "cell_type": "code",
   "execution_count": 20,
   "metadata": {
    "colab": {
     "base_uri": "https://localhost:8080/",
     "height": 35
    },
    "colab_type": "code",
    "id": "pdMUrEeoeEdY",
    "outputId": "5b1cd685-b5fc-4a71-8156-c9363806e37e"
   },
   "outputs": [
    {
     "name": "stdout",
     "output_type": "stream",
     "text": [
      "1 loop, best of 10: 4.67 ms per loop\n"
     ]
    }
   ],
   "source": [
    "%%timeit -n1 -r10\n",
    "## Using Subscripting\n",
    "a = {}\n",
    "for i in range(100000):\n",
    "    a[\"apple\"] = 1"
   ]
  },
  {
   "cell_type": "code",
   "execution_count": 21,
   "metadata": {
    "colab": {
     "base_uri": "https://localhost:8080/",
     "height": 35
    },
    "colab_type": "code",
    "id": "X1wwHlIkbYsJ",
    "outputId": "dea5f181-eb14-43f9-c66d-e2a108da15bc"
   },
   "outputs": [
    {
     "name": "stdout",
     "output_type": "stream",
     "text": [
      "1 loop, best of 10: 18.1 ms per loop\n"
     ]
    }
   ],
   "source": [
    "%%timeit -n1 -r10\n",
    "## Using update()\n",
    "a = {}\n",
    "for i in range(100000):\n",
    "    a.update({\"apple\": 1})"
   ]
  },
  {
   "cell_type": "markdown",
   "metadata": {
    "colab_type": "text",
    "id": "p5aGD-PabqFD"
   },
   "source": [
    "One can see that subscripting `[]` is faster for updating single element compare to `update()`.\n",
    "\n",
    "But when large umber of elements has to be updated `update()` will be more readable and faster. "
   ]
  },
  {
   "cell_type": "code",
   "execution_count": 22,
   "metadata": {
    "colab": {
     "base_uri": "https://localhost:8080/",
     "height": 52
    },
    "colab_type": "code",
    "id": "0pi7c4mPcf8F",
    "outputId": "98da9377-8c09-4fb6-f80a-c3b8d783a944"
   },
   "outputs": [
    {
     "name": "stdout",
     "output_type": "stream",
     "text": [
      "list =  [(0, 0), (1, 100), (2, 200), (3, 300), (4, 400), (5, 500), (6, 600), (7, 700), (8, 800), (9, 900)]\n",
      "after converting to dict = {0: 0, 1: 100, 2: 200, 3: 300, 4: 400, 5: 500, 6: 600, 7: 700, 8: 800, 9: 900}\n"
     ]
    }
   ],
   "source": [
    "# variables initalization\n",
    "a = {}\n",
    "b = [(i,i*100) for i in range(10)] #list comprehension\n",
    "print('list = ',b)\n",
    "print('after converting to dict =', dict(b))"
   ]
  },
  {
   "cell_type": "code",
   "execution_count": null,
   "metadata": {
    "colab": {},
    "colab_type": "code",
    "id": "p9Q5ynIxLqjU"
   },
   "outputs": [],
   "source": [
    "b = [(i,i*100) for i in range(1000)]"
   ]
  },
  {
   "cell_type": "code",
   "execution_count": 24,
   "metadata": {
    "colab": {
     "base_uri": "https://localhost:8080/",
     "height": 35
    },
    "colab_type": "code",
    "id": "NEMc_WvsboMB",
    "outputId": "2ecd2bd8-5394-4be6-e06b-28b038c68413"
   },
   "outputs": [
    {
     "name": "stdout",
     "output_type": "stream",
     "text": [
      "1 loop, best of 3: 5.61 s per loop\n"
     ]
    }
   ],
   "source": [
    "%%timeit -n1 \n",
    "## Using Subscripting\n",
    "for i in range(100000): #repeat 1M times \n",
    "    for (k, v) in b:\n",
    "        a[k] = v"
   ]
  },
  {
   "cell_type": "code",
   "execution_count": 25,
   "metadata": {
    "colab": {
     "base_uri": "https://localhost:8080/",
     "height": 35
    },
    "colab_type": "code",
    "id": "vsL8j4shd4R1",
    "outputId": "dd0058a3-37a2-4361-ce7a-32237d2be8dd"
   },
   "outputs": [
    {
     "name": "stdout",
     "output_type": "stream",
     "text": [
      "1 loop, best of 3: 2.78 s per loop\n"
     ]
    }
   ],
   "source": [
    "%%timeit -n1 \n",
    "## Using Subscripting\n",
    "for i in range(100000): #repeat 1M times \n",
    "    a.update(b)    \n"
   ]
  },
  {
   "cell_type": "markdown",
   "metadata": {
    "colab_type": "text",
    "id": "MydVt5vuwJf2"
   },
   "source": [
    "It can be seen that `update()` is faster than iterating with subscripting `[]`.\n",
    "\n",
    "---\n",
    "<br>\n"
   ]
  },
  {
   "cell_type": "markdown",
   "metadata": {
    "colab_type": "text",
    "id": "MUy3pd7C8sNr"
   },
   "source": [
    "There is a `setdefault()` method referenced to a key, does 2 different things based on condition.\n",
    "- If key is present - returns the value of that key\n",
    "-if key is not present - creates a new element with the key and initalizes to value passed as argument and returns the value."
   ]
  },
  {
   "cell_type": "code",
   "execution_count": 26,
   "metadata": {
    "colab": {
     "base_uri": "https://localhost:8080/",
     "height": 88
    },
    "colab_type": "code",
    "id": "4Jj568GV9j_o",
    "outputId": "40da598a-2d23-4a7d-e925-cd5b92efd30d"
   },
   "outputs": [
    {
     "name": "stdout",
     "output_type": "stream",
     "text": [
      "If value exists returned: 3\n",
      "a = {'ant': 1, 'bear': 2, 'cat': 3}\n",
      "If value does not exist returned: 22\n",
      "a = {'ant': 1, 'bear': 2, 'cat': 3, 'wolf': 22}\n"
     ]
    }
   ],
   "source": [
    "a = {\"ant\": 1, \"bear\":2, \"cat\": 3}\n",
    "\n",
    "n_val = a.setdefault('cat', 22)\n",
    "print(\"If value exists returned:\", n_val)\n",
    "print(\"a =\", a )\n",
    "\n",
    "n_val = a.setdefault('wolf', 22)\n",
    "print(\"If value does not exist returned:\", n_val)\n",
    "print(\"a =\", a )"
   ]
  },
  {
   "cell_type": "markdown",
   "metadata": {
    "colab_type": "text",
    "id": "17riJj8u8tuJ"
   },
   "source": [
    "---\n",
    "<br>"
   ]
  },
  {
   "cell_type": "markdown",
   "metadata": {
    "colab_type": "text",
    "id": "GILG2nuE6jxt"
   },
   "source": [
    "## Deleting elements"
   ]
  },
  {
   "cell_type": "markdown",
   "metadata": {
    "colab_type": "text",
    "id": "2i8uKobsHiZR"
   },
   "source": [
    "If one wants to remove any element, one can use `pop()`."
   ]
  },
  {
   "cell_type": "code",
   "execution_count": 27,
   "metadata": {
    "colab": {
     "base_uri": "https://localhost:8080/",
     "height": 35
    },
    "colab_type": "code",
    "id": "aG-b7UJtFhio",
    "outputId": "726ba6fa-d5f9-4481-cace-73c544c6f064"
   },
   "outputs": [
    {
     "name": "stdout",
     "output_type": "stream",
     "text": [
      "a = {'ant': 1, 'cat': 3, 'dog': 4, 'elephant': 5}\n"
     ]
    }
   ],
   "source": [
    "a = {\"ant\": 1, \"bear\":2, \"cat\": 3, \"dog\": 4, \"elephant\": 5}\n",
    "a.pop(\"bear\")\n",
    "\n",
    "print(\"a =\", a)"
   ]
  },
  {
   "cell_type": "markdown",
   "metadata": {
    "colab_type": "text",
    "id": "bXs4QpK5zVZF"
   },
   "source": [
    "There also exists `popitem()` which removes the item that got inserted last. One would recollect that dict doesn't preserve ordering, hence `popitem()` will be useful to remove elements in Last-In-First-Out basis from dict.\n",
    "\n",
    "> This behaviour of removing newly added elemt is from Python3.7, in older versions `popitem()` remove a random element from dict."
   ]
  },
  {
   "cell_type": "code",
   "execution_count": 28,
   "metadata": {
    "colab": {
     "base_uri": "https://localhost:8080/",
     "height": 70
    },
    "colab_type": "code",
    "id": "jR3EODBo0Fc7",
    "outputId": "0ae954a9-e978-4b05-b3ce-ced97e0ad45e"
   },
   "outputs": [
    {
     "name": "stdout",
     "output_type": "stream",
     "text": [
      "Initial a = {'ant': 1, 'bear': 2, 'cat': 3, 'dog': 4, 'elephant': 5}\n",
      "1st pop: a = {'ant': 1, 'bear': 2, 'cat': 3, 'dog': 4}\n",
      "2nd pop: a = {'ant': 1, 'bear': 2, 'cat': 3}\n"
     ]
    }
   ],
   "source": [
    "a = {\"ant\": 1, \"bear\":2, \"cat\": 3, \"dog\": 4, \"elephant\": 5}\n",
    "print(\"Initial a =\", a)\n",
    "a.popitem()\n",
    "print(\"1st pop: a =\", a)\n",
    "a.popitem()\n",
    "print(\"2nd pop: a =\", a)"
   ]
  },
  {
   "cell_type": "markdown",
   "metadata": {
    "colab_type": "text",
    "id": "q9Tvslp30_sI"
   },
   "source": [
    "Though initailized together, the elemets are created sequentially. Thus last entry is created at last, so `popitem()` removes it.\n",
    "\n",
    "When some new element is added it gets removed when `popitem()` is called."
   ]
  },
  {
   "cell_type": "code",
   "execution_count": 29,
   "metadata": {
    "colab": {
     "base_uri": "https://localhost:8080/",
     "height": 88
    },
    "colab_type": "code",
    "id": "9VbuOmGc1W1K",
    "outputId": "c0ac6b34-87e2-464b-f8c1-1301a1610384"
   },
   "outputs": [
    {
     "name": "stdout",
     "output_type": "stream",
     "text": [
      "Initial a = {'ant': 1, 'bear': 2, 'cat': 3}\n",
      "1st pop: a = {'ant': 1, 'bear': 2}\n",
      "New a = {'ant': 1, 'bear': 2, 'dog': 4, 'elephant': 5}\n",
      "2nd pop: a = {'ant': 1, 'bear': 2, 'dog': 4}\n"
     ]
    }
   ],
   "source": [
    "a = {\"ant\": 1, \"bear\":2, \"cat\": 3}\n",
    "print(\"Initial a =\", a)\n",
    "a.popitem()\n",
    "print(\"1st pop: a =\", a)\n",
    "\n",
    "a.update({\"dog\": 4, \"elephant\": 5})\n",
    "print(\"New a =\", a)\n",
    "a.popitem()\n",
    "print(\"2nd pop: a =\", a)"
   ]
  },
  {
   "cell_type": "markdown",
   "metadata": {
    "colab_type": "text",
    "id": "jQnfBvOqJnix"
   },
   "source": [
    "---\n",
    "<br>\n"
   ]
  },
  {
   "cell_type": "markdown",
   "metadata": {
    "colab_type": "text",
    "id": "_hb84PFLLE58"
   },
   "source": [
    " One can use `del` to remove specific elements refereced by keys or to remove entire object.\n",
    "\n"
   ]
  },
  {
   "cell_type": "code",
   "execution_count": 30,
   "metadata": {
    "colab": {
     "base_uri": "https://localhost:8080/",
     "height": 35
    },
    "colab_type": "code",
    "id": "f4vfLKn_IRnT",
    "outputId": "70077df8-807c-4699-c237-9013ccdeebd4"
   },
   "outputs": [
    {
     "name": "stdout",
     "output_type": "stream",
     "text": [
      "After deletion: a = {'bear': 2, 'cat': 3, 'dog': 4, 'elephant': 5}\n"
     ]
    }
   ],
   "source": [
    "a = {\"ant\": 1, \"bear\":2, \"cat\": 3, \"dog\": 4, \"elephant\": 5}\n",
    "del a['ant'] \n",
    "print('After deletion: a =', a)"
   ]
  },
  {
   "cell_type": "markdown",
   "metadata": {
    "colab_type": "text",
    "id": "VgDZmTh9xT5O"
   },
   "source": [
    "When used for removing elements the existing object is modified. As one can see below that the object id remains the same."
   ]
  },
  {
   "cell_type": "code",
   "execution_count": 31,
   "metadata": {
    "colab": {
     "base_uri": "https://localhost:8080/",
     "height": 70
    },
    "colab_type": "code",
    "id": "n1Ew_yXX0hdm",
    "outputId": "2bf553dd-c4f1-42b0-ad40-6c7eb64c30d3"
   },
   "outputs": [
    {
     "name": "stdout",
     "output_type": "stream",
     "text": [
      "Id of `a` before: 140716521678888\n",
      "`a` after modification = {'ant': 1, 'cat': 3, 'dog': 4, 'elephant': 5}\n",
      "Id of `a` after: 140716521678888\n"
     ]
    }
   ],
   "source": [
    "a = {\"ant\": 1, \"bear\":2, \"cat\": 3, \"dog\": 4, \"elephant\": 5}\n",
    "print(\"Id of `a` before:\", id(a))\n",
    "del a[\"bear\"] # deletes elements from index 2 to 5 in the object.\n",
    "print('`a` after modification =', a)\n",
    "print(\"Id of `a` after:\", id(a))"
   ]
  },
  {
   "cell_type": "markdown",
   "metadata": {
    "colab_type": "text",
    "id": "l0jp8FTh0h1q"
   },
   "source": [
    "One can use `del` on the object as whole."
   ]
  },
  {
   "cell_type": "code",
   "execution_count": 32,
   "metadata": {
    "colab": {
     "base_uri": "https://localhost:8080/",
     "height": 35
    },
    "colab_type": "code",
    "id": "A0FsI3LvQ9CL",
    "outputId": "beda536f-7fea-415f-ee47-f844861eaa9e"
   },
   "outputs": [
    {
     "name": "stdout",
     "output_type": "stream",
     "text": [
      "Error: name 'c' is not defined\n"
     ]
    }
   ],
   "source": [
    "c = {\"ant\": 1, \"bear\":2, \"cat\": 3, \"dog\": 4, \"elephant\": 5}\n",
    "del c # reference to object is removed\n",
    "\n",
    "try: \n",
    "    print(c) #This will throw ERROR since c is not defined\n",
    "except NameError as error:\n",
    "    print(\"Error:\", error)"
   ]
  },
  {
   "cell_type": "markdown",
   "metadata": {
    "colab_type": "text",
    "id": "mHxBQ_Fhx9cv"
   },
   "source": [
    "When using `del` on the entire object, the object remains same and exists in memory. Only the reference between variable and object is broken and variable becomes undefined."
   ]
  },
  {
   "cell_type": "code",
   "execution_count": 33,
   "metadata": {
    "colab": {
     "base_uri": "https://localhost:8080/",
     "height": 70
    },
    "colab_type": "code",
    "id": "1fNU9iWxu4RU",
    "outputId": "c2c7e4a0-592e-4b09-8caf-a19b94322023"
   },
   "outputs": [
    {
     "name": "stdout",
     "output_type": "stream",
     "text": [
      "Id of `d`: 140716521654024\n",
      "Id of `e`: 140716521654024\n",
      "Object in e: {'ant': 1, 'bear': 2, 'cat': 3, 'dog': 4, 'elephant': 5}\n"
     ]
    }
   ],
   "source": [
    "d = {\"ant\": 1, \"bear\":2, \"cat\": 3, \"dog\": 4, \"elephant\": 5}\n",
    "print(\"Id of `d`:\", id(d))\n",
    "e = d\n",
    "del d # reference to object is removed\n",
    "\n",
    "print(\"Id of `e`:\", id(e))\n",
    "print(\"Object in e:\", e) # `e` still references the object"
   ]
  },
  {
   "cell_type": "markdown",
   "metadata": {
    "colab_type": "text",
    "id": "n4gLt4hpvSWU"
   },
   "source": [
    "---\n",
    "<br>"
   ]
  },
  {
   "cell_type": "markdown",
   "metadata": {
    "colab_type": "text",
    "id": "KVLWifZgNRlO"
   },
   "source": [
    "To remove all elements one can use `clear()` method, this will retain the old object and only remove the elements"
   ]
  },
  {
   "cell_type": "code",
   "execution_count": 34,
   "metadata": {
    "colab": {
     "base_uri": "https://localhost:8080/",
     "height": 35
    },
    "colab_type": "code",
    "id": "NrA3hRcrNKCe",
    "outputId": "928b1809-b41b-4cbb-ddb9-37b24b425565"
   },
   "outputs": [
    {
     "name": "stdout",
     "output_type": "stream",
     "text": [
      "a = {}\n"
     ]
    }
   ],
   "source": [
    "a = {\"ant\": 1, \"bear\":2, \"cat\": 3, \"dog\": 4, \"elephant\": 5}\n",
    "a.clear()\n",
    "print(\"a =\", a)"
   ]
  },
  {
   "cell_type": "markdown",
   "metadata": {
    "colab_type": "text",
    "id": "LBC0pkW6NoFn"
   },
   "source": [
    "> At this point a question might come to mind that why should we clear elements of a dict object and reuse the same object\n",
    "\n",
    "Check the below case where we link the object in variable `a` to another variable `b` by shallow copy. And we are changing the dict object in `a` by assigning a new dict.  "
   ]
  },
  {
   "cell_type": "code",
   "execution_count": 35,
   "metadata": {
    "colab": {
     "base_uri": "https://localhost:8080/",
     "height": 123
    },
    "colab_type": "code",
    "id": "nYdhLgi7NmKo",
    "outputId": "ef7c3c21-d9ae-426a-fc35-fddf0874397c"
   },
   "outputs": [
    {
     "name": "stdout",
     "output_type": "stream",
     "text": [
      "before modifying a: \n",
      "a = {'ant': 1, 'bear': 2, 'cat': 3, 'dog': 4, 'elephant': 5}  id=  140716521545088\n",
      "b = {'ant': 1, 'bear': 2, 'cat': 3, 'dog': 4, 'elephant': 5}  id=  140716521545088\n",
      "after modifying a: \n",
      "a =  id=  140716521653016\n",
      "b =  id=  140716521545088\n"
     ]
    }
   ],
   "source": [
    "a = {\"ant\": 1, \"bear\":2, \"cat\": 3, \"dog\": 4, \"elephant\": 5}\n",
    "b = a # a & b refers to same object\n",
    "print(\"before modifying a: \\na =\", a, \" id= \",id(a) )\n",
    "print(\"b =\", b, \" id= \",id(b))\n",
    "\n",
    "a = {\"Zebra\": 26} # a now point to new object\n",
    "print(\"after modifying a: \\na =\", \" id= \",id(a) )\n",
    "print(\"b =\", \" id= \",id(b))"
   ]
  },
  {
   "cell_type": "markdown",
   "metadata": {
    "colab_type": "text",
    "id": "qRWNNok9QJZM"
   },
   "source": [
    "The object initially `a` had, is not destroyed or modified, it still exists in memory and `b` still references the old object, which might not be desired in some case.\n",
    "\n",
    "Also the link between objects `a` and `b` i.e object referenced by `b` is no longer associated to `a`.The link is broken which could be bad in some case."
   ]
  },
  {
   "cell_type": "code",
   "execution_count": 36,
   "metadata": {
    "colab": {
     "base_uri": "https://localhost:8080/",
     "height": 123
    },
    "colab_type": "code",
    "id": "9AmyUmRpO273",
    "outputId": "4f42c98b-bbb6-4de9-dc25-ad4d5060b0da"
   },
   "outputs": [
    {
     "name": "stdout",
     "output_type": "stream",
     "text": [
      "Initially: \n",
      "a = {'ant': 1, 'bear': 2, 'cat': 3, 'dog': 4, 'elephant': 5}  id=  140716521653736\n",
      " b = {'ant': 1, 'bear': 2, 'cat': 3, 'dog': 4, 'elephant': 5}  id=  140716521653736\n",
      "clearing a: \n",
      "a = {}  id=  140716521653736\n",
      "b = {}  id=  140716521653736\n"
     ]
    }
   ],
   "source": [
    "a = {\"ant\": 1, \"bear\":2, \"cat\": 3, \"dog\": 4, \"elephant\": 5}\n",
    "b = a # a & b refers to same object\n",
    "\n",
    "print(\"Initially: \\na =\", a,\" id= \",id(a))\n",
    "print(\" b =\", b,\" id= \",id(b))\n",
    "\n",
    "a.clear()\n",
    "\n",
    "print(\"clearing a: \\na =\", a, \" id= \",id(a))\n",
    "print(\"b =\", b, \" id= \",id(b))\n"
   ]
  },
  {
   "cell_type": "markdown",
   "metadata": {
    "colab_type": "text",
    "id": "5Fmdx7VuDCtA"
   },
   "source": [
    "---\n",
    "<br> <br>"
   ]
  },
  {
   "cell_type": "markdown",
   "metadata": {
    "colab_type": "text",
    "id": "2Od5jd0zHUf1"
   },
   "source": [
    "## Duplicating"
   ]
  },
  {
   "cell_type": "markdown",
   "metadata": {
    "colab_type": "text",
    "id": "sZm_nyH0DFpp"
   },
   "source": [
    "It may not be the case always to have same object in two different variables.\n",
    "\n",
    "Sometimes one may want to create a copy of a dictionary and do some modification independent of other. In such cases it is better create two different objects. For which one can use `copy()` which creates a deep copy of the object. <br>\n",
    "Alternatively, one can use `dict()` which is used to create new dict from sequence type object."
   ]
  },
  {
   "cell_type": "code",
   "execution_count": 37,
   "metadata": {
    "colab": {
     "base_uri": "https://localhost:8080/",
     "height": 70
    },
    "colab_type": "code",
    "id": "yM5GMm95Brcr",
    "outputId": "cf1c4272-4344-459f-9c82-0d348f7b0d00"
   },
   "outputs": [
    {
     "name": "stdout",
     "output_type": "stream",
     "text": [
      "a = {'ant': 1, 'bear': 2, 'cat': 3, 'dog': 4, 'elephant': 5}  id= 140716521766704\n",
      "b = {'bear': 2, 'cat': 3, 'dog': 4, 'elephant': 5}  id= 140716521734648\n",
      "b = {'ant': 1, 'bear': 2, 'dog': 4, 'elephant': 5}  id= 140716521679752\n"
     ]
    }
   ],
   "source": [
    "a = {\"ant\": 1, \"bear\":2, \"cat\": 3, \"dog\": 4, \"elephant\": 5}\n",
    "b = a.copy() # deep copy\n",
    "b.pop(\"ant\")\n",
    "\n",
    "c = dict(a)\n",
    "c.pop(\"cat\")\n",
    "\n",
    "print(\"a =\", a, \" id=\",id(a))\n",
    "print(\"b =\", b, \" id=\",id(b))\n",
    "print(\"b =\", c, \" id=\",id(c))"
   ]
  },
  {
   "cell_type": "markdown",
   "metadata": {
    "colab_type": "text",
    "id": "f5JB4S92fjp1"
   },
   "source": [
    "But one would wonder what could be the difference between `copy()` and `dict()`. <br>\n",
    "\n",
    "`dict()` function takes any iteratable data objects with paired elements, iterates through elements converts to dict type object.\n",
    "\n",
    "whereas `copy()` method directly creates a copy of dict object. This makes `copy()` method faster than `list()`  "
   ]
  },
  {
   "cell_type": "code",
   "execution_count": 38,
   "metadata": {
    "colab": {
     "base_uri": "https://localhost:8080/",
     "height": 35
    },
    "colab_type": "code",
    "id": "z9WcYeiufjTT",
    "outputId": "2f826ee4-5cda-45b5-f92a-5a8295ceea65"
   },
   "outputs": [
    {
     "name": "stdout",
     "output_type": "stream",
     "text": [
      "1 loop, best of 10: 47 ms per loop\n"
     ]
    }
   ],
   "source": [
    "%%timeit -n1 -r10\n",
    "a = {\"ant\": 1, \"bear\":2, \"cat\": 3, \"dog\": 4, \"elephant\": 5}\n",
    "for i in range(1000000):\n",
    "    b = a.copy"
   ]
  },
  {
   "cell_type": "code",
   "execution_count": 39,
   "metadata": {
    "colab": {
     "base_uri": "https://localhost:8080/",
     "height": 35
    },
    "colab_type": "code",
    "id": "IzAE-nqTfiY1",
    "outputId": "8bd92c08-364d-436e-8a0e-a33b5bc7959b"
   },
   "outputs": [
    {
     "name": "stdout",
     "output_type": "stream",
     "text": [
      "1 loop, best of 10: 282 ms per loop\n"
     ]
    }
   ],
   "source": [
    "%%timeit -n1 -r10\n",
    "a = {\"ant\": 1, \"bear\":2, \"cat\": 3, \"dog\": 4, \"elephant\": 5}\n",
    "for i in range(1000000):\n",
    "    b = dict(a)"
   ]
  },
  {
   "cell_type": "markdown",
   "metadata": {
    "colab_type": "text",
    "id": "h-nAIRgyICFb"
   },
   "source": [
    "---\n",
    "<br>"
   ]
  },
  {
   "cell_type": "markdown",
   "metadata": {
    "colab_type": "text",
    "id": "PrpaAbfyHjCM"
   },
   "source": [
    "## Other functionalities"
   ]
  },
  {
   "cell_type": "markdown",
   "metadata": {
    "colab_type": "text",
    "id": "l72pzzvy_dRY"
   },
   "source": [
    "One can find the total number of elements in a\n",
    "dict using `len()` function, which will return the number of elements (i.e) number of keys present in the dictionary\n",
    "\n"
   ]
  },
  {
   "cell_type": "code",
   "execution_count": 40,
   "metadata": {
    "colab": {
     "base_uri": "https://localhost:8080/",
     "height": 52
    },
    "colab_type": "code",
    "id": "CvTbrn7Y_--U",
    "outputId": "3dfc6b02-e387-46ad-907e-cfc6eab0adfc"
   },
   "outputs": [
    {
     "name": "stdout",
     "output_type": "stream",
     "text": [
      "Num of elements in a: 5\n",
      "Num of elements in b: 2\n"
     ]
    }
   ],
   "source": [
    "a = {\"ant\": 1, \"bear\":2, \"cat\": 3, \"dog\": 4, \"elephant\": 5}\n",
    "b = { 1: {\"A\": 11, \"B\": 22}, \n",
    "      2: {\"C\": 11, \"D\": 22}   } #dict with dict objects\n",
    "\n",
    "print(\"Num of elements in a:\", len(a))\n",
    "print(\"Num of elements in b:\", len(b))"
   ]
  },
  {
   "cell_type": "markdown",
   "metadata": {
    "colab_type": "text",
    "id": "hX8LcB-k4pZz"
   },
   "source": [
    "It can be seen that for `b` it show 2, `len()` considers only objects it contains, does not take into account elements present in the object. So `b` has two dict elements which is returned.  "
   ]
  },
  {
   "cell_type": "markdown",
   "metadata": {
    "colab_type": "text",
    "id": "IRTyHAqXD9tG"
   },
   "source": [
    "\n",
    "---\n",
    "<br>"
   ]
  },
  {
   "cell_type": "markdown",
   "metadata": {
    "colab_type": "text",
    "id": "Pxu5fKvBI7Ee"
   },
   "source": [
    "There would be cases where one will be in need to find sum of all keys in a dict.<br>\n",
    "*It may not seem meaningful but there may come a necessacity*\n",
    "\n",
    "For which one can use `sum()` function"
   ]
  },
  {
   "cell_type": "code",
   "execution_count": 41,
   "metadata": {
    "colab": {
     "base_uri": "https://localhost:8080/",
     "height": 35
    },
    "colab_type": "code",
    "id": "HQcz1GzQJIeP",
    "outputId": "8fdeb8cf-580e-4075-b18b-da20cc770d39"
   },
   "outputs": [
    {
     "name": "stdout",
     "output_type": "stream",
     "text": [
      "sum is  3\n"
     ]
    }
   ],
   "source": [
    "b = { 1: \"mango\", 2: \"apple\"   } \n",
    "s = sum(b)\n",
    "print(\"sum is \", s)"
   ]
  },
  {
   "cell_type": "markdown",
   "metadata": {
    "colab_type": "text",
    "id": "w_wKFEP7JpTm"
   },
   "source": [
    "But the keys has to have arithmetically summable object like float, int; else one will get error."
   ]
  },
  {
   "cell_type": "code",
   "execution_count": 42,
   "metadata": {
    "colab": {
     "base_uri": "https://localhost:8080/",
     "height": 52
    },
    "colab_type": "code",
    "id": "7d8Mqt7dKBd1",
    "outputId": "36674965-c194-4f5c-86a9-fb63afe51045"
   },
   "outputs": [
    {
     "name": "stdout",
     "output_type": "stream",
     "text": [
      "Error in a: unsupported operand type(s) for +: 'int' and 'str'\n",
      "Error in b: unsupported operand type(s) for +: 'int' and 'tuple'\n"
     ]
    }
   ],
   "source": [
    "a = {\"ant\": 1, \"bear\":2, \"cat\": 3, \"dog\": 4, \"elephant\": 5}\n",
    "try:\n",
    "    sum(a) # this will throw error\n",
    "except Exception as error:\n",
    "    print(\"Error in a:\", error)\n",
    "\n",
    "\n",
    "b = { (1,2,3): \"First\", (4,5,6):  \"Second\"  } #list object\n",
    "try:\n",
    "    sum(b) # this will throw error\n",
    "except Exception as error:\n",
    "    print(\"Error in b:\", error)"
   ]
  },
  {
   "cell_type": "markdown",
   "metadata": {
    "colab_type": "text",
    "id": "O895Q03jLCsn"
   },
   "source": [
    "\n",
    "---\n",
    "<br>"
   ]
  },
  {
   "cell_type": "markdown",
   "metadata": {
    "colab_type": "text",
    "id": "LgNvOlC6E62z"
   },
   "source": [
    "##Operators \n",
    "No arithmetic operators can be used with dictionary.\n",
    "\n"
   ]
  },
  {
   "cell_type": "markdown",
   "metadata": {
    "colab_type": "text",
    "id": "YeX8OZUW_aR5"
   },
   "source": [
    "---\n",
    "<br>"
   ]
  },
  {
   "cell_type": "markdown",
   "metadata": {
    "colab_type": "text",
    "id": "AFh7I_NX5hOn"
   },
   "source": [
    ">**Please refer to the [Padhai-One](https://github.com/OneFourthLabs/PadhAI-One) Github repo for updates & other notebooks **"
   ]
  }
 ],
 "metadata": {
  "colab": {
   "collapsed_sections": [],
   "name": "data_objects_mappings.ipynb",
   "provenance": [],
   "toc_visible": true
  },
  "kernelspec": {
   "display_name": "Python 3 (ipykernel)",
   "language": "python",
   "name": "python3"
  },
  "language_info": {
   "codemirror_mode": {
    "name": "ipython",
    "version": 3
   },
   "file_extension": ".py",
   "mimetype": "text/x-python",
   "name": "python",
   "nbconvert_exporter": "python",
   "pygments_lexer": "ipython3",
   "version": "3.11.1"
  }
 },
 "nbformat": 4,
 "nbformat_minor": 4
}
