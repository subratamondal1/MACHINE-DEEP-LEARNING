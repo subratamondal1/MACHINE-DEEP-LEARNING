{
  "nbformat": 4,
  "nbformat_minor": 0,
  "metadata": {
    "colab": {
      "name": "W03-Problems_and_Solutions.ipynb",
      "provenance": [],
      "collapsed_sections": []
    },
    "kernelspec": {
      "display_name": "Python 3",
      "language": "python",
      "name": "python3"
    },
    "language_info": {
      "codemirror_mode": {
        "name": "ipython",
        "version": 3
      },
      "file_extension": ".py",
      "mimetype": "text/x-python",
      "name": "python",
      "nbconvert_exporter": "python",
      "pygments_lexer": "ipython3",
      "version": "3.7.4"
    }
  },
  "cells": [
    {
      "cell_type": "markdown",
      "metadata": {
        "id": "ZQ90alKtzK34"
      },
      "source": [
        "<img src=\"https://i.imgur.com/nTOFzVI.png\" alt=\"drawing\" width=\"400\"/>\n",
        "\n",
        "# by One Fourth Labs\n",
        "\n",
        "\n",
        "For more reading or to go indepth refer official reference of python language https://docs.python.org/3/reference/\n"
      ]
    },
    {
      "cell_type": "markdown",
      "metadata": {
        "id": "FlFh0Ez7MGKT"
      },
      "source": [
        "# Assignment 1 problems 1 "
      ]
    },
    {
      "cell_type": "markdown",
      "metadata": {
        "id": "RTjXUeWbMLb3"
      },
      "source": [
        "Exercise 1: \n",
        "\n",
        "\n",
        "---\n",
        "\n",
        "\n",
        "1.   Prompt the user \"Enter your weight (in kgs)\" and record weight\n",
        "2.   Prompt the user \"What is your preferred unit of height? Type \"F\" for feet and \"M\" for meters\" and record the preference\n",
        "3.   If user says \"F\" then prompt user \"You will enter your height given as feet and inches. First enter feet\" and record feet and then prompt user \"Now enter inches\" and record inches\n",
        "4.   If user says \"M\" then prompt user \"What is your height in meters\" and record height in meters\n",
        "5.   If user had chosen \"F\" then convert height into meters\n",
        "6.   Compute BMI using the following formula $$\\mbox{BMI} = \\dfrac{\\mbox{Weight (in kgs)}}{\\mbox{Height }^2\\mbox{(in m)}}$$\n",
        "7.   Depending on the value of BMI, report the user's type given by the following table: \n",
        "> *   $\\mbox{BMI} < 18.5$: UNDERWEIGHT\n",
        "> *   $18.5 \\leq \\mbox{BMI} < 25$: NORMAL\n",
        "> *   $25 \\leq \\mbox{BMI} < 30$: OVERWEIGHT\n",
        "> *   $\\mbox{BMI} \\geq 30$: VERY-OVERWEIGHT\n"
      ]
    },
    {
      "cell_type": "markdown",
      "metadata": {
        "id": "vZMtJq0mO2T0"
      },
      "source": [
        "# Solution to problem 1"
      ]
    },
    {
      "cell_type": "code",
      "metadata": {
        "colab": {
          "base_uri": "https://localhost:8080/"
        },
        "id": "RMs-QqK3LubH",
        "outputId": "03e594d0-6b68-4b0f-c9a4-75a0b5be9fa0"
      },
      "source": [
        "weight = input(\"Enter your weight in kgs \")\n",
        "height_unit = input('What is your preferred unit of height \"F\" of feet and \"M\" for meters ')\n",
        "\n",
        "if height_unit == \"F\":\n",
        "    print(\"I am in the F block. TODO\")\n",
        "else:\n",
        "    print(\"I am in the M block. TODO\")"
      ],
      "execution_count": 1,
      "outputs": [
        {
          "output_type": "stream",
          "text": [
            "Enter your weight in kgs 67\n",
            "What is your preferred unit of height \"F\" of feet and \"M\" for meters F\n",
            "I am in the F block. TODO\n"
          ],
          "name": "stdout"
        }
      ]
    },
    {
      "cell_type": "code",
      "metadata": {
        "colab": {
          "base_uri": "https://localhost:8080/"
        },
        "id": "2kvKEJ4yPicA",
        "outputId": "e62c690a-4b09-4638-f7b6-dfa9148244c8"
      },
      "source": [
        "weight = input(\"Enter your weight in kgs \")\n",
        "height_unit = input('What is your preferred unit of height \"F\" of feet and \"M\" for meters ')\n",
        "\n",
        "if height_unit == \"F\":\n",
        "    feet = input(\"Please enter both feet and inches. Now enter feet \")\n",
        "    inches = input(\"Now enter inches \")\n",
        "else:\n",
        "    meters = input(\"Please enter your height in meters \")"
      ],
      "execution_count": 2,
      "outputs": [
        {
          "output_type": "stream",
          "text": [
            "Enter your weight in kgs 65\n",
            "What is your preferred unit of height \"F\" of feet and \"M\" for meters F\n",
            "Please enter both feet and inches. Now enter feet 5\n",
            "Now enter inches 11\n"
          ],
          "name": "stdout"
        }
      ]
    },
    {
      "cell_type": "code",
      "metadata": {
        "colab": {
          "base_uri": "https://localhost:8080/"
        },
        "id": "SDw6ZdiaP47t",
        "outputId": "769c2954-24fa-4e16-97b5-5ec372b58744"
      },
      "source": [
        "weight = input(\"Enter your weight in kgs \")\n",
        "height_unit = input('What is your preferred unit of height \"F\" of feet and \"M\" for meters ')\n",
        "\n",
        "if height_unit == \"F\":\n",
        "    feet = input(\"Please enter both feet and inches. Now enter feet \")\n",
        "    inches = input(\"Now enter inches \")\n",
        "    meters = (feet + inches/12) * 0.3048\n",
        "else:\n",
        "    meters = input(\"Please enter your height in meters \")\n",
        "\n",
        "height = meters"
      ],
      "execution_count": 3,
      "outputs": [
        {
          "output_type": "stream",
          "text": [
            "Enter your weight in kgs 65\n",
            "What is your preferred unit of height \"F\" of feet and \"M\" for meters M\n",
            "Please enter your height in meters 1.6\n"
          ],
          "name": "stdout"
        }
      ]
    },
    {
      "cell_type": "code",
      "metadata": {
        "id": "FkFG3ffRQfT1"
      },
      "source": [
        "def input_single_integer(prompt):\n",
        "    ret = int(input(prompt))\n",
        "    return ret"
      ],
      "execution_count": 4,
      "outputs": []
    },
    {
      "cell_type": "code",
      "metadata": {
        "colab": {
          "base_uri": "https://localhost:8080/"
        },
        "id": "o0ISXy6ORGSK",
        "outputId": "f2c7cd9d-3ec8-4bba-f600-55aa78327b9c"
      },
      "source": [
        "weight = input(\"Enter your weight in kgs \")\n",
        "height_unit = input('What is your preferred unit of height \"F\" of feet and \"M\" for meters ')\n",
        "\n",
        "if height_unit == \"F\":\n",
        "    feet = input_single_integer(\"Please enter both feet and inches. Now enter feet \")\n",
        "    inches = input_single_integer(\"Now enter inches \")\n",
        "    meters = (feet + inches/12) * 0.3048\n",
        "else:\n",
        "    meters = input(\"Please enter your height in meters \")\n",
        "\n",
        "height = meters"
      ],
      "execution_count": 5,
      "outputs": [
        {
          "output_type": "stream",
          "text": [
            "Enter your weight in kgs 65\n",
            "What is your preferred unit of height \"F\" of feet and \"M\" for meters M\n",
            "Please enter your height in meters 1.5\n"
          ],
          "name": "stdout"
        }
      ]
    },
    {
      "cell_type": "code",
      "metadata": {
        "colab": {
          "base_uri": "https://localhost:8080/"
        },
        "id": "9q9T8EoZRKgd",
        "outputId": "3a851350-e9d2-4a1c-fe3d-75a0908b03be"
      },
      "source": [
        "print(meters)"
      ],
      "execution_count": 6,
      "outputs": [
        {
          "output_type": "stream",
          "text": [
            "1.5\n"
          ],
          "name": "stdout"
        }
      ]
    },
    {
      "cell_type": "code",
      "metadata": {
        "id": "rY-seMCoSEcz"
      },
      "source": [
        "def input_single_float(prompt):\n",
        "    ret = float(input(prompt))\n",
        "    return ret"
      ],
      "execution_count": 7,
      "outputs": []
    },
    {
      "cell_type": "code",
      "metadata": {
        "colab": {
          "base_uri": "https://localhost:8080/"
        },
        "id": "T3mwwzV6RSg0",
        "outputId": "c472afc6-7e50-4147-f20b-7d735e9b1494"
      },
      "source": [
        "weight = input_single_float(\"Enter your weight in kgs \")\n",
        "height_unit = input('What is your preferred unit of height \"F\" of feet and \"M\" for meters ')\n",
        "\n",
        "if height_unit == \"F\":\n",
        "    feet = input_single_integer(\"Please enter both feet and inches. Now enter feet \")\n",
        "    inches = input_single_integer(\"Now enter inches \")\n",
        "    meters = (feet + inches/12) * 0.3048\n",
        "else:\n",
        "    meters = input_single_float(\"Please enter your height in meters \")\n",
        "\n",
        "height = meters\n",
        "\n",
        "bmi = weight / height**2\n",
        "\n",
        "print(\"Your BMI is\", bmi)"
      ],
      "execution_count": 8,
      "outputs": [
        {
          "output_type": "stream",
          "text": [
            "Enter your weight in kgs 65\n",
            "What is your preferred unit of height \"F\" of feet and \"M\" for meters M\n",
            "Please enter your height in meters 1.5\n",
            "Your BMI is 28.88888888888889\n"
          ],
          "name": "stdout"
        }
      ]
    },
    {
      "cell_type": "code",
      "metadata": {
        "colab": {
          "base_uri": "https://localhost:8080/"
        },
        "id": "1C1TqWB0RzoX",
        "outputId": "7d459214-00f7-4a11-eeda-1c8848308859"
      },
      "source": [
        "weight = input_single_float(\"Enter your weight in kgs \")\n",
        "height_unit = input('What is your preferred unit of height \"F\" of feet and \"M\" for meters ')\n",
        "\n",
        "if height_unit == \"F\":\n",
        "    feet = input_single_integer(\"Please enter both feet and inches. Now enter feet \")\n",
        "    inches = input_single_integer(\"Now enter inches \")\n",
        "    meters = (feet + inches/12) * 0.3048\n",
        "else:\n",
        "    meters = input_single_float(\"Please enter your height in meters \")\n",
        "\n",
        "height = meters\n",
        "\n",
        "bmi = weight / height**2\n",
        "\n",
        "print(\"Your BMI is\", bmi)\n",
        "\n",
        "if bmi < 18.5:\n",
        "    print(\"You are UNDERWEIGHT. Please consult doctor\")\n",
        "elif bmi < 25:\n",
        "    print(\"You are NORMAL. Great going.\")\n",
        "elif bmi < 30:\n",
        "    print(\"You are OVERWEIGHT. Watch out.\")\n",
        "else:\n",
        "    print(\"You are VERY OVERWEIGHT. Please consult doctor\")"
      ],
      "execution_count": 9,
      "outputs": [
        {
          "output_type": "stream",
          "text": [
            "Enter your weight in kgs 65\n",
            "What is your preferred unit of height \"F\" of feet and \"M\" for meters M\n",
            "Please enter your height in meters 1.5\n",
            "Your BMI is 28.88888888888889\n",
            "You are OVERWEIGHT. Watch out.\n"
          ],
          "name": "stdout"
        }
      ]
    },
    {
      "cell_type": "markdown",
      "metadata": {
        "id": "BCkLBFKbz-gV"
      },
      "source": [
        "# Assignment 1 Problem 2 "
      ]
    },
    {
      "cell_type": "markdown",
      "metadata": {
        "id": "eEUeibGLMOwg"
      },
      "source": [
        "Exercise 2\n",
        "\n",
        "---\n",
        "\n",
        "1.   Write an iterative function to compute the factorial of a natural number\n",
        "2.   Write a recursive function to compute the factorial of a natural number.\n",
        "3.   Write a function to compute $\\frac{x^n}{n!}$ given a float $x$ and natural number $n$ as arguments\n",
        "4.   Write a function to iteratively sum up the value $\\frac{x^n}{n!}$ from $n = 1$ to a given $N$ for a given $x$, i.e., \n",
        "$$ F(x, N) = 1 + \\sum_{i = 1}^N \\dfrac{x^n}{n!}$$\n",
        "5.   Write a function to iteratively sum up the value $\\frac{x^n}{n!}$ from $n = 1$ to a chosen value of $N'$ such that $$F(x, N') - F(x, N' - 1) < \\epsilon$$ for given real number $x$ and positive small number $\\epsilon$\n",
        "6.   Choose two real numbers $p$ and $q$ and compute the following two values\n",
        "$$ v_1 = F(p, 100) * F(q, 100) $$\n",
        "$$ v_2 = F(p + q, 100) $$\n",
        "Compute the difference $v_1 - v_2$ and comment on what you see."
      ]
    },
    {
      "cell_type": "markdown",
      "metadata": {
        "id": "JNBGx27FTr0w"
      },
      "source": [
        "# Solution to Problem 2"
      ]
    },
    {
      "cell_type": "code",
      "metadata": {
        "id": "L0iE_xfQTFQM"
      },
      "source": [
        "def factorial(n):\n",
        "    product = 1\n",
        "    for i in range(n):\n",
        "        # print(i, product)\n",
        "        product *= (i + 1)\n",
        "    return product"
      ],
      "execution_count": null,
      "outputs": []
    },
    {
      "cell_type": "code",
      "metadata": {
        "colab": {
          "base_uri": "https://localhost:8080/",
          "height": 35
        },
        "id": "qqX7sEaqUAH7",
        "outputId": "5b1779c3-6d8b-4756-b3c8-796001c5b855"
      },
      "source": [
        "print(factorial(3))"
      ],
      "execution_count": null,
      "outputs": [
        {
          "output_type": "stream",
          "text": [
            "6\n"
          ],
          "name": "stdout"
        }
      ]
    },
    {
      "cell_type": "code",
      "metadata": {
        "id": "Sg2n5kdmUE2g"
      },
      "source": [
        "def factorial_recursive(n):\n",
        "    if n > 1:\n",
        "        return n * factorial_recursive(n - 1)\n",
        "    else:\n",
        "        return 1"
      ],
      "execution_count": null,
      "outputs": []
    },
    {
      "cell_type": "code",
      "metadata": {
        "colab": {
          "base_uri": "https://localhost:8080/",
          "height": 35
        },
        "id": "aWoweujRUuNj",
        "outputId": "b1ffaa7b-ce2d-4f0b-f1c0-8c7514d9aeaa"
      },
      "source": [
        "print(factorial_recursive(3))"
      ],
      "execution_count": null,
      "outputs": [
        {
          "output_type": "stream",
          "text": [
            "6\n"
          ],
          "name": "stdout"
        }
      ]
    },
    {
      "cell_type": "code",
      "metadata": {
        "id": "ToNrqyI2U1Lk"
      },
      "source": [
        "def compute_ratio(x, n):\n",
        "    ratio = x**n / factorial(n)\n",
        "    return ratio"
      ],
      "execution_count": null,
      "outputs": []
    },
    {
      "cell_type": "code",
      "metadata": {
        "colab": {
          "base_uri": "https://localhost:8080/",
          "height": 35
        },
        "id": "b8Uy6f38VFrA",
        "outputId": "6b5b3714-7dfa-4190-b923-90a406d9cca2"
      },
      "source": [
        "compute_ratio(2, 3)"
      ],
      "execution_count": null,
      "outputs": [
        {
          "output_type": "execute_result",
          "data": {
            "text/plain": [
              "1.3333333333333333"
            ]
          },
          "metadata": {
            "tags": []
          },
          "execution_count": 6
        }
      ]
    },
    {
      "cell_type": "code",
      "metadata": {
        "id": "vxlEocSAVKKV"
      },
      "source": [
        "def compute_sum(x, N):\n",
        "    sum = 1\n",
        "    for i in range(N):\n",
        "        sum += compute_ratio(x, i + 1)\n",
        "    return sum"
      ],
      "execution_count": null,
      "outputs": []
    },
    {
      "cell_type": "code",
      "metadata": {
        "colab": {
          "base_uri": "https://localhost:8080/",
          "height": 35
        },
        "id": "GfLj3W_LVnEP",
        "outputId": "073ae17c-8865-43c0-df38-e6a5caadbb40"
      },
      "source": [
        "print(compute_sum(2, 3))"
      ],
      "execution_count": null,
      "outputs": [
        {
          "output_type": "stream",
          "text": [
            "6.333333333333333\n"
          ],
          "name": "stdout"
        }
      ]
    },
    {
      "cell_type": "code",
      "metadata": {
        "id": "X9xeyyQgXPeK"
      },
      "source": [
        "def compute_sum_epsilon(x, epsilon):\n",
        "    sum = 1\n",
        "    var = epsilon\n",
        "    i = 1\n",
        "    while var >= epsilon:\n",
        "        var = compute_ratio(x, i)\n",
        "        sum += var\n",
        "        i += 1\n",
        "    return sum"
      ],
      "execution_count": null,
      "outputs": []
    },
    {
      "cell_type": "code",
      "metadata": {
        "colab": {
          "base_uri": "https://localhost:8080/",
          "height": 35
        },
        "id": "p9LWX9AzYMHV",
        "outputId": "8507e465-dd58-4788-9941-f4ed62e4e173"
      },
      "source": [
        "print(compute_sum_epsilon(2, 0.01))"
      ],
      "execution_count": null,
      "outputs": [
        {
          "output_type": "stream",
          "text": [
            "7.387301587301587\n"
          ],
          "name": "stdout"
        }
      ]
    },
    {
      "cell_type": "code",
      "metadata": {
        "colab": {
          "base_uri": "https://localhost:8080/",
          "height": 35
        },
        "id": "P3vJGNDtYSqb",
        "outputId": "6d11e6e1-c333-4f72-9502-aef46304f169"
      },
      "source": [
        "print(compute_sum(2, 100))"
      ],
      "execution_count": null,
      "outputs": [
        {
          "output_type": "stream",
          "text": [
            "7.389056098930649\n"
          ],
          "name": "stdout"
        }
      ]
    },
    {
      "cell_type": "code",
      "metadata": {
        "id": "ij3QCexDYWSN"
      },
      "source": [
        "def compute_sum_epsilon(x, epsilon):\n",
        "    sum = 1\n",
        "    i = 1\n",
        "    while True: \n",
        "        var = compute_ratio(x, i)\n",
        "        sum += var\n",
        "        i += 1\n",
        "        if var < epsilon:\n",
        "            break\n",
        "    return sum"
      ],
      "execution_count": null,
      "outputs": []
    },
    {
      "cell_type": "code",
      "metadata": {
        "colab": {
          "base_uri": "https://localhost:8080/",
          "height": 35
        },
        "id": "mBU-t0MEYtyV",
        "outputId": "8a4cfed5-1c10-4113-de56-062146deb9cf"
      },
      "source": [
        "print(compute_sum_epsilon(2, 0.01))"
      ],
      "execution_count": null,
      "outputs": [
        {
          "output_type": "stream",
          "text": [
            "7.387301587301587\n"
          ],
          "name": "stdout"
        }
      ]
    },
    {
      "cell_type": "code",
      "metadata": {
        "colab": {
          "base_uri": "https://localhost:8080/",
          "height": 35
        },
        "id": "m49f0Oz_YvBt",
        "outputId": "656f4d8c-7714-4018-da28-0444a8430dc7"
      },
      "source": [
        "p = -1.5\n",
        "q = 7.1\n",
        "\n",
        "v1 = compute_sum(p, 100) * compute_sum(q, 100)\n",
        "v2 = compute_sum(p + q, 100)\n",
        "\n",
        "print(v1, v2, v2 - v1)"
      ],
      "execution_count": null,
      "outputs": [
        {
          "output_type": "stream",
          "text": [
            "270.4264074261525 270.4264074261526 1.1368683772161603e-13\n"
          ],
          "name": "stdout"
        }
      ]
    },
    {
      "cell_type": "code",
      "metadata": {
        "colab": {
          "base_uri": "https://localhost:8080/",
          "height": 199
        },
        "id": "ephxfwVeZBF4",
        "outputId": "f2d9a760-2151-436a-f3fc-67c5ba2fae66"
      },
      "source": [
        "for i in range(10):\n",
        "    print(i, compute_sum(i, 100))"
      ],
      "execution_count": null,
      "outputs": [
        {
          "output_type": "stream",
          "text": [
            "0 1.0\n",
            "1 2.7182818284590455\n",
            "2 7.389056098930649\n",
            "3 20.08553692318766\n",
            "4 54.598150033144265\n",
            "5 148.41315910257657\n",
            "6 403.4287934927351\n",
            "7 1096.6331584284578\n",
            "8 2980.957987041728\n",
            "9 8103.083927575384\n"
          ],
          "name": "stdout"
        }
      ]
    }
  ]
}