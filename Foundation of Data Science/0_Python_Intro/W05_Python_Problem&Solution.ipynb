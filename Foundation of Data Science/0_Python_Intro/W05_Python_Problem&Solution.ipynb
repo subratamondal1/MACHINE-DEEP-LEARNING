{
  "nbformat": 4,
  "nbformat_minor": 0,
  "metadata": {
    "colab": {
      "name": "W05_Python_Assignment_Solutions.ipynb",
      "provenance": [],
      "collapsed_sections": []
    },
    "kernelspec": {
      "name": "python3",
      "display_name": "Python 3"
    }
  },
  "cells": [
    {
      "cell_type": "markdown",
      "metadata": {
        "id": "QdTLYcMRq71a"
      },
      "source": [
        "<img src=\"https://i.imgur.com/nTOFzVI.png\" alt=\"drawing\" width=\"400\"/>\n",
        "\n",
        "# by One Fourth Labs\n",
        "\n",
        "\n",
        "For more reading or to go indepth refer official reference of python language https://docs.python.org/3/reference/"
      ]
    },
    {
      "cell_type": "markdown",
      "metadata": {
        "id": "a3DujwQxePjJ"
      },
      "source": [
        "#Exercise 1 <br>\n",
        "**Attempt any 3 questions**"
      ]
    },
    {
      "cell_type": "markdown",
      "metadata": {
        "id": "aCVdxtQTeT3g"
      },
      "source": [
        "1.   Create a list of 10 ordered pairs **$(x,y),\\ \\ x\\ \\epsilon\\ [-6,6]$** such that they satisfy the equation **$x^2+y^2=r^2$** where **$r=6$**.\n",
        "2.   We have a list of tuple representing the name and height (in cms) of 5 students respectively. Convert the list into a dictionary so that we can access the student's height from their names. \n",
        "> ```data = [('Sumit', 183), ('Rahul', 175), ('Kritika', 170), ('Harshit', 177), ('Deepak', 162)]``` \n",
        "\n",
        "3.   Write a function which takes list of random integers as an input and returns the list all the unique values present in that list. For ex:\n",
        ">``` \n",
        "Input: [1, 2, 4, 4, 3, 2, 1, 1, 2, 4, 5, 3]\n",
        "Output : [1, 2, 3, 4, 5]\n",
        "```\n",
        "4.   Write a program to generate a dictionary that contains the number between $1$ and $n$ in the form of $(key : value) = (x : x^2)$ where $n=100$. For ex:\n",
        ">```\n",
        "If n = 7 then output will be = {0:0, 1:1, 2:4}\n",
        "```\n",
        "5.  Write a function which takes a dictionary as an input as return the list of all unique values of dictionary. For ex:\n",
        ">```\n",
        "Input : {'a':1, 'b':2, 'c':1, 'd':1, 'e':2, 'f':3, 'g':4, 'h':3, 'i':4}\n",
        "output : [1, 2, 3, 4]\n",
        "```\n",
        "6.  Write a Python program to remove newline characters from a file.\n",
        "7.  Write a Python program that takes a text file as input and returns the number of words of a given text file."
      ]
    },
    {
      "cell_type": "markdown",
      "metadata": {
        "id": "6qM9o9hXegGg"
      },
      "source": [
        "# Solutions to Exercise 1"
      ]
    },
    {
      "cell_type": "markdown",
      "metadata": {
        "id": "lQ99l-3eeupP"
      },
      "source": [
        "##Solution 1"
      ]
    },
    {
      "cell_type": "code",
      "metadata": {
        "id": "njrQnaVDe4rj",
        "colab": {
          "base_uri": "https://localhost:8080/"
        },
        "outputId": "a74b938d-7e82-485e-c546-f256b0fc32ed"
      },
      "source": [
        "#Given,  x**2 + y**2 = r**2\n",
        "#           OR\n",
        "# f(x) = (r**2 - x**2)**(1/2)\n",
        "\n",
        "r = 6\n",
        "odered_pairs = []\n",
        "\n",
        "def f(x):\n",
        "    return (r**2 - x**2)**(1/2)\n",
        "\n",
        "for x in range(-5, 5):\n",
        "    odered_pairs.append((x, f(x)))\n",
        "\n",
        "odered_pairs"
      ],
      "execution_count": 1,
      "outputs": [
        {
          "output_type": "execute_result",
          "data": {
            "text/plain": [
              "[(-5, 3.3166247903554),\n",
              " (-4, 4.47213595499958),\n",
              " (-3, 5.196152422706632),\n",
              " (-2, 5.656854249492381),\n",
              " (-1, 5.916079783099616),\n",
              " (0, 6.0),\n",
              " (1, 5.916079783099616),\n",
              " (2, 5.656854249492381),\n",
              " (3, 5.196152422706632),\n",
              " (4, 4.47213595499958)]"
            ]
          },
          "metadata": {
            "tags": []
          },
          "execution_count": 1
        }
      ]
    },
    {
      "cell_type": "markdown",
      "metadata": {
        "id": "t0Ejf9JLeuZH"
      },
      "source": [
        "##Solution 2"
      ]
    },
    {
      "cell_type": "code",
      "metadata": {
        "id": "IlVSdQZie-5P",
        "colab": {
          "base_uri": "https://localhost:8080/"
        },
        "outputId": "0e647144-2d40-4d98-f276-0c03feabd546"
      },
      "source": [
        "## Sol. 2\n",
        "data = [('Sumit', 183), ('Rahul', 175), ('Kritika', 170), ('Harshit', 177), ('Deepak', 162)]\n",
        "student_data = {}\n",
        "\n",
        "#keys\n",
        "for i in data:\n",
        "    print(i[0])"
      ],
      "execution_count": 2,
      "outputs": [
        {
          "output_type": "stream",
          "text": [
            "Sumit\n",
            "Rahul\n",
            "Kritika\n",
            "Harshit\n",
            "Deepak\n"
          ],
          "name": "stdout"
        }
      ]
    },
    {
      "cell_type": "code",
      "metadata": {
        "id": "4Vk4r688e-1I",
        "colab": {
          "base_uri": "https://localhost:8080/"
        },
        "outputId": "a54e92c5-3e5a-4f6a-9ccb-3587f1e27cb2"
      },
      "source": [
        "#values\n",
        "for i in data:\n",
        "    print(i[1])"
      ],
      "execution_count": 3,
      "outputs": [
        {
          "output_type": "stream",
          "text": [
            "183\n",
            "175\n",
            "170\n",
            "177\n",
            "162\n"
          ],
          "name": "stdout"
        }
      ]
    },
    {
      "cell_type": "code",
      "metadata": {
        "id": "ckLgBUv6e-wx",
        "colab": {
          "base_uri": "https://localhost:8080/"
        },
        "outputId": "bfdbec0f-8b65-48ea-c06a-98afa5832f35"
      },
      "source": [
        "for i in data:\n",
        "    student_data[i[0]] = i[1]\n",
        "student_data"
      ],
      "execution_count": 4,
      "outputs": [
        {
          "output_type": "execute_result",
          "data": {
            "text/plain": [
              "{'Deepak': 162, 'Harshit': 177, 'Kritika': 170, 'Rahul': 175, 'Sumit': 183}"
            ]
          },
          "metadata": {
            "tags": []
          },
          "execution_count": 4
        }
      ]
    },
    {
      "cell_type": "code",
      "metadata": {
        "id": "hDaASi48e-sQ",
        "colab": {
          "base_uri": "https://localhost:8080/"
        },
        "outputId": "06282cce-77a3-435d-c6f0-ee4c8e580337"
      },
      "source": [
        "student_data['Rahul']"
      ],
      "execution_count": 5,
      "outputs": [
        {
          "output_type": "execute_result",
          "data": {
            "text/plain": [
              "175"
            ]
          },
          "metadata": {
            "tags": []
          },
          "execution_count": 5
        }
      ]
    },
    {
      "cell_type": "markdown",
      "metadata": {
        "id": "AHBbZ8qSeuV8"
      },
      "source": [
        "##Solution 3"
      ]
    },
    {
      "cell_type": "code",
      "metadata": {
        "id": "SeFIW6_dfFBK"
      },
      "source": [
        "def unique_vals(l):\n",
        "    return list(set(l))\n",
        "l = [1, 2, 4, 4, 3, 2, 1, 1, 2, 4, 5, 3]"
      ],
      "execution_count": 6,
      "outputs": []
    },
    {
      "cell_type": "code",
      "metadata": {
        "id": "ardKR-7vfE-w",
        "colab": {
          "base_uri": "https://localhost:8080/"
        },
        "outputId": "a9ce9825-7d0c-4260-b0e0-3d025174decb"
      },
      "source": [
        "unique_vals(l)"
      ],
      "execution_count": 7,
      "outputs": [
        {
          "output_type": "execute_result",
          "data": {
            "text/plain": [
              "[1, 2, 3, 4, 5]"
            ]
          },
          "metadata": {
            "tags": []
          },
          "execution_count": 7
        }
      ]
    },
    {
      "cell_type": "markdown",
      "metadata": {
        "id": "fIc1euHyeuSU"
      },
      "source": [
        "##Solution 4"
      ]
    },
    {
      "cell_type": "code",
      "metadata": {
        "id": "7vP7F11IfInU"
      },
      "source": [
        "def gen_dict(n):\n",
        "    sample_dict = {}\n",
        "    for i in range(n+1):\n",
        "        if i**2 > n:\n",
        "            break\n",
        "        sample_dict[i] = i**2\n",
        "    return sample_dict"
      ],
      "execution_count": 8,
      "outputs": []
    },
    {
      "cell_type": "code",
      "metadata": {
        "id": "SBXfNbmifIj4",
        "colab": {
          "base_uri": "https://localhost:8080/"
        },
        "outputId": "407ea11a-b78d-4a08-cb50-8ac11732f42e"
      },
      "source": [
        "gen_dict(8)"
      ],
      "execution_count": 9,
      "outputs": [
        {
          "output_type": "execute_result",
          "data": {
            "text/plain": [
              "{0: 0, 1: 1, 2: 4}"
            ]
          },
          "metadata": {
            "tags": []
          },
          "execution_count": 9
        }
      ]
    },
    {
      "cell_type": "markdown",
      "metadata": {
        "id": "7CfpJjZoeuNS"
      },
      "source": [
        "##Solution 5"
      ]
    },
    {
      "cell_type": "code",
      "metadata": {
        "id": "eCQcGCVsfJYw"
      },
      "source": [
        "def find_unique_vals(inp_dict):\n",
        "    unique_elements = set()\n",
        "    for key in inp_dict:\n",
        "        unique_elements.add(inp_dict[key])\n",
        "    return unique_elements"
      ],
      "execution_count": 10,
      "outputs": []
    },
    {
      "cell_type": "code",
      "metadata": {
        "id": "93dbQyi2fJV4",
        "colab": {
          "base_uri": "https://localhost:8080/"
        },
        "outputId": "525d48ed-6761-40da-c247-7d79a3c548e9"
      },
      "source": [
        "find_unique_vals({'a':1, 'b':2, 'c':1, 'd':1, 'e':2, 'f':3, 'g':4, 'h':3, 'i':4})"
      ],
      "execution_count": 11,
      "outputs": [
        {
          "output_type": "execute_result",
          "data": {
            "text/plain": [
              "{1, 2, 3, 4}"
            ]
          },
          "metadata": {
            "tags": []
          },
          "execution_count": 11
        }
      ]
    },
    {
      "cell_type": "markdown",
      "metadata": {
        "id": "246cT-wseuC5"
      },
      "source": [
        "##Solution 6"
      ]
    },
    {
      "cell_type": "code",
      "metadata": {
        "id": "rxMZe9gRfKST"
      },
      "source": [
        "sample_text = \"Quantum entanglement is a label for the observed physical phenomenon\\nthat occurs when a pair or group of particles is generated, interact, or share\\nspatial proximity in a way such that the quantum state of each particle\\nof the pair or group cannot be described independently of the state of the others,\\neven when the particles are separated by a large distance. The topic of\\nquantum entanglement is at the heart of the disparity between\\nclassical and quantum physics.\""
      ],
      "execution_count": 12,
      "outputs": []
    },
    {
      "cell_type": "code",
      "metadata": {
        "id": "fGqvVqCHfKPg"
      },
      "source": [
        "with open('sample text.txt', 'w') as file:\n",
        "    file.write(sample_text)"
      ],
      "execution_count": 13,
      "outputs": []
    },
    {
      "cell_type": "code",
      "metadata": {
        "id": "MUZcloSBfKMx"
      },
      "source": [
        "text = ''\n",
        "with open('sample text.txt', 'r') as file:\n",
        "    for line in file.readlines():\n",
        "        text += line[:-2] + ' '\n",
        "text"
      ],
      "execution_count": null,
      "outputs": []
    },
    {
      "cell_type": "markdown",
      "metadata": {
        "id": "Nwb_kbK7e06J"
      },
      "source": [
        "##Solution 7"
      ]
    },
    {
      "cell_type": "code",
      "metadata": {
        "id": "re78eApxfLF9"
      },
      "source": [
        "sample_text = \"Quantum entanglement is a label for the observed physical phenomenon\\nthat occurs when a pair or group of particles is generated, interact, or share\\nspatial proximity in a way such that the quantum state of each particle\\nof the pair or group cannot be described independently of the state of the others,\\neven when the particles are separated by a large distance. The topic of\\nquantum entanglement is at the heart of the disparity between\\nclassical and quantum physics.\""
      ],
      "execution_count": 15,
      "outputs": []
    },
    {
      "cell_type": "code",
      "metadata": {
        "id": "QfxFeHQlfLDQ"
      },
      "source": [
        "with open('sample text.txt', 'w') as file:\n",
        "    file.write(sample_text)"
      ],
      "execution_count": 16,
      "outputs": []
    },
    {
      "cell_type": "code",
      "metadata": {
        "id": "35QLCbvLemA4",
        "colab": {
          "base_uri": "https://localhost:8080/"
        },
        "outputId": "a1651cf6-5c12-432a-c3a6-231a1564d501"
      },
      "source": [
        "no_of_words = 0\n",
        "with open('sample text.txt', 'r') as file:\n",
        "    for line in file.readlines():\n",
        "        no_of_words += line.__len__()\n",
        "no_of_words"
      ],
      "execution_count": 17,
      "outputs": [
        {
          "output_type": "execute_result",
          "data": {
            "text/plain": [
              "467"
            ]
          },
          "metadata": {
            "tags": []
          },
          "execution_count": 17
        }
      ]
    },
    {
      "cell_type": "markdown",
      "metadata": {
        "id": "BUAtttiTePgS"
      },
      "source": [
        "#Exercise 2\n",
        "**Attempt any 3 questions**"
      ]
    },
    {
      "cell_type": "markdown",
      "metadata": {
        "id": "YmeXYN_6eVpJ"
      },
      "source": [
        "1.  Write a python function which accpets a tuple representing the fields (func, $x_a$) where 'func' is **any** function $f(x)$ and $x_a$ is a point on which you have to find the slope i,e; $\\frac{df(x)}{dx}$ and return a tuple of (slope, $x_a$, $f(x_a)$, $\\Delta x$)  where $\\Delta x \\to 0$ but $\\Delta x \\neq 0$.\n",
        ">   Remember : $\\lim_{\\Delta x \\to 0} \\frac{f(x_a + \\Delta x) - f(x_a)}{\\Delta x}$\n",
        "2.  Write a python function which accepts two arguments ($n$, $a$) and returns a tuple of $n$ elements where $n^{th}$ element should be : $n^{th}_{element} = 1+\\frac{a}{1!}+\\frac{a^2}{2!}+\\frac{a^3}{3!}+...+\\frac{a^n}{n!}$ and $a$ should be any positive number. (Observe the last 10 values of returned tuple if $n > 20$)\n",
        "\n",
        "3.  Write a python function which generates the list of $n$ dictionaries representing $n$ students. Each dictionary should have two keys **Name** and **Marks**, the value of **Marks** key should be a list of 10 elements representing marks in 10 subjects as $[a_1,a_2,a_3,a_4,...,a_{10}]$. Create another function which accepts such dictionary and performs operation on marks and returns a list as $[\\alpha_1,\\alpha_2,\\alpha_3,\\alpha_4,...,\\alpha_{10}]$ where $\\alpha_i = \\beta \\alpha_{i-1} + (1-\\beta)a_i$ and $\\beta = 0.99, \\alpha_0 = 1, i=1,2,3,...,10$\n",
        "4.  Create a dictionary, with **keys** should be the number from 1 to 100 (1 and 100 both inclusive) and the value should be the list of string representing whether that key is **'Prime'**, **'Fibonacci'** (if that number exist in Fibonacci sequence), **'Square'** or all of three. Also write a function which accepts a dictionary (which you will create) and string **Prime**, **Fibonacci** or **Square** and by searching through dictionary it should return a tuple of that numbers. Fo ex:\n",
        ">```\n",
        "sample_dict = {1: ['Fibonacci', 'Square'], 6: [], ..., 13: ['Prime', 'Fibonacci'], ..., 34: ['Fibonacci'], ..., 100: ['Square']}\n",
        " For second part of the question:\n",
        " seq = func_name('Fibonacci')\n",
        " print(seq) --> (1, 2, 3, 5, 8, 13, 21, ..., 89)\n",
        "```\n",
        "\n",
        "5.  Copy the below paragraph and write an ecoded text file then read the same file and reconstruct the original paragraph. You have to use $f(a)$ function for encoding and decoding the text. $f(a) = 2a + 3$,where $a$ is an **ASCII** value of charater.\n",
        ">```\n",
        "Data science is an inter-disciplinary field that uses scientific methods, processes, algorithms and systems to extract knowledge and insights from structured and unstructured data. Data science is related to data mining and big data. Data science is a \"concept to unify statistics, data analysis, machine learning and their related methods\" in order to \"understand and analyze actual phenomena\" with data. It employs techniques and theories drawn from many fields within the context of mathematics, statistics, computer science, and information science. Turing award winner Jim Gray imagined data science as a \"fourth paradigm\" of science (empirical, theoretical, computational and now data-driven) and asserted that \"everything about science is changing because of the impact of information technology\" and the data deluge. In 2015, the American Statistical Association identified database management, statistics and machine learning, and distributed and parallel systems as the three emerging foundational professional communities.\n",
        "```\n",
        "6.  Using below text, write a file named File_1.txt and you have to insert new line character after every 10 words.\n",
        ">```\n",
        "Data science is an inter-disciplinary field that uses scientific methods processes algorithms and systems to extract knowledge and insights from structured and unstructured data Data science is related to data mining and big data. Data science is a concept to unify statistics data analysis machine learning and their related methods in order to understand and analyze actual phenomena with data It employs techniques and theories drawn from many fields within the context of mathematics statistics computer science and information science Turing award winner Jim Gray imagined data science as a fourth paradigm of science empirical theoretical computational and now data driven and asserted that everything about science is changing because of the impact of information technology and the data deluge In 2015 the American Statistical Association identified database management statistics and machine learning and distributed and parallel systems as the three emerging foundational professional communities\n",
        "```"
      ]
    },
    {
      "cell_type": "markdown",
      "metadata": {
        "id": "2B23qoGaehE4"
      },
      "source": [
        "# Solutions to Exercise 2"
      ]
    },
    {
      "cell_type": "markdown",
      "metadata": {
        "id": "jYH7krzfgD2y"
      },
      "source": [
        "## Solution 1"
      ]
    },
    {
      "cell_type": "code",
      "metadata": {
        "id": "qY72KsKJgFvQ"
      },
      "source": [
        "#Sample Function (it could be any function)\n",
        "def func(x):\n",
        "    return x**2\n",
        "\n",
        "def find_derivative(data):\n",
        "    func, x_a = data\n",
        "    delta_x = 0.000001\n",
        "    f_x_a = func(x_a)\n",
        "    f_delta_x = func(x_a + delta_x)\n",
        "    return ((f_delta_x - f_x_a)/delta_x, x_a, f_x_a, delta_x)"
      ],
      "execution_count": 18,
      "outputs": []
    },
    {
      "cell_type": "code",
      "metadata": {
        "id": "WCaw9ttegFso",
        "colab": {
          "base_uri": "https://localhost:8080/"
        },
        "outputId": "af19da22-07dc-4356-8107-1d5e99e64e87"
      },
      "source": [
        "#derivative of x^2 should be 2x, and we can verify that in output\n",
        "data = (func, 6)\n",
        "find_derivative(data)"
      ],
      "execution_count": 19,
      "outputs": [
        {
          "output_type": "execute_result",
          "data": {
            "text/plain": [
              "(12.00000099998988, 6, 36, 1e-06)"
            ]
          },
          "metadata": {
            "tags": []
          },
          "execution_count": 19
        }
      ]
    },
    {
      "cell_type": "markdown",
      "metadata": {
        "id": "AZmk7J_Lfj7y"
      },
      "source": [
        "## Solution 2"
      ]
    },
    {
      "cell_type": "code",
      "metadata": {
        "id": "l7EquHGBfs7M"
      },
      "source": [
        "def factorial(n):\n",
        "    fact = 1\n",
        "    for i in range(2, n+1):\n",
        "        fact *= i\n",
        "    return fact"
      ],
      "execution_count": 20,
      "outputs": []
    },
    {
      "cell_type": "code",
      "metadata": {
        "id": "zFNOXCFmfs4J"
      },
      "source": [
        "def n_th_term(n, a):\n",
        "    term = 1\n",
        "    for i in range(1, n+1):\n",
        "        term += (a**i)/factorial(i)\n",
        "    return term"
      ],
      "execution_count": 21,
      "outputs": []
    },
    {
      "cell_type": "code",
      "metadata": {
        "id": "SyS51I7Zfs01"
      },
      "source": [
        "def tuple_of_series(n, a):\n",
        "    terms = []\n",
        "    for i in range(1, n):\n",
        "        terms.append(n_th_term(i, a))\n",
        "    return tuple(terms)"
      ],
      "execution_count": 22,
      "outputs": []
    },
    {
      "cell_type": "code",
      "metadata": {
        "id": "J4tIDCYefsx3",
        "colab": {
          "base_uri": "https://localhost:8080/"
        },
        "outputId": "48979b88-c457-4346-dd62-33b5d61b51bf"
      },
      "source": [
        "tuple_of_series(30, 7)"
      ],
      "execution_count": 23,
      "outputs": [
        {
          "output_type": "execute_result",
          "data": {
            "text/plain": [
              "(8.0,\n",
              " 32.5,\n",
              " 89.66666666666666,\n",
              " 189.70833333333331,\n",
              " 329.76666666666665,\n",
              " 493.16805555555555,\n",
              " 656.5694444444445,\n",
              " 799.5456597222222,\n",
              " 910.7493827160494,\n",
              " 988.5919888117284,\n",
              " 1038.1281926907968,\n",
              " 1067.0243116202535,\n",
              " 1082.5837602745762,\n",
              " 1090.3634846017376,\n",
              " 1093.9940226210795,\n",
              " 1095.5823830045415,\n",
              " 1096.236413750673,\n",
              " 1096.4907590408352,\n",
              " 1096.5844652003686,\n",
              " 1096.6172623562054,\n",
              " 1096.6281947414843,\n",
              " 1096.6316732277094,\n",
              " 1096.63273189743,\n",
              " 1096.6330406760985,\n",
              " 1096.6331271341257,\n",
              " 1096.6331504112868,\n",
              " 1096.6331564461063,\n",
              " 1096.6331579548112,\n",
              " 1096.6331583189813)"
            ]
          },
          "metadata": {
            "tags": []
          },
          "execution_count": 23
        }
      ]
    },
    {
      "cell_type": "markdown",
      "metadata": {
        "id": "btSvjx4mfj4L"
      },
      "source": [
        "## Solution 3"
      ]
    },
    {
      "cell_type": "code",
      "metadata": {
        "id": "fsss9nPJft_4"
      },
      "source": [
        "def alpha_i(a, n):\n",
        "    alpha = [0]\n",
        "    beta = 0.99\n",
        "    for i in range(1, n+1):\n",
        "        alpha.append((beta * alpha[i-1]) + (1 - beta) * a[i - 1])\n",
        "    return alpha[1:]"
      ],
      "execution_count": 24,
      "outputs": []
    },
    {
      "cell_type": "code",
      "metadata": {
        "id": "QlcmAochft7z"
      },
      "source": [
        "def marks_operation(smpl_dict):\n",
        "    marks = smpl_dict['Marks']\n",
        "    return alpha_i(marks, marks.__len__())"
      ],
      "execution_count": 25,
      "outputs": []
    },
    {
      "cell_type": "code",
      "metadata": {
        "id": "lMs5AhnPft4Z"
      },
      "source": [
        "def create_dict(n):\n",
        "    dicts = []\n",
        "    for i in range(n):\n",
        "        temp_dict = {}\n",
        "        temp_dict['Name'] = name[i]                 #instead of name[i], you can ask user for name using input('')\n",
        "        temp_dict['Marks'] = marks[i]               ##instead of marks[i], you can ask user for name using input('')\n",
        "        dicts.append(temp_dict)\n",
        "    return dicts"
      ],
      "execution_count": 26,
      "outputs": []
    },
    {
      "cell_type": "code",
      "metadata": {
        "id": "7YP2hlR1ft1C",
        "colab": {
          "base_uri": "https://localhost:8080/"
        },
        "outputId": "1d515c4d-99c0-4c50-d97e-d7dc52dc27bd"
      },
      "source": [
        "#Just for explanation, we used predefined name and marks list.\n",
        "name = ['Rahul', 'Deepak']\n",
        "marks = [[80, 60, 57, 84, 52, 98, 49, 58, 73, 65], [58, 66, 50, 94, 87, 98, 82, 62, 83, 67]]\n",
        "dicts = create_dict(2)\n",
        "dicts"
      ],
      "execution_count": 27,
      "outputs": [
        {
          "output_type": "execute_result",
          "data": {
            "text/plain": [
              "[{'Marks': [80, 60, 57, 84, 52, 98, 49, 58, 73, 65], 'Name': 'Rahul'},\n",
              " {'Marks': [58, 66, 50, 94, 87, 98, 82, 62, 83, 67], 'Name': 'Deepak'}]"
            ]
          },
          "metadata": {
            "tags": []
          },
          "execution_count": 27
        }
      ]
    },
    {
      "cell_type": "code",
      "metadata": {
        "id": "x20XloGuftx3",
        "colab": {
          "base_uri": "https://localhost:8080/"
        },
        "outputId": "288645a6-a065-47cf-b558-decf412df726"
      },
      "source": [
        "marks_operation(dicts[0])"
      ],
      "execution_count": 28,
      "outputs": [
        {
          "output_type": "execute_result",
          "data": {
            "text/plain": [
              "[0.8000000000000007,\n",
              " 1.3920000000000012,\n",
              " 1.9480800000000018,\n",
              " 2.7685992000000024,\n",
              " 3.260913208000003,\n",
              " 4.208304075920004,\n",
              " 4.6562210351608035,\n",
              " 5.189658824809197,\n",
              " 5.867762236561105,\n",
              " 6.459084614195494]"
            ]
          },
          "metadata": {
            "tags": []
          },
          "execution_count": 28
        }
      ]
    },
    {
      "cell_type": "markdown",
      "metadata": {
        "id": "0dS5IbBMfjxL"
      },
      "source": [
        "## Solution 4"
      ]
    },
    {
      "cell_type": "code",
      "metadata": {
        "id": "9jgWueBKfvIj"
      },
      "source": [
        "def is_prime(num):\n",
        "    count = 2\n",
        "    if num == 1:\n",
        "        return False\n",
        "    for i in range(2, num-1):\n",
        "        if num%i == 0:\n",
        "            count += 1\n",
        "    return True if count == 2 else False"
      ],
      "execution_count": 29,
      "outputs": []
    },
    {
      "cell_type": "code",
      "metadata": {
        "id": "ctbTsAJTfvF3",
        "colab": {
          "base_uri": "https://localhost:8080/"
        },
        "outputId": "20bd42fe-c04a-4eae-b0ab-7567d8940409"
      },
      "source": [
        "fibonacci = [1, 1]\n",
        "while fibonacci[-1] <= 100:\n",
        "    fibonacci.append(fibonacci[-1] + fibonacci[-2])\n",
        "fibonacci = fibonacci[0:-1]\n",
        "fibonacci"
      ],
      "execution_count": 30,
      "outputs": [
        {
          "output_type": "execute_result",
          "data": {
            "text/plain": [
              "[1, 1, 2, 3, 5, 8, 13, 21, 34, 55, 89]"
            ]
          },
          "metadata": {
            "tags": []
          },
          "execution_count": 30
        }
      ]
    },
    {
      "cell_type": "code",
      "metadata": {
        "id": "RC_0PxRMfvEp"
      },
      "source": [
        "def create_dict():\n",
        "    num_dict = {}\n",
        "    for i in range(1, 101):\n",
        "        if i not in num_dict:\n",
        "            num_dict[i] = []\n",
        "        if i**2 <= 100:\n",
        "            num_dict[i**2] = []\n",
        "            num_dict[i**2].append('Square')\n",
        "        if i in fibonacci:\n",
        "            num_dict[i].append('Fibonacci')\n",
        "        if is_prime(i):\n",
        "            num_dict[i].append('Prime')\n",
        "    return num_dict"
      ],
      "execution_count": 31,
      "outputs": []
    },
    {
      "cell_type": "code",
      "metadata": {
        "id": "WsZjpeUrfu_Y"
      },
      "source": [
        "def search_dict_elem(num_dict, proprty):\n",
        "    nums = []\n",
        "    for i in num_dict.items():\n",
        "        if proprty in i[1]:\n",
        "            nums.append(i[0])\n",
        "    return tuple(nums)"
      ],
      "execution_count": 32,
      "outputs": []
    },
    {
      "cell_type": "code",
      "metadata": {
        "id": "O31vMi-Wfu7g",
        "colab": {
          "base_uri": "https://localhost:8080/"
        },
        "outputId": "9a4d48e9-5925-4a42-a489-fab8a5ae1631"
      },
      "source": [
        "num_dict = create_dict()\n",
        "print(search_dict_elem(num_dict, 'Fibonacci'))\n",
        "print(search_dict_elem(num_dict, 'Square'))\n",
        "print(search_dict_elem(num_dict, 'Prime'))"
      ],
      "execution_count": 33,
      "outputs": [
        {
          "output_type": "stream",
          "text": [
            "(1, 2, 3, 5, 8, 13, 21, 34, 55, 89)\n",
            "(1, 4, 9, 16, 25, 36, 49, 64, 81, 100)\n",
            "(2, 3, 5, 7, 11, 13, 17, 19, 23, 29, 31, 37, 41, 43, 47, 53, 59, 61, 67, 71, 73, 79, 83, 89, 97)\n"
          ],
          "name": "stdout"
        }
      ]
    },
    {
      "cell_type": "markdown",
      "metadata": {
        "id": "6Eas2H7Vfjsp"
      },
      "source": [
        "## Solution 5"
      ]
    },
    {
      "cell_type": "code",
      "metadata": {
        "id": "yCOIra7tfwhl"
      },
      "source": [
        "para = 'Data science is an inter-disciplinary field that uses scientific methods, processes, algorithms and systems to extract knowledge and insights from structured and unstructured data. Data science is related to data mining and big data. Data science is a \"concept to unify statistics, data analysis, machine learning and their related methods\" in order to \"understand and analyze actual phenomena\" with data. It employs techniques and theories drawn from many fields within the context of mathematics, statistics, computer science, and information science. Turing award winner Jim Gray imagined data science as a \"fourth paradigm\" of science (empirical, theoretical, computational and now data-driven) and asserted that \"everything about science is changing because of the impact of information technology\" and the data deluge. In 2015, the American Statistical Association identified database management, statistics and machine learning, and distributed and parallel systems as the three emerging foundational professional communities.'\n",
        "para"
      ],
      "execution_count": null,
      "outputs": []
    },
    {
      "cell_type": "code",
      "metadata": {
        "id": "45xJV17_fwe3"
      },
      "source": [
        "def f(a):\n",
        "    a = int(ord(a))                              #ord() returns ASCII value\n",
        "    return (2*a + 3)"
      ],
      "execution_count": 35,
      "outputs": []
    },
    {
      "cell_type": "code",
      "metadata": {
        "id": "PJ48oR__fwbH"
      },
      "source": [
        "def f_inv(a):\n",
        "    return chr(int((a - 3)/2))"
      ],
      "execution_count": 36,
      "outputs": []
    },
    {
      "cell_type": "code",
      "metadata": {
        "id": "qquIf23IfwSx"
      },
      "source": [
        "#encoding\n",
        "encoded_para = ''\n",
        "for i in para:\n",
        "    encoded_para += str(f(i))\n",
        "    encoded_para += ' '\n",
        "with open('encoded.txt', 'w') as file:\n",
        "    file.write(encoded_para)"
      ],
      "execution_count": 37,
      "outputs": []
    },
    {
      "cell_type": "code",
      "metadata": {
        "id": "HancByh5fwPL"
      },
      "source": [
        "#decoding\n",
        "with open('encoded.txt', 'r') as file:\n",
        "    content = file.readline()\n",
        "\n",
        "reconstruct_para = ''\n",
        "for a in content.split(' '):\n",
        "    if a.__len__() > 0:\n",
        "        reconstruct_para = reconstruct_para + f_inv(int(a))\n",
        "reconstruct_para"
      ],
      "execution_count": null,
      "outputs": []
    },
    {
      "cell_type": "markdown",
      "metadata": {
        "id": "djFACnAZfjkR"
      },
      "source": [
        "## Solution 6"
      ]
    },
    {
      "cell_type": "code",
      "metadata": {
        "id": "o9J3dqN8f9mY"
      },
      "source": [
        "file_1 = 'Data science is an inter-disciplinary field that uses scientific methods processes algorithms and systems to extract knowledge and insights from structured and unstructured data Data science is related to data mining and big data. Data science is a concept to unify statistics data analysis machine learning and their related methods in order to understand and analyze actual phenomena with data It employs techniques and theories drawn from many fields within the context of mathematics statistics computer science and information science Turing award winner Jim Gray imagined data science as a fourth paradigm of science empirical theoretical computational and now data driven and asserted that everything about science is changing because of the impact of information technology and the data deluge In 2015 the American Statistical Association identified database management statistics and machine learning and distributed and parallel systems as the three emerging foundational professional communities'"
      ],
      "execution_count": 39,
      "outputs": []
    },
    {
      "cell_type": "code",
      "metadata": {
        "id": "-4yibjMuf8Ui",
        "colab": {
          "base_uri": "https://localhost:8080/"
        },
        "outputId": "890f2464-b00d-4bc3-d67a-fbb9718e866b"
      },
      "source": [
        "total_words = len(file_1.split(' '))\n",
        "total_words"
      ],
      "execution_count": 40,
      "outputs": [
        {
          "output_type": "execute_result",
          "data": {
            "text/plain": [
              "145"
            ]
          },
          "metadata": {
            "tags": []
          },
          "execution_count": 40
        }
      ]
    },
    {
      "cell_type": "code",
      "metadata": {
        "id": "5GtW8D6_ek1d",
        "colab": {
          "base_uri": "https://localhost:8080/"
        },
        "outputId": "b9a7da41-60cb-481a-a4e8-702f60653ecf"
      },
      "source": [
        "words = file_1.split(' ')\n",
        "text = [words[0] + ' ']\n",
        "for i in range(1, total_words):\n",
        "    if i%10 == 0:\n",
        "        text.append('\\n' + words[i] + ' ')\n",
        "        continue\n",
        "    text.append(words[i] + ' ')\n",
        "text[0:21]"
      ],
      "execution_count": 41,
      "outputs": [
        {
          "output_type": "execute_result",
          "data": {
            "text/plain": [
              "['Data ',\n",
              " 'science ',\n",
              " 'is ',\n",
              " 'an ',\n",
              " 'inter-disciplinary ',\n",
              " 'field ',\n",
              " 'that ',\n",
              " 'uses ',\n",
              " 'scientific ',\n",
              " 'methods ',\n",
              " '\\nprocesses ',\n",
              " 'algorithms ',\n",
              " 'and ',\n",
              " 'systems ',\n",
              " 'to ',\n",
              " 'extract ',\n",
              " 'knowledge ',\n",
              " 'and ',\n",
              " 'insights ',\n",
              " 'from ',\n",
              " '\\nstructured ']"
            ]
          },
          "metadata": {
            "tags": []
          },
          "execution_count": 41
        }
      ]
    }
  ]
}