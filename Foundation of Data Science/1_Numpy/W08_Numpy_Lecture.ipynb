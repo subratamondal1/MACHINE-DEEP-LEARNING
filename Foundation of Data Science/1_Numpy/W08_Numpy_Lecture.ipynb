{
  "nbformat": 4,
  "nbformat_minor": 0,
  "metadata": {
    "colab": {
      "name": "W08_Numpy_Lecture.ipynb",
      "provenance": [],
      "collapsed_sections": [
        "68khGiVxYo7H",
        "NLGCUANycFKt",
        "ok07o0hHhe0k",
        "PDFmEbTwmJyr",
        "xPFrKz2xuH5K",
        "sdv4it47xrkx",
        "Gbx0S1afv7J4",
        "VWepKz6S0-6R",
        "V4H98xu21BC5",
        "oFy2ji-A1oAn",
        "5LoAAMS28NIG",
        "svLMJcYS8oV1"
      ],
      "toc_visible": true
    },
    "kernelspec": {
      "name": "python3",
      "display_name": "Python 3"
    }
  },
  "cells": [
    {
      "cell_type": "markdown",
      "metadata": {
        "id": "IAZtTf7w41BH"
      },
      "source": [
        "<img src=\"https://i.imgur.com/nTOFzVI.png\" alt=\"drawing\" width=\"400\"/>\n",
        "\n",
        "# by One Fourth Labs\n",
        "\n",
        "\n",
        "For more reading refer official reference of Numpy https://numpy.org/doc/stable/user/quickstart.html\n"
      ]
    },
    {
      "cell_type": "code",
      "metadata": {
        "id": "bxDEhuxYaq84"
      },
      "source": [
        "import numpy as np"
      ],
      "execution_count": null,
      "outputs": []
    },
    {
      "cell_type": "markdown",
      "metadata": {
        "id": "68khGiVxYo7H"
      },
      "source": [
        "## Comparing performance with lists, etc."
      ]
    },
    {
      "cell_type": "code",
      "metadata": {
        "id": "Eit9EIf7Ybr6"
      },
      "source": [
        "N = 100000000"
      ],
      "execution_count": null,
      "outputs": []
    },
    {
      "cell_type": "code",
      "metadata": {
        "id": "Db9hU3X_YuVe",
        "colab": {
          "base_uri": "https://localhost:8080/"
        },
        "outputId": "0ae7490c-1265-444c-9ead-384368802ed6"
      },
      "source": [
        "%%time\n",
        "list_ = list(range(N))\n",
        "for i in range(N):\n",
        "    list_[i] = list_[i] * list_[i]"
      ],
      "execution_count": null,
      "outputs": [
        {
          "output_type": "stream",
          "text": [
            "CPU times: user 22.3 s, sys: 2.04 s, total: 24.3 s\n",
            "Wall time: 24.6 s\n"
          ],
          "name": "stdout"
        }
      ]
    },
    {
      "cell_type": "code",
      "metadata": {
        "id": "Gv3M483RZAB3",
        "colab": {
          "base_uri": "https://localhost:8080/"
        },
        "outputId": "77449e31-6ff5-4b2e-d0d8-45de89fa5372"
      },
      "source": [
        "%%time\n",
        "list_ = list(range(N))\n",
        "list_ = [item * item for item in list_]"
      ],
      "execution_count": null,
      "outputs": [
        {
          "output_type": "stream",
          "text": [
            "CPU times: user 9.09 s, sys: 4.51 s, total: 13.6 s\n",
            "Wall time: 13.6 s\n"
          ],
          "name": "stdout"
        }
      ]
    },
    {
      "cell_type": "code",
      "metadata": {
        "id": "2bcmoyBwZe4r",
        "colab": {
          "base_uri": "https://localhost:8080/"
        },
        "outputId": "c0a6fc95-db65-41f7-b461-4389c8a6477b"
      },
      "source": [
        "%%time\n",
        "list_ = list(range(N))\n",
        "list_ = map(lambda x: x * x, list_)"
      ],
      "execution_count": null,
      "outputs": [
        {
          "output_type": "stream",
          "text": [
            "CPU times: user 2.39 s, sys: 1.47 s, total: 3.86 s\n",
            "Wall time: 3.86 s\n"
          ],
          "name": "stdout"
        }
      ]
    },
    {
      "cell_type": "code",
      "metadata": {
        "id": "JGzpwFZnaCOl",
        "colab": {
          "base_uri": "https://localhost:8080/"
        },
        "outputId": "7d3f0c14-44eb-468d-e44f-1a4c3d65031f"
      },
      "source": [
        "%%time\n",
        "list_ = list(range(N))\n",
        "list_sum = 0\n",
        "for item in list_:\n",
        "    list_sum += item"
      ],
      "execution_count": null,
      "outputs": [
        {
          "output_type": "stream",
          "text": [
            "CPU times: user 12.2 s, sys: 1.48 s, total: 13.7 s\n",
            "Wall time: 13.7 s\n"
          ],
          "name": "stdout"
        }
      ]
    },
    {
      "cell_type": "code",
      "metadata": {
        "id": "5c4L-NuLacK9",
        "colab": {
          "base_uri": "https://localhost:8080/"
        },
        "outputId": "b1679969-84a4-4375-c8ab-8744cf5af899"
      },
      "source": [
        "%%time\n",
        "list_ = list(range(N))\n",
        "list_sum = sum(list_)"
      ],
      "execution_count": null,
      "outputs": [
        {
          "output_type": "stream",
          "text": [
            "CPU times: user 2.95 s, sys: 1.44 s, total: 4.39 s\n",
            "Wall time: 4.4 s\n"
          ],
          "name": "stdout"
        }
      ]
    },
    {
      "cell_type": "code",
      "metadata": {
        "id": "OwYuugJ2a9dS",
        "colab": {
          "base_uri": "https://localhost:8080/"
        },
        "outputId": "ca034d9c-adda-4ba2-f673-d9dfab6f6a7f"
      },
      "source": [
        "%%time\n",
        "arr = np.arange(N)\n",
        "arr = arr * arr"
      ],
      "execution_count": null,
      "outputs": [
        {
          "output_type": "stream",
          "text": [
            "CPU times: user 364 ms, sys: 29.9 ms, total: 394 ms\n",
            "Wall time: 402 ms\n"
          ],
          "name": "stdout"
        }
      ]
    },
    {
      "cell_type": "code",
      "metadata": {
        "id": "cjNUo9uhbS0V",
        "colab": {
          "base_uri": "https://localhost:8080/"
        },
        "outputId": "9a5e7058-bc2c-4ac4-d778-e6fc72faa496"
      },
      "source": [
        "%%time\n",
        "arr = np.arange(N)\n",
        "arr_sum = np.sum(arr)"
      ],
      "execution_count": null,
      "outputs": [
        {
          "output_type": "stream",
          "text": [
            "CPU times: user 252 ms, sys: 13 ms, total: 265 ms\n",
            "Wall time: 265 ms\n"
          ],
          "name": "stdout"
        }
      ]
    },
    {
      "cell_type": "markdown",
      "metadata": {
        "id": "NLGCUANycFKt"
      },
      "source": [
        "# Creating np Arrays"
      ]
    },
    {
      "cell_type": "code",
      "metadata": {
        "id": "Evm6nUDNbd6M"
      },
      "source": [
        "arr = np.arange(5)"
      ],
      "execution_count": null,
      "outputs": []
    },
    {
      "cell_type": "code",
      "metadata": {
        "id": "b3Wx0sQlcKQC",
        "colab": {
          "base_uri": "https://localhost:8080/"
        },
        "outputId": "248d3f18-8752-4bd2-e711-6ee4317fe1fe"
      },
      "source": [
        "print(arr, type(arr))"
      ],
      "execution_count": null,
      "outputs": [
        {
          "output_type": "stream",
          "text": [
            "[0 1 2 3 4] <class 'numpy.ndarray'>\n"
          ],
          "name": "stdout"
        }
      ]
    },
    {
      "cell_type": "code",
      "metadata": {
        "id": "uXufCplPcMIb"
      },
      "source": [
        "arr = np.array([0.0, 2, 4, 6, 8])"
      ],
      "execution_count": null,
      "outputs": []
    },
    {
      "cell_type": "code",
      "metadata": {
        "id": "XRYdEBlXcYGg",
        "colab": {
          "base_uri": "https://localhost:8080/"
        },
        "outputId": "947f046a-bce0-4c1c-a5e3-22838b71432c"
      },
      "source": [
        "print(arr, type(arr))"
      ],
      "execution_count": null,
      "outputs": [
        {
          "output_type": "stream",
          "text": [
            "[0. 2. 4. 6. 8.] <class 'numpy.ndarray'>\n"
          ],
          "name": "stdout"
        }
      ]
    },
    {
      "cell_type": "code",
      "metadata": {
        "id": "plOZLyMPcZH8",
        "colab": {
          "base_uri": "https://localhost:8080/"
        },
        "outputId": "5134d913-f7e5-4694-efd0-8fdf45ba2951"
      },
      "source": [
        "arr"
      ],
      "execution_count": null,
      "outputs": [
        {
          "output_type": "execute_result",
          "data": {
            "text/plain": [
              "array([0., 2., 4., 6., 8.])"
            ]
          },
          "metadata": {
            "tags": []
          },
          "execution_count": 14
        }
      ]
    },
    {
      "cell_type": "code",
      "metadata": {
        "id": "44OjxdEJchb8",
        "colab": {
          "base_uri": "https://localhost:8080/"
        },
        "outputId": "ddfac7f6-8b82-47d3-bded-112b2a25949b"
      },
      "source": [
        "arr.dtype"
      ],
      "execution_count": null,
      "outputs": [
        {
          "output_type": "execute_result",
          "data": {
            "text/plain": [
              "dtype('float64')"
            ]
          },
          "metadata": {
            "tags": []
          },
          "execution_count": 15
        }
      ]
    },
    {
      "cell_type": "code",
      "metadata": {
        "id": "aLs3mkBycnmt",
        "colab": {
          "base_uri": "https://localhost:8080/"
        },
        "outputId": "350dc7c2-ee9d-4286-e64c-ec4cf2406226"
      },
      "source": [
        "arr.ndim"
      ],
      "execution_count": null,
      "outputs": [
        {
          "output_type": "execute_result",
          "data": {
            "text/plain": [
              "1"
            ]
          },
          "metadata": {
            "tags": []
          },
          "execution_count": 16
        }
      ]
    },
    {
      "cell_type": "code",
      "metadata": {
        "id": "M_45DXNecwbz",
        "colab": {
          "base_uri": "https://localhost:8080/"
        },
        "outputId": "25739ec5-4f96-422e-ee28-b7eb8e351d9a"
      },
      "source": [
        "arr.shape"
      ],
      "execution_count": null,
      "outputs": [
        {
          "output_type": "execute_result",
          "data": {
            "text/plain": [
              "(5,)"
            ]
          },
          "metadata": {
            "tags": []
          },
          "execution_count": 17
        }
      ]
    },
    {
      "cell_type": "code",
      "metadata": {
        "id": "wyWLuERBcy4W",
        "colab": {
          "base_uri": "https://localhost:8080/"
        },
        "outputId": "320e2886-19e9-4bd3-eee4-430d53b370c6"
      },
      "source": [
        "arr.size"
      ],
      "execution_count": null,
      "outputs": [
        {
          "output_type": "execute_result",
          "data": {
            "text/plain": [
              "5"
            ]
          },
          "metadata": {
            "tags": []
          },
          "execution_count": 18
        }
      ]
    },
    {
      "cell_type": "code",
      "metadata": {
        "id": "Fqj2_W-Sc3MG",
        "colab": {
          "base_uri": "https://localhost:8080/"
        },
        "outputId": "c450bbd2-f008-4db0-9d8d-736541b558b6"
      },
      "source": [
        "arr.itemsize"
      ],
      "execution_count": null,
      "outputs": [
        {
          "output_type": "execute_result",
          "data": {
            "text/plain": [
              "8"
            ]
          },
          "metadata": {
            "tags": []
          },
          "execution_count": 19
        }
      ]
    },
    {
      "cell_type": "code",
      "metadata": {
        "id": "pLeTXokgc62S"
      },
      "source": [
        "arr2d = np.array([\n",
        "                  [1, 2, 3], \n",
        "                  [4, 5, 6]\n",
        "])"
      ],
      "execution_count": null,
      "outputs": []
    },
    {
      "cell_type": "code",
      "metadata": {
        "id": "34LVKLSjdanx",
        "colab": {
          "base_uri": "https://localhost:8080/"
        },
        "outputId": "88344290-4769-4c3a-d0e9-33602c89e0ed"
      },
      "source": [
        "arr2d"
      ],
      "execution_count": null,
      "outputs": [
        {
          "output_type": "execute_result",
          "data": {
            "text/plain": [
              "array([[1, 2, 3],\n",
              "       [4, 5, 6]])"
            ]
          },
          "metadata": {
            "tags": []
          },
          "execution_count": 21
        }
      ]
    },
    {
      "cell_type": "code",
      "metadata": {
        "id": "LRVMTi7mdcHH",
        "colab": {
          "base_uri": "https://localhost:8080/"
        },
        "outputId": "1de8943d-a4a5-4380-888d-1428fad0ed07"
      },
      "source": [
        "arr2d.ndim"
      ],
      "execution_count": null,
      "outputs": [
        {
          "output_type": "execute_result",
          "data": {
            "text/plain": [
              "2"
            ]
          },
          "metadata": {
            "tags": []
          },
          "execution_count": 22
        }
      ]
    },
    {
      "cell_type": "code",
      "metadata": {
        "id": "Ma9WfzVcdeA5",
        "colab": {
          "base_uri": "https://localhost:8080/"
        },
        "outputId": "604829b6-9f0f-4d61-8a52-295ee0a43f18"
      },
      "source": [
        "arr2d.shape"
      ],
      "execution_count": null,
      "outputs": [
        {
          "output_type": "execute_result",
          "data": {
            "text/plain": [
              "(2, 3)"
            ]
          },
          "metadata": {
            "tags": []
          },
          "execution_count": 23
        }
      ]
    },
    {
      "cell_type": "code",
      "metadata": {
        "id": "Gs_AZjoddfHj",
        "colab": {
          "base_uri": "https://localhost:8080/"
        },
        "outputId": "634e3697-627d-452e-d3d5-0f4a892252c0"
      },
      "source": [
        "arr2d.size"
      ],
      "execution_count": null,
      "outputs": [
        {
          "output_type": "execute_result",
          "data": {
            "text/plain": [
              "6"
            ]
          },
          "metadata": {
            "tags": []
          },
          "execution_count": 24
        }
      ]
    },
    {
      "cell_type": "code",
      "metadata": {
        "id": "WxJvJYrIdnBf"
      },
      "source": [
        "arr3d = np.array([\n",
        "                  [\n",
        "                   [1, 2, 3],\n",
        "                   [4, 5, 6]\n",
        "                  ],\n",
        "                  [\n",
        "                   [7, 8, 9], \n",
        "                   [10, 11, 12]\n",
        "                  ]\n",
        "])"
      ],
      "execution_count": null,
      "outputs": []
    },
    {
      "cell_type": "code",
      "metadata": {
        "id": "-MAbEurMd57w",
        "colab": {
          "base_uri": "https://localhost:8080/"
        },
        "outputId": "03f59079-cbc6-4a8b-daea-a839a50e224d"
      },
      "source": [
        "arr3d"
      ],
      "execution_count": null,
      "outputs": [
        {
          "output_type": "execute_result",
          "data": {
            "text/plain": [
              "array([[[ 1,  2,  3],\n",
              "        [ 4,  5,  6]],\n",
              "\n",
              "       [[ 7,  8,  9],\n",
              "        [10, 11, 12]]])"
            ]
          },
          "metadata": {
            "tags": []
          },
          "execution_count": 26
        }
      ]
    },
    {
      "cell_type": "code",
      "metadata": {
        "id": "dE9OjxSrd638",
        "colab": {
          "base_uri": "https://localhost:8080/"
        },
        "outputId": "120c04a0-0b43-4ea7-94d6-97e5dbe76def"
      },
      "source": [
        "arr3d.shape"
      ],
      "execution_count": null,
      "outputs": [
        {
          "output_type": "execute_result",
          "data": {
            "text/plain": [
              "(2, 2, 3)"
            ]
          },
          "metadata": {
            "tags": []
          },
          "execution_count": 27
        }
      ]
    },
    {
      "cell_type": "code",
      "metadata": {
        "id": "0fa892EEd__8",
        "colab": {
          "base_uri": "https://localhost:8080/"
        },
        "outputId": "2be20f84-0163-4c64-980d-890279332c9a"
      },
      "source": [
        "arr3d.ndim"
      ],
      "execution_count": null,
      "outputs": [
        {
          "output_type": "execute_result",
          "data": {
            "text/plain": [
              "3"
            ]
          },
          "metadata": {
            "tags": []
          },
          "execution_count": 28
        }
      ]
    },
    {
      "cell_type": "code",
      "metadata": {
        "id": "j92cN38DeBqQ",
        "colab": {
          "base_uri": "https://localhost:8080/"
        },
        "outputId": "4d23fb35-8fec-48ae-ff63-7510e3a92599"
      },
      "source": [
        "arr3d.size"
      ],
      "execution_count": null,
      "outputs": [
        {
          "output_type": "execute_result",
          "data": {
            "text/plain": [
              "12"
            ]
          },
          "metadata": {
            "tags": []
          },
          "execution_count": 29
        }
      ]
    },
    {
      "cell_type": "code",
      "metadata": {
        "id": "OMN9ucDEeCzz",
        "colab": {
          "base_uri": "https://localhost:8080/"
        },
        "outputId": "db307281-4fc1-4bea-fd00-5131db5220f5"
      },
      "source": [
        "np.ones((2, 3, 4))"
      ],
      "execution_count": null,
      "outputs": [
        {
          "output_type": "execute_result",
          "data": {
            "text/plain": [
              "array([[[1., 1., 1., 1.],\n",
              "        [1., 1., 1., 1.],\n",
              "        [1., 1., 1., 1.]],\n",
              "\n",
              "       [[1., 1., 1., 1.],\n",
              "        [1., 1., 1., 1.],\n",
              "        [1., 1., 1., 1.]]])"
            ]
          },
          "metadata": {
            "tags": []
          },
          "execution_count": 30
        }
      ]
    },
    {
      "cell_type": "code",
      "metadata": {
        "id": "i52W2q1beS79",
        "colab": {
          "base_uri": "https://localhost:8080/"
        },
        "outputId": "e9ceafec-3ce6-4c6d-8e9c-2161cabdc238"
      },
      "source": [
        "1729 * np.ones((2, 3, 4))"
      ],
      "execution_count": null,
      "outputs": [
        {
          "output_type": "execute_result",
          "data": {
            "text/plain": [
              "array([[[1729., 1729., 1729., 1729.],\n",
              "        [1729., 1729., 1729., 1729.],\n",
              "        [1729., 1729., 1729., 1729.]],\n",
              "\n",
              "       [[1729., 1729., 1729., 1729.],\n",
              "        [1729., 1729., 1729., 1729.],\n",
              "        [1729., 1729., 1729., 1729.]]])"
            ]
          },
          "metadata": {
            "tags": []
          },
          "execution_count": 31
        }
      ]
    },
    {
      "cell_type": "code",
      "metadata": {
        "id": "nvZvkdYUeZiu",
        "colab": {
          "base_uri": "https://localhost:8080/"
        },
        "outputId": "9207554e-6ce6-4214-8337-7f1aac39d19f"
      },
      "source": [
        "np.zeros((2, 3, 4))"
      ],
      "execution_count": null,
      "outputs": [
        {
          "output_type": "execute_result",
          "data": {
            "text/plain": [
              "array([[[0., 0., 0., 0.],\n",
              "        [0., 0., 0., 0.],\n",
              "        [0., 0., 0., 0.]],\n",
              "\n",
              "       [[0., 0., 0., 0.],\n",
              "        [0., 0., 0., 0.],\n",
              "        [0., 0., 0., 0.]]])"
            ]
          },
          "metadata": {
            "tags": []
          },
          "execution_count": 32
        }
      ]
    },
    {
      "cell_type": "code",
      "metadata": {
        "id": "GFxPoEK6ef6h",
        "colab": {
          "base_uri": "https://localhost:8080/"
        },
        "outputId": "45793ecf-34ef-448f-b918-93f00a0c4835"
      },
      "source": [
        "np.random.randn(2, 3)"
      ],
      "execution_count": null,
      "outputs": [
        {
          "output_type": "execute_result",
          "data": {
            "text/plain": [
              "array([[ 0.58768996,  0.10474105, -0.04881658],\n",
              "       [ 0.16805894,  0.41714503, -0.81174963]])"
            ]
          },
          "metadata": {
            "tags": []
          },
          "execution_count": 33
        }
      ]
    },
    {
      "cell_type": "code",
      "metadata": {
        "id": "8Mpt-djQe2OV",
        "colab": {
          "base_uri": "https://localhost:8080/"
        },
        "outputId": "e6cb009d-c631-450b-8e27-24f0c122313b"
      },
      "source": [
        "np.random.rand(2, 3)"
      ],
      "execution_count": null,
      "outputs": [
        {
          "output_type": "execute_result",
          "data": {
            "text/plain": [
              "array([[0.90978303, 0.67518903, 0.20384278],\n",
              "       [0.17316464, 0.56745283, 0.2641691 ]])"
            ]
          },
          "metadata": {
            "tags": []
          },
          "execution_count": 34
        }
      ]
    },
    {
      "cell_type": "code",
      "metadata": {
        "id": "Ymh-OjaNfI9m",
        "colab": {
          "base_uri": "https://localhost:8080/"
        },
        "outputId": "45f5a6fc-1145-4f59-8fd5-e080f263676c"
      },
      "source": [
        "np.random.rand(10, 1)"
      ],
      "execution_count": null,
      "outputs": [
        {
          "output_type": "execute_result",
          "data": {
            "text/plain": [
              "array([[0.54903648],\n",
              "       [0.40555604],\n",
              "       [0.53685451],\n",
              "       [0.69333717],\n",
              "       [0.07629448],\n",
              "       [0.9653904 ],\n",
              "       [0.39678167],\n",
              "       [0.94247879],\n",
              "       [0.27448235],\n",
              "       [0.77496616]])"
            ]
          },
          "metadata": {
            "tags": []
          },
          "execution_count": 35
        }
      ]
    },
    {
      "cell_type": "code",
      "metadata": {
        "id": "c5To7Be5fQ1O",
        "colab": {
          "base_uri": "https://localhost:8080/"
        },
        "outputId": "7785414d-abe2-4511-851e-293b048bbe9b"
      },
      "source": [
        "np.random.randint(0, 100, (2, 3))"
      ],
      "execution_count": null,
      "outputs": [
        {
          "output_type": "execute_result",
          "data": {
            "text/plain": [
              "array([[53, 20, 38],\n",
              "       [65, 42, 33]])"
            ]
          },
          "metadata": {
            "tags": []
          },
          "execution_count": 36
        }
      ]
    },
    {
      "cell_type": "code",
      "metadata": {
        "id": "jXlwR9JbfdmT",
        "colab": {
          "base_uri": "https://localhost:8080/"
        },
        "outputId": "7dcfb72d-573e-407c-930b-8097fcb88d09"
      },
      "source": [
        "np.arange(7, 71, 7)"
      ],
      "execution_count": null,
      "outputs": [
        {
          "output_type": "execute_result",
          "data": {
            "text/plain": [
              "array([ 7, 14, 21, 28, 35, 42, 49, 56, 63, 70])"
            ]
          },
          "metadata": {
            "tags": []
          },
          "execution_count": 37
        }
      ]
    },
    {
      "cell_type": "code",
      "metadata": {
        "id": "X9xL5fSRf0D4",
        "colab": {
          "base_uri": "https://localhost:8080/"
        },
        "outputId": "33c9035c-fbf4-4213-a951-0e9ddffc70e6"
      },
      "source": [
        "np.linspace(7, 70, 10)"
      ],
      "execution_count": null,
      "outputs": [
        {
          "output_type": "execute_result",
          "data": {
            "text/plain": [
              "array([ 7., 14., 21., 28., 35., 42., 49., 56., 63., 70.])"
            ]
          },
          "metadata": {
            "tags": []
          },
          "execution_count": 38
        }
      ]
    },
    {
      "cell_type": "code",
      "metadata": {
        "id": "sSvzx7sAf_4O",
        "colab": {
          "base_uri": "https://localhost:8080/"
        },
        "outputId": "9dd91dbe-52ab-44b4-fd34-0ac0fb74ed11"
      },
      "source": [
        "np.array([True, False, True, True])"
      ],
      "execution_count": null,
      "outputs": [
        {
          "output_type": "execute_result",
          "data": {
            "text/plain": [
              "array([ True, False,  True,  True])"
            ]
          },
          "metadata": {
            "tags": []
          },
          "execution_count": 39
        }
      ]
    },
    {
      "cell_type": "code",
      "metadata": {
        "id": "RFpSPRFWgIqy"
      },
      "source": [
        "str_arr = np.array(['1.4', '2.1', '1.1'])"
      ],
      "execution_count": null,
      "outputs": []
    },
    {
      "cell_type": "code",
      "metadata": {
        "id": "kZGLBBIQgNwu"
      },
      "source": [
        "arr = np.array(str_arr, dtype='float')"
      ],
      "execution_count": null,
      "outputs": []
    },
    {
      "cell_type": "code",
      "metadata": {
        "id": "TiadxxuigdAb",
        "colab": {
          "base_uri": "https://localhost:8080/"
        },
        "outputId": "03db2168-7b02-41cc-bcaf-f373ef3727bd"
      },
      "source": [
        "arr"
      ],
      "execution_count": null,
      "outputs": [
        {
          "output_type": "execute_result",
          "data": {
            "text/plain": [
              "array([1.4, 2.1, 1.1])"
            ]
          },
          "metadata": {
            "tags": []
          },
          "execution_count": 42
        }
      ]
    },
    {
      "cell_type": "markdown",
      "metadata": {
        "id": "ok07o0hHhe0k"
      },
      "source": [
        "## indexing"
      ]
    },
    {
      "cell_type": "code",
      "metadata": {
        "id": "4VMwRGXfgfNL"
      },
      "source": [
        "arr3d = np.array([\n",
        "                  [\n",
        "                   [1, 2, 3],\n",
        "                   [4, 5, 6]\n",
        "                  ],\n",
        "                  [\n",
        "                   [7, 8, 9], \n",
        "                   [10, 11, 12]\n",
        "                  ]\n",
        "])"
      ],
      "execution_count": null,
      "outputs": []
    },
    {
      "cell_type": "code",
      "metadata": {
        "id": "ZxmkYyRvhi2r",
        "colab": {
          "base_uri": "https://localhost:8080/"
        },
        "outputId": "c0e0bf12-4006-4eab-8e67-3cfef98c5b24"
      },
      "source": [
        "print(arr3d)"
      ],
      "execution_count": null,
      "outputs": [
        {
          "output_type": "stream",
          "text": [
            "[[[ 1  2  3]\n",
            "  [ 4  5  6]]\n",
            "\n",
            " [[ 7  8  9]\n",
            "  [10 11 12]]]\n"
          ],
          "name": "stdout"
        }
      ]
    },
    {
      "cell_type": "code",
      "metadata": {
        "id": "1SBT8VOChkGi",
        "colab": {
          "base_uri": "https://localhost:8080/"
        },
        "outputId": "e56833b2-53eb-4858-a39e-fc26888d526c"
      },
      "source": [
        "arr3d[0, 0, 0]"
      ],
      "execution_count": null,
      "outputs": [
        {
          "output_type": "execute_result",
          "data": {
            "text/plain": [
              "1"
            ]
          },
          "metadata": {
            "tags": []
          },
          "execution_count": 45
        }
      ]
    },
    {
      "cell_type": "code",
      "metadata": {
        "id": "rE-cD0LPhrbJ",
        "colab": {
          "base_uri": "https://localhost:8080/"
        },
        "outputId": "2826dae3-f3da-44bd-f555-61d6707735ff"
      },
      "source": [
        "arr3d[1, 0, 2]"
      ],
      "execution_count": null,
      "outputs": [
        {
          "output_type": "execute_result",
          "data": {
            "text/plain": [
              "9"
            ]
          },
          "metadata": {
            "tags": []
          },
          "execution_count": 46
        }
      ]
    },
    {
      "cell_type": "code",
      "metadata": {
        "id": "mLFyHS7zht2J",
        "colab": {
          "base_uri": "https://localhost:8080/"
        },
        "outputId": "1b55a459-6657-4f69-ddd4-a587a08087fa"
      },
      "source": [
        "i = 1\n",
        "j = 0\n",
        "k = 2\n",
        "arr3d[i, j, k]"
      ],
      "execution_count": null,
      "outputs": [
        {
          "output_type": "execute_result",
          "data": {
            "text/plain": [
              "9"
            ]
          },
          "metadata": {
            "tags": []
          },
          "execution_count": 47
        }
      ]
    },
    {
      "cell_type": "code",
      "metadata": {
        "id": "XmLT4eulh0aH",
        "colab": {
          "base_uri": "https://localhost:8080/"
        },
        "outputId": "a2329e1a-1997-4571-89d7-f4a1650c5830"
      },
      "source": [
        "arr3d[1, :, :]"
      ],
      "execution_count": null,
      "outputs": [
        {
          "output_type": "execute_result",
          "data": {
            "text/plain": [
              "array([[ 7,  8,  9],\n",
              "       [10, 11, 12]])"
            ]
          },
          "metadata": {
            "tags": []
          },
          "execution_count": 48
        }
      ]
    },
    {
      "cell_type": "code",
      "metadata": {
        "id": "VnlCRvchh5pU",
        "colab": {
          "base_uri": "https://localhost:8080/"
        },
        "outputId": "4402f41c-b4dd-4483-f179-7efd4c51035e"
      },
      "source": [
        "arr3d[:, 1, :]"
      ],
      "execution_count": null,
      "outputs": [
        {
          "output_type": "execute_result",
          "data": {
            "text/plain": [
              "array([[ 4,  5,  6],\n",
              "       [10, 11, 12]])"
            ]
          },
          "metadata": {
            "tags": []
          },
          "execution_count": 49
        }
      ]
    },
    {
      "cell_type": "code",
      "metadata": {
        "id": "CpWBFasIh91a",
        "colab": {
          "base_uri": "https://localhost:8080/"
        },
        "outputId": "b5b1f500-4723-4e48-d46d-812d011cf071"
      },
      "source": [
        "arr3d[:, :, 0:2]"
      ],
      "execution_count": null,
      "outputs": [
        {
          "output_type": "execute_result",
          "data": {
            "text/plain": [
              "array([[[ 1,  2],\n",
              "        [ 4,  5]],\n",
              "\n",
              "       [[ 7,  8],\n",
              "        [10, 11]]])"
            ]
          },
          "metadata": {
            "tags": []
          },
          "execution_count": 50
        }
      ]
    },
    {
      "cell_type": "code",
      "metadata": {
        "id": "JB1yfo7LiG8U",
        "colab": {
          "base_uri": "https://localhost:8080/"
        },
        "outputId": "a097e105-18a3-46cc-b04d-09fca54bbdaf"
      },
      "source": [
        "arr3d % 2 == 0"
      ],
      "execution_count": null,
      "outputs": [
        {
          "output_type": "execute_result",
          "data": {
            "text/plain": [
              "array([[[False,  True, False],\n",
              "        [ True, False,  True]],\n",
              "\n",
              "       [[False,  True, False],\n",
              "        [ True, False,  True]]])"
            ]
          },
          "metadata": {
            "tags": []
          },
          "execution_count": 51
        }
      ]
    },
    {
      "cell_type": "code",
      "metadata": {
        "id": "nZItXOJTidcC",
        "colab": {
          "base_uri": "https://localhost:8080/"
        },
        "outputId": "5b0b3575-11ba-4b0b-8aac-0188f66ca50c"
      },
      "source": [
        "arr3d[arr3d % 2 == 1]"
      ],
      "execution_count": null,
      "outputs": [
        {
          "output_type": "execute_result",
          "data": {
            "text/plain": [
              "array([ 1,  3,  5,  7,  9, 11])"
            ]
          },
          "metadata": {
            "tags": []
          },
          "execution_count": 52
        }
      ]
    },
    {
      "cell_type": "code",
      "metadata": {
        "id": "UUMa3DzGisvm",
        "colab": {
          "base_uri": "https://localhost:8080/"
        },
        "outputId": "1308ac25-1572-49a6-8511-e56aff19cd1c"
      },
      "source": [
        "arr3d[(arr3d % 2 == 1) & (arr3d > 3)]"
      ],
      "execution_count": null,
      "outputs": [
        {
          "output_type": "execute_result",
          "data": {
            "text/plain": [
              "array([ 5,  7,  9, 11])"
            ]
          },
          "metadata": {
            "tags": []
          },
          "execution_count": 53
        }
      ]
    },
    {
      "cell_type": "code",
      "metadata": {
        "id": "sNpho7Fii71I"
      },
      "source": [
        "arr_slice = arr3d[:, :, 0:2]"
      ],
      "execution_count": null,
      "outputs": []
    },
    {
      "cell_type": "code",
      "metadata": {
        "id": "e0tImPWtjKZq",
        "colab": {
          "base_uri": "https://localhost:8080/"
        },
        "outputId": "1e224371-44da-4aa7-90d2-0ecc8fdf9619"
      },
      "source": [
        "print(type(arr_slice))"
      ],
      "execution_count": null,
      "outputs": [
        {
          "output_type": "stream",
          "text": [
            "<class 'numpy.ndarray'>\n"
          ],
          "name": "stdout"
        }
      ]
    },
    {
      "cell_type": "code",
      "metadata": {
        "id": "wW8qbXG3jMz_",
        "colab": {
          "base_uri": "https://localhost:8080/"
        },
        "outputId": "5a8c67f5-c2ad-468b-a6d1-8cbce3ce6592"
      },
      "source": [
        "arr_slice.ndim"
      ],
      "execution_count": null,
      "outputs": [
        {
          "output_type": "execute_result",
          "data": {
            "text/plain": [
              "3"
            ]
          },
          "metadata": {
            "tags": []
          },
          "execution_count": 56
        }
      ]
    },
    {
      "cell_type": "code",
      "metadata": {
        "id": "vPihxiG5jOlq",
        "colab": {
          "base_uri": "https://localhost:8080/"
        },
        "outputId": "3cfcce12-4d06-47f4-f9d9-3cbf76ace418"
      },
      "source": [
        "arr_slice.shape"
      ],
      "execution_count": null,
      "outputs": [
        {
          "output_type": "execute_result",
          "data": {
            "text/plain": [
              "(2, 2, 2)"
            ]
          },
          "metadata": {
            "tags": []
          },
          "execution_count": 57
        }
      ]
    },
    {
      "cell_type": "code",
      "metadata": {
        "id": "zaHMiAmjjPxs",
        "colab": {
          "base_uri": "https://localhost:8080/"
        },
        "outputId": "7cfddbbf-d1e6-4cde-9628-a29dbbf0da1b"
      },
      "source": [
        "arr_slice[0, 0, 1]"
      ],
      "execution_count": null,
      "outputs": [
        {
          "output_type": "execute_result",
          "data": {
            "text/plain": [
              "2"
            ]
          },
          "metadata": {
            "tags": []
          },
          "execution_count": 58
        }
      ]
    },
    {
      "cell_type": "code",
      "metadata": {
        "id": "eTlgT-ACjTRu"
      },
      "source": [
        "arr_slice[0, 0, 0] = 1729"
      ],
      "execution_count": null,
      "outputs": []
    },
    {
      "cell_type": "code",
      "metadata": {
        "id": "mDHn_xdUjYfM",
        "colab": {
          "base_uri": "https://localhost:8080/"
        },
        "outputId": "fa256491-ee50-42d3-bcd4-7c8b0b2d9d94"
      },
      "source": [
        "arr_slice"
      ],
      "execution_count": null,
      "outputs": [
        {
          "output_type": "execute_result",
          "data": {
            "text/plain": [
              "array([[[1729,    2],\n",
              "        [   4,    5]],\n",
              "\n",
              "       [[   7,    8],\n",
              "        [  10,   11]]])"
            ]
          },
          "metadata": {
            "tags": []
          },
          "execution_count": 60
        }
      ]
    },
    {
      "cell_type": "code",
      "metadata": {
        "id": "OGxEtXe6jZPu",
        "colab": {
          "base_uri": "https://localhost:8080/"
        },
        "outputId": "d5717b5e-3c00-4a38-e69b-ce615d32ecd6"
      },
      "source": [
        "arr3d"
      ],
      "execution_count": null,
      "outputs": [
        {
          "output_type": "execute_result",
          "data": {
            "text/plain": [
              "array([[[1729,    2,    3],\n",
              "        [   4,    5,    6]],\n",
              "\n",
              "       [[   7,    8,    9],\n",
              "        [  10,   11,   12]]])"
            ]
          },
          "metadata": {
            "tags": []
          },
          "execution_count": 61
        }
      ]
    },
    {
      "cell_type": "code",
      "metadata": {
        "id": "zrZaEpZLjdna"
      },
      "source": [
        "arr_slice = np.copy(arr3d[:, :, 0:2])"
      ],
      "execution_count": null,
      "outputs": []
    },
    {
      "cell_type": "code",
      "metadata": {
        "id": "0sID_b9bjtIy"
      },
      "source": [
        "arr_slice[0, 0, 0] = 1"
      ],
      "execution_count": null,
      "outputs": []
    },
    {
      "cell_type": "code",
      "metadata": {
        "id": "LcjLIsrijvUn",
        "colab": {
          "base_uri": "https://localhost:8080/"
        },
        "outputId": "e6d70986-8259-4009-e996-11e619d00720"
      },
      "source": [
        "arr_slice"
      ],
      "execution_count": null,
      "outputs": [
        {
          "output_type": "execute_result",
          "data": {
            "text/plain": [
              "array([[[ 1,  2],\n",
              "        [ 4,  5]],\n",
              "\n",
              "       [[ 7,  8],\n",
              "        [10, 11]]])"
            ]
          },
          "metadata": {
            "tags": []
          },
          "execution_count": 64
        }
      ]
    },
    {
      "cell_type": "code",
      "metadata": {
        "id": "zrGt18rdjwIh",
        "colab": {
          "base_uri": "https://localhost:8080/"
        },
        "outputId": "94469eef-6690-4842-9b52-703486134c57"
      },
      "source": [
        "arr3d"
      ],
      "execution_count": null,
      "outputs": [
        {
          "output_type": "execute_result",
          "data": {
            "text/plain": [
              "array([[[1729,    2,    3],\n",
              "        [   4,    5,    6]],\n",
              "\n",
              "       [[   7,    8,    9],\n",
              "        [  10,   11,   12]]])"
            ]
          },
          "metadata": {
            "tags": []
          },
          "execution_count": 65
        }
      ]
    },
    {
      "cell_type": "code",
      "metadata": {
        "id": "l5p33XQMjw43"
      },
      "source": [
        "arr = np.random.randint(0, 10, (5))"
      ],
      "execution_count": null,
      "outputs": []
    },
    {
      "cell_type": "code",
      "metadata": {
        "id": "ceBichNRj4k7",
        "colab": {
          "base_uri": "https://localhost:8080/"
        },
        "outputId": "c56da296-22dd-4efb-e88a-d6a9d1ad14a8"
      },
      "source": [
        "arr"
      ],
      "execution_count": null,
      "outputs": [
        {
          "output_type": "execute_result",
          "data": {
            "text/plain": [
              "array([0, 7, 2, 9, 1])"
            ]
          },
          "metadata": {
            "tags": []
          },
          "execution_count": 67
        }
      ]
    },
    {
      "cell_type": "code",
      "metadata": {
        "id": "E13t8SUBj5Vi"
      },
      "source": [
        "my_indices = [1, 3, 4]"
      ],
      "execution_count": null,
      "outputs": []
    },
    {
      "cell_type": "code",
      "metadata": {
        "id": "_iOe0XLPkBgw",
        "colab": {
          "base_uri": "https://localhost:8080/"
        },
        "outputId": "48d0627f-cada-4a3d-d31f-c52bf66fb1b2"
      },
      "source": [
        "arr[my_indices]"
      ],
      "execution_count": null,
      "outputs": [
        {
          "output_type": "execute_result",
          "data": {
            "text/plain": [
              "array([7, 9, 1])"
            ]
          },
          "metadata": {
            "tags": []
          },
          "execution_count": 69
        }
      ]
    },
    {
      "cell_type": "markdown",
      "metadata": {
        "id": "PDFmEbTwmJyr"
      },
      "source": [
        "# Numpy Operations"
      ]
    },
    {
      "cell_type": "code",
      "metadata": {
        "id": "wS4XMMZykCzn"
      },
      "source": [
        "arr1 = np.random.rand(3, 4)\n",
        "arr2 = np.random.rand(3, 4)"
      ],
      "execution_count": null,
      "outputs": []
    },
    {
      "cell_type": "code",
      "metadata": {
        "id": "DORY4pHZma5v",
        "colab": {
          "base_uri": "https://localhost:8080/"
        },
        "outputId": "567adb77-390f-46cc-a953-5417201ac31e"
      },
      "source": [
        "arr1"
      ],
      "execution_count": null,
      "outputs": [
        {
          "output_type": "execute_result",
          "data": {
            "text/plain": [
              "array([[0.78854751, 0.70360558, 0.58811947, 0.32484687],\n",
              "       [0.4895381 , 0.62269457, 0.33200135, 0.9013478 ],\n",
              "       [0.46561124, 0.40065009, 0.59415011, 0.81294339]])"
            ]
          },
          "metadata": {
            "tags": []
          },
          "execution_count": 71
        }
      ]
    },
    {
      "cell_type": "code",
      "metadata": {
        "id": "pPVyELXgmcTh",
        "colab": {
          "base_uri": "https://localhost:8080/"
        },
        "outputId": "bac639ba-4145-4166-e011-98d1517f525e"
      },
      "source": [
        "arr2"
      ],
      "execution_count": null,
      "outputs": [
        {
          "output_type": "execute_result",
          "data": {
            "text/plain": [
              "array([[0.31928384, 0.91910597, 0.45253699, 0.70849138],\n",
              "       [0.18198589, 0.45418381, 0.96828313, 0.11511807],\n",
              "       [0.83677645, 0.68553264, 0.88054629, 0.28740519]])"
            ]
          },
          "metadata": {
            "tags": []
          },
          "execution_count": 72
        }
      ]
    },
    {
      "cell_type": "code",
      "metadata": {
        "id": "xoPI0KEUmOIN",
        "colab": {
          "base_uri": "https://localhost:8080/"
        },
        "outputId": "7b007de7-8d12-40a5-b4ca-071a63567f9e"
      },
      "source": [
        "arr1 + arr2"
      ],
      "execution_count": null,
      "outputs": [
        {
          "output_type": "execute_result",
          "data": {
            "text/plain": [
              "array([[1.10783134, 1.62271155, 1.04065646, 1.03333826],\n",
              "       [0.67152398, 1.07687838, 1.30028448, 1.01646587],\n",
              "       [1.30238769, 1.08618273, 1.47469639, 1.10034858]])"
            ]
          },
          "metadata": {
            "tags": []
          },
          "execution_count": 73
        }
      ]
    },
    {
      "cell_type": "code",
      "metadata": {
        "id": "Nge4kKKzmUCa",
        "colab": {
          "base_uri": "https://localhost:8080/"
        },
        "outputId": "3a3957d5-ba3c-4324-b86e-15cff079900a"
      },
      "source": [
        "arr1 - arr2"
      ],
      "execution_count": null,
      "outputs": [
        {
          "output_type": "execute_result",
          "data": {
            "text/plain": [
              "array([[ 0.46926367, -0.2155004 ,  0.13558248, -0.38364451],\n",
              "       [ 0.30755221,  0.16851076, -0.63628178,  0.78622973],\n",
              "       [-0.37116522, -0.28488256, -0.28639618,  0.5255382 ]])"
            ]
          },
          "metadata": {
            "tags": []
          },
          "execution_count": 74
        }
      ]
    },
    {
      "cell_type": "code",
      "metadata": {
        "id": "yqwgwhAlmgiC",
        "colab": {
          "base_uri": "https://localhost:8080/"
        },
        "outputId": "40a05298-d5a5-43a5-9348-029d171d53ca"
      },
      "source": [
        "arr1 * arr2"
      ],
      "execution_count": null,
      "outputs": [
        {
          "output_type": "execute_result",
          "data": {
            "text/plain": [
              "array([[0.25177047, 0.64668808, 0.26614581, 0.23015121],\n",
              "       [0.08908902, 0.28281779, 0.3214713 , 0.10376142],\n",
              "       [0.38961252, 0.27465871, 0.52317667, 0.23364415]])"
            ]
          },
          "metadata": {
            "tags": []
          },
          "execution_count": 75
        }
      ]
    },
    {
      "cell_type": "code",
      "metadata": {
        "id": "C_o4c5b7mhs2",
        "colab": {
          "base_uri": "https://localhost:8080/"
        },
        "outputId": "f2212429-cc1f-406b-c230-c35ddb042c17"
      },
      "source": [
        "arr1 / arr2"
      ],
      "execution_count": null,
      "outputs": [
        {
          "output_type": "execute_result",
          "data": {
            "text/plain": [
              "array([[2.46973825, 0.76553259, 1.29960529, 0.45850505],\n",
              "       [2.68997834, 1.37101887, 0.34287631, 7.82976809],\n",
              "       [0.55643444, 0.58443619, 0.67475171, 2.82856197]])"
            ]
          },
          "metadata": {
            "tags": []
          },
          "execution_count": 76
        }
      ]
    },
    {
      "cell_type": "code",
      "metadata": {
        "id": "5girn41lmiz5",
        "colab": {
          "base_uri": "https://localhost:8080/"
        },
        "outputId": "16b55381-c634-4fc3-94c4-12f9933ba16c"
      },
      "source": [
        "np.exp(arr1)"
      ],
      "execution_count": null,
      "outputs": [
        {
          "output_type": "execute_result",
          "data": {
            "text/plain": [
              "array([[2.20019833, 2.02102655, 1.80059914, 1.38381873],\n",
              "       [1.63156242, 1.86394381, 1.39375473, 2.46292039],\n",
              "       [1.59298758, 1.49279483, 1.81149072, 2.2545342 ]])"
            ]
          },
          "metadata": {
            "tags": []
          },
          "execution_count": 77
        }
      ]
    },
    {
      "cell_type": "code",
      "metadata": {
        "id": "CYMOIqXvmm1E",
        "colab": {
          "base_uri": "https://localhost:8080/"
        },
        "outputId": "f4f86807-b911-45e2-d761-d8e0bb774d7b"
      },
      "source": [
        "np.log(np.exp(arr1))"
      ],
      "execution_count": null,
      "outputs": [
        {
          "output_type": "execute_result",
          "data": {
            "text/plain": [
              "array([[0.78854751, 0.70360558, 0.58811947, 0.32484687],\n",
              "       [0.4895381 , 0.62269457, 0.33200135, 0.9013478 ],\n",
              "       [0.46561124, 0.40065009, 0.59415011, 0.81294339]])"
            ]
          },
          "metadata": {
            "tags": []
          },
          "execution_count": 78
        }
      ]
    },
    {
      "cell_type": "code",
      "metadata": {
        "id": "V5rtJRhhmq5k",
        "colab": {
          "base_uri": "https://localhost:8080/"
        },
        "outputId": "1be7d7a9-1537-4a5d-dc6b-877bb5e896b9"
      },
      "source": [
        "np.sin(arr1)"
      ],
      "execution_count": null,
      "outputs": [
        {
          "output_type": "execute_result",
          "data": {
            "text/plain": [
              "array([[0.70933019, 0.64697119, 0.55479743, 0.31916367],\n",
              "       [0.47021828, 0.5832261 , 0.32593574, 0.784164  ],\n",
              "       [0.44896905, 0.39001703, 0.55980472, 0.72631349]])"
            ]
          },
          "metadata": {
            "tags": []
          },
          "execution_count": 79
        }
      ]
    },
    {
      "cell_type": "code",
      "metadata": {
        "id": "haio7RijmyCA",
        "colab": {
          "base_uri": "https://localhost:8080/"
        },
        "outputId": "7f32ea3a-a20b-4eaf-f2ee-50328fdfc6ea"
      },
      "source": [
        "np.cos(arr1)"
      ],
      "execution_count": null,
      "outputs": [
        {
          "output_type": "execute_result",
          "data": {
            "text/plain": [
              "array([[0.70487636, 0.76251445, 0.83198546, 0.94769961],\n",
              "       [0.88255015, 0.81230986, 0.94539193, 0.62055364],\n",
              "       [0.89354731, 0.92080764, 0.82862457, 0.68736359]])"
            ]
          },
          "metadata": {
            "tags": []
          },
          "execution_count": 80
        }
      ]
    },
    {
      "cell_type": "code",
      "metadata": {
        "id": "XB5NNm2SmzKo",
        "colab": {
          "base_uri": "https://localhost:8080/"
        },
        "outputId": "48610c67-894a-4ff9-9fb3-2e449179f0ce"
      },
      "source": [
        "np.sqrt(arr1)"
      ],
      "execution_count": null,
      "outputs": [
        {
          "output_type": "execute_result",
          "data": {
            "text/plain": [
              "array([[0.88800197, 0.838812  , 0.76688947, 0.5699534 ],\n",
              "       [0.69966999, 0.78910999, 0.57619558, 0.94939338],\n",
              "       [0.68235712, 0.63296926, 0.77081133, 0.90163373]])"
            ]
          },
          "metadata": {
            "tags": []
          },
          "execution_count": 81
        }
      ]
    },
    {
      "cell_type": "code",
      "metadata": {
        "id": "PmATG2ONm2KE"
      },
      "source": [
        "arr_inv = 1 / arr1"
      ],
      "execution_count": null,
      "outputs": []
    },
    {
      "cell_type": "code",
      "metadata": {
        "id": "pZMKQOMEnCpu",
        "colab": {
          "base_uri": "https://localhost:8080/"
        },
        "outputId": "bbe00863-106c-4f95-916a-b2c7f9f86dc1"
      },
      "source": [
        "arr_inv"
      ],
      "execution_count": null,
      "outputs": [
        {
          "output_type": "execute_result",
          "data": {
            "text/plain": [
              "array([[1.26815441, 1.42125082, 1.70033481, 3.07837347],\n",
              "       [2.04274194, 1.60592375, 3.01203596, 1.10944965],\n",
              "       [2.14771449, 2.49594354, 1.68307635, 1.23009796]])"
            ]
          },
          "metadata": {
            "tags": []
          },
          "execution_count": 83
        }
      ]
    },
    {
      "cell_type": "code",
      "metadata": {
        "id": "lpgGtxC9nFDP"
      },
      "source": [
        "arr1 = np.zeros((3, 5))"
      ],
      "execution_count": null,
      "outputs": []
    },
    {
      "cell_type": "code",
      "metadata": {
        "id": "6XF8aFa-nG3O",
        "colab": {
          "base_uri": "https://localhost:8080/"
        },
        "outputId": "b030ccf1-429f-4be0-fee0-396b781ee764"
      },
      "source": [
        "arr_inv = 1/arr1"
      ],
      "execution_count": null,
      "outputs": [
        {
          "output_type": "stream",
          "text": [
            "/usr/local/lib/python3.6/dist-packages/ipykernel_launcher.py:1: RuntimeWarning: divide by zero encountered in true_divide\n",
            "  \"\"\"Entry point for launching an IPython kernel.\n"
          ],
          "name": "stderr"
        }
      ]
    },
    {
      "cell_type": "code",
      "metadata": {
        "id": "eJ1dg9DinJi3",
        "colab": {
          "base_uri": "https://localhost:8080/"
        },
        "outputId": "bfc3720f-053a-4c12-e9a4-44c78824d057"
      },
      "source": [
        "print(arr_inv)"
      ],
      "execution_count": null,
      "outputs": [
        {
          "output_type": "stream",
          "text": [
            "[[inf inf inf inf inf]\n",
            " [inf inf inf inf inf]\n",
            " [inf inf inf inf inf]]\n"
          ],
          "name": "stdout"
        }
      ]
    },
    {
      "cell_type": "code",
      "metadata": {
        "id": "IyX2awRPnNPM",
        "colab": {
          "base_uri": "https://localhost:8080/"
        },
        "outputId": "8ab55220-6071-4446-da42-9bbf556d68ad"
      },
      "source": [
        "np.isinf(arr_inv[0,0])"
      ],
      "execution_count": null,
      "outputs": [
        {
          "output_type": "execute_result",
          "data": {
            "text/plain": [
              "True"
            ]
          },
          "metadata": {
            "tags": []
          },
          "execution_count": 87
        }
      ]
    },
    {
      "cell_type": "code",
      "metadata": {
        "id": "Ty_C2cOznVh2",
        "colab": {
          "base_uri": "https://localhost:8080/"
        },
        "outputId": "a3b16e64-2343-41ab-d921-a56d216912d4"
      },
      "source": [
        "np.isinf(arr_inv)"
      ],
      "execution_count": null,
      "outputs": [
        {
          "output_type": "execute_result",
          "data": {
            "text/plain": [
              "array([[ True,  True,  True,  True,  True],\n",
              "       [ True,  True,  True,  True,  True],\n",
              "       [ True,  True,  True,  True,  True]])"
            ]
          },
          "metadata": {
            "tags": []
          },
          "execution_count": 88
        }
      ]
    },
    {
      "cell_type": "markdown",
      "metadata": {
        "id": "xPFrKz2xuH5K"
      },
      "source": [
        "# Broadcasting"
      ]
    },
    {
      "cell_type": "code",
      "metadata": {
        "id": "AqW-zutVsaGD"
      },
      "source": [
        "arr1 = np.arange(6)"
      ],
      "execution_count": null,
      "outputs": []
    },
    {
      "cell_type": "code",
      "metadata": {
        "id": "sqt31ffwuLr1",
        "colab": {
          "base_uri": "https://localhost:8080/"
        },
        "outputId": "3f7234d3-ff54-4335-c366-360e031bcf68"
      },
      "source": [
        "arr1.shape"
      ],
      "execution_count": null,
      "outputs": [
        {
          "output_type": "execute_result",
          "data": {
            "text/plain": [
              "(6,)"
            ]
          },
          "metadata": {
            "tags": []
          },
          "execution_count": 90
        }
      ]
    },
    {
      "cell_type": "code",
      "metadata": {
        "id": "egWan3VuuOg1",
        "colab": {
          "base_uri": "https://localhost:8080/"
        },
        "outputId": "365b4db4-c955-488f-bff3-93938b3f247e"
      },
      "source": [
        "arr1"
      ],
      "execution_count": null,
      "outputs": [
        {
          "output_type": "execute_result",
          "data": {
            "text/plain": [
              "array([0, 1, 2, 3, 4, 5])"
            ]
          },
          "metadata": {
            "tags": []
          },
          "execution_count": 91
        }
      ]
    },
    {
      "cell_type": "code",
      "metadata": {
        "id": "Xi38O_2kuQr1"
      },
      "source": [
        "arr1 = arr1.reshape((3, 2))"
      ],
      "execution_count": null,
      "outputs": []
    },
    {
      "cell_type": "code",
      "metadata": {
        "id": "vL10s1A9uVWe",
        "colab": {
          "base_uri": "https://localhost:8080/"
        },
        "outputId": "ddcf903d-dda0-4915-a093-d62e7443880a"
      },
      "source": [
        "arr1.shape"
      ],
      "execution_count": null,
      "outputs": [
        {
          "output_type": "execute_result",
          "data": {
            "text/plain": [
              "(3, 2)"
            ]
          },
          "metadata": {
            "tags": []
          },
          "execution_count": 93
        }
      ]
    },
    {
      "cell_type": "code",
      "metadata": {
        "id": "_f1rCnWcuWyl",
        "colab": {
          "base_uri": "https://localhost:8080/"
        },
        "outputId": "048dab31-20ef-431e-92a3-b41d8ed18263"
      },
      "source": [
        "arr1"
      ],
      "execution_count": null,
      "outputs": [
        {
          "output_type": "execute_result",
          "data": {
            "text/plain": [
              "array([[0, 1],\n",
              "       [2, 3],\n",
              "       [4, 5]])"
            ]
          },
          "metadata": {
            "tags": []
          },
          "execution_count": 94
        }
      ]
    },
    {
      "cell_type": "code",
      "metadata": {
        "id": "IPPjvzAxuXei"
      },
      "source": [
        "arr2 = np.arange(6).reshape((3, 2))"
      ],
      "execution_count": null,
      "outputs": []
    },
    {
      "cell_type": "code",
      "metadata": {
        "id": "C-r2H2Sjuisn",
        "colab": {
          "base_uri": "https://localhost:8080/"
        },
        "outputId": "6c0f092e-82dd-48b6-f6de-2093998c6b24"
      },
      "source": [
        "arr1 + arr2"
      ],
      "execution_count": null,
      "outputs": [
        {
          "output_type": "execute_result",
          "data": {
            "text/plain": [
              "array([[ 0,  2],\n",
              "       [ 4,  6],\n",
              "       [ 8, 10]])"
            ]
          },
          "metadata": {
            "tags": []
          },
          "execution_count": 96
        }
      ]
    },
    {
      "cell_type": "code",
      "metadata": {
        "id": "9oi2bv4hukkP",
        "colab": {
          "base_uri": "https://localhost:8080/"
        },
        "outputId": "95159195-7c12-4805-c612-72c5e978b608"
      },
      "source": [
        "arr2[0].reshape((1, 2))"
      ],
      "execution_count": null,
      "outputs": [
        {
          "output_type": "execute_result",
          "data": {
            "text/plain": [
              "array([[0, 1]])"
            ]
          },
          "metadata": {
            "tags": []
          },
          "execution_count": 97
        }
      ]
    },
    {
      "cell_type": "code",
      "metadata": {
        "id": "Mh_OJr-buo_W",
        "colab": {
          "base_uri": "https://localhost:8080/"
        },
        "outputId": "cbfd61e8-cae6-4d68-a087-ddefe3c44074"
      },
      "source": [
        "arr1 + arr2[0].reshape((1, 2)) # (3, 2) + (1, 2)"
      ],
      "execution_count": null,
      "outputs": [
        {
          "output_type": "execute_result",
          "data": {
            "text/plain": [
              "array([[0, 2],\n",
              "       [2, 4],\n",
              "       [4, 6]])"
            ]
          },
          "metadata": {
            "tags": []
          },
          "execution_count": 98
        }
      ]
    },
    {
      "cell_type": "code",
      "metadata": {
        "id": "CjJhZVV0uvW1",
        "colab": {
          "base_uri": "https://localhost:8080/"
        },
        "outputId": "78b46886-c1c3-44e5-d3e5-96813d4857dd"
      },
      "source": [
        "arr2[:, 0].reshape((3, 1))"
      ],
      "execution_count": null,
      "outputs": [
        {
          "output_type": "execute_result",
          "data": {
            "text/plain": [
              "array([[0],\n",
              "       [2],\n",
              "       [4]])"
            ]
          },
          "metadata": {
            "tags": []
          },
          "execution_count": 99
        }
      ]
    },
    {
      "cell_type": "code",
      "metadata": {
        "id": "pi1IdIxvvBP5",
        "colab": {
          "base_uri": "https://localhost:8080/"
        },
        "outputId": "9bc1819e-a0a6-4ae0-d288-ea840f6bf7b9"
      },
      "source": [
        "arr1 + arr2[:, 0].reshape((3, 1)) # (3, 2) + (3, 1)"
      ],
      "execution_count": null,
      "outputs": [
        {
          "output_type": "execute_result",
          "data": {
            "text/plain": [
              "array([[0, 1],\n",
              "       [4, 5],\n",
              "       [8, 9]])"
            ]
          },
          "metadata": {
            "tags": []
          },
          "execution_count": 100
        }
      ]
    },
    {
      "cell_type": "code",
      "metadata": {
        "id": "7sbIPHp8vF9S",
        "colab": {
          "base_uri": "https://localhost:8080/"
        },
        "outputId": "aa619420-0379-4296-acbe-a276f35ccc02"
      },
      "source": [
        "arr1 + 1"
      ],
      "execution_count": null,
      "outputs": [
        {
          "output_type": "execute_result",
          "data": {
            "text/plain": [
              "array([[1, 2],\n",
              "       [3, 4],\n",
              "       [5, 6]])"
            ]
          },
          "metadata": {
            "tags": []
          },
          "execution_count": 101
        }
      ]
    },
    {
      "cell_type": "code",
      "metadata": {
        "id": "A227CltQvQbI"
      },
      "source": [
        "arr1 = np.arange(24).reshape((2, 3, 4))"
      ],
      "execution_count": null,
      "outputs": []
    },
    {
      "cell_type": "code",
      "metadata": {
        "id": "DiC-4h6uvXBa",
        "colab": {
          "base_uri": "https://localhost:8080/"
        },
        "outputId": "d5d22161-a45f-446c-954b-e71ae736e7d1"
      },
      "source": [
        "arr1"
      ],
      "execution_count": null,
      "outputs": [
        {
          "output_type": "execute_result",
          "data": {
            "text/plain": [
              "array([[[ 0,  1,  2,  3],\n",
              "        [ 4,  5,  6,  7],\n",
              "        [ 8,  9, 10, 11]],\n",
              "\n",
              "       [[12, 13, 14, 15],\n",
              "        [16, 17, 18, 19],\n",
              "        [20, 21, 22, 23]]])"
            ]
          },
          "metadata": {
            "tags": []
          },
          "execution_count": 103
        }
      ]
    },
    {
      "cell_type": "code",
      "metadata": {
        "id": "8Erkp9HFvXao"
      },
      "source": [
        "arr2 = np.ones((1, 4))"
      ],
      "execution_count": null,
      "outputs": []
    },
    {
      "cell_type": "code",
      "metadata": {
        "id": "2LtMmF9_vbqe",
        "colab": {
          "base_uri": "https://localhost:8080/"
        },
        "outputId": "5b6ccf5e-4952-4338-c4be-e7c73923eec4"
      },
      "source": [
        "arr1 + arr2   # (2, 3, 4) + (1, 4)"
      ],
      "execution_count": null,
      "outputs": [
        {
          "output_type": "execute_result",
          "data": {
            "text/plain": [
              "array([[[ 1.,  2.,  3.,  4.],\n",
              "        [ 5.,  6.,  7.,  8.],\n",
              "        [ 9., 10., 11., 12.]],\n",
              "\n",
              "       [[13., 14., 15., 16.],\n",
              "        [17., 18., 19., 20.],\n",
              "        [21., 22., 23., 24.]]])"
            ]
          },
          "metadata": {
            "tags": []
          },
          "execution_count": 105
        }
      ]
    },
    {
      "cell_type": "code",
      "metadata": {
        "id": "lUra2PQWvd-w"
      },
      "source": [
        "arr1 = np.arange(4)"
      ],
      "execution_count": null,
      "outputs": []
    },
    {
      "cell_type": "code",
      "metadata": {
        "id": "Z3B-NNfcvq8j"
      },
      "source": [
        "arr2 = np.arange(5)"
      ],
      "execution_count": null,
      "outputs": []
    },
    {
      "cell_type": "code",
      "metadata": {
        "id": "4tz_amtEvsAC",
        "colab": {
          "base_uri": "https://localhost:8080/"
        },
        "outputId": "11e4f591-93be-422e-ce8f-ef4f137fd4da"
      },
      "source": [
        "print(arr1.shape, arr2.shape)"
      ],
      "execution_count": null,
      "outputs": [
        {
          "output_type": "stream",
          "text": [
            "(4,) (5,)\n"
          ],
          "name": "stdout"
        }
      ]
    },
    {
      "cell_type": "code",
      "metadata": {
        "id": "MOuOt1knvtop",
        "colab": {
          "base_uri": "https://localhost:8080/",
          "height": 167
        },
        "outputId": "7c3a63a8-34f4-41b0-b5bd-15149d7b3f79"
      },
      "source": [
        "arr1 + arr2"
      ],
      "execution_count": null,
      "outputs": [
        {
          "output_type": "error",
          "ename": "ValueError",
          "evalue": "ignored",
          "traceback": [
            "\u001b[0;31m---------------------------------------------------------------------------\u001b[0m",
            "\u001b[0;31mValueError\u001b[0m                                Traceback (most recent call last)",
            "\u001b[0;32m<ipython-input-109-d972d21b639e>\u001b[0m in \u001b[0;36m<module>\u001b[0;34m()\u001b[0m\n\u001b[0;32m----> 1\u001b[0;31m \u001b[0marr1\u001b[0m \u001b[0;34m+\u001b[0m \u001b[0marr2\u001b[0m\u001b[0;34m\u001b[0m\u001b[0;34m\u001b[0m\u001b[0m\n\u001b[0m",
            "\u001b[0;31mValueError\u001b[0m: operands could not be broadcast together with shapes (4,) (5,) "
          ]
        }
      ]
    },
    {
      "cell_type": "code",
      "metadata": {
        "id": "96hmWV1rvun3",
        "colab": {
          "base_uri": "https://localhost:8080/"
        },
        "outputId": "70fdab65-f6a7-4c87-9d61-57f3821641a1"
      },
      "source": [
        "arr1.reshape(4, 1) + arr2  # (4, 1) + (5)"
      ],
      "execution_count": null,
      "outputs": [
        {
          "output_type": "execute_result",
          "data": {
            "text/plain": [
              "array([[0, 1, 2, 3, 4],\n",
              "       [1, 2, 3, 4, 5],\n",
              "       [2, 3, 4, 5, 6],\n",
              "       [3, 4, 5, 6, 7]])"
            ]
          },
          "metadata": {
            "tags": []
          },
          "execution_count": 110
        }
      ]
    },
    {
      "cell_type": "code",
      "metadata": {
        "id": "KuXYtTzFv5jX"
      },
      "source": [
        "arr = np.random.rand(3, 3)"
      ],
      "execution_count": null,
      "outputs": []
    },
    {
      "cell_type": "code",
      "metadata": {
        "id": "1tDchCAZwEqA",
        "colab": {
          "base_uri": "https://localhost:8080/"
        },
        "outputId": "03251eb5-3334-40c2-e9ed-579bbb577307"
      },
      "source": [
        "arr"
      ],
      "execution_count": null,
      "outputs": [
        {
          "output_type": "execute_result",
          "data": {
            "text/plain": [
              "array([[0.13825404, 0.03231461, 0.57981765],\n",
              "       [0.1494115 , 0.08173225, 0.33632277],\n",
              "       [0.53993937, 0.84939136, 0.31404205]])"
            ]
          },
          "metadata": {
            "tags": []
          },
          "execution_count": 112
        }
      ]
    },
    {
      "cell_type": "code",
      "metadata": {
        "id": "d8Z9SZFkwL8p",
        "colab": {
          "base_uri": "https://localhost:8080/"
        },
        "outputId": "4db3d221-a2c1-4f30-86dc-edbe8d836578"
      },
      "source": [
        "arr.T"
      ],
      "execution_count": null,
      "outputs": [
        {
          "output_type": "execute_result",
          "data": {
            "text/plain": [
              "array([[0.13825404, 0.1494115 , 0.53993937],\n",
              "       [0.03231461, 0.08173225, 0.84939136],\n",
              "       [0.57981765, 0.33632277, 0.31404205]])"
            ]
          },
          "metadata": {
            "tags": []
          },
          "execution_count": 113
        }
      ]
    },
    {
      "cell_type": "markdown",
      "metadata": {
        "id": "sdv4it47xrkx"
      },
      "source": [
        "# File handling"
      ]
    },
    {
      "cell_type": "code",
      "metadata": {
        "id": "ppMyzFy8wMlv",
        "colab": {
          "base_uri": "https://localhost:8080/",
          "height": 314
        },
        "outputId": "e3d288d2-0f4d-4010-f681-82e166c7fba2"
      },
      "source": [
        "planets_small = np.loadtxt(\"planets_small.txt\")"
      ],
      "execution_count": null,
      "outputs": [
        {
          "output_type": "error",
          "ename": "ValueError",
          "evalue": "ignored",
          "traceback": [
            "\u001b[0;31m---------------------------------------------------------------------------\u001b[0m",
            "\u001b[0;31mValueError\u001b[0m                                Traceback (most recent call last)",
            "\u001b[0;32m<ipython-input-115-6f92f0fddb44>\u001b[0m in \u001b[0;36m<module>\u001b[0;34m()\u001b[0m\n\u001b[0;32m----> 1\u001b[0;31m \u001b[0mplanets_small\u001b[0m \u001b[0;34m=\u001b[0m \u001b[0mnp\u001b[0m\u001b[0;34m.\u001b[0m\u001b[0mloadtxt\u001b[0m\u001b[0;34m(\u001b[0m\u001b[0;34m\"planets_small.txt\"\u001b[0m\u001b[0;34m)\u001b[0m\u001b[0;34m\u001b[0m\u001b[0;34m\u001b[0m\u001b[0m\n\u001b[0m",
            "\u001b[0;32m/usr/local/lib/python3.6/dist-packages/numpy/lib/npyio.py\u001b[0m in \u001b[0;36mloadtxt\u001b[0;34m(fname, dtype, comments, delimiter, converters, skiprows, usecols, unpack, ndmin, encoding, max_rows)\u001b[0m\n\u001b[1;32m   1137\u001b[0m         \u001b[0;31m# converting the data\u001b[0m\u001b[0;34m\u001b[0m\u001b[0;34m\u001b[0m\u001b[0;34m\u001b[0m\u001b[0m\n\u001b[1;32m   1138\u001b[0m         \u001b[0mX\u001b[0m \u001b[0;34m=\u001b[0m \u001b[0;32mNone\u001b[0m\u001b[0;34m\u001b[0m\u001b[0;34m\u001b[0m\u001b[0m\n\u001b[0;32m-> 1139\u001b[0;31m         \u001b[0;32mfor\u001b[0m \u001b[0mx\u001b[0m \u001b[0;32min\u001b[0m \u001b[0mread_data\u001b[0m\u001b[0;34m(\u001b[0m\u001b[0m_loadtxt_chunksize\u001b[0m\u001b[0;34m)\u001b[0m\u001b[0;34m:\u001b[0m\u001b[0;34m\u001b[0m\u001b[0;34m\u001b[0m\u001b[0m\n\u001b[0m\u001b[1;32m   1140\u001b[0m             \u001b[0;32mif\u001b[0m \u001b[0mX\u001b[0m \u001b[0;32mis\u001b[0m \u001b[0;32mNone\u001b[0m\u001b[0;34m:\u001b[0m\u001b[0;34m\u001b[0m\u001b[0;34m\u001b[0m\u001b[0m\n\u001b[1;32m   1141\u001b[0m                 \u001b[0mX\u001b[0m \u001b[0;34m=\u001b[0m \u001b[0mnp\u001b[0m\u001b[0;34m.\u001b[0m\u001b[0marray\u001b[0m\u001b[0;34m(\u001b[0m\u001b[0mx\u001b[0m\u001b[0;34m,\u001b[0m \u001b[0mdtype\u001b[0m\u001b[0;34m)\u001b[0m\u001b[0;34m\u001b[0m\u001b[0;34m\u001b[0m\u001b[0m\n",
            "\u001b[0;32m/usr/local/lib/python3.6/dist-packages/numpy/lib/npyio.py\u001b[0m in \u001b[0;36mread_data\u001b[0;34m(chunk_size)\u001b[0m\n\u001b[1;32m   1065\u001b[0m \u001b[0;34m\u001b[0m\u001b[0m\n\u001b[1;32m   1066\u001b[0m             \u001b[0;31m# Convert each value according to its column and store\u001b[0m\u001b[0;34m\u001b[0m\u001b[0;34m\u001b[0m\u001b[0;34m\u001b[0m\u001b[0m\n\u001b[0;32m-> 1067\u001b[0;31m             \u001b[0mitems\u001b[0m \u001b[0;34m=\u001b[0m \u001b[0;34m[\u001b[0m\u001b[0mconv\u001b[0m\u001b[0;34m(\u001b[0m\u001b[0mval\u001b[0m\u001b[0;34m)\u001b[0m \u001b[0;32mfor\u001b[0m \u001b[0;34m(\u001b[0m\u001b[0mconv\u001b[0m\u001b[0;34m,\u001b[0m \u001b[0mval\u001b[0m\u001b[0;34m)\u001b[0m \u001b[0;32min\u001b[0m \u001b[0mzip\u001b[0m\u001b[0;34m(\u001b[0m\u001b[0mconverters\u001b[0m\u001b[0;34m,\u001b[0m \u001b[0mvals\u001b[0m\u001b[0;34m)\u001b[0m\u001b[0;34m]\u001b[0m\u001b[0;34m\u001b[0m\u001b[0;34m\u001b[0m\u001b[0m\n\u001b[0m\u001b[1;32m   1068\u001b[0m \u001b[0;34m\u001b[0m\u001b[0m\n\u001b[1;32m   1069\u001b[0m             \u001b[0;31m# Then pack it according to the dtype's nesting\u001b[0m\u001b[0;34m\u001b[0m\u001b[0;34m\u001b[0m\u001b[0;34m\u001b[0m\u001b[0m\n",
            "\u001b[0;32m/usr/local/lib/python3.6/dist-packages/numpy/lib/npyio.py\u001b[0m in \u001b[0;36m<listcomp>\u001b[0;34m(.0)\u001b[0m\n\u001b[1;32m   1065\u001b[0m \u001b[0;34m\u001b[0m\u001b[0m\n\u001b[1;32m   1066\u001b[0m             \u001b[0;31m# Convert each value according to its column and store\u001b[0m\u001b[0;34m\u001b[0m\u001b[0;34m\u001b[0m\u001b[0;34m\u001b[0m\u001b[0m\n\u001b[0;32m-> 1067\u001b[0;31m             \u001b[0mitems\u001b[0m \u001b[0;34m=\u001b[0m \u001b[0;34m[\u001b[0m\u001b[0mconv\u001b[0m\u001b[0;34m(\u001b[0m\u001b[0mval\u001b[0m\u001b[0;34m)\u001b[0m \u001b[0;32mfor\u001b[0m \u001b[0;34m(\u001b[0m\u001b[0mconv\u001b[0m\u001b[0;34m,\u001b[0m \u001b[0mval\u001b[0m\u001b[0;34m)\u001b[0m \u001b[0;32min\u001b[0m \u001b[0mzip\u001b[0m\u001b[0;34m(\u001b[0m\u001b[0mconverters\u001b[0m\u001b[0;34m,\u001b[0m \u001b[0mvals\u001b[0m\u001b[0;34m)\u001b[0m\u001b[0;34m]\u001b[0m\u001b[0;34m\u001b[0m\u001b[0;34m\u001b[0m\u001b[0m\n\u001b[0m\u001b[1;32m   1068\u001b[0m \u001b[0;34m\u001b[0m\u001b[0m\n\u001b[1;32m   1069\u001b[0m             \u001b[0;31m# Then pack it according to the dtype's nesting\u001b[0m\u001b[0;34m\u001b[0m\u001b[0;34m\u001b[0m\u001b[0;34m\u001b[0m\u001b[0m\n",
            "\u001b[0;32m/usr/local/lib/python3.6/dist-packages/numpy/lib/npyio.py\u001b[0m in \u001b[0;36mfloatconv\u001b[0;34m(x)\u001b[0m\n\u001b[1;32m    761\u001b[0m         \u001b[0;32mif\u001b[0m \u001b[0;34m'0x'\u001b[0m \u001b[0;32min\u001b[0m \u001b[0mx\u001b[0m\u001b[0;34m:\u001b[0m\u001b[0;34m\u001b[0m\u001b[0;34m\u001b[0m\u001b[0m\n\u001b[1;32m    762\u001b[0m             \u001b[0;32mreturn\u001b[0m \u001b[0mfloat\u001b[0m\u001b[0;34m.\u001b[0m\u001b[0mfromhex\u001b[0m\u001b[0;34m(\u001b[0m\u001b[0mx\u001b[0m\u001b[0;34m)\u001b[0m\u001b[0;34m\u001b[0m\u001b[0;34m\u001b[0m\u001b[0m\n\u001b[0;32m--> 763\u001b[0;31m         \u001b[0;32mreturn\u001b[0m \u001b[0mfloat\u001b[0m\u001b[0;34m(\u001b[0m\u001b[0mx\u001b[0m\u001b[0;34m)\u001b[0m\u001b[0;34m\u001b[0m\u001b[0;34m\u001b[0m\u001b[0m\n\u001b[0m\u001b[1;32m    764\u001b[0m \u001b[0;34m\u001b[0m\u001b[0m\n\u001b[1;32m    765\u001b[0m     \u001b[0mtyp\u001b[0m \u001b[0;34m=\u001b[0m \u001b[0mdtype\u001b[0m\u001b[0;34m.\u001b[0m\u001b[0mtype\u001b[0m\u001b[0;34m\u001b[0m\u001b[0;34m\u001b[0m\u001b[0m\n",
            "\u001b[0;31mValueError\u001b[0m: could not convert string to float: 'MERCURY'"
          ]
        }
      ]
    },
    {
      "cell_type": "code",
      "metadata": {
        "id": "b1mnLTjDyGus",
        "colab": {
          "base_uri": "https://localhost:8080/",
          "height": 331
        },
        "outputId": "1b7642a3-468c-4215-bb8e-07e05e639170"
      },
      "source": [
        "planets_small = np.loadtxt(\"planets_small.txt\", \n",
        "                           skiprows = 1)"
      ],
      "execution_count": null,
      "outputs": [
        {
          "output_type": "error",
          "ename": "ValueError",
          "evalue": "ignored",
          "traceback": [
            "\u001b[0;31m---------------------------------------------------------------------------\u001b[0m",
            "\u001b[0;31mValueError\u001b[0m                                Traceback (most recent call last)",
            "\u001b[0;32m<ipython-input-121-6454be431268>\u001b[0m in \u001b[0;36m<module>\u001b[0;34m()\u001b[0m\n\u001b[1;32m      1\u001b[0m planets_small = np.loadtxt(\"planets_small.txt\", \n\u001b[0;32m----> 2\u001b[0;31m                            skiprows = 1)\n\u001b[0m",
            "\u001b[0;32m/usr/local/lib/python3.6/dist-packages/numpy/lib/npyio.py\u001b[0m in \u001b[0;36mloadtxt\u001b[0;34m(fname, dtype, comments, delimiter, converters, skiprows, usecols, unpack, ndmin, encoding, max_rows)\u001b[0m\n\u001b[1;32m   1137\u001b[0m         \u001b[0;31m# converting the data\u001b[0m\u001b[0;34m\u001b[0m\u001b[0;34m\u001b[0m\u001b[0;34m\u001b[0m\u001b[0m\n\u001b[1;32m   1138\u001b[0m         \u001b[0mX\u001b[0m \u001b[0;34m=\u001b[0m \u001b[0;32mNone\u001b[0m\u001b[0;34m\u001b[0m\u001b[0;34m\u001b[0m\u001b[0m\n\u001b[0;32m-> 1139\u001b[0;31m         \u001b[0;32mfor\u001b[0m \u001b[0mx\u001b[0m \u001b[0;32min\u001b[0m \u001b[0mread_data\u001b[0m\u001b[0;34m(\u001b[0m\u001b[0m_loadtxt_chunksize\u001b[0m\u001b[0;34m)\u001b[0m\u001b[0;34m:\u001b[0m\u001b[0;34m\u001b[0m\u001b[0;34m\u001b[0m\u001b[0m\n\u001b[0m\u001b[1;32m   1140\u001b[0m             \u001b[0;32mif\u001b[0m \u001b[0mX\u001b[0m \u001b[0;32mis\u001b[0m \u001b[0;32mNone\u001b[0m\u001b[0;34m:\u001b[0m\u001b[0;34m\u001b[0m\u001b[0;34m\u001b[0m\u001b[0m\n\u001b[1;32m   1141\u001b[0m                 \u001b[0mX\u001b[0m \u001b[0;34m=\u001b[0m \u001b[0mnp\u001b[0m\u001b[0;34m.\u001b[0m\u001b[0marray\u001b[0m\u001b[0;34m(\u001b[0m\u001b[0mx\u001b[0m\u001b[0;34m,\u001b[0m \u001b[0mdtype\u001b[0m\u001b[0;34m)\u001b[0m\u001b[0;34m\u001b[0m\u001b[0;34m\u001b[0m\u001b[0m\n",
            "\u001b[0;32m/usr/local/lib/python3.6/dist-packages/numpy/lib/npyio.py\u001b[0m in \u001b[0;36mread_data\u001b[0;34m(chunk_size)\u001b[0m\n\u001b[1;32m   1065\u001b[0m \u001b[0;34m\u001b[0m\u001b[0m\n\u001b[1;32m   1066\u001b[0m             \u001b[0;31m# Convert each value according to its column and store\u001b[0m\u001b[0;34m\u001b[0m\u001b[0;34m\u001b[0m\u001b[0;34m\u001b[0m\u001b[0m\n\u001b[0;32m-> 1067\u001b[0;31m             \u001b[0mitems\u001b[0m \u001b[0;34m=\u001b[0m \u001b[0;34m[\u001b[0m\u001b[0mconv\u001b[0m\u001b[0;34m(\u001b[0m\u001b[0mval\u001b[0m\u001b[0;34m)\u001b[0m \u001b[0;32mfor\u001b[0m \u001b[0;34m(\u001b[0m\u001b[0mconv\u001b[0m\u001b[0;34m,\u001b[0m \u001b[0mval\u001b[0m\u001b[0;34m)\u001b[0m \u001b[0;32min\u001b[0m \u001b[0mzip\u001b[0m\u001b[0;34m(\u001b[0m\u001b[0mconverters\u001b[0m\u001b[0;34m,\u001b[0m \u001b[0mvals\u001b[0m\u001b[0;34m)\u001b[0m\u001b[0;34m]\u001b[0m\u001b[0;34m\u001b[0m\u001b[0;34m\u001b[0m\u001b[0m\n\u001b[0m\u001b[1;32m   1068\u001b[0m \u001b[0;34m\u001b[0m\u001b[0m\n\u001b[1;32m   1069\u001b[0m             \u001b[0;31m# Then pack it according to the dtype's nesting\u001b[0m\u001b[0;34m\u001b[0m\u001b[0;34m\u001b[0m\u001b[0;34m\u001b[0m\u001b[0m\n",
            "\u001b[0;32m/usr/local/lib/python3.6/dist-packages/numpy/lib/npyio.py\u001b[0m in \u001b[0;36m<listcomp>\u001b[0;34m(.0)\u001b[0m\n\u001b[1;32m   1065\u001b[0m \u001b[0;34m\u001b[0m\u001b[0m\n\u001b[1;32m   1066\u001b[0m             \u001b[0;31m# Convert each value according to its column and store\u001b[0m\u001b[0;34m\u001b[0m\u001b[0;34m\u001b[0m\u001b[0;34m\u001b[0m\u001b[0m\n\u001b[0;32m-> 1067\u001b[0;31m             \u001b[0mitems\u001b[0m \u001b[0;34m=\u001b[0m \u001b[0;34m[\u001b[0m\u001b[0mconv\u001b[0m\u001b[0;34m(\u001b[0m\u001b[0mval\u001b[0m\u001b[0;34m)\u001b[0m \u001b[0;32mfor\u001b[0m \u001b[0;34m(\u001b[0m\u001b[0mconv\u001b[0m\u001b[0;34m,\u001b[0m \u001b[0mval\u001b[0m\u001b[0;34m)\u001b[0m \u001b[0;32min\u001b[0m \u001b[0mzip\u001b[0m\u001b[0;34m(\u001b[0m\u001b[0mconverters\u001b[0m\u001b[0;34m,\u001b[0m \u001b[0mvals\u001b[0m\u001b[0;34m)\u001b[0m\u001b[0;34m]\u001b[0m\u001b[0;34m\u001b[0m\u001b[0;34m\u001b[0m\u001b[0m\n\u001b[0m\u001b[1;32m   1068\u001b[0m \u001b[0;34m\u001b[0m\u001b[0m\n\u001b[1;32m   1069\u001b[0m             \u001b[0;31m# Then pack it according to the dtype's nesting\u001b[0m\u001b[0;34m\u001b[0m\u001b[0;34m\u001b[0m\u001b[0;34m\u001b[0m\u001b[0m\n",
            "\u001b[0;32m/usr/local/lib/python3.6/dist-packages/numpy/lib/npyio.py\u001b[0m in \u001b[0;36mfloatconv\u001b[0;34m(x)\u001b[0m\n\u001b[1;32m    761\u001b[0m         \u001b[0;32mif\u001b[0m \u001b[0;34m'0x'\u001b[0m \u001b[0;32min\u001b[0m \u001b[0mx\u001b[0m\u001b[0;34m:\u001b[0m\u001b[0;34m\u001b[0m\u001b[0;34m\u001b[0m\u001b[0m\n\u001b[1;32m    762\u001b[0m             \u001b[0;32mreturn\u001b[0m \u001b[0mfloat\u001b[0m\u001b[0;34m.\u001b[0m\u001b[0mfromhex\u001b[0m\u001b[0;34m(\u001b[0m\u001b[0mx\u001b[0m\u001b[0;34m)\u001b[0m\u001b[0;34m\u001b[0m\u001b[0;34m\u001b[0m\u001b[0m\n\u001b[0;32m--> 763\u001b[0;31m         \u001b[0;32mreturn\u001b[0m \u001b[0mfloat\u001b[0m\u001b[0;34m(\u001b[0m\u001b[0mx\u001b[0m\u001b[0;34m)\u001b[0m\u001b[0;34m\u001b[0m\u001b[0;34m\u001b[0m\u001b[0m\n\u001b[0m\u001b[1;32m    764\u001b[0m \u001b[0;34m\u001b[0m\u001b[0m\n\u001b[1;32m    765\u001b[0m     \u001b[0mtyp\u001b[0m \u001b[0;34m=\u001b[0m \u001b[0mdtype\u001b[0m\u001b[0;34m.\u001b[0m\u001b[0mtype\u001b[0m\u001b[0;34m\u001b[0m\u001b[0;34m\u001b[0m\u001b[0m\n",
            "\u001b[0;31mValueError\u001b[0m: could not convert string to float: 'Mass'"
          ]
        }
      ]
    },
    {
      "cell_type": "code",
      "metadata": {
        "id": "IRLelnnkyN_H"
      },
      "source": [
        "planets_small = np.loadtxt(\"planets_small.txt\", \n",
        "                           skiprows = 1,\n",
        "                           usecols = (1, 2, 3, 4, 5, 6, 7, 8, 9))"
      ],
      "execution_count": null,
      "outputs": []
    },
    {
      "cell_type": "code",
      "metadata": {
        "id": "Jo4QP-nxydfF",
        "colab": {
          "base_uri": "https://localhost:8080/"
        },
        "outputId": "5f1ffad2-770a-4616-b56e-34ce672669b2"
      },
      "source": [
        "planets_small"
      ],
      "execution_count": null,
      "outputs": [
        {
          "output_type": "execute_result",
          "data": {
            "text/plain": [
              "array([[3.3000e-01, 4.8700e+00, 5.9700e+00, 6.4200e-01, 1.8980e+03,\n",
              "        5.6800e+02, 8.6800e+01, 1.0200e+02, 1.4600e-02],\n",
              "       [5.7900e+01, 1.0820e+02, 1.4960e+02, 2.2790e+02, 7.7860e+02,\n",
              "        1.4335e+03, 2.8725e+03, 4.4951e+03, 5.9064e+03],\n",
              "       [4.2226e+03, 2.8020e+03, 2.4000e+01, 2.4700e+01, 9.9000e+00,\n",
              "        1.0700e+01, 1.7200e+01, 1.6100e+01, 1.5330e+02]])"
            ]
          },
          "metadata": {
            "tags": []
          },
          "execution_count": 123
        }
      ]
    },
    {
      "cell_type": "code",
      "metadata": {
        "id": "WkOAVl0-yhh6",
        "colab": {
          "base_uri": "https://localhost:8080/"
        },
        "outputId": "2e7f1bc0-9d3c-4a2e-ad46-04c2a1d8ef4d"
      },
      "source": [
        "planets_small.shape"
      ],
      "execution_count": null,
      "outputs": [
        {
          "output_type": "execute_result",
          "data": {
            "text/plain": [
              "(3, 9)"
            ]
          },
          "metadata": {
            "tags": []
          },
          "execution_count": 124
        }
      ]
    },
    {
      "cell_type": "code",
      "metadata": {
        "id": "XaP-9AMpyjMr",
        "colab": {
          "base_uri": "https://localhost:8080/",
          "height": 349
        },
        "outputId": "fc9792bc-6dad-431c-ff6e-cabc84f31126"
      },
      "source": [
        "planets = np.loadtxt(\"planets.txt\", \n",
        "                           skiprows = 1,\n",
        "                           usecols = (1, 2, 3, 4, 5, 6, 7, 8, 9))"
      ],
      "execution_count": null,
      "outputs": [
        {
          "output_type": "error",
          "ename": "ValueError",
          "evalue": "ignored",
          "traceback": [
            "\u001b[0;31m---------------------------------------------------------------------------\u001b[0m",
            "\u001b[0;31mValueError\u001b[0m                                Traceback (most recent call last)",
            "\u001b[0;32m<ipython-input-128-a02f02f99111>\u001b[0m in \u001b[0;36m<module>\u001b[0;34m()\u001b[0m\n\u001b[1;32m      1\u001b[0m planets = np.loadtxt(\"planets.txt\", \n\u001b[1;32m      2\u001b[0m                            \u001b[0mskiprows\u001b[0m \u001b[0;34m=\u001b[0m \u001b[0;36m1\u001b[0m\u001b[0;34m,\u001b[0m\u001b[0;34m\u001b[0m\u001b[0;34m\u001b[0m\u001b[0m\n\u001b[0;32m----> 3\u001b[0;31m                            usecols = (1, 2, 3, 4, 5, 6, 7, 8, 9))\n\u001b[0m",
            "\u001b[0;32m/usr/local/lib/python3.6/dist-packages/numpy/lib/npyio.py\u001b[0m in \u001b[0;36mloadtxt\u001b[0;34m(fname, dtype, comments, delimiter, converters, skiprows, usecols, unpack, ndmin, encoding, max_rows)\u001b[0m\n\u001b[1;32m   1137\u001b[0m         \u001b[0;31m# converting the data\u001b[0m\u001b[0;34m\u001b[0m\u001b[0;34m\u001b[0m\u001b[0;34m\u001b[0m\u001b[0m\n\u001b[1;32m   1138\u001b[0m         \u001b[0mX\u001b[0m \u001b[0;34m=\u001b[0m \u001b[0;32mNone\u001b[0m\u001b[0;34m\u001b[0m\u001b[0;34m\u001b[0m\u001b[0m\n\u001b[0;32m-> 1139\u001b[0;31m         \u001b[0;32mfor\u001b[0m \u001b[0mx\u001b[0m \u001b[0;32min\u001b[0m \u001b[0mread_data\u001b[0m\u001b[0;34m(\u001b[0m\u001b[0m_loadtxt_chunksize\u001b[0m\u001b[0;34m)\u001b[0m\u001b[0;34m:\u001b[0m\u001b[0;34m\u001b[0m\u001b[0;34m\u001b[0m\u001b[0m\n\u001b[0m\u001b[1;32m   1140\u001b[0m             \u001b[0;32mif\u001b[0m \u001b[0mX\u001b[0m \u001b[0;32mis\u001b[0m \u001b[0;32mNone\u001b[0m\u001b[0;34m:\u001b[0m\u001b[0;34m\u001b[0m\u001b[0;34m\u001b[0m\u001b[0m\n\u001b[1;32m   1141\u001b[0m                 \u001b[0mX\u001b[0m \u001b[0;34m=\u001b[0m \u001b[0mnp\u001b[0m\u001b[0;34m.\u001b[0m\u001b[0marray\u001b[0m\u001b[0;34m(\u001b[0m\u001b[0mx\u001b[0m\u001b[0;34m,\u001b[0m \u001b[0mdtype\u001b[0m\u001b[0;34m)\u001b[0m\u001b[0;34m\u001b[0m\u001b[0;34m\u001b[0m\u001b[0m\n",
            "\u001b[0;32m/usr/local/lib/python3.6/dist-packages/numpy/lib/npyio.py\u001b[0m in \u001b[0;36mread_data\u001b[0;34m(chunk_size)\u001b[0m\n\u001b[1;32m   1065\u001b[0m \u001b[0;34m\u001b[0m\u001b[0m\n\u001b[1;32m   1066\u001b[0m             \u001b[0;31m# Convert each value according to its column and store\u001b[0m\u001b[0;34m\u001b[0m\u001b[0;34m\u001b[0m\u001b[0;34m\u001b[0m\u001b[0m\n\u001b[0;32m-> 1067\u001b[0;31m             \u001b[0mitems\u001b[0m \u001b[0;34m=\u001b[0m \u001b[0;34m[\u001b[0m\u001b[0mconv\u001b[0m\u001b[0;34m(\u001b[0m\u001b[0mval\u001b[0m\u001b[0;34m)\u001b[0m \u001b[0;32mfor\u001b[0m \u001b[0;34m(\u001b[0m\u001b[0mconv\u001b[0m\u001b[0;34m,\u001b[0m \u001b[0mval\u001b[0m\u001b[0;34m)\u001b[0m \u001b[0;32min\u001b[0m \u001b[0mzip\u001b[0m\u001b[0;34m(\u001b[0m\u001b[0mconverters\u001b[0m\u001b[0;34m,\u001b[0m \u001b[0mvals\u001b[0m\u001b[0;34m)\u001b[0m\u001b[0;34m]\u001b[0m\u001b[0;34m\u001b[0m\u001b[0;34m\u001b[0m\u001b[0m\n\u001b[0m\u001b[1;32m   1068\u001b[0m \u001b[0;34m\u001b[0m\u001b[0m\n\u001b[1;32m   1069\u001b[0m             \u001b[0;31m# Then pack it according to the dtype's nesting\u001b[0m\u001b[0;34m\u001b[0m\u001b[0;34m\u001b[0m\u001b[0;34m\u001b[0m\u001b[0m\n",
            "\u001b[0;32m/usr/local/lib/python3.6/dist-packages/numpy/lib/npyio.py\u001b[0m in \u001b[0;36m<listcomp>\u001b[0;34m(.0)\u001b[0m\n\u001b[1;32m   1065\u001b[0m \u001b[0;34m\u001b[0m\u001b[0m\n\u001b[1;32m   1066\u001b[0m             \u001b[0;31m# Convert each value according to its column and store\u001b[0m\u001b[0;34m\u001b[0m\u001b[0;34m\u001b[0m\u001b[0;34m\u001b[0m\u001b[0m\n\u001b[0;32m-> 1067\u001b[0;31m             \u001b[0mitems\u001b[0m \u001b[0;34m=\u001b[0m \u001b[0;34m[\u001b[0m\u001b[0mconv\u001b[0m\u001b[0;34m(\u001b[0m\u001b[0mval\u001b[0m\u001b[0;34m)\u001b[0m \u001b[0;32mfor\u001b[0m \u001b[0;34m(\u001b[0m\u001b[0mconv\u001b[0m\u001b[0;34m,\u001b[0m \u001b[0mval\u001b[0m\u001b[0;34m)\u001b[0m \u001b[0;32min\u001b[0m \u001b[0mzip\u001b[0m\u001b[0;34m(\u001b[0m\u001b[0mconverters\u001b[0m\u001b[0;34m,\u001b[0m \u001b[0mvals\u001b[0m\u001b[0;34m)\u001b[0m\u001b[0;34m]\u001b[0m\u001b[0;34m\u001b[0m\u001b[0;34m\u001b[0m\u001b[0m\n\u001b[0m\u001b[1;32m   1068\u001b[0m \u001b[0;34m\u001b[0m\u001b[0m\n\u001b[1;32m   1069\u001b[0m             \u001b[0;31m# Then pack it according to the dtype's nesting\u001b[0m\u001b[0;34m\u001b[0m\u001b[0;34m\u001b[0m\u001b[0;34m\u001b[0m\u001b[0m\n",
            "\u001b[0;32m/usr/local/lib/python3.6/dist-packages/numpy/lib/npyio.py\u001b[0m in \u001b[0;36mfloatconv\u001b[0;34m(x)\u001b[0m\n\u001b[1;32m    761\u001b[0m         \u001b[0;32mif\u001b[0m \u001b[0;34m'0x'\u001b[0m \u001b[0;32min\u001b[0m \u001b[0mx\u001b[0m\u001b[0;34m:\u001b[0m\u001b[0;34m\u001b[0m\u001b[0;34m\u001b[0m\u001b[0m\n\u001b[1;32m    762\u001b[0m             \u001b[0;32mreturn\u001b[0m \u001b[0mfloat\u001b[0m\u001b[0;34m.\u001b[0m\u001b[0mfromhex\u001b[0m\u001b[0;34m(\u001b[0m\u001b[0mx\u001b[0m\u001b[0;34m)\u001b[0m\u001b[0;34m\u001b[0m\u001b[0;34m\u001b[0m\u001b[0m\n\u001b[0;32m--> 763\u001b[0;31m         \u001b[0;32mreturn\u001b[0m \u001b[0mfloat\u001b[0m\u001b[0;34m(\u001b[0m\u001b[0mx\u001b[0m\u001b[0;34m)\u001b[0m\u001b[0;34m\u001b[0m\u001b[0;34m\u001b[0m\u001b[0m\n\u001b[0m\u001b[1;32m    764\u001b[0m \u001b[0;34m\u001b[0m\u001b[0m\n\u001b[1;32m    765\u001b[0m     \u001b[0mtyp\u001b[0m \u001b[0;34m=\u001b[0m \u001b[0mdtype\u001b[0m\u001b[0;34m.\u001b[0m\u001b[0mtype\u001b[0m\u001b[0;34m\u001b[0m\u001b[0;34m\u001b[0m\u001b[0m\n",
            "\u001b[0;31mValueError\u001b[0m: could not convert string to float: 'Unknown'"
          ]
        }
      ]
    },
    {
      "cell_type": "code",
      "metadata": {
        "id": "BkDNlxogy5Hy"
      },
      "source": [
        "planets = np.genfromtxt(\"planets.txt\", \n",
        "                        skip_header=1, \n",
        "                        usecols = [1, 2, 3, 4, 5, 6, 7, 8, 9])"
      ],
      "execution_count": null,
      "outputs": []
    },
    {
      "cell_type": "code",
      "metadata": {
        "id": "BdJiRATnzHua",
        "colab": {
          "base_uri": "https://localhost:8080/"
        },
        "outputId": "55d19f8c-e6cd-43a2-b28e-d3fcad049601"
      },
      "source": [
        "planets"
      ],
      "execution_count": null,
      "outputs": [
        {
          "output_type": "execute_result",
          "data": {
            "text/plain": [
              "array([[ 3.30000e-01,  4.87000e+00,  5.97000e+00,  7.30000e-02,\n",
              "         6.42000e-01,  1.89800e+03,  5.68000e+02,  8.68000e+01,\n",
              "         1.02000e+02],\n",
              "       [ 4.87900e+03,  1.21040e+04,  1.27560e+04,  3.47500e+03,\n",
              "         6.79200e+03,  1.42984e+05,  1.20536e+05,  5.11180e+04,\n",
              "         4.95280e+04],\n",
              "       [ 5.42700e+03,  5.24300e+03,  5.51400e+03,  3.34000e+03,\n",
              "         3.93300e+03,  1.32600e+03,  6.87000e+02,  1.27100e+03,\n",
              "         1.63800e+03],\n",
              "       [ 3.70000e+00,  8.90000e+00,  9.80000e+00,  1.60000e+00,\n",
              "         3.70000e+00,  2.31000e+01,  9.00000e+00,  8.70000e+00,\n",
              "         1.10000e+01],\n",
              "       [ 4.30000e+00,  1.04000e+01,  1.12000e+01,  2.40000e+00,\n",
              "         5.00000e+00,  5.95000e+01,  3.55000e+01,  2.13000e+01,\n",
              "         2.35000e+01],\n",
              "       [ 1.40760e+03, -5.83250e+03,  2.39000e+01,  6.55700e+02,\n",
              "         2.46000e+01,  9.90000e+00,  1.07000e+01, -1.72000e+01,\n",
              "         1.61000e+01],\n",
              "       [ 4.22260e+03,  2.80200e+03,  2.40000e+01,  7.08700e+02,\n",
              "         2.47000e+01,  9.90000e+00,  1.07000e+01,  1.72000e+01,\n",
              "         1.61000e+01],\n",
              "       [ 5.79000e+01,  1.08200e+02,  1.49600e+02,  3.84000e-01,\n",
              "         2.27900e+02,  7.78600e+02,  1.43350e+03,  2.87250e+03,\n",
              "         4.49510e+03],\n",
              "       [ 4.60000e+01,  1.07500e+02,  1.47100e+02,  3.63000e-01,\n",
              "         2.06600e+02,  7.40500e+02,  1.35260e+03,  2.74130e+03,\n",
              "         4.44450e+03],\n",
              "       [ 6.98000e+01,  1.08900e+02,  1.52100e+02,  4.06000e-01,\n",
              "         2.49200e+02,  8.16600e+02,  1.51450e+03,  3.00360e+03,\n",
              "         4.54570e+03],\n",
              "       [ 8.80000e+01,  2.24700e+02,  3.65200e+02,  2.73000e+01,\n",
              "         6.87000e+02,  4.33100e+03,  1.07470e+04,  3.05890e+04,\n",
              "         5.98000e+04],\n",
              "       [ 4.74000e+01,  3.50000e+01,  2.98000e+01,  1.00000e+00,\n",
              "         2.41000e+01,  1.31000e+01,  9.70000e+00,  6.80000e+00,\n",
              "         5.40000e+00],\n",
              "       [ 7.00000e+00,  3.40000e+00,  0.00000e+00,  5.10000e+00,\n",
              "         1.90000e+00,  1.30000e+00,  2.50000e+00,  8.00000e-01,\n",
              "         1.80000e+00],\n",
              "       [ 2.05000e-01,  7.00000e-03,  1.70000e-02,  5.50000e-02,\n",
              "         9.40000e-02,  4.90000e-02,  5.70000e-02,  4.60000e-02,\n",
              "         1.10000e-02],\n",
              "       [ 3.40000e-02,  1.77400e+02,  2.34000e+01,  6.70000e+00,\n",
              "         2.52000e+01,  3.10000e+00,  2.67000e+01,  9.78000e+01,\n",
              "         2.83000e+01],\n",
              "       [ 1.67000e+02,  4.64000e+02,  1.50000e+01, -2.00000e+01,\n",
              "        -6.50000e+01, -1.10000e+02, -1.40000e+02, -1.95000e+02,\n",
              "        -2.00000e+02],\n",
              "       [ 0.00000e+00,  9.20000e+01,  1.00000e+00,  0.00000e+00,\n",
              "         1.00000e-02,          nan,          nan,          nan,\n",
              "                 nan],\n",
              "       [ 0.00000e+00,  0.00000e+00,  1.00000e+00,  0.00000e+00,\n",
              "         2.00000e+00,  7.90000e+01,  8.20000e+01,  2.70000e+01,\n",
              "         1.40000e+01],\n",
              "       [ 0.00000e+00,  0.00000e+00,  0.00000e+00,  0.00000e+00,\n",
              "         0.00000e+00,  1.00000e+00,  1.00000e+00,  1.00000e+00,\n",
              "         1.00000e+00],\n",
              "       [ 1.00000e+00,  0.00000e+00,  1.00000e+00,  0.00000e+00,\n",
              "         0.00000e+00,  1.00000e+00,  1.00000e+00,  1.00000e+00,\n",
              "         1.00000e+00]])"
            ]
          },
          "metadata": {
            "tags": []
          },
          "execution_count": 130
        }
      ]
    },
    {
      "cell_type": "code",
      "metadata": {
        "id": "eXi-f2VIzIka",
        "colab": {
          "base_uri": "https://localhost:8080/"
        },
        "outputId": "a1cb7d20-78e4-4bae-d780-04660c715052"
      },
      "source": [
        "planets.shape"
      ],
      "execution_count": null,
      "outputs": [
        {
          "output_type": "execute_result",
          "data": {
            "text/plain": [
              "(20, 9)"
            ]
          },
          "metadata": {
            "tags": []
          },
          "execution_count": 131
        }
      ]
    },
    {
      "cell_type": "code",
      "metadata": {
        "id": "SKjq-4lwzN_P",
        "colab": {
          "base_uri": "https://localhost:8080/"
        },
        "outputId": "d0881f1a-2cee-4a42-e2b8-eedaa86da6b8"
      },
      "source": [
        "np.isnan(planets)"
      ],
      "execution_count": null,
      "outputs": [
        {
          "output_type": "execute_result",
          "data": {
            "text/plain": [
              "array([[False, False, False, False, False, False, False, False, False],\n",
              "       [False, False, False, False, False, False, False, False, False],\n",
              "       [False, False, False, False, False, False, False, False, False],\n",
              "       [False, False, False, False, False, False, False, False, False],\n",
              "       [False, False, False, False, False, False, False, False, False],\n",
              "       [False, False, False, False, False, False, False, False, False],\n",
              "       [False, False, False, False, False, False, False, False, False],\n",
              "       [False, False, False, False, False, False, False, False, False],\n",
              "       [False, False, False, False, False, False, False, False, False],\n",
              "       [False, False, False, False, False, False, False, False, False],\n",
              "       [False, False, False, False, False, False, False, False, False],\n",
              "       [False, False, False, False, False, False, False, False, False],\n",
              "       [False, False, False, False, False, False, False, False, False],\n",
              "       [False, False, False, False, False, False, False, False, False],\n",
              "       [False, False, False, False, False, False, False, False, False],\n",
              "       [False, False, False, False, False, False, False, False, False],\n",
              "       [False, False, False, False, False,  True,  True,  True,  True],\n",
              "       [False, False, False, False, False, False, False, False, False],\n",
              "       [False, False, False, False, False, False, False, False, False],\n",
              "       [False, False, False, False, False, False, False, False, False]])"
            ]
          },
          "metadata": {
            "tags": []
          },
          "execution_count": 132
        }
      ]
    },
    {
      "cell_type": "code",
      "metadata": {
        "id": "Lu7qVwJNzUYP"
      },
      "source": [
        "planets_new = np.nan_to_num(planets, nan=-1)"
      ],
      "execution_count": null,
      "outputs": []
    },
    {
      "cell_type": "code",
      "metadata": {
        "id": "UA8toJwJznvn",
        "colab": {
          "base_uri": "https://localhost:8080/"
        },
        "outputId": "c6bacae1-ede1-4fe3-a67d-88250e72e55a"
      },
      "source": [
        "planets_new"
      ],
      "execution_count": null,
      "outputs": [
        {
          "output_type": "execute_result",
          "data": {
            "text/plain": [
              "array([[ 3.30000e-01,  4.87000e+00,  5.97000e+00,  7.30000e-02,\n",
              "         6.42000e-01,  1.89800e+03,  5.68000e+02,  8.68000e+01,\n",
              "         1.02000e+02],\n",
              "       [ 4.87900e+03,  1.21040e+04,  1.27560e+04,  3.47500e+03,\n",
              "         6.79200e+03,  1.42984e+05,  1.20536e+05,  5.11180e+04,\n",
              "         4.95280e+04],\n",
              "       [ 5.42700e+03,  5.24300e+03,  5.51400e+03,  3.34000e+03,\n",
              "         3.93300e+03,  1.32600e+03,  6.87000e+02,  1.27100e+03,\n",
              "         1.63800e+03],\n",
              "       [ 3.70000e+00,  8.90000e+00,  9.80000e+00,  1.60000e+00,\n",
              "         3.70000e+00,  2.31000e+01,  9.00000e+00,  8.70000e+00,\n",
              "         1.10000e+01],\n",
              "       [ 4.30000e+00,  1.04000e+01,  1.12000e+01,  2.40000e+00,\n",
              "         5.00000e+00,  5.95000e+01,  3.55000e+01,  2.13000e+01,\n",
              "         2.35000e+01],\n",
              "       [ 1.40760e+03, -5.83250e+03,  2.39000e+01,  6.55700e+02,\n",
              "         2.46000e+01,  9.90000e+00,  1.07000e+01, -1.72000e+01,\n",
              "         1.61000e+01],\n",
              "       [ 4.22260e+03,  2.80200e+03,  2.40000e+01,  7.08700e+02,\n",
              "         2.47000e+01,  9.90000e+00,  1.07000e+01,  1.72000e+01,\n",
              "         1.61000e+01],\n",
              "       [ 5.79000e+01,  1.08200e+02,  1.49600e+02,  3.84000e-01,\n",
              "         2.27900e+02,  7.78600e+02,  1.43350e+03,  2.87250e+03,\n",
              "         4.49510e+03],\n",
              "       [ 4.60000e+01,  1.07500e+02,  1.47100e+02,  3.63000e-01,\n",
              "         2.06600e+02,  7.40500e+02,  1.35260e+03,  2.74130e+03,\n",
              "         4.44450e+03],\n",
              "       [ 6.98000e+01,  1.08900e+02,  1.52100e+02,  4.06000e-01,\n",
              "         2.49200e+02,  8.16600e+02,  1.51450e+03,  3.00360e+03,\n",
              "         4.54570e+03],\n",
              "       [ 8.80000e+01,  2.24700e+02,  3.65200e+02,  2.73000e+01,\n",
              "         6.87000e+02,  4.33100e+03,  1.07470e+04,  3.05890e+04,\n",
              "         5.98000e+04],\n",
              "       [ 4.74000e+01,  3.50000e+01,  2.98000e+01,  1.00000e+00,\n",
              "         2.41000e+01,  1.31000e+01,  9.70000e+00,  6.80000e+00,\n",
              "         5.40000e+00],\n",
              "       [ 7.00000e+00,  3.40000e+00,  0.00000e+00,  5.10000e+00,\n",
              "         1.90000e+00,  1.30000e+00,  2.50000e+00,  8.00000e-01,\n",
              "         1.80000e+00],\n",
              "       [ 2.05000e-01,  7.00000e-03,  1.70000e-02,  5.50000e-02,\n",
              "         9.40000e-02,  4.90000e-02,  5.70000e-02,  4.60000e-02,\n",
              "         1.10000e-02],\n",
              "       [ 3.40000e-02,  1.77400e+02,  2.34000e+01,  6.70000e+00,\n",
              "         2.52000e+01,  3.10000e+00,  2.67000e+01,  9.78000e+01,\n",
              "         2.83000e+01],\n",
              "       [ 1.67000e+02,  4.64000e+02,  1.50000e+01, -2.00000e+01,\n",
              "        -6.50000e+01, -1.10000e+02, -1.40000e+02, -1.95000e+02,\n",
              "        -2.00000e+02],\n",
              "       [ 0.00000e+00,  9.20000e+01,  1.00000e+00,  0.00000e+00,\n",
              "         1.00000e-02, -1.00000e+00, -1.00000e+00, -1.00000e+00,\n",
              "        -1.00000e+00],\n",
              "       [ 0.00000e+00,  0.00000e+00,  1.00000e+00,  0.00000e+00,\n",
              "         2.00000e+00,  7.90000e+01,  8.20000e+01,  2.70000e+01,\n",
              "         1.40000e+01],\n",
              "       [ 0.00000e+00,  0.00000e+00,  0.00000e+00,  0.00000e+00,\n",
              "         0.00000e+00,  1.00000e+00,  1.00000e+00,  1.00000e+00,\n",
              "         1.00000e+00],\n",
              "       [ 1.00000e+00,  0.00000e+00,  1.00000e+00,  0.00000e+00,\n",
              "         0.00000e+00,  1.00000e+00,  1.00000e+00,  1.00000e+00,\n",
              "         1.00000e+00]])"
            ]
          },
          "metadata": {
            "tags": []
          },
          "execution_count": 134
        }
      ]
    },
    {
      "cell_type": "code",
      "metadata": {
        "id": "oChY4CzIzojm"
      },
      "source": [
        "np.savetxt('planets_new.txt', planets_new, \n",
        "           delimiter=',')"
      ],
      "execution_count": null,
      "outputs": []
    },
    {
      "cell_type": "code",
      "metadata": {
        "id": "pNgTIfEuz25n"
      },
      "source": [
        "np.save(\"planets_new\", planets_new)"
      ],
      "execution_count": null,
      "outputs": []
    },
    {
      "cell_type": "code",
      "metadata": {
        "id": "gf4lf9fa0HHn",
        "colab": {
          "base_uri": "https://localhost:8080/"
        },
        "outputId": "bb5dce35-91ad-40f7-d295-8685647ed7a0"
      },
      "source": [
        "!ls -lh"
      ],
      "execution_count": null,
      "outputs": [
        {
          "output_type": "stream",
          "text": [
            "total 24K\n",
            "-rw-r--r-- 1 root root 1.6K Jan 28 07:40 planets_new.npy\n",
            "-rw-r--r-- 1 root root 4.5K Jan 28 07:40 planets_new.txt\n",
            "-rw-r--r-- 1 root root  254 Jan 28 07:38 planets_small.txt\n",
            "-rw-r--r-- 1 root root 1.5K Jan 28 07:40 planets.txt\n",
            "drwxr-xr-x 1 root root 4.0K Jan 20 17:27 sample_data\n"
          ],
          "name": "stdout"
        }
      ]
    },
    {
      "cell_type": "code",
      "metadata": {
        "id": "MtADG-X50jmk"
      },
      "source": [
        "arr1 = np.random.rand(1000, 10)\n",
        "arr2 = np.random.rand(2000, 5)\n",
        "arr3 = np.random.rand(20, 10000)"
      ],
      "execution_count": null,
      "outputs": []
    },
    {
      "cell_type": "code",
      "metadata": {
        "id": "dEUfEAEx1DWz"
      },
      "source": [
        "np.savez(\"many_arrs\", arr1, arr2, arr3)"
      ],
      "execution_count": null,
      "outputs": []
    },
    {
      "cell_type": "code",
      "metadata": {
        "id": "FB_bW0FJ1Len",
        "colab": {
          "base_uri": "https://localhost:8080/"
        },
        "outputId": "f47fc0b4-d0d0-4d45-f52e-5e20a41f349e"
      },
      "source": [
        "!ls -lh"
      ],
      "execution_count": null,
      "outputs": [
        {
          "output_type": "stream",
          "text": [
            "total 1.8M\n",
            "-rw-r--r-- 1 root root 1.7M Jan 28 07:40 many_arrs.npz\n",
            "-rw-r--r-- 1 root root 1.6K Jan 28 07:40 planets_new.npy\n",
            "-rw-r--r-- 1 root root 4.5K Jan 28 07:40 planets_new.txt\n",
            "-rw-r--r-- 1 root root  254 Jan 28 07:38 planets_small.txt\n",
            "-rw-r--r-- 1 root root 1.5K Jan 28 07:40 planets.txt\n",
            "drwxr-xr-x 1 root root 4.0K Jan 20 17:27 sample_data\n"
          ],
          "name": "stdout"
        }
      ]
    },
    {
      "cell_type": "code",
      "metadata": {
        "id": "fOaw1-_L1PSU"
      },
      "source": [
        "arrs = np.load('many_arrs.npz')"
      ],
      "execution_count": null,
      "outputs": []
    },
    {
      "cell_type": "code",
      "metadata": {
        "id": "ve6dry5I1ZrS",
        "colab": {
          "base_uri": "https://localhost:8080/"
        },
        "outputId": "48210f20-2024-459b-b5aa-7287e5360415"
      },
      "source": [
        "print(type(arrs))"
      ],
      "execution_count": null,
      "outputs": [
        {
          "output_type": "stream",
          "text": [
            "<class 'numpy.lib.npyio.NpzFile'>\n"
          ],
          "name": "stdout"
        }
      ]
    },
    {
      "cell_type": "code",
      "metadata": {
        "id": "g475ICO91bJc",
        "colab": {
          "base_uri": "https://localhost:8080/"
        },
        "outputId": "40fd20cb-5688-42d5-fa09-bdd8f2f71422"
      },
      "source": [
        "arrs.files"
      ],
      "execution_count": null,
      "outputs": [
        {
          "output_type": "execute_result",
          "data": {
            "text/plain": [
              "['arr_0', 'arr_1', 'arr_2']"
            ]
          },
          "metadata": {
            "tags": []
          },
          "execution_count": 143
        }
      ]
    },
    {
      "cell_type": "code",
      "metadata": {
        "id": "W-b8rSDM1ev2",
        "colab": {
          "base_uri": "https://localhost:8080/"
        },
        "outputId": "e8f8e775-e597-4f7a-cfe5-5094d6bb3fbd"
      },
      "source": [
        "arrs['arr_0'].shape"
      ],
      "execution_count": null,
      "outputs": [
        {
          "output_type": "execute_result",
          "data": {
            "text/plain": [
              "(1000, 10)"
            ]
          },
          "metadata": {
            "tags": []
          },
          "execution_count": 144
        }
      ]
    },
    {
      "cell_type": "code",
      "metadata": {
        "id": "An_y_y8I1jV7"
      },
      "source": [
        "np.savez_compressed('many_arrs_compressed', \n",
        "                    arr1, arr2, arr3)"
      ],
      "execution_count": null,
      "outputs": []
    },
    {
      "cell_type": "code",
      "metadata": {
        "id": "LPXQgdsL1zMs",
        "colab": {
          "base_uri": "https://localhost:8080/"
        },
        "outputId": "caaf9e17-fb24-4e2d-8b09-a3d36a29271c"
      },
      "source": [
        "!ls -lh"
      ],
      "execution_count": null,
      "outputs": [
        {
          "output_type": "stream",
          "text": [
            "total 3.3M\n",
            "-rw-r--r-- 1 root root 1.6M Jan 28 07:40 many_arrs_compressed.npz\n",
            "-rw-r--r-- 1 root root 1.7M Jan 28 07:40 many_arrs.npz\n",
            "-rw-r--r-- 1 root root 1.6K Jan 28 07:40 planets_new.npy\n",
            "-rw-r--r-- 1 root root 4.5K Jan 28 07:40 planets_new.txt\n",
            "-rw-r--r-- 1 root root  254 Jan 28 07:38 planets_small.txt\n",
            "-rw-r--r-- 1 root root 1.5K Jan 28 07:40 planets.txt\n",
            "drwxr-xr-x 1 root root 4.0K Jan 20 17:27 sample_data\n"
          ],
          "name": "stdout"
        }
      ]
    },
    {
      "cell_type": "code",
      "metadata": {
        "id": "skZNUe7910lu"
      },
      "source": [
        "arr1 = np.zeros((10000, 10000))"
      ],
      "execution_count": null,
      "outputs": []
    },
    {
      "cell_type": "code",
      "metadata": {
        "id": "Xupl4oo8185T"
      },
      "source": [
        "np.savez(\"zeros\", arr1)"
      ],
      "execution_count": null,
      "outputs": []
    },
    {
      "cell_type": "code",
      "metadata": {
        "id": "p9V0ZIfr1_cq"
      },
      "source": [
        "np.savez_compressed(\"zeros_compressed\", arr1)"
      ],
      "execution_count": null,
      "outputs": []
    },
    {
      "cell_type": "code",
      "metadata": {
        "id": "rie8a-n92C25",
        "colab": {
          "base_uri": "https://localhost:8080/"
        },
        "outputId": "f0f8520f-2a0a-4e22-ce8a-37e42865c12f"
      },
      "source": [
        "!ls -lh"
      ],
      "execution_count": null,
      "outputs": [
        {
          "output_type": "stream",
          "text": [
            "total 767M\n",
            "-rw-r--r-- 1 root root 1.6M Jan 28 07:40 many_arrs_compressed.npz\n",
            "-rw-r--r-- 1 root root 1.7M Jan 28 07:40 many_arrs.npz\n",
            "-rw-r--r-- 1 root root 1.6K Jan 28 07:40 planets_new.npy\n",
            "-rw-r--r-- 1 root root 4.5K Jan 28 07:40 planets_new.txt\n",
            "-rw-r--r-- 1 root root  254 Jan 28 07:38 planets_small.txt\n",
            "-rw-r--r-- 1 root root 1.5K Jan 28 07:40 planets.txt\n",
            "drwxr-xr-x 1 root root 4.0K Jan 20 17:27 sample_data\n",
            "-rw-r--r-- 1 root root 760K Jan 28 07:41 zeros_compressed.npz\n",
            "-rw-r--r-- 1 root root 763M Jan 28 07:40 zeros.npz\n"
          ],
          "name": "stdout"
        }
      ]
    },
    {
      "cell_type": "markdown",
      "metadata": {
        "id": "Gbx0S1afv7J4"
      },
      "source": [
        "# Stats with NumPy"
      ]
    },
    {
      "cell_type": "code",
      "metadata": {
        "id": "hzPZnj7xv8LH"
      },
      "source": [
        "arr = np.random.rand(10000000,)"
      ],
      "execution_count": null,
      "outputs": []
    },
    {
      "cell_type": "code",
      "metadata": {
        "id": "sjOiUCIswBsF",
        "colab": {
          "base_uri": "https://localhost:8080/"
        },
        "outputId": "1d542025-28e5-431a-82fb-e1fc03715ff5"
      },
      "source": [
        "np.amin(arr)"
      ],
      "execution_count": null,
      "outputs": [
        {
          "output_type": "execute_result",
          "data": {
            "text/plain": [
              "1.9022612818275775e-08"
            ]
          },
          "metadata": {
            "tags": []
          },
          "execution_count": 152
        }
      ]
    },
    {
      "cell_type": "code",
      "metadata": {
        "id": "pJzrvQk6wIBI",
        "colab": {
          "base_uri": "https://localhost:8080/"
        },
        "outputId": "96fb6636-a971-40d9-8f19-84255a4b2841"
      },
      "source": [
        "np.amax(arr)"
      ],
      "execution_count": null,
      "outputs": [
        {
          "output_type": "execute_result",
          "data": {
            "text/plain": [
              "0.9999999716070386"
            ]
          },
          "metadata": {
            "tags": []
          },
          "execution_count": 153
        }
      ]
    },
    {
      "cell_type": "code",
      "metadata": {
        "id": "Utj3RY5MwLcd",
        "colab": {
          "base_uri": "https://localhost:8080/"
        },
        "outputId": "8c0cadad-e0d7-460a-85c9-7f3ec5974163"
      },
      "source": [
        "np.mean(arr)"
      ],
      "execution_count": null,
      "outputs": [
        {
          "output_type": "execute_result",
          "data": {
            "text/plain": [
              "0.4999919177198353"
            ]
          },
          "metadata": {
            "tags": []
          },
          "execution_count": 154
        }
      ]
    },
    {
      "cell_type": "code",
      "metadata": {
        "id": "QpiM58TDwPsM",
        "colab": {
          "base_uri": "https://localhost:8080/"
        },
        "outputId": "7279c8f9-249b-4aba-93da-49221115d934"
      },
      "source": [
        "np.var(arr)"
      ],
      "execution_count": null,
      "outputs": [
        {
          "output_type": "execute_result",
          "data": {
            "text/plain": [
              "0.08335040308316295"
            ]
          },
          "metadata": {
            "tags": []
          },
          "execution_count": 155
        }
      ]
    },
    {
      "cell_type": "code",
      "metadata": {
        "id": "tPqPqG03wTSC",
        "colab": {
          "base_uri": "https://localhost:8080/"
        },
        "outputId": "56be7711-f3d0-4437-cf4b-93018acc0e86"
      },
      "source": [
        "np.std(arr)"
      ],
      "execution_count": null,
      "outputs": [
        {
          "output_type": "execute_result",
          "data": {
            "text/plain": [
              "0.28870469875490934"
            ]
          },
          "metadata": {
            "tags": []
          },
          "execution_count": 156
        }
      ]
    },
    {
      "cell_type": "code",
      "metadata": {
        "id": "zhwze9MnwUqC",
        "colab": {
          "base_uri": "https://localhost:8080/"
        },
        "outputId": "2a50cfcf-7fdf-4f0f-ce8d-9508eb4e1c4c"
      },
      "source": [
        "np.median(arr)"
      ],
      "execution_count": null,
      "outputs": [
        {
          "output_type": "execute_result",
          "data": {
            "text/plain": [
              "0.5000596956100258"
            ]
          },
          "metadata": {
            "tags": []
          },
          "execution_count": 157
        }
      ]
    },
    {
      "cell_type": "code",
      "metadata": {
        "id": "DGHAXp1UwYpe",
        "colab": {
          "base_uri": "https://localhost:8080/"
        },
        "outputId": "afc8569b-ba08-414c-c9e2-3ce451bd07ac"
      },
      "source": [
        "np.percentile(arr, 50)"
      ],
      "execution_count": null,
      "outputs": [
        {
          "output_type": "execute_result",
          "data": {
            "text/plain": [
              "0.5000596956100258"
            ]
          },
          "metadata": {
            "tags": []
          },
          "execution_count": 158
        }
      ]
    },
    {
      "cell_type": "code",
      "metadata": {
        "id": "hz4lmGUJwdSD",
        "colab": {
          "base_uri": "https://localhost:8080/"
        },
        "outputId": "8140c9c5-a16d-4110-fb49-83c302190eb1"
      },
      "source": [
        "np.percentile(arr, 10)"
      ],
      "execution_count": null,
      "outputs": [
        {
          "output_type": "execute_result",
          "data": {
            "text/plain": [
              "0.09999015790256766"
            ]
          },
          "metadata": {
            "tags": []
          },
          "execution_count": 159
        }
      ]
    },
    {
      "cell_type": "code",
      "metadata": {
        "id": "dnIG-AJJwfdU",
        "colab": {
          "base_uri": "https://localhost:8080/"
        },
        "outputId": "efe02abb-658c-417c-fadd-78d1c06141d1"
      },
      "source": [
        "np.percentile(arr, 90)"
      ],
      "execution_count": null,
      "outputs": [
        {
          "output_type": "execute_result",
          "data": {
            "text/plain": [
              "0.9000815577828921"
            ]
          },
          "metadata": {
            "tags": []
          },
          "execution_count": 160
        }
      ]
    },
    {
      "cell_type": "code",
      "metadata": {
        "id": "dGK2Nv5hwgfm",
        "colab": {
          "base_uri": "https://localhost:8080/"
        },
        "outputId": "38506e53-a6ae-4f59-f407-5fe07e12984a"
      },
      "source": [
        "%%time\n",
        "iqr = np.percentile(arr, 75) - np.percentile(arr, 25)"
      ],
      "execution_count": null,
      "outputs": [
        {
          "output_type": "stream",
          "text": [
            "CPU times: user 312 ms, sys: 22.8 ms, total: 334 ms\n",
            "Wall time: 338 ms\n"
          ],
          "name": "stdout"
        }
      ]
    },
    {
      "cell_type": "code",
      "metadata": {
        "id": "WPiwXBeGwqbw",
        "colab": {
          "base_uri": "https://localhost:8080/"
        },
        "outputId": "4b15247b-11ee-40da-e439-874ad0f78d60"
      },
      "source": [
        "print(iqr)"
      ],
      "execution_count": null,
      "outputs": [
        {
          "output_type": "stream",
          "text": [
            "0.5000250053597051\n"
          ],
          "name": "stdout"
        }
      ]
    },
    {
      "cell_type": "code",
      "metadata": {
        "id": "v523FMvSws4N",
        "colab": {
          "base_uri": "https://localhost:8080/"
        },
        "outputId": "8deb9b90-ecb2-4b5d-85af-7a623ac9507f"
      },
      "source": [
        "%%time\n",
        "quartiles = np.percentile(arr, [25, 75])\n",
        "iqr = quartiles[1] - quartiles[0]"
      ],
      "execution_count": null,
      "outputs": [
        {
          "output_type": "stream",
          "text": [
            "CPU times: user 218 ms, sys: 9.83 ms, total: 228 ms\n",
            "Wall time: 229 ms\n"
          ],
          "name": "stdout"
        }
      ]
    },
    {
      "cell_type": "code",
      "metadata": {
        "id": "0A3eBFSlxA0k",
        "colab": {
          "base_uri": "https://localhost:8080/"
        },
        "outputId": "ce29819f-4565-4a14-d4d1-0b30708ebae1"
      },
      "source": [
        "print(quartiles)"
      ],
      "execution_count": null,
      "outputs": [
        {
          "output_type": "stream",
          "text": [
            "[0.24994135 0.74996636]\n"
          ],
          "name": "stdout"
        }
      ]
    },
    {
      "cell_type": "code",
      "metadata": {
        "id": "vSFKMczcxFHM",
        "colab": {
          "base_uri": "https://localhost:8080/"
        },
        "outputId": "20605313-f9b0-4f4e-cbec-ad415b496dbc"
      },
      "source": [
        "print(iqr)"
      ],
      "execution_count": null,
      "outputs": [
        {
          "output_type": "stream",
          "text": [
            "0.5000250053597051\n"
          ],
          "name": "stdout"
        }
      ]
    },
    {
      "cell_type": "code",
      "metadata": {
        "id": "JovlaD8wxGGA",
        "colab": {
          "base_uri": "https://localhost:8080/"
        },
        "outputId": "53e1baf2-17ec-4a47-f1d3-938e9e58442a"
      },
      "source": [
        "(arr - np.mean(arr))/np.std(arr)"
      ],
      "execution_count": null,
      "outputs": [
        {
          "output_type": "execute_result",
          "data": {
            "text/plain": [
              "array([1.3953378 , 1.55811402, 0.6807386 , ..., 0.11279645, 0.19159941,\n",
              "       0.14672662])"
            ]
          },
          "metadata": {
            "tags": []
          },
          "execution_count": 166
        }
      ]
    },
    {
      "cell_type": "code",
      "metadata": {
        "id": "zcEfRhZgxhuv",
        "colab": {
          "base_uri": "https://localhost:8080/"
        },
        "outputId": "ddb5f241-b60b-4b26-d103-7734c9c7d0ac"
      },
      "source": [
        "np.histogram(arr)"
      ],
      "execution_count": null,
      "outputs": [
        {
          "output_type": "execute_result",
          "data": {
            "text/plain": [
              "(array([1000095,  999963, 1001651,  998355,  999374,  999758, 1000584,\n",
              "        1000603,  998832, 1000785]),\n",
              " array([1.90226128e-08, 1.00000014e-01, 2.00000010e-01, 3.00000005e-01,\n",
              "        4.00000000e-01, 4.99999995e-01, 5.99999991e-01, 6.99999986e-01,\n",
              "        7.99999981e-01, 8.99999976e-01, 9.99999972e-01]))"
            ]
          },
          "metadata": {
            "tags": []
          },
          "execution_count": 167
        }
      ]
    },
    {
      "cell_type": "code",
      "metadata": {
        "id": "LwtxZSn9xruv",
        "colab": {
          "base_uri": "https://localhost:8080/"
        },
        "outputId": "3d59277a-9514-4dcb-fe00-028fbf554fb3"
      },
      "source": [
        "np.histogram(arr, bins=5)"
      ],
      "execution_count": null,
      "outputs": [
        {
          "output_type": "execute_result",
          "data": {
            "text/plain": [
              "(array([2000058, 2000006, 1999132, 2001187, 1999617]),\n",
              " array([1.90226128e-08, 2.00000010e-01, 4.00000000e-01, 5.99999991e-01,\n",
              "        7.99999981e-01, 9.99999972e-01]))"
            ]
          },
          "metadata": {
            "tags": []
          },
          "execution_count": 168
        }
      ]
    },
    {
      "cell_type": "code",
      "metadata": {
        "id": "iTcZBG51x45W",
        "colab": {
          "base_uri": "https://localhost:8080/"
        },
        "outputId": "7264f16c-1558-4744-ebe4-488fb67c8111"
      },
      "source": [
        "np.histogram(arr, bins=[0, 0.25, 0.5, 0.75, 1])"
      ],
      "execution_count": null,
      "outputs": [
        {
          "output_type": "execute_result",
          "data": {
            "text/plain": [
              "(array([2500619, 2498819, 2500899, 2499663]),\n",
              " array([0.  , 0.25, 0.5 , 0.75, 1.  ]))"
            ]
          },
          "metadata": {
            "tags": []
          },
          "execution_count": 169
        }
      ]
    },
    {
      "cell_type": "code",
      "metadata": {
        "id": "U0XTmMKix-Qi"
      },
      "source": [
        "bins = [0, 0.25, 0.5, 0.75, 1]"
      ],
      "execution_count": null,
      "outputs": []
    },
    {
      "cell_type": "code",
      "metadata": {
        "id": "iDus-okdyG16",
        "colab": {
          "base_uri": "https://localhost:8080/"
        },
        "outputId": "3110560f-20b2-476d-be68-c648759a24a7"
      },
      "source": [
        "np.digitize(arr, bins)"
      ],
      "execution_count": null,
      "outputs": [
        {
          "output_type": "execute_result",
          "data": {
            "text/plain": [
              "array([4, 4, 3, ..., 3, 3, 3])"
            ]
          },
          "metadata": {
            "tags": []
          },
          "execution_count": 171
        }
      ]
    },
    {
      "cell_type": "code",
      "metadata": {
        "id": "3incboaHyIfV"
      },
      "source": [
        "arr1 = np.random.randint(0, 10, (10))"
      ],
      "execution_count": null,
      "outputs": []
    },
    {
      "cell_type": "code",
      "metadata": {
        "id": "zV79sa7tyTS0",
        "colab": {
          "base_uri": "https://localhost:8080/"
        },
        "outputId": "6801313f-f063-4248-a00e-9798a0ebe38f"
      },
      "source": [
        "arr1"
      ],
      "execution_count": null,
      "outputs": [
        {
          "output_type": "execute_result",
          "data": {
            "text/plain": [
              "array([6, 7, 8, 5, 5, 1, 7, 6, 4, 4])"
            ]
          },
          "metadata": {
            "tags": []
          },
          "execution_count": 173
        }
      ]
    },
    {
      "cell_type": "code",
      "metadata": {
        "id": "h9HV9Q8RyT5Y"
      },
      "source": [
        "bins = [0, 6, 10]"
      ],
      "execution_count": null,
      "outputs": []
    },
    {
      "cell_type": "code",
      "metadata": {
        "id": "VTzSC80uyXq0",
        "colab": {
          "base_uri": "https://localhost:8080/"
        },
        "outputId": "2e55067f-b64e-48c4-e384-5555f41a1a3b"
      },
      "source": [
        "np.digitize(arr1, bins)"
      ],
      "execution_count": null,
      "outputs": [
        {
          "output_type": "execute_result",
          "data": {
            "text/plain": [
              "array([2, 2, 2, 1, 1, 1, 2, 2, 1, 1])"
            ]
          },
          "metadata": {
            "tags": []
          },
          "execution_count": 175
        }
      ]
    },
    {
      "cell_type": "code",
      "metadata": {
        "id": "VhJZ7RpRyY9R",
        "colab": {
          "base_uri": "https://localhost:8080/"
        },
        "outputId": "3c4d136f-5397-4199-f4d5-9fe69777ed5a"
      },
      "source": [
        "np.digitize(arr1, bins, right=True)"
      ],
      "execution_count": null,
      "outputs": [
        {
          "output_type": "execute_result",
          "data": {
            "text/plain": [
              "array([1, 2, 2, 1, 1, 1, 2, 1, 1, 1])"
            ]
          },
          "metadata": {
            "tags": []
          },
          "execution_count": 176
        }
      ]
    },
    {
      "cell_type": "code",
      "metadata": {
        "id": "2PfKNg2Jylbr"
      },
      "source": [
        "arr1 = np.random.randint(50, 80, 100) # weight"
      ],
      "execution_count": null,
      "outputs": []
    },
    {
      "cell_type": "code",
      "metadata": {
        "id": "jhNl-W2ny0Qp"
      },
      "source": [
        "arr2 = np.random.randint(150, 185, 100) # heights"
      ],
      "execution_count": null,
      "outputs": []
    },
    {
      "cell_type": "code",
      "metadata": {
        "id": "0xbdhrDBy4Vx"
      },
      "source": [
        "arr3 = np.random.randint(17, 22, 100) # age"
      ],
      "execution_count": null,
      "outputs": []
    },
    {
      "cell_type": "code",
      "metadata": {
        "id": "1qT2iCgPy7Hq",
        "colab": {
          "base_uri": "https://localhost:8080/"
        },
        "outputId": "ff108c5e-3629-4ed0-d2a8-71c40667663b"
      },
      "source": [
        "np.concatenate((arr1, arr2, arr3)).shape"
      ],
      "execution_count": null,
      "outputs": [
        {
          "output_type": "execute_result",
          "data": {
            "text/plain": [
              "(300,)"
            ]
          },
          "metadata": {
            "tags": []
          },
          "execution_count": 180
        }
      ]
    },
    {
      "cell_type": "code",
      "metadata": {
        "id": "mBpCCPpCzL_8",
        "colab": {
          "base_uri": "https://localhost:8080/"
        },
        "outputId": "eba1355a-d5f3-4827-e3af-1ef19ba990b6"
      },
      "source": [
        "np.vstack((arr1, arr2, arr3)).shape"
      ],
      "execution_count": null,
      "outputs": [
        {
          "output_type": "execute_result",
          "data": {
            "text/plain": [
              "(3, 100)"
            ]
          },
          "metadata": {
            "tags": []
          },
          "execution_count": 181
        }
      ]
    },
    {
      "cell_type": "code",
      "metadata": {
        "id": "WSFsv7K6zcMr"
      },
      "source": [
        "arr2d = np.vstack((arr1, arr2, arr3))"
      ],
      "execution_count": null,
      "outputs": []
    },
    {
      "cell_type": "code",
      "metadata": {
        "id": "TPyLPXI2zkaR",
        "colab": {
          "base_uri": "https://localhost:8080/"
        },
        "outputId": "17186060-d4b7-4207-a38b-c5095b35d814"
      },
      "source": [
        "np.amin(arr2d, axis=1)"
      ],
      "execution_count": null,
      "outputs": [
        {
          "output_type": "execute_result",
          "data": {
            "text/plain": [
              "array([ 50, 150,  17])"
            ]
          },
          "metadata": {
            "tags": []
          },
          "execution_count": 183
        }
      ]
    },
    {
      "cell_type": "code",
      "metadata": {
        "id": "Gs28beuPzmOo",
        "colab": {
          "base_uri": "https://localhost:8080/"
        },
        "outputId": "5026525b-2f98-4fd5-ee5f-f3973c12b5b1"
      },
      "source": [
        "np.amax(arr2d, axis=1)"
      ],
      "execution_count": null,
      "outputs": [
        {
          "output_type": "execute_result",
          "data": {
            "text/plain": [
              "array([ 79, 184,  21])"
            ]
          },
          "metadata": {
            "tags": []
          },
          "execution_count": 184
        }
      ]
    },
    {
      "cell_type": "code",
      "metadata": {
        "id": "dOezzskxz-YP",
        "colab": {
          "base_uri": "https://localhost:8080/"
        },
        "outputId": "35db4522-3bbc-452c-92bf-038ebb2d605a"
      },
      "source": [
        "np.mean(arr2d, axis=1)"
      ],
      "execution_count": null,
      "outputs": [
        {
          "output_type": "execute_result",
          "data": {
            "text/plain": [
              "array([ 65.09, 166.73,  18.88])"
            ]
          },
          "metadata": {
            "tags": []
          },
          "execution_count": 185
        }
      ]
    },
    {
      "cell_type": "markdown",
      "metadata": {
        "id": "VWepKz6S0-6R"
      },
      "source": [
        "# Checking stats rules with numpy"
      ]
    },
    {
      "cell_type": "markdown",
      "metadata": {
        "id": "V4H98xu21BC5"
      },
      "source": [
        "## Mean subracted array has zero mean"
      ]
    },
    {
      "cell_type": "code",
      "metadata": {
        "id": "318AUnPqz_w4"
      },
      "source": [
        "arr = np.random.rand(1000)"
      ],
      "execution_count": null,
      "outputs": []
    },
    {
      "cell_type": "code",
      "metadata": {
        "id": "kENdl4Xi1UGF"
      },
      "source": [
        "mean = np.mean(arr)"
      ],
      "execution_count": null,
      "outputs": []
    },
    {
      "cell_type": "code",
      "metadata": {
        "id": "GRbvx9nh1WKE"
      },
      "source": [
        "arr1 = arr - mean"
      ],
      "execution_count": null,
      "outputs": []
    },
    {
      "cell_type": "code",
      "metadata": {
        "id": "Dzxf2YGB1XrF",
        "colab": {
          "base_uri": "https://localhost:8080/"
        },
        "outputId": "fde87862-8318-430b-9145-94ac7628c036"
      },
      "source": [
        "np.mean(arr1)"
      ],
      "execution_count": null,
      "outputs": [
        {
          "output_type": "execute_result",
          "data": {
            "text/plain": [
              "6.217248937900877e-18"
            ]
          },
          "metadata": {
            "tags": []
          },
          "execution_count": 189
        }
      ]
    },
    {
      "cell_type": "markdown",
      "metadata": {
        "id": "oFy2ji-A1oAn"
      },
      "source": [
        "## Computing mean with smaller set of values"
      ]
    },
    {
      "cell_type": "code",
      "metadata": {
        "id": "w2q417Zw1Y39"
      },
      "source": [
        "arr = np.random.rand(1000)"
      ],
      "execution_count": null,
      "outputs": []
    },
    {
      "cell_type": "code",
      "metadata": {
        "id": "jqKIWVik1yV7",
        "colab": {
          "base_uri": "https://localhost:8080/"
        },
        "outputId": "b6e05408-d038-4760-e080-0c8082f058d9"
      },
      "source": [
        "for k in range(1, 50):\n",
        "    arr1 = arr[0:k]\n",
        "    print(k, np.mean(arr1))"
      ],
      "execution_count": null,
      "outputs": [
        {
          "output_type": "stream",
          "text": [
            "1 0.8976992538130603\n",
            "2 0.4729117163929246\n",
            "3 0.4112364597931963\n",
            "4 0.5421849824858089\n",
            "5 0.5310225336122459\n",
            "6 0.5025103052658842\n",
            "7 0.45272023237769937\n",
            "8 0.42642322934175386\n",
            "9 0.3878759814211546\n",
            "10 0.44587037747716096\n",
            "11 0.4732021991014912\n",
            "12 0.4837831896169132\n",
            "13 0.47674651533607065\n",
            "14 0.4991117909414256\n",
            "15 0.5231819598148638\n",
            "16 0.5272831066139304\n",
            "17 0.5067701283783561\n",
            "18 0.4893100400368103\n",
            "19 0.4710909564936656\n",
            "20 0.4735133008478466\n",
            "21 0.4750750726141005\n",
            "22 0.4927748632583867\n",
            "23 0.4846807254948181\n",
            "24 0.48044648501138615\n",
            "25 0.4761727764066269\n",
            "26 0.46359914993072415\n",
            "27 0.4546977358801244\n",
            "28 0.4671240791149528\n",
            "29 0.4607332279992469\n",
            "30 0.4524201294221584\n",
            "31 0.45453236581369105\n",
            "32 0.46969731348073634\n",
            "33 0.4564554636452928\n",
            "34 0.4524518884988622\n",
            "35 0.45773796807291406\n",
            "36 0.45667357669818975\n",
            "37 0.4690351099822155\n",
            "38 0.47065262272011377\n",
            "39 0.46690603176416445\n",
            "40 0.46691752972231565\n",
            "41 0.460042118937319\n",
            "42 0.45466740144392404\n",
            "43 0.4594724707311934\n",
            "44 0.4622336069045428\n",
            "45 0.45989070284489314\n",
            "46 0.4571807333155819\n",
            "47 0.461828048211327\n",
            "48 0.4642487695769098\n",
            "49 0.4620922061238521\n"
          ],
          "name": "stdout"
        }
      ]
    },
    {
      "cell_type": "code",
      "metadata": {
        "id": "d-Oo2bb92TZL"
      },
      "source": [
        "np.cumsum?"
      ],
      "execution_count": null,
      "outputs": []
    },
    {
      "cell_type": "code",
      "metadata": {
        "id": "PiaXg9-57NHs"
      },
      "source": [
        "means = np.cumsum(arr)/np.arange(1,1001)"
      ],
      "execution_count": null,
      "outputs": []
    },
    {
      "cell_type": "code",
      "metadata": {
        "id": "kFnc0ECw7QM4",
        "colab": {
          "base_uri": "https://localhost:8080/"
        },
        "outputId": "0933fe6b-d947-47fe-8f42-62a2f643acef"
      },
      "source": [
        "means[0:15]"
      ],
      "execution_count": null,
      "outputs": [
        {
          "output_type": "execute_result",
          "data": {
            "text/plain": [
              "array([0.89769925, 0.47291172, 0.41123646, 0.54218498, 0.53102253,\n",
              "       0.50251031, 0.45272023, 0.42642323, 0.38787598, 0.44587038,\n",
              "       0.4732022 , 0.48378319, 0.47674652, 0.49911179, 0.52318196])"
            ]
          },
          "metadata": {
            "tags": []
          },
          "execution_count": 194
        }
      ]
    },
    {
      "cell_type": "markdown",
      "metadata": {
        "id": "5LoAAMS28NIG"
      },
      "source": [
        "## Effect of outliers on mean and median"
      ]
    },
    {
      "cell_type": "code",
      "metadata": {
        "id": "qC4adtFU8KXT"
      },
      "source": [
        "arr = np.random.randint(1, 100, 100)"
      ],
      "execution_count": null,
      "outputs": []
    },
    {
      "cell_type": "code",
      "metadata": {
        "id": "IneFGRwU8S7H",
        "colab": {
          "base_uri": "https://localhost:8080/"
        },
        "outputId": "a154e6c7-e160-4215-8756-70f95d720fe3"
      },
      "source": [
        "np.mean(arr)"
      ],
      "execution_count": null,
      "outputs": [
        {
          "output_type": "execute_result",
          "data": {
            "text/plain": [
              "48.27"
            ]
          },
          "metadata": {
            "tags": []
          },
          "execution_count": 196
        }
      ]
    },
    {
      "cell_type": "code",
      "metadata": {
        "id": "PIiGABZq8Tw8",
        "colab": {
          "base_uri": "https://localhost:8080/"
        },
        "outputId": "df93bebf-6f84-4a8f-a09a-b4f35e72e18e"
      },
      "source": [
        "np.median(arr)"
      ],
      "execution_count": null,
      "outputs": [
        {
          "output_type": "execute_result",
          "data": {
            "text/plain": [
              "47.5"
            ]
          },
          "metadata": {
            "tags": []
          },
          "execution_count": 197
        }
      ]
    },
    {
      "cell_type": "code",
      "metadata": {
        "id": "YIt0WWPh8U2A"
      },
      "source": [
        "arr = np.append(arr, [1000, 2000])"
      ],
      "execution_count": null,
      "outputs": []
    },
    {
      "cell_type": "code",
      "metadata": {
        "id": "s0yiwz5P8b9N",
        "colab": {
          "base_uri": "https://localhost:8080/"
        },
        "outputId": "fa32bbca-7fac-4698-9c52-b7d3423abf9e"
      },
      "source": [
        "arr.shape"
      ],
      "execution_count": null,
      "outputs": [
        {
          "output_type": "execute_result",
          "data": {
            "text/plain": [
              "(102,)"
            ]
          },
          "metadata": {
            "tags": []
          },
          "execution_count": 199
        }
      ]
    },
    {
      "cell_type": "code",
      "metadata": {
        "id": "gU97HqCo8dzZ",
        "colab": {
          "base_uri": "https://localhost:8080/"
        },
        "outputId": "d9128c9e-abed-4511-ebdd-0a4c9fd4d41f"
      },
      "source": [
        "np.mean(arr)"
      ],
      "execution_count": null,
      "outputs": [
        {
          "output_type": "execute_result",
          "data": {
            "text/plain": [
              "76.73529411764706"
            ]
          },
          "metadata": {
            "tags": []
          },
          "execution_count": 200
        }
      ]
    },
    {
      "cell_type": "code",
      "metadata": {
        "id": "_3X0E37C8gCu",
        "colab": {
          "base_uri": "https://localhost:8080/"
        },
        "outputId": "2781cad2-586b-4e1e-99c6-39fd2a37fe8f"
      },
      "source": [
        "np.median(arr)"
      ],
      "execution_count": null,
      "outputs": [
        {
          "output_type": "execute_result",
          "data": {
            "text/plain": [
              "48.0"
            ]
          },
          "metadata": {
            "tags": []
          },
          "execution_count": 201
        }
      ]
    },
    {
      "cell_type": "markdown",
      "metadata": {
        "id": "svLMJcYS8oV1"
      },
      "source": [
        "## Effect of scaling arrays on mean and median"
      ]
    },
    {
      "cell_type": "code",
      "metadata": {
        "id": "tVdjlo3v8ibT"
      },
      "source": [
        "arr = np.random.rand(100)"
      ],
      "execution_count": null,
      "outputs": []
    },
    {
      "cell_type": "code",
      "metadata": {
        "id": "VecKVa0l8vPU",
        "colab": {
          "base_uri": "https://localhost:8080/"
        },
        "outputId": "c9b3326c-6c45-4c49-bda1-5efa0602cde5"
      },
      "source": [
        "np.mean(arr)"
      ],
      "execution_count": null,
      "outputs": [
        {
          "output_type": "execute_result",
          "data": {
            "text/plain": [
              "0.49358647508148223"
            ]
          },
          "metadata": {
            "tags": []
          },
          "execution_count": 203
        }
      ]
    },
    {
      "cell_type": "code",
      "metadata": {
        "id": "FjMm5Imq8ww_",
        "colab": {
          "base_uri": "https://localhost:8080/"
        },
        "outputId": "bdd25b68-d15c-4e92-8311-793e81288d5e"
      },
      "source": [
        "np.median(arr)"
      ],
      "execution_count": null,
      "outputs": [
        {
          "output_type": "execute_result",
          "data": {
            "text/plain": [
              "0.5215359453958905"
            ]
          },
          "metadata": {
            "tags": []
          },
          "execution_count": 204
        }
      ]
    },
    {
      "cell_type": "code",
      "metadata": {
        "id": "OL5RcaeM8xXd"
      },
      "source": [
        "arr1 = 2.5 * arr + 0.65"
      ],
      "execution_count": null,
      "outputs": []
    },
    {
      "cell_type": "code",
      "metadata": {
        "id": "Y32GqKqi83f6",
        "colab": {
          "base_uri": "https://localhost:8080/"
        },
        "outputId": "60931bc6-f138-4135-f7aa-0743cbb1f1a8"
      },
      "source": [
        "print(np.mean(2.5 * arr + 0.65), \n",
        "      2.5 * np.mean(arr) + 0.65)"
      ],
      "execution_count": null,
      "outputs": [
        {
          "output_type": "stream",
          "text": [
            "1.883966187703706 1.8839661877037055\n"
          ],
          "name": "stdout"
        }
      ]
    },
    {
      "cell_type": "code",
      "metadata": {
        "id": "jFOv_ciE9A3_",
        "colab": {
          "base_uri": "https://localhost:8080/"
        },
        "outputId": "48ebf3d5-a2f1-40e7-d628-6f9bec274f70"
      },
      "source": [
        "print(np.median(2.5 * arr + 0.65), \n",
        "      2.5 * np.median(arr) + 0.65)"
      ],
      "execution_count": null,
      "outputs": [
        {
          "output_type": "stream",
          "text": [
            "1.9538398634897265 1.9538398634897263\n"
          ],
          "name": "stdout"
        }
      ]
    },
    {
      "cell_type": "code",
      "metadata": {
        "id": "ZNZ-5lZQ9I4h",
        "colab": {
          "base_uri": "https://localhost:8080/"
        },
        "outputId": "c4d69a04-6cb1-4565-999f-764fc7907aa9"
      },
      "source": [
        "print(np.var(2.5 * arr + 0.65), \n",
        "      2.5*2.5*np.var(arr))"
      ],
      "execution_count": null,
      "outputs": [
        {
          "output_type": "stream",
          "text": [
            "0.5037909757453505 0.5037909757453506\n"
          ],
          "name": "stdout"
        }
      ]
    },
    {
      "cell_type": "code",
      "metadata": {
        "id": "nF_kw4jC9M8I",
        "colab": {
          "base_uri": "https://localhost:8080/"
        },
        "outputId": "503b4e45-8fc6-42ba-8404-e1a1f70a0c9c"
      },
      "source": [
        "print(np.std(2.5 * arr + 0.65), \n",
        "      2.5 * np.std(arr))"
      ],
      "execution_count": null,
      "outputs": [
        {
          "output_type": "stream",
          "text": [
            "0.7097823439233681 0.7097823439233684\n"
          ],
          "name": "stdout"
        }
      ]
    },
    {
      "cell_type": "code",
      "metadata": {
        "id": "L4h0dNmr9Y5b"
      },
      "source": [
        "arr1 = np.random.rand(100)\n",
        "arr2 = np.random.rand(100)"
      ],
      "execution_count": null,
      "outputs": []
    },
    {
      "cell_type": "code",
      "metadata": {
        "id": "y9nRViVf9gPE",
        "colab": {
          "base_uri": "https://localhost:8080/"
        },
        "outputId": "000d2e44-596b-4aa9-bc3d-c64e19ece830"
      },
      "source": [
        "print( np.mean(0.21 * arr1 - 0.75 * arr2), \n",
        "      0.21 * np.mean(arr1) - 0.75 * np.mean(arr2))"
      ],
      "execution_count": null,
      "outputs": [
        {
          "output_type": "stream",
          "text": [
            "-0.2652868483553411 -0.2652868483553411\n"
          ],
          "name": "stdout"
        }
      ]
    }
  ]
}