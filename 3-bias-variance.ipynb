{
 "cells": [
  {
   "cell_type": "code",
   "execution_count": 1,
   "id": "9a329e0a",
   "metadata": {
    "_cell_guid": "b1076dfc-b9ad-4769-8c92-a6c4dae69d19",
    "_uuid": "8f2839f25d086af736a60e9eeb907d3b93b6e0e5",
    "execution": {
     "iopub.execute_input": "2023-03-10T18:55:32.940031Z",
     "iopub.status.busy": "2023-03-10T18:55:32.938514Z",
     "iopub.status.idle": "2023-03-10T18:55:32.951743Z",
     "shell.execute_reply": "2023-03-10T18:55:32.950476Z"
    },
    "papermill": {
     "duration": 0.021017,
     "end_time": "2023-03-10T18:55:32.954523",
     "exception": false,
     "start_time": "2023-03-10T18:55:32.933506",
     "status": "completed"
    },
    "tags": []
   },
   "outputs": [],
   "source": [
    "# This Python 3 environment comes with many helpful analytics libraries installed\n",
    "# It is defined by the kaggle/python Docker image: https://github.com/kaggle/docker-python\n",
    "# For example, here's several helpful packages to load\n",
    "\n",
    "import numpy as np # linear algebra\n",
    "import pandas as pd # data processing, CSV file I/O (e.g. pd.read_csv)\n",
    "\n",
    "# Input data files are available in the read-only \"../input/\" directory\n",
    "# For example, running this (by clicking run or pressing Shift+Enter) will list all files under the input directory\n",
    "\n",
    "import os\n",
    "for dirname, _, filenames in os.walk('/kaggle/input'):\n",
    "    for filename in filenames:\n",
    "        print(os.path.join(dirname, filename))\n",
    "\n",
    "# You can write up to 20GB to the current directory (/kaggle/working/) that gets preserved as output when you create a version using \"Save & Run All\" \n",
    "# You can also write temporary files to /kaggle/temp/, but they won't be saved outside of the current session"
   ]
  },
  {
   "cell_type": "markdown",
   "id": "3376def9",
   "metadata": {
    "papermill": {
     "duration": 0.00137,
     "end_time": "2023-03-10T18:55:32.957971",
     "exception": false,
     "start_time": "2023-03-10T18:55:32.956601",
     "status": "completed"
    },
    "tags": []
   },
   "source": [
    "# Bias & Variance\n",
    "Bias and variance are two types of errors that affect the performance of a machine learning model. \n",
    "\n",
    "* Bias is the difference between the actual and predicted values of a model. \n",
    "* Variance is the variation in the predicted values of a model for different data sets.\n",
    "\n",
    "* A model with high bias is too simple and underfits the data, meaning it cannot capture the complex patterns in the data. \n",
    "* A model with high variance is too complex and overfits the data, meaning it memorizes the noise and outliers in the data2.\n",
    "\n",
    "The ideal machine learning model has low bias and low variance, meaning it can make accurate and consistent predictions for new data. However, achieving this balance is difficult because there is a trade-off between bias and variance: reducing one usually increases the other. This is called the bias-variance dilemma.\n",
    "\n",
    "Some examples of techniques to reduce bias are: \n",
    "1. increasing model complexity, \n",
    "2. adding more features, or using more advanced algorithms. \n",
    "\n",
    "Some examples of techniques to reduce variance are:\n",
    "1. decreasing model complexity, \n",
    "2. removing irrelevant features, or using regularization methods."
   ]
  },
  {
   "cell_type": "code",
   "execution_count": null,
   "id": "edaf7cde",
   "metadata": {
    "papermill": {
     "duration": 0.001334,
     "end_time": "2023-03-10T18:55:32.960867",
     "exception": false,
     "start_time": "2023-03-10T18:55:32.959533",
     "status": "completed"
    },
    "tags": []
   },
   "outputs": [],
   "source": []
  }
 ],
 "metadata": {
  "kernelspec": {
   "display_name": "Python 3",
   "language": "python",
   "name": "python3"
  },
  "language_info": {
   "codemirror_mode": {
    "name": "ipython",
    "version": 3
   },
   "file_extension": ".py",
   "mimetype": "text/x-python",
   "name": "python",
   "nbconvert_exporter": "python",
   "pygments_lexer": "ipython3",
   "version": "3.7.12"
  },
  "papermill": {
   "default_parameters": {},
   "duration": 12.01747,
   "end_time": "2023-03-10T18:55:33.887117",
   "environment_variables": {},
   "exception": null,
   "input_path": "__notebook__.ipynb",
   "output_path": "__notebook__.ipynb",
   "parameters": {},
   "start_time": "2023-03-10T18:55:21.869647",
   "version": "2.4.0"
  }
 },
 "nbformat": 4,
 "nbformat_minor": 5
}
