{
 "cells": [
  {
   "cell_type": "code",
   "execution_count": 1,
   "id": "ffca63b7",
   "metadata": {
    "_cell_guid": "b1076dfc-b9ad-4769-8c92-a6c4dae69d19",
    "_uuid": "8f2839f25d086af736a60e9eeb907d3b93b6e0e5",
    "execution": {
     "iopub.execute_input": "2023-03-10T14:29:45.456059Z",
     "iopub.status.busy": "2023-03-10T14:29:45.455553Z",
     "iopub.status.idle": "2023-03-10T14:29:45.468105Z",
     "shell.execute_reply": "2023-03-10T14:29:45.466911Z"
    },
    "papermill": {
     "duration": 0.020753,
     "end_time": "2023-03-10T14:29:45.471119",
     "exception": false,
     "start_time": "2023-03-10T14:29:45.450366",
     "status": "completed"
    },
    "tags": []
   },
   "outputs": [],
   "source": [
    "# This Python 3 environment comes with many helpful analytics libraries installed\n",
    "# It is defined by the kaggle/python Docker image: https://github.com/kaggle/docker-python\n",
    "# For example, here's several helpful packages to load\n",
    "\n",
    "import numpy as np # linear algebra\n",
    "import pandas as pd # data processing, CSV file I/O (e.g. pd.read_csv)\n",
    "\n",
    "# Input data files are available in the read-only \"../input/\" directory\n",
    "# For example, running this (by clicking run or pressing Shift+Enter) will list all files under the input directory\n",
    "\n",
    "import os\n",
    "for dirname, _, filenames in os.walk('/kaggle/input'):\n",
    "    for filename in filenames:\n",
    "        print(os.path.join(dirname, filename))\n",
    "\n",
    "# You can write up to 20GB to the current directory (/kaggle/working/) that gets preserved as output when you create a version using \"Save & Run All\" \n",
    "# You can also write temporary files to /kaggle/temp/, but they won't be saved outside of the current session"
   ]
  },
  {
   "cell_type": "markdown",
   "id": "08911d6d",
   "metadata": {
    "papermill": {
     "duration": 0.001588,
     "end_time": "2023-03-10T14:29:45.474874",
     "exception": false,
     "start_time": "2023-03-10T14:29:45.473286",
     "status": "completed"
    },
    "tags": []
   },
   "source": [
    "# Autoencoders\n",
    "Autoencoders are a type of neural network that can learn to compress and reconstruct data without any labels. Autoencoders have two main parts: an **encoder** and a **decoder**.\n",
    "\n",
    "The encoder takes the input data (such as an image) and transforms it into a smaller representation called the **latent space**. The latent space contains the essential features of the input data that can be used to recreate it.\n",
    "\n",
    "The decoder takes the latent space and tries to reconstruct the input data as closely as possible. The reconstruction is compared with the original input and the difference is used to update the weights of the neural network.\n",
    "\n",
    "Autoencoders can be used for various purposes, such as:\n",
    "\n",
    "* **Data compression:** Autoencoders can reduce the size of data by encoding it into a smaller representation that can be decoded later.\n",
    "* **Data denoising:** Autoencoders can remove noise from data by learning to reconstruct clean data from noisy inputs.\n",
    "* **Data generation:** Autoencoders can create new data that is similar to the original data by sampling from the latent space."
   ]
  },
  {
   "cell_type": "code",
   "execution_count": null,
   "id": "03f424a3",
   "metadata": {
    "papermill": {
     "duration": 0.00156,
     "end_time": "2023-03-10T14:29:45.478476",
     "exception": false,
     "start_time": "2023-03-10T14:29:45.476916",
     "status": "completed"
    },
    "tags": []
   },
   "outputs": [],
   "source": []
  }
 ],
 "metadata": {
  "kernelspec": {
   "display_name": "Python 3",
   "language": "python",
   "name": "python3"
  },
  "language_info": {
   "codemirror_mode": {
    "name": "ipython",
    "version": 3
   },
   "file_extension": ".py",
   "mimetype": "text/x-python",
   "name": "python",
   "nbconvert_exporter": "python",
   "pygments_lexer": "ipython3",
   "version": "3.7.12"
  },
  "papermill": {
   "default_parameters": {},
   "duration": 12.851913,
   "end_time": "2023-03-10T14:29:46.204642",
   "environment_variables": {},
   "exception": null,
   "input_path": "__notebook__.ipynb",
   "output_path": "__notebook__.ipynb",
   "parameters": {},
   "start_time": "2023-03-10T14:29:33.352729",
   "version": "2.4.0"
  }
 },
 "nbformat": 4,
 "nbformat_minor": 5
}
