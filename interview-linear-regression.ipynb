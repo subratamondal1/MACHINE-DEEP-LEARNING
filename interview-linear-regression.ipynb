{
 "cells": [
  {
   "cell_type": "code",
   "execution_count": 1,
   "id": "9332e5fe",
   "metadata": {
    "_cell_guid": "b1076dfc-b9ad-4769-8c92-a6c4dae69d19",
    "_uuid": "8f2839f25d086af736a60e9eeb907d3b93b6e0e5",
    "execution": {
     "iopub.execute_input": "2023-03-07T18:21:57.336200Z",
     "iopub.status.busy": "2023-03-07T18:21:57.335758Z",
     "iopub.status.idle": "2023-03-07T18:21:57.347579Z",
     "shell.execute_reply": "2023-03-07T18:21:57.346364Z"
    },
    "papermill": {
     "duration": 0.020531,
     "end_time": "2023-03-07T18:21:57.350109",
     "exception": false,
     "start_time": "2023-03-07T18:21:57.329578",
     "status": "completed"
    },
    "tags": []
   },
   "outputs": [],
   "source": [
    "# This Python 3 environment comes with many helpful analytics libraries installed\n",
    "# It is defined by the kaggle/python Docker image: https://github.com/kaggle/docker-python\n",
    "# For example, here's several helpful packages to load\n",
    "\n",
    "import numpy as np # linear algebra\n",
    "import pandas as pd # data processing, CSV file I/O (e.g. pd.read_csv)\n",
    "\n",
    "# Input data files are available in the read-only \"../input/\" directory\n",
    "# For example, running this (by clicking run or pressing Shift+Enter) will list all files under the input directory\n",
    "\n",
    "import os\n",
    "for dirname, _, filenames in os.walk('/kaggle/input'):\n",
    "    for filename in filenames:\n",
    "        print(os.path.join(dirname, filename))\n",
    "\n",
    "# You can write up to 20GB to the current directory (/kaggle/working/) that gets preserved as output when you create a version using \"Save & Run All\" \n",
    "# You can also write temporary files to /kaggle/temp/, but they won't be saved outside of the current session"
   ]
  },
  {
   "cell_type": "markdown",
   "id": "2273db2a",
   "metadata": {
    "execution": {
     "iopub.execute_input": "2023-03-07T14:50:42.626488Z",
     "iopub.status.busy": "2023-03-07T14:50:42.626053Z",
     "iopub.status.idle": "2023-03-07T14:50:42.633289Z",
     "shell.execute_reply": "2023-03-07T14:50:42.631650Z",
     "shell.execute_reply.started": "2023-03-07T14:50:42.626447Z"
    },
    "papermill": {
     "duration": 0.002497,
     "end_time": "2023-03-07T18:21:57.355655",
     "exception": false,
     "start_time": "2023-03-07T18:21:57.353158",
     "status": "completed"
    },
    "tags": []
   },
   "source": [
    "----\n",
    "# <center>Interview Linear Regression</center>\n",
    "---"
   ]
  },
  {
   "cell_type": "markdown",
   "id": "129f67b1",
   "metadata": {
    "papermill": {
     "duration": 0.002467,
     "end_time": "2023-03-07T18:21:57.360714",
     "exception": false,
     "start_time": "2023-03-07T18:21:57.358247",
     "status": "completed"
    },
    "tags": []
   },
   "source": [
    "# Q1: What is Linear Regression?  \n",
    "**`Related To: Supervised Learning`**"
   ]
  },
  {
   "cell_type": "markdown",
   "id": "22ed9999",
   "metadata": {
    "papermill": {
     "duration": 0.002379,
     "end_time": "2023-03-07T18:21:57.365650",
     "exception": false,
     "start_time": "2023-03-07T18:21:57.363271",
     "status": "completed"
    },
    "tags": []
   },
   "source": [
    "Linear regression is a supervised machine learning algorithm that models the relationship between a dependent variable (y) and one or more independent variables (x) using a linear function. The goal of linear regression is to find the best-fitting line that minimizes the sum of squared errors (SSE) between the observed values and the predicted values of y.\n",
    "\n",
    "* Linear regression can be used for predictive analysis, such as forecasting sales, salary, age, product price, etc., based on historical data. * Linear regression can also be used for explanatory analysis, such as finding out how different factors affect an outcome variable\n",
    "\n",
    "Some examples of linear regression are:\n",
    "\n",
    "1. Simple linear regression: This is when there is only one independent variable (x) and one dependent variable (y). For example, predicting the height of a person based on their weight using the equation y = mx + c, where m is the slope and c is the intercept.\n",
    "2. Multiple linear regression: This is when there are more than one independent variables (x1, x2,… ,xn) and one dependent variable (y). For example, predicting the house price based on its size, location, number of rooms, etc., using the equation y = β0 + β1x1 + β2x2 + … + βnxn + ε , where β0,… ,βn are the coefficients and ε is the error term3.\n",
    "3. Polynomial linear regression: This is when some of the independent variables are raised to higher powers. For example, predicting the fuel efficiency of a car based on its speed and acceleration using the equation y = β0 + β1x1 + β2x2 + β3x1^2 + β4x2^2 + ε , where x1 is speed and x2 is acceleration"
   ]
  },
  {
   "cell_type": "code",
   "execution_count": 2,
   "id": "cfaa5c2b",
   "metadata": {
    "execution": {
     "iopub.execute_input": "2023-03-07T18:21:57.372915Z",
     "iopub.status.busy": "2023-03-07T18:21:57.372465Z",
     "iopub.status.idle": "2023-03-07T18:22:00.184952Z",
     "shell.execute_reply": "2023-03-07T18:22:00.183281Z"
    },
    "papermill": {
     "duration": 2.825071,
     "end_time": "2023-03-07T18:22:00.193370",
     "exception": false,
     "start_time": "2023-03-07T18:21:57.368299",
     "status": "completed"
    },
    "tags": []
   },
   "outputs": [
    {
     "name": "stdout",
     "output_type": "stream",
     "text": [
      "Coefficients: [ 4.36693293e-01  9.43577803e-03 -1.07322041e-01  6.45065694e-01\n",
      " -3.97638942e-06 -3.78654265e-03 -4.21314378e-01 -4.34513755e-01]\n",
      "Intercept: -36.94192020718442\n",
      "MSE: 0.5243209861846072\n"
     ]
    }
   ],
   "source": [
    "# Import libraries\n",
    "import numpy as np\n",
    "import pandas as pd\n",
    "from sklearn.linear_model import LinearRegression\n",
    "from sklearn.datasets import fetch_california_housing\n",
    "\n",
    "# Load the dataset\n",
    "california = fetch_california_housing()\n",
    "X = california.data # features\n",
    "y = california.target # target\n",
    "\n",
    "# Create a data frame with feature names\n",
    "df = pd.DataFrame(X, columns=california.feature_names)\n",
    "\n",
    "# Add the target column to the data frame\n",
    "df[\"MEDV\"] = y\n",
    "\n",
    "# Create a linear regression model\n",
    "model = LinearRegression()\n",
    "\n",
    "# Fit the model to the data\n",
    "model.fit(X, y)\n",
    "\n",
    "# Get the coefficients and intercept\n",
    "print(\"Coefficients:\", model.coef_)\n",
    "print(\"Intercept:\", model.intercept_)\n",
    "\n",
    "# Predict y values for X values\n",
    "y_pred = model.predict(X)\n",
    "\n",
    "# Calculate the mean squared error (MSE)\n",
    "mse = np.mean((y - y_pred) ** 2)\n",
    "print(\"MSE:\", mse)"
   ]
  },
  {
   "cell_type": "code",
   "execution_count": 3,
   "id": "f37e4dfa",
   "metadata": {
    "execution": {
     "iopub.execute_input": "2023-03-07T18:22:00.210603Z",
     "iopub.status.busy": "2023-03-07T18:22:00.209916Z",
     "iopub.status.idle": "2023-03-07T18:22:00.526248Z",
     "shell.execute_reply": "2023-03-07T18:22:00.525270Z"
    },
    "papermill": {
     "duration": 0.327873,
     "end_time": "2023-03-07T18:22:00.528760",
     "exception": false,
     "start_time": "2023-03-07T18:22:00.200887",
     "status": "completed"
    },
    "tags": []
   },
   "outputs": [
    {
     "data": {
      "image/png": "[encoded data removed]",
      "text/plain": [
       "<Figure size 640x480 with 1 Axes>"
      ]
     },
     "metadata": {},
     "output_type": "display_data"
    }
   ],
   "source": [
    "# Import libraries\n",
    "import matplotlib.pyplot as plt\n",
    "import numpy as np\n",
    "\n",
    "# Create some dummy data\n",
    "x = np.array([1, 2, 3, 4, 5])\n",
    "y = np.array([2.1, 3.9, 6.2, 7.8, 9.7])\n",
    "\n",
    "# Find the slope and intercept of the best fit line\n",
    "a, b = np.polyfit(x, y, 1)\n",
    "\n",
    "# Plot the data points\n",
    "plt.scatter(x, y)\n",
    "\n",
    "# Plot the best fit line\n",
    "plt.plot(x, a*x+b)\n",
    "\n",
    "# Add labels and title\n",
    "plt.xlabel(\"x\")\n",
    "plt.ylabel(\"y\")\n",
    "plt.title(\"Linear Regression Best Fit Line\")\n",
    "\n",
    "# Show the plot\n",
    "plt.show()"
   ]
  },
  {
   "cell_type": "markdown",
   "id": "891207ec",
   "metadata": {
    "papermill": {
     "duration": 0.003276,
     "end_time": "2023-03-07T18:22:00.535628",
     "exception": false,
     "start_time": "2023-03-07T18:22:00.532352",
     "status": "completed"
    },
    "tags": []
   },
   "source": [
    "# Q2:   How would you detect Overfitting in Linear Models?  \n",
    "**`Related To: Model Evaluation`**"
   ]
  },
  {
   "cell_type": "code",
   "execution_count": null,
   "id": "55ee66d6",
   "metadata": {
    "papermill": {
     "duration": 0.003341,
     "end_time": "2023-03-07T18:22:00.542521",
     "exception": false,
     "start_time": "2023-03-07T18:22:00.539180",
     "status": "completed"
    },
    "tags": []
   },
   "outputs": [],
   "source": []
  },
  {
   "cell_type": "code",
   "execution_count": null,
   "id": "a3db6586",
   "metadata": {
    "papermill": {
     "duration": 0.00305,
     "end_time": "2023-03-07T18:22:00.548922",
     "exception": false,
     "start_time": "2023-03-07T18:22:00.545872",
     "status": "completed"
    },
    "tags": []
   },
   "outputs": [],
   "source": []
  }
 ],
 "metadata": {
  "kernelspec": {
   "display_name": "Python 3",
   "language": "python",
   "name": "python3"
  },
  "language_info": {
   "codemirror_mode": {
    "name": "ipython",
    "version": 3
   },
   "file_extension": ".py",
   "mimetype": "text/x-python",
   "name": "python",
   "nbconvert_exporter": "python",
   "pygments_lexer": "ipython3",
   "version": "3.7.12"
  },
  "papermill": {
   "default_parameters": {},
   "duration": 15.148002,
   "end_time": "2023-03-07T18:22:01.274517",
   "environment_variables": {},
   "exception": null,
   "input_path": "__notebook__.ipynb",
   "output_path": "__notebook__.ipynb",
   "parameters": {},
   "start_time": "2023-03-07T18:21:46.126515",
   "version": "2.4.0"
  }
 },
 "nbformat": 4,
 "nbformat_minor": 5
}
