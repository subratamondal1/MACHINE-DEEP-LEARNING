{
 "cells": [
  {
   "cell_type": "code",
   "execution_count": 1,
   "id": "2f338a06",
   "metadata": {
    "_cell_guid": "b1076dfc-b9ad-4769-8c92-a6c4dae69d19",
    "_uuid": "8f2839f25d086af736a60e9eeb907d3b93b6e0e5",
    "execution": {
     "iopub.execute_input": "2023-03-09T02:45:27.905641Z",
     "iopub.status.busy": "2023-03-09T02:45:27.904987Z",
     "iopub.status.idle": "2023-03-09T02:45:27.920045Z",
     "shell.execute_reply": "2023-03-09T02:45:27.918792Z"
    },
    "papermill": {
     "duration": 0.031151,
     "end_time": "2023-03-09T02:45:27.923231",
     "exception": false,
     "start_time": "2023-03-09T02:45:27.892080",
     "status": "completed"
    },
    "tags": []
   },
   "outputs": [],
   "source": [
    "# This Python 3 environment comes with many helpful analytics libraries installed\n",
    "# It is defined by the kaggle/python Docker image: https://github.com/kaggle/docker-python\n",
    "# For example, here's several helpful packages to load\n",
    "\n",
    "import numpy as np # linear algebra\n",
    "import pandas as pd # data processing, CSV file I/O (e.g. pd.read_csv)\n",
    "\n",
    "# Input data files are available in the read-only \"../input/\" directory\n",
    "# For example, running this (by clicking run or pressing Shift+Enter) will list all files under the input directory\n",
    "\n",
    "import os\n",
    "for dirname, _, filenames in os.walk('/kaggle/input'):\n",
    "    for filename in filenames:\n",
    "        print(os.path.join(dirname, filename))\n",
    "\n",
    "# You can write up to 20GB to the current directory (/kaggle/working/) that gets preserved as output when you create a version using \"Save & Run All\" \n",
    "# You can also write temporary files to /kaggle/temp/, but they won't be saved outside of the current session"
   ]
  },
  {
   "cell_type": "markdown",
   "id": "8ebadf70",
   "metadata": {
    "execution": {
     "iopub.execute_input": "2023-03-07T14:50:42.626488Z",
     "iopub.status.busy": "2023-03-07T14:50:42.626053Z",
     "iopub.status.idle": "2023-03-07T14:50:42.633289Z",
     "shell.execute_reply": "2023-03-07T14:50:42.631650Z",
     "shell.execute_reply.started": "2023-03-07T14:50:42.626447Z"
    },
    "papermill": {
     "duration": 0.007429,
     "end_time": "2023-03-09T02:45:27.938788",
     "exception": false,
     "start_time": "2023-03-09T02:45:27.931359",
     "status": "completed"
    },
    "tags": []
   },
   "source": [
    "----\n",
    "# <center>Interview Linear Regression</center>\n",
    "---"
   ]
  },
  {
   "cell_type": "markdown",
   "id": "d9c978da",
   "metadata": {
    "papermill": {
     "duration": 0.007624,
     "end_time": "2023-03-09T02:45:27.954142",
     "exception": false,
     "start_time": "2023-03-09T02:45:27.946518",
     "status": "completed"
    },
    "tags": []
   },
   "source": [
    "# Q1: What is Linear Regression?  \n",
    "**`Related To: Supervised Learning`**"
   ]
  },
  {
   "cell_type": "markdown",
   "id": "10399abd",
   "metadata": {
    "papermill": {
     "duration": 0.007255,
     "end_time": "2023-03-09T02:45:27.969098",
     "exception": false,
     "start_time": "2023-03-09T02:45:27.961843",
     "status": "completed"
    },
    "tags": []
   },
   "source": [
    "Linear regression is a supervised machine learning algorithm that models the relationship between a dependent variable (y) and one or more independent variables (x) using a linear function. The goal of linear regression is to find the best-fitting line that minimizes the sum of squared errors (SSE) between the observed values and the predicted values of y.\n",
    "\n",
    "* Linear regression can be used for predictive analysis, such as forecasting sales, salary, age, product price, etc., based on historical data. \n",
    "\n",
    "* Linear regression can also be used for explanatory analysis, such as finding out how different factors affect an outcome variable\n",
    "\n",
    "Some examples of linear regression are:\n",
    "\n",
    "1. Simple linear regression: This is when there is only one independent variable $(x)$ and one dependent variable $(y)$. For example, predicting the height$(y)$ of a person based on their weight$(x)$ using the equation $$y = mx + c$$, where m is the slope and c is the intercept.\n",
    "\n",
    "\n",
    "2. Multiple linear regression: This is when there are more than one independent variables $(x_1, x_2,… ,x_n)$ and one dependent variable $(y)$. For example, predicting the house price$(y)$ based on its size$(x_1)$, location$(x_2)$, number of rooms$(x_3)$ ... etc., using the equation $$y = β_0 + β_1x_1 + β_2x_2 + … + β_nx_n + ε$$ , where $β_0,… ,β_n$ are the coefficients and $ε$ is the error term.\n",
    "\n",
    "\n",
    "3. Polynomial linear regression: This is when some of the independent variables are raised to higher powers. For example, predicting the fuel efficiency of a car based on its speed and acceleration using the equation $$y = β_0 + β_1x_1 + β_2x_2 + β_3x_1^2 + β_4x_2^2 + ε$$ , where $x_1$ is speed and $x_2$ is acceleration"
   ]
  },
  {
   "cell_type": "code",
   "execution_count": 2,
   "id": "e388bbf7",
   "metadata": {
    "execution": {
     "iopub.execute_input": "2023-03-09T02:45:27.987346Z",
     "iopub.status.busy": "2023-03-09T02:45:27.986061Z",
     "iopub.status.idle": "2023-03-09T02:45:29.637149Z",
     "shell.execute_reply": "2023-03-09T02:45:29.635614Z"
    },
    "papermill": {
     "duration": 1.664468,
     "end_time": "2023-03-09T02:45:29.641183",
     "exception": false,
     "start_time": "2023-03-09T02:45:27.976715",
     "status": "completed"
    },
    "tags": []
   },
   "outputs": [
    {
     "data": {
      "image/png": "[encoded data removed]",
      "text/plain": [
       "<Figure size 640x480 with 1 Axes>"
      ]
     },
     "metadata": {},
     "output_type": "display_data"
    }
   ],
   "source": [
    "# Import libraries\n",
    "import numpy as np\n",
    "import matplotlib.pyplot as plt\n",
    "from sklearn.linear_model import LinearRegression\n",
    "import sklearn.model_selection as model_selection\n",
    "\n",
    "# Generate some random data\n",
    "np.random.seed(0)\n",
    "X = np.random.rand(100, 1) # 100 random numbers between 0 and 1\n",
    "y = 3 + 5 * X + np.random.randn(100, 1) # y = 3 + 5x + noise\n",
    "\n",
    "X_train, X_test, y_train, y_test = model_selection.train_test_split(X,y,test_size=0.2)\n",
    "\n",
    "# Create a linear regression model\n",
    "model = LinearRegression()\n",
    "model.fit(X_train, y_train) # Fit the model to the data\n",
    "\n",
    "# Predict y values for x values\n",
    "y_pred = model.predict(X_test)\n",
    "\n",
    "# Plot the data and the best fit line\n",
    "plt.scatter(X,y) # Plot the original data points\n",
    "plt.plot(X_test, y_pred, color='red') # Plot the predicted y values\n",
    "plt.xlabel('x')\n",
    "plt.ylabel('y')\n",
    "plt.title('Linear Regression Example')\n",
    "plt.show()"
   ]
  },
  {
   "cell_type": "markdown",
   "id": "7158bbd4",
   "metadata": {
    "papermill": {
     "duration": 0.008693,
     "end_time": "2023-03-09T02:45:29.661127",
     "exception": false,
     "start_time": "2023-03-09T02:45:29.652434",
     "status": "completed"
    },
    "tags": []
   },
   "source": [
    "# Q2: Bias-variance trade-off."
   ]
  },
  {
   "cell_type": "markdown",
   "id": "0a0ac4ae",
   "metadata": {
    "papermill": {
     "duration": 0.008405,
     "end_time": "2023-03-09T02:45:29.678475",
     "exception": false,
     "start_time": "2023-03-09T02:45:29.670070",
     "status": "completed"
    },
    "tags": []
   },
   "source": [
    "Bias-variance trade-off in machine learning is a design consideration when training a machine learning model. It refers to the balance between two types of errors that affect the model’s performance:\n",
    "\n",
    "1. Bias: The difference between the average prediction of the model and the true value. A high bias means that the model is too simple and cannot capture the complexity of the data. This leads to underfitting and poor generalisation.\n",
    "\n",
    "2. Variance: The variability of the model predictions for a given data point. A high variance means that the model is too sensitive to small fluctuations in the data. This leads to overfitting and poor generalisation.\n",
    "\n",
    "3. Bias and variance are inversely related, meaning that reducing one will increase the other. It is nearly impossible to have a model with low bias and low variance. Therefore, we need to find a sweet spot that minimises both errors as much as possible3.\n",
    "\n",
    "Some of the factors that affect bias-variance trade-off are4:\n",
    "\n",
    "1. Model complexity: More complex models tend to have low bias but high variance, while simpler models tend to have high bias but low variance.\n",
    "2. Regularisation: Adding a penalty term to the loss function can help reduce variance by shrinking or eliminating some model parameters.\n",
    "3. Training data size: Having more training data can help reduce variance by providing more information for the model to learn from.\n",
    "4. Noise level: Having noisy or inaccurate data can increase both bias and variance by confusing or misleading the model."
   ]
  },
  {
   "cell_type": "markdown",
   "id": "b2e6b9eb",
   "metadata": {
    "papermill": {
     "duration": 0.008473,
     "end_time": "2023-03-09T02:45:29.697117",
     "exception": false,
     "start_time": "2023-03-09T02:45:29.688644",
     "status": "completed"
    },
    "tags": []
   },
   "source": [
    "# Q3:   How would you detect Overfitting in Linear Models?  \n",
    "**`Related To: Model Evaluation`**"
   ]
  },
  {
   "cell_type": "markdown",
   "id": "de4c80e9",
   "metadata": {
    "execution": {
     "iopub.execute_input": "2023-03-07T19:37:18.340656Z",
     "iopub.status.busy": "2023-03-07T19:37:18.340136Z",
     "iopub.status.idle": "2023-03-07T19:37:18.939074Z",
     "shell.execute_reply": "2023-03-07T19:37:18.937547Z",
     "shell.execute_reply.started": "2023-03-07T19:37:18.340605Z"
    },
    "papermill": {
     "duration": 0.008511,
     "end_time": "2023-03-09T02:45:29.714507",
     "exception": false,
     "start_time": "2023-03-09T02:45:29.705996",
     "status": "completed"
    },
    "tags": []
   },
   "source": [
    "Overfitting in machine learning is a common problem that occurs when a model is trained so much on the training dataset that it learns specific details about the training data that don’t generalise well, and cause poor performance on new, unseen data. \n",
    "\n",
    "For example, if you train a model to classify images of cats and dogs, and your training data has only images of cats with blue eyes and dogs with brown eyes, then your model might learn to associate eye color with the class label. This would lead to overfitting, because your model would fail to recognise cats with brown eyes or dogs with blue eyes as valid examples.\n",
    "\n",
    "Some of the reasons for overfitting are:\n",
    "\n",
    "1. High variance and low bias: The model is too complex and flexible, and can fit any data point perfectly.\n",
    "2. The size of the training data: The model has more parameters than data points, which makes it easy to memorise the training data.\n",
    "3. The quality of the training data: The data is noisy or inaccurate, which confuses the model.\n",
    "\n",
    "Some of the ways to prevent or reduce overfitting are:\n",
    "\n",
    "1. Cross-validation: Use your initial training data to generate multiple mini train-test splits. Use these splits to tune your model.\n",
    "2. Using regularization methods such as ridge regression or lasso regression that adds a penalty term to your loss function that penalises complex models with large weights or coefficients.\n",
    "3. Reducing the number of features by performing feature selection or feature extraction techniques such as principal component analysis (PCA) or factor analysis\n",
    "4. Data augmentation: Increase the size and diversity of your training data by applying transformations such as rotation, scaling, cropping, flipping etc.\n",
    "5. Using predicted R-squared instead of R-squared to measure how well your model fits the data. Predicted R-squared adjusts for the number of parameters and penalizes overfit models\n",
    "6. Ensembling: Combine multiple models with different strengths and weaknesses to create a more robust and generalisable model. For example, you can use bagging, boosting or stacking methods to ensemble different models."
   ]
  },
  {
   "cell_type": "markdown",
   "id": "12f22315",
   "metadata": {
    "papermill": {
     "duration": 0.008474,
     "end_time": "2023-03-09T02:45:29.731839",
     "exception": false,
     "start_time": "2023-03-09T02:45:29.723365",
     "status": "completed"
    },
    "tags": []
   },
   "source": [
    "# Q4: What are types of Linear Regression?  "
   ]
  },
  {
   "cell_type": "markdown",
   "id": "2c63ec3d",
   "metadata": {
    "papermill": {
     "duration": 0.008517,
     "end_time": "2023-03-09T02:45:29.749323",
     "exception": false,
     "start_time": "2023-03-09T02:45:29.740806",
     "status": "completed"
    },
    "tags": []
   },
   "source": [
    "Linear regression is a type of machine learning algorithm that predicts a continuous output variable ($y$) based on one or more input variables ($x$). It assumes a linear relationship between $x$ and $y$, meaning that $y$ can be calculated from a linear combination of $x$.\n",
    "\n",
    "There are different types of linear regression depending on the number and nature of the input variables. Some common types are:\n",
    "\n",
    "1. Simple linear regression: This type uses only one input variable (x) to predict the output variable (y). For example, predicting the height of a person based on their weight.\n",
    "    * Predicting sales of umbrellas based on rainfall\n",
    "    * Predicting AC sales based on temperature in summer\n",
    "    * Predicting exam scores based on study hours\n",
    "\n",
    "2. Multiple linear regression: This type uses more than one input variable ($x_1, x_2, … x_n$) to predict the output variable ($y$). For example, predicting the price of a house based on its size, location, number of rooms, etc.\n",
    "    * Predicting the price of a house based on its location, size, age, and other features\n",
    "    * Predicting the price of HDFC stock based on the movement of the Nifty50 index\n",
    "    * Predicting crop yield based on rainfall, temperature, and fertilizer amount\n",
    "    * Predicting student performance based on IQ, motivation, and study hours\n",
    "    \n",
    "3. Polynomial linear regression: This type uses polynomial terms (such as $x_2, x_3, … x_n$) as input variables to predict the output variable ($y$). This allows for capturing nonlinear relationships between $x$ and $y$. For example, predicting the speed of a car based on its horsepower and weight.\n",
    "    * Predicting fuel efficiency based on speed and acceleration using a cubic model\n",
    "    * Predicting crop yield based on rainfall and temperature using a quadratic model\n",
    "    * Predicting electricity consumption based on temperature using a quartic model\n",
    "    * Predicting body fat percentage based on weight and height using a quadratic model\n",
    "    * Predicting salary based on experience using a cubic model\n",
    "4. Ridge regression: This type adds a regularization term to the linear regression equation to reduce overfitting and improve generalization. The regularization term penalizes large coefficients and shrinks them towards zero. For example, predicting blood pressure based on age, gender, weight, etc with ridge regression.\n",
    "\n",
    "5. Lasso regression: This type also adds a regularization term to the linear regression equation but uses a different penalty function than ridge regression. The penalty function tends to make some coefficients exactly zero, which results in feature selection. For example, predicting diabetes risk based on various health factors with lasso regression.\n",
    "\n"
   ]
  },
  {
   "cell_type": "markdown",
   "id": "15a596d2",
   "metadata": {
    "papermill": {
     "duration": 0.008655,
     "end_time": "2023-03-09T02:45:29.767037",
     "exception": false,
     "start_time": "2023-03-09T02:45:29.758382",
     "status": "completed"
    },
    "tags": []
   },
   "source": [
    "# Q5:   How can you check if the Regression model fits the data well?   "
   ]
  },
  {
   "cell_type": "markdown",
   "id": "51234acc",
   "metadata": {
    "papermill": {
     "duration": 0.008351,
     "end_time": "2023-03-09T02:45:29.784420",
     "exception": false,
     "start_time": "2023-03-09T02:45:29.776069",
     "status": "completed"
    },
    "tags": []
   },
   "source": [
    "There are different ways to check if a regression model fits the data well in Python. One way is to use the fit() method of the sklearn.linear_model.LinearRegression class. This method takes the independent(x) and dependent(y) variables as parameters and fills the regression object with data that describes the relationship."
   ]
  },
  {
   "cell_type": "code",
   "execution_count": 3,
   "id": "3634338a",
   "metadata": {
    "execution": {
     "iopub.execute_input": "2023-03-09T02:45:29.804280Z",
     "iopub.status.busy": "2023-03-09T02:45:29.803832Z",
     "iopub.status.idle": "2023-03-09T02:45:29.810828Z",
     "shell.execute_reply": "2023-03-09T02:45:29.809894Z"
    },
    "papermill": {
     "duration": 0.019743,
     "end_time": "2023-03-09T02:45:29.813038",
     "exception": false,
     "start_time": "2023-03-09T02:45:29.793295",
     "status": "completed"
    },
    "tags": []
   },
   "outputs": [],
   "source": [
    "# Import mean_squared_error function and numpy module\n",
    "from sklearn.metrics import mean_squared_error\n",
    "\n",
    "# Create a linear regression model\n",
    "model = LinearRegression()\n",
    "model.fit(X_train, y_train) # Fit the model to the data\n",
    "\n",
    "# Predict y values for x values\n",
    "y_pred = model.predict(X_test)"
   ]
  },
  {
   "cell_type": "markdown",
   "id": "47859861",
   "metadata": {
    "papermill": {
     "duration": 0.008619,
     "end_time": "2023-03-09T02:45:29.830582",
     "exception": false,
     "start_time": "2023-03-09T02:45:29.821963",
     "status": "completed"
    },
    "tags": []
   },
   "source": [
    "Another way is to use some metrics to evaluate the quality of your regression model. Some common metrics are:\n",
    "\n",
    "1. R-squared: This is a measure of how well the model explains the variability of the data. It ranges from 0 to 1, with higher values indicating better fit. You can use the score() method of the LinearRegression class to calculate R-squared.\n",
    "2. Mean squared error (MSE): This is a measure of how close the predictions are to the actual values. It is calculated by taking the average of the squared differences between predictions and actual values. You can use the mean_squared_error() function from sklearn.metrics module to calculate MSE.\n",
    "3. Root mean squared error (RMSE): This is a measure of how close the predictions are to the actual values, but in the same units as y. It is calculated by taking the square root of MSE. You can use numpy.sqrt() function to calculate RMSE."
   ]
  },
  {
   "cell_type": "code",
   "execution_count": 4,
   "id": "fd740855",
   "metadata": {
    "execution": {
     "iopub.execute_input": "2023-03-09T02:45:29.850637Z",
     "iopub.status.busy": "2023-03-09T02:45:29.850174Z",
     "iopub.status.idle": "2023-03-09T02:45:29.859160Z",
     "shell.execute_reply": "2023-03-09T02:45:29.857539Z"
    },
    "papermill": {
     "duration": 0.021987,
     "end_time": "2023-03-09T02:45:29.861506",
     "exception": false,
     "start_time": "2023-03-09T02:45:29.839519",
     "status": "completed"
    },
    "tags": []
   },
   "outputs": [
    {
     "name": "stdout",
     "output_type": "stream",
     "text": [
      "R-squared: 0.6919735936601392\n",
      "MSE: 0.8111606286982092\n",
      "RMSE: 0.9006445629093695\n"
     ]
    }
   ],
   "source": [
    "# Calculate R-squared, MSE and RMSE\n",
    "r2 = model.score(X_test, y_test)\n",
    "# mse\n",
    "mse = mean_squared_error(y_test, y_pred)\n",
    "# rmse\n",
    "rmse = np.sqrt(mse)\n",
    "\n",
    "# Print metrics\n",
    "print(\"R-squared:\", r2)\n",
    "print(\"MSE:\", mse)\n",
    "print(\"RMSE:\", rmse)"
   ]
  },
  {
   "cell_type": "markdown",
   "id": "5ba0880e",
   "metadata": {
    "papermill": {
     "duration": 0.008602,
     "end_time": "2023-03-09T02:45:29.879296",
     "exception": false,
     "start_time": "2023-03-09T02:45:29.870694",
     "status": "completed"
    },
    "tags": []
   },
   "source": [
    "A third way is to use some plots to visualize how well your model fits your data. Some common plots are:\n",
    "\n",
    "1. Residual plot: This is a plot of residuals (actual values minus predicted values) versus predicted values. Ideally, you want your residuals to be randomly distributed around zero, with no obvious patterns or trends.\n",
    "2. Scatter plot: This is a plot of actual values versus predicted values. Ideally, you want your points to lie close to a 45-degree line that indicates perfect fit.\n",
    "3. Histogram: This is a plot of frequency distribution of residuals. Ideally, you want your residuals to be normally distributed around zero."
   ]
  },
  {
   "cell_type": "code",
   "execution_count": 5,
   "id": "d860ba6f",
   "metadata": {
    "execution": {
     "iopub.execute_input": "2023-03-09T02:45:29.899564Z",
     "iopub.status.busy": "2023-03-09T02:45:29.898484Z",
     "iopub.status.idle": "2023-03-09T02:45:30.599095Z",
     "shell.execute_reply": "2023-03-09T02:45:30.597712Z"
    },
    "papermill": {
     "duration": 0.713705,
     "end_time": "2023-03-09T02:45:30.601850",
     "exception": false,
     "start_time": "2023-03-09T02:45:29.888145",
     "status": "completed"
    },
    "tags": []
   },
   "outputs": [
    {
     "data": {
      "image/png": "[encoded data removed]",
      "text/plain": [
       "<Figure size 640x480 with 1 Axes>"
      ]
     },
     "metadata": {},
     "output_type": "display_data"
    },
    {
     "data": {
      "image/png": "[encoded data removed]",
      "text/plain": [
       "<Figure size 640x480 with 1 Axes>"
      ]
     },
     "metadata": {},
     "output_type": "display_data"
    },
    {
     "data": {
      "image/png": "[encoded data removed]",
      "text/plain": [
       "<Figure size 640x480 with 1 Axes>"
      ]
     },
     "metadata": {},
     "output_type": "display_data"
    }
   ],
   "source": [
    "# Plot residual plot\n",
    "plt.scatter(y_pred, y_test - y_pred)\n",
    "plt.xlabel(\"Predicted Values\")\n",
    "plt.ylabel(\"Residuals\")\n",
    "plt.title(\"Residual Plot\")\n",
    "plt.show()\n",
    "\n",
    "# Plot scatter plot\n",
    "plt.scatter(y_pred, y_test)\n",
    "plt.xlabel(\"Predicted Values\")\n",
    "plt.ylabel(\"Actual Values\")\n",
    "plt.title(\"Scatter Plot\")\n",
    "plt.plot([y_test.min(), y_test.max()], [y_test.min(), y_test.max()], \"r\") # 45-degree line\n",
    "plt.show()\n",
    "\n",
    "# Plot histogram\n",
    "plt.hist(y_test - y_pred)\n",
    "plt.xlabel(\"Residuals\")\n",
    "plt.ylabel(\"Frequency\")\n",
    "plt.title(\"Histogram\")\n",
    "plt.show()"
   ]
  },
  {
   "cell_type": "markdown",
   "id": "0a2212df",
   "metadata": {
    "papermill": {
     "duration": 0.010143,
     "end_time": "2023-03-09T02:45:30.622382",
     "exception": false,
     "start_time": "2023-03-09T02:45:30.612239",
     "status": "completed"
    },
    "tags": []
   },
   "source": [
    "# Q6: How does a Non-Linear regression analysis differ from Linear regression analysis?  "
   ]
  },
  {
   "cell_type": "markdown",
   "id": "a22a35d2",
   "metadata": {
    "papermill": {
     "duration": 0.009903,
     "end_time": "2023-03-09T02:45:30.642704",
     "exception": false,
     "start_time": "2023-03-09T02:45:30.632801",
     "status": "completed"
    },
    "tags": []
   },
   "source": [
    "1. Linear regression models use a straight line (or a hyperplane) to relate the features and the outcome variable, while non linear regression models use a curved line (or a nonlinear function) to do so.\n",
    "2. Linear regression models are simpler and easier to interpret than non linear regression models.\n",
    "3. Non linear regression models can capture complex relationships than linear regression models.\n",
    "4. Non linear regression models require more data and computational resources than linear regression models.\n",
    "5. Non linear regression models can be more prone to overfitting or underfitting than linear regression models.\n",
    "\n",
    "Non linear regression is used when you cannot describe the prediction with a linear equation. This is when some terms are a factor times a coefficient and another one is a second factor taken to the power of a third coefficient2. In this case, the standard linear regression model will not solve.\n",
    "\n",
    "Some examples of use cases of non linear regression are:\n",
    "\n",
    "* Modeling population growth over time using an exponential or logistic function3.\n",
    "* Modeling enzyme kinetics using a Michaelis-Menten equation.\n",
    "* Modeling drug concentration in blood using a pharmacokinetic model.\n",
    "* Modeling radioactive decay using an exponential decay function"
   ]
  },
  {
   "cell_type": "markdown",
   "id": "85410fec",
   "metadata": {
    "papermill": {
     "duration": 0.010052,
     "end_time": "2023-03-09T02:45:30.663325",
     "exception": false,
     "start_time": "2023-03-09T02:45:30.653273",
     "status": "completed"
    },
    "tags": []
   },
   "source": [
    "# Q7: What is the difference between Mean Absolute Error (MAE) vs Mean Squared Error (MSE)? "
   ]
  },
  {
   "cell_type": "markdown",
   "id": "c16c7cd7",
   "metadata": {
    "papermill": {
     "duration": 0.009839,
     "end_time": "2023-03-09T02:45:30.683341",
     "exception": false,
     "start_time": "2023-03-09T02:45:30.673502",
     "status": "completed"
    },
    "tags": []
   },
   "source": [
    "MAE (Mean Absolute Error) and MSE (Mean Squared Error) are two common metrics for measuring the accuracy of regression models in machine learning. They both calculate the difference between the actual and predicted values of a data set, but they do so in different ways.\n",
    "\n",
    "   * MAE takes the average of the absolute differences between the actual and predicted values. This means it gives equal weight to all errors and does not penalize large errors more than small ones. \n",
    "   * MAE is easier to interpret than MSE because it has the same scale as the data.\n",
    "\n",
    "   * MSE takes the average of the squared differences between the actual and predicted values. This means it gives more weight to large errors than small ones and penalizes outliers more harshly. \n",
    "   * MSE gives more weight to large errors than small ones and penalizes outliers more harshly because it squares the errors before averaging them. This means that larger errors have a greater impact on the MSE value than smaller errors.\n",
    "   * MSE is harder to interpret than MAE because it has a different scale than the data.\n",
    "\n",
    "Here is an example of how to calculate MAE and MSE in Python using numpy:"
   ]
  },
  {
   "cell_type": "code",
   "execution_count": 6,
   "id": "87cf40ee",
   "metadata": {
    "execution": {
     "iopub.execute_input": "2023-03-09T02:45:30.707207Z",
     "iopub.status.busy": "2023-03-09T02:45:30.705593Z",
     "iopub.status.idle": "2023-03-09T02:45:30.716272Z",
     "shell.execute_reply": "2023-03-09T02:45:30.714537Z"
    },
    "papermill": {
     "duration": 0.025836,
     "end_time": "2023-03-09T02:45:30.719530",
     "exception": false,
     "start_time": "2023-03-09T02:45:30.693694",
     "status": "completed"
    },
    "tags": []
   },
   "outputs": [
    {
     "name": "stdout",
     "output_type": "stream",
     "text": [
      "MAE: 1.0\n",
      "MSE: 1.0\n"
     ]
    }
   ],
   "source": [
    "# Define actual and predicted values\n",
    "y_true = np.array([3, 5, 7, 9])\n",
    "y_pred = np.array([4, 6, 8, 10])\n",
    "\n",
    "# Calculate MAE\n",
    "mae = np.mean(np.abs(y_true - y_pred))\n",
    "print(\"MAE:\", mae)\n",
    "\n",
    "# Calculate MSE\n",
    "mse = np.mean(np.square(y_true - y_pred))\n",
    "print(\"MSE:\", mse)"
   ]
  },
  {
   "cell_type": "markdown",
   "id": "f142f71c",
   "metadata": {
    "papermill": {
     "duration": 0.009672,
     "end_time": "2023-03-09T02:45:30.739761",
     "exception": false,
     "start_time": "2023-03-09T02:45:30.730089",
     "status": "completed"
    },
    "tags": []
   },
   "source": [
    "In this case, both MAE and MSE have the same value because there are no outliers in the data set. However, if we change one of the predicted values to be very different from its actual value, we can see how MAE and MSE differ:"
   ]
  },
  {
   "cell_type": "code",
   "execution_count": 7,
   "id": "6471f0ab",
   "metadata": {
    "execution": {
     "iopub.execute_input": "2023-03-09T02:45:30.761362Z",
     "iopub.status.busy": "2023-03-09T02:45:30.760965Z",
     "iopub.status.idle": "2023-03-09T02:45:30.768642Z",
     "shell.execute_reply": "2023-03-09T02:45:30.767141Z"
    },
    "papermill": {
     "duration": 0.0221,
     "end_time": "2023-03-09T02:45:30.771540",
     "exception": false,
     "start_time": "2023-03-09T02:45:30.749440",
     "status": "completed"
    },
    "tags": []
   },
   "outputs": [
    {
     "name": "stdout",
     "output_type": "stream",
     "text": [
      "MAE: 4.0\n",
      "MSE: 43.0\n"
     ]
    }
   ],
   "source": [
    "# Define actual and predicted values\n",
    "y_true = np.array([3, 5, 7, 9])\n",
    "y_pred = np.array([4, 6, 20, 10])\n",
    "\n",
    "# Calculate MAE\n",
    "mae = np.mean(np.abs(y_true - y_pred))\n",
    "print(\"MAE:\", mae)\n",
    "\n",
    "# Calculate MSE\n",
    "mse = np.mean(np.square(y_true - y_pred))\n",
    "print(\"MSE:\", mse)"
   ]
  },
  {
   "cell_type": "markdown",
   "id": "e96f6a1f",
   "metadata": {
    "papermill": {
     "duration": 0.009416,
     "end_time": "2023-03-09T02:45:30.790885",
     "exception": false,
     "start_time": "2023-03-09T02:45:30.781469",
     "status": "completed"
    },
    "tags": []
   },
   "source": [
    "We can see that MAE increased by a factor of four while MSE increased by a factor of forty-two when we introduced an outlier in the data set. This shows that MSE is more sensitive to outliers than MAE."
   ]
  },
  {
   "cell_type": "markdown",
   "id": "2834bdf0",
   "metadata": {
    "papermill": {
     "duration": 0.009299,
     "end_time": "2023-03-09T02:45:30.809924",
     "exception": false,
     "start_time": "2023-03-09T02:45:30.800625",
     "status": "completed"
    },
    "tags": []
   },
   "source": [
    "# Q8: When to use MAE or MSE?\n",
    "The choice of MAE or MSE for regression depends on your project goal and the characteristics of your data set.\n",
    "\n",
    "MAE is better:\n",
    "   * if you want a simple and interpretable metric that does not penalize large errors more than small ones. \n",
    "   * MAE is also more robust to outliers than MSE because it does not square the errors. \n",
    "   * MAE is suitable for data sets that have a lot of noise or extreme values that are not important to reduce.\n",
    "Examples:\n",
    "   1. If you are predicting stock prices and you have a lot of volatility and noise in your data, you can use MAE as your metric.\n",
    "   2. If you are predicting house prices and you care more about being close to the actual price than avoiding large deviations, you can use MAE as your metric.\n",
    "   \n",
    "MSE is better:\n",
    "   * if you want a metric that reflects performance when dealing with large error values. \n",
    "   * MSE will penalize your model more for making large errors than small ones, which means that it will try to fit the data more closely and avoid outliers. This can improve the performance and reliability of your model when dealing with real-world data that may have noise or variability.\n",
    "   * MSE also has a nice mathematical property that makes it easier to optimize using gradient descent.\n",
    "Examples:\n",
    "   1. If you are predicting customer satisfaction ratings and you want to penalize models that give very low ratings to some customers, you can use MSE as your metric.\n",
    "   2. If you are predicting blood pressure levels and you want to minimize the health risks associated with high blood pressure, you can use MSE as your metric. \n",
    "\n",
    "MSE regression metric is better than other metrics such as MAE or RMSE for some reasons and scenarios. Here are some examples:\n",
    "\n",
    "MSE is differentiable everywhere, which means that it has a smooth gradient that points towards the minimum error value. This makes it easier to optimize using gradient descent algorithms, which are common techniques for finding the optimal parameters of a regression model by iteratively updating them based on how much they reduce the error function (in this case MSE)12.\n",
    "MSE penalizes large errors more than small ones by squaring them, which means that it will try to fit the data more closely and avoid outliers. This can improve the performance and reliability of your model when dealing with real-world data that may have noise or variability31.\n",
    "MSE does not depend on the scale of the data, unlike MAE or RMSE which have the same units as the target variable. This makes it easier to compare models with different features or data sets4.\n",
    "For example, suppose you want to build a regression model to predict house prices based on some features such as location, size, number of rooms, etc. You have two models: Model A and Model B. You use MSE as your metric to evaluate their performance on a test set of 100 houses.\n",
    "\n",
    "Model A has an MSE of 25 million dollars squared and Model B has an MSE of 36 million dollars squared. This means that Model A is better than Model B because it has a lower average squared error between its predictions and the actual prices.\n",
    "\n",
    "To interpret what this means in terms of house prices, you can take the square root of MSE to get RMSE (Root Mean Squared Error), which has the same units as the target variable. Model A has an RMSE of about 5000 dollars and Model B has an RMSE of about 6000 dollars. This means that on average, Model A’s predictions are off by 5000 dollars and Model B’s predictions are off by 6000 dollars.\n",
    "\n",
    "However, if you use MAE (Mean Absolute Error) as your metric instead of MSE, you might get different results. MAE tells you the average absolute difference between your predictions and the actual values without squaring them.\n",
    "\n",
    "Model A has an MAE of 4000 dollars and Model B has an MAE of 3000 dollars. This means that Model B is better than Model A according to MAE because it has a lower average absolute error between its predictions and the actual prices.\n",
    "\n",
    "To interpret what this means in terms of house prices, you can simply look at MAE as it is without taking any square root or transformation. Model A’s predictions are off by 4000 dollars on average and Model B’s predictions are off by 3000 dollars on average.\n",
    "\n",
    "So why does MSE give different results than MAE? The reason is that MSE gives more weight to large errors than small ones by squaring them while MAE treats all errors equally regardless of their magnitude.\n",
    "\n",
    "This means that if your data set has some outliers or extreme values that are far away from most other values, they will have a bigger impact on MSE than on MAE. For example, suppose one house in your test set has a price of 10 million dollars while most other houses have prices around 500 thousand dollars.\n",
    "\n",
    "If your model predicts this house’s price as 1 million dollars (which is still a large error), it will increase your MSE by (10 - 1)^2 = 81 million dollars squared but only increase your MAE by |10 - 1| = 9 million dollars.\n",
    "\n",
    "Therefore, if you want to focus on reducing large errors that could have serious consequences for your problem domain (such as predicting medical outcomes or financial risks), then MSE might be a better metric than MAE because it will penalize those errors more harshly and encourage your model to fit them better.\n",
    "\n",
    "On the other hand, if you don’t care much about large errors or outliers and you prefer a simpler metric that is easier to interpret and compare across different scales, then MAE might be a better metric than MSE because it will give you a direct measure of how much your predictions deviate from the actual values without any transformation or exaggeration"
   ]
  },
  {
   "cell_type": "markdown",
   "id": "c01272c4",
   "metadata": {
    "papermill": {
     "duration": 0.009284,
     "end_time": "2023-03-09T02:45:30.828804",
     "exception": false,
     "start_time": "2023-03-09T02:45:30.819520",
     "status": "completed"
    },
    "tags": []
   },
   "source": [
    "# Q9: What's the difference between Covariance and Correlation?\n",
    "**`Related To: Data Processing`**"
   ]
  },
  {
   "cell_type": "markdown",
   "id": "e6080cdf",
   "metadata": {
    "papermill": {
     "duration": 0.009314,
     "end_time": "2023-03-09T02:45:30.847734",
     "exception": false,
     "start_time": "2023-03-09T02:45:30.838420",
     "status": "completed"
    },
    "tags": []
   },
   "source": [
    "Covariance and correlation are two statistical tools that are used to measure the relationship between two random variables. They both indicate how two variables change together, but they have some differences.\n",
    "\n",
    "Covariance is a measure of how much two variables vary together. It is calculated by multiplying the deviations of each variable from their mean values. A positive covariance means that both variables tend to increase or decrease together, while a negative covariance means that one variable tends to increase while the other decreases. A zero covariance means that there is no linear relationship between the variables.\n",
    "\n",
    "However, covariance does not tell us about the strength or direction of the relationship. It only tells us about the joint variability of the variables. Covariance also depends on the scale and units of measurement of the variables. Different scales or units can result in different covariance values for the same relationship.\n",
    "\n",
    "Correlation is a normalized version of covariance that ranges from -1 to 1. It is calculated by dividing the covariance by the product of the standard deviations of the variables. A correlation of 1 means that there is a perfect positive linear relationship between the variables, while a correlation of -1 means that there is a perfect negative linear relationship. A correlation of 0 means that there is no linear relationship between the variables.\n",
    "\n",
    "Example: \n",
    "\n",
    "One example of using covariance and correlation in real life is to analyze the relationship between stock prices and market indices. For instance, if we want to know how Adani Enterprice’s stock price (ADANIENT) moves with respect to Nifty50(NIFTY50), and if the Covariance: 1134.67 and Correlation: 0.90 then this means that ADANIENT and NIFTY50 have a high positive covariance and correlation, indicating that they tend to move together in the same direction most of the time.\n",
    "\n",
    "\n",
    "Suppose you have a DataFrame that contains the heights and weights of 10 people:"
   ]
  },
  {
   "cell_type": "code",
   "execution_count": 8,
   "id": "7e73e698",
   "metadata": {
    "execution": {
     "iopub.execute_input": "2023-03-09T02:45:30.869940Z",
     "iopub.status.busy": "2023-03-09T02:45:30.869024Z",
     "iopub.status.idle": "2023-03-09T02:45:30.894076Z",
     "shell.execute_reply": "2023-03-09T02:45:30.892293Z"
    },
    "papermill": {
     "duration": 0.040286,
     "end_time": "2023-03-09T02:45:30.897630",
     "exception": false,
     "start_time": "2023-03-09T02:45:30.857344",
     "status": "completed"
    },
    "tags": []
   },
   "outputs": [
    {
     "name": "stdout",
     "output_type": "stream",
     "text": [
      "            height(cm)  weight(kg)\n",
      "height(cm)   37.877778   29.455556\n",
      "weight(kg)   29.455556   24.322222\n"
     ]
    }
   ],
   "source": [
    "import pandas as pd\n",
    "df = pd.DataFrame({'height(cm)': [170, 180, 160, 165, 173, 169, 177, 172, 178 ,175],\n",
    "                   'weight(kg)': [65 ,75 ,60 ,62 ,68 ,66 ,72 ,70 ,74 ,69]})\n",
    "\n",
    "# covariance\n",
    "print(df.cov())"
   ]
  },
  {
   "cell_type": "markdown",
   "id": "7176c989",
   "metadata": {
    "papermill": {
     "duration": 0.010289,
     "end_time": "2023-03-09T02:45:30.919072",
     "exception": false,
     "start_time": "2023-03-09T02:45:30.908783",
     "status": "completed"
    },
    "tags": []
   },
   "source": [
    "The diagonal elements of this matrix are the variances of each column (height and weight), while the off-diagonal elements are the covariances between each pair of columns. A positive covariance means that two variables tend to increase or decrease together, while a negative covariance means that they tend to move in opposite directions.\n",
    "\n",
    "The covariance value 29.45 between height(cm) and weight(kg) indicates that indicates that for every one centimeter increase in height, the expected weight increases by 29.45 kilograms on average."
   ]
  },
  {
   "cell_type": "code",
   "execution_count": 9,
   "id": "1bf11416",
   "metadata": {
    "execution": {
     "iopub.execute_input": "2023-03-09T02:45:30.943573Z",
     "iopub.status.busy": "2023-03-09T02:45:30.942154Z",
     "iopub.status.idle": "2023-03-09T02:45:30.955698Z",
     "shell.execute_reply": "2023-03-09T02:45:30.954330Z"
    },
    "papermill": {
     "duration": 0.028533,
     "end_time": "2023-03-09T02:45:30.958538",
     "exception": false,
     "start_time": "2023-03-09T02:45:30.930005",
     "status": "completed"
    },
    "tags": []
   },
   "outputs": [
    {
     "name": "stdout",
     "output_type": "stream",
     "text": [
      "            height(cm)  weight(kg)\n",
      "height(cm)     1.00000     0.97045\n",
      "weight(kg)     0.97045     1.00000\n"
     ]
    }
   ],
   "source": [
    "# correlation\n",
    "print(df.corr())"
   ]
  },
  {
   "cell_type": "markdown",
   "id": "2a86aa35",
   "metadata": {
    "papermill": {
     "duration": 0.010429,
     "end_time": "2023-03-09T02:45:30.979737",
     "exception": false,
     "start_time": "2023-03-09T02:45:30.969308",
     "status": "completed"
    },
    "tags": []
   },
   "source": [
    "The diagonal elements of this matrix are always equal to one, while the off-diagonal elements are the correlation coefficients between each pair of columns. A correlation coefficient measures how strongly two variables are linearly related, and it ranges from -1 (perfect negative correlation) to +1 (perfect positive correlation). A value close to zero means that there is no linear relationship between the variables.\n",
    "\n",
    "A correlation coefficient of 0.97 means a very strong positive correlation: the variables are almost perfectly aligned and move together in the same direction. The closer the coefficient is to +1, the stronger the positive correlation."
   ]
  },
  {
   "cell_type": "markdown",
   "id": "c47ed34d",
   "metadata": {
    "papermill": {
     "duration": 0.010364,
     "end_time": "2023-03-09T02:45:31.000822",
     "exception": false,
     "start_time": "2023-03-09T02:45:30.990458",
     "status": "completed"
    },
    "tags": []
   },
   "source": [
    "# Q10: Explain the intuition behind Gradient Descent algorithm  \n",
    "**`Related To: Gradient Descent`**"
   ]
  },
  {
   "cell_type": "markdown",
   "id": "5c537eeb",
   "metadata": {
    "papermill": {
     "duration": 0.01027,
     "end_time": "2023-03-09T02:45:31.022495",
     "exception": false,
     "start_time": "2023-03-09T02:45:31.012225",
     "status": "completed"
    },
    "tags": []
   },
   "source": [
    "Gradient descent is an optimization algorithm that is commonly used to train machine learning models and neural networks. It works by iteratively updating the parameters of a function to minimize a cost function that measures how well the function fits the training data.\n",
    "\n",
    "The intuition behind gradient descent is that it follows the direction of the steepest descent of the cost function, which is given by the negative of its gradient. The gradient is a vector that points in the direction of the greatest increase of the function, so moving in the opposite direction will lead to a decrease2. By taking small steps in this direction, called learning rate, gradient descent can eventually converge to a local minimum of the cost function3.\n",
    "\n",
    "There are different variants of gradient descent, such as batch gradient descent, stochastic gradient descent and mini-batch gradient descent, that differ in how they compute and update the gradients based on different subsets of the training data34."
   ]
  },
  {
   "cell_type": "code",
   "execution_count": null,
   "id": "746fc195",
   "metadata": {
    "papermill": {
     "duration": 0.010342,
     "end_time": "2023-03-09T02:45:31.043426",
     "exception": false,
     "start_time": "2023-03-09T02:45:31.033084",
     "status": "completed"
    },
    "tags": []
   },
   "outputs": [],
   "source": []
  },
  {
   "cell_type": "code",
   "execution_count": null,
   "id": "c5c0a550",
   "metadata": {
    "papermill": {
     "duration": 0.010038,
     "end_time": "2023-03-09T02:45:31.064148",
     "exception": false,
     "start_time": "2023-03-09T02:45:31.054110",
     "status": "completed"
    },
    "tags": []
   },
   "outputs": [],
   "source": []
  },
  {
   "cell_type": "code",
   "execution_count": null,
   "id": "e6da1cbc",
   "metadata": {
    "papermill": {
     "duration": 0.01029,
     "end_time": "2023-03-09T02:45:31.085127",
     "exception": false,
     "start_time": "2023-03-09T02:45:31.074837",
     "status": "completed"
    },
    "tags": []
   },
   "outputs": [],
   "source": []
  }
 ],
 "metadata": {
  "kernelspec": {
   "display_name": "Python 3",
   "language": "python",
   "name": "python3"
  },
  "language_info": {
   "codemirror_mode": {
    "name": "ipython",
    "version": 3
   },
   "file_extension": ".py",
   "mimetype": "text/x-python",
   "name": "python",
   "nbconvert_exporter": "python",
   "pygments_lexer": "ipython3",
   "version": "3.7.12"
  },
  "papermill": {
   "default_parameters": {},
   "duration": 15.07293,
   "end_time": "2023-03-09T02:45:31.820949",
   "environment_variables": {},
   "exception": null,
   "input_path": "__notebook__.ipynb",
   "output_path": "__notebook__.ipynb",
   "parameters": {},
   "start_time": "2023-03-09T02:45:16.748019",
   "version": "2.4.0"
  }
 },
 "nbformat": 4,
 "nbformat_minor": 5
}
