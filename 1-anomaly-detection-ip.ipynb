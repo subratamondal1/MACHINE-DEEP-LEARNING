{
 "cells": [
  {
   "cell_type": "code",
   "execution_count": 1,
   "id": "b05c281d",
   "metadata": {
    "_cell_guid": "b1076dfc-b9ad-4769-8c92-a6c4dae69d19",
    "_uuid": "8f2839f25d086af736a60e9eeb907d3b93b6e0e5",
    "execution": {
     "iopub.execute_input": "2023-03-10T14:14:30.274252Z",
     "iopub.status.busy": "2023-03-10T14:14:30.273763Z",
     "iopub.status.idle": "2023-03-10T14:14:30.287259Z",
     "shell.execute_reply": "2023-03-10T14:14:30.285746Z"
    },
    "papermill": {
     "duration": 0.022634,
     "end_time": "2023-03-10T14:14:30.290800",
     "exception": false,
     "start_time": "2023-03-10T14:14:30.268166",
     "status": "completed"
    },
    "tags": []
   },
   "outputs": [],
   "source": [
    "# This Python 3 environment comes with many helpful analytics libraries installed\n",
    "# It is defined by the kaggle/python Docker image: https://github.com/kaggle/docker-python\n",
    "# For example, here's several helpful packages to load\n",
    "\n",
    "import numpy as np # linear algebra\n",
    "import pandas as pd # data processing, CSV file I/O (e.g. pd.read_csv)\n",
    "\n",
    "# Input data files are available in the read-only \"../input/\" directory\n",
    "# For example, running this (by clicking run or pressing Shift+Enter) will list all files under the input directory\n",
    "\n",
    "import os\n",
    "for dirname, _, filenames in os.walk('/kaggle/input'):\n",
    "    for filename in filenames:\n",
    "        print(os.path.join(dirname, filename))\n",
    "\n",
    "# You can write up to 20GB to the current directory (/kaggle/working/) that gets preserved as output when you create a version using \"Save & Run All\" \n",
    "# You can also write temporary files to /kaggle/temp/, but they won't be saved outside of the current session"
   ]
  },
  {
   "cell_type": "markdown",
   "id": "1a20e1e8",
   "metadata": {
    "papermill": {
     "duration": 0.00191,
     "end_time": "2023-03-10T14:14:30.295234",
     "exception": false,
     "start_time": "2023-03-10T14:14:30.293324",
     "status": "completed"
    },
    "tags": []
   },
   "source": [
    "# Anomaly Detection \n",
    "Anomaly detection is a process of finding things that are different from what is expected or normal. Anomalies can be rare or unusual events or observations that do not fit well with the rest of the data. Anomalies can indicate problems or opportunities, such as errors, defects, frauds, diseases or new trends.\n",
    "\n",
    "For example, if you measure the temperature of a room every hour and you see that it is usually between 20°C and 25°C, but one day it suddenly goes up to 40°C, that would be an anomaly. It could mean that something is wrong with the heating system or that there is a fire in the room. Anomaly detection would help you identify this abnormal situation and take action accordingly."
   ]
  },
  {
   "cell_type": "code",
   "execution_count": null,
   "id": "acab28f7",
   "metadata": {
    "papermill": {
     "duration": 0.001615,
     "end_time": "2023-03-10T14:14:30.298850",
     "exception": false,
     "start_time": "2023-03-10T14:14:30.297235",
     "status": "completed"
    },
    "tags": []
   },
   "outputs": [],
   "source": []
  }
 ],
 "metadata": {
  "kernelspec": {
   "display_name": "Python 3",
   "language": "python",
   "name": "python3"
  },
  "language_info": {
   "codemirror_mode": {
    "name": "ipython",
    "version": 3
   },
   "file_extension": ".py",
   "mimetype": "text/x-python",
   "name": "python",
   "nbconvert_exporter": "python",
   "pygments_lexer": "ipython3",
   "version": "3.7.12"
  },
  "papermill": {
   "default_parameters": {},
   "duration": 13.588847,
   "end_time": "2023-03-10T14:14:31.026413",
   "environment_variables": {},
   "exception": null,
   "input_path": "__notebook__.ipynb",
   "output_path": "__notebook__.ipynb",
   "parameters": {},
   "start_time": "2023-03-10T14:14:17.437566",
   "version": "2.4.0"
  }
 },
 "nbformat": 4,
 "nbformat_minor": 5
}
