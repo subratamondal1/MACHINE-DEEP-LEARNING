{
 "cells": [
  {
   "cell_type": "code",
   "execution_count": null,
   "id": "a36bb14e",
   "metadata": {
    "papermill": {
     "duration": 0.004359,
     "end_time": "2023-02-27T07:29:30.967830",
     "exception": false,
     "start_time": "2023-02-27T07:29:30.963471",
     "status": "completed"
    },
    "tags": []
   },
   "outputs": [],
   "source": []
  },
  {
   "cell_type": "code",
   "execution_count": 1,
   "id": "aba407a8",
   "metadata": {
    "_cell_guid": "b1076dfc-b9ad-4769-8c92-a6c4dae69d19",
    "_uuid": "8f2839f25d086af736a60e9eeb907d3b93b6e0e5",
    "execution": {
     "iopub.execute_input": "2023-02-27T07:29:30.976925Z",
     "iopub.status.busy": "2023-02-27T07:29:30.975967Z",
     "iopub.status.idle": "2023-02-27T07:29:30.990242Z",
     "shell.execute_reply": "2023-02-27T07:29:30.989262Z"
    },
    "papermill": {
     "duration": 0.021569,
     "end_time": "2023-02-27T07:29:30.992705",
     "exception": false,
     "start_time": "2023-02-27T07:29:30.971136",
     "status": "completed"
    },
    "tags": []
   },
   "outputs": [],
   "source": [
    "# This Python 3 environment comes with many helpful analytics libraries installed\n",
    "# It is defined by the kaggle/python Docker image: https://github.com/kaggle/docker-python\n",
    "# For example, here's several helpful packages to load\n",
    "\n",
    "import numpy as np # linear algebra\n",
    "import pandas as pd # data processing, CSV file I/O (e.g. pd.read_csv)\n",
    "\n",
    "# Input data files are available in the read-only \"../input/\" directory\n",
    "# For example, running this (by clicking run or pressing Shift+Enter) will list all files under the input directory\n",
    "\n",
    "import os\n",
    "for dirname, _, filenames in os.walk('/kaggle/input'):\n",
    "    for filename in filenames:\n",
    "        print(os.path.join(dirname, filename))\n",
    "\n",
    "# You can write up to 20GB to the current directory (/kaggle/working/) that gets preserved as output when you create a version using \"Save & Run All\" \n",
    "# You can also write temporary files to /kaggle/temp/, but they won't be saved outside of the current session"
   ]
  },
  {
   "cell_type": "markdown",
   "id": "097fe337",
   "metadata": {
    "papermill": {
     "duration": 0.002659,
     "end_time": "2023-02-27T07:29:30.998446",
     "exception": false,
     "start_time": "2023-02-27T07:29:30.995787",
     "status": "completed"
    },
    "tags": []
   },
   "source": [
    "# <center>Linear Algebra</center>\n",
    "---"
   ]
  },
  {
   "cell_type": "code",
   "execution_count": 2,
   "id": "7229ccbd",
   "metadata": {
    "execution": {
     "iopub.execute_input": "2023-02-27T07:29:31.005807Z",
     "iopub.status.busy": "2023-02-27T07:29:31.005402Z",
     "iopub.status.idle": "2023-02-27T07:29:31.010058Z",
     "shell.execute_reply": "2023-02-27T07:29:31.009148Z"
    },
    "papermill": {
     "duration": 0.010916,
     "end_time": "2023-02-27T07:29:31.012220",
     "exception": false,
     "start_time": "2023-02-27T07:29:31.001304",
     "status": "completed"
    },
    "tags": []
   },
   "outputs": [],
   "source": [
    "import numpy as np"
   ]
  },
  {
   "cell_type": "markdown",
   "id": "9f0e8596",
   "metadata": {
    "papermill": {
     "duration": 0.002665,
     "end_time": "2023-02-27T07:29:31.017913",
     "exception": false,
     "start_time": "2023-02-27T07:29:31.015248",
     "status": "completed"
    },
    "tags": []
   },
   "source": [
    "## Solve linear equation using `np.linalg`\n",
    "**Note:** \n",
    "* if determinant of a system of linear equation is Zero then the system is a Singular or Singular Matrix and doesn't have a Unique Solution (has infinite solutions) and\n",
    "* if determinant of a system of linear equation is Non-Zero then the system is Non-Singular or Non-Singular Matrix and have a Unique Solution and"
   ]
  },
  {
   "cell_type": "code",
   "execution_count": 3,
   "id": "75611526",
   "metadata": {
    "execution": {
     "iopub.execute_input": "2023-02-27T07:29:31.025621Z",
     "iopub.status.busy": "2023-02-27T07:29:31.025236Z",
     "iopub.status.idle": "2023-02-27T07:29:31.040906Z",
     "shell.execute_reply": "2023-02-27T07:29:31.039248Z"
    },
    "papermill": {
     "duration": 0.022446,
     "end_time": "2023-02-27T07:29:31.043267",
     "exception": false,
     "start_time": "2023-02-27T07:29:31.020821",
     "status": "completed"
    },
    "tags": []
   },
   "outputs": [
    {
     "name": "stdout",
     "output_type": "stream",
     "text": [
      "Determinant: 1.0, hence, Non-Singular Matrix, has unique solution\n",
      "solution: [0. 0.]\n"
     ]
    },
    {
     "data": {
      "text/plain": [
       "True"
      ]
     },
     "execution_count": 3,
     "metadata": {},
     "output_type": "execute_result"
    }
   ],
   "source": [
    "# a + b = 0   ... (i)\n",
    "# a + 2b = 0  ... (ii)\n",
    "a = np.array([[1,1],[1,2]])\n",
    "b = np.array([0,0])\n",
    "\n",
    "# determinant\n",
    "determinant = np.linalg.det(a)\n",
    "print(f\"Determinant: {determinant}, hence, Non-Singular Matrix, has unique solution\")\n",
    "\n",
    "# solve the above system of linear equation\n",
    "x = np.linalg.solve(a,b)\n",
    "print(f\"solution: {x}\")\n",
    "\n",
    "# Check that the solution is correct:\n",
    "np.allclose(np.dot(a,x),b)"
   ]
  },
  {
   "cell_type": "markdown",
   "id": "0df4d96b",
   "metadata": {
    "papermill": {
     "duration": 0.00288,
     "end_time": "2023-02-27T07:29:31.049402",
     "exception": false,
     "start_time": "2023-02-27T07:29:31.046522",
     "status": "completed"
    },
    "tags": []
   },
   "source": [
    "The try except statement is used to handle errors in Python code. The try block contains code that may raise an exception, while the except block handles how to deal with it."
   ]
  },
  {
   "cell_type": "code",
   "execution_count": 4,
   "id": "0bd79c60",
   "metadata": {
    "execution": {
     "iopub.execute_input": "2023-02-27T07:29:31.057364Z",
     "iopub.status.busy": "2023-02-27T07:29:31.056922Z",
     "iopub.status.idle": "2023-02-27T07:29:31.065816Z",
     "shell.execute_reply": "2023-02-27T07:29:31.064483Z"
    },
    "papermill": {
     "duration": 0.015859,
     "end_time": "2023-02-27T07:29:31.068367",
     "exception": false,
     "start_time": "2023-02-27T07:29:31.052508",
     "status": "completed"
    },
    "tags": []
   },
   "outputs": [
    {
     "name": "stdout",
     "output_type": "stream",
     "text": [
      "Determinant: 0.0, hence, Singular Matrix, has no unique solution\n",
      "\n",
      "Singular Matrix & has Infinite Solutions\n"
     ]
    }
   ],
   "source": [
    "# a + b = 0 ... (i)\n",
    "# 2a + 2b = 0 ... (ii)\n",
    "\n",
    "a = np.array([[1,1],[2,2]]) # ... (i) & ... (ii)\n",
    "b = np.array([0,0])         # constants\n",
    "\n",
    "# determinant\n",
    "determinant = np.linalg.det(a)\n",
    "print(f\"Determinant: {determinant}, hence, Singular Matrix, has no unique solution\")\n",
    "\n",
    "# solve the above system of linear equation\n",
    "try:\n",
    "    x = np.linalg.solve(a,b)\n",
    "    print(f\"solution: {x}\")\n",
    "except np.linalg.LinAlgError as e:\n",
    "    if int(determinant) == 0:\n",
    "        print(\"\\nSingular Matrix & has Infinite Solutions\")\n",
    "    else:\n",
    "        print(\"Check the matrix\")"
   ]
  },
  {
   "cell_type": "code",
   "execution_count": null,
   "id": "06b0bff7",
   "metadata": {
    "papermill": {
     "duration": 0.003048,
     "end_time": "2023-02-27T07:29:31.074752",
     "exception": false,
     "start_time": "2023-02-27T07:29:31.071704",
     "status": "completed"
    },
    "tags": []
   },
   "outputs": [],
   "source": []
  },
  {
   "cell_type": "code",
   "execution_count": null,
   "id": "2b133024",
   "metadata": {
    "papermill": {
     "duration": 0.003134,
     "end_time": "2023-02-27T07:29:31.081057",
     "exception": false,
     "start_time": "2023-02-27T07:29:31.077923",
     "status": "completed"
    },
    "tags": []
   },
   "outputs": [],
   "source": []
  }
 ],
 "metadata": {
  "kernelspec": {
   "display_name": "Python 3",
   "language": "python",
   "name": "python3"
  },
  "language_info": {
   "codemirror_mode": {
    "name": "ipython",
    "version": 3
   },
   "file_extension": ".py",
   "mimetype": "text/x-python",
   "name": "python",
   "nbconvert_exporter": "python",
   "pygments_lexer": "ipython3",
   "version": "3.7.12"
  },
  "papermill": {
   "default_parameters": {},
   "duration": 10.709664,
   "end_time": "2023-02-27T07:29:31.706241",
   "environment_variables": {},
   "exception": null,
   "input_path": "__notebook__.ipynb",
   "output_path": "__notebook__.ipynb",
   "parameters": {},
   "start_time": "2023-02-27T07:29:20.996577",
   "version": "2.4.0"
  }
 },
 "nbformat": 4,
 "nbformat_minor": 5
}
