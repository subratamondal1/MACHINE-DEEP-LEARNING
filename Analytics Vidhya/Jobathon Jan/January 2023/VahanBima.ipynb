{
 "cells": [
  {
   "cell_type": "markdown",
   "id": "91bbae42-e6eb-4b1c-bb53-d53bc976efef",
   "metadata": {},
   "source": [
    "# <center>VahanBima</center>\n",
    "---"
   ]
  },
  {
   "cell_type": "markdown",
   "id": "2c0c83d4-519e-4bdf-b3c7-6efbb7761c6f",
   "metadata": {
    "tags": []
   },
   "source": [
    "# Data Understanding"
   ]
  },
  {
   "cell_type": "code",
   "execution_count": 1,
   "id": "58f9c068-ef2f-4b54-9e0c-6d15634d7a36",
   "metadata": {},
   "outputs": [],
   "source": [
    "import numpy as np\n",
    "import pandas as pd\n",
    "import matplotlib.pyplot as plt\n",
    "import seaborn as sns\n",
    "import sklearn.preprocessing as preprocessing\n",
    "import sklearn.model_selection as model_selection\n",
    "import sklearn.tree as tree\n",
    "import sklearn.ensemble as ensemble\n",
    "import sklearn.metrics as metrics\n",
    "import sklearn.linear_model as linear_model\n",
    "import sklearn.feature_selection as feature_selection\n",
    "import xgboost\n",
    "import scipy\n",
    "sns.set()"
   ]
  },
  {
   "cell_type": "code",
   "execution_count": 2,
   "id": "3da7ef45-5767-4a1b-87c7-3e823be216d7",
   "metadata": {},
   "outputs": [],
   "source": [
    "train = pd.read_csv(\"data/train.csv\")\n",
    "test = pd.read_csv(\"data/test.csv\")\n",
    "submission = pd.read_csv(\"sample submission/sample_submission.csv\")"
   ]
  },
  {
   "cell_type": "code",
   "execution_count": 3,
   "id": "e2746a10-40de-4f43-ab10-92f5151cbc14",
   "metadata": {},
   "outputs": [
    {
     "data": {
      "text/html": [
       "<div>\n",
       "<style scoped>\n",
       "    .dataframe tbody tr th:only-of-type {\n",
       "        vertical-align: middle;\n",
       "    }\n",
       "\n",
       "    .dataframe tbody tr th {\n",
       "        vertical-align: top;\n",
       "    }\n",
       "\n",
       "    .dataframe thead th {\n",
       "        text-align: right;\n",
       "    }\n",
       "</style>\n",
       "<table border=\"1\" class=\"dataframe\">\n",
       "  <thead>\n",
       "    <tr style=\"text-align: right;\">\n",
       "      <th></th>\n",
       "      <th>id</th>\n",
       "      <th>gender</th>\n",
       "      <th>area</th>\n",
       "      <th>qualification</th>\n",
       "      <th>income</th>\n",
       "      <th>marital_status</th>\n",
       "      <th>vintage</th>\n",
       "      <th>claim_amount</th>\n",
       "      <th>num_policies</th>\n",
       "      <th>policy</th>\n",
       "      <th>type_of_policy</th>\n",
       "      <th>cltv</th>\n",
       "    </tr>\n",
       "  </thead>\n",
       "  <tbody>\n",
       "    <tr>\n",
       "      <th>62993</th>\n",
       "      <td>62994</td>\n",
       "      <td>Female</td>\n",
       "      <td>Urban</td>\n",
       "      <td>High School</td>\n",
       "      <td>5L-10L</td>\n",
       "      <td>0</td>\n",
       "      <td>8</td>\n",
       "      <td>8918</td>\n",
       "      <td>More than 1</td>\n",
       "      <td>A</td>\n",
       "      <td>Silver</td>\n",
       "      <td>35136</td>\n",
       "    </tr>\n",
       "    <tr>\n",
       "      <th>78417</th>\n",
       "      <td>78418</td>\n",
       "      <td>Female</td>\n",
       "      <td>Urban</td>\n",
       "      <td>Bachelor</td>\n",
       "      <td>5L-10L</td>\n",
       "      <td>1</td>\n",
       "      <td>3</td>\n",
       "      <td>10095</td>\n",
       "      <td>1</td>\n",
       "      <td>A</td>\n",
       "      <td>Platinum</td>\n",
       "      <td>54048</td>\n",
       "    </tr>\n",
       "    <tr>\n",
       "      <th>53432</th>\n",
       "      <td>53433</td>\n",
       "      <td>Female</td>\n",
       "      <td>Urban</td>\n",
       "      <td>Bachelor</td>\n",
       "      <td>More than 10L</td>\n",
       "      <td>0</td>\n",
       "      <td>7</td>\n",
       "      <td>6194</td>\n",
       "      <td>1</td>\n",
       "      <td>B</td>\n",
       "      <td>Gold</td>\n",
       "      <td>35748</td>\n",
       "    </tr>\n",
       "    <tr>\n",
       "      <th>80711</th>\n",
       "      <td>80712</td>\n",
       "      <td>Male</td>\n",
       "      <td>Urban</td>\n",
       "      <td>Bachelor</td>\n",
       "      <td>More than 10L</td>\n",
       "      <td>0</td>\n",
       "      <td>2</td>\n",
       "      <td>8958</td>\n",
       "      <td>More than 1</td>\n",
       "      <td>A</td>\n",
       "      <td>Silver</td>\n",
       "      <td>92676</td>\n",
       "    </tr>\n",
       "    <tr>\n",
       "      <th>22776</th>\n",
       "      <td>22777</td>\n",
       "      <td>Female</td>\n",
       "      <td>Urban</td>\n",
       "      <td>High School</td>\n",
       "      <td>5L-10L</td>\n",
       "      <td>1</td>\n",
       "      <td>6</td>\n",
       "      <td>11627</td>\n",
       "      <td>1</td>\n",
       "      <td>A</td>\n",
       "      <td>Platinum</td>\n",
       "      <td>51312</td>\n",
       "    </tr>\n",
       "  </tbody>\n",
       "</table>\n",
       "</div>"
      ],
      "text/plain": [
       "          id  gender   area qualification         income  marital_status  \\\n",
       "62993  62994  Female  Urban   High School         5L-10L               0   \n",
       "78417  78418  Female  Urban      Bachelor         5L-10L               1   \n",
       "53432  53433  Female  Urban      Bachelor  More than 10L               0   \n",
       "80711  80712    Male  Urban      Bachelor  More than 10L               0   \n",
       "22776  22777  Female  Urban   High School         5L-10L               1   \n",
       "\n",
       "       vintage  claim_amount num_policies policy type_of_policy   cltv  \n",
       "62993        8          8918  More than 1      A         Silver  35136  \n",
       "78417        3         10095            1      A       Platinum  54048  \n",
       "53432        7          6194            1      B           Gold  35748  \n",
       "80711        2          8958  More than 1      A         Silver  92676  \n",
       "22776        6         11627            1      A       Platinum  51312  "
      ]
     },
     "execution_count": 3,
     "metadata": {},
     "output_type": "execute_result"
    }
   ],
   "source": [
    "train.sample(5)"
   ]
  },
  {
   "cell_type": "code",
   "execution_count": 4,
   "id": "604f9bf6-d805-41c5-8886-58c53bfec9ab",
   "metadata": {},
   "outputs": [
    {
     "data": {
      "text/html": [
       "<div>\n",
       "<style scoped>\n",
       "    .dataframe tbody tr th:only-of-type {\n",
       "        vertical-align: middle;\n",
       "    }\n",
       "\n",
       "    .dataframe tbody tr th {\n",
       "        vertical-align: top;\n",
       "    }\n",
       "\n",
       "    .dataframe thead th {\n",
       "        text-align: right;\n",
       "    }\n",
       "</style>\n",
       "<table border=\"1\" class=\"dataframe\">\n",
       "  <thead>\n",
       "    <tr style=\"text-align: right;\">\n",
       "      <th></th>\n",
       "      <th>id</th>\n",
       "      <th>gender</th>\n",
       "      <th>area</th>\n",
       "      <th>qualification</th>\n",
       "      <th>income</th>\n",
       "      <th>marital_status</th>\n",
       "      <th>vintage</th>\n",
       "      <th>claim_amount</th>\n",
       "      <th>num_policies</th>\n",
       "      <th>policy</th>\n",
       "      <th>type_of_policy</th>\n",
       "    </tr>\n",
       "  </thead>\n",
       "  <tbody>\n",
       "    <tr>\n",
       "      <th>35549</th>\n",
       "      <td>124942</td>\n",
       "      <td>Male</td>\n",
       "      <td>Rural</td>\n",
       "      <td>High School</td>\n",
       "      <td>5L-10L</td>\n",
       "      <td>1</td>\n",
       "      <td>1</td>\n",
       "      <td>5170</td>\n",
       "      <td>More than 1</td>\n",
       "      <td>B</td>\n",
       "      <td>Platinum</td>\n",
       "    </tr>\n",
       "    <tr>\n",
       "      <th>29700</th>\n",
       "      <td>119093</td>\n",
       "      <td>Male</td>\n",
       "      <td>Urban</td>\n",
       "      <td>High School</td>\n",
       "      <td>2L-5L</td>\n",
       "      <td>1</td>\n",
       "      <td>4</td>\n",
       "      <td>7272</td>\n",
       "      <td>1</td>\n",
       "      <td>A</td>\n",
       "      <td>Platinum</td>\n",
       "    </tr>\n",
       "    <tr>\n",
       "      <th>8962</th>\n",
       "      <td>98355</td>\n",
       "      <td>Female</td>\n",
       "      <td>Rural</td>\n",
       "      <td>Bachelor</td>\n",
       "      <td>2L-5L</td>\n",
       "      <td>1</td>\n",
       "      <td>5</td>\n",
       "      <td>4243</td>\n",
       "      <td>More than 1</td>\n",
       "      <td>B</td>\n",
       "      <td>Platinum</td>\n",
       "    </tr>\n",
       "    <tr>\n",
       "      <th>50311</th>\n",
       "      <td>139704</td>\n",
       "      <td>Male</td>\n",
       "      <td>Urban</td>\n",
       "      <td>High School</td>\n",
       "      <td>5L-10L</td>\n",
       "      <td>1</td>\n",
       "      <td>1</td>\n",
       "      <td>3027</td>\n",
       "      <td>More than 1</td>\n",
       "      <td>A</td>\n",
       "      <td>Gold</td>\n",
       "    </tr>\n",
       "    <tr>\n",
       "      <th>39974</th>\n",
       "      <td>129367</td>\n",
       "      <td>Male</td>\n",
       "      <td>Rural</td>\n",
       "      <td>Bachelor</td>\n",
       "      <td>5L-10L</td>\n",
       "      <td>1</td>\n",
       "      <td>6</td>\n",
       "      <td>4059</td>\n",
       "      <td>1</td>\n",
       "      <td>A</td>\n",
       "      <td>Platinum</td>\n",
       "    </tr>\n",
       "  </tbody>\n",
       "</table>\n",
       "</div>"
      ],
      "text/plain": [
       "           id  gender   area qualification  income  marital_status  vintage  \\\n",
       "35549  124942    Male  Rural   High School  5L-10L               1        1   \n",
       "29700  119093    Male  Urban   High School   2L-5L               1        4   \n",
       "8962    98355  Female  Rural      Bachelor   2L-5L               1        5   \n",
       "50311  139704    Male  Urban   High School  5L-10L               1        1   \n",
       "39974  129367    Male  Rural      Bachelor  5L-10L               1        6   \n",
       "\n",
       "       claim_amount num_policies policy type_of_policy  \n",
       "35549          5170  More than 1      B       Platinum  \n",
       "29700          7272            1      A       Platinum  \n",
       "8962           4243  More than 1      B       Platinum  \n",
       "50311          3027  More than 1      A           Gold  \n",
       "39974          4059            1      A       Platinum  "
      ]
     },
     "execution_count": 4,
     "metadata": {},
     "output_type": "execute_result"
    }
   ],
   "source": [
    "test.sample(5)"
   ]
  },
  {
   "cell_type": "code",
   "execution_count": 5,
   "id": "6702f631-a8aa-4070-be07-04662f2601d2",
   "metadata": {},
   "outputs": [
    {
     "name": "stdout",
     "output_type": "stream",
     "text": [
      "Train: (89392, 12)\n",
      "Test: (59595, 11)\n",
      "Submission: (59595, 2)\n"
     ]
    }
   ],
   "source": [
    "print(f\"Train: {train.shape}\")\n",
    "print(f\"Test: {test.shape}\")\n",
    "print(f\"Submission: {submission.shape}\")"
   ]
  },
  {
   "cell_type": "code",
   "execution_count": 6,
   "id": "c289ece4-1377-474f-b115-3abfdc253eca",
   "metadata": {},
   "outputs": [
    {
     "name": "stdout",
     "output_type": "stream",
     "text": [
      "<class 'pandas.core.frame.DataFrame'>\n",
      "RangeIndex: 89392 entries, 0 to 89391\n",
      "Data columns (total 12 columns):\n",
      " #   Column          Non-Null Count  Dtype \n",
      "---  ------          --------------  ----- \n",
      " 0   id              89392 non-null  int64 \n",
      " 1   gender          89392 non-null  object\n",
      " 2   area            89392 non-null  object\n",
      " 3   qualification   89392 non-null  object\n",
      " 4   income          89392 non-null  object\n",
      " 5   marital_status  89392 non-null  int64 \n",
      " 6   vintage         89392 non-null  int64 \n",
      " 7   claim_amount    89392 non-null  int64 \n",
      " 8   num_policies    89392 non-null  object\n",
      " 9   policy          89392 non-null  object\n",
      " 10  type_of_policy  89392 non-null  object\n",
      " 11  cltv            89392 non-null  int64 \n",
      "dtypes: int64(5), object(7)\n",
      "memory usage: 8.2+ MB\n"
     ]
    }
   ],
   "source": [
    "train.info()"
   ]
  },
  {
   "cell_type": "code",
   "execution_count": 7,
   "id": "c96c9ce3-b937-432d-b18e-5d21e01be854",
   "metadata": {},
   "outputs": [
    {
     "name": "stdout",
     "output_type": "stream",
     "text": [
      "<class 'pandas.core.frame.DataFrame'>\n",
      "RangeIndex: 59595 entries, 0 to 59594\n",
      "Data columns (total 11 columns):\n",
      " #   Column          Non-Null Count  Dtype \n",
      "---  ------          --------------  ----- \n",
      " 0   id              59595 non-null  int64 \n",
      " 1   gender          59595 non-null  object\n",
      " 2   area            59595 non-null  object\n",
      " 3   qualification   59595 non-null  object\n",
      " 4   income          59595 non-null  object\n",
      " 5   marital_status  59595 non-null  int64 \n",
      " 6   vintage         59595 non-null  int64 \n",
      " 7   claim_amount    59595 non-null  int64 \n",
      " 8   num_policies    59595 non-null  object\n",
      " 9   policy          59595 non-null  object\n",
      " 10  type_of_policy  59595 non-null  object\n",
      "dtypes: int64(4), object(7)\n",
      "memory usage: 5.0+ MB\n"
     ]
    }
   ],
   "source": [
    "test.info()"
   ]
  },
  {
   "cell_type": "code",
   "execution_count": 8,
   "id": "00a6c19e-90be-4d66-93a2-92ae98fd3e7c",
   "metadata": {},
   "outputs": [
    {
     "name": "stdout",
     "output_type": "stream",
     "text": [
      "<class 'pandas.core.frame.DataFrame'>\n",
      "RangeIndex: 59595 entries, 0 to 59594\n",
      "Data columns (total 2 columns):\n",
      " #   Column  Non-Null Count  Dtype  \n",
      "---  ------  --------------  -----  \n",
      " 0   id      59595 non-null  int64  \n",
      " 1   cltv    59595 non-null  float64\n",
      "dtypes: float64(1), int64(1)\n",
      "memory usage: 931.3 KB\n"
     ]
    }
   ],
   "source": [
    "submission.info()"
   ]
  },
  {
   "cell_type": "markdown",
   "id": "b804dca6-34de-4567-bc47-b2744bde17ca",
   "metadata": {},
   "source": [
    "# Data Preparation"
   ]
  },
  {
   "cell_type": "markdown",
   "id": "7f94ba0b",
   "metadata": {},
   "source": [
    "## Feature Engineering"
   ]
  },
  {
   "cell_type": "code",
   "execution_count": 9,
   "id": "3ee1acc7",
   "metadata": {},
   "outputs": [],
   "source": [
    "features = dict()\n",
    "features[\"categorical\"] = []\n",
    "features[\"continuous\"] = []"
   ]
  },
  {
   "cell_type": "markdown",
   "id": "712eabd6",
   "metadata": {
    "jp-MarkdownHeadingCollapsed": true,
    "tags": []
   },
   "source": [
    "### Gender\n",
    "* Female : 0\n",
    "* Male : 1"
   ]
  },
  {
   "cell_type": "code",
   "execution_count": 10,
   "id": "d34cd07b",
   "metadata": {
    "scrolled": true
   },
   "outputs": [
    {
     "data": {
      "text/plain": [
       "Male      50497\n",
       "Female    38895\n",
       "Name: gender, dtype: int64"
      ]
     },
     "execution_count": 10,
     "metadata": {},
     "output_type": "execute_result"
    }
   ],
   "source": [
    "train.gender.value_counts()"
   ]
  },
  {
   "cell_type": "code",
   "execution_count": 11,
   "id": "d7de6804",
   "metadata": {},
   "outputs": [],
   "source": [
    "features[\"categorical\"].append(\"gender\")"
   ]
  },
  {
   "cell_type": "code",
   "execution_count": 12,
   "id": "56a95bc2",
   "metadata": {},
   "outputs": [],
   "source": [
    "def mapping_gender(row):\n",
    "    if row == \"Male\":\n",
    "        return 1\n",
    "    elif row == \"Female\":\n",
    "        return 0\n",
    "    else:\n",
    "        np.nan\n",
    "    \n",
    "# mapping gender\n",
    "train[\"gender\"] = train[\"gender\"].apply(mapping_gender)\n",
    "test[\"gender\"] = test[\"gender\"].apply(mapping_gender)"
   ]
  },
  {
   "cell_type": "code",
   "execution_count": 13,
   "id": "df615057",
   "metadata": {},
   "outputs": [
    {
     "data": {
      "text/plain": [
       "dtype('int64')"
      ]
     },
     "execution_count": 13,
     "metadata": {},
     "output_type": "execute_result"
    }
   ],
   "source": [
    "train.gender.dtype"
   ]
  },
  {
   "cell_type": "markdown",
   "id": "83eba310",
   "metadata": {
    "jp-MarkdownHeadingCollapsed": true,
    "tags": []
   },
   "source": [
    "### Area\n",
    "* Urban : 0\n",
    "* Rural : 1"
   ]
  },
  {
   "cell_type": "code",
   "execution_count": 14,
   "id": "3a40f577",
   "metadata": {
    "scrolled": true
   },
   "outputs": [
    {
     "data": {
      "text/plain": [
       "Urban    62455\n",
       "Rural    26937\n",
       "Name: area, dtype: int64"
      ]
     },
     "execution_count": 14,
     "metadata": {},
     "output_type": "execute_result"
    }
   ],
   "source": [
    "train[\"area\"].value_counts()"
   ]
  },
  {
   "cell_type": "code",
   "execution_count": 15,
   "id": "fb08835d",
   "metadata": {},
   "outputs": [],
   "source": [
    "features[\"categorical\"].append(\"area\")"
   ]
  },
  {
   "cell_type": "code",
   "execution_count": 16,
   "id": "e569d34b",
   "metadata": {},
   "outputs": [],
   "source": [
    "def mapping_area(row):\n",
    "    if row == \"Urban\":\n",
    "        return 0\n",
    "    elif row == \"Rural\":\n",
    "        return 1\n",
    "    else:\n",
    "        np.nan\n",
    "    \n",
    "# mapping area\n",
    "train[\"area\"] = train[\"area\"].apply(mapping_area)\n",
    "test[\"area\"] = test[\"area\"].apply(mapping_area)"
   ]
  },
  {
   "cell_type": "code",
   "execution_count": 17,
   "id": "c9de6ef6",
   "metadata": {},
   "outputs": [
    {
     "data": {
      "text/plain": [
       "dtype('int64')"
      ]
     },
     "execution_count": 17,
     "metadata": {},
     "output_type": "execute_result"
    }
   ],
   "source": [
    "train[\"area\"].dtype"
   ]
  },
  {
   "cell_type": "markdown",
   "id": "74f35abf",
   "metadata": {
    "jp-MarkdownHeadingCollapsed": true,
    "tags": []
   },
   "source": [
    "### Qualification\n",
    "* High School : 0\n",
    "* Bachelor : 1\n",
    "* Others : 2"
   ]
  },
  {
   "cell_type": "code",
   "execution_count": 18,
   "id": "32cc819e-f560-4f33-a679-ffa47a5716d4",
   "metadata": {},
   "outputs": [
    {
     "data": {
      "text/plain": [
       "High School    46247\n",
       "Bachelor       39399\n",
       "Others          3746\n",
       "Name: qualification, dtype: int64"
      ]
     },
     "execution_count": 18,
     "metadata": {},
     "output_type": "execute_result"
    }
   ],
   "source": [
    "train[\"qualification\"].value_counts()"
   ]
  },
  {
   "cell_type": "code",
   "execution_count": 19,
   "id": "5455c5cb",
   "metadata": {},
   "outputs": [],
   "source": [
    "features[\"categorical\"].append(\"qualification\")"
   ]
  },
  {
   "cell_type": "code",
   "execution_count": 20,
   "id": "8e157119-dcb8-4b4c-8787-0b2ffbd30e6b",
   "metadata": {},
   "outputs": [],
   "source": [
    "# mapping qualification\n",
    "def mapping_qualification(row):\n",
    "    if row == \"High School\":\n",
    "        return 0\n",
    "    elif row == \"Bachelor\":\n",
    "        return 1\n",
    "    elif row == \"Others\":\n",
    "        return 2\n",
    "    else:\n",
    "        np.nan\n",
    "        \n",
    "# mapping qualification\n",
    "train[\"qualification\"] = train[\"qualification\"].apply(mapping_qualification)\n",
    "test[\"qualification\"] = test[\"qualification\"].apply(mapping_qualification)"
   ]
  },
  {
   "cell_type": "code",
   "execution_count": 21,
   "id": "dc61b605",
   "metadata": {},
   "outputs": [
    {
     "data": {
      "text/plain": [
       "dtype('int64')"
      ]
     },
     "execution_count": 21,
     "metadata": {},
     "output_type": "execute_result"
    }
   ],
   "source": [
    "train[\"qualification\"].dtype"
   ]
  },
  {
   "cell_type": "markdown",
   "id": "ccad4501",
   "metadata": {
    "jp-MarkdownHeadingCollapsed": true,
    "tags": []
   },
   "source": [
    "### Income\n",
    "* 5L-10L : 0         \n",
    "* 2L-5L : 1         \n",
    "* More than 10L : 2  \n",
    "* <=2L : 3"
   ]
  },
  {
   "cell_type": "code",
   "execution_count": 22,
   "id": "6e8eb65c-9de9-456f-8a8b-93671cbf2ff2",
   "metadata": {},
   "outputs": [
    {
     "data": {
      "text/plain": [
       "5L-10L           52716\n",
       "2L-5L            21158\n",
       "More than 10L    13664\n",
       "<=2L              1854\n",
       "Name: income, dtype: int64"
      ]
     },
     "execution_count": 22,
     "metadata": {},
     "output_type": "execute_result"
    }
   ],
   "source": [
    "train[\"income\"].value_counts()"
   ]
  },
  {
   "cell_type": "code",
   "execution_count": 23,
   "id": "55597a24",
   "metadata": {},
   "outputs": [],
   "source": [
    "features[\"categorical\"].append(\"income\")"
   ]
  },
  {
   "cell_type": "code",
   "execution_count": 24,
   "id": "7a6a3748",
   "metadata": {},
   "outputs": [],
   "source": [
    "# mapping income\n",
    "def mapping_income(row):\n",
    "    if row == \"5L-10L\":\n",
    "        return 0\n",
    "    elif row == \"2L-5L\":\n",
    "        return 1\n",
    "    elif row == \"More than 10L\":\n",
    "        return 2\n",
    "    elif row == \"<=2L\":\n",
    "        return 3\n",
    "    else:\n",
    "        np.nan\n",
    "    \n",
    "# mapping income\n",
    "train[\"income\"] = train[\"income\"].apply(mapping_income)\n",
    "test[\"income\"] = test[\"income\"].apply(mapping_income)"
   ]
  },
  {
   "cell_type": "code",
   "execution_count": 25,
   "id": "3fcef8ae",
   "metadata": {},
   "outputs": [
    {
     "data": {
      "text/plain": [
       "dtype('int64')"
      ]
     },
     "execution_count": 25,
     "metadata": {},
     "output_type": "execute_result"
    }
   ],
   "source": [
    "train[\"income\"].dtype"
   ]
  },
  {
   "cell_type": "markdown",
   "id": "286647fa",
   "metadata": {
    "jp-MarkdownHeadingCollapsed": true,
    "tags": []
   },
   "source": [
    "### Marital Status"
   ]
  },
  {
   "cell_type": "code",
   "execution_count": 26,
   "id": "23242215",
   "metadata": {},
   "outputs": [
    {
     "data": {
      "text/plain": [
       "1    51444\n",
       "0    37948\n",
       "Name: marital_status, dtype: int64"
      ]
     },
     "execution_count": 26,
     "metadata": {},
     "output_type": "execute_result"
    }
   ],
   "source": [
    "train[\"marital_status\"].value_counts()"
   ]
  },
  {
   "cell_type": "code",
   "execution_count": 27,
   "id": "70821462",
   "metadata": {},
   "outputs": [],
   "source": [
    "features[\"categorical\"].append(\"marital_status\")"
   ]
  },
  {
   "cell_type": "code",
   "execution_count": 28,
   "id": "40808816",
   "metadata": {},
   "outputs": [
    {
     "data": {
      "text/plain": [
       "id                0\n",
       "gender            0\n",
       "area              0\n",
       "qualification     0\n",
       "income            0\n",
       "marital_status    0\n",
       "vintage           0\n",
       "claim_amount      0\n",
       "num_policies      0\n",
       "policy            0\n",
       "type_of_policy    0\n",
       "cltv              0\n",
       "dtype: int64"
      ]
     },
     "execution_count": 28,
     "metadata": {},
     "output_type": "execute_result"
    }
   ],
   "source": [
    "train.isna().sum()"
   ]
  },
  {
   "cell_type": "markdown",
   "id": "a7cb0f6b",
   "metadata": {},
   "source": [
    "### Vintage"
   ]
  },
  {
   "cell_type": "code",
   "execution_count": 29,
   "id": "a4287c0e",
   "metadata": {},
   "outputs": [
    {
     "data": {
      "text/plain": [
       "6    17769\n",
       "7    13095\n",
       "5    12481\n",
       "4    10471\n",
       "2     9165\n",
       "1     7671\n",
       "8     7624\n",
       "3     7085\n",
       "0     4031\n",
       "Name: vintage, dtype: int64"
      ]
     },
     "execution_count": 29,
     "metadata": {},
     "output_type": "execute_result"
    }
   ],
   "source": [
    "train[\"vintage\"].value_counts()"
   ]
  },
  {
   "cell_type": "code",
   "execution_count": 30,
   "id": "a3f3e7b0",
   "metadata": {},
   "outputs": [],
   "source": [
    "features[\"categorical\"].append(\"vintage\")"
   ]
  },
  {
   "cell_type": "code",
   "execution_count": 31,
   "id": "9399d81f",
   "metadata": {},
   "outputs": [
    {
     "data": {
      "text/plain": [
       "id                0\n",
       "gender            0\n",
       "area              0\n",
       "qualification     0\n",
       "income            0\n",
       "marital_status    0\n",
       "vintage           0\n",
       "claim_amount      0\n",
       "num_policies      0\n",
       "policy            0\n",
       "type_of_policy    0\n",
       "cltv              0\n",
       "dtype: int64"
      ]
     },
     "execution_count": 31,
     "metadata": {},
     "output_type": "execute_result"
    }
   ],
   "source": [
    "train.isna().sum()"
   ]
  },
  {
   "cell_type": "markdown",
   "id": "372c0e81",
   "metadata": {
    "jp-MarkdownHeadingCollapsed": true,
    "tags": []
   },
   "source": [
    "### Claim Amount"
   ]
  },
  {
   "cell_type": "code",
   "execution_count": 32,
   "id": "bea3f2e0",
   "metadata": {},
   "outputs": [
    {
     "data": {
      "text/plain": [
       "0        17671\n",
       "4006        38\n",
       "3912        33\n",
       "3834        32\n",
       "3833        32\n",
       "         ...  \n",
       "10979        1\n",
       "12593        1\n",
       "23063        1\n",
       "21695        1\n",
       "17143        1\n",
       "Name: claim_amount, Length: 10889, dtype: int64"
      ]
     },
     "execution_count": 32,
     "metadata": {},
     "output_type": "execute_result"
    }
   ],
   "source": [
    "train[\"claim_amount\"].value_counts()"
   ]
  },
  {
   "cell_type": "code",
   "execution_count": 33,
   "id": "61928ea4",
   "metadata": {},
   "outputs": [],
   "source": [
    "features[\"continuous\"].append(\"claim_amount\")"
   ]
  },
  {
   "cell_type": "code",
   "execution_count": 34,
   "id": "0eeb1b7c",
   "metadata": {},
   "outputs": [
    {
     "data": {
      "text/plain": [
       "id                0\n",
       "gender            0\n",
       "area              0\n",
       "qualification     0\n",
       "income            0\n",
       "marital_status    0\n",
       "vintage           0\n",
       "claim_amount      0\n",
       "num_policies      0\n",
       "policy            0\n",
       "type_of_policy    0\n",
       "cltv              0\n",
       "dtype: int64"
      ]
     },
     "execution_count": 34,
     "metadata": {},
     "output_type": "execute_result"
    }
   ],
   "source": [
    "train.isna().sum()"
   ]
  },
  {
   "cell_type": "markdown",
   "id": "c931674f",
   "metadata": {
    "jp-MarkdownHeadingCollapsed": true,
    "tags": []
   },
   "source": [
    "### Num Policies\n",
    "* More than 1 : 2"
   ]
  },
  {
   "cell_type": "code",
   "execution_count": 35,
   "id": "2e90f89a",
   "metadata": {},
   "outputs": [
    {
     "data": {
      "text/plain": [
       "More than 1    60263\n",
       "1              29129\n",
       "Name: num_policies, dtype: int64"
      ]
     },
     "execution_count": 35,
     "metadata": {},
     "output_type": "execute_result"
    }
   ],
   "source": [
    "train[\"num_policies\"].value_counts()"
   ]
  },
  {
   "cell_type": "code",
   "execution_count": 36,
   "id": "5ea85539",
   "metadata": {},
   "outputs": [],
   "source": [
    "features[\"categorical\"].append(\"num_policies\")"
   ]
  },
  {
   "cell_type": "code",
   "execution_count": 37,
   "id": "bb8f9e53",
   "metadata": {},
   "outputs": [],
   "source": [
    "# mapping num policies\n",
    "def mapping_num_policies(row):\n",
    "    if row == \"More than 1\":\n",
    "        return 2\n",
    "    elif row == \"1\":\n",
    "        return 1\n",
    "    else:\n",
    "        return np.nan\n",
    "\n",
    "# mapping num policies\n",
    "train[\"num_policies\"] = train[\"num_policies\"].apply(mapping_num_policies)\n",
    "test[\"num_policies\"] = test[\"num_policies\"].apply(mapping_num_policies)"
   ]
  },
  {
   "cell_type": "markdown",
   "id": "cf297bad",
   "metadata": {
    "jp-MarkdownHeadingCollapsed": true,
    "tags": []
   },
   "source": [
    "### Policy\n",
    "* A : 0\n",
    "* B : 1\n",
    "* C : 2"
   ]
  },
  {
   "cell_type": "code",
   "execution_count": 38,
   "id": "6adb846d",
   "metadata": {},
   "outputs": [
    {
     "data": {
      "text/plain": [
       "A    56644\n",
       "B    24635\n",
       "C     8113\n",
       "Name: policy, dtype: int64"
      ]
     },
     "execution_count": 38,
     "metadata": {},
     "output_type": "execute_result"
    }
   ],
   "source": [
    "train[\"policy\"].value_counts()"
   ]
  },
  {
   "cell_type": "code",
   "execution_count": 39,
   "id": "be66c771",
   "metadata": {},
   "outputs": [],
   "source": [
    "features[\"categorical\"].append(\"policy\")"
   ]
  },
  {
   "cell_type": "code",
   "execution_count": 40,
   "id": "d2f0534e",
   "metadata": {},
   "outputs": [],
   "source": [
    "# mapping policy\n",
    "def mappping_policy(row):\n",
    "    if row == \"A\":\n",
    "        return 0\n",
    "    elif row == \"B\":\n",
    "        return 1\n",
    "    elif row == \"C\":\n",
    "        return 2\n",
    "    else:\n",
    "        np.nan \n",
    "        \n",
    "# mapping policy\n",
    "train[\"policy\"] = train[\"policy\"].apply(mappping_policy)\n",
    "test[\"policy\"] = test[\"policy\"].apply(mappping_policy)"
   ]
  },
  {
   "cell_type": "markdown",
   "id": "919a28a4",
   "metadata": {
    "jp-MarkdownHeadingCollapsed": true,
    "tags": []
   },
   "source": [
    "### Type of policy\n",
    "* Platinum : 0\n",
    "* Silver : 1\n",
    "* Gold : 2"
   ]
  },
  {
   "cell_type": "code",
   "execution_count": 41,
   "id": "8f61db61",
   "metadata": {},
   "outputs": [
    {
     "data": {
      "text/plain": [
       "Platinum    47796\n",
       "Silver      21010\n",
       "Gold        20586\n",
       "Name: type_of_policy, dtype: int64"
      ]
     },
     "execution_count": 41,
     "metadata": {},
     "output_type": "execute_result"
    }
   ],
   "source": [
    "train[\"type_of_policy\"].value_counts()"
   ]
  },
  {
   "cell_type": "code",
   "execution_count": 42,
   "id": "3deee2ae",
   "metadata": {},
   "outputs": [],
   "source": [
    "features[\"categorical\"].append(\"type_of_policy\")"
   ]
  },
  {
   "cell_type": "code",
   "execution_count": 43,
   "id": "f1767556",
   "metadata": {},
   "outputs": [],
   "source": [
    "# mapping policy type \n",
    "def mappping_policy_type(row):\n",
    "    if row == \"Platinum\":\n",
    "        return 0\n",
    "    elif row == \"Silver\":\n",
    "        return 1\n",
    "    elif row == \"Gold\":\n",
    "        return 2\n",
    "    else:\n",
    "        np.nan\n",
    "\n",
    "# mapping policy type \n",
    "train[\"type_of_policy\"] = train[\"type_of_policy\"].apply(mappping_policy_type)\n",
    "test[\"type_of_policy\"] = test[\"type_of_policy\"].apply(mappping_policy_type)"
   ]
  },
  {
   "cell_type": "markdown",
   "id": "bc178a15",
   "metadata": {
    "tags": []
   },
   "source": [
    "### CLTV"
   ]
  },
  {
   "cell_type": "code",
   "execution_count": 44,
   "id": "cec15bd8",
   "metadata": {},
   "outputs": [
    {
     "data": {
      "text/plain": [
       "62772     50\n",
       "66480     46\n",
       "63984     45\n",
       "62508     45\n",
       "34176     45\n",
       "          ..\n",
       "344832     1\n",
       "86628      1\n",
       "127872     1\n",
       "261792     1\n",
       "132864     1\n",
       "Name: cltv, Length: 18796, dtype: int64"
      ]
     },
     "execution_count": 44,
     "metadata": {},
     "output_type": "execute_result"
    }
   ],
   "source": [
    "train[\"cltv\"].value_counts()"
   ]
  },
  {
   "cell_type": "code",
   "execution_count": 45,
   "id": "99c42836-f046-450d-ba68-48c4f649c9d0",
   "metadata": {},
   "outputs": [
    {
     "data": {
      "text/plain": [
       "<AxesSubplot: xlabel='cltv', ylabel='Count'>"
      ]
     },
     "execution_count": 45,
     "metadata": {},
     "output_type": "execute_result"
    },
    {
     "data": {
      "image/png": "[encoded data removed]",
      "text/plain": [
       "<Figure size 640x480 with 1 Axes>"
      ]
     },
     "metadata": {},
     "output_type": "display_data"
    }
   ],
   "source": [
    "sns.histplot(train[\"cltv\"],bins=100)"
   ]
  },
  {
   "cell_type": "code",
   "execution_count": 46,
   "id": "48b0efa7",
   "metadata": {},
   "outputs": [
    {
     "data": {
      "text/plain": [
       "(89392,)"
      ]
     },
     "execution_count": 46,
     "metadata": {},
     "output_type": "execute_result"
    }
   ],
   "source": [
    "train[\"cltv\"].shape"
   ]
  },
  {
   "cell_type": "code",
   "execution_count": 47,
   "id": "7a004957",
   "metadata": {},
   "outputs": [],
   "source": [
    "# target\n",
    "features[\"target\"] = \"cltv\""
   ]
  },
  {
   "cell_type": "code",
   "execution_count": 48,
   "id": "cddd57b1",
   "metadata": {},
   "outputs": [
    {
     "data": {
      "text/plain": [
       "['gender',\n",
       " 'area',\n",
       " 'qualification',\n",
       " 'income',\n",
       " 'marital_status',\n",
       " 'vintage',\n",
       " 'num_policies',\n",
       " 'policy',\n",
       " 'type_of_policy']"
      ]
     },
     "execution_count": 48,
     "metadata": {},
     "output_type": "execute_result"
    }
   ],
   "source": [
    "# categorical features\n",
    "features[\"categorical\"]"
   ]
  },
  {
   "cell_type": "code",
   "execution_count": 49,
   "id": "2f78833c",
   "metadata": {},
   "outputs": [
    {
     "data": {
      "text/plain": [
       "['claim_amount']"
      ]
     },
     "execution_count": 49,
     "metadata": {},
     "output_type": "execute_result"
    }
   ],
   "source": [
    "# continuous features\n",
    "features[\"continuous\"]"
   ]
  },
  {
   "cell_type": "markdown",
   "id": "357e098c-e4d4-491b-9039-23722be3e2f5",
   "metadata": {
    "tags": []
   },
   "source": [
    "## Missing Values"
   ]
  },
  {
   "cell_type": "code",
   "execution_count": 50,
   "id": "7355f135",
   "metadata": {},
   "outputs": [
    {
     "data": {
      "text/plain": [
       "id                0\n",
       "gender            0\n",
       "area              0\n",
       "qualification     0\n",
       "income            0\n",
       "marital_status    0\n",
       "vintage           0\n",
       "claim_amount      0\n",
       "num_policies      0\n",
       "policy            0\n",
       "type_of_policy    0\n",
       "cltv              0\n",
       "dtype: int64"
      ]
     },
     "execution_count": 50,
     "metadata": {},
     "output_type": "execute_result"
    }
   ],
   "source": [
    "# train\n",
    "train.isna().sum()"
   ]
  },
  {
   "cell_type": "code",
   "execution_count": 51,
   "id": "a1920b71-4171-4f7a-906a-ec3923325c83",
   "metadata": {},
   "outputs": [
    {
     "data": {
      "text/plain": [
       "id                0\n",
       "gender            0\n",
       "area              0\n",
       "qualification     0\n",
       "income            0\n",
       "marital_status    0\n",
       "vintage           0\n",
       "claim_amount      0\n",
       "num_policies      0\n",
       "policy            0\n",
       "type_of_policy    0\n",
       "dtype: int64"
      ]
     },
     "execution_count": 51,
     "metadata": {},
     "output_type": "execute_result"
    }
   ],
   "source": [
    "# test\n",
    "test.isna().sum()"
   ]
  },
  {
   "cell_type": "markdown",
   "id": "cf329475-930d-418c-84f5-a0890d5db6b8",
   "metadata": {
    "jp-MarkdownHeadingCollapsed": true,
    "tags": []
   },
   "source": [
    "### Imputing missing values in test"
   ]
  },
  {
   "cell_type": "code",
   "execution_count": 52,
   "id": "c7cd6bba-2e33-4c19-8daa-9e7442d7ea8e",
   "metadata": {},
   "outputs": [],
   "source": [
    "test.income = test.income.fillna(test.income.mean())\n",
    "test.marital_status = test.marital_status.fillna(test.marital_status.mean())\n",
    "test.vintage = test.vintage.fillna(test.vintage.mean())\n",
    "test.claim_amount = test.claim_amount.fillna(test.claim_amount.mean())\n",
    "test.num_policies = test.num_policies.fillna(test.claim_amount.mean())\n",
    "test.policy = test.policy.fillna(test.policy.mean())\n",
    "test.type_of_policy = test.type_of_policy.fillna(test.type_of_policy.mean())"
   ]
  },
  {
   "cell_type": "code",
   "execution_count": 53,
   "id": "e2f4d6dc-2ff1-4a82-92d2-e449f711abe5",
   "metadata": {},
   "outputs": [
    {
     "data": {
      "text/plain": [
       "id                0\n",
       "gender            0\n",
       "area              0\n",
       "qualification     0\n",
       "income            0\n",
       "marital_status    0\n",
       "vintage           0\n",
       "claim_amount      0\n",
       "num_policies      0\n",
       "policy            0\n",
       "type_of_policy    0\n",
       "dtype: int64"
      ]
     },
     "execution_count": 53,
     "metadata": {},
     "output_type": "execute_result"
    }
   ],
   "source": [
    "# test\n",
    "test.isna().sum()"
   ]
  },
  {
   "cell_type": "markdown",
   "id": "517da758",
   "metadata": {},
   "source": [
    "## Data Splitting"
   ]
  },
  {
   "cell_type": "code",
   "execution_count": 54,
   "id": "dae6c0f9",
   "metadata": {},
   "outputs": [],
   "source": [
    "# sampling train data\n",
    "# train = train.sample(train.shape[0])"
   ]
  },
  {
   "cell_type": "code",
   "execution_count": 55,
   "id": "2994d156",
   "metadata": {},
   "outputs": [],
   "source": [
    "# splitting data into independent features & dependent features\n",
    "X = train.drop([\"id\",\"cltv\"],axis=1)\n",
    "y = train[\"cltv\"]"
   ]
  },
  {
   "cell_type": "markdown",
   "id": "3a422548-5a86-4c8b-b8cc-92151453948b",
   "metadata": {},
   "source": [
    "## Scaling Train data"
   ]
  },
  {
   "cell_type": "code",
   "execution_count": 56,
   "id": "a435bf93",
   "metadata": {},
   "outputs": [],
   "source": [
    "# scaling data\n",
    "scaler = preprocessing.MinMaxScaler(feature_range=(0,3))\n",
    "X[X.columns] = scaler.fit_transform(X)\n",
    "test[test.iloc[:,1:].columns] = scaler.fit_transform(test.drop(\"id\",axis=1))"
   ]
  },
  {
   "cell_type": "code",
   "execution_count": 57,
   "id": "10a71b4b-bb3b-409b-b1b6-850eb89782ef",
   "metadata": {},
   "outputs": [
    {
     "data": {
      "text/html": [
       "<div>\n",
       "<style scoped>\n",
       "    .dataframe tbody tr th:only-of-type {\n",
       "        vertical-align: middle;\n",
       "    }\n",
       "\n",
       "    .dataframe tbody tr th {\n",
       "        vertical-align: top;\n",
       "    }\n",
       "\n",
       "    .dataframe thead th {\n",
       "        text-align: right;\n",
       "    }\n",
       "</style>\n",
       "<table border=\"1\" class=\"dataframe\">\n",
       "  <thead>\n",
       "    <tr style=\"text-align: right;\">\n",
       "      <th></th>\n",
       "      <th>id</th>\n",
       "      <th>gender</th>\n",
       "      <th>area</th>\n",
       "      <th>qualification</th>\n",
       "      <th>income</th>\n",
       "      <th>marital_status</th>\n",
       "      <th>vintage</th>\n",
       "      <th>claim_amount</th>\n",
       "      <th>num_policies</th>\n",
       "      <th>policy</th>\n",
       "      <th>type_of_policy</th>\n",
       "    </tr>\n",
       "  </thead>\n",
       "  <tbody>\n",
       "    <tr>\n",
       "      <th>0</th>\n",
       "      <td>89393</td>\n",
       "      <td>0.0</td>\n",
       "      <td>3.0</td>\n",
       "      <td>0.0</td>\n",
       "      <td>0.0</td>\n",
       "      <td>0.0</td>\n",
       "      <td>2.250</td>\n",
       "      <td>0.196779</td>\n",
       "      <td>3.0</td>\n",
       "      <td>1.5</td>\n",
       "      <td>1.5</td>\n",
       "    </tr>\n",
       "    <tr>\n",
       "      <th>1</th>\n",
       "      <td>89394</td>\n",
       "      <td>0.0</td>\n",
       "      <td>0.0</td>\n",
       "      <td>0.0</td>\n",
       "      <td>1.0</td>\n",
       "      <td>0.0</td>\n",
       "      <td>1.500</td>\n",
       "      <td>0.378250</td>\n",
       "      <td>3.0</td>\n",
       "      <td>0.0</td>\n",
       "      <td>0.0</td>\n",
       "    </tr>\n",
       "    <tr>\n",
       "      <th>2</th>\n",
       "      <td>89395</td>\n",
       "      <td>3.0</td>\n",
       "      <td>3.0</td>\n",
       "      <td>0.0</td>\n",
       "      <td>0.0</td>\n",
       "      <td>3.0</td>\n",
       "      <td>2.625</td>\n",
       "      <td>0.269718</td>\n",
       "      <td>3.0</td>\n",
       "      <td>1.5</td>\n",
       "      <td>3.0</td>\n",
       "    </tr>\n",
       "    <tr>\n",
       "      <th>3</th>\n",
       "      <td>89396</td>\n",
       "      <td>0.0</td>\n",
       "      <td>3.0</td>\n",
       "      <td>1.5</td>\n",
       "      <td>2.0</td>\n",
       "      <td>3.0</td>\n",
       "      <td>0.750</td>\n",
       "      <td>0.000000</td>\n",
       "      <td>3.0</td>\n",
       "      <td>1.5</td>\n",
       "      <td>1.5</td>\n",
       "    </tr>\n",
       "    <tr>\n",
       "      <th>4</th>\n",
       "      <td>89397</td>\n",
       "      <td>0.0</td>\n",
       "      <td>0.0</td>\n",
       "      <td>0.0</td>\n",
       "      <td>1.0</td>\n",
       "      <td>0.0</td>\n",
       "      <td>1.875</td>\n",
       "      <td>1.296398</td>\n",
       "      <td>3.0</td>\n",
       "      <td>1.5</td>\n",
       "      <td>1.5</td>\n",
       "    </tr>\n",
       "    <tr>\n",
       "      <th>...</th>\n",
       "      <td>...</td>\n",
       "      <td>...</td>\n",
       "      <td>...</td>\n",
       "      <td>...</td>\n",
       "      <td>...</td>\n",
       "      <td>...</td>\n",
       "      <td>...</td>\n",
       "      <td>...</td>\n",
       "      <td>...</td>\n",
       "      <td>...</td>\n",
       "      <td>...</td>\n",
       "    </tr>\n",
       "    <tr>\n",
       "      <th>59590</th>\n",
       "      <td>148983</td>\n",
       "      <td>3.0</td>\n",
       "      <td>3.0</td>\n",
       "      <td>1.5</td>\n",
       "      <td>0.0</td>\n",
       "      <td>3.0</td>\n",
       "      <td>2.250</td>\n",
       "      <td>0.000000</td>\n",
       "      <td>0.0</td>\n",
       "      <td>0.0</td>\n",
       "      <td>1.5</td>\n",
       "    </tr>\n",
       "    <tr>\n",
       "      <th>59591</th>\n",
       "      <td>148984</td>\n",
       "      <td>3.0</td>\n",
       "      <td>0.0</td>\n",
       "      <td>0.0</td>\n",
       "      <td>0.0</td>\n",
       "      <td>0.0</td>\n",
       "      <td>2.250</td>\n",
       "      <td>0.000000</td>\n",
       "      <td>0.0</td>\n",
       "      <td>3.0</td>\n",
       "      <td>3.0</td>\n",
       "    </tr>\n",
       "    <tr>\n",
       "      <th>59592</th>\n",
       "      <td>148985</td>\n",
       "      <td>0.0</td>\n",
       "      <td>0.0</td>\n",
       "      <td>0.0</td>\n",
       "      <td>1.0</td>\n",
       "      <td>3.0</td>\n",
       "      <td>1.500</td>\n",
       "      <td>0.306418</td>\n",
       "      <td>3.0</td>\n",
       "      <td>1.5</td>\n",
       "      <td>0.0</td>\n",
       "    </tr>\n",
       "    <tr>\n",
       "      <th>59593</th>\n",
       "      <td>148986</td>\n",
       "      <td>3.0</td>\n",
       "      <td>3.0</td>\n",
       "      <td>1.5</td>\n",
       "      <td>0.0</td>\n",
       "      <td>0.0</td>\n",
       "      <td>0.375</td>\n",
       "      <td>0.266122</td>\n",
       "      <td>3.0</td>\n",
       "      <td>0.0</td>\n",
       "      <td>1.5</td>\n",
       "    </tr>\n",
       "    <tr>\n",
       "      <th>59594</th>\n",
       "      <td>148987</td>\n",
       "      <td>0.0</td>\n",
       "      <td>0.0</td>\n",
       "      <td>1.5</td>\n",
       "      <td>0.0</td>\n",
       "      <td>3.0</td>\n",
       "      <td>1.500</td>\n",
       "      <td>0.547642</td>\n",
       "      <td>3.0</td>\n",
       "      <td>1.5</td>\n",
       "      <td>0.0</td>\n",
       "    </tr>\n",
       "  </tbody>\n",
       "</table>\n",
       "<p>59595 rows × 11 columns</p>\n",
       "</div>"
      ],
      "text/plain": [
       "           id  gender  area  qualification  income  marital_status  vintage  \\\n",
       "0       89393     0.0   3.0            0.0     0.0             0.0    2.250   \n",
       "1       89394     0.0   0.0            0.0     1.0             0.0    1.500   \n",
       "2       89395     3.0   3.0            0.0     0.0             3.0    2.625   \n",
       "3       89396     0.0   3.0            1.5     2.0             3.0    0.750   \n",
       "4       89397     0.0   0.0            0.0     1.0             0.0    1.875   \n",
       "...       ...     ...   ...            ...     ...             ...      ...   \n",
       "59590  148983     3.0   3.0            1.5     0.0             3.0    2.250   \n",
       "59591  148984     3.0   0.0            0.0     0.0             0.0    2.250   \n",
       "59592  148985     0.0   0.0            0.0     1.0             3.0    1.500   \n",
       "59593  148986     3.0   3.0            1.5     0.0             0.0    0.375   \n",
       "59594  148987     0.0   0.0            1.5     0.0             3.0    1.500   \n",
       "\n",
       "       claim_amount  num_policies  policy  type_of_policy  \n",
       "0          0.196779           3.0     1.5             1.5  \n",
       "1          0.378250           3.0     0.0             0.0  \n",
       "2          0.269718           3.0     1.5             3.0  \n",
       "3          0.000000           3.0     1.5             1.5  \n",
       "4          1.296398           3.0     1.5             1.5  \n",
       "...             ...           ...     ...             ...  \n",
       "59590      0.000000           0.0     0.0             1.5  \n",
       "59591      0.000000           0.0     3.0             3.0  \n",
       "59592      0.306418           3.0     1.5             0.0  \n",
       "59593      0.266122           3.0     0.0             1.5  \n",
       "59594      0.547642           3.0     1.5             0.0  \n",
       "\n",
       "[59595 rows x 11 columns]"
      ]
     },
     "execution_count": 57,
     "metadata": {},
     "output_type": "execute_result"
    }
   ],
   "source": [
    "test"
   ]
  },
  {
   "cell_type": "code",
   "execution_count": 58,
   "id": "7f52ac02",
   "metadata": {},
   "outputs": [],
   "source": [
    "# scaling data\n",
    "# X[X.columns] = preprocessing.StandardScaler().fit_transform(X)"
   ]
  },
  {
   "cell_type": "markdown",
   "id": "5be28a9a-f6bd-40f1-89b4-10717200dfec",
   "metadata": {},
   "source": [
    "## Train Test Split"
   ]
  },
  {
   "cell_type": "code",
   "execution_count": 59,
   "id": "560af19a-94c7-463d-b9cf-56296391b5cd",
   "metadata": {},
   "outputs": [],
   "source": [
    "X_train,X_test,y_train,y_test = model_selection.train_test_split(X,y,test_size=0.2,random_state=11)"
   ]
  },
  {
   "cell_type": "markdown",
   "id": "05a23d70-b99b-4adb-9171-c25e5db54075",
   "metadata": {},
   "source": [
    "# Modelling"
   ]
  },
  {
   "cell_type": "markdown",
   "id": "049e9154-0635-4b8b-954a-e2f2bcdc1df7",
   "metadata": {},
   "source": [
    "## DecisionTreeRegressor"
   ]
  },
  {
   "cell_type": "code",
   "execution_count": 60,
   "id": "16123614",
   "metadata": {
    "scrolled": true
   },
   "outputs": [
    {
     "data": {
      "text/plain": [
       "0.16093298750649776"
      ]
     },
     "execution_count": 60,
     "metadata": {},
     "output_type": "execute_result"
    }
   ],
   "source": [
    "model = tree.DecisionTreeRegressor(criterion='squared_error',max_depth=5)\n",
    "model.fit(X_train,y_train)\n",
    "y_pred = model.predict(X_test)\n",
    "model.score(X_test,y_test)"
   ]
  },
  {
   "cell_type": "code",
   "execution_count": 61,
   "id": "8ea20c0f-f3ee-439b-84ca-4698c28cb57f",
   "metadata": {},
   "outputs": [],
   "source": [
    "submission_cltv = np.array(submission[\"cltv\"])\n",
    "submission_cltv = submission_cltv.reshape(-1,1)"
   ]
  },
  {
   "cell_type": "markdown",
   "id": "6d9677be-b2c9-4b49-8264-db8216a99507",
   "metadata": {},
   "source": [
    "# Model Based Feature Selection"
   ]
  },
  {
   "cell_type": "code",
   "execution_count": 62,
   "id": "4d8615a7-540f-457a-b87e-ab998fa4361b",
   "metadata": {},
   "outputs": [
    {
     "data": {
      "text/html": [
       "<style>#sk-container-id-1 {color: black;background-color: white;}#sk-container-id-1 pre{padding: 0;}#sk-container-id-1 div.sk-toggleable {background-color: white;}#sk-container-id-1 label.sk-toggleable__label {cursor: pointer;display: block;width: 100%;margin-bottom: 0;padding: 0.3em;box-sizing: border-box;text-align: center;}#sk-container-id-1 label.sk-toggleable__label-arrow:before {content: \"▸\";float: left;margin-right: 0.25em;color: #696969;}#sk-container-id-1 label.sk-toggleable__label-arrow:hover:before {color: black;}#sk-container-id-1 div.sk-estimator:hover label.sk-toggleable__label-arrow:before {color: black;}#sk-container-id-1 div.sk-toggleable__content {max-height: 0;max-width: 0;overflow: hidden;text-align: left;background-color: #f0f8ff;}#sk-container-id-1 div.sk-toggleable__content pre {margin: 0.2em;color: black;border-radius: 0.25em;background-color: #f0f8ff;}#sk-container-id-1 input.sk-toggleable__control:checked~div.sk-toggleable__content {max-height: 200px;max-width: 100%;overflow: auto;}#sk-container-id-1 input.sk-toggleable__control:checked~label.sk-toggleable__label-arrow:before {content: \"▾\";}#sk-container-id-1 div.sk-estimator input.sk-toggleable__control:checked~label.sk-toggleable__label {background-color: #d4ebff;}#sk-container-id-1 div.sk-label input.sk-toggleable__control:checked~label.sk-toggleable__label {background-color: #d4ebff;}#sk-container-id-1 input.sk-hidden--visually {border: 0;clip: rect(1px 1px 1px 1px);clip: rect(1px, 1px, 1px, 1px);height: 1px;margin: -1px;overflow: hidden;padding: 0;position: absolute;width: 1px;}#sk-container-id-1 div.sk-estimator {font-family: monospace;background-color: #f0f8ff;border: 1px dotted black;border-radius: 0.25em;box-sizing: border-box;margin-bottom: 0.5em;}#sk-container-id-1 div.sk-estimator:hover {background-color: #d4ebff;}#sk-container-id-1 div.sk-parallel-item::after {content: \"\";width: 100%;border-bottom: 1px solid gray;flex-grow: 1;}#sk-container-id-1 div.sk-label:hover label.sk-toggleable__label {background-color: #d4ebff;}#sk-container-id-1 div.sk-serial::before {content: \"\";position: absolute;border-left: 1px solid gray;box-sizing: border-box;top: 0;bottom: 0;left: 50%;z-index: 0;}#sk-container-id-1 div.sk-serial {display: flex;flex-direction: column;align-items: center;background-color: white;padding-right: 0.2em;padding-left: 0.2em;position: relative;}#sk-container-id-1 div.sk-item {position: relative;z-index: 1;}#sk-container-id-1 div.sk-parallel {display: flex;align-items: stretch;justify-content: center;background-color: white;position: relative;}#sk-container-id-1 div.sk-item::before, #sk-container-id-1 div.sk-parallel-item::before {content: \"\";position: absolute;border-left: 1px solid gray;box-sizing: border-box;top: 0;bottom: 0;left: 50%;z-index: -1;}#sk-container-id-1 div.sk-parallel-item {display: flex;flex-direction: column;z-index: 1;position: relative;background-color: white;}#sk-container-id-1 div.sk-parallel-item:first-child::after {align-self: flex-end;width: 50%;}#sk-container-id-1 div.sk-parallel-item:last-child::after {align-self: flex-start;width: 50%;}#sk-container-id-1 div.sk-parallel-item:only-child::after {width: 0;}#sk-container-id-1 div.sk-dashed-wrapped {border: 1px dashed gray;margin: 0 0.4em 0.5em 0.4em;box-sizing: border-box;padding-bottom: 0.4em;background-color: white;}#sk-container-id-1 div.sk-label label {font-family: monospace;font-weight: bold;display: inline-block;line-height: 1.2em;}#sk-container-id-1 div.sk-label-container {text-align: center;}#sk-container-id-1 div.sk-container {/* jupyter's `normalize.less` sets `[hidden] { display: none; }` but bootstrap.min.css set `[hidden] { display: none !important; }` so we also need the `!important` here to be able to override the default hidden behavior on the sphinx rendered scikit-learn.org. See: https://github.com/scikit-learn/scikit-learn/issues/21755 */display: inline-block !important;position: relative;}#sk-container-id-1 div.sk-text-repr-fallback {display: none;}</style><div id=\"sk-container-id-1\" class=\"sk-top-container\"><div class=\"sk-text-repr-fallback\"><pre>ExtraTreesRegressor()</pre><b>In a Jupyter environment, please rerun this cell to show the HTML representation or trust the notebook. <br />On GitHub, the HTML representation is unable to render, please try loading this page with nbviewer.org.</b></div><div class=\"sk-container\" hidden><div class=\"sk-item\"><div class=\"sk-estimator sk-toggleable\"><input class=\"sk-toggleable__control sk-hidden--visually\" id=\"sk-estimator-id-1\" type=\"checkbox\" checked><label for=\"sk-estimator-id-1\" class=\"sk-toggleable__label sk-toggleable__label-arrow\">ExtraTreesRegressor</label><div class=\"sk-toggleable__content\"><pre>ExtraTreesRegressor()</pre></div></div></div></div></div>"
      ],
      "text/plain": [
       "ExtraTreesRegressor()"
      ]
     },
     "execution_count": 62,
     "metadata": {},
     "output_type": "execute_result"
    }
   ],
   "source": [
    "extra_regressor = ensemble.ExtraTreesRegressor()\n",
    "extra_regressor.fit(X,y)"
   ]
  },
  {
   "cell_type": "code",
   "execution_count": 63,
   "id": "da8f6b4d-952f-4f21-b057-631ad0b87329",
   "metadata": {},
   "outputs": [],
   "source": [
    "important_features = extra_regressor.feature_importances_ > 0.01"
   ]
  },
  {
   "cell_type": "code",
   "execution_count": 64,
   "id": "e9a4c4b9-3541-4314-97d3-960b0c17ff0d",
   "metadata": {},
   "outputs": [],
   "source": [
    "X_train = X_train.loc[:,important_features]\n",
    "X_test = X_test.loc[:,important_features]"
   ]
  },
  {
   "cell_type": "markdown",
   "id": "ac98b377-5357-47b9-8185-afbb89a38052",
   "metadata": {},
   "source": [
    "### DecisionTreeRegressor"
   ]
  },
  {
   "cell_type": "code",
   "execution_count": 65,
   "id": "e6ae87a7-fb4f-499a-848a-175294ed6b44",
   "metadata": {},
   "outputs": [
    {
     "data": {
      "text/plain": [
       "0.15690761199744818"
      ]
     },
     "execution_count": 65,
     "metadata": {},
     "output_type": "execute_result"
    }
   ],
   "source": [
    "# model object\n",
    "model = tree.DecisionTreeRegressor(\n",
    "    criterion='squared_error',\n",
    "    max_depth=5,\n",
    "    max_features= None,\n",
    "    max_leaf_nodes= None,\n",
    "    min_samples_leaf = 1,\n",
    "    min_weight_fraction_leaf = 0.1,\n",
    "    splitter = 'best')\n",
    "\n",
    "# fitting\n",
    "model.fit(X_train,y_train)\n",
    "\n",
    "# prediction\n",
    "y_pred = model.predict(X_test)\n",
    "\n",
    "# score\n",
    "model.score(X_test,y_test)"
   ]
  },
  {
   "cell_type": "markdown",
   "id": "b2932e06-d10b-43a0-8c26-45bad6f06b0f",
   "metadata": {},
   "source": [
    "## Export `submission2.csv`"
   ]
  },
  {
   "cell_type": "code",
   "execution_count": 66,
   "id": "707ef213-8287-4254-b389-7eb0298dc4f6",
   "metadata": {},
   "outputs": [],
   "source": [
    "# model object\n",
    "model = tree.DecisionTreeRegressor(\n",
    "    criterion='squared_error',\n",
    "    max_depth=5,\n",
    "    max_features= None,\n",
    "    max_leaf_nodes= None,\n",
    "    min_samples_leaf = 1,\n",
    "    min_weight_fraction_leaf = 0.1,\n",
    "    splitter = 'best')\n",
    "\n",
    "# fitting\n",
    "model.fit(X,y)\n",
    "\n",
    "# prediction\n",
    "y_pred = model.predict(test.drop(\"id\",axis=1))"
   ]
  },
  {
   "cell_type": "code",
   "execution_count": 67,
   "id": "fc6945ad-4620-4518-bb83-3d4c57af4aa8",
   "metadata": {},
   "outputs": [
    {
     "data": {
      "text/plain": [
       "(59595,)"
      ]
     },
     "execution_count": 67,
     "metadata": {},
     "output_type": "execute_result"
    }
   ],
   "source": [
    "y_pred.shape"
   ]
  },
  {
   "cell_type": "code",
   "execution_count": 68,
   "id": "6863bf39-f131-46f0-9381-6d98f7bd3d1e",
   "metadata": {},
   "outputs": [
    {
     "data": {
      "text/plain": [
       "<AxesSubplot: ylabel='Count'>"
      ]
     },
     "execution_count": 68,
     "metadata": {},
     "output_type": "execute_result"
    },
    {
     "data": {
      "image/png": "[encoded data removed]",
      "text/plain": [
       "<Figure size 640x480 with 1 Axes>"
      ]
     },
     "metadata": {},
     "output_type": "display_data"
    }
   ],
   "source": [
    "sns.histplot(y_pred,bins=100)"
   ]
  },
  {
   "cell_type": "code",
   "execution_count": 69,
   "id": "2d778a9f",
   "metadata": {},
   "outputs": [],
   "source": [
    "test[\"cltv\"] =  y_pred"
   ]
  },
  {
   "cell_type": "code",
   "execution_count": 70,
   "id": "d07a5de0-b273-4517-b739-491838f677e5",
   "metadata": {},
   "outputs": [
    {
     "data": {
      "text/html": [
       "<div>\n",
       "<style scoped>\n",
       "    .dataframe tbody tr th:only-of-type {\n",
       "        vertical-align: middle;\n",
       "    }\n",
       "\n",
       "    .dataframe tbody tr th {\n",
       "        vertical-align: top;\n",
       "    }\n",
       "\n",
       "    .dataframe thead th {\n",
       "        text-align: right;\n",
       "    }\n",
       "</style>\n",
       "<table border=\"1\" class=\"dataframe\">\n",
       "  <thead>\n",
       "    <tr style=\"text-align: right;\">\n",
       "      <th></th>\n",
       "      <th>id</th>\n",
       "      <th>cltv</th>\n",
       "    </tr>\n",
       "  </thead>\n",
       "  <tbody>\n",
       "    <tr>\n",
       "      <th>0</th>\n",
       "      <td>89393</td>\n",
       "      <td>98022.165073</td>\n",
       "    </tr>\n",
       "    <tr>\n",
       "      <th>1</th>\n",
       "      <td>89394</td>\n",
       "      <td>119578.042047</td>\n",
       "    </tr>\n",
       "    <tr>\n",
       "      <th>2</th>\n",
       "      <td>89395</td>\n",
       "      <td>98022.165073</td>\n",
       "    </tr>\n",
       "    <tr>\n",
       "      <th>3</th>\n",
       "      <td>89396</td>\n",
       "      <td>98022.165073</td>\n",
       "    </tr>\n",
       "    <tr>\n",
       "      <th>4</th>\n",
       "      <td>89397</td>\n",
       "      <td>148299.875903</td>\n",
       "    </tr>\n",
       "    <tr>\n",
       "      <th>...</th>\n",
       "      <td>...</td>\n",
       "      <td>...</td>\n",
       "    </tr>\n",
       "    <tr>\n",
       "      <th>59590</th>\n",
       "      <td>148983</td>\n",
       "      <td>48052.926400</td>\n",
       "    </tr>\n",
       "    <tr>\n",
       "      <th>59591</th>\n",
       "      <td>148984</td>\n",
       "      <td>48052.926400</td>\n",
       "    </tr>\n",
       "    <tr>\n",
       "      <th>59592</th>\n",
       "      <td>148985</td>\n",
       "      <td>111106.585221</td>\n",
       "    </tr>\n",
       "    <tr>\n",
       "      <th>59593</th>\n",
       "      <td>148986</td>\n",
       "      <td>98022.165073</td>\n",
       "    </tr>\n",
       "    <tr>\n",
       "      <th>59594</th>\n",
       "      <td>148987</td>\n",
       "      <td>130107.322830</td>\n",
       "    </tr>\n",
       "  </tbody>\n",
       "</table>\n",
       "<p>59595 rows × 2 columns</p>\n",
       "</div>"
      ],
      "text/plain": [
       "           id           cltv\n",
       "0       89393   98022.165073\n",
       "1       89394  119578.042047\n",
       "2       89395   98022.165073\n",
       "3       89396   98022.165073\n",
       "4       89397  148299.875903\n",
       "...       ...            ...\n",
       "59590  148983   48052.926400\n",
       "59591  148984   48052.926400\n",
       "59592  148985  111106.585221\n",
       "59593  148986   98022.165073\n",
       "59594  148987  130107.322830\n",
       "\n",
       "[59595 rows x 2 columns]"
      ]
     },
     "execution_count": 70,
     "metadata": {},
     "output_type": "execute_result"
    }
   ],
   "source": [
    "test[[\"id\",\"cltv\"]]"
   ]
  },
  {
   "cell_type": "code",
   "execution_count": 71,
   "id": "d0c3a5a8-0ae4-467a-aece-08235970f0ae",
   "metadata": {},
   "outputs": [],
   "source": [
    "test[[\"id\",\"cltv\"]].to_csv(\"submission4.csv\",index=False)"
   ]
  },
  {
   "cell_type": "code",
   "execution_count": null,
   "id": "a763d5cb",
   "metadata": {},
   "outputs": [],
   "source": [
    "# Logistic Regression\n",
    "lr = linear_model.LinearRegression(\n",
    "    penalty ='l2', C=1, solver='liblinear', random_state=4, max_iter=10000)\n",
    "\n",
    "# hyperparameter space\n",
    "param_grid = dict(\n",
    "    penalty=['l1', 'l2'],\n",
    "    C=[0.1, 1, 10],\n",
    ")\n",
    "\n",
    "# Leave P Out Cross-Validation\n",
    "skf = model_selection.StratifiedKFold(n_splits=5, shuffle=True, random_state=4)\n",
    "\n",
    "# search\n",
    "clf = model_selection.GridSearchCV(\n",
    "    lr,\n",
    "    param_grid,\n",
    "    scoring='accuracy',\n",
    "    cv=skf, # LPOCV\n",
    "    refit=True, # refits best model to entire dataset\n",
    "    verbose=2\n",
    ")\n",
    "\n",
    "search = clf.fit(X_train, y_train)\n",
    "\n",
    "# best hyperparameters\n",
    "search.best_params_"
   ]
  },
  {
   "cell_type": "markdown",
   "id": "30d44e56-f885-4085-a677-6213e06f88a8",
   "metadata": {},
   "source": [
    "## GridSearchCV"
   ]
  },
  {
   "cell_type": "code",
   "execution_count": 72,
   "id": "677e2d07",
   "metadata": {},
   "outputs": [],
   "source": [
    "# parameters={\"splitter\":[\"best\",\"random\"],\n",
    "#             \"max_depth\" : [1,3,5,7,9,11,12],\n",
    "#            \"min_samples_leaf\":[1,2,3,4,5,6,7,8,9,10],\n",
    "#            \"min_weight_fraction_leaf\":[0.1,0.2,0.3,0.4,0.5,0.6,0.7,0.8,0.9],\n",
    "#            \"max_features\":[\"log2\",\"sqrt\",None],\n",
    "#            \"max_leaf_nodes\":[None,10,20,30,40,50,60,70,80,90] }"
   ]
  },
  {
   "cell_type": "code",
   "execution_count": 73,
   "id": "08527bf7-e180-4352-8dd3-140ec7e3dffd",
   "metadata": {},
   "outputs": [],
   "source": [
    "parameters={\n",
    "    'max_depth': [2, 3, 5, 10, 20],\n",
    "    'min_samples_leaf': [5, 10, 20, 50, 100],\n",
    "    'criterion': ['absolute_error', 'squared_error', 'friedman_mse', 'poisson']\n",
    "}"
   ]
  },
  {
   "cell_type": "code",
   "execution_count": 74,
   "id": "8eca879d-afbb-4487-bb18-e0e32b0c23d2",
   "metadata": {},
   "outputs": [],
   "source": [
    "# hyperparameter tuning with GridSearchCV\n",
    "# model = tree.DecisionTreeRegressor()\n",
    "# model_tuning = model_selection.GridSearchCV(\n",
    "#     model,\n",
    "#     param_grid=parameters,\n",
    "#     cv = 5,\n",
    "#     verbose = 2\n",
    "# )\n",
    "# model_tuning.fit(X_train,y_train)"
   ]
  },
  {
   "cell_type": "code",
   "execution_count": 75,
   "id": "60b536fe-6dac-4ec1-bbfe-35e780c9019b",
   "metadata": {},
   "outputs": [],
   "source": [
    "# prediction\n",
    "# y_pred = model_tuning.predict(X_test)\n",
    "\n",
    "# # score\n",
    "# model_tuning.score(X_test,y_test)"
   ]
  },
  {
   "cell_type": "code",
   "execution_count": 76,
   "id": "ff1e1fc6",
   "metadata": {},
   "outputs": [],
   "source": [
    "# model_tuning.best_params_"
   ]
  },
  {
   "cell_type": "code",
   "execution_count": 77,
   "id": "50cadf5c",
   "metadata": {},
   "outputs": [],
   "source": [
    "# model_tuning.best_estimator_"
   ]
  },
  {
   "cell_type": "code",
   "execution_count": null,
   "id": "6ea19969",
   "metadata": {},
   "outputs": [],
   "source": []
  },
  {
   "cell_type": "code",
   "execution_count": null,
   "id": "6ee4163c",
   "metadata": {},
   "outputs": [],
   "source": []
  }
 ],
 "metadata": {
  "kernelspec": {
   "display_name": "Python 3 (ipykernel)",
   "language": "python",
   "name": "python3"
  },
  "language_info": {
   "codemirror_mode": {
    "name": "ipython",
    "version": 3
   },
   "file_extension": ".py",
   "mimetype": "text/x-python",
   "name": "python",
   "nbconvert_exporter": "python",
   "pygments_lexer": "ipython3",
   "version": "3.11.1"
  }
 },
 "nbformat": 4,
 "nbformat_minor": 5
}
