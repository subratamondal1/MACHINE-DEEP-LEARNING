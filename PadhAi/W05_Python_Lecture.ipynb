{
  "nbformat": 4,
  "nbformat_minor": 0,
  "metadata": {
    "colab": {
      "name": "W05-Python_lecture.ipynb",
      "provenance": [],
      "collapsed_sections": [],
      "toc_visible": true
    },
    "kernelspec": {
      "name": "python3",
      "display_name": "Python 3"
    }
  },
  "cells": [
    {
      "cell_type": "markdown",
      "metadata": {
        "id": "srIQxlaOxWOM"
      },
      "source": [
        "<img src=\"https://i.imgur.com/nTOFzVI.png\" alt=\"drawing\" width=\"400\"/>\n",
        "\n",
        "# by One Fourth Labs\n",
        "\n",
        "\n",
        "For more reading or to go indepth refer official reference of python language https://docs.python.org/3/reference/"
      ]
    },
    {
      "cell_type": "markdown",
      "metadata": {
        "id": "YPodBtxNI2uS"
      },
      "source": [
        "# Documentation and Error Handling"
      ]
    },
    {
      "cell_type": "markdown",
      "metadata": {
        "id": "uBR5U473CLPr"
      },
      "source": [
        "\n",
        "Start from *two* numbers $(f_0, f_1)$ and compute the $n$th value as \n",
        "$f_{n} \\leftarrow f_{n - 1} + f_{n - 2}$.\n",
        "\n",
        "It turns out that the ratio of consecutive numbers in the Fibonacci sequence approximates to the Golden ratio $\\phi$: \n",
        "$$ \\phi \\approx \\dfrac{f_n}{f_{n - 1}} $$"
      ]
    },
    {
      "cell_type": "code",
      "metadata": {
        "id": "fqC4mlzIBy36"
      },
      "source": [
        "def fibonacci_sequence(n, a = 1, b = 1):\n",
        "    for i in range(n):\n",
        "        temp = a + b\n",
        "        a = b\n",
        "        b = temp\n",
        "    return temp"
      ],
      "execution_count": null,
      "outputs": []
    },
    {
      "cell_type": "code",
      "metadata": {
        "id": "ILkL0PSiCRwE"
      },
      "source": [
        "def input_single_float(prompt):\n",
        "    user_input = input(prompt)\n",
        "    output = float(user_input)\n",
        "    return output"
      ],
      "execution_count": null,
      "outputs": []
    },
    {
      "cell_type": "code",
      "metadata": {
        "id": "9ft-ChR7Cba_"
      },
      "source": [
        "def fibonacci_sequence(n, a =10, b = 1):\n",
        "    \"\"\"\n",
        "    This computes the nth number in the Fibonacci sequence\n",
        "    starting with a and b as the first two values.\n",
        "    \"\"\"\n",
        "    for i in range(n):\n",
        "        temp = a + b\n",
        "        a = b\n",
        "        b = temp\n",
        "    return temp"
      ],
      "execution_count": null,
      "outputs": []
    },
    {
      "cell_type": "code",
      "metadata": {
        "id": "5tDaKoqmOQaM"
      },
      "source": [
        "fibonacci_sequence?"
      ],
      "execution_count": null,
      "outputs": []
    },
    {
      "cell_type": "code",
      "metadata": {
        "id": "kIjkQ0_0OVRg"
      },
      "source": [
        "def input_single_float(prompt):\n",
        "    \"\"\"\n",
        "    This prompts user to input, and then converts this to a single float\n",
        "    \"\"\"\n",
        "    user_input = input(prompt)\n",
        "    output = float(user_input)\n",
        "    return output"
      ],
      "execution_count": null,
      "outputs": []
    },
    {
      "cell_type": "code",
      "metadata": {
        "id": "VqIcwOflPMdi",
        "colab": {
          "base_uri": "https://localhost:8080/",
          "height": 289
        },
        "outputId": "c4136804-e26f-4931-f031-9ffc979af34d"
      },
      "source": [
        "val = input_single_float('Enter PI ')"
      ],
      "execution_count": null,
      "outputs": [
        {
          "output_type": "stream",
          "text": [
            "Enter PI three\n"
          ],
          "name": "stdout"
        },
        {
          "output_type": "error",
          "ename": "ValueError",
          "evalue": "ignored",
          "traceback": [
            "\u001b[0;31m---------------------------------------------------------------------------\u001b[0m",
            "\u001b[0;31mValueError\u001b[0m                                Traceback (most recent call last)",
            "\u001b[0;32m<ipython-input-7-86b099255a89>\u001b[0m in \u001b[0;36m<module>\u001b[0;34m()\u001b[0m\n\u001b[0;32m----> 1\u001b[0;31m \u001b[0mval\u001b[0m \u001b[0;34m=\u001b[0m \u001b[0minput_single_float\u001b[0m\u001b[0;34m(\u001b[0m\u001b[0;34m'Enter PI '\u001b[0m\u001b[0;34m)\u001b[0m\u001b[0;34m\u001b[0m\u001b[0;34m\u001b[0m\u001b[0m\n\u001b[0m",
            "\u001b[0;32m<ipython-input-6-efd3d0d3fb4d>\u001b[0m in \u001b[0;36minput_single_float\u001b[0;34m(prompt)\u001b[0m\n\u001b[1;32m      4\u001b[0m     \"\"\"\n\u001b[1;32m      5\u001b[0m     \u001b[0muser_input\u001b[0m \u001b[0;34m=\u001b[0m \u001b[0minput\u001b[0m\u001b[0;34m(\u001b[0m\u001b[0mprompt\u001b[0m\u001b[0;34m)\u001b[0m\u001b[0;34m\u001b[0m\u001b[0;34m\u001b[0m\u001b[0m\n\u001b[0;32m----> 6\u001b[0;31m     \u001b[0moutput\u001b[0m \u001b[0;34m=\u001b[0m \u001b[0mfloat\u001b[0m\u001b[0;34m(\u001b[0m\u001b[0muser_input\u001b[0m\u001b[0;34m)\u001b[0m\u001b[0;34m\u001b[0m\u001b[0;34m\u001b[0m\u001b[0m\n\u001b[0m\u001b[1;32m      7\u001b[0m     \u001b[0;32mreturn\u001b[0m \u001b[0moutput\u001b[0m\u001b[0;34m\u001b[0m\u001b[0;34m\u001b[0m\u001b[0m\n",
            "\u001b[0;31mValueError\u001b[0m: could not convert string to float: 'three'"
          ]
        }
      ]
    },
    {
      "cell_type": "code",
      "metadata": {
        "id": "OdONGuQLPTIW"
      },
      "source": [
        "def input_single_float(prompt):\n",
        "    \"\"\"\n",
        "    This prompts user to input, and then converts this to a single float\n",
        "    \"\"\"\n",
        "    user_input = input(prompt)\n",
        "    try: \n",
        "        output = float(user_input)\n",
        "    except ValueError:\n",
        "        print(\"Input value must be a float\")\n",
        "        output = None\n",
        "    return output"
      ],
      "execution_count": null,
      "outputs": []
    },
    {
      "cell_type": "code",
      "metadata": {
        "id": "UrJOrnHWP41g",
        "colab": {
          "base_uri": "https://localhost:8080/"
        },
        "outputId": "ba5474c2-cef3-4fd1-f45a-6ce2e75ce447"
      },
      "source": [
        "val = input_single_float('Enter PI ')"
      ],
      "execution_count": null,
      "outputs": [
        {
          "output_type": "stream",
          "text": [
            "Enter PI three\n",
            "Input value must be a float\n"
          ],
          "name": "stdout"
        }
      ]
    },
    {
      "cell_type": "code",
      "metadata": {
        "id": "b5ERjMRdP66b",
        "colab": {
          "base_uri": "https://localhost:8080/"
        },
        "outputId": "7527fc8a-6982-4e7f-a5f4-b28bf22933bd"
      },
      "source": [
        "print(val, type(val))"
      ],
      "execution_count": null,
      "outputs": [
        {
          "output_type": "stream",
          "text": [
            "None <class 'NoneType'>\n"
          ],
          "name": "stdout"
        }
      ]
    },
    {
      "cell_type": "code",
      "metadata": {
        "id": "gvQoH-PdQPOt"
      },
      "source": [
        "def input_single_float_inverse(prompt):\n",
        "    \"\"\"\n",
        "    This prompts user to input, and then converts this to a single float inverse\n",
        "    \"\"\"\n",
        "    user_input = input(prompt)\n",
        "    output = None\n",
        "    try: \n",
        "        output = 1/float(user_input)\n",
        "    except ValueError:\n",
        "        print(\"Input value must be a float\")\n",
        "    except ZeroDivisionError:\n",
        "        print(\"Input value must not be zero\")\n",
        "    return output"
      ],
      "execution_count": null,
      "outputs": []
    },
    {
      "cell_type": "code",
      "metadata": {
        "id": "UHcwRqSyQfxj",
        "colab": {
          "base_uri": "https://localhost:8080/"
        },
        "outputId": "4bb82874-6216-4e0d-cbfe-51ccf9db65a7"
      },
      "source": [
        "val = input_single_float_inverse('Enter number ')\n",
        "print(val)"
      ],
      "execution_count": null,
      "outputs": [
        {
          "output_type": "stream",
          "text": [
            "Enter number 0\n",
            "Input value must not be zero\n",
            "None\n"
          ],
          "name": "stdout"
        }
      ]
    },
    {
      "cell_type": "markdown",
      "metadata": {
        "id": "6Ut0mP550rvh"
      },
      "source": [
        "# Lists"
      ]
    },
    {
      "cell_type": "code",
      "metadata": {
        "id": "2sCpl7IG0MCS"
      },
      "source": [
        "course_name = \"Foundations of Data Science\""
      ],
      "execution_count": null,
      "outputs": []
    },
    {
      "cell_type": "code",
      "metadata": {
        "id": "t22wYIzW0vvY"
      },
      "source": [
        "words = course_name.split()"
      ],
      "execution_count": null,
      "outputs": []
    },
    {
      "cell_type": "code",
      "metadata": {
        "id": "ooADbjda0yjN",
        "colab": {
          "base_uri": "https://localhost:8080/"
        },
        "outputId": "c880e9ba-5113-4160-e623-bf61a3df1ef4"
      },
      "source": [
        "print(words)"
      ],
      "execution_count": null,
      "outputs": [
        {
          "output_type": "stream",
          "text": [
            "['Foundations', 'of', 'Data', 'Science']\n"
          ],
          "name": "stdout"
        }
      ]
    },
    {
      "cell_type": "code",
      "metadata": {
        "id": "_EpvJuLJ0znb"
      },
      "source": [
        "str.split?"
      ],
      "execution_count": null,
      "outputs": []
    },
    {
      "cell_type": "code",
      "metadata": {
        "id": "sumvsLzf08H6",
        "colab": {
          "base_uri": "https://localhost:8080/"
        },
        "outputId": "ff6ab986-3228-474a-b7af-4e1439d74123"
      },
      "source": [
        "print(type(words))"
      ],
      "execution_count": null,
      "outputs": [
        {
          "output_type": "stream",
          "text": [
            "<class 'list'>\n"
          ],
          "name": "stdout"
        }
      ]
    },
    {
      "cell_type": "code",
      "metadata": {
        "id": "T0DrQ1rH1Fyq",
        "colab": {
          "base_uri": "https://localhost:8080/"
        },
        "outputId": "30223194-8351-4dc7-ccf3-66f42af613f9"
      },
      "source": [
        "print(words[2])"
      ],
      "execution_count": null,
      "outputs": [
        {
          "output_type": "stream",
          "text": [
            "Data\n"
          ],
          "name": "stdout"
        }
      ]
    },
    {
      "cell_type": "code",
      "metadata": {
        "id": "tqYdpiaK1MEF",
        "colab": {
          "base_uri": "https://localhost:8080/"
        },
        "outputId": "8c203f52-ac00-403b-800b-abcf7f8bf39d"
      },
      "source": [
        "print(type(words[-2]))"
      ],
      "execution_count": null,
      "outputs": [
        {
          "output_type": "stream",
          "text": [
            "<class 'str'>\n"
          ],
          "name": "stdout"
        }
      ]
    },
    {
      "cell_type": "code",
      "metadata": {
        "id": "T4Tmfhax1Ywi",
        "colab": {
          "base_uri": "https://localhost:8080/"
        },
        "outputId": "23e7cb87-e564-4ba5-f5e2-834ffd43dcc4"
      },
      "source": [
        "print(words[-2].lower())"
      ],
      "execution_count": null,
      "outputs": [
        {
          "output_type": "stream",
          "text": [
            "data\n"
          ],
          "name": "stdout"
        }
      ]
    },
    {
      "cell_type": "code",
      "metadata": {
        "id": "x6hTL0KR1fMc",
        "colab": {
          "base_uri": "https://localhost:8080/"
        },
        "outputId": "b92ddf85-b790-4c7f-b021-6533d7059ff2"
      },
      "source": [
        "print(words[0:2])"
      ],
      "execution_count": null,
      "outputs": [
        {
          "output_type": "stream",
          "text": [
            "['Foundations', 'of']\n"
          ],
          "name": "stdout"
        }
      ]
    },
    {
      "cell_type": "code",
      "metadata": {
        "id": "ObnsuU-I1qN8",
        "colab": {
          "base_uri": "https://localhost:8080/"
        },
        "outputId": "7ad7ba5d-11fa-4c2a-c912-d9e842a40213"
      },
      "source": [
        "print(words[:2])"
      ],
      "execution_count": null,
      "outputs": [
        {
          "output_type": "stream",
          "text": [
            "['Foundations', 'of']\n"
          ],
          "name": "stdout"
        }
      ]
    },
    {
      "cell_type": "code",
      "metadata": {
        "id": "TwYJRQ2K10SO",
        "colab": {
          "base_uri": "https://localhost:8080/"
        },
        "outputId": "c814dcdf-78ec-41bd-8547-b3355825fc6e"
      },
      "source": [
        "print(type(words[1:]))"
      ],
      "execution_count": null,
      "outputs": [
        {
          "output_type": "stream",
          "text": [
            "<class 'list'>\n"
          ],
          "name": "stdout"
        }
      ]
    },
    {
      "cell_type": "code",
      "metadata": {
        "id": "wkKVVYK2130R"
      },
      "source": [
        "new_words = [\"Machine\", \"Learning\"]"
      ],
      "execution_count": null,
      "outputs": []
    },
    {
      "cell_type": "code",
      "metadata": {
        "id": "A6dHEz1v2BwZ",
        "colab": {
          "base_uri": "https://localhost:8080/"
        },
        "outputId": "b83af524-c56f-4363-9c98-442fd8b7fb7d"
      },
      "source": [
        "print(type(new_words))"
      ],
      "execution_count": null,
      "outputs": [
        {
          "output_type": "stream",
          "text": [
            "<class 'list'>\n"
          ],
          "name": "stdout"
        }
      ]
    },
    {
      "cell_type": "code",
      "metadata": {
        "id": "U6W2YM7O2DDd",
        "colab": {
          "base_uri": "https://localhost:8080/"
        },
        "outputId": "c13669db-16b7-43e8-87a4-f985bb7c9fe1"
      },
      "source": [
        "print(new_words[0])"
      ],
      "execution_count": null,
      "outputs": [
        {
          "output_type": "stream",
          "text": [
            "Machine\n"
          ],
          "name": "stdout"
        }
      ]
    },
    {
      "cell_type": "code",
      "metadata": {
        "id": "CLPct_dn2FjV"
      },
      "source": [
        "fibonacci_list = [1, 1, 2, 3, 5, 8, 13, 21]"
      ],
      "execution_count": null,
      "outputs": []
    },
    {
      "cell_type": "code",
      "metadata": {
        "id": "EINXgpEX2K2l",
        "colab": {
          "base_uri": "https://localhost:8080/"
        },
        "outputId": "8e44f707-e764-4151-dbf1-2547593c607b"
      },
      "source": [
        "print(type(fibonacci_list[0]))"
      ],
      "execution_count": null,
      "outputs": [
        {
          "output_type": "stream",
          "text": [
            "<class 'int'>\n"
          ],
          "name": "stdout"
        }
      ]
    },
    {
      "cell_type": "code",
      "metadata": {
        "id": "FureZr8r2MQR",
        "colab": {
          "base_uri": "https://localhost:8080/"
        },
        "outputId": "6942954c-8c07-4765-acd9-d5ee0b76582e"
      },
      "source": [
        "print(fibonacci_list[0] + 10)"
      ],
      "execution_count": null,
      "outputs": [
        {
          "output_type": "stream",
          "text": [
            "11\n"
          ],
          "name": "stdout"
        }
      ]
    },
    {
      "cell_type": "code",
      "metadata": {
        "id": "wHCWmqiU2RYh",
        "colab": {
          "base_uri": "https://localhost:8080/"
        },
        "outputId": "5a8609cd-d422-4a60-bf1c-407d823e1f20"
      },
      "source": [
        "for num in fibonacci_list:\n",
        "    print(num + 10)"
      ],
      "execution_count": null,
      "outputs": [
        {
          "output_type": "stream",
          "text": [
            "11\n",
            "11\n",
            "12\n",
            "13\n",
            "15\n",
            "18\n",
            "23\n",
            "31\n"
          ],
          "name": "stdout"
        }
      ]
    },
    {
      "cell_type": "code",
      "metadata": {
        "id": "OmGFOHv52c-Q",
        "colab": {
          "base_uri": "https://localhost:8080/"
        },
        "outputId": "58d1d64b-a954-417c-f077-9cc682b055c2"
      },
      "source": [
        "length = len(fibonacci_list)\n",
        "print(length)"
      ],
      "execution_count": null,
      "outputs": [
        {
          "output_type": "stream",
          "text": [
            "8\n"
          ],
          "name": "stdout"
        }
      ]
    },
    {
      "cell_type": "code",
      "metadata": {
        "id": "R7wnHSMH2sPE",
        "colab": {
          "base_uri": "https://localhost:8080/"
        },
        "outputId": "0998cbfd-0385-4061-d018-6870da7d8a0e"
      },
      "source": [
        "for i in range(length):\n",
        "    print(i, fibonacci_list[i])"
      ],
      "execution_count": null,
      "outputs": [
        {
          "output_type": "stream",
          "text": [
            "0 1\n",
            "1 1\n",
            "2 2\n",
            "3 3\n",
            "4 5\n",
            "5 8\n",
            "6 13\n",
            "7 21\n"
          ],
          "name": "stdout"
        }
      ]
    },
    {
      "cell_type": "code",
      "metadata": {
        "id": "MjWqDjLF2xk_"
      },
      "source": [
        "bmi_record = [\"Krishna\", 75, 1.73, False]"
      ],
      "execution_count": null,
      "outputs": []
    },
    {
      "cell_type": "code",
      "metadata": {
        "id": "nNLZS8m43HjW",
        "colab": {
          "base_uri": "https://localhost:8080/"
        },
        "outputId": "d456f380-d41e-4981-fe14-eedeb3cf89ad"
      },
      "source": [
        "print(type(bmi_record))"
      ],
      "execution_count": null,
      "outputs": [
        {
          "output_type": "stream",
          "text": [
            "<class 'list'>\n"
          ],
          "name": "stdout"
        }
      ]
    },
    {
      "cell_type": "code",
      "metadata": {
        "id": "xgTlXkEf3JUL",
        "colab": {
          "base_uri": "https://localhost:8080/"
        },
        "outputId": "4ea38200-ef69-4a2e-bec3-7e7dc8575ab8"
      },
      "source": [
        "for item in bmi_record:\n",
        "    print(item, type(item))"
      ],
      "execution_count": null,
      "outputs": [
        {
          "output_type": "stream",
          "text": [
            "Krishna <class 'str'>\n",
            "75 <class 'int'>\n",
            "1.73 <class 'float'>\n",
            "False <class 'bool'>\n"
          ],
          "name": "stdout"
        }
      ]
    },
    {
      "cell_type": "code",
      "metadata": {
        "id": "5zQYms0i3OWy"
      },
      "source": [
        "bmi_record[0] = \"Krishna A\""
      ],
      "execution_count": null,
      "outputs": []
    },
    {
      "cell_type": "code",
      "metadata": {
        "id": "TUwm9fjg3Whh"
      },
      "source": [
        "bmi_record.append(\"krishnaa@idontknow.com\")"
      ],
      "execution_count": null,
      "outputs": []
    },
    {
      "cell_type": "code",
      "metadata": {
        "id": "8ZmQL12t3fiK",
        "colab": {
          "base_uri": "https://localhost:8080/"
        },
        "outputId": "4b66d895-527e-4f56-bfdd-08eceb714c03"
      },
      "source": [
        "for item in bmi_record:\n",
        "    print(item, type(item))"
      ],
      "execution_count": null,
      "outputs": [
        {
          "output_type": "stream",
          "text": [
            "Krishna A <class 'str'>\n",
            "75 <class 'int'>\n",
            "1.73 <class 'float'>\n",
            "False <class 'bool'>\n",
            "krishnaa@idontknow.com <class 'str'>\n"
          ],
          "name": "stdout"
        }
      ]
    },
    {
      "cell_type": "markdown",
      "metadata": {
        "id": "-ziDAeaFJQRR"
      },
      "source": [
        "# Lists - continued"
      ]
    },
    {
      "cell_type": "code",
      "metadata": {
        "id": "EQkc3mMy3hD-"
      },
      "source": [
        "bmi_dataset = [\n",
        "               [\"Krishna\", 75, 1.73, False],\n",
        "               [\"Bheem\", 120, 1.78, True]\n",
        "]"
      ],
      "execution_count": null,
      "outputs": []
    },
    {
      "cell_type": "code",
      "metadata": {
        "id": "xEvdr535Jg3d",
        "colab": {
          "base_uri": "https://localhost:8080/"
        },
        "outputId": "b0d5cda4-8f80-4845-fea4-e022ae4fd309"
      },
      "source": [
        "print(type(bmi_dataset[1]))"
      ],
      "execution_count": null,
      "outputs": [
        {
          "output_type": "stream",
          "text": [
            "<class 'list'>\n"
          ],
          "name": "stdout"
        }
      ]
    },
    {
      "cell_type": "code",
      "metadata": {
        "id": "r3NEcEflJjuA",
        "colab": {
          "base_uri": "https://localhost:8080/"
        },
        "outputId": "769a8ce1-4ebe-45f1-a7a2-6b40d4089e6d"
      },
      "source": [
        "print(bmi_dataset[0])"
      ],
      "execution_count": null,
      "outputs": [
        {
          "output_type": "stream",
          "text": [
            "['Krishna', 75, 1.73, False]\n"
          ],
          "name": "stdout"
        }
      ]
    },
    {
      "cell_type": "code",
      "metadata": {
        "id": "GSkr_XjBJtrP",
        "colab": {
          "base_uri": "https://localhost:8080/"
        },
        "outputId": "4f60a330-9060-47a6-83a9-b82bf22878c1"
      },
      "source": [
        "print(type(bmi_dataset[0][0]))"
      ],
      "execution_count": null,
      "outputs": [
        {
          "output_type": "stream",
          "text": [
            "<class 'str'>\n"
          ],
          "name": "stdout"
        }
      ]
    },
    {
      "cell_type": "code",
      "metadata": {
        "id": "yREJjR6WJ2r3",
        "colab": {
          "base_uri": "https://localhost:8080/"
        },
        "outputId": "ae93ae37-1fef-4ef1-fc61-a14a007bdf97"
      },
      "source": [
        "print(bmi_dataset[1][2])"
      ],
      "execution_count": null,
      "outputs": [
        {
          "output_type": "stream",
          "text": [
            "1.78\n"
          ],
          "name": "stdout"
        }
      ]
    },
    {
      "cell_type": "code",
      "metadata": {
        "id": "4Vokqa0FJ89l"
      },
      "source": [
        "bmi_dataset[1].append(\"bheem@foodtruck.com\")"
      ],
      "execution_count": null,
      "outputs": []
    },
    {
      "cell_type": "code",
      "metadata": {
        "id": "Rzgndf4aKO8p",
        "colab": {
          "base_uri": "https://localhost:8080/"
        },
        "outputId": "6a79ad51-272b-4d4b-9d84-6974267e982e"
      },
      "source": [
        "print(bmi_dataset)"
      ],
      "execution_count": null,
      "outputs": [
        {
          "output_type": "stream",
          "text": [
            "[['Krishna', 75, 1.73, False], ['Bheem', 120, 1.78, True, 'bheem@foodtruck.com']]\n"
          ],
          "name": "stdout"
        }
      ]
    },
    {
      "cell_type": "code",
      "metadata": {
        "id": "Lkz3Es5QKQf3"
      },
      "source": [
        "bmi_dataset[1][1] = 125"
      ],
      "execution_count": null,
      "outputs": []
    },
    {
      "cell_type": "code",
      "metadata": {
        "id": "aBBMxzV7KZ_1"
      },
      "source": [
        "identity_3 = [\n",
        "              [1, 0, 0],\n",
        "              [0, 1, 0],\n",
        "              [0, 0, 1]\n",
        "]"
      ],
      "execution_count": null,
      "outputs": []
    },
    {
      "cell_type": "code",
      "metadata": {
        "id": "7NTzmXOwKqp8",
        "colab": {
          "base_uri": "https://localhost:8080/"
        },
        "outputId": "d2778f14-6c4a-4ce5-8d94-332492cafb3c"
      },
      "source": [
        "print(identity_3[2][2])"
      ],
      "execution_count": null,
      "outputs": [
        {
          "output_type": "stream",
          "text": [
            "1\n"
          ],
          "name": "stdout"
        }
      ]
    },
    {
      "cell_type": "code",
      "metadata": {
        "id": "eutbtw4XKsd0"
      },
      "source": [
        "A = [1, 2]"
      ],
      "execution_count": null,
      "outputs": []
    },
    {
      "cell_type": "code",
      "metadata": {
        "id": "prDRE12VK6Wt"
      },
      "source": [
        "B = A"
      ],
      "execution_count": null,
      "outputs": []
    },
    {
      "cell_type": "code",
      "metadata": {
        "id": "ARmetUuiK7hZ",
        "colab": {
          "base_uri": "https://localhost:8080/"
        },
        "outputId": "955af45c-3c0a-4db3-f9ee-4a58eabb6589"
      },
      "source": [
        "print(B)"
      ],
      "execution_count": null,
      "outputs": [
        {
          "output_type": "stream",
          "text": [
            "[1, 2]\n"
          ],
          "name": "stdout"
        }
      ]
    },
    {
      "cell_type": "code",
      "metadata": {
        "id": "C8N0K8KlK9M8"
      },
      "source": [
        "A[0] = A[0] + A[1]"
      ],
      "execution_count": null,
      "outputs": []
    },
    {
      "cell_type": "code",
      "metadata": {
        "id": "kJt33znALCpE",
        "colab": {
          "base_uri": "https://localhost:8080/"
        },
        "outputId": "cb0db3c7-d4c0-49ce-c19b-4ca3c672756c"
      },
      "source": [
        "print(A)"
      ],
      "execution_count": null,
      "outputs": [
        {
          "output_type": "stream",
          "text": [
            "[3, 2]\n"
          ],
          "name": "stdout"
        }
      ]
    },
    {
      "cell_type": "code",
      "metadata": {
        "id": "l_O2qJtwLDZq",
        "colab": {
          "base_uri": "https://localhost:8080/"
        },
        "outputId": "24d376e8-7297-42c0-8521-0c83a012a985"
      },
      "source": [
        "print(B)"
      ],
      "execution_count": null,
      "outputs": [
        {
          "output_type": "stream",
          "text": [
            "[3, 2]\n"
          ],
          "name": "stdout"
        }
      ]
    },
    {
      "cell_type": "code",
      "metadata": {
        "id": "Ngunj3jtLEv0"
      },
      "source": [
        "A = [1, 2]"
      ],
      "execution_count": null,
      "outputs": []
    },
    {
      "cell_type": "code",
      "metadata": {
        "id": "mROzmMJgLXrn"
      },
      "source": [
        "B = [item for item in A]"
      ],
      "execution_count": null,
      "outputs": []
    },
    {
      "cell_type": "code",
      "metadata": {
        "id": "6NlLnK1XLiyu",
        "colab": {
          "base_uri": "https://localhost:8080/"
        },
        "outputId": "fb68c5c8-0a69-4433-d012-f8821888a3b6"
      },
      "source": [
        "print(B)"
      ],
      "execution_count": null,
      "outputs": [
        {
          "output_type": "stream",
          "text": [
            "[1, 2]\n"
          ],
          "name": "stdout"
        }
      ]
    },
    {
      "cell_type": "code",
      "metadata": {
        "id": "PbZtWubDLjgK"
      },
      "source": [
        "A[0] = A[0] + A[1]"
      ],
      "execution_count": null,
      "outputs": []
    },
    {
      "cell_type": "code",
      "metadata": {
        "id": "o_fIxWZ4Lk_w",
        "colab": {
          "base_uri": "https://localhost:8080/"
        },
        "outputId": "0f339617-55e3-4b0d-859d-66d8ad3ca002"
      },
      "source": [
        "print(A)"
      ],
      "execution_count": null,
      "outputs": [
        {
          "output_type": "stream",
          "text": [
            "[3, 2]\n"
          ],
          "name": "stdout"
        }
      ]
    },
    {
      "cell_type": "code",
      "metadata": {
        "id": "QrKvnxdtLlls",
        "colab": {
          "base_uri": "https://localhost:8080/"
        },
        "outputId": "531d9a67-77fd-4a49-b7a2-76d9a71c87c9"
      },
      "source": [
        "print(B)"
      ],
      "execution_count": null,
      "outputs": [
        {
          "output_type": "stream",
          "text": [
            "[1, 2]\n"
          ],
          "name": "stdout"
        }
      ]
    },
    {
      "cell_type": "markdown",
      "metadata": {
        "id": "cmJis39bLvNn"
      },
      "source": [
        "# Exercise for Lists\n",
        "\n",
        "Given the following square matrix $A$\n",
        "$$A =  \\begin{pmatrix} 1 & 1 \\\\ 1 & 0  \\end{pmatrix}$$\n",
        "compute the matrix $A^n$ obtained by multiplying $A$ to itself $n$ times.\n",
        " \n",
        "Can you comment on the left-top value in $A^n$ (what does this remind you of?)"
      ]
    },
    {
      "cell_type": "code",
      "metadata": {
        "id": "yfKUGqMNLmcn"
      },
      "source": [
        "def square_matrix_power(A, n):\n",
        "    output = A\n",
        "    temp = A\n",
        "    for i in range(n - 1):\n",
        "        # output = A * output\n",
        "        # -> output = A * temp\n",
        "        #    temp = output\n",
        "        output[0][0] = A[0][0] * temp[0][0] + A[0][1] * temp[1][0]\n",
        "        output[0][1] = A[0][0] * temp[0][1] + A[0][1] * temp[1][1]\n",
        "        output[1][0] = A[1][0] * temp[0][0] + A[1][1] * temp[1][0]\n",
        "        output[1][1] = A[1][0] * temp[0][1] + A[1][1] * temp[1][1]\n",
        "        temp = output\n",
        "    return output"
      ],
      "execution_count": null,
      "outputs": []
    },
    {
      "cell_type": "code",
      "metadata": {
        "id": "1gCv_QnCNoEv"
      },
      "source": [
        "A = [\n",
        "     [1, 1], \n",
        "     [1, 0]\n",
        "]"
      ],
      "execution_count": null,
      "outputs": []
    },
    {
      "cell_type": "code",
      "metadata": {
        "id": "1WSp8kFJNrMG",
        "colab": {
          "base_uri": "https://localhost:8080/"
        },
        "outputId": "4d4d71bc-740e-4e55-b986-564a88f7a25c"
      },
      "source": [
        "print(square_matrix_power(A, 2))"
      ],
      "execution_count": null,
      "outputs": [
        {
          "output_type": "stream",
          "text": [
            "[[2, 2], [2, 4]]\n"
          ],
          "name": "stdout"
        }
      ]
    },
    {
      "cell_type": "code",
      "metadata": {
        "id": "DF4JZ9NbOXai"
      },
      "source": [
        "def square_matrix_power(A, n):\n",
        "    output = [item[:] for item in A]\n",
        "    temp = [item[:] for item in A]\n",
        "    for i in range(n - 1):\n",
        "        # output = A * output\n",
        "        # -> output = A * temp\n",
        "        #    temp = output\n",
        "        output[0][0] = A[0][0] * temp[0][0] + A[0][1] * temp[1][0]\n",
        "        output[0][1] = A[0][0] * temp[0][1] + A[0][1] * temp[1][1]\n",
        "        output[1][0] = A[1][0] * temp[0][0] + A[1][1] * temp[1][0]\n",
        "        output[1][1] = A[1][0] * temp[0][1] + A[1][1] * temp[1][1]\n",
        "        temp = [item[:] for item in output]\n",
        "    return output"
      ],
      "execution_count": null,
      "outputs": []
    },
    {
      "cell_type": "code",
      "metadata": {
        "id": "AY5Tj-w0PMLQ"
      },
      "source": [
        "A = [\n",
        "     [1, 1], \n",
        "     [1, 0]\n",
        "]"
      ],
      "execution_count": null,
      "outputs": []
    },
    {
      "cell_type": "code",
      "metadata": {
        "id": "IUJhgUDbPGuR",
        "colab": {
          "base_uri": "https://localhost:8080/"
        },
        "outputId": "9f4e83a5-35c3-4701-f89a-1f7e4c8579bc"
      },
      "source": [
        "print(square_matrix_power(A, 2))"
      ],
      "execution_count": null,
      "outputs": [
        {
          "output_type": "stream",
          "text": [
            "[[2, 1], [1, 1]]\n"
          ],
          "name": "stdout"
        }
      ]
    },
    {
      "cell_type": "code",
      "metadata": {
        "id": "2PLmw7oOPKDc",
        "colab": {
          "base_uri": "https://localhost:8080/"
        },
        "outputId": "d9d069ac-a91a-4a7f-8d71-6ceef308c13d"
      },
      "source": [
        "for n in range(10):\n",
        "    output = square_matrix_power(A, n)\n",
        "    print(n, output[0][0])"
      ],
      "execution_count": null,
      "outputs": [
        {
          "output_type": "stream",
          "text": [
            "0 1\n",
            "1 1\n",
            "2 2\n",
            "3 3\n",
            "4 5\n",
            "5 8\n",
            "6 13\n",
            "7 21\n",
            "8 34\n",
            "9 55\n"
          ],
          "name": "stdout"
        }
      ]
    },
    {
      "cell_type": "markdown",
      "metadata": {
        "id": "V4bsIvOxSRJE"
      },
      "source": [
        "# Tuples and Sets"
      ]
    },
    {
      "cell_type": "code",
      "metadata": {
        "id": "_DJblfyJPhY1"
      },
      "source": [
        "bmi_categories = (\"Underweight\", \"Normal\", \"Overweight\", \"Very overweight\")"
      ],
      "execution_count": null,
      "outputs": []
    },
    {
      "cell_type": "code",
      "metadata": {
        "id": "8CXBKymkSktX",
        "colab": {
          "base_uri": "https://localhost:8080/"
        },
        "outputId": "7ab7b7ad-9dd6-445e-ef23-de9fdf78cfa7"
      },
      "source": [
        "print(type(bmi_categories))"
      ],
      "execution_count": null,
      "outputs": [
        {
          "output_type": "stream",
          "text": [
            "<class 'tuple'>\n"
          ],
          "name": "stdout"
        }
      ]
    },
    {
      "cell_type": "code",
      "metadata": {
        "id": "PSZ4cleeSnNq",
        "colab": {
          "base_uri": "https://localhost:8080/"
        },
        "outputId": "45f2e807-7149-4bd6-ed7a-4aed632213be"
      },
      "source": [
        "print(bmi_categories[-1])"
      ],
      "execution_count": null,
      "outputs": [
        {
          "output_type": "stream",
          "text": [
            "Very overweight\n"
          ],
          "name": "stdout"
        }
      ]
    },
    {
      "cell_type": "code",
      "metadata": {
        "id": "Atj3VM1RSs_Z",
        "colab": {
          "base_uri": "https://localhost:8080/"
        },
        "outputId": "6e3010d8-3c83-4252-9cbc-4b3a2e8d128e"
      },
      "source": [
        "print(bmi_categories[0:2])"
      ],
      "execution_count": null,
      "outputs": [
        {
          "output_type": "stream",
          "text": [
            "('Underweight', 'Normal')\n"
          ],
          "name": "stdout"
        }
      ]
    },
    {
      "cell_type": "code",
      "metadata": {
        "id": "KhqmARH5S3p4",
        "colab": {
          "base_uri": "https://localhost:8080/"
        },
        "outputId": "a2ab0708-6f88-4c3e-f38d-d950741d9c62"
      },
      "source": [
        "bmi_categories.index(\"Normal\")"
      ],
      "execution_count": null,
      "outputs": [
        {
          "output_type": "execute_result",
          "data": {
            "text/plain": [
              "1"
            ]
          },
          "metadata": {
            "tags": []
          },
          "execution_count": 73
        }
      ]
    },
    {
      "cell_type": "code",
      "metadata": {
        "id": "ThQzsWyRTEvp",
        "colab": {
          "base_uri": "https://localhost:8080/",
          "height": 167
        },
        "outputId": "2ebe78df-59fa-4ac5-db46-8851414adea6"
      },
      "source": [
        "bmi_categories.index(\"Very underweight\")"
      ],
      "execution_count": null,
      "outputs": [
        {
          "output_type": "error",
          "ename": "ValueError",
          "evalue": "ignored",
          "traceback": [
            "\u001b[0;31m---------------------------------------------------------------------------\u001b[0m",
            "\u001b[0;31mValueError\u001b[0m                                Traceback (most recent call last)",
            "\u001b[0;32m<ipython-input-74-e8511bb3003f>\u001b[0m in \u001b[0;36m<module>\u001b[0;34m()\u001b[0m\n\u001b[0;32m----> 1\u001b[0;31m \u001b[0mbmi_categories\u001b[0m\u001b[0;34m.\u001b[0m\u001b[0mindex\u001b[0m\u001b[0;34m(\u001b[0m\u001b[0;34m\"Very underweight\"\u001b[0m\u001b[0;34m)\u001b[0m\u001b[0;34m\u001b[0m\u001b[0;34m\u001b[0m\u001b[0m\n\u001b[0m",
            "\u001b[0;31mValueError\u001b[0m: tuple.index(x): x not in tuple"
          ]
        }
      ]
    },
    {
      "cell_type": "code",
      "metadata": {
        "id": "VXt7mx4ATMgp",
        "colab": {
          "base_uri": "https://localhost:8080/"
        },
        "outputId": "716fed60-e49d-45c1-8c7f-7dcdb3127707"
      },
      "source": [
        "print(\"Underweight\" in bmi_categories)"
      ],
      "execution_count": null,
      "outputs": [
        {
          "output_type": "stream",
          "text": [
            "True\n"
          ],
          "name": "stdout"
        }
      ]
    },
    {
      "cell_type": "code",
      "metadata": {
        "id": "ku1Ohc4RTVAe",
        "colab": {
          "base_uri": "https://localhost:8080/",
          "height": 167
        },
        "outputId": "14d4cc92-193b-41ca-b3cf-c4e88e1d7596"
      },
      "source": [
        "bmi_categories[3] = \"VERY overweight\""
      ],
      "execution_count": null,
      "outputs": [
        {
          "output_type": "error",
          "ename": "TypeError",
          "evalue": "ignored",
          "traceback": [
            "\u001b[0;31m---------------------------------------------------------------------------\u001b[0m",
            "\u001b[0;31mTypeError\u001b[0m                                 Traceback (most recent call last)",
            "\u001b[0;32m<ipython-input-76-d2ac44599195>\u001b[0m in \u001b[0;36m<module>\u001b[0;34m()\u001b[0m\n\u001b[0;32m----> 1\u001b[0;31m \u001b[0mbmi_categories\u001b[0m\u001b[0;34m[\u001b[0m\u001b[0;36m3\u001b[0m\u001b[0;34m]\u001b[0m \u001b[0;34m=\u001b[0m \u001b[0;34m\"VERY overweight\"\u001b[0m\u001b[0;34m\u001b[0m\u001b[0;34m\u001b[0m\u001b[0m\n\u001b[0m",
            "\u001b[0;31mTypeError\u001b[0m: 'tuple' object does not support item assignment"
          ]
        }
      ]
    },
    {
      "cell_type": "code",
      "metadata": {
        "id": "EGiN0aGOTiTW",
        "colab": {
          "base_uri": "https://localhost:8080/"
        },
        "outputId": "193eb489-0826-4ec1-e312-e48ea5f58841"
      },
      "source": [
        "%%timeit -n1 -r10\n",
        "for i in range(1000000):\n",
        "    my_list = [\"Tuples\", \"are\", \"faster\", \"than\", \"lists\"]"
      ],
      "execution_count": null,
      "outputs": [
        {
          "output_type": "stream",
          "text": [
            "1 loop, best of 10: 65.9 ms per loop\n"
          ],
          "name": "stdout"
        }
      ]
    },
    {
      "cell_type": "code",
      "metadata": {
        "id": "UvYyyEkAUc1M"
      },
      "source": [
        "%%timeit?"
      ],
      "execution_count": null,
      "outputs": []
    },
    {
      "cell_type": "code",
      "metadata": {
        "id": "i23Msh0bUiAM",
        "colab": {
          "base_uri": "https://localhost:8080/"
        },
        "outputId": "f932fb9f-522b-490b-cc5e-1ee702dd9a39"
      },
      "source": [
        "%%timeit -n1 -r10\n",
        "for i in range(1000000):\n",
        "    my_tuple = (\"Tuples\", \"are\", \"faster\", \"than\", \"lists\")"
      ],
      "execution_count": null,
      "outputs": [
        {
          "output_type": "stream",
          "text": [
            "1 loop, best of 10: 25.5 ms per loop\n"
          ],
          "name": "stdout"
        }
      ]
    },
    {
      "cell_type": "code",
      "metadata": {
        "id": "kv9wQVEWUtZ1"
      },
      "source": [
        "batsmen = {\"Rohit\", \"Virat\", \"Ravindra\", \"Rahul\"}"
      ],
      "execution_count": null,
      "outputs": []
    },
    {
      "cell_type": "code",
      "metadata": {
        "id": "Bca5ZURIVLOi",
        "colab": {
          "base_uri": "https://localhost:8080/"
        },
        "outputId": "54506a7e-8cbe-40b8-980a-2d653b060391"
      },
      "source": [
        "print(type(batsmen))"
      ],
      "execution_count": null,
      "outputs": [
        {
          "output_type": "stream",
          "text": [
            "<class 'set'>\n"
          ],
          "name": "stdout"
        }
      ]
    },
    {
      "cell_type": "code",
      "metadata": {
        "id": "gbdMW5UGVNfX",
        "colab": {
          "base_uri": "https://localhost:8080/"
        },
        "outputId": "97d06c79-2387-4e37-ee24-dd18156770c0"
      },
      "source": [
        "print(\"Rohit\" in batsmen)"
      ],
      "execution_count": null,
      "outputs": [
        {
          "output_type": "stream",
          "text": [
            "True\n"
          ],
          "name": "stdout"
        }
      ]
    },
    {
      "cell_type": "code",
      "metadata": {
        "id": "gX-GPXBvVSV8",
        "colab": {
          "base_uri": "https://localhost:8080/",
          "height": 167
        },
        "outputId": "d0431df1-48c8-4e97-81ed-87e12aeeaf66"
      },
      "source": [
        "batsmen.index(\"Rohit\")"
      ],
      "execution_count": null,
      "outputs": [
        {
          "output_type": "error",
          "ename": "AttributeError",
          "evalue": "ignored",
          "traceback": [
            "\u001b[0;31m---------------------------------------------------------------------------\u001b[0m",
            "\u001b[0;31mAttributeError\u001b[0m                            Traceback (most recent call last)",
            "\u001b[0;32m<ipython-input-83-90ac87f4e015>\u001b[0m in \u001b[0;36m<module>\u001b[0;34m()\u001b[0m\n\u001b[0;32m----> 1\u001b[0;31m \u001b[0mbatsmen\u001b[0m\u001b[0;34m.\u001b[0m\u001b[0mindex\u001b[0m\u001b[0;34m(\u001b[0m\u001b[0;34m\"Rohit\"\u001b[0m\u001b[0;34m)\u001b[0m\u001b[0;34m\u001b[0m\u001b[0;34m\u001b[0m\u001b[0m\n\u001b[0m",
            "\u001b[0;31mAttributeError\u001b[0m: 'set' object has no attribute 'index'"
          ]
        }
      ]
    },
    {
      "cell_type": "code",
      "metadata": {
        "id": "iPRzKwxpVZe7"
      },
      "source": [
        "bowlers = {\"Ishant\", \"Bumrah\", \"Ravindra\"}"
      ],
      "execution_count": null,
      "outputs": []
    },
    {
      "cell_type": "code",
      "metadata": {
        "id": "kDGi71-JVjXg",
        "colab": {
          "base_uri": "https://localhost:8080/"
        },
        "outputId": "9b85d615-e91d-4fa8-ec88-0c5a37b8c35d"
      },
      "source": [
        "print(type(bowlers))"
      ],
      "execution_count": null,
      "outputs": [
        {
          "output_type": "stream",
          "text": [
            "<class 'set'>\n"
          ],
          "name": "stdout"
        }
      ]
    },
    {
      "cell_type": "code",
      "metadata": {
        "id": "JFz_RE7LVknF"
      },
      "source": [
        "all_rounders = batsmen.intersection(bowlers)"
      ],
      "execution_count": null,
      "outputs": []
    },
    {
      "cell_type": "code",
      "metadata": {
        "id": "WsEVdemzVoQL",
        "colab": {
          "base_uri": "https://localhost:8080/"
        },
        "outputId": "587ed4b0-f0fd-497c-f041-0aec6c2bad34"
      },
      "source": [
        "print(type(all_rounders))"
      ],
      "execution_count": null,
      "outputs": [
        {
          "output_type": "stream",
          "text": [
            "<class 'set'>\n"
          ],
          "name": "stdout"
        }
      ]
    },
    {
      "cell_type": "code",
      "metadata": {
        "id": "kplrKHlVVpzW",
        "colab": {
          "base_uri": "https://localhost:8080/"
        },
        "outputId": "2cc236f5-6cc0-4b75-be08-83d970bccc4e"
      },
      "source": [
        "print(all_rounders)"
      ],
      "execution_count": null,
      "outputs": [
        {
          "output_type": "stream",
          "text": [
            "{'Ravindra'}\n"
          ],
          "name": "stdout"
        }
      ]
    },
    {
      "cell_type": "code",
      "metadata": {
        "id": "ADkWKfC1Vrip"
      },
      "source": [
        "players = batsmen.union(bowlers)"
      ],
      "execution_count": null,
      "outputs": []
    },
    {
      "cell_type": "code",
      "metadata": {
        "id": "MSwKk3G2V2UJ",
        "colab": {
          "base_uri": "https://localhost:8080/"
        },
        "outputId": "ed6dc891-6807-4188-e78e-f588ce985046"
      },
      "source": [
        "print(type(players))"
      ],
      "execution_count": null,
      "outputs": [
        {
          "output_type": "stream",
          "text": [
            "<class 'set'>\n"
          ],
          "name": "stdout"
        }
      ]
    },
    {
      "cell_type": "code",
      "metadata": {
        "id": "YxaOIZETV3Y5",
        "colab": {
          "base_uri": "https://localhost:8080/"
        },
        "outputId": "41ccb664-7e5c-496a-e444-7ff111fa1d03"
      },
      "source": [
        "print(players)"
      ],
      "execution_count": null,
      "outputs": [
        {
          "output_type": "stream",
          "text": [
            "{'Virat', 'Rohit', 'Ravindra', 'Ishant', 'Rahul', 'Bumrah'}\n"
          ],
          "name": "stdout"
        }
      ]
    },
    {
      "cell_type": "code",
      "metadata": {
        "id": "25ZGq6hLV4T4"
      },
      "source": [
        "bowlers = {\"Ishant\", \"Bumrah\", \"Ravindra\", \"Bumrah\"}"
      ],
      "execution_count": null,
      "outputs": []
    },
    {
      "cell_type": "code",
      "metadata": {
        "id": "3f4SpXn_V-YI",
        "colab": {
          "base_uri": "https://localhost:8080/"
        },
        "outputId": "684c7d63-4a3e-48ac-c55a-1c60a7141f9e"
      },
      "source": [
        "print(bowlers)"
      ],
      "execution_count": null,
      "outputs": [
        {
          "output_type": "stream",
          "text": [
            "{'Ravindra', 'Ishant', 'Bumrah'}\n"
          ],
          "name": "stdout"
        }
      ]
    },
    {
      "cell_type": "code",
      "metadata": {
        "id": "dIDmR9x7V_vC",
        "colab": {
          "base_uri": "https://localhost:8080/"
        },
        "outputId": "d48adac9-4d24-4940-86cb-63063aff3688"
      },
      "source": [
        "%%timeit -n1 -r10\n",
        "my_list = list(range(10000))\n",
        "for i in range(10000):\n",
        "    b = 1947 in my_list"
      ],
      "execution_count": null,
      "outputs": [
        {
          "output_type": "stream",
          "text": [
            "1 loop, best of 10: 208 ms per loop\n"
          ],
          "name": "stdout"
        }
      ]
    },
    {
      "cell_type": "code",
      "metadata": {
        "id": "Li-V91Y1WkEf",
        "colab": {
          "base_uri": "https://localhost:8080/"
        },
        "outputId": "a40b62b3-b4a8-4b90-fed3-5078ed54c63d"
      },
      "source": [
        "%%timeit -n1 -r10\n",
        "my_tuple = tuple(range(10000))\n",
        "for i in range(10000):\n",
        "    b = 1947 in my_tuple"
      ],
      "execution_count": null,
      "outputs": [
        {
          "output_type": "stream",
          "text": [
            "1 loop, best of 10: 213 ms per loop\n"
          ],
          "name": "stdout"
        }
      ]
    },
    {
      "cell_type": "code",
      "metadata": {
        "id": "0Co9MdoAWpHI",
        "colab": {
          "base_uri": "https://localhost:8080/"
        },
        "outputId": "ff1a10e4-a56f-423b-80d6-cb9c58f2db18"
      },
      "source": [
        "%%timeit -n1 -r10\n",
        "my_set = set(range(10000))\n",
        "for i in range(10000):\n",
        "    b = 1947 in my_set"
      ],
      "execution_count": null,
      "outputs": [
        {
          "output_type": "stream",
          "text": [
            "The slowest run took 4.43 times longer than the fastest. This could mean that an intermediate result is being cached.\n",
            "1 loop, best of 10: 810 µs per loop\n"
          ],
          "name": "stdout"
        }
      ]
    },
    {
      "cell_type": "markdown",
      "metadata": {
        "id": "sTDgFpQCa9xa"
      },
      "source": [
        "# Dictionary"
      ]
    },
    {
      "cell_type": "code",
      "metadata": {
        "id": "ufnuvOHzaunz"
      },
      "source": [
        "bmi_dataset = [\n",
        "               [\"Krishna\", 75, 1.73, False],\n",
        "               [\"Bheem\", 120, 1.78, True]\n",
        "]"
      ],
      "execution_count": null,
      "outputs": []
    },
    {
      "cell_type": "code",
      "metadata": {
        "id": "nxRU93n1bCx7"
      },
      "source": [
        "bmi_record = {\n",
        "    \"name\": \"Krishna\",\n",
        "    \"weight\": 75,\n",
        "    \"height\": 1.73,\n",
        "    \"is_overweight\": False\n",
        "}"
      ],
      "execution_count": null,
      "outputs": []
    },
    {
      "cell_type": "code",
      "metadata": {
        "id": "2RNmOCEAb43J",
        "colab": {
          "base_uri": "https://localhost:8080/"
        },
        "outputId": "2ae26787-875f-4b36-e881-264ec6825423"
      },
      "source": [
        "print(type(bmi_record))"
      ],
      "execution_count": null,
      "outputs": [
        {
          "output_type": "stream",
          "text": [
            "<class 'dict'>\n"
          ],
          "name": "stdout"
        }
      ]
    },
    {
      "cell_type": "code",
      "metadata": {
        "id": "q3knrRTfb6LK",
        "colab": {
          "base_uri": "https://localhost:8080/",
          "height": 35
        },
        "outputId": "5509c007-41b2-407e-c73e-5b0605d4e04e"
      },
      "source": [
        "bmi_record[\"name\"]"
      ],
      "execution_count": null,
      "outputs": [
        {
          "output_type": "execute_result",
          "data": {
            "application/vnd.google.colaboratory.intrinsic+json": {
              "type": "string"
            },
            "text/plain": [
              "'Krishna'"
            ]
          },
          "metadata": {
            "tags": []
          },
          "execution_count": 100
        }
      ]
    },
    {
      "cell_type": "code",
      "metadata": {
        "id": "63W3rfkzcAeZ",
        "colab": {
          "base_uri": "https://localhost:8080/",
          "height": 167
        },
        "outputId": "11ae1cc4-3a85-4b1a-c3b4-239766d70c1e"
      },
      "source": [
        "bmi_record[\"email\"]"
      ],
      "execution_count": null,
      "outputs": [
        {
          "output_type": "error",
          "ename": "KeyError",
          "evalue": "ignored",
          "traceback": [
            "\u001b[0;31m---------------------------------------------------------------------------\u001b[0m",
            "\u001b[0;31mKeyError\u001b[0m                                  Traceback (most recent call last)",
            "\u001b[0;32m<ipython-input-101-5f8e83e5c83b>\u001b[0m in \u001b[0;36m<module>\u001b[0;34m()\u001b[0m\n\u001b[0;32m----> 1\u001b[0;31m \u001b[0mbmi_record\u001b[0m\u001b[0;34m[\u001b[0m\u001b[0;34m\"email\"\u001b[0m\u001b[0;34m]\u001b[0m\u001b[0;34m\u001b[0m\u001b[0;34m\u001b[0m\u001b[0m\n\u001b[0m",
            "\u001b[0;31mKeyError\u001b[0m: 'email'"
          ]
        }
      ]
    },
    {
      "cell_type": "code",
      "metadata": {
        "id": "fpW4ztt8cFDW"
      },
      "source": [
        "bmi_record[\"email\"] = \"krishna@idontknow.com\""
      ],
      "execution_count": null,
      "outputs": []
    },
    {
      "cell_type": "code",
      "metadata": {
        "id": "vpfoArSdcKt6",
        "colab": {
          "base_uri": "https://localhost:8080/"
        },
        "outputId": "18e66328-0485-481d-958d-57e46282f268"
      },
      "source": [
        "print(bmi_record)"
      ],
      "execution_count": null,
      "outputs": [
        {
          "output_type": "stream",
          "text": [
            "{'name': 'Krishna', 'weight': 75, 'height': 1.73, 'is_overweight': False, 'email': 'krishna@idontknow.com'}\n"
          ],
          "name": "stdout"
        }
      ]
    },
    {
      "cell_type": "code",
      "metadata": {
        "id": "HnbthNJDcMZB",
        "colab": {
          "base_uri": "https://localhost:8080/"
        },
        "outputId": "a175d75b-fe52-4343-c89a-b441cb8b5c31"
      },
      "source": [
        "for key in bmi_record:\n",
        "    print(key, \":\", bmi_record[key])"
      ],
      "execution_count": null,
      "outputs": [
        {
          "output_type": "stream",
          "text": [
            "name : Krishna\n",
            "weight : 75\n",
            "height : 1.73\n",
            "is_overweight : False\n",
            "email : krishna@idontknow.com\n"
          ],
          "name": "stdout"
        }
      ]
    },
    {
      "cell_type": "code",
      "metadata": {
        "id": "UkbDd6yQcaqQ",
        "colab": {
          "base_uri": "https://localhost:8080/"
        },
        "outputId": "dba84b88-c1e6-4575-9be0-443ba46d77ea"
      },
      "source": [
        "print(bmi_record.keys())"
      ],
      "execution_count": null,
      "outputs": [
        {
          "output_type": "stream",
          "text": [
            "dict_keys(['name', 'weight', 'height', 'is_overweight', 'email'])\n"
          ],
          "name": "stdout"
        }
      ]
    },
    {
      "cell_type": "code",
      "metadata": {
        "id": "SoWv6sKncoTl"
      },
      "source": [
        "bmi_record_1 = {\n",
        "    \"name\": \"Bheem\",\n",
        "    \"weight\": 125,\n",
        "    \"height\": 1.75,\n",
        "    \"is_overweight\": True,\n",
        "    \"email\": \"bheem@foodtruck.com\"\n",
        "}"
      ],
      "execution_count": null,
      "outputs": []
    },
    {
      "cell_type": "code",
      "metadata": {
        "id": "UXhGexkfc9vu"
      },
      "source": [
        "bmi_dataset = [bmi_record, bmi_record_1]"
      ],
      "execution_count": null,
      "outputs": []
    },
    {
      "cell_type": "code",
      "metadata": {
        "id": "Fnv5saMIdBgt",
        "colab": {
          "base_uri": "https://localhost:8080/"
        },
        "outputId": "1848861a-eb46-497a-ebcf-0f8f671df75a"
      },
      "source": [
        "print(bmi_dataset[0][\"is_overweight\"])"
      ],
      "execution_count": null,
      "outputs": [
        {
          "output_type": "stream",
          "text": [
            "False\n"
          ],
          "name": "stdout"
        }
      ]
    },
    {
      "cell_type": "markdown",
      "metadata": {
        "id": "hotfYemIdSJo"
      },
      "source": [
        "## Exercise for dictionary"
      ]
    },
    {
      "cell_type": "markdown",
      "metadata": {
        "id": "qCbcEYcndV3x"
      },
      "source": [
        "Receive the user input that says something like \"I went to Parliament\" or \"Why don't you go to Wankhede\". You then subsitute the POI by its lat and long coordinates of that POI."
      ]
    },
    {
      "cell_type": "code",
      "metadata": {
        "id": "Kyl9MayUdEAN"
      },
      "source": [
        "pois = {\"Parliament\": \"28°37'2\\\"N, 77°12'29\\\"E\", \n",
        "        \"Wankhede\": \"18°56'20.10\\\"N, 72°49'32.60\\\"E\",\n",
        "        \"Nalanda\": \"25°8'12\\\"N, 85°26'38\\\"E\",\n",
        "        \"Mahabalipuram\": \"12°37'21.817\\\"N, 80°11'38.080\\\"E\"\n",
        "        }"
      ],
      "execution_count": null,
      "outputs": []
    },
    {
      "cell_type": "code",
      "metadata": {
        "id": "LDXs7VuVfDYA",
        "colab": {
          "base_uri": "https://localhost:8080/"
        },
        "outputId": "0baa7a06-519e-4171-9bb3-ef1a3003cfc2"
      },
      "source": [
        "user_text = input(\"\")"
      ],
      "execution_count": null,
      "outputs": [
        {
          "output_type": "stream",
          "text": [
            "Parliament\n"
          ],
          "name": "stdout"
        }
      ]
    },
    {
      "cell_type": "code",
      "metadata": {
        "id": "24cznA3cfH-I",
        "colab": {
          "base_uri": "https://localhost:8080/"
        },
        "outputId": "70806d75-ceab-433c-8107-4a086cc54943"
      },
      "source": [
        "words = user_text.split()\n",
        "print(words)"
      ],
      "execution_count": null,
      "outputs": [
        {
          "output_type": "stream",
          "text": [
            "['Parliament']\n"
          ],
          "name": "stdout"
        }
      ]
    },
    {
      "cell_type": "code",
      "metadata": {
        "id": "147LejjMfURV"
      },
      "source": [
        "output = \"\"\n",
        "for word in words:\n",
        "    if word in pois:\n",
        "        output += pois[word]\n",
        "    else:\n",
        "        output += word\n",
        "    output += \" \""
      ],
      "execution_count": null,
      "outputs": []
    },
    {
      "cell_type": "code",
      "metadata": {
        "id": "EHHKEIY_fpQp",
        "colab": {
          "base_uri": "https://localhost:8080/"
        },
        "outputId": "10365839-2ab5-4d2d-fcfb-a674b2e7ddef"
      },
      "source": [
        "print(output)"
      ],
      "execution_count": null,
      "outputs": [
        {
          "output_type": "stream",
          "text": [
            "28°37'2\"N, 77°12'29\"E \n"
          ],
          "name": "stdout"
        }
      ]
    },
    {
      "cell_type": "code",
      "metadata": {
        "id": "0wuZ3tmdfqNm"
      },
      "source": [
        "output = \"\"\n",
        "for word in words:\n",
        "    output += (pois.get(word, word) + \" \")"
      ],
      "execution_count": null,
      "outputs": []
    },
    {
      "cell_type": "code",
      "metadata": {
        "id": "BN20yKSAgFpx",
        "colab": {
          "base_uri": "https://localhost:8080/"
        },
        "outputId": "d5e0863a-c4b7-43ee-d666-74dfaf1bb02c"
      },
      "source": [
        "print(output)"
      ],
      "execution_count": null,
      "outputs": [
        {
          "output_type": "stream",
          "text": [
            "28°37'2\"N, 77°12'29\"E \n"
          ],
          "name": "stdout"
        }
      ]
    },
    {
      "cell_type": "markdown",
      "metadata": {
        "id": "bKvfycfkgQ3r"
      },
      "source": [
        "# Exercise - design thinking\n",
        "\n",
        "![alt text](https://www.polygons.tech/wp-content/uploads/adas-road2-web-1200.jpg)\n",
        "\n",
        "Consider the following data store that is used to represent the output of annotation process. \n",
        "\n",
        "```\n",
        "Car 1729\n",
        "X1, Y1\n",
        "X2, Y2\n",
        "X3, Y3\n",
        "...\n",
        "Xk, Yk\n",
        "----\n",
        "Car \n",
        "X1, Y1\n",
        "X2, Y2\n",
        "...\n",
        "Xk', Yk'\n",
        "----\n",
        "...\n",
        "```\n",
        "\n",
        "Multiple cars are annotated in each image. Each car has a string name followed by a series of points forming a closed polygon. The number of these points varies from car to car. Each point itself is characterised by two numbers corresponding to the x and y coordinates. What data structures would you use to represent this. Note that you have multiple levels of representation that are nested and different choices can be made for each level. "
      ]
    },
    {
      "cell_type": "markdown",
      "metadata": {
        "id": "0jOZYFBKl1A1"
      },
      "source": [
        "# Files"
      ]
    },
    {
      "cell_type": "code",
      "metadata": {
        "id": "_P-KqqtRltoe"
      },
      "source": [
        "f = open(\"W05_Data_poem.txt\", \"r\")"
      ],
      "execution_count": null,
      "outputs": []
    },
    {
      "cell_type": "code",
      "metadata": {
        "id": "Yy9n5PYumyrF",
        "colab": {
          "base_uri": "https://localhost:8080/"
        },
        "outputId": "99224842-1251-4503-fddd-97a616215a2f"
      },
      "source": [
        "print(f)"
      ],
      "execution_count": null,
      "outputs": [
        {
          "output_type": "stream",
          "text": [
            "<_io.TextIOWrapper name='W05_Data_poem.txt' mode='r' encoding='UTF-8'>\n"
          ],
          "name": "stdout"
        }
      ]
    },
    {
      "cell_type": "code",
      "metadata": {
        "id": "Y1JoHERmmzqX"
      },
      "source": [
        "output = f.read()"
      ],
      "execution_count": null,
      "outputs": []
    },
    {
      "cell_type": "code",
      "metadata": {
        "id": "ig5eOCYnm6fO",
        "colab": {
          "base_uri": "https://localhost:8080/"
        },
        "outputId": "8b567fff-cac4-4062-fb4f-8de35fd98b87"
      },
      "source": [
        "print(output)"
      ],
      "execution_count": null,
      "outputs": [
        {
          "output_type": "stream",
          "text": [
            "Unending Love by Rabindranath Tagore\n",
            "\n",
            "I seem to have loved you in numberless forms, numberless times\n",
            "In life after life, in age after age, forever.\n",
            "My spellbound heart has made and remade the necklace of songs,\n",
            "That you take as a gift, wear round your neck in your many forms,\n",
            "In life after life, in age after age, forever.\n",
            "\n",
            "Whenever I hear old chronicles of love, its age-old pain,\n",
            "Its ancient tale of being apart or together.\n",
            "As I stare on and on into the past, in the end you emerge,\n",
            "Clad in the light of a pole-star piercing the darkness of time:\n",
            "You become an image of what is remembered forever.\n",
            "\n",
            "You and I have floated here on the stream that brings from the fount.\n",
            "At the heart of time, love of one for another.\n",
            "We have played along side millions of lovers, shared in the same\n",
            "Shy sweetness of meeting, the same distressful tears of farewell-\n",
            "Old love but in shapes that renew and renew forever.\n",
            "\n",
            "Today it is heaped at your feet, it has found its end in you\n",
            "The love of all man’s days both past and forever:\n",
            "Universal joy, universal sorrow, universal life.\n",
            "The memories of all loves merging with this one love of ours –\n",
            "And the songs of every poet past and forever.\n"
          ],
          "name": "stdout"
        }
      ]
    },
    {
      "cell_type": "code",
      "metadata": {
        "id": "_ddGl1xmm7VH",
        "colab": {
          "base_uri": "https://localhost:8080/"
        },
        "outputId": "1fa43604-b6c1-4367-ca39-be3f9181e5d8"
      },
      "source": [
        "f = open(\"W05_Data_poem.txt\", \"r\")\n",
        "out_line = f.readline()\n",
        "print(out_line)"
      ],
      "execution_count": null,
      "outputs": [
        {
          "output_type": "stream",
          "text": [
            "Unending Love by Rabindranath Tagore\n",
            "\n"
          ],
          "name": "stdout"
        }
      ]
    },
    {
      "cell_type": "code",
      "metadata": {
        "id": "5jLCietmnHW3",
        "colab": {
          "base_uri": "https://localhost:8080/"
        },
        "outputId": "8718933b-74c0-4b77-c5ee-e1ed902a4c00"
      },
      "source": [
        "out_line = f.readline()\n",
        "print(out_line)"
      ],
      "execution_count": null,
      "outputs": [
        {
          "output_type": "stream",
          "text": [
            "\n",
            "\n"
          ],
          "name": "stdout"
        }
      ]
    },
    {
      "cell_type": "code",
      "metadata": {
        "id": "XZlfBpNWnKZr",
        "colab": {
          "base_uri": "https://localhost:8080/"
        },
        "outputId": "6539071f-fea0-492b-8ae9-86fcdeeddceb"
      },
      "source": [
        "out_line = f.readline()\n",
        "print(out_line)"
      ],
      "execution_count": null,
      "outputs": [
        {
          "output_type": "stream",
          "text": [
            "I seem to have loved you in numberless forms, numberless times\n",
            "\n"
          ],
          "name": "stdout"
        }
      ]
    },
    {
      "cell_type": "code",
      "metadata": {
        "id": "4uHX46O7nMEC",
        "colab": {
          "base_uri": "https://localhost:8080/"
        },
        "outputId": "5a144c63-4f31-410c-8a19-7a62f8b389c1"
      },
      "source": [
        "f = open(\"W05_Data_poem.txt\", \"r\")\n",
        "out_lines = f.readlines()\n",
        "print(out_lines)"
      ],
      "execution_count": null,
      "outputs": [
        {
          "output_type": "stream",
          "text": [
            "['Unending Love by Rabindranath Tagore\\n', '\\n', 'I seem to have loved you in numberless forms, numberless times\\n', 'In life after life, in age after age, forever.\\n', 'My spellbound heart has made and remade the necklace of songs,\\n', 'That you take as a gift, wear round your neck in your many forms,\\n', 'In life after life, in age after age, forever.\\n', '\\n', 'Whenever I hear old chronicles of love, its age-old pain,\\n', 'Its ancient tale of being apart or together.\\n', 'As I stare on and on into the past, in the end you emerge,\\n', 'Clad in the light of a pole-star piercing the darkness of time:\\n', 'You become an image of what is remembered forever.\\n', '\\n', 'You and I have floated here on the stream that brings from the fount.\\n', 'At the heart of time, love of one for another.\\n', 'We have played along side millions of lovers, shared in the same\\n', 'Shy sweetness of meeting, the same distressful tears of farewell-\\n', 'Old love but in shapes that renew and renew forever.\\n', '\\n', 'Today it is heaped at your feet, it has found its end in you\\n', 'The love of all man’s days both past and forever:\\n', 'Universal joy, universal sorrow, universal life.\\n', 'The memories of all loves merging with this one love of ours –\\n', 'And the songs of every poet past and forever.']\n"
          ],
          "name": "stdout"
        }
      ]
    },
    {
      "cell_type": "code",
      "metadata": {
        "id": "srMGVS67nS9g"
      },
      "source": [
        "f.close()"
      ],
      "execution_count": null,
      "outputs": []
    },
    {
      "cell_type": "code",
      "metadata": {
        "id": "n3ecHqLDncHw",
        "colab": {
          "base_uri": "https://localhost:8080/",
          "height": 167
        },
        "outputId": "acdb1c73-fd1d-4046-d97f-c23f49904374"
      },
      "source": [
        "out_line = f.readline()"
      ],
      "execution_count": null,
      "outputs": [
        {
          "output_type": "error",
          "ename": "ValueError",
          "evalue": "ignored",
          "traceback": [
            "\u001b[0;31m---------------------------------------------------------------------------\u001b[0m",
            "\u001b[0;31mValueError\u001b[0m                                Traceback (most recent call last)",
            "\u001b[0;32m<ipython-input-131-0a6ad4065469>\u001b[0m in \u001b[0;36m<module>\u001b[0;34m()\u001b[0m\n\u001b[0;32m----> 1\u001b[0;31m \u001b[0mout_line\u001b[0m \u001b[0;34m=\u001b[0m \u001b[0mf\u001b[0m\u001b[0;34m.\u001b[0m\u001b[0mreadline\u001b[0m\u001b[0;34m(\u001b[0m\u001b[0;34m)\u001b[0m\u001b[0;34m\u001b[0m\u001b[0;34m\u001b[0m\u001b[0m\n\u001b[0m",
            "\u001b[0;31mValueError\u001b[0m: I/O operation on closed file."
          ]
        }
      ]
    },
    {
      "cell_type": "code",
      "metadata": {
        "id": "RpbQQl2XnegA",
        "colab": {
          "base_uri": "https://localhost:8080/"
        },
        "outputId": "574a7461-6bb3-4e3c-f43e-e7c6bb30e9fe"
      },
      "source": [
        "with open(\"W05_Data_poem.txt\", \"r\") as f:\n",
        "    out_lines = f.readlines()\n",
        "    print(out_lines) "
      ],
      "execution_count": null,
      "outputs": [
        {
          "output_type": "stream",
          "text": [
            "['Unending Love by Rabindranath Tagore\\n', '\\n', 'I seem to have loved you in numberless forms, numberless times\\n', 'In life after life, in age after age, forever.\\n', 'My spellbound heart has made and remade the necklace of songs,\\n', 'That you take as a gift, wear round your neck in your many forms,\\n', 'In life after life, in age after age, forever.\\n', '\\n', 'Whenever I hear old chronicles of love, its age-old pain,\\n', 'Its ancient tale of being apart or together.\\n', 'As I stare on and on into the past, in the end you emerge,\\n', 'Clad in the light of a pole-star piercing the darkness of time:\\n', 'You become an image of what is remembered forever.\\n', '\\n', 'You and I have floated here on the stream that brings from the fount.\\n', 'At the heart of time, love of one for another.\\n', 'We have played along side millions of lovers, shared in the same\\n', 'Shy sweetness of meeting, the same distressful tears of farewell-\\n', 'Old love but in shapes that renew and renew forever.\\n', '\\n', 'Today it is heaped at your feet, it has found its end in you\\n', 'The love of all man’s days both past and forever:\\n', 'Universal joy, universal sorrow, universal life.\\n', 'The memories of all loves merging with this one love of ours –\\n', 'And the songs of every poet past and forever.']\n"
          ],
          "name": "stdout"
        }
      ]
    },
    {
      "cell_type": "code",
      "metadata": {
        "id": "raNR8TPMqXtS",
        "colab": {
          "base_uri": "https://localhost:8080/",
          "height": 167
        },
        "outputId": "60379286-e5d2-4f56-8256-2414b90f4953"
      },
      "source": [
        "f.readlines()"
      ],
      "execution_count": null,
      "outputs": [
        {
          "output_type": "error",
          "ename": "ValueError",
          "evalue": "ignored",
          "traceback": [
            "\u001b[0;31m---------------------------------------------------------------------------\u001b[0m",
            "\u001b[0;31mValueError\u001b[0m                                Traceback (most recent call last)",
            "\u001b[0;32m<ipython-input-133-055d0c37aeda>\u001b[0m in \u001b[0;36m<module>\u001b[0;34m()\u001b[0m\n\u001b[0;32m----> 1\u001b[0;31m \u001b[0mf\u001b[0m\u001b[0;34m.\u001b[0m\u001b[0mreadlines\u001b[0m\u001b[0;34m(\u001b[0m\u001b[0;34m)\u001b[0m\u001b[0;34m\u001b[0m\u001b[0;34m\u001b[0m\u001b[0m\n\u001b[0m",
            "\u001b[0;31mValueError\u001b[0m: I/O operation on closed file."
          ]
        }
      ]
    },
    {
      "cell_type": "code",
      "metadata": {
        "id": "brA2ghgfqawf",
        "colab": {
          "base_uri": "https://localhost:8080/"
        },
        "outputId": "92fbf173-bfcc-44ec-c564-fccc4759ae82"
      },
      "source": [
        "f = open(\"W05_Data_poem.txt\", \"r\")\n",
        "out_lines = f.readlines()\n",
        "print(out_lines)\n",
        "f.close()"
      ],
      "execution_count": null,
      "outputs": [
        {
          "output_type": "stream",
          "text": [
            "['Unending Love by Rabindranath Tagore\\n', '\\n', 'I seem to have loved you in numberless forms, numberless times\\n', 'In life after life, in age after age, forever.\\n', 'My spellbound heart has made and remade the necklace of songs,\\n', 'That you take as a gift, wear round your neck in your many forms,\\n', 'In life after life, in age after age, forever.\\n', '\\n', 'Whenever I hear old chronicles of love, its age-old pain,\\n', 'Its ancient tale of being apart or together.\\n', 'As I stare on and on into the past, in the end you emerge,\\n', 'Clad in the light of a pole-star piercing the darkness of time:\\n', 'You become an image of what is remembered forever.\\n', '\\n', 'You and I have floated here on the stream that brings from the fount.\\n', 'At the heart of time, love of one for another.\\n', 'We have played along side millions of lovers, shared in the same\\n', 'Shy sweetness of meeting, the same distressful tears of farewell-\\n', 'Old love but in shapes that renew and renew forever.\\n', '\\n', 'Today it is heaped at your feet, it has found its end in you\\n', 'The love of all man’s days both past and forever:\\n', 'Universal joy, universal sorrow, universal life.\\n', 'The memories of all loves merging with this one love of ours –\\n', 'And the songs of every poet past and forever.']\n"
          ],
          "name": "stdout"
        }
      ]
    },
    {
      "cell_type": "code",
      "metadata": {
        "id": "yfybbwLuq8Ss",
        "colab": {
          "base_uri": "https://localhost:8080/"
        },
        "outputId": "e54aa675-857f-418e-e984-b9fd3992ec6d"
      },
      "source": [
        "i = 0\n",
        "for line in out_lines:\n",
        "    print(i, '\\t', line.strip())\n",
        "    i += 1"
      ],
      "execution_count": null,
      "outputs": [
        {
          "output_type": "stream",
          "text": [
            "0 \t Unending Love by Rabindranath Tagore\n",
            "1 \t \n",
            "2 \t I seem to have loved you in numberless forms, numberless times\n",
            "3 \t In life after life, in age after age, forever.\n",
            "4 \t My spellbound heart has made and remade the necklace of songs,\n",
            "5 \t That you take as a gift, wear round your neck in your many forms,\n",
            "6 \t In life after life, in age after age, forever.\n",
            "7 \t \n",
            "8 \t Whenever I hear old chronicles of love, its age-old pain,\n",
            "9 \t Its ancient tale of being apart or together.\n",
            "10 \t As I stare on and on into the past, in the end you emerge,\n",
            "11 \t Clad in the light of a pole-star piercing the darkness of time:\n",
            "12 \t You become an image of what is remembered forever.\n",
            "13 \t \n",
            "14 \t You and I have floated here on the stream that brings from the fount.\n",
            "15 \t At the heart of time, love of one for another.\n",
            "16 \t We have played along side millions of lovers, shared in the same\n",
            "17 \t Shy sweetness of meeting, the same distressful tears of farewell-\n",
            "18 \t Old love but in shapes that renew and renew forever.\n",
            "19 \t \n",
            "20 \t Today it is heaped at your feet, it has found its end in you\n",
            "21 \t The love of all man’s days both past and forever:\n",
            "22 \t Universal joy, universal sorrow, universal life.\n",
            "23 \t The memories of all loves merging with this one love of ours –\n",
            "24 \t And the songs of every poet past and forever.\n"
          ],
          "name": "stdout"
        }
      ]
    },
    {
      "cell_type": "code",
      "metadata": {
        "id": "01zYZPzXrDvo"
      },
      "source": [
        "f_out = open(\"fav.txt\", \"w\")"
      ],
      "execution_count": null,
      "outputs": []
    },
    {
      "cell_type": "code",
      "metadata": {
        "id": "hZCTo6I-reJL"
      },
      "source": [
        "f_out.writelines(out_lines[2])"
      ],
      "execution_count": null,
      "outputs": []
    },
    {
      "cell_type": "code",
      "metadata": {
        "id": "L_PTj0Srrjq-"
      },
      "source": [
        "f_out.close()"
      ],
      "execution_count": null,
      "outputs": []
    },
    {
      "cell_type": "code",
      "metadata": {
        "id": "hVBBnZXBrv3Y"
      },
      "source": [
        "fav_lines = [2, 22]"
      ],
      "execution_count": null,
      "outputs": []
    },
    {
      "cell_type": "code",
      "metadata": {
        "id": "t8owFzztr35X"
      },
      "source": [
        "with open(\"fav.txt\", \"w\") as f_out:\n",
        "    for fav_line in fav_lines:\n",
        "        f_out.writelines(out_lines[fav_line])"
      ],
      "execution_count": null,
      "outputs": []
    },
    {
      "cell_type": "markdown",
      "metadata": {
        "id": "edmIJ9KUsRsU"
      },
      "source": [
        "# Exercise\n",
        "\n",
        "1.   Create a dictionary whose keys correspond to unique words in a given file and whose values correspond to the number of times each word appears in the file.\n",
        "2.   To an output file, write the 10 most frequent words in separate lines.\n",
        "3.   To an output file, write the 5 most frequenct 2-grams in separate lines.\n",
        "\n",
        "\n"
      ]
    },
    {
      "cell_type": "markdown",
      "metadata": {
        "id": "-OuV1y82BUYV"
      },
      "source": [
        "# Problem 1, 2"
      ]
    },
    {
      "cell_type": "code",
      "metadata": {
        "id": "RqhwDYTpBVac",
        "colab": {
          "base_uri": "https://localhost:8080/"
        },
        "outputId": "4490a524-d757-46cb-eb5f-625b84eaeaf7"
      },
      "source": [
        "f = open(\"W05_Data_poem.txt\", \"r\")\n",
        "lines = f.readlines()\n",
        "print(lines)\n",
        "f.close()"
      ],
      "execution_count": null,
      "outputs": [
        {
          "output_type": "stream",
          "text": [
            "['Unending Love by Rabindranath Tagore\\n', '\\n', 'I seem to have loved you in numberless forms, numberless times\\n', 'In life after life, in age after age, forever.\\n', 'My spellbound heart has made and remade the necklace of songs,\\n', 'That you take as a gift, wear round your neck in your many forms,\\n', 'In life after life, in age after age, forever.\\n', '\\n', 'Whenever I hear old chronicles of love, its age-old pain,\\n', 'Its ancient tale of being apart or together.\\n', 'As I stare on and on into the past, in the end you emerge,\\n', 'Clad in the light of a pole-star piercing the darkness of time:\\n', 'You become an image of what is remembered forever.\\n', '\\n', 'You and I have floated here on the stream that brings from the fount.\\n', 'At the heart of time, love of one for another.\\n', 'We have played along side millions of lovers, shared in the same\\n', 'Shy sweetness of meeting, the same distressful tears of farewell-\\n', 'Old love but in shapes that renew and renew forever.\\n', '\\n', 'Today it is heaped at your feet, it has found its end in you\\n', 'The love of all man’s days both past and forever:\\n', 'Universal joy, universal sorrow, universal life.\\n', 'The memories of all loves merging with this one love of ours –\\n', 'And the songs of every poet past and forever.']\n"
          ],
          "name": "stdout"
        }
      ]
    },
    {
      "cell_type": "code",
      "metadata": {
        "id": "k2o2s4jJBYSs"
      },
      "source": [
        "for item in lines:\n",
        "    item = item.lower()"
      ],
      "execution_count": null,
      "outputs": []
    },
    {
      "cell_type": "code",
      "metadata": {
        "id": "9wNMoBAwBoOU",
        "colab": {
          "base_uri": "https://localhost:8080/"
        },
        "outputId": "f1a2b830-2faa-4217-9659-0b8f89e877a8"
      },
      "source": [
        "print(lines[0])"
      ],
      "execution_count": null,
      "outputs": [
        {
          "output_type": "stream",
          "text": [
            "Unending Love by Rabindranath Tagore\n",
            "\n"
          ],
          "name": "stdout"
        }
      ]
    },
    {
      "cell_type": "code",
      "metadata": {
        "id": "TFF31Cz1Bpya"
      },
      "source": [
        "length = len(lines)\n",
        "for i in range(length):\n",
        "    lines[i] = lines[i].lower()"
      ],
      "execution_count": null,
      "outputs": []
    },
    {
      "cell_type": "code",
      "metadata": {
        "id": "nPD1C8UmB6RG",
        "colab": {
          "base_uri": "https://localhost:8080/"
        },
        "outputId": "e7b6bb52-eea3-47cd-9261-a6af30f185e3"
      },
      "source": [
        "print(lines[0])"
      ],
      "execution_count": null,
      "outputs": [
        {
          "output_type": "stream",
          "text": [
            "unending love by rabindranath tagore\n",
            "\n"
          ],
          "name": "stdout"
        }
      ]
    },
    {
      "cell_type": "code",
      "metadata": {
        "id": "K5Zu5a0BB8e5",
        "colab": {
          "base_uri": "https://localhost:8080/"
        },
        "outputId": "d3f5a2cd-db58-4204-b3b2-01010a925745"
      },
      "source": [
        "print(lines)"
      ],
      "execution_count": null,
      "outputs": [
        {
          "output_type": "stream",
          "text": [
            "['unending love by rabindranath tagore\\n', '\\n', 'i seem to have loved you in numberless forms, numberless times\\n', 'in life after life, in age after age, forever.\\n', 'my spellbound heart has made and remade the necklace of songs,\\n', 'that you take as a gift, wear round your neck in your many forms,\\n', 'in life after life, in age after age, forever.\\n', '\\n', 'whenever i hear old chronicles of love, its age-old pain,\\n', 'its ancient tale of being apart or together.\\n', 'as i stare on and on into the past, in the end you emerge,\\n', 'clad in the light of a pole-star piercing the darkness of time:\\n', 'you become an image of what is remembered forever.\\n', '\\n', 'you and i have floated here on the stream that brings from the fount.\\n', 'at the heart of time, love of one for another.\\n', 'we have played along side millions of lovers, shared in the same\\n', 'shy sweetness of meeting, the same distressful tears of farewell-\\n', 'old love but in shapes that renew and renew forever.\\n', '\\n', 'today it is heaped at your feet, it has found its end in you\\n', 'the love of all man’s days both past and forever:\\n', 'universal joy, universal sorrow, universal life.\\n', 'the memories of all loves merging with this one love of ours –\\n', 'and the songs of every poet past and forever.']\n"
          ],
          "name": "stdout"
        }
      ]
    },
    {
      "cell_type": "code",
      "metadata": {
        "id": "6p68KD7_B9zj"
      },
      "source": [
        "for i in range(length):\n",
        "    lines[i] = lines[i].replace('\\n', ' ')"
      ],
      "execution_count": null,
      "outputs": []
    },
    {
      "cell_type": "code",
      "metadata": {
        "id": "cieU63uDCLlW",
        "colab": {
          "base_uri": "https://localhost:8080/"
        },
        "outputId": "573517ca-e1ed-4b09-eab1-8fee352dcc7d"
      },
      "source": [
        "print(lines)"
      ],
      "execution_count": null,
      "outputs": [
        {
          "output_type": "stream",
          "text": [
            "['unending love by rabindranath tagore ', ' ', 'i seem to have loved you in numberless forms, numberless times ', 'in life after life, in age after age, forever. ', 'my spellbound heart has made and remade the necklace of songs, ', 'that you take as a gift, wear round your neck in your many forms, ', 'in life after life, in age after age, forever. ', ' ', 'whenever i hear old chronicles of love, its age-old pain, ', 'its ancient tale of being apart or together. ', 'as i stare on and on into the past, in the end you emerge, ', 'clad in the light of a pole-star piercing the darkness of time: ', 'you become an image of what is remembered forever. ', ' ', 'you and i have floated here on the stream that brings from the fount. ', 'at the heart of time, love of one for another. ', 'we have played along side millions of lovers, shared in the same ', 'shy sweetness of meeting, the same distressful tears of farewell- ', 'old love but in shapes that renew and renew forever. ', ' ', 'today it is heaped at your feet, it has found its end in you ', 'the love of all man’s days both past and forever: ', 'universal joy, universal sorrow, universal life. ', 'the memories of all loves merging with this one love of ours – ', 'and the songs of every poet past and forever.']\n"
          ],
          "name": "stdout"
        }
      ]
    },
    {
      "cell_type": "code",
      "metadata": {
        "id": "5ScoSoYQCMur"
      },
      "source": [
        "chars_to_replace = ['\\n', ',', '-', '\"', '(', ')', '.']\n",
        "for i in range(length):\n",
        "    for s in chars_to_replace:\n",
        "        lines[i] = lines[i].replace(s, ' ')"
      ],
      "execution_count": null,
      "outputs": []
    },
    {
      "cell_type": "code",
      "metadata": {
        "id": "aSa-Yuu8Cjk6",
        "colab": {
          "base_uri": "https://localhost:8080/"
        },
        "outputId": "9ba1dea3-bcbf-4a8d-8808-f8e51b5ac768"
      },
      "source": [
        "print(lines)"
      ],
      "execution_count": null,
      "outputs": [
        {
          "output_type": "stream",
          "text": [
            "['unending love by rabindranath tagore ', ' ', 'i seem to have loved you in numberless forms  numberless times ', 'in life after life  in age after age  forever  ', 'my spellbound heart has made and remade the necklace of songs  ', 'that you take as a gift  wear round your neck in your many forms  ', 'in life after life  in age after age  forever  ', ' ', 'whenever i hear old chronicles of love  its age old pain  ', 'its ancient tale of being apart or together  ', 'as i stare on and on into the past  in the end you emerge  ', 'clad in the light of a pole star piercing the darkness of time: ', 'you become an image of what is remembered forever  ', ' ', 'you and i have floated here on the stream that brings from the fount  ', 'at the heart of time  love of one for another  ', 'we have played along side millions of lovers  shared in the same ', 'shy sweetness of meeting  the same distressful tears of farewell  ', 'old love but in shapes that renew and renew forever  ', ' ', 'today it is heaped at your feet  it has found its end in you ', 'the love of all man’s days both past and forever: ', 'universal joy  universal sorrow  universal life  ', 'the memories of all loves merging with this one love of ours – ', 'and the songs of every poet past and forever ']\n"
          ],
          "name": "stdout"
        }
      ]
    },
    {
      "cell_type": "code",
      "metadata": {
        "id": "Fdpi4spmClKS"
      },
      "source": [
        "text = \"\"\n",
        "for line in lines:\n",
        "    text += line + \" \" "
      ],
      "execution_count": null,
      "outputs": []
    },
    {
      "cell_type": "code",
      "metadata": {
        "id": "YE8i94NLC7ep",
        "colab": {
          "base_uri": "https://localhost:8080/"
        },
        "outputId": "5b077d05-dda0-4fad-f73d-fbc4863662a8"
      },
      "source": [
        "print(text)"
      ],
      "execution_count": null,
      "outputs": [
        {
          "output_type": "stream",
          "text": [
            "unending love by rabindranath tagore    i seem to have loved you in numberless forms  numberless times  in life after life  in age after age  forever   my spellbound heart has made and remade the necklace of songs   that you take as a gift  wear round your neck in your many forms   in life after life  in age after age  forever     whenever i hear old chronicles of love  its age old pain   its ancient tale of being apart or together   as i stare on and on into the past  in the end you emerge   clad in the light of a pole star piercing the darkness of time:  you become an image of what is remembered forever     you and i have floated here on the stream that brings from the fount   at the heart of time  love of one for another   we have played along side millions of lovers  shared in the same  shy sweetness of meeting  the same distressful tears of farewell   old love but in shapes that renew and renew forever     today it is heaped at your feet  it has found its end in you  the love of all man’s days both past and forever:  universal joy  universal sorrow  universal life   the memories of all loves merging with this one love of ours –  and the songs of every poet past and forever  \n"
          ],
          "name": "stdout"
        }
      ]
    },
    {
      "cell_type": "code",
      "metadata": {
        "id": "vGmiAZh2C-VN"
      },
      "source": [
        "text = \" \".join(lines)"
      ],
      "execution_count": null,
      "outputs": []
    },
    {
      "cell_type": "code",
      "metadata": {
        "id": "2guM_qx8DNy1",
        "colab": {
          "base_uri": "https://localhost:8080/"
        },
        "outputId": "cf8cf2d3-4c10-4b7d-f218-7ffa7f459294"
      },
      "source": [
        "print(text)"
      ],
      "execution_count": null,
      "outputs": [
        {
          "output_type": "stream",
          "text": [
            "unending love by rabindranath tagore    i seem to have loved you in numberless forms  numberless times  in life after life  in age after age  forever   my spellbound heart has made and remade the necklace of songs   that you take as a gift  wear round your neck in your many forms   in life after life  in age after age  forever     whenever i hear old chronicles of love  its age old pain   its ancient tale of being apart or together   as i stare on and on into the past  in the end you emerge   clad in the light of a pole star piercing the darkness of time:  you become an image of what is remembered forever     you and i have floated here on the stream that brings from the fount   at the heart of time  love of one for another   we have played along side millions of lovers  shared in the same  shy sweetness of meeting  the same distressful tears of farewell   old love but in shapes that renew and renew forever     today it is heaped at your feet  it has found its end in you  the love of all man’s days both past and forever:  universal joy  universal sorrow  universal life   the memories of all loves merging with this one love of ours –  and the songs of every poet past and forever \n"
          ],
          "name": "stdout"
        }
      ]
    },
    {
      "cell_type": "code",
      "metadata": {
        "id": "h9wLviwZDOor"
      },
      "source": [
        "words = text.split()"
      ],
      "execution_count": null,
      "outputs": []
    },
    {
      "cell_type": "code",
      "metadata": {
        "id": "Xb-VC2VaDUYW",
        "colab": {
          "base_uri": "https://localhost:8080/"
        },
        "outputId": "04827ded-6447-4688-c796-50c2d31e15d2"
      },
      "source": [
        "print(len(words), words)"
      ],
      "execution_count": null,
      "outputs": [
        {
          "output_type": "stream",
          "text": [
            "222 ['unending', 'love', 'by', 'rabindranath', 'tagore', 'i', 'seem', 'to', 'have', 'loved', 'you', 'in', 'numberless', 'forms', 'numberless', 'times', 'in', 'life', 'after', 'life', 'in', 'age', 'after', 'age', 'forever', 'my', 'spellbound', 'heart', 'has', 'made', 'and', 'remade', 'the', 'necklace', 'of', 'songs', 'that', 'you', 'take', 'as', 'a', 'gift', 'wear', 'round', 'your', 'neck', 'in', 'your', 'many', 'forms', 'in', 'life', 'after', 'life', 'in', 'age', 'after', 'age', 'forever', 'whenever', 'i', 'hear', 'old', 'chronicles', 'of', 'love', 'its', 'age', 'old', 'pain', 'its', 'ancient', 'tale', 'of', 'being', 'apart', 'or', 'together', 'as', 'i', 'stare', 'on', 'and', 'on', 'into', 'the', 'past', 'in', 'the', 'end', 'you', 'emerge', 'clad', 'in', 'the', 'light', 'of', 'a', 'pole', 'star', 'piercing', 'the', 'darkness', 'of', 'time:', 'you', 'become', 'an', 'image', 'of', 'what', 'is', 'remembered', 'forever', 'you', 'and', 'i', 'have', 'floated', 'here', 'on', 'the', 'stream', 'that', 'brings', 'from', 'the', 'fount', 'at', 'the', 'heart', 'of', 'time', 'love', 'of', 'one', 'for', 'another', 'we', 'have', 'played', 'along', 'side', 'millions', 'of', 'lovers', 'shared', 'in', 'the', 'same', 'shy', 'sweetness', 'of', 'meeting', 'the', 'same', 'distressful', 'tears', 'of', 'farewell', 'old', 'love', 'but', 'in', 'shapes', 'that', 'renew', 'and', 'renew', 'forever', 'today', 'it', 'is', 'heaped', 'at', 'your', 'feet', 'it', 'has', 'found', 'its', 'end', 'in', 'you', 'the', 'love', 'of', 'all', 'man’s', 'days', 'both', 'past', 'and', 'forever:', 'universal', 'joy', 'universal', 'sorrow', 'universal', 'life', 'the', 'memories', 'of', 'all', 'loves', 'merging', 'with', 'this', 'one', 'love', 'of', 'ours', '–', 'and', 'the', 'songs', 'of', 'every', 'poet', 'past', 'and', 'forever']\n"
          ],
          "name": "stdout"
        }
      ]
    },
    {
      "cell_type": "code",
      "metadata": {
        "id": "PLDKWzRDDWsr"
      },
      "source": [
        "word_freq = {}"
      ],
      "execution_count": null,
      "outputs": []
    },
    {
      "cell_type": "code",
      "metadata": {
        "id": "gMQY9pysDkhQ"
      },
      "source": [
        "for word in words:\n",
        "    if word in word_freq:\n",
        "        word_freq[word] += 1\n",
        "    else:\n",
        "        word_freq[word] = 1"
      ],
      "execution_count": null,
      "outputs": []
    },
    {
      "cell_type": "code",
      "metadata": {
        "id": "Qq5y1bvyD2Pg",
        "colab": {
          "base_uri": "https://localhost:8080/"
        },
        "outputId": "70801c79-0cf5-4501-e37a-21f1b12bd153"
      },
      "source": [
        "print(word_freq)"
      ],
      "execution_count": null,
      "outputs": [
        {
          "output_type": "stream",
          "text": [
            "{'unending': 1, 'love': 6, 'by': 1, 'rabindranath': 1, 'tagore': 1, 'i': 4, 'seem': 1, 'to': 1, 'have': 3, 'loved': 1, 'you': 6, 'in': 11, 'numberless': 2, 'forms': 2, 'times': 1, 'life': 5, 'after': 4, 'age': 5, 'forever': 5, 'my': 1, 'spellbound': 1, 'heart': 2, 'has': 2, 'made': 1, 'and': 7, 'remade': 1, 'the': 13, 'necklace': 1, 'of': 15, 'songs': 2, 'that': 3, 'take': 1, 'as': 2, 'a': 2, 'gift': 1, 'wear': 1, 'round': 1, 'your': 3, 'neck': 1, 'many': 1, 'whenever': 1, 'hear': 1, 'old': 3, 'chronicles': 1, 'its': 3, 'pain': 1, 'ancient': 1, 'tale': 1, 'being': 1, 'apart': 1, 'or': 1, 'together': 1, 'stare': 1, 'on': 3, 'into': 1, 'past': 3, 'end': 2, 'emerge': 1, 'clad': 1, 'light': 1, 'pole': 1, 'star': 1, 'piercing': 1, 'darkness': 1, 'time:': 1, 'become': 1, 'an': 1, 'image': 1, 'what': 1, 'is': 2, 'remembered': 1, 'floated': 1, 'here': 1, 'stream': 1, 'brings': 1, 'from': 1, 'fount': 1, 'at': 2, 'time': 1, 'one': 2, 'for': 1, 'another': 1, 'we': 1, 'played': 1, 'along': 1, 'side': 1, 'millions': 1, 'lovers': 1, 'shared': 1, 'same': 2, 'shy': 1, 'sweetness': 1, 'meeting': 1, 'distressful': 1, 'tears': 1, 'farewell': 1, 'but': 1, 'shapes': 1, 'renew': 2, 'today': 1, 'it': 2, 'heaped': 1, 'feet': 1, 'found': 1, 'all': 2, 'man’s': 1, 'days': 1, 'both': 1, 'forever:': 1, 'universal': 3, 'joy': 1, 'sorrow': 1, 'memories': 1, 'loves': 1, 'merging': 1, 'with': 1, 'this': 1, 'ours': 1, '–': 1, 'every': 1, 'poet': 1}\n"
          ],
          "name": "stdout"
        }
      ]
    },
    {
      "cell_type": "code",
      "metadata": {
        "id": "D9JRadaND4Pk"
      },
      "source": [
        "# sorted(x.items(), key=lambda item: item[1])"
      ],
      "execution_count": null,
      "outputs": []
    },
    {
      "cell_type": "code",
      "metadata": {
        "id": "PktncF2nEjU5",
        "colab": {
          "base_uri": "https://localhost:8080/"
        },
        "outputId": "fdbc5d02-8276-4908-e2cb-5bc264e75b95"
      },
      "source": [
        "print(sorted(word_freq.items()))"
      ],
      "execution_count": null,
      "outputs": [
        {
          "output_type": "stream",
          "text": [
            "[('a', 2), ('after', 4), ('age', 5), ('all', 2), ('along', 1), ('an', 1), ('ancient', 1), ('and', 7), ('another', 1), ('apart', 1), ('as', 2), ('at', 2), ('become', 1), ('being', 1), ('both', 1), ('brings', 1), ('but', 1), ('by', 1), ('chronicles', 1), ('clad', 1), ('darkness', 1), ('days', 1), ('distressful', 1), ('emerge', 1), ('end', 2), ('every', 1), ('farewell', 1), ('feet', 1), ('floated', 1), ('for', 1), ('forever', 5), ('forever:', 1), ('forms', 2), ('found', 1), ('fount', 1), ('from', 1), ('gift', 1), ('has', 2), ('have', 3), ('heaped', 1), ('hear', 1), ('heart', 2), ('here', 1), ('i', 4), ('image', 1), ('in', 11), ('into', 1), ('is', 2), ('it', 2), ('its', 3), ('joy', 1), ('life', 5), ('light', 1), ('love', 6), ('loved', 1), ('lovers', 1), ('loves', 1), ('made', 1), ('many', 1), ('man’s', 1), ('meeting', 1), ('memories', 1), ('merging', 1), ('millions', 1), ('my', 1), ('neck', 1), ('necklace', 1), ('numberless', 2), ('of', 15), ('old', 3), ('on', 3), ('one', 2), ('or', 1), ('ours', 1), ('pain', 1), ('past', 3), ('piercing', 1), ('played', 1), ('poet', 1), ('pole', 1), ('rabindranath', 1), ('remade', 1), ('remembered', 1), ('renew', 2), ('round', 1), ('same', 2), ('seem', 1), ('shapes', 1), ('shared', 1), ('shy', 1), ('side', 1), ('songs', 2), ('sorrow', 1), ('spellbound', 1), ('star', 1), ('stare', 1), ('stream', 1), ('sweetness', 1), ('tagore', 1), ('take', 1), ('tale', 1), ('tears', 1), ('that', 3), ('the', 13), ('this', 1), ('time', 1), ('time:', 1), ('times', 1), ('to', 1), ('today', 1), ('together', 1), ('unending', 1), ('universal', 3), ('we', 1), ('wear', 1), ('what', 1), ('whenever', 1), ('with', 1), ('you', 6), ('your', 3), ('–', 1)]\n"
          ],
          "name": "stdout"
        }
      ]
    },
    {
      "cell_type": "code",
      "metadata": {
        "id": "HaAhYulMEpYZ"
      },
      "source": [
        "sorted?"
      ],
      "execution_count": null,
      "outputs": []
    },
    {
      "cell_type": "code",
      "metadata": {
        "id": "kuiv3F2-FANR",
        "colab": {
          "base_uri": "https://localhost:8080/"
        },
        "outputId": "0d95d65a-b242-4ac7-dda0-f08725db71b7"
      },
      "source": [
        "print(sorted(word_freq.items(), key=lambda item: item[0]))"
      ],
      "execution_count": null,
      "outputs": [
        {
          "output_type": "stream",
          "text": [
            "[('a', 2), ('after', 4), ('age', 5), ('all', 2), ('along', 1), ('an', 1), ('ancient', 1), ('and', 7), ('another', 1), ('apart', 1), ('as', 2), ('at', 2), ('become', 1), ('being', 1), ('both', 1), ('brings', 1), ('but', 1), ('by', 1), ('chronicles', 1), ('clad', 1), ('darkness', 1), ('days', 1), ('distressful', 1), ('emerge', 1), ('end', 2), ('every', 1), ('farewell', 1), ('feet', 1), ('floated', 1), ('for', 1), ('forever', 5), ('forever:', 1), ('forms', 2), ('found', 1), ('fount', 1), ('from', 1), ('gift', 1), ('has', 2), ('have', 3), ('heaped', 1), ('hear', 1), ('heart', 2), ('here', 1), ('i', 4), ('image', 1), ('in', 11), ('into', 1), ('is', 2), ('it', 2), ('its', 3), ('joy', 1), ('life', 5), ('light', 1), ('love', 6), ('loved', 1), ('lovers', 1), ('loves', 1), ('made', 1), ('many', 1), ('man’s', 1), ('meeting', 1), ('memories', 1), ('merging', 1), ('millions', 1), ('my', 1), ('neck', 1), ('necklace', 1), ('numberless', 2), ('of', 15), ('old', 3), ('on', 3), ('one', 2), ('or', 1), ('ours', 1), ('pain', 1), ('past', 3), ('piercing', 1), ('played', 1), ('poet', 1), ('pole', 1), ('rabindranath', 1), ('remade', 1), ('remembered', 1), ('renew', 2), ('round', 1), ('same', 2), ('seem', 1), ('shapes', 1), ('shared', 1), ('shy', 1), ('side', 1), ('songs', 2), ('sorrow', 1), ('spellbound', 1), ('star', 1), ('stare', 1), ('stream', 1), ('sweetness', 1), ('tagore', 1), ('take', 1), ('tale', 1), ('tears', 1), ('that', 3), ('the', 13), ('this', 1), ('time', 1), ('time:', 1), ('times', 1), ('to', 1), ('today', 1), ('together', 1), ('unending', 1), ('universal', 3), ('we', 1), ('wear', 1), ('what', 1), ('whenever', 1), ('with', 1), ('you', 6), ('your', 3), ('–', 1)]\n"
          ],
          "name": "stdout"
        }
      ]
    },
    {
      "cell_type": "code",
      "metadata": {
        "id": "7aw9UhRHFojy",
        "colab": {
          "base_uri": "https://localhost:8080/"
        },
        "outputId": "b8fad3af-d533-4241-e4b8-162ec50e47e7"
      },
      "source": [
        "print(sorted(word_freq.items(), key=lambda item: item[1]))"
      ],
      "execution_count": null,
      "outputs": [
        {
          "output_type": "stream",
          "text": [
            "[('unending', 1), ('by', 1), ('rabindranath', 1), ('tagore', 1), ('seem', 1), ('to', 1), ('loved', 1), ('times', 1), ('my', 1), ('spellbound', 1), ('made', 1), ('remade', 1), ('necklace', 1), ('take', 1), ('gift', 1), ('wear', 1), ('round', 1), ('neck', 1), ('many', 1), ('whenever', 1), ('hear', 1), ('chronicles', 1), ('pain', 1), ('ancient', 1), ('tale', 1), ('being', 1), ('apart', 1), ('or', 1), ('together', 1), ('stare', 1), ('into', 1), ('emerge', 1), ('clad', 1), ('light', 1), ('pole', 1), ('star', 1), ('piercing', 1), ('darkness', 1), ('time:', 1), ('become', 1), ('an', 1), ('image', 1), ('what', 1), ('remembered', 1), ('floated', 1), ('here', 1), ('stream', 1), ('brings', 1), ('from', 1), ('fount', 1), ('time', 1), ('for', 1), ('another', 1), ('we', 1), ('played', 1), ('along', 1), ('side', 1), ('millions', 1), ('lovers', 1), ('shared', 1), ('shy', 1), ('sweetness', 1), ('meeting', 1), ('distressful', 1), ('tears', 1), ('farewell', 1), ('but', 1), ('shapes', 1), ('today', 1), ('heaped', 1), ('feet', 1), ('found', 1), ('man’s', 1), ('days', 1), ('both', 1), ('forever:', 1), ('joy', 1), ('sorrow', 1), ('memories', 1), ('loves', 1), ('merging', 1), ('with', 1), ('this', 1), ('ours', 1), ('–', 1), ('every', 1), ('poet', 1), ('numberless', 2), ('forms', 2), ('heart', 2), ('has', 2), ('songs', 2), ('as', 2), ('a', 2), ('end', 2), ('is', 2), ('at', 2), ('one', 2), ('same', 2), ('renew', 2), ('it', 2), ('all', 2), ('have', 3), ('that', 3), ('your', 3), ('old', 3), ('its', 3), ('on', 3), ('past', 3), ('universal', 3), ('i', 4), ('after', 4), ('life', 5), ('age', 5), ('forever', 5), ('love', 6), ('you', 6), ('and', 7), ('in', 11), ('the', 13), ('of', 15)]\n"
          ],
          "name": "stdout"
        }
      ]
    },
    {
      "cell_type": "code",
      "metadata": {
        "id": "foImE_VrFsta"
      },
      "source": [
        "sorted_list = sorted(word_freq.items(), key=lambda item: item[1])"
      ],
      "execution_count": null,
      "outputs": []
    },
    {
      "cell_type": "code",
      "metadata": {
        "id": "7oqy63rvGAke",
        "colab": {
          "base_uri": "https://localhost:8080/"
        },
        "outputId": "5eae4c3c-745e-4e26-8cc7-4da01a8073dd"
      },
      "source": [
        "sorted_list[-10:]"
      ],
      "execution_count": null,
      "outputs": [
        {
          "output_type": "execute_result",
          "data": {
            "text/plain": [
              "[('after', 4),\n",
              " ('life', 5),\n",
              " ('age', 5),\n",
              " ('forever', 5),\n",
              " ('love', 6),\n",
              " ('you', 6),\n",
              " ('and', 7),\n",
              " ('in', 11),\n",
              " ('the', 13),\n",
              " ('of', 15)]"
            ]
          },
          "metadata": {
            "tags": []
          },
          "execution_count": 169
        }
      ]
    },
    {
      "cell_type": "code",
      "metadata": {
        "id": "4z4WulHjGFwf"
      },
      "source": [
        "with open('most_common_words.txt', 'w') as f_out:\n",
        "    for item in sorted_list[-10:]:\n",
        "        f_out.write(item[0] + \"\\n\")"
      ],
      "execution_count": null,
      "outputs": []
    },
    {
      "cell_type": "markdown",
      "metadata": {
        "id": "S2kJONpeHgVP"
      },
      "source": [
        "# Problem 3"
      ]
    },
    {
      "cell_type": "markdown",
      "metadata": {
        "id": "71iwXvGrHhml"
      },
      "source": [
        "unending love by rabindranath tagore -> (unending, love), (love, by), (by, rabindranath), (rabindranath, tagore)"
      ]
    },
    {
      "cell_type": "code",
      "metadata": {
        "id": "pf85UCnsGgYT",
        "colab": {
          "base_uri": "https://localhost:8080/"
        },
        "outputId": "daacb22f-ee95-4e50-9d86-f33861ad568e"
      },
      "source": [
        "print(words)"
      ],
      "execution_count": null,
      "outputs": [
        {
          "output_type": "stream",
          "text": [
            "['unending', 'love', 'by', 'rabindranath', 'tagore', 'i', 'seem', 'to', 'have', 'loved', 'you', 'in', 'numberless', 'forms', 'numberless', 'times', 'in', 'life', 'after', 'life', 'in', 'age', 'after', 'age', 'forever', 'my', 'spellbound', 'heart', 'has', 'made', 'and', 'remade', 'the', 'necklace', 'of', 'songs', 'that', 'you', 'take', 'as', 'a', 'gift', 'wear', 'round', 'your', 'neck', 'in', 'your', 'many', 'forms', 'in', 'life', 'after', 'life', 'in', 'age', 'after', 'age', 'forever', 'whenever', 'i', 'hear', 'old', 'chronicles', 'of', 'love', 'its', 'age', 'old', 'pain', 'its', 'ancient', 'tale', 'of', 'being', 'apart', 'or', 'together', 'as', 'i', 'stare', 'on', 'and', 'on', 'into', 'the', 'past', 'in', 'the', 'end', 'you', 'emerge', 'clad', 'in', 'the', 'light', 'of', 'a', 'pole', 'star', 'piercing', 'the', 'darkness', 'of', 'time:', 'you', 'become', 'an', 'image', 'of', 'what', 'is', 'remembered', 'forever', 'you', 'and', 'i', 'have', 'floated', 'here', 'on', 'the', 'stream', 'that', 'brings', 'from', 'the', 'fount', 'at', 'the', 'heart', 'of', 'time', 'love', 'of', 'one', 'for', 'another', 'we', 'have', 'played', 'along', 'side', 'millions', 'of', 'lovers', 'shared', 'in', 'the', 'same', 'shy', 'sweetness', 'of', 'meeting', 'the', 'same', 'distressful', 'tears', 'of', 'farewell', 'old', 'love', 'but', 'in', 'shapes', 'that', 'renew', 'and', 'renew', 'forever', 'today', 'it', 'is', 'heaped', 'at', 'your', 'feet', 'it', 'has', 'found', 'its', 'end', 'in', 'you', 'the', 'love', 'of', 'all', 'man’s', 'days', 'both', 'past', 'and', 'forever:', 'universal', 'joy', 'universal', 'sorrow', 'universal', 'life', 'the', 'memories', 'of', 'all', 'loves', 'merging', 'with', 'this', 'one', 'love', 'of', 'ours', '–', 'and', 'the', 'songs', 'of', 'every', 'poet', 'past', 'and', 'forever']\n"
          ],
          "name": "stdout"
        }
      ]
    },
    {
      "cell_type": "code",
      "metadata": {
        "id": "3wX3SCHdH_-7"
      },
      "source": [
        "two_grams_zip = zip(words, words[1:])"
      ],
      "execution_count": null,
      "outputs": []
    },
    {
      "cell_type": "code",
      "metadata": {
        "id": "6100-JspIODM",
        "colab": {
          "base_uri": "https://localhost:8080/"
        },
        "outputId": "5f3fe81b-ce85-4b0d-dd3d-6fe9d15b1906"
      },
      "source": [
        "for item in two_grams_zip:\n",
        "    print(item)"
      ],
      "execution_count": null,
      "outputs": [
        {
          "output_type": "stream",
          "text": [
            "('unending', 'love')\n",
            "('love', 'by')\n",
            "('by', 'rabindranath')\n",
            "('rabindranath', 'tagore')\n",
            "('tagore', 'i')\n",
            "('i', 'seem')\n",
            "('seem', 'to')\n",
            "('to', 'have')\n",
            "('have', 'loved')\n",
            "('loved', 'you')\n",
            "('you', 'in')\n",
            "('in', 'numberless')\n",
            "('numberless', 'forms')\n",
            "('forms', 'numberless')\n",
            "('numberless', 'times')\n",
            "('times', 'in')\n",
            "('in', 'life')\n",
            "('life', 'after')\n",
            "('after', 'life')\n",
            "('life', 'in')\n",
            "('in', 'age')\n",
            "('age', 'after')\n",
            "('after', 'age')\n",
            "('age', 'forever')\n",
            "('forever', 'my')\n",
            "('my', 'spellbound')\n",
            "('spellbound', 'heart')\n",
            "('heart', 'has')\n",
            "('has', 'made')\n",
            "('made', 'and')\n",
            "('and', 'remade')\n",
            "('remade', 'the')\n",
            "('the', 'necklace')\n",
            "('necklace', 'of')\n",
            "('of', 'songs')\n",
            "('songs', 'that')\n",
            "('that', 'you')\n",
            "('you', 'take')\n",
            "('take', 'as')\n",
            "('as', 'a')\n",
            "('a', 'gift')\n",
            "('gift', 'wear')\n",
            "('wear', 'round')\n",
            "('round', 'your')\n",
            "('your', 'neck')\n",
            "('neck', 'in')\n",
            "('in', 'your')\n",
            "('your', 'many')\n",
            "('many', 'forms')\n",
            "('forms', 'in')\n",
            "('in', 'life')\n",
            "('life', 'after')\n",
            "('after', 'life')\n",
            "('life', 'in')\n",
            "('in', 'age')\n",
            "('age', 'after')\n",
            "('after', 'age')\n",
            "('age', 'forever')\n",
            "('forever', 'whenever')\n",
            "('whenever', 'i')\n",
            "('i', 'hear')\n",
            "('hear', 'old')\n",
            "('old', 'chronicles')\n",
            "('chronicles', 'of')\n",
            "('of', 'love')\n",
            "('love', 'its')\n",
            "('its', 'age')\n",
            "('age', 'old')\n",
            "('old', 'pain')\n",
            "('pain', 'its')\n",
            "('its', 'ancient')\n",
            "('ancient', 'tale')\n",
            "('tale', 'of')\n",
            "('of', 'being')\n",
            "('being', 'apart')\n",
            "('apart', 'or')\n",
            "('or', 'together')\n",
            "('together', 'as')\n",
            "('as', 'i')\n",
            "('i', 'stare')\n",
            "('stare', 'on')\n",
            "('on', 'and')\n",
            "('and', 'on')\n",
            "('on', 'into')\n",
            "('into', 'the')\n",
            "('the', 'past')\n",
            "('past', 'in')\n",
            "('in', 'the')\n",
            "('the', 'end')\n",
            "('end', 'you')\n",
            "('you', 'emerge')\n",
            "('emerge', 'clad')\n",
            "('clad', 'in')\n",
            "('in', 'the')\n",
            "('the', 'light')\n",
            "('light', 'of')\n",
            "('of', 'a')\n",
            "('a', 'pole')\n",
            "('pole', 'star')\n",
            "('star', 'piercing')\n",
            "('piercing', 'the')\n",
            "('the', 'darkness')\n",
            "('darkness', 'of')\n",
            "('of', 'time:')\n",
            "('time:', 'you')\n",
            "('you', 'become')\n",
            "('become', 'an')\n",
            "('an', 'image')\n",
            "('image', 'of')\n",
            "('of', 'what')\n",
            "('what', 'is')\n",
            "('is', 'remembered')\n",
            "('remembered', 'forever')\n",
            "('forever', 'you')\n",
            "('you', 'and')\n",
            "('and', 'i')\n",
            "('i', 'have')\n",
            "('have', 'floated')\n",
            "('floated', 'here')\n",
            "('here', 'on')\n",
            "('on', 'the')\n",
            "('the', 'stream')\n",
            "('stream', 'that')\n",
            "('that', 'brings')\n",
            "('brings', 'from')\n",
            "('from', 'the')\n",
            "('the', 'fount')\n",
            "('fount', 'at')\n",
            "('at', 'the')\n",
            "('the', 'heart')\n",
            "('heart', 'of')\n",
            "('of', 'time')\n",
            "('time', 'love')\n",
            "('love', 'of')\n",
            "('of', 'one')\n",
            "('one', 'for')\n",
            "('for', 'another')\n",
            "('another', 'we')\n",
            "('we', 'have')\n",
            "('have', 'played')\n",
            "('played', 'along')\n",
            "('along', 'side')\n",
            "('side', 'millions')\n",
            "('millions', 'of')\n",
            "('of', 'lovers')\n",
            "('lovers', 'shared')\n",
            "('shared', 'in')\n",
            "('in', 'the')\n",
            "('the', 'same')\n",
            "('same', 'shy')\n",
            "('shy', 'sweetness')\n",
            "('sweetness', 'of')\n",
            "('of', 'meeting')\n",
            "('meeting', 'the')\n",
            "('the', 'same')\n",
            "('same', 'distressful')\n",
            "('distressful', 'tears')\n",
            "('tears', 'of')\n",
            "('of', 'farewell')\n",
            "('farewell', 'old')\n",
            "('old', 'love')\n",
            "('love', 'but')\n",
            "('but', 'in')\n",
            "('in', 'shapes')\n",
            "('shapes', 'that')\n",
            "('that', 'renew')\n",
            "('renew', 'and')\n",
            "('and', 'renew')\n",
            "('renew', 'forever')\n",
            "('forever', 'today')\n",
            "('today', 'it')\n",
            "('it', 'is')\n",
            "('is', 'heaped')\n",
            "('heaped', 'at')\n",
            "('at', 'your')\n",
            "('your', 'feet')\n",
            "('feet', 'it')\n",
            "('it', 'has')\n",
            "('has', 'found')\n",
            "('found', 'its')\n",
            "('its', 'end')\n",
            "('end', 'in')\n",
            "('in', 'you')\n",
            "('you', 'the')\n",
            "('the', 'love')\n",
            "('love', 'of')\n",
            "('of', 'all')\n",
            "('all', 'man’s')\n",
            "('man’s', 'days')\n",
            "('days', 'both')\n",
            "('both', 'past')\n",
            "('past', 'and')\n",
            "('and', 'forever:')\n",
            "('forever:', 'universal')\n",
            "('universal', 'joy')\n",
            "('joy', 'universal')\n",
            "('universal', 'sorrow')\n",
            "('sorrow', 'universal')\n",
            "('universal', 'life')\n",
            "('life', 'the')\n",
            "('the', 'memories')\n",
            "('memories', 'of')\n",
            "('of', 'all')\n",
            "('all', 'loves')\n",
            "('loves', 'merging')\n",
            "('merging', 'with')\n",
            "('with', 'this')\n",
            "('this', 'one')\n",
            "('one', 'love')\n",
            "('love', 'of')\n",
            "('of', 'ours')\n",
            "('ours', '–')\n",
            "('–', 'and')\n",
            "('and', 'the')\n",
            "('the', 'songs')\n",
            "('songs', 'of')\n",
            "('of', 'every')\n",
            "('every', 'poet')\n",
            "('poet', 'past')\n",
            "('past', 'and')\n",
            "('and', 'forever')\n"
          ],
          "name": "stdout"
        }
      ]
    },
    {
      "cell_type": "code",
      "metadata": {
        "id": "H9aCg9meIQmv"
      },
      "source": [
        "two_grams = [item for item in two_grams_zip]"
      ],
      "execution_count": null,
      "outputs": []
    },
    {
      "cell_type": "code",
      "metadata": {
        "id": "qOrPHvltIqNs",
        "colab": {
          "base_uri": "https://localhost:8080/"
        },
        "outputId": "56c07d04-54ae-4cf3-c35a-938b64fcc8e7"
      },
      "source": [
        "print(two_grams)"
      ],
      "execution_count": null,
      "outputs": [
        {
          "output_type": "stream",
          "text": [
            "[]\n"
          ],
          "name": "stdout"
        }
      ]
    },
    {
      "cell_type": "code",
      "metadata": {
        "id": "7Z0i6abtIr4q"
      },
      "source": [
        "def iterable_counter (iter_obj):\n",
        "    count_dict = {}\n",
        "    for item in iter_obj:\n",
        "        if item in count_dict:\n",
        "            count_dict[item] += 1\n",
        "        else:\n",
        "            count_dict[item] = 1\n",
        "    return count_dict"
      ],
      "execution_count": null,
      "outputs": []
    },
    {
      "cell_type": "code",
      "metadata": {
        "id": "35ja23D4JLb6"
      },
      "source": [
        "two_grams_freq = iterable_counter(two_grams)"
      ],
      "execution_count": null,
      "outputs": []
    },
    {
      "cell_type": "code",
      "metadata": {
        "id": "-kSbhrxbJddB",
        "colab": {
          "base_uri": "https://localhost:8080/"
        },
        "outputId": "d86d78d5-e8df-43f6-8a5d-a2a1392ab051"
      },
      "source": [
        "print(two_grams_freq)"
      ],
      "execution_count": null,
      "outputs": [
        {
          "output_type": "stream",
          "text": [
            "{}\n"
          ],
          "name": "stdout"
        }
      ]
    },
    {
      "cell_type": "code",
      "metadata": {
        "id": "dV8v889pJepV"
      },
      "source": [
        "sorted_list = sorted(two_grams_freq.items(), key=lambda item: item[1])"
      ],
      "execution_count": null,
      "outputs": []
    },
    {
      "cell_type": "code",
      "metadata": {
        "id": "V9yiPzC6JuOd",
        "colab": {
          "base_uri": "https://localhost:8080/"
        },
        "outputId": "0dd9f78b-f506-416e-8332-89105bd44e92"
      },
      "source": [
        "print(two_grams_freq.items())"
      ],
      "execution_count": null,
      "outputs": [
        {
          "output_type": "stream",
          "text": [
            "dict_items([])\n"
          ],
          "name": "stdout"
        }
      ]
    },
    {
      "cell_type": "code",
      "metadata": {
        "id": "scZllfa6JwIL"
      },
      "source": [
        "sorted_list = sorted(two_grams_freq.items(), key=lambda item: item[1])"
      ],
      "execution_count": null,
      "outputs": []
    },
    {
      "cell_type": "code",
      "metadata": {
        "id": "aYRFgGtFJ9E2",
        "colab": {
          "base_uri": "https://localhost:8080/"
        },
        "outputId": "91c4d82f-5787-4de5-8e1f-e466901b68bb"
      },
      "source": [
        "print(sorted_list)"
      ],
      "execution_count": null,
      "outputs": [
        {
          "output_type": "stream",
          "text": [
            "[]\n"
          ],
          "name": "stdout"
        }
      ]
    },
    {
      "cell_type": "code",
      "metadata": {
        "id": "KS1ZLULlJ_nz",
        "colab": {
          "base_uri": "https://localhost:8080/"
        },
        "outputId": "eaf3d466-75b3-43f4-d8fd-8abfa65c0d51"
      },
      "source": [
        "sorted_list[-5:]"
      ],
      "execution_count": null,
      "outputs": [
        {
          "output_type": "execute_result",
          "data": {
            "text/plain": [
              "[]"
            ]
          },
          "metadata": {
            "tags": []
          },
          "execution_count": 183
        }
      ]
    },
    {
      "cell_type": "code",
      "metadata": {
        "id": "uDiuzTGQKO0o"
      },
      "source": [
        "with open(\"common_two_grams.txt\", \"w\") as f_out:\n",
        "    for item in sorted_list[-5:]:\n",
        "        # print(item[0][0] + \" \" + item[0][1] + \"\\n\")\n",
        "        f_out.write(item[0][0] + \" \" + item[0][1] + \"\\n\")"
      ],
      "execution_count": null,
      "outputs": []
    },
    {
      "cell_type": "code",
      "metadata": {
        "id": "LnEqUlKlKeEn"
      },
      "source": [],
      "execution_count": null,
      "outputs": []
    }
  ]
}