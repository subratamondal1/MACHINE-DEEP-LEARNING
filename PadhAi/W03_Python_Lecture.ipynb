{
  "nbformat": 4,
  "nbformat_minor": 0,
  "metadata": {
    "colab": {
      "name": "W03-Python_Lecture.ipynb",
      "provenance": []
    },
    "kernelspec": {
      "display_name": "Python 3",
      "language": "python",
      "name": "python3"
    },
    "language_info": {
      "codemirror_mode": {
        "name": "ipython",
        "version": 3
      },
      "file_extension": ".py",
      "mimetype": "text/x-python",
      "name": "python",
      "nbconvert_exporter": "python",
      "pygments_lexer": "ipython3",
      "version": "3.7.4"
    }
  },
  "cells": [
    {
      "cell_type": "markdown",
      "metadata": {
        "id": "tx8NgQcmxdep"
      },
      "source": [
        "<img src=\"https://i.imgur.com/nTOFzVI.png\" alt=\"drawing\" width=\"400\"/>\n",
        "\n",
        "# by One Fourth Labs\n",
        "\n",
        "\n",
        "For more reading or to go indepth refer official reference of python language https://docs.python.org/3/reference/"
      ]
    },
    {
      "cell_type": "markdown",
      "metadata": {
        "id": "sUyztms6tpcD"
      },
      "source": [
        "# Printing basic types"
      ]
    },
    {
      "cell_type": "code",
      "metadata": {
        "colab": {
          "base_uri": "https://localhost:8080/"
        },
        "id": "yX_3K6mhpsUz",
        "outputId": "5801992f-9543-47e0-fb57-01a4b2696b9c"
      },
      "source": [
        "print(\"Hello World!\") "
      ],
      "execution_count": 1,
      "outputs": [
        {
          "output_type": "stream",
          "text": [
            "Hello World!\n"
          ],
          "name": "stdout"
        }
      ]
    },
    {
      "cell_type": "code",
      "metadata": {
        "colab": {
          "base_uri": "https://localhost:8080/"
        },
        "id": "ebQrE1xUrB7r",
        "outputId": "95e46478-7b8a-4a0f-f448-d2a323b5f912"
      },
      "source": [
        "print(\"Hello World!\")\n",
        "print(\"Namaskar from PadhAI\")"
      ],
      "execution_count": 2,
      "outputs": [
        {
          "output_type": "stream",
          "text": [
            "Hello World!\n",
            "Namaskar from PadhAI\n"
          ],
          "name": "stdout"
        }
      ]
    },
    {
      "cell_type": "code",
      "metadata": {
        "colab": {
          "base_uri": "https://localhost:8080/"
        },
        "id": "d-0uh16VrU18",
        "outputId": "b2d64a14-4b4a-4c3e-8147-a87b2db0454b"
      },
      "source": [
        "print(\"PadhAI\")\n",
        "print(\"Padh\" + \"AI\")"
      ],
      "execution_count": 3,
      "outputs": [
        {
          "output_type": "stream",
          "text": [
            "PadhAI\n",
            "PadhAI\n"
          ],
          "name": "stdout"
        }
      ]
    },
    {
      "cell_type": "code",
      "metadata": {
        "colab": {
          "base_uri": "https://localhost:8080/"
        },
        "id": "NFwPM84vroro",
        "outputId": "d2b9e2d5-b750-47e6-f39f-81996370d5c3"
      },
      "source": [
        "print(1729)"
      ],
      "execution_count": 4,
      "outputs": [
        {
          "output_type": "stream",
          "text": [
            "1729\n"
          ],
          "name": "stdout"
        }
      ]
    },
    {
      "cell_type": "code",
      "metadata": {
        "colab": {
          "base_uri": "https://localhost:8080/"
        },
        "id": "iSzHtkXdru_7",
        "outputId": "d16b6f4f-74fa-46dc-a53b-f56172edf3e5"
      },
      "source": [
        "print(1000 + 729)  # Check this with Ramanujan's entry"
      ],
      "execution_count": 5,
      "outputs": [
        {
          "output_type": "stream",
          "text": [
            "1729\n"
          ],
          "name": "stdout"
        }
      ]
    },
    {
      "cell_type": "code",
      "metadata": {
        "colab": {
          "base_uri": "https://localhost:8080/"
        },
        "id": "Nigrs1Ier1lS",
        "outputId": "bf6c1dc3-7705-41b3-eb42-2169169187b2"
      },
      "source": [
        "print(55/34)   # check golden ratio"
      ],
      "execution_count": 6,
      "outputs": [
        {
          "output_type": "stream",
          "text": [
            "1.6176470588235294\n"
          ],
          "name": "stdout"
        }
      ]
    },
    {
      "cell_type": "code",
      "metadata": {
        "colab": {
          "base_uri": "https://localhost:8080/"
        },
        "id": "gI7cE04wsHCJ",
        "outputId": "7d3c0cf9-d3ac-41d7-c20a-4ecd914a1b80"
      },
      "source": [
        "print(1.618)"
      ],
      "execution_count": 7,
      "outputs": [
        {
          "output_type": "stream",
          "text": [
            "1.618\n"
          ],
          "name": "stdout"
        }
      ]
    },
    {
      "cell_type": "code",
      "metadata": {
        "colab": {
          "base_uri": "https://localhost:8080/"
        },
        "id": "bIv5yRd-sTHl",
        "outputId": "08f30fcf-6c5e-4995-ca5f-4ef6dac9c70f"
      },
      "source": [
        "print(True)"
      ],
      "execution_count": 8,
      "outputs": [
        {
          "output_type": "stream",
          "text": [
            "True\n"
          ],
          "name": "stdout"
        }
      ]
    },
    {
      "cell_type": "code",
      "metadata": {
        "colab": {
          "base_uri": "https://localhost:8080/"
        },
        "id": "TPAlPpqGsYgh",
        "outputId": "6fa8cf15-688b-4dd9-8b9f-572aa605722d"
      },
      "source": [
        "print(False)"
      ],
      "execution_count": 9,
      "outputs": [
        {
          "output_type": "stream",
          "text": [
            "False\n"
          ],
          "name": "stdout"
        }
      ]
    },
    {
      "cell_type": "code",
      "metadata": {
        "colab": {
          "base_uri": "https://localhost:8080/"
        },
        "id": "ctslkzuVsc3Z",
        "outputId": "a1de70a3-5f80-4e90-b04b-8ebfe74127ac"
      },
      "source": [
        "print(True or False)"
      ],
      "execution_count": 10,
      "outputs": [
        {
          "output_type": "stream",
          "text": [
            "True\n"
          ],
          "name": "stdout"
        }
      ]
    },
    {
      "cell_type": "code",
      "metadata": {
        "colab": {
          "base_uri": "https://localhost:8080/"
        },
        "id": "NuF8mDv_siHE",
        "outputId": "d586a3cd-abbc-41b5-a88d-1d7b0f7a6355"
      },
      "source": [
        "print(True and False)"
      ],
      "execution_count": 11,
      "outputs": [
        {
          "output_type": "stream",
          "text": [
            "False\n"
          ],
          "name": "stdout"
        }
      ]
    },
    {
      "cell_type": "markdown",
      "metadata": {
        "id": "4WJiz_vktZMF"
      },
      "source": [
        "# Variables and inputs"
      ]
    },
    {
      "cell_type": "code",
      "metadata": {
        "id": "UcbojZjmsmGp"
      },
      "source": [
        "school = \"PadhAI\""
      ],
      "execution_count": 12,
      "outputs": []
    },
    {
      "cell_type": "code",
      "metadata": {
        "colab": {
          "base_uri": "https://localhost:8080/"
        },
        "id": "NSgQPqpPt4vA",
        "outputId": "8618515d-7bd0-43a8-94e0-c3f05a426791"
      },
      "source": [
        "print(school)"
      ],
      "execution_count": 13,
      "outputs": [
        {
          "output_type": "stream",
          "text": [
            "PadhAI\n"
          ],
          "name": "stdout"
        }
      ]
    },
    {
      "cell_type": "code",
      "metadata": {
        "colab": {
          "base_uri": "https://localhost:8080/"
        },
        "id": "NFtctHOzt7lO",
        "outputId": "e39893fd-497a-4440-d351-59fab694c8ef"
      },
      "source": [
        "print(type(school))"
      ],
      "execution_count": 14,
      "outputs": [
        {
          "output_type": "stream",
          "text": [
            "<class 'str'>\n"
          ],
          "name": "stdout"
        }
      ]
    },
    {
      "cell_type": "code",
      "metadata": {
        "colab": {
          "base_uri": "https://localhost:8080/"
        },
        "id": "7wm8fQ5dt_nR",
        "outputId": "8f91c24d-6dc3-4d84-bf47-c7f805b7d494"
      },
      "source": [
        "print(id(school))"
      ],
      "execution_count": 15,
      "outputs": [
        {
          "output_type": "stream",
          "text": [
            "139983276442320\n"
          ],
          "name": "stdout"
        }
      ]
    },
    {
      "cell_type": "code",
      "metadata": {
        "id": "dqgEvnXHuHEq"
      },
      "source": [
        "another_school = \"PadhAI\""
      ],
      "execution_count": 16,
      "outputs": []
    },
    {
      "cell_type": "code",
      "metadata": {
        "colab": {
          "base_uri": "https://localhost:8080/"
        },
        "id": "wmTl3W8tuTlU",
        "outputId": "5904933f-fa27-4c32-e083-a755ecbd7a22"
      },
      "source": [
        "print(another_school)"
      ],
      "execution_count": 17,
      "outputs": [
        {
          "output_type": "stream",
          "text": [
            "PadhAI\n"
          ],
          "name": "stdout"
        }
      ]
    },
    {
      "cell_type": "code",
      "metadata": {
        "colab": {
          "base_uri": "https://localhost:8080/"
        },
        "id": "BVREq21muYv-",
        "outputId": "c839aa8d-4935-4f98-f5c5-2ecffd4b42fe"
      },
      "source": [
        "print(id(another_school))"
      ],
      "execution_count": 18,
      "outputs": [
        {
          "output_type": "stream",
          "text": [
            "139983276442320\n"
          ],
          "name": "stdout"
        }
      ]
    },
    {
      "cell_type": "code",
      "metadata": {
        "id": "8EyzeS2Oubwk"
      },
      "source": [
        "another_school = \"IIT Madras\""
      ],
      "execution_count": 19,
      "outputs": []
    },
    {
      "cell_type": "code",
      "metadata": {
        "colab": {
          "base_uri": "https://localhost:8080/"
        },
        "id": "WyzPSGF4uk1d",
        "outputId": "122d6b0a-361c-44c2-870c-9438d4af786f"
      },
      "source": [
        "print(id(another_school))"
      ],
      "execution_count": 20,
      "outputs": [
        {
          "output_type": "stream",
          "text": [
            "139983267566064\n"
          ],
          "name": "stdout"
        }
      ]
    },
    {
      "cell_type": "code",
      "metadata": {
        "colab": {
          "base_uri": "https://localhost:8080/"
        },
        "id": "DG2pce6_uneL",
        "outputId": "46482a5c-9a5e-4cd2-f972-5eb60061bce2"
      },
      "source": [
        "print(\"I am studying at \" + school)"
      ],
      "execution_count": 21,
      "outputs": [
        {
          "output_type": "stream",
          "text": [
            "I am studying at PadhAI\n"
          ],
          "name": "stdout"
        }
      ]
    },
    {
      "cell_type": "code",
      "metadata": {
        "id": "Lg6fOrA5u-QB"
      },
      "source": [
        "r_no = 1729"
      ],
      "execution_count": 22,
      "outputs": []
    },
    {
      "cell_type": "code",
      "metadata": {
        "colab": {
          "base_uri": "https://localhost:8080/"
        },
        "id": "cJ96EKjZvuZo",
        "outputId": "860c6e29-419e-49f5-dc52-04fea630ed2a"
      },
      "source": [
        "print(type(r_no))"
      ],
      "execution_count": 23,
      "outputs": [
        {
          "output_type": "stream",
          "text": [
            "<class 'int'>\n"
          ],
          "name": "stdout"
        }
      ]
    },
    {
      "cell_type": "code",
      "metadata": {
        "id": "TP7bcTq8vvhY"
      },
      "source": [
        "golden_ratio = 55/34"
      ],
      "execution_count": 24,
      "outputs": []
    },
    {
      "cell_type": "code",
      "metadata": {
        "colab": {
          "base_uri": "https://localhost:8080/"
        },
        "id": "QjwfykcjvyLc",
        "outputId": "9ffa2b28-f59b-4a0b-8437-0efc3c8c27d1"
      },
      "source": [
        "print(type(golden_ratio))"
      ],
      "execution_count": 25,
      "outputs": [
        {
          "output_type": "stream",
          "text": [
            "<class 'float'>\n"
          ],
          "name": "stdout"
        }
      ]
    },
    {
      "cell_type": "code",
      "metadata": {
        "id": "Ra-PK3V8v1w-"
      },
      "source": [
        "is_good = True"
      ],
      "execution_count": 26,
      "outputs": []
    },
    {
      "cell_type": "code",
      "metadata": {
        "colab": {
          "base_uri": "https://localhost:8080/"
        },
        "id": "-LCD5m4Lv6Lv",
        "outputId": "8b331ffe-eda8-4224-ec50-1a5e780527de"
      },
      "source": [
        "print(type(is_good))"
      ],
      "execution_count": 27,
      "outputs": [
        {
          "output_type": "stream",
          "text": [
            "<class 'bool'>\n"
          ],
          "name": "stdout"
        }
      ]
    },
    {
      "cell_type": "code",
      "metadata": {
        "colab": {
          "base_uri": "https://localhost:8080/"
        },
        "id": "-1uAGTdEv7f9",
        "outputId": "b95bcd06-93e6-4e49-8e63-b597d91616fb"
      },
      "source": [
        "my_name = input(\"What is your name \")"
      ],
      "execution_count": 28,
      "outputs": [
        {
          "output_type": "stream",
          "text": [
            "What is your name Tyson\n"
          ],
          "name": "stdout"
        }
      ]
    },
    {
      "cell_type": "code",
      "metadata": {
        "colab": {
          "base_uri": "https://localhost:8080/"
        },
        "id": "IGw52DcowH3y",
        "outputId": "3fbc3129-0bea-4a7d-9902-0b5e8b62e75c"
      },
      "source": [
        "print(my_name, type(my_name))"
      ],
      "execution_count": 29,
      "outputs": [
        {
          "output_type": "stream",
          "text": [
            "Tyson <class 'str'>\n"
          ],
          "name": "stdout"
        }
      ]
    },
    {
      "cell_type": "code",
      "metadata": {
        "colab": {
          "base_uri": "https://localhost:8080/"
        },
        "id": "NI7vOwvLwK99",
        "outputId": "996f366e-d678-448d-e03b-4cd119b0a3f4"
      },
      "source": [
        "print(my_name + \" is studying at \" + school)"
      ],
      "execution_count": 30,
      "outputs": [
        {
          "output_type": "stream",
          "text": [
            "Tyson is studying at PadhAI\n"
          ],
          "name": "stdout"
        }
      ]
    },
    {
      "cell_type": "code",
      "metadata": {
        "colab": {
          "base_uri": "https://localhost:8080/"
        },
        "id": "32bUlwlCwU87",
        "outputId": "9def6aea-f940-43f0-ffb5-33ac5803fb1a"
      },
      "source": [
        "hours_per_day = input(\"How many hours per day do you study \")"
      ],
      "execution_count": 31,
      "outputs": [
        {
          "output_type": "stream",
          "text": [
            "How many hours per day do you study 3\n"
          ],
          "name": "stdout"
        }
      ]
    },
    {
      "cell_type": "code",
      "metadata": {
        "colab": {
          "base_uri": "https://localhost:8080/"
        },
        "id": "PgBZ-fxEwgZ-",
        "outputId": "6855598a-1033-4627-8cf1-a471ba3b0666"
      },
      "source": [
        "print(my_name + \" studies for \" + hours_per_day + \" hours\")"
      ],
      "execution_count": 32,
      "outputs": [
        {
          "output_type": "stream",
          "text": [
            "Tyson studies for 3 hours\n"
          ],
          "name": "stdout"
        }
      ]
    },
    {
      "cell_type": "code",
      "metadata": {
        "id": "J7-LzoG8woEH"
      },
      "source": [
        "hours_per_week = hours_per_day * 7"
      ],
      "execution_count": 33,
      "outputs": []
    },
    {
      "cell_type": "code",
      "metadata": {
        "colab": {
          "base_uri": "https://localhost:8080/"
        },
        "id": "tqwculrBwyVz",
        "outputId": "ad62ffa2-a30a-4c9d-bb7e-2b64e8e9c772"
      },
      "source": [
        "print(my_name + \" studies for \" + hours_per_week + \" hours\")"
      ],
      "execution_count": 34,
      "outputs": [
        {
          "output_type": "stream",
          "text": [
            "Tyson studies for 3333333 hours\n"
          ],
          "name": "stdout"
        }
      ]
    },
    {
      "cell_type": "code",
      "metadata": {
        "colab": {
          "base_uri": "https://localhost:8080/"
        },
        "id": "24ATna0qw3Kt",
        "outputId": "f2d2e607-347e-45ad-81cb-32f1a1994ced"
      },
      "source": [
        "print(type(hours_per_day))"
      ],
      "execution_count": 35,
      "outputs": [
        {
          "output_type": "stream",
          "text": [
            "<class 'str'>\n"
          ],
          "name": "stdout"
        }
      ]
    },
    {
      "cell_type": "code",
      "metadata": {
        "id": "ImjjYdzew-pw"
      },
      "source": [
        "hours_per_day_int = float(hours_per_day)"
      ],
      "execution_count": 36,
      "outputs": []
    },
    {
      "cell_type": "code",
      "metadata": {
        "colab": {
          "base_uri": "https://localhost:8080/"
        },
        "id": "mUnbvCXTxJBO",
        "outputId": "09dfe238-aaab-4bfc-baea-1f67e2571c14"
      },
      "source": [
        "print(hours_per_day_int, type(hours_per_day_int))"
      ],
      "execution_count": 37,
      "outputs": [
        {
          "output_type": "stream",
          "text": [
            "3.0 <class 'float'>\n"
          ],
          "name": "stdout"
        }
      ]
    },
    {
      "cell_type": "code",
      "metadata": {
        "id": "cT61tZajxNjA"
      },
      "source": [
        "hours_per_week = hours_per_day_int * 7"
      ],
      "execution_count": 38,
      "outputs": []
    },
    {
      "cell_type": "code",
      "metadata": {
        "colab": {
          "base_uri": "https://localhost:8080/",
          "height": 167
        },
        "id": "mvju04oBxXnr",
        "outputId": "6d4cb7d3-5d91-4306-f5a8-25dffcd33ebd"
      },
      "source": [
        "print(my_name + \" studies for \" + hours_per_week + \" hours\")"
      ],
      "execution_count": 39,
      "outputs": [
        {
          "output_type": "error",
          "ename": "TypeError",
          "evalue": "ignored",
          "traceback": [
            "\u001b[0;31m---------------------------------------------------------------------------\u001b[0m",
            "\u001b[0;31mTypeError\u001b[0m                                 Traceback (most recent call last)",
            "\u001b[0;32m<ipython-input-39-b9e160afd4d9>\u001b[0m in \u001b[0;36m<module>\u001b[0;34m()\u001b[0m\n\u001b[0;32m----> 1\u001b[0;31m \u001b[0mprint\u001b[0m\u001b[0;34m(\u001b[0m\u001b[0mmy_name\u001b[0m \u001b[0;34m+\u001b[0m \u001b[0;34m\" studies for \"\u001b[0m \u001b[0;34m+\u001b[0m \u001b[0mhours_per_week\u001b[0m \u001b[0;34m+\u001b[0m \u001b[0;34m\" hours\"\u001b[0m\u001b[0;34m)\u001b[0m\u001b[0;34m\u001b[0m\u001b[0;34m\u001b[0m\u001b[0m\n\u001b[0m",
            "\u001b[0;31mTypeError\u001b[0m: must be str, not float"
          ]
        }
      ]
    },
    {
      "cell_type": "code",
      "metadata": {
        "colab": {
          "base_uri": "https://localhost:8080/"
        },
        "id": "uBBaJ5CRxZWX",
        "outputId": "689c29ef-bd22-4c84-d478-4b0243c191b2"
      },
      "source": [
        "print(my_name + \" studies for \" + str(hours_per_week) + \" hours\")"
      ],
      "execution_count": 40,
      "outputs": [
        {
          "output_type": "stream",
          "text": [
            "Tyson studies for 21.0 hours\n"
          ],
          "name": "stdout"
        }
      ]
    },
    {
      "cell_type": "markdown",
      "metadata": {
        "id": "xTZ4ZiuJzGjv"
      },
      "source": [
        "# String Processing"
      ]
    },
    {
      "cell_type": "code",
      "metadata": {
        "id": "1dVEAr70zBLC"
      },
      "source": [
        "topic = \"Foundations of Data Science\""
      ],
      "execution_count": 41,
      "outputs": []
    },
    {
      "cell_type": "code",
      "metadata": {
        "colab": {
          "base_uri": "https://localhost:8080/"
        },
        "id": "zmqU0UKzzL4k",
        "outputId": "5d15e286-3827-4959-e3ed-c53d7643fa37"
      },
      "source": [
        "print(topic)"
      ],
      "execution_count": 42,
      "outputs": [
        {
          "output_type": "stream",
          "text": [
            "Foundations of Data Science\n"
          ],
          "name": "stdout"
        }
      ]
    },
    {
      "cell_type": "code",
      "metadata": {
        "colab": {
          "base_uri": "https://localhost:8080/"
        },
        "id": "N4yxWuaNzNif",
        "outputId": "29866f70-7987-4662-9728-a66938cca2fb"
      },
      "source": [
        "print(topic[0])"
      ],
      "execution_count": 43,
      "outputs": [
        {
          "output_type": "stream",
          "text": [
            "F\n"
          ],
          "name": "stdout"
        }
      ]
    },
    {
      "cell_type": "code",
      "metadata": {
        "colab": {
          "base_uri": "https://localhost:8080/"
        },
        "id": "oAiJ_C8czWQT",
        "outputId": "47982083-0275-426b-ee66-8a0925edde60"
      },
      "source": [
        "print(topic[1])"
      ],
      "execution_count": 44,
      "outputs": [
        {
          "output_type": "stream",
          "text": [
            "o\n"
          ],
          "name": "stdout"
        }
      ]
    },
    {
      "cell_type": "code",
      "metadata": {
        "colab": {
          "base_uri": "https://localhost:8080/"
        },
        "id": "ub_UWR_ozYcb",
        "outputId": "9bd02684-8411-4908-f649-d2fd062d8735"
      },
      "source": [
        "print(topic[10])"
      ],
      "execution_count": 45,
      "outputs": [
        {
          "output_type": "stream",
          "text": [
            "s\n"
          ],
          "name": "stdout"
        }
      ]
    },
    {
      "cell_type": "code",
      "metadata": {
        "colab": {
          "base_uri": "https://localhost:8080/"
        },
        "id": "-Z0kkrcZzZ31",
        "outputId": "0de9ad93-90f6-4c67-f4d5-ff2f483c07dd"
      },
      "source": [
        "print(topic[-1])"
      ],
      "execution_count": 46,
      "outputs": [
        {
          "output_type": "stream",
          "text": [
            "e\n"
          ],
          "name": "stdout"
        }
      ]
    },
    {
      "cell_type": "code",
      "metadata": {
        "colab": {
          "base_uri": "https://localhost:8080/"
        },
        "id": "nuEUE7xBzeSH",
        "outputId": "c52e2087-d6cd-4517-d213-654cd1815eff"
      },
      "source": [
        "print(topic[-2])"
      ],
      "execution_count": 47,
      "outputs": [
        {
          "output_type": "stream",
          "text": [
            "c\n"
          ],
          "name": "stdout"
        }
      ]
    },
    {
      "cell_type": "code",
      "metadata": {
        "colab": {
          "base_uri": "https://localhost:8080/"
        },
        "id": "XkGAFvCSzhHm",
        "outputId": "8f4d4288-717b-45a3-9d0d-7cac3b8b8753"
      },
      "source": [
        "print(topic[0:10])"
      ],
      "execution_count": 48,
      "outputs": [
        {
          "output_type": "stream",
          "text": [
            "Foundation\n"
          ],
          "name": "stdout"
        }
      ]
    },
    {
      "cell_type": "code",
      "metadata": {
        "colab": {
          "base_uri": "https://localhost:8080/"
        },
        "id": "2EUhXtXqzmap",
        "outputId": "6b219018-df18-4edc-8b07-4bd88babff81"
      },
      "source": [
        "print(topic[12:16])"
      ],
      "execution_count": 49,
      "outputs": [
        {
          "output_type": "stream",
          "text": [
            "of D\n"
          ],
          "name": "stdout"
        }
      ]
    },
    {
      "cell_type": "code",
      "metadata": {
        "colab": {
          "base_uri": "https://localhost:8080/"
        },
        "id": "iBu-9hzGzy9z",
        "outputId": "607d5231-78b0-462a-fec5-11a92e0457e2"
      },
      "source": [
        "print(topic.lower())"
      ],
      "execution_count": 50,
      "outputs": [
        {
          "output_type": "stream",
          "text": [
            "foundations of data science\n"
          ],
          "name": "stdout"
        }
      ]
    },
    {
      "cell_type": "code",
      "metadata": {
        "colab": {
          "base_uri": "https://localhost:8080/"
        },
        "id": "x0lecon80AfR",
        "outputId": "e6631b87-028f-4e95-eef6-0e98c5dd26a6"
      },
      "source": [
        "print(topic)"
      ],
      "execution_count": 51,
      "outputs": [
        {
          "output_type": "stream",
          "text": [
            "Foundations of Data Science\n"
          ],
          "name": "stdout"
        }
      ]
    },
    {
      "cell_type": "code",
      "metadata": {
        "id": "BicYceS50JK5"
      },
      "source": [
        "topic = topic.lower()"
      ],
      "execution_count": 52,
      "outputs": []
    },
    {
      "cell_type": "code",
      "metadata": {
        "colab": {
          "base_uri": "https://localhost:8080/"
        },
        "id": "nZwCEJM20OwN",
        "outputId": "f12f534c-d2b9-49dc-f693-6b2e10d2befb"
      },
      "source": [
        "print(topic.upper())"
      ],
      "execution_count": 53,
      "outputs": [
        {
          "output_type": "stream",
          "text": [
            "FOUNDATIONS OF DATA SCIENCE\n"
          ],
          "name": "stdout"
        }
      ]
    },
    {
      "cell_type": "code",
      "metadata": {
        "colab": {
          "base_uri": "https://localhost:8080/"
        },
        "id": "N19c2C9U0TRt",
        "outputId": "27416c0f-d238-40ab-85e0-3143a14f454e"
      },
      "source": [
        "print(topic.islower())"
      ],
      "execution_count": 54,
      "outputs": [
        {
          "output_type": "stream",
          "text": [
            "True\n"
          ],
          "name": "stdout"
        }
      ]
    },
    {
      "cell_type": "code",
      "metadata": {
        "id": "UWGUYy2M0g7j"
      },
      "source": [
        "topic = topic.upper()"
      ],
      "execution_count": 55,
      "outputs": []
    },
    {
      "cell_type": "code",
      "metadata": {
        "colab": {
          "base_uri": "https://localhost:8080/"
        },
        "id": "2QG555oQ0mK2",
        "outputId": "b7e4b6a2-7893-4cf4-f1b8-b4892eb5ce60"
      },
      "source": [
        "print(topic.islower())"
      ],
      "execution_count": 56,
      "outputs": [
        {
          "output_type": "stream",
          "text": [
            "False\n"
          ],
          "name": "stdout"
        }
      ]
    },
    {
      "cell_type": "code",
      "metadata": {
        "colab": {
          "base_uri": "https://localhost:8080/"
        },
        "id": "2kN-ulZE0nC2",
        "outputId": "31cec461-412a-4681-c0ff-7d47995cbdd5"
      },
      "source": [
        "print(topic.isupper())"
      ],
      "execution_count": 57,
      "outputs": [
        {
          "output_type": "stream",
          "text": [
            "True\n"
          ],
          "name": "stdout"
        }
      ]
    },
    {
      "cell_type": "code",
      "metadata": {
        "colab": {
          "base_uri": "https://localhost:8080/"
        },
        "id": "-AZIyOr-0oos",
        "outputId": "fffb29cb-b50d-4dbc-8971-1b715ea97131"
      },
      "source": [
        "print(topic.find(\"DATA\"))"
      ],
      "execution_count": 58,
      "outputs": [
        {
          "output_type": "stream",
          "text": [
            "15\n"
          ],
          "name": "stdout"
        }
      ]
    },
    {
      "cell_type": "code",
      "metadata": {
        "colab": {
          "base_uri": "https://localhost:8080/"
        },
        "id": "MCNc5uc_0xvi",
        "outputId": "af5d4e8b-419b-4ee6-a094-1f17730c6ba0"
      },
      "source": [
        "print(topic[15])"
      ],
      "execution_count": 59,
      "outputs": [
        {
          "output_type": "stream",
          "text": [
            "D\n"
          ],
          "name": "stdout"
        }
      ]
    },
    {
      "cell_type": "code",
      "metadata": {
        "colab": {
          "base_uri": "https://localhost:8080/"
        },
        "id": "wgLpgUlk01pv",
        "outputId": "c09b4811-d188-4316-b8a5-e57d3558c56c"
      },
      "source": [
        "print(topic.find(\"AI\"))"
      ],
      "execution_count": 60,
      "outputs": [
        {
          "output_type": "stream",
          "text": [
            "-1\n"
          ],
          "name": "stdout"
        }
      ]
    },
    {
      "cell_type": "code",
      "metadata": {
        "colab": {
          "base_uri": "https://localhost:8080/"
        },
        "id": "zRaPGweO087Z",
        "outputId": "1700f4c9-1d8c-4a6c-94d9-86add59cffb3"
      },
      "source": [
        "print(topic.replace(\"SCIENCE\", \"ENGINEERING\"))"
      ],
      "execution_count": 61,
      "outputs": [
        {
          "output_type": "stream",
          "text": [
            "FOUNDATIONS OF DATA ENGINEERING\n"
          ],
          "name": "stdout"
        }
      ]
    },
    {
      "cell_type": "code",
      "metadata": {
        "colab": {
          "base_uri": "https://localhost:8080/"
        },
        "id": "b4ttlSAB1Fd8",
        "outputId": "0512d802-11fd-49c1-b74d-653e1d7b9f55"
      },
      "source": [
        "print(55/34)"
      ],
      "execution_count": 62,
      "outputs": [
        {
          "output_type": "stream",
          "text": [
            "1.6176470588235294\n"
          ],
          "name": "stdout"
        }
      ]
    },
    {
      "cell_type": "code",
      "metadata": {
        "id": "-obVCuMD1jhD"
      },
      "source": [
        "golden_ratio = 55/34"
      ],
      "execution_count": 63,
      "outputs": []
    },
    {
      "cell_type": "code",
      "metadata": {
        "colab": {
          "base_uri": "https://localhost:8080/"
        },
        "id": "CIquAsjh1mGQ",
        "outputId": "a53a1173-d7fd-4c2f-ef05-b72a82bc7257"
      },
      "source": [
        "print(type(golden_ratio))"
      ],
      "execution_count": 64,
      "outputs": [
        {
          "output_type": "stream",
          "text": [
            "<class 'float'>\n"
          ],
          "name": "stdout"
        }
      ]
    },
    {
      "cell_type": "code",
      "metadata": {
        "colab": {
          "base_uri": "https://localhost:8080/"
        },
        "id": "SrtEoOGl1nc8",
        "outputId": "e9199b31-0672-4f89-f42e-4ca5a2bea8e5"
      },
      "source": [
        "print(golden_ratio.is_integer())"
      ],
      "execution_count": 65,
      "outputs": [
        {
          "output_type": "stream",
          "text": [
            "False\n"
          ],
          "name": "stdout"
        }
      ]
    },
    {
      "cell_type": "code",
      "metadata": {
        "colab": {
          "base_uri": "https://localhost:8080/"
        },
        "id": "1V8GHcEE1saH",
        "outputId": "98a76660-1749-437b-9688-d393f0e9a78f"
      },
      "source": [
        "print(golden_ratio.as_integer_ratio())"
      ],
      "execution_count": 66,
      "outputs": [
        {
          "output_type": "stream",
          "text": [
            "(3642617345667313, 2251799813685248)\n"
          ],
          "name": "stdout"
        }
      ]
    },
    {
      "cell_type": "code",
      "metadata": {
        "colab": {
          "base_uri": "https://localhost:8080/"
        },
        "id": "CtxuVqWx1zKJ",
        "outputId": "6e1d32fa-6bfe-4951-b641-6b8c04378ede"
      },
      "source": [
        "print(3642617345667313/2251799813685248)"
      ],
      "execution_count": 67,
      "outputs": [
        {
          "output_type": "stream",
          "text": [
            "1.6176470588235294\n"
          ],
          "name": "stdout"
        }
      ]
    },
    {
      "cell_type": "code",
      "metadata": {
        "colab": {
          "base_uri": "https://localhost:8080/"
        },
        "id": "2M7nu2GP13un",
        "outputId": "bf151c19-de4e-4fc4-d2e9-49b3d8762e54"
      },
      "source": [
        "print(55 // 34, 55/34)"
      ],
      "execution_count": 68,
      "outputs": [
        {
          "output_type": "stream",
          "text": [
            "1 1.6176470588235294\n"
          ],
          "name": "stdout"
        }
      ]
    },
    {
      "cell_type": "code",
      "metadata": {
        "colab": {
          "base_uri": "https://localhost:8080/"
        },
        "id": "1fkt5I5b2dzd",
        "outputId": "afaab0e2-335d-466e-caa2-a343e1851195"
      },
      "source": [
        "print(55 % 34)"
      ],
      "execution_count": 69,
      "outputs": [
        {
          "output_type": "stream",
          "text": [
            "21\n"
          ],
          "name": "stdout"
        }
      ]
    },
    {
      "cell_type": "code",
      "metadata": {
        "colab": {
          "base_uri": "https://localhost:8080/"
        },
        "id": "JboXbWNX2fkr",
        "outputId": "cc55a8b7-2402-4ef8-d338-0cdc337c6431"
      },
      "source": [
        "print(2 ** 3)"
      ],
      "execution_count": 70,
      "outputs": [
        {
          "output_type": "stream",
          "text": [
            "8\n"
          ],
          "name": "stdout"
        }
      ]
    },
    {
      "cell_type": "markdown",
      "metadata": {
        "id": "_1e_FyAD3EI7"
      },
      "source": [
        "# If, For, While Blocks"
      ]
    },
    {
      "cell_type": "code",
      "metadata": {
        "id": "YlKDJaNB3u6_"
      },
      "source": [
        "hours_per_week = 5"
      ],
      "execution_count": 71,
      "outputs": []
    },
    {
      "cell_type": "code",
      "metadata": {
        "id": "GZUzOAHD2kYX"
      },
      "source": [
        "if hours_per_week > 10:\n",
        "    print(my_name + \" you are doing well\")"
      ],
      "execution_count": 72,
      "outputs": []
    },
    {
      "cell_type": "code",
      "metadata": {
        "colab": {
          "base_uri": "https://localhost:8080/"
        },
        "id": "F788jWY83tTf",
        "outputId": "a42ce40d-c985-4bb9-8583-6bf9a7b71eb8"
      },
      "source": [
        "if hours_per_week > 10:\n",
        "    print(my_name + \" you are doing well\")\n",
        "print(\"Outside If\")"
      ],
      "execution_count": 73,
      "outputs": [
        {
          "output_type": "stream",
          "text": [
            "Outside If\n"
          ],
          "name": "stdout"
        }
      ]
    },
    {
      "cell_type": "code",
      "metadata": {
        "colab": {
          "base_uri": "https://localhost:8080/"
        },
        "id": "nc08nM4q38OU",
        "outputId": "75a2f9c1-047d-4957-ade0-c19ff79387bc"
      },
      "source": [
        "if hours_per_week > 10:\n",
        "    print(my_name + \" you are doing well\")\n",
        "else:\n",
        "    print(my_name + \" you need to study more\")"
      ],
      "execution_count": 74,
      "outputs": [
        {
          "output_type": "stream",
          "text": [
            "Tyson you need to study more\n"
          ],
          "name": "stdout"
        }
      ]
    },
    {
      "cell_type": "code",
      "metadata": {
        "colab": {
          "base_uri": "https://localhost:8080/"
        },
        "id": "6yz4l2P44KGF",
        "outputId": "bb3ec89c-92d1-4d5b-9117-ce8f94e8f572"
      },
      "source": [
        "for i in range(5):\n",
        "    print(i)"
      ],
      "execution_count": 75,
      "outputs": [
        {
          "output_type": "stream",
          "text": [
            "0\n",
            "1\n",
            "2\n",
            "3\n",
            "4\n"
          ],
          "name": "stdout"
        }
      ]
    },
    {
      "cell_type": "code",
      "metadata": {
        "id": "KVZn2ZNl4e_j"
      },
      "source": [
        "range?"
      ],
      "execution_count": 76,
      "outputs": []
    },
    {
      "cell_type": "code",
      "metadata": {
        "colab": {
          "base_uri": "https://localhost:8080/"
        },
        "id": "NUeOJ9CX4lmj",
        "outputId": "1cdbf894-c341-45c8-a0c3-3cbcf492d596"
      },
      "source": [
        "for i in range(2, 5):\n",
        "    print(i, i**2)"
      ],
      "execution_count": 77,
      "outputs": [
        {
          "output_type": "stream",
          "text": [
            "2 4\n",
            "3 9\n",
            "4 16\n"
          ],
          "name": "stdout"
        }
      ]
    },
    {
      "cell_type": "code",
      "metadata": {
        "colab": {
          "base_uri": "https://localhost:8080/"
        },
        "id": "__6vd_Df5DE8",
        "outputId": "9b3d1ed9-1e85-4e6d-ec48-bd00964d5c4c"
      },
      "source": [
        "a = 1\n",
        "b = 1\n",
        "print(a)\n",
        "print(b)\n",
        "for i in range(10):\n",
        "    temp = a + b\n",
        "    a = b\n",
        "    b = temp\n",
        "    print(temp)"
      ],
      "execution_count": 78,
      "outputs": [
        {
          "output_type": "stream",
          "text": [
            "1\n",
            "1\n",
            "2\n",
            "3\n",
            "5\n",
            "8\n",
            "13\n",
            "21\n",
            "34\n",
            "55\n",
            "89\n",
            "144\n"
          ],
          "name": "stdout"
        }
      ]
    },
    {
      "cell_type": "code",
      "metadata": {
        "colab": {
          "base_uri": "https://localhost:8080/"
        },
        "id": "-lbt47gx5nNK",
        "outputId": "866b7f40-a681-4fe8-8bd3-d13fa44fa265"
      },
      "source": [
        "a = 1\n",
        "b = 1\n",
        "print(a)\n",
        "print(b)\n",
        "i = 2\n",
        "while b < 1729:\n",
        "    temp = a + b\n",
        "    i += 1\n",
        "    a = b\n",
        "    b = temp\n",
        "    print(temp)\n",
        "print(\"Printed\", i, \"numbers\")"
      ],
      "execution_count": 79,
      "outputs": [
        {
          "output_type": "stream",
          "text": [
            "1\n",
            "1\n",
            "2\n",
            "3\n",
            "5\n",
            "8\n",
            "13\n",
            "21\n",
            "34\n",
            "55\n",
            "89\n",
            "144\n",
            "233\n",
            "377\n",
            "610\n",
            "987\n",
            "1597\n",
            "2584\n",
            "Printed 18 numbers\n"
          ],
          "name": "stdout"
        }
      ]
    },
    {
      "cell_type": "markdown",
      "metadata": {
        "id": "H6UBrWkCIjSk"
      },
      "source": [
        "# Functions"
      ]
    },
    {
      "cell_type": "code",
      "metadata": {
        "id": "ZOqBP4f-HAwH"
      },
      "source": [
        "def fibonacci(pos):\n",
        "    a = 1\n",
        "    b = 1\n",
        "    for i in range(pos):\n",
        "        temp = a + b\n",
        "        a = b\n",
        "        b = temp\n",
        "    return temp"
      ],
      "execution_count": 80,
      "outputs": []
    },
    {
      "cell_type": "code",
      "metadata": {
        "colab": {
          "base_uri": "https://localhost:8080/"
        },
        "id": "A-hZFFq1I5js",
        "outputId": "0b995567-6469-4687-e842-462214430898"
      },
      "source": [
        "print(fibonacci(3))"
      ],
      "execution_count": 81,
      "outputs": [
        {
          "output_type": "stream",
          "text": [
            "5\n"
          ],
          "name": "stdout"
        }
      ]
    },
    {
      "cell_type": "code",
      "metadata": {
        "colab": {
          "base_uri": "https://localhost:8080/"
        },
        "id": "vN5zd8g4I9Ri",
        "outputId": "dcebbd77-e651-4395-c1f3-d6da342fa990"
      },
      "source": [
        "print(fibonacci(8), fibonacci(7))"
      ],
      "execution_count": 82,
      "outputs": [
        {
          "output_type": "stream",
          "text": [
            "55 34\n"
          ],
          "name": "stdout"
        }
      ]
    },
    {
      "cell_type": "code",
      "metadata": {
        "colab": {
          "base_uri": "https://localhost:8080/"
        },
        "id": "8pp648VcJBi2",
        "outputId": "1a779804-a8d3-4682-dea3-6e02074bba77"
      },
      "source": [
        "for i in range(2, 20):\n",
        "    ratio = fibonacci(i) / fibonacci(i - 1)\n",
        "    print(i, ratio)"
      ],
      "execution_count": 83,
      "outputs": [
        {
          "output_type": "stream",
          "text": [
            "2 1.5\n",
            "3 1.6666666666666667\n",
            "4 1.6\n",
            "5 1.625\n",
            "6 1.6153846153846154\n",
            "7 1.619047619047619\n",
            "8 1.6176470588235294\n",
            "9 1.6181818181818182\n",
            "10 1.6179775280898876\n",
            "11 1.6180555555555556\n",
            "12 1.6180257510729614\n",
            "13 1.6180371352785146\n",
            "14 1.618032786885246\n",
            "15 1.618034447821682\n",
            "16 1.6180338134001253\n",
            "17 1.618034055727554\n",
            "18 1.6180339631667064\n",
            "19 1.6180339985218033\n"
          ],
          "name": "stdout"
        }
      ]
    },
    {
      "cell_type": "code",
      "metadata": {
        "id": "gFEYx2OLJQCr"
      },
      "source": [
        "def fibonacci_relative(pos, a, b):\n",
        "    for i in range(pos):\n",
        "        temp = a + b\n",
        "        a = b\n",
        "        b = temp\n",
        "    return temp"
      ],
      "execution_count": 84,
      "outputs": []
    },
    {
      "cell_type": "code",
      "metadata": {
        "colab": {
          "base_uri": "https://localhost:8080/"
        },
        "id": "fPbyYs5hJr1-",
        "outputId": "cf28bed4-4dcf-4fec-cf63-91c0b0456862"
      },
      "source": [
        "print(fibonacci_relative(3, 34, 55))"
      ],
      "execution_count": 85,
      "outputs": [
        {
          "output_type": "stream",
          "text": [
            "233\n"
          ],
          "name": "stdout"
        }
      ]
    },
    {
      "cell_type": "code",
      "metadata": {
        "id": "MM_zwZKNJ7y9"
      },
      "source": [
        "def fibonacci_ol(pos, a = 1, b = 1):\n",
        "    for i in range(pos):\n",
        "        temp = a + b\n",
        "        a = b\n",
        "        b = temp\n",
        "    return temp"
      ],
      "execution_count": 86,
      "outputs": []
    },
    {
      "cell_type": "code",
      "metadata": {
        "colab": {
          "base_uri": "https://localhost:8080/"
        },
        "id": "-17_Kcb3KUgK",
        "outputId": "8cd2b1fd-7a16-410a-ed18-dac7acfabec4"
      },
      "source": [
        "print(fibonacci_ol(3, 34, 55))"
      ],
      "execution_count": 87,
      "outputs": [
        {
          "output_type": "stream",
          "text": [
            "233\n"
          ],
          "name": "stdout"
        }
      ]
    },
    {
      "cell_type": "code",
      "metadata": {
        "colab": {
          "base_uri": "https://localhost:8080/",
          "height": 167
        },
        "id": "gLKZHtabKWk3",
        "outputId": "532b93a1-e7a1-42e3-a0c5-bd25348a3919"
      },
      "source": [
        "print(fibonacci_relative(3))"
      ],
      "execution_count": 88,
      "outputs": [
        {
          "output_type": "error",
          "ename": "TypeError",
          "evalue": "ignored",
          "traceback": [
            "\u001b[0;31m---------------------------------------------------------------------------\u001b[0m",
            "\u001b[0;31mTypeError\u001b[0m                                 Traceback (most recent call last)",
            "\u001b[0;32m<ipython-input-88-aa798d3cb61f>\u001b[0m in \u001b[0;36m<module>\u001b[0;34m()\u001b[0m\n\u001b[0;32m----> 1\u001b[0;31m \u001b[0mprint\u001b[0m\u001b[0;34m(\u001b[0m\u001b[0mfibonacci_relative\u001b[0m\u001b[0;34m(\u001b[0m\u001b[0;36m3\u001b[0m\u001b[0;34m)\u001b[0m\u001b[0;34m)\u001b[0m\u001b[0;34m\u001b[0m\u001b[0;34m\u001b[0m\u001b[0m\n\u001b[0m",
            "\u001b[0;31mTypeError\u001b[0m: fibonacci_relative() missing 2 required positional arguments: 'a' and 'b'"
          ]
        }
      ]
    },
    {
      "cell_type": "code",
      "metadata": {
        "id": "_xu39REXLM6V"
      },
      "source": [
        "def fibonacci_recursive(n, a = 1, b = 1):\n",
        "    if n > 1:\n",
        "        return fibonacci_recursive(n - 1, b, a + b)\n",
        "    else:\n",
        "        return a + b"
      ],
      "execution_count": 89,
      "outputs": []
    },
    {
      "cell_type": "code",
      "metadata": {
        "colab": {
          "base_uri": "https://localhost:8080/"
        },
        "id": "VFpDuwrQLk0R",
        "outputId": "84a8287d-0167-47ca-cb38-16458fe9cf51"
      },
      "source": [
        "print(fibonacci_recursive(3, 34, 55))"
      ],
      "execution_count": 90,
      "outputs": [
        {
          "output_type": "stream",
          "text": [
            "233\n"
          ],
          "name": "stdout"
        }
      ]
    },
    {
      "cell_type": "code",
      "metadata": {
        "id": "yaTANpbCSPtX"
      },
      "source": [
        "def fibonacci(pos):\n",
        "    a = 1\n",
        "    b = 1\n",
        "    for i in range(pos):\n",
        "        temp = a + b\n",
        "        a = b\n",
        "        b = temp\n",
        "    return temp"
      ],
      "execution_count": 91,
      "outputs": []
    },
    {
      "cell_type": "code",
      "metadata": {
        "colab": {
          "base_uri": "https://localhost:8080/"
        },
        "id": "xafMdRP_SPtb",
        "outputId": "ed938a03-aa65-48bf-b54e-7f9e5a5e0fdb"
      },
      "source": [
        "print(fibonacci(3))"
      ],
      "execution_count": 92,
      "outputs": [
        {
          "output_type": "stream",
          "text": [
            "5\n"
          ],
          "name": "stdout"
        }
      ]
    },
    {
      "cell_type": "code",
      "metadata": {
        "colab": {
          "base_uri": "https://localhost:8080/"
        },
        "id": "t172sAFrSPtf",
        "outputId": "d9108089-87d7-403a-8c2c-1f50b94d0201"
      },
      "source": [
        "print(fibonacci(8), fibonacci(7))"
      ],
      "execution_count": 93,
      "outputs": [
        {
          "output_type": "stream",
          "text": [
            "55 34\n"
          ],
          "name": "stdout"
        }
      ]
    },
    {
      "cell_type": "code",
      "metadata": {
        "colab": {
          "base_uri": "https://localhost:8080/"
        },
        "id": "n2A_Xs83SPti",
        "outputId": "2c97bd2e-719b-4840-8743-01025472fdec"
      },
      "source": [
        "for i in range(2, 20):\n",
        "    ratio = fibonacci(i) / fibonacci(i - 1)\n",
        "    print(i, ratio)"
      ],
      "execution_count": 94,
      "outputs": [
        {
          "output_type": "stream",
          "text": [
            "2 1.5\n",
            "3 1.6666666666666667\n",
            "4 1.6\n",
            "5 1.625\n",
            "6 1.6153846153846154\n",
            "7 1.619047619047619\n",
            "8 1.6176470588235294\n",
            "9 1.6181818181818182\n",
            "10 1.6179775280898876\n",
            "11 1.6180555555555556\n",
            "12 1.6180257510729614\n",
            "13 1.6180371352785146\n",
            "14 1.618032786885246\n",
            "15 1.618034447821682\n",
            "16 1.6180338134001253\n",
            "17 1.618034055727554\n",
            "18 1.6180339631667064\n",
            "19 1.6180339985218033\n"
          ],
          "name": "stdout"
        }
      ]
    },
    {
      "cell_type": "code",
      "metadata": {
        "id": "V_55I0X2SPtn"
      },
      "source": [
        "def fibonacci_relative(pos, a, b):\n",
        "    for i in range(pos):\n",
        "        temp = a + b\n",
        "        a = b\n",
        "        b = temp\n",
        "    return temp"
      ],
      "execution_count": 95,
      "outputs": []
    },
    {
      "cell_type": "code",
      "metadata": {
        "colab": {
          "base_uri": "https://localhost:8080/"
        },
        "id": "YqqFpkOWSPtq",
        "outputId": "4d54f469-75c3-4777-e619-f881eb701df7"
      },
      "source": [
        "print(fibonacci_relative(3, 34, 55))"
      ],
      "execution_count": 96,
      "outputs": [
        {
          "output_type": "stream",
          "text": [
            "233\n"
          ],
          "name": "stdout"
        }
      ]
    },
    {
      "cell_type": "code",
      "metadata": {
        "id": "ITS77jEhSPtt"
      },
      "source": [
        "def fibonacci_ol(pos, a = 1, b = 1):\n",
        "    for i in range(pos):\n",
        "        temp = a + b\n",
        "        a = b\n",
        "        b = temp\n",
        "    return temp"
      ],
      "execution_count": 97,
      "outputs": []
    },
    {
      "cell_type": "code",
      "metadata": {
        "colab": {
          "base_uri": "https://localhost:8080/"
        },
        "id": "5nr-wa9ISPtv",
        "outputId": "147d3083-b675-4520-9e7f-2066efa24fcb"
      },
      "source": [
        "print(fibonacci_ol(3, 34, 55))"
      ],
      "execution_count": 98,
      "outputs": [
        {
          "output_type": "stream",
          "text": [
            "233\n"
          ],
          "name": "stdout"
        }
      ]
    },
    {
      "cell_type": "code",
      "metadata": {
        "colab": {
          "base_uri": "https://localhost:8080/",
          "height": 167
        },
        "id": "4ra6GBwISPtx",
        "outputId": "83137cd6-c536-436d-89b4-c03321eb07f7"
      },
      "source": [
        "print(fibonacci_relative(3))"
      ],
      "execution_count": 99,
      "outputs": [
        {
          "output_type": "error",
          "ename": "TypeError",
          "evalue": "ignored",
          "traceback": [
            "\u001b[0;31m---------------------------------------------------------------------------\u001b[0m",
            "\u001b[0;31mTypeError\u001b[0m                                 Traceback (most recent call last)",
            "\u001b[0;32m<ipython-input-99-aa798d3cb61f>\u001b[0m in \u001b[0;36m<module>\u001b[0;34m()\u001b[0m\n\u001b[0;32m----> 1\u001b[0;31m \u001b[0mprint\u001b[0m\u001b[0;34m(\u001b[0m\u001b[0mfibonacci_relative\u001b[0m\u001b[0;34m(\u001b[0m\u001b[0;36m3\u001b[0m\u001b[0;34m)\u001b[0m\u001b[0;34m)\u001b[0m\u001b[0;34m\u001b[0m\u001b[0;34m\u001b[0m\u001b[0m\n\u001b[0m",
            "\u001b[0;31mTypeError\u001b[0m: fibonacci_relative() missing 2 required positional arguments: 'a' and 'b'"
          ]
        }
      ]
    },
    {
      "cell_type": "code",
      "metadata": {
        "id": "d5Qb0cXgSPt0"
      },
      "source": [
        "def fibonacci_recursive(n, a = 1, b = 1):\n",
        "    if n > 1:\n",
        "        return fibonacci_recursive(n - 1, b, a + b)\n",
        "    else:\n",
        "        return a + b"
      ],
      "execution_count": 102,
      "outputs": []
    },
    {
      "cell_type": "code",
      "metadata": {
        "colab": {
          "base_uri": "https://localhost:8080/"
        },
        "id": "o3ZHPT30SPt2",
        "outputId": "24e8077f-192b-4001-9134-0f3f3dedb1d0"
      },
      "source": [
        "print(fibonacci_recursive(3, 34, 55))"
      ],
      "execution_count": 103,
      "outputs": [
        {
          "output_type": "stream",
          "text": [
            "233\n"
          ],
          "name": "stdout"
        }
      ]
    }
  ]
}