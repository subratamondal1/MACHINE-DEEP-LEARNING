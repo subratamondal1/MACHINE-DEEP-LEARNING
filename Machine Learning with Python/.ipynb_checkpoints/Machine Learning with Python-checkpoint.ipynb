{
 "cells": [
  {
   "cell_type": "markdown",
   "id": "59b69284-9fb3-4c5d-934b-1166f2a62f26",
   "metadata": {},
   "source": [
    "# <center>Machine Learning with Python</center>"
   ]
  },
  {
   "cell_type": "code",
   "execution_count": 18,
   "id": "4a06c2db-2190-4081-9aaa-057f56eb02ab",
   "metadata": {},
   "outputs": [
    {
     "ename": "ModuleNotFoundError",
     "evalue": "No module named 'mglearn'",
     "output_type": "error",
     "traceback": [
      "\u001b[0;31m---------------------------------------------------------------------------\u001b[0m",
      "\u001b[0;31mModuleNotFoundError\u001b[0m                       Traceback (most recent call last)",
      "Cell \u001b[0;32mIn[18], line 5\u001b[0m\n\u001b[1;32m      3\u001b[0m \u001b[38;5;28;01mimport\u001b[39;00m \u001b[38;5;21;01mpandas\u001b[39;00m \u001b[38;5;28;01mas\u001b[39;00m \u001b[38;5;21;01mpd\u001b[39;00m\n\u001b[1;32m      4\u001b[0m \u001b[38;5;28;01mimport\u001b[39;00m \u001b[38;5;21;01mmatplotlib\u001b[39;00m\u001b[38;5;21;01m.\u001b[39;00m\u001b[38;5;21;01mpyplot\u001b[39;00m \u001b[38;5;28;01mas\u001b[39;00m \u001b[38;5;21;01mplt\u001b[39;00m\n\u001b[0;32m----> 5\u001b[0m \u001b[38;5;28;01mimport\u001b[39;00m \u001b[38;5;21;01mmglearn\u001b[39;00m\n",
      "\u001b[0;31mModuleNotFoundError\u001b[0m: No module named 'mglearn'"
     ]
    }
   ],
   "source": [
    "# import libraries\n",
    "import numpy as np\n",
    "import pandas as pd\n",
    "import matplotlib.pyplot as plt\n",
    "# import mglearn"
   ]
  },
  {
   "cell_type": "markdown",
   "id": "98f0be2b-58fa-4be4-8dc7-c9e1a31205cb",
   "metadata": {},
   "source": [
    "---\n",
    "# Introduction\n",
    "---"
   ]
  },
  {
   "cell_type": "markdown",
   "id": "09ab3bc2-c515-43cb-9a50-4bc490673b6b",
   "metadata": {},
   "source": [
    "Machine learning is about <u>extracting knowledge from data</u>. It is a research field at the intersection of <u>statistics, artificial intelligence, and computer science</u> and is also known as <u>predictive analytics or statistical learning</u>. The application of machine learning methods has in recent years become ubiquitous (found everywhere) in everyday life.</br>\n",
    "1. From auto‐ matic recommendations of which movies to watch, to what food to order or which products to buy, to personalized online radio and recognizing your friends in your photos, many modern websites and devices have machine learning algorithms at their core.\n",
    "2. When you look at a complex website like Facebook, Amazon, or Netflix, it is very likely that every part of the site contains multiple machine learning models.</br>\n",
    "\n",
    "Outside of commercial applications, machine learning has had a tremendous influence on the way data-driven research is done today. The tools introduced in this book have been applied to diverse scientific problems such as <u>understanding stars</u>, <u>finding distant planets</u>, <u>discovering new particles</u>, <u>analyzing DNA sequences</u>, and <u>providing personalized cancer treatments</u>.\n",
    "\n",
    "**Note:** Your application doesn’t need to be as large-scale or world-changing as these exam‐ ples in order to benefit from machine learning, though. In this chapter, we will explain why machine learning has become so popular and discuss what kinds of problems can be solved using machine learning. Then, we will show you how to build your first machine learning model, introducing important concepts along the way."
   ]
  },
  {
   "cell_type": "markdown",
   "id": "eac5d9b3-90af-413b-97e8-2d181e10a051",
   "metadata": {},
   "source": [
    "#### Why Machine Learning?\n",
    "In the early days of “intelligent” applications, many systems used handcoded rules of “if ” and “else” decisions to process data or adjust to user input. Think of a spam filter whose job is to move the appropriate incoming email messages to a spam folder. You could make up a blacklist of words that would result in an email being marked as spam. This would be an example of using an expert-designed rule system to design an “intelligent” application. Manually crafting decision rules is feasible for some applica‐ tions, particularly those in which humans have a good understanding of the process to model. However, using handcoded rules to make decisions has two major disadvantages:\n",
    "1. The logic required to make a decision is specific to a single domain and task. Changing the task even slightly might require a rewrite of the whole system.\n",
    "2. Designing rules requires a deep understanding of how a decision should be made by a human expert.\n"
   ]
  },
  {
   "cell_type": "markdown",
   "id": "8fec77b3-ac6a-495b-a68b-e572537b2c9b",
   "metadata": {},
   "source": [
    "#### Problems Machine Learning Can Solve\n",
    "The most successful kinds of machine learning algorithms are those that automate decision-making processes by generalizing from known examples. In this setting, which is known as **supervised learning**, the user provides the algorithm with pairs of inputs and desired outputs, and the algorithm finds a way to produce the desired out‐ put given an input. In particular, the algorithm is able to create an output for an input it has never seen before without any help from a human. Going back to our example of spam classification, using machine learning, the user provides the algorithm with a large number of emails (which are the input), together with information about whether any of these emails are spam (which is the desired output). Given a new email, the algorithm will then produce a prediction as to whether the new email is spam.\n",
    "\n",
    "Machine learning algorithms that learn from input/output pairs are called supervised learning algorithms because a “teacher” provides supervision to the algorithms in the form of the desired outputs for each example that they learn from. While creating a dataset of inputs and outputs is often a laborious manual process, supervised learning algorithms are well understood and their performance is easy to measure. If your application can be formulated as a supervised learning problem, and you are able to create a dataset that includes the desired outcome, machine learning will likely be able to solve your problem.\n",
    "\n",
    "Examples of **supervised machine learning** tasks include:\n",
    "\n",
    "1. Identifying the zip code from handwritten digits on an envelope</br>\n",
    "    Here the input is a scan of the handwriting, and the desired output is the actual digits in the zip code. To create a dataset for building a machine learning model, you need to collect many envelopes. Then you can read the zip codes yourself and store the digits as your desired outcomes.\n",
    "\n",
    "2. Determining whether a tumor is benign based on a medical image</br>\n",
    "    Here the input is the image, and the output is whether the tumor is benign. To create a dataset for building a model, you need a database of medical images. You also need an expert opinion, so a doctor needs to look at all of the images and decide which tumors are benign and which are not. It might even be necessary to do additional diagnosis beyond the content of the image to determine whether the tumor in the image is cancerous or not.\n",
    "    \n",
    "3. Detecting fraudulent activity in credit card transactions</br>\n",
    "Here the input is a record of the credit card transaction, and the output is whether it is likely to be fraudulent or not. Assuming that you are the entity dis‐ tributing the credit cards, collecting a dataset means storing all transactions and recording if a user reports any transaction as fraudulent.\n",
    "\n",
    "**Note:** An interesting thing to note about these examples is that although the inputs and out‐ puts look fairly straightforward, the data collection process for these three tasks is vastly different. While reading envelopes is laborious, it is easy and cheap. Obtaining medical imaging and diagnoses, on the other hand, requires not only expensive machinery but also rare and expensive expert knowledge, not to mention the ethical concerns and privacy issues. In the example of detecting credit card fraud, data col‐ lection is much simpler. Your customers will provide you with the desired output, as they will report fraud. All you have to do to obtain the input/output pairs of fraudu‐ lent and nonfraudulent activity is wait.</br>\n",
    "\n",
    "**Unsupervised algorithms** are the other type of algorithm that we will cover in this book. <u>In unsupervised learning, only the input data is known, and no known output data is given to the algorithm.</u> While there are many successful applications of these methods, they are usually harder to understand and evaluate.\n",
    "\n",
    "\n",
    "Examples of **unsupervised learning** include:\n",
    "1. Identifying topics in a set of blog posts</br>\n",
    "    If you have a large collection of text data, you might want to summarize it and find prevalent themes in it. You might not know beforehand what these topics are, or how many topics there might be. Therefore, there are no known outputs.\n",
    "\n",
    "2. Segmenting customers into groups with similar preferences</br>\n",
    "Given a set of customer records, you might want to identify which customers are similar, and whether there are groups of customers with similar preferences. For a shopping site, these might be “parents,” “bookworms,” or “gamers.” Because you don’t know in advance what these groups might be, or even how many there are, you have no known outputs.\n",
    "\n",
    "3. Detecting abnormal access patterns to a website</br>\n",
    "To identify abuse or bugs, it is often helpful to find access patterns that are differ‐ ent from the norm. Each abnormal pattern might be very different, and you might not have any recorded instances of abnormal behavior. Because in this example you only observe traffic, and you don’t know what constitutes normal and abnormal behavior, this is an unsupervised problem.\n",
    "\n",
    "\n",
    "For both supervised and unsupervised learning tasks, it is important to have a repre‐ sentation of your input data that a computer can understand. Often it is helpful to think of your data as a table. Each data point that you want to reason about (each email, each customer, each transaction) is a row, and each property that describes that data point (say, the age of a customer or the amount or location of a transaction) is a column. You might describe users by their age, their gender, when they created an account, and how often they have bought from your online shop. You might describe the image of a tumor by the grayscale values of each pixel, or maybe by using the size, shape, and color of the tumor.\n",
    "\n",
    "`Each entity or row here is known as a sample (or data point) in machine learning, while the columns—the properties that describe these entities—are called features.\n",
    "`\n",
    "\n",
    "Later in this book we will go into more detail on the topic of building a good repre‐ sentation of your data, which is called feature extraction or feature engineering. You should keep in mind, however, that no machine learning algorithm will be able to make a prediction on data for which it has no information. For example, if the only feature that you have for a patient is their last name, no algorithm will be able to pre‐ dict their gender. This information is simply not contained in your data. If you add another feature that contains the patient’s first name, you will have much better luck, as it is often possible to tell the gender by a person’s first name.\n"
   ]
  },
  {
   "cell_type": "markdown",
   "id": "d02823d2-ea3a-48de-acf3-084cd7c6a8d2",
   "metadata": {},
   "source": [
    "#### Knowing Your Task and Knowing Your Data\n",
    "Quite possibly the most important part in the machine learning process is under‐ standing the data you are working with and how it relates to the task you want to solve. It will not be effective to randomly choose an algorithm and throw your data at it. It is necessary to understand what is going on in your dataset before you begin building a model. Each algorithm is different in terms of what kind of data and what problem setting it works best for. While you are building a machine learning solution, you should answer, or at least keep in mind, the following questions:\n",
    "1. What question(s) am I trying to answer? Do I think the data collected can answer that question?\n",
    "2. What is the best way to phrase my question(s) as a machine learning problem?\n",
    "3. Have I collected enough data to represent the problem I want to solve?\n",
    "4. What features of the data did I extract, and will these enable the right predictions?\n",
    "5. How will I measure success in my application?\n",
    "6. How will the machine learning solution interact with other parts of my research or business product?\n",
    "\n",
    "**Note:** In a larger context, the algorithms and methods in machine learning are only one part of a greater process to solve a particular problem, and it is good to keep the big picture in mind at all times. Many people spend a lot of time building complex machine learning solutions, only to find out they don’t solve the right problem."
   ]
  },
  {
   "cell_type": "markdown",
   "id": "51fd51fc-bcd8-462b-b4e9-e95af3fa424a",
   "metadata": {},
   "source": [
    "#### Jupyter Notebook\n",
    "The Jupyter Notebook is an interactive environment for running code in the browser. It is a great tool for exploratory data analysis and is widely used by data scientists. While the Jupyter Notebook supports many programming languages, we only need the Python support. The Jupyter Notebook makes it easy to incorporate code, text, and images, and all of this book was in fact written as a Jupyter Notebook. All of the code examples we include can be downloaded from GitHub."
   ]
  },
  {
   "cell_type": "markdown",
   "id": "362ecf82-065b-4036-9491-4724d6c28fdf",
   "metadata": {},
   "source": [
    "#### NumPy\n",
    "NumPy is one of the fundamental packages for scientific computing in Python. It contains functionality for multidimensional arrays, high-level mathematical func‐ tions such as linear algebra operations and the Fourier transform, and pseudorandom number generators.\n",
    "\n",
    "\n",
    "<u>In scikit-learn, the NumPy array is the fundamental data structure. scikit-learn takes in data in the form of NumPy arrays.</u> Any data you’re using will have to be con‐ verted to a NumPy array. The core functionality of NumPy is the ndarray class, a multidimensional (n-dimensional) array. All elements of the array must be of the same type.  "
   ]
  },
  {
   "cell_type": "markdown",
   "id": "75eba008-3867-4035-ad76-e5d46ca0f011",
   "metadata": {},
   "source": [
    "#### SciPy\n",
    "SciPy is a collection of functions for scientific computing in Python. It provides, among other functionality, advanced linear algebra routines, mathematical function optimization, signal processing, special mathematical functions, and statistical distri‐ butions. scikit-learn draws from SciPy’s collection of functions for implementing its algorithms. The most important part of SciPy for us is scipy.sparse: this provides sparse matrices, which are another representation that is used for data in scikit- learn. Sparse matrices are used whenever we want to store a 2D array that contains mostly zeros:"
   ]
  },
  {
   "cell_type": "code",
   "execution_count": 4,
   "id": "b9d40be2-719d-4669-a144-54572aa328fa",
   "metadata": {},
   "outputs": [
    {
     "name": "stdout",
     "output_type": "stream",
     "text": [
      "NumPy array:\n",
      "[[1. 0. 0. 0.]\n",
      " [0. 1. 0. 0.]\n",
      " [0. 0. 1. 0.]\n",
      " [0. 0. 0. 1.]]\n"
     ]
    }
   ],
   "source": [
    "import scipy.sparse as sparse\n",
    "import numpy as np\n",
    "\n",
    "# Create a 2D NumPy array with a diagonal of ones, and zeros everywhere else\n",
    "eye = np.eye(4)\n",
    "print(f\"NumPy array:\\n{eye}\")"
   ]
  },
  {
   "cell_type": "code",
   "execution_count": 6,
   "id": "152d5212-df4b-4810-91d6-6511d90c5e86",
   "metadata": {},
   "outputs": [
    {
     "name": "stdout",
     "output_type": "stream",
     "text": [
      "\n",
      "SciPy sparse CSR matrix:\n",
      "  (0, 0)\t1.0\n",
      "  (1, 1)\t1.0\n",
      "  (2, 2)\t1.0\n",
      "  (3, 3)\t1.0\n"
     ]
    }
   ],
   "source": [
    "# Convert the NumPy array to a SciPy sparse matrix in CSR format # Only the nonzero entries are stored\n",
    "sparse_matrix = sparse.csr_matrix(eye)\n",
    "print(f\"\\nSciPy sparse CSR matrix:\\n{sparse_matrix}\")"
   ]
  },
  {
   "cell_type": "markdown",
   "id": "a910a95c-f723-4867-ba73-ac4f3084b40b",
   "metadata": {},
   "source": [
    "More details on SciPy sparse matrices can be found in the [SciPy Lecture Notes](http://www.scipy-lectures.org/)."
   ]
  },
  {
   "cell_type": "markdown",
   "id": "be859add-5fac-49fb-b8e7-c7ff3bee9a56",
   "metadata": {},
   "source": [
    "#### matplotlib\n",
    "matplotlib is the primary scientific plotting library in Python. It provides functions for making publication-quality visualizations such as line charts, histograms, scatter plots, and so on. Visualizing your data and different aspects of your analysis can give you important insights, and we will be using matplotlib for all our visualizations. When working inside the Jupyter Notebook, you can show figures directly in the browser by using the %matplotlib notebook and %matplotlib inline commands. We recommend using %matplotlib notebook, which provides an interactive envi‐ ronment (though we are using %matplotlib inline to produce this book). For example, this code produces the plot:"
   ]
  },
  {
   "cell_type": "code",
   "execution_count": 12,
   "id": "3ef91641-940b-4d5b-b919-ae9300f12ba1",
   "metadata": {},
   "outputs": [
    {
     "data": {
      "image/png": "[encoded data removed]",
      "text/plain": [
       "<Figure size 640x480 with 1 Axes>"
      ]
     },
     "metadata": {},
     "output_type": "display_data"
    }
   ],
   "source": [
    "#%matplotlib notebook\n",
    "%matplotlib inline\n",
    "import matplotlib.pyplot as plt\n",
    "\n",
    "# Generate a sequence of numbers from -10 to 10 with 100 steps in between\n",
    "x = np.linspace(-10,10,100)\n",
    "y = np.sin(x)\n",
    "\n",
    "# The plot function makes a line chart of one array against another\n",
    "plt.plot(x,y, marker = \"x\")\n",
    "plt.grid(axis=\"y\")\n",
    "plt.show()"
   ]
  },
  {
   "cell_type": "markdown",
   "id": "040b05ba-dd47-435d-b661-7e597ea5ebb6",
   "metadata": {},
   "source": [
    "#### pandas\n",
    "pandas is a Python library for data wrangling and analysis. It is built around a data structure called the DataFrame that is modeled after the R DataFrame. Simply put, a pandas DataFrame is a table, similar to an Excel spreadsheet. pandas provides a great range of methods to modify and operate on this table; in particular, it allows SQL-like queries and joins of tables. In contrast to NumPy, which requires that all entries in an array be of the same type, pandas allows each column to have a separate type (for example, integers, dates, floating-point numbers, and strings). Another valuable tool provided by pandas is its ability to ingest from a great variety of file formats and data‐ bases, like SQL, Excel files, and comma-separated values (CSV) files. Going into detail about the functionality of pandas is out of the scope of this book. However, Python for Data Analysis by Wes McKinney (O’Reilly, 2012) provides a great guide. Here is a small example of creating a DataFrame using a dictionary:"
   ]
  },
  {
   "cell_type": "code",
   "execution_count": 15,
   "id": "879a77f1-1081-407f-a0f5-83caafd9b714",
   "metadata": {},
   "outputs": [
    {
     "data": {
      "text/html": [
       "<div>\n",
       "<style scoped>\n",
       "    .dataframe tbody tr th:only-of-type {\n",
       "        vertical-align: middle;\n",
       "    }\n",
       "\n",
       "    .dataframe tbody tr th {\n",
       "        vertical-align: top;\n",
       "    }\n",
       "\n",
       "    .dataframe thead th {\n",
       "        text-align: right;\n",
       "    }\n",
       "</style>\n",
       "<table border=\"1\" class=\"dataframe\">\n",
       "  <thead>\n",
       "    <tr style=\"text-align: right;\">\n",
       "      <th></th>\n",
       "      <th>name</th>\n",
       "      <th>location</th>\n",
       "      <th>degree</th>\n",
       "      <th>fake age</th>\n",
       "    </tr>\n",
       "  </thead>\n",
       "  <tbody>\n",
       "    <tr>\n",
       "      <th>0</th>\n",
       "      <td>subrata</td>\n",
       "      <td>jangipur</td>\n",
       "      <td>btech-cse</td>\n",
       "      <td>22</td>\n",
       "    </tr>\n",
       "    <tr>\n",
       "      <th>1</th>\n",
       "      <td>mrinal</td>\n",
       "      <td>malda</td>\n",
       "      <td>btech-ece</td>\n",
       "      <td>18</td>\n",
       "    </tr>\n",
       "    <tr>\n",
       "      <th>2</th>\n",
       "      <td>bapai</td>\n",
       "      <td>gazole</td>\n",
       "      <td>arts</td>\n",
       "      <td>31</td>\n",
       "    </tr>\n",
       "  </tbody>\n",
       "</table>\n",
       "</div>"
      ],
      "text/plain": [
       "      name  location     degree  fake age\n",
       "0  subrata  jangipur  btech-cse        22\n",
       "1   mrinal     malda  btech-ece        18\n",
       "2    bapai    gazole       arts        31"
      ]
     },
     "metadata": {},
     "output_type": "display_data"
    }
   ],
   "source": [
    "# create a simple dataset of people\n",
    "data = {\n",
    "    \"name\":[\"subrata\",\"mrinal\",\"bapai\"],\n",
    "    \"location\":[\"jangipur\",\"malda\",\"gazole\"],\n",
    "    \"degree\":[\"btech-cse\",\"btech-ece\",\"arts\"],\n",
    "    \"fake age\":[22,18,31]\n",
    "}\n",
    "\n",
    "df = pd.DataFrame(data)\n",
    "# IPython.display allows \"pretty printing\" of dataframes # in the Jupyter notebook\n",
    "\n",
    "display(df)"
   ]
  },
  {
   "cell_type": "code",
   "execution_count": 17,
   "id": "123992ee-4235-4d7d-93fd-9fb239254896",
   "metadata": {},
   "outputs": [
    {
     "data": {
      "text/html": [
       "<div>\n",
       "<style scoped>\n",
       "    .dataframe tbody tr th:only-of-type {\n",
       "        vertical-align: middle;\n",
       "    }\n",
       "\n",
       "    .dataframe tbody tr th {\n",
       "        vertical-align: top;\n",
       "    }\n",
       "\n",
       "    .dataframe thead th {\n",
       "        text-align: right;\n",
       "    }\n",
       "</style>\n",
       "<table border=\"1\" class=\"dataframe\">\n",
       "  <thead>\n",
       "    <tr style=\"text-align: right;\">\n",
       "      <th></th>\n",
       "      <th>name</th>\n",
       "      <th>location</th>\n",
       "      <th>degree</th>\n",
       "      <th>fake age</th>\n",
       "    </tr>\n",
       "  </thead>\n",
       "  <tbody>\n",
       "    <tr>\n",
       "      <th>2</th>\n",
       "      <td>bapai</td>\n",
       "      <td>gazole</td>\n",
       "      <td>arts</td>\n",
       "      <td>31</td>\n",
       "    </tr>\n",
       "  </tbody>\n",
       "</table>\n",
       "</div>"
      ],
      "text/plain": [
       "    name location degree  fake age\n",
       "2  bapai   gazole   arts        31"
      ]
     },
     "metadata": {},
     "output_type": "display_data"
    }
   ],
   "source": [
    "# Select all rows that have an age column greater than 30\n",
    "display(df[df[\"fake age\"] > 30])"
   ]
  },
  {
   "cell_type": "markdown",
   "id": "fc666b65-1a27-4189-9daf-604fa58a72cb",
   "metadata": {},
   "source": [
    "#### mglearn\n",
    "This book comes with accompanying code, which you can find on [GitHub](https://github.com/amueller/introduction_to_ml_with_python). The accompanying code includes not only all the examples shown in this book, but also the mglearn library. This is a library of utility functions we wrote for this book, so that we don’t clutter up our code listings with details of plotting and data loading. If you’re interested, you can look up all the functions in the repository, but the details of the mglearn module are not really important to the material in this book. If you see a call to mglearn in the code, it is usually a way to make a pretty picture quickly, or to get our hands on some interesting data."
   ]
  },
  {
   "cell_type": "markdown",
   "id": "b3d99c7c-2582-4745-be81-a6916344ddca",
   "metadata": {},
   "source": [
    "### A First Application: Classifying Iris Species\n",
    "In this section, we will go through a simple machine learning application and create our first model. In the process, we will introduce some core concepts and terms.\n",
    "\n",
    "Let’s assume that a hobby botanist is interested in distinguishing the species of some iris flowers that she has found. She has collected some measurements associated with each iris: the length and width of the petals and the length and width of the sepals, all measured in centimeters.\n",
    "\n",
    "She also has the measurements of some irises that have been previously identified by an expert botanist as belonging to the species setosa, versicolor, or virginica. For these measurements, she can be certain of which species each iris belongs to. Let’s assume that these are the only species our hobby botanist will encounter in the wild.\n",
    "\n",
    "Our goal is to build a machine learning model that can learn from the measurements of these irises whose species is known, so that we can predict the species for a new iris.\n",
    "<img src=\"images/iris.png\"> </img>"
   ]
  },
  {
   "cell_type": "code",
   "execution_count": null,
   "id": "99cc8847-45c5-40e0-a818-02c274436249",
   "metadata": {},
   "outputs": [],
   "source": []
  }
 ],
 "metadata": {
  "kernelspec": {
   "display_name": "Python 3 (ipykernel)",
   "language": "python",
   "name": "python3"
  },
  "language_info": {
   "codemirror_mode": {
    "name": "ipython",
    "version": 3
   },
   "file_extension": ".py",
   "mimetype": "text/x-python",
   "name": "python",
   "nbconvert_exporter": "python",
   "pygments_lexer": "ipython3",
   "version": "3.11.1"
  },
  "toc-autonumbering": true
 },
 "nbformat": 4,
 "nbformat_minor": 5
}
