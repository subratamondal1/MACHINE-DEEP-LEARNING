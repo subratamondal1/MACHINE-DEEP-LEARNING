{
 "cells": [
  {
   "cell_type": "code",
   "execution_count": 1,
   "id": "b07469f2",
   "metadata": {
    "_cell_guid": "b1076dfc-b9ad-4769-8c92-a6c4dae69d19",
    "_uuid": "8f2839f25d086af736a60e9eeb907d3b93b6e0e5",
    "execution": {
     "iopub.execute_input": "2023-02-20T05:51:30.423539Z",
     "iopub.status.busy": "2023-02-20T05:51:30.422946Z",
     "iopub.status.idle": "2023-02-20T05:51:30.436822Z",
     "shell.execute_reply": "2023-02-20T05:51:30.435124Z"
    },
    "papermill": {
     "duration": 0.028379,
     "end_time": "2023-02-20T05:51:30.440049",
     "exception": false,
     "start_time": "2023-02-20T05:51:30.411670",
     "status": "completed"
    },
    "tags": []
   },
   "outputs": [],
   "source": [
    "# This Python 3 environment comes with many helpful analytics libraries installed\n",
    "# It is defined by the kaggle/python Docker image: https://github.com/kaggle/docker-python\n",
    "# For example, here's several helpful packages to load\n",
    "\n",
    "import numpy as np # linear algebra\n",
    "import pandas as pd # data processing, CSV file I/O (e.g. pd.read_csv)\n",
    "\n",
    "# Input data files are available in the read-only \"../input/\" directory\n",
    "# For example, running this (by clicking run or pressing Shift+Enter) will list all files under the input directory\n",
    "\n",
    "import os\n",
    "for dirname, _, filenames in os.walk('/kaggle/input'):\n",
    "    for filename in filenames:\n",
    "        print(os.path.join(dirname, filename))\n",
    "\n",
    "# You can write up to 20GB to the current directory (/kaggle/working/) that gets preserved as output when you create a version using \"Save & Run All\" \n",
    "# You can also write temporary files to /kaggle/temp/, but they won't be saved outside of the current session"
   ]
  },
  {
   "cell_type": "markdown",
   "id": "286455b0",
   "metadata": {
    "papermill": {
     "duration": 0.004091,
     "end_time": "2023-02-20T05:51:30.449022",
     "exception": false,
     "start_time": "2023-02-20T05:51:30.444931",
     "status": "completed"
    },
    "tags": []
   },
   "source": [
    "# Recursion"
   ]
  },
  {
   "cell_type": "markdown",
   "id": "cd2f4629",
   "metadata": {
    "papermill": {
     "duration": 0.004023,
     "end_time": "2023-02-20T05:51:30.457504",
     "exception": false,
     "start_time": "2023-02-20T05:51:30.453481",
     "status": "completed"
    },
    "tags": []
   },
   "source": [
    "## Introduction to Recursion & Basic Rules"
   ]
  },
  {
   "cell_type": "markdown",
   "id": "2b4b17f7",
   "metadata": {
    "papermill": {
     "duration": 0.003954,
     "end_time": "2023-02-20T05:51:30.465671",
     "exception": false,
     "start_time": "2023-02-20T05:51:30.461717",
     "status": "completed"
    },
    "tags": []
   },
   "source": [
    "#### What is Recursion?\n",
    "The process in which a function calls itself.\n",
    "\n",
    "#### Why is Recursion used?\n",
    "Recursion is a widely used technique for problem solving.\n",
    "\n",
    "#### Basic Rules of Recursion:\n",
    "1. The function <u>must call itself</u>.\n",
    "2. The function <u>must have a base case</u>, or else the program will go inside infinite loop and crash.\n",
    "3. The recursive call <u>must align towards the base case</u>, or else the program will go inside infinite loop and crash.\n"
   ]
  },
  {
   "cell_type": "code",
   "execution_count": 2,
   "id": "18f15f6f",
   "metadata": {
    "execution": {
     "iopub.execute_input": "2023-02-20T05:51:30.476401Z",
     "iopub.status.busy": "2023-02-20T05:51:30.475894Z",
     "iopub.status.idle": "2023-02-20T05:51:30.483538Z",
     "shell.execute_reply": "2023-02-20T05:51:30.481536Z"
    },
    "papermill": {
     "duration": 0.016742,
     "end_time": "2023-02-20T05:51:30.486722",
     "exception": false,
     "start_time": "2023-02-20T05:51:30.469980",
     "status": "completed"
    },
    "tags": []
   },
   "outputs": [],
   "source": [
    "def recursion(N): # N = 5\n",
    "    # base case\n",
    "    if N == 1:\n",
    "        return\n",
    "    \n",
    "    # recursive call aligning towards the base case\n",
    "    recursion(N-1) # 5,4,3,2,1,end\n",
    "    \n",
    "    # recursive call not aligning towards the base case\n",
    "    recursion(N+1) # 5, 6, 7, 8, ....., loop"
   ]
  },
  {
   "cell_type": "markdown",
   "id": "13c0f721",
   "metadata": {
    "papermill": {
     "duration": 0.00404,
     "end_time": "2023-02-20T05:51:30.495829",
     "exception": false,
     "start_time": "2023-02-20T05:51:30.491789",
     "status": "completed"
    },
    "tags": []
   },
   "source": [
    "## How Recursion works\n",
    "**Every Recursive Call will be pushed into the Stack untill the Base Case is reached, and once it reaches the Base Case it will calculate the Result from Backward**</br>\n",
    "\n",
    "**Factorial using Recursion**</br>\n",
    "Factorial(N) = N x (N-1) x (N-2) x (N-3) ... x 1, here the function calling itself and each time the no. getting subtracted is incremented by 1, and the numbers are getting multiplied with each other.\n",
    "\n",
    "**Recursive Call:** N x function(N-1)</br>\n",
    "**Base Case:** N == 1"
   ]
  },
  {
   "cell_type": "code",
   "execution_count": 3,
   "id": "98823100",
   "metadata": {
    "execution": {
     "iopub.execute_input": "2023-02-20T05:51:30.507612Z",
     "iopub.status.busy": "2023-02-20T05:51:30.506258Z",
     "iopub.status.idle": "2023-02-20T05:51:30.512902Z",
     "shell.execute_reply": "2023-02-20T05:51:30.511890Z"
    },
    "papermill": {
     "duration": 0.014672,
     "end_time": "2023-02-20T05:51:30.515119",
     "exception": false,
     "start_time": "2023-02-20T05:51:30.500447",
     "status": "completed"
    },
    "tags": []
   },
   "outputs": [],
   "source": [
    "def factorial(N:int) -> int:\n",
    "    # assertion\n",
    "    assert N >= 0, \"input must be positive integer\"\n",
    "    \n",
    "    # base case\n",
    "    if N == 1:\n",
    "        return 1\n",
    "    \n",
    "    # function calling itself also the recursive call is aligning towards the base case\n",
    "    return N * factorial(N - 1)"
   ]
  },
  {
   "cell_type": "code",
   "execution_count": 4,
   "id": "82df128a",
   "metadata": {
    "execution": {
     "iopub.execute_input": "2023-02-20T05:51:30.526071Z",
     "iopub.status.busy": "2023-02-20T05:51:30.525536Z",
     "iopub.status.idle": "2023-02-20T05:51:30.536473Z",
     "shell.execute_reply": "2023-02-20T05:51:30.535191Z"
    },
    "papermill": {
     "duration": 0.018807,
     "end_time": "2023-02-20T05:51:30.538388",
     "exception": false,
     "start_time": "2023-02-20T05:51:30.519581",
     "status": "completed"
    },
    "tags": []
   },
   "outputs": [
    {
     "data": {
      "text/plain": [
       "6"
      ]
     },
     "execution_count": 4,
     "metadata": {},
     "output_type": "execute_result"
    }
   ],
   "source": [
    "factorial(3)"
   ]
  },
  {
   "cell_type": "markdown",
   "id": "51f93c55",
   "metadata": {
    "papermill": {
     "duration": 0.004162,
     "end_time": "2023-02-20T05:51:30.547266",
     "exception": false,
     "start_time": "2023-02-20T05:51:30.543104",
     "status": "completed"
    },
    "tags": []
   },
   "source": [
    "## Stack Overflow in Recursion\n",
    "It is the most common issue faced by the Recursion and it will crash the program.\n",
    "\n",
    "## How to avoid Stack Overflow?\n",
    "As we know all the Recursive Calls are pushed into the Stack for it's execution, and after the execution is completed it will be removed from the stack. But the problem is Stack has a finite amount of Storage. Say the size of the Stack is N and when the number of Recursive Call is greater than N then it causes the Stack to Overflow.\n",
    "\n",
    "**Case1 for Stack Overflow:** No Base Case\n",
    "* When there is No Base Case there will be infinite Recursive Calls, which will led to the Stack Overflow"
   ]
  },
  {
   "cell_type": "code",
   "execution_count": 5,
   "id": "43e7aa31",
   "metadata": {
    "execution": {
     "iopub.execute_input": "2023-02-20T05:51:30.557707Z",
     "iopub.status.busy": "2023-02-20T05:51:30.557338Z",
     "iopub.status.idle": "2023-02-20T05:51:30.560931Z",
     "shell.execute_reply": "2023-02-20T05:51:30.560189Z"
    },
    "papermill": {
     "duration": 0.01102,
     "end_time": "2023-02-20T05:51:30.562620",
     "exception": false,
     "start_time": "2023-02-20T05:51:30.551600",
     "status": "completed"
    },
    "tags": []
   },
   "outputs": [],
   "source": [
    "# def factorial(N:int) -> int:\n",
    "#     # no base case\n",
    "#     return N * factorial(N-1) # output: N = 5: 5,4,3,2,1,0,-1,-2,-3,-4..., negative infinity "
   ]
  },
  {
   "cell_type": "markdown",
   "id": "0a4cad14",
   "metadata": {
    "papermill": {
     "duration": 0.004208,
     "end_time": "2023-02-20T05:51:30.571405",
     "exception": false,
     "start_time": "2023-02-20T05:51:30.567197",
     "status": "completed"
    },
    "tags": []
   },
   "source": [
    "**Case2 for Stack Overflow:** When the Recursive Case doesn't align towards the Base Case"
   ]
  },
  {
   "cell_type": "code",
   "execution_count": 6,
   "id": "22abfc0b",
   "metadata": {
    "execution": {
     "iopub.execute_input": "2023-02-20T05:51:30.582211Z",
     "iopub.status.busy": "2023-02-20T05:51:30.581571Z",
     "iopub.status.idle": "2023-02-20T05:51:30.585385Z",
     "shell.execute_reply": "2023-02-20T05:51:30.584730Z"
    },
    "papermill": {
     "duration": 0.0115,
     "end_time": "2023-02-20T05:51:30.587296",
     "exception": false,
     "start_time": "2023-02-20T05:51:30.575796",
     "status": "completed"
    },
    "tags": []
   },
   "outputs": [],
   "source": [
    "# def factorial(N:int) -> int:\n",
    "#     if N == 1:\n",
    "#         return 1\n",
    "#     # Recursive Call doesn't align towards the Base Case\n",
    "#     return N * factorial(N+1) # output N = 5: 5,6,7,8,9,10,...positive infinity"
   ]
  },
  {
   "cell_type": "markdown",
   "id": "ee1e4178",
   "metadata": {
    "papermill": {
     "duration": 0.004275,
     "end_time": "2023-02-20T05:51:30.596453",
     "exception": false,
     "start_time": "2023-02-20T05:51:30.592178",
     "status": "completed"
    },
    "tags": []
   },
   "source": [
    "## How to convert Iterative Function to Recursive Function ?\n",
    "1. **Step1:** convert Termination Condition to Base Case\n",
    "2. **Step2:** convert Loop to Recursive Call\n",
    "3. **Step3:** convert Iterative Logic to Argument for Recursive Call"
   ]
  },
  {
   "cell_type": "markdown",
   "id": "082ece9c",
   "metadata": {
    "papermill": {
     "duration": 0.004433,
     "end_time": "2023-02-20T05:51:30.605502",
     "exception": false,
     "start_time": "2023-02-20T05:51:30.601069",
     "status": "completed"
    },
    "tags": []
   },
   "source": [
    "### Example1: \n",
    "Print all the positive numbers from 1 to the input number\n"
   ]
  },
  {
   "cell_type": "code",
   "execution_count": 7,
   "id": "f31d159c",
   "metadata": {
    "execution": {
     "iopub.execute_input": "2023-02-20T05:51:30.616576Z",
     "iopub.status.busy": "2023-02-20T05:51:30.616177Z",
     "iopub.status.idle": "2023-02-20T05:51:30.623982Z",
     "shell.execute_reply": "2023-02-20T05:51:30.622380Z"
    },
    "papermill": {
     "duration": 0.016177,
     "end_time": "2023-02-20T05:51:30.626304",
     "exception": false,
     "start_time": "2023-02-20T05:51:30.610127",
     "status": "completed"
    },
    "tags": []
   },
   "outputs": [],
   "source": [
    "# print all the numbers from 1 to the given number\n",
    "def print_number(N:int) -> None:\n",
    "    # iterative method\n",
    "    for n in range(N,0, -1): # Termination Condition: run the loop till N is not less than 1 or N is greater than 1, Iterative Logic (N-1)\n",
    "        print(n)             \n",
    "        \n",
    "def another_print_number(N:int) -> None:\n",
    "    while N > 0:            # Termination Condition: run the loop till N is not less than 1 or N is greater than 1\n",
    "        print(N)\n",
    "        N -= 1              # Iterative Logic (N-1)\n",
    "        \n",
    "def print_number_recursion(N:int) -> None:\n",
    "    if N == 1:                             # convert Termination Condition to Base Case\n",
    "        return 1\n",
    "    print(N)\n",
    "    return print_number_recursion(N-1)     # convert Loop to Recursive Call,  convert Iterative Logic to Argument for Recursive Call"
   ]
  },
  {
   "cell_type": "code",
   "execution_count": 8,
   "id": "c5b4d101",
   "metadata": {
    "execution": {
     "iopub.execute_input": "2023-02-20T05:51:30.638102Z",
     "iopub.status.busy": "2023-02-20T05:51:30.637695Z",
     "iopub.status.idle": "2023-02-20T05:51:30.648669Z",
     "shell.execute_reply": "2023-02-20T05:51:30.646888Z"
    },
    "papermill": {
     "duration": 0.020493,
     "end_time": "2023-02-20T05:51:30.651731",
     "exception": false,
     "start_time": "2023-02-20T05:51:30.631238",
     "status": "completed"
    },
    "tags": []
   },
   "outputs": [
    {
     "name": "stdout",
     "output_type": "stream",
     "text": [
      "\n",
      "Iterative\n",
      "\n",
      "5\n",
      "4\n",
      "3\n",
      "2\n",
      "1\n",
      "\n",
      "Iterative\n",
      "\n",
      "5\n",
      "4\n",
      "3\n",
      "2\n",
      "1\n",
      "\n",
      "Recursion\n",
      "\n",
      "5\n",
      "4\n",
      "3\n",
      "2\n"
     ]
    },
    {
     "data": {
      "text/plain": [
       "1"
      ]
     },
     "execution_count": 8,
     "metadata": {},
     "output_type": "execute_result"
    }
   ],
   "source": [
    "print(\"\\nIterative\\n\")\n",
    "print_number(5)\n",
    "print(\"\\nIterative\\n\")\n",
    "another_print_number(5)\n",
    "print(\"\\nRecursion\\n\")\n",
    "print_number_recursion(5)"
   ]
  },
  {
   "cell_type": "markdown",
   "id": "6022fdfb",
   "metadata": {
    "papermill": {
     "duration": 0.004406,
     "end_time": "2023-02-20T05:51:30.661081",
     "exception": false,
     "start_time": "2023-02-20T05:51:30.656675",
     "status": "completed"
    },
    "tags": []
   },
   "source": [
    "### Example2\n",
    "Reverse a string"
   ]
  },
  {
   "cell_type": "code",
   "execution_count": 9,
   "id": "f9bd6947",
   "metadata": {
    "execution": {
     "iopub.execute_input": "2023-02-20T05:51:30.672176Z",
     "iopub.status.busy": "2023-02-20T05:51:30.671827Z",
     "iopub.status.idle": "2023-02-20T05:51:30.678975Z",
     "shell.execute_reply": "2023-02-20T05:51:30.677788Z"
    },
    "papermill": {
     "duration": 0.015306,
     "end_time": "2023-02-20T05:51:30.681056",
     "exception": false,
     "start_time": "2023-02-20T05:51:30.665750",
     "status": "completed"
    },
    "tags": []
   },
   "outputs": [],
   "source": [
    "def reverse_string(S:str) -> None:\n",
    "    N = len(S)\n",
    "    for i in range(N-1,-1,-1):\n",
    "        print(S[i])\n",
    "        \n",
    "def reverse_string2(S:str) -> str:\n",
    "    string = \"\"\n",
    "    for i in S:\n",
    "        string = i + string\n",
    "    print(string)\n",
    "    return string\n",
    "        \n",
    "def reverse_string_recursion(S:str) -> None: \n",
    "    N = len(S)\n",
    "    if N == 0:\n",
    "        return S\n",
    "    \n",
    "    return reverse_string_recursion(S[1:]) + S[0]\n",
    "        "
   ]
  },
  {
   "cell_type": "code",
   "execution_count": 10,
   "id": "3fed182e",
   "metadata": {
    "execution": {
     "iopub.execute_input": "2023-02-20T05:51:30.692979Z",
     "iopub.status.busy": "2023-02-20T05:51:30.692464Z",
     "iopub.status.idle": "2023-02-20T05:51:30.699965Z",
     "shell.execute_reply": "2023-02-20T05:51:30.698987Z"
    },
    "papermill": {
     "duration": 0.017185,
     "end_time": "2023-02-20T05:51:30.703161",
     "exception": false,
     "start_time": "2023-02-20T05:51:30.685976",
     "status": "completed"
    },
    "tags": []
   },
   "outputs": [
    {
     "name": "stdout",
     "output_type": "stream",
     "text": [
      "a\n",
      "t\n",
      "a\n",
      "r\n",
      "b\n",
      "u\n",
      "s\n",
      "atarbus\n"
     ]
    },
    {
     "data": {
      "text/plain": [
       "'atarbus'"
      ]
     },
     "execution_count": 10,
     "metadata": {},
     "output_type": "execute_result"
    }
   ],
   "source": [
    "S = \"subrata\"\n",
    "\n",
    "reverse_string(S)\n",
    "reverse_string_recursion(S)\n",
    "reverse_string2(S)"
   ]
  },
  {
   "cell_type": "markdown",
   "id": "b2bfc5a4",
   "metadata": {
    "papermill": {
     "duration": 0.005201,
     "end_time": "2023-02-20T05:51:30.714889",
     "exception": false,
     "start_time": "2023-02-20T05:51:30.709688",
     "status": "completed"
    },
    "tags": []
   },
   "source": [
    "## Iteration vs Recursion"
   ]
  },
  {
   "cell_type": "code",
   "execution_count": null,
   "id": "b1694621",
   "metadata": {
    "papermill": {
     "duration": 0.004643,
     "end_time": "2023-02-20T05:51:30.724757",
     "exception": false,
     "start_time": "2023-02-20T05:51:30.720114",
     "status": "completed"
    },
    "tags": []
   },
   "outputs": [],
   "source": []
  }
 ],
 "metadata": {
  "kernelspec": {
   "display_name": "Python 3",
   "language": "python",
   "name": "python3"
  },
  "language_info": {
   "codemirror_mode": {
    "name": "ipython",
    "version": 3
   },
   "file_extension": ".py",
   "mimetype": "text/x-python",
   "name": "python",
   "nbconvert_exporter": "python",
   "pygments_lexer": "ipython3",
   "version": "3.7.12"
  },
  "papermill": {
   "default_parameters": {},
   "duration": 12.819863,
   "end_time": "2023-02-20T05:51:33.958687",
   "environment_variables": {},
   "exception": null,
   "input_path": "__notebook__.ipynb",
   "output_path": "__notebook__.ipynb",
   "parameters": {},
   "start_time": "2023-02-20T05:51:21.138824",
   "version": "2.3.4"
  }
 },
 "nbformat": 4,
 "nbformat_minor": 5
}
