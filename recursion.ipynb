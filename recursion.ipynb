{
 "cells": [
  {
   "cell_type": "code",
   "execution_count": 1,
   "id": "7bb0e022",
   "metadata": {
    "_cell_guid": "b1076dfc-b9ad-4769-8c92-a6c4dae69d19",
    "_uuid": "8f2839f25d086af736a60e9eeb907d3b93b6e0e5",
    "execution": {
     "iopub.execute_input": "2023-02-25T18:10:18.285879Z",
     "iopub.status.busy": "2023-02-25T18:10:18.284559Z",
     "iopub.status.idle": "2023-02-25T18:10:18.298897Z",
     "shell.execute_reply": "2023-02-25T18:10:18.297769Z"
    },
    "papermill": {
     "duration": 0.031308,
     "end_time": "2023-02-25T18:10:18.301409",
     "exception": false,
     "start_time": "2023-02-25T18:10:18.270101",
     "status": "completed"
    },
    "tags": []
   },
   "outputs": [],
   "source": [
    "# This Python 3 environment comes with many helpful analytics libraries installed\n",
    "# It is defined by the kaggle/python Docker image: https://github.com/kaggle/docker-python\n",
    "# For example, here's several helpful packages to load\n",
    "\n",
    "import numpy as np # linear algebra\n",
    "import pandas as pd # data processing, CSV file I/O (e.g. pd.read_csv)\n",
    "\n",
    "# Input data files are available in the read-only \"../input/\" directory\n",
    "# For example, running this (by clicking run or pressing Shift+Enter) will list all files under the input directory\n",
    "\n",
    "import os\n",
    "for dirname, _, filenames in os.walk('/kaggle/input'):\n",
    "    for filename in filenames:\n",
    "        print(os.path.join(dirname, filename))\n",
    "\n",
    "# You can write up to 20GB to the current directory (/kaggle/working/) that gets preserved as output when you create a version using \"Save & Run All\" \n",
    "# You can also write temporary files to /kaggle/temp/, but they won't be saved outside of the current session"
   ]
  },
  {
   "cell_type": "markdown",
   "id": "e028724b",
   "metadata": {
    "papermill": {
     "duration": 0.010585,
     "end_time": "2023-02-25T18:10:18.323121",
     "exception": false,
     "start_time": "2023-02-25T18:10:18.312536",
     "status": "completed"
    },
    "tags": []
   },
   "source": [
    "# <center>Recursion</center>\n",
    "---"
   ]
  },
  {
   "cell_type": "markdown",
   "id": "cfa50b1c",
   "metadata": {
    "papermill": {
     "duration": 0.010527,
     "end_time": "2023-02-25T18:10:18.344629",
     "exception": false,
     "start_time": "2023-02-25T18:10:18.334102",
     "status": "completed"
    },
    "tags": []
   },
   "source": [
    "## Introduction to Recursion & Basic Rules"
   ]
  },
  {
   "cell_type": "markdown",
   "id": "914850f5",
   "metadata": {
    "papermill": {
     "duration": 0.010551,
     "end_time": "2023-02-25T18:10:18.365953",
     "exception": false,
     "start_time": "2023-02-25T18:10:18.355402",
     "status": "completed"
    },
    "tags": []
   },
   "source": [
    "#### What is Recursion?\n",
    "The process in which a function calls itself.\n",
    "\n",
    "#### Why is Recursion used?\n",
    "Recursion is a widely used technique for problem solving.\n",
    "\n",
    "#### Basic Rules of Recursion:\n",
    "1. The function <u>must call itself</u>.\n",
    "2. The function <u>must have a base case</u>, or else the program will go inside infinite loop and crash.\n",
    "3. The recursive call <u>must align towards the base case</u>, or else the program will go inside infinite loop and crash.\n"
   ]
  },
  {
   "cell_type": "code",
   "execution_count": 2,
   "id": "6878a787",
   "metadata": {
    "execution": {
     "iopub.execute_input": "2023-02-25T18:10:18.390026Z",
     "iopub.status.busy": "2023-02-25T18:10:18.388841Z",
     "iopub.status.idle": "2023-02-25T18:10:18.394883Z",
     "shell.execute_reply": "2023-02-25T18:10:18.393918Z"
    },
    "papermill": {
     "duration": 0.02045,
     "end_time": "2023-02-25T18:10:18.397130",
     "exception": false,
     "start_time": "2023-02-25T18:10:18.376680",
     "status": "completed"
    },
    "tags": []
   },
   "outputs": [],
   "source": [
    "def recursion(N): # N = 5\n",
    "    # base case\n",
    "    if N == 1:\n",
    "        return\n",
    "    \n",
    "    # recursive call aligning towards the base case\n",
    "    recursion(N-1) # 5,4,3,2,1,end\n",
    "    \n",
    "    # recursive call not aligning towards the base case\n",
    "    recursion(N+1) # 5, 6, 7, 8, ....., loop"
   ]
  },
  {
   "cell_type": "markdown",
   "id": "a3b62020",
   "metadata": {
    "papermill": {
     "duration": 0.010889,
     "end_time": "2023-02-25T18:10:18.419331",
     "exception": false,
     "start_time": "2023-02-25T18:10:18.408442",
     "status": "completed"
    },
    "tags": []
   },
   "source": [
    "## How Recursion works\n",
    "**Every Recursive Call will be pushed into the Stack untill the Base Case is reached, and once it reaches the Base Case it will calculate the Result from Backward using Stack's LIFO principle**</br>\n",
    "\n",
    "**Factorial using Recursion**</br>\n",
    "Factorial(N) = N x (N-1) x (N-2) x (N-3) ... x 1, here the function calling itself and each time the no. getting subtracted is incremented by 1, and the numbers are getting multiplied with each other.\n",
    "\n",
    "**Recursive Call:** N x function(N-1)</br>\n",
    "**Base Case:** N == 1"
   ]
  },
  {
   "cell_type": "code",
   "execution_count": 3,
   "id": "78c0a182",
   "metadata": {
    "execution": {
     "iopub.execute_input": "2023-02-25T18:10:18.442771Z",
     "iopub.status.busy": "2023-02-25T18:10:18.442387Z",
     "iopub.status.idle": "2023-02-25T18:10:18.448113Z",
     "shell.execute_reply": "2023-02-25T18:10:18.446975Z"
    },
    "papermill": {
     "duration": 0.020113,
     "end_time": "2023-02-25T18:10:18.450384",
     "exception": false,
     "start_time": "2023-02-25T18:10:18.430271",
     "status": "completed"
    },
    "tags": []
   },
   "outputs": [],
   "source": [
    "def factorial(N:int) -> int:\n",
    "    # assertion\n",
    "    assert N >= 0, \"input must be positive integer\"\n",
    "    \n",
    "    # base case\n",
    "    if N == 1:\n",
    "        return 1\n",
    "    \n",
    "    # function calling itself also the recursive call is aligning towards the base case\n",
    "    return N * factorial(N - 1)"
   ]
  },
  {
   "cell_type": "code",
   "execution_count": 4,
   "id": "5fab95dd",
   "metadata": {
    "execution": {
     "iopub.execute_input": "2023-02-25T18:10:18.473997Z",
     "iopub.status.busy": "2023-02-25T18:10:18.473571Z",
     "iopub.status.idle": "2023-02-25T18:10:18.482403Z",
     "shell.execute_reply": "2023-02-25T18:10:18.481226Z"
    },
    "papermill": {
     "duration": 0.024436,
     "end_time": "2023-02-25T18:10:18.485697",
     "exception": false,
     "start_time": "2023-02-25T18:10:18.461261",
     "status": "completed"
    },
    "tags": []
   },
   "outputs": [
    {
     "data": {
      "text/plain": [
       "6"
      ]
     },
     "execution_count": 4,
     "metadata": {},
     "output_type": "execute_result"
    }
   ],
   "source": [
    "factorial(3)"
   ]
  },
  {
   "cell_type": "markdown",
   "id": "dbc42e9a",
   "metadata": {
    "papermill": {
     "duration": 0.010663,
     "end_time": "2023-02-25T18:10:18.507916",
     "exception": false,
     "start_time": "2023-02-25T18:10:18.497253",
     "status": "completed"
    },
    "tags": []
   },
   "source": [
    "## Stack Overflow in Recursion\n",
    "It is the most common issue faced by the Recursion and it will crash the program.\n",
    "\n",
    "## How to avoid Stack Overflow?\n",
    "As we know all the Recursive Calls are pushed into the Stack for it's execution, and after the execution is completed it will be removed from the stack. But the problem is Stack has a finite amount of Storage. Say the size of the Stack is N and when the number of Recursive Call is greater than N then it causes the Stack to Overflow.\n",
    "\n",
    "**Case1 for Stack Overflow:** No Base Case\n",
    "* When there is No Base Case there will be infinite Recursive Calls, which will led to the Stack Overflow"
   ]
  },
  {
   "cell_type": "code",
   "execution_count": 5,
   "id": "cf402837",
   "metadata": {
    "execution": {
     "iopub.execute_input": "2023-02-25T18:10:18.531937Z",
     "iopub.status.busy": "2023-02-25T18:10:18.531277Z",
     "iopub.status.idle": "2023-02-25T18:10:18.535768Z",
     "shell.execute_reply": "2023-02-25T18:10:18.534978Z"
    },
    "papermill": {
     "duration": 0.019006,
     "end_time": "2023-02-25T18:10:18.537869",
     "exception": false,
     "start_time": "2023-02-25T18:10:18.518863",
     "status": "completed"
    },
    "tags": []
   },
   "outputs": [],
   "source": [
    "# def factorial(N:int) -> int:\n",
    "#     # no base case\n",
    "#     return N * factorial(N-1) # output: N = 5: 5,4,3,2,1,0,-1,-2,-3,-4..., negative infinity "
   ]
  },
  {
   "cell_type": "markdown",
   "id": "99db514d",
   "metadata": {
    "papermill": {
     "duration": 0.010654,
     "end_time": "2023-02-25T18:10:18.559373",
     "exception": false,
     "start_time": "2023-02-25T18:10:18.548719",
     "status": "completed"
    },
    "tags": []
   },
   "source": [
    "**Case2 for Stack Overflow:** When the Recursive Case doesn't align towards the Base Case"
   ]
  },
  {
   "cell_type": "code",
   "execution_count": 6,
   "id": "f9c645db",
   "metadata": {
    "execution": {
     "iopub.execute_input": "2023-02-25T18:10:18.584529Z",
     "iopub.status.busy": "2023-02-25T18:10:18.583699Z",
     "iopub.status.idle": "2023-02-25T18:10:18.590292Z",
     "shell.execute_reply": "2023-02-25T18:10:18.588808Z"
    },
    "papermill": {
     "duration": 0.022816,
     "end_time": "2023-02-25T18:10:18.593033",
     "exception": false,
     "start_time": "2023-02-25T18:10:18.570217",
     "status": "completed"
    },
    "tags": []
   },
   "outputs": [],
   "source": [
    "# def factorial(N:int) -> int:\n",
    "#     if N == 1:\n",
    "#         return 1\n",
    "#     # Recursive Call doesn't align towards the Base Case\n",
    "#     return N * factorial(N+1) # output N = 5: 5,6,7,8,9,10,...positive infinity"
   ]
  },
  {
   "cell_type": "markdown",
   "id": "b220eace",
   "metadata": {
    "papermill": {
     "duration": 0.013059,
     "end_time": "2023-02-25T18:10:18.618280",
     "exception": false,
     "start_time": "2023-02-25T18:10:18.605221",
     "status": "completed"
    },
    "tags": []
   },
   "source": [
    "## How to convert Iterative Function to Recursive Function ?\n",
    "1. **Step1:** convert Termination Condition to Base Case\n",
    "2. **Step2:** convert Loop to Recursive Call\n",
    "3. **Step3:** convert Iterative Logic to Argument for Recursive Call"
   ]
  },
  {
   "cell_type": "markdown",
   "id": "aac94b62",
   "metadata": {
    "papermill": {
     "duration": 0.013307,
     "end_time": "2023-02-25T18:10:18.648925",
     "exception": false,
     "start_time": "2023-02-25T18:10:18.635618",
     "status": "completed"
    },
    "tags": []
   },
   "source": [
    "### Example1: \n",
    "Print all the positive numbers from 1 to the input number\n"
   ]
  },
  {
   "cell_type": "code",
   "execution_count": 7,
   "id": "0f528064",
   "metadata": {
    "execution": {
     "iopub.execute_input": "2023-02-25T18:10:18.682860Z",
     "iopub.status.busy": "2023-02-25T18:10:18.682102Z",
     "iopub.status.idle": "2023-02-25T18:10:18.689895Z",
     "shell.execute_reply": "2023-02-25T18:10:18.688668Z"
    },
    "papermill": {
     "duration": 0.029575,
     "end_time": "2023-02-25T18:10:18.692287",
     "exception": false,
     "start_time": "2023-02-25T18:10:18.662712",
     "status": "completed"
    },
    "tags": []
   },
   "outputs": [],
   "source": [
    "# print all the numbers from 1 to the given number\n",
    "def print_number(N:int) -> None:\n",
    "    # iterative method\n",
    "    for n in range(N,0, -1): # Termination Condition: run the loop till N is not less than 1 or N is greater than 1, Iterative Logic (N-1)\n",
    "        print(n)             \n",
    "        \n",
    "def another_print_number(N:int) -> None:\n",
    "    while N > 0:            # Termination Condition: run the loop till N is not less than 1 or N is greater than 1\n",
    "        print(N)\n",
    "        N -= 1              # Iterative Logic (N-1)\n",
    "        \n",
    "def print_number_recursion(N:int) -> None:\n",
    "    if N == 1:                             # convert Termination Condition to Base Case\n",
    "        return 1\n",
    "    print(N)\n",
    "    return print_number_recursion(N-1)     # convert Loop to Recursive Call,  convert Iterative Logic to Argument for Recursive Call"
   ]
  },
  {
   "cell_type": "code",
   "execution_count": 8,
   "id": "4460f45a",
   "metadata": {
    "execution": {
     "iopub.execute_input": "2023-02-25T18:10:18.716830Z",
     "iopub.status.busy": "2023-02-25T18:10:18.716124Z",
     "iopub.status.idle": "2023-02-25T18:10:18.725121Z",
     "shell.execute_reply": "2023-02-25T18:10:18.723865Z"
    },
    "papermill": {
     "duration": 0.024319,
     "end_time": "2023-02-25T18:10:18.727679",
     "exception": false,
     "start_time": "2023-02-25T18:10:18.703360",
     "status": "completed"
    },
    "tags": []
   },
   "outputs": [
    {
     "name": "stdout",
     "output_type": "stream",
     "text": [
      "\n",
      "Iterative\n",
      "\n",
      "5\n",
      "4\n",
      "3\n",
      "2\n",
      "1\n",
      "\n",
      "Iterative\n",
      "\n",
      "5\n",
      "4\n",
      "3\n",
      "2\n",
      "1\n",
      "\n",
      "Recursion\n",
      "\n",
      "5\n",
      "4\n",
      "3\n",
      "2\n"
     ]
    },
    {
     "data": {
      "text/plain": [
       "1"
      ]
     },
     "execution_count": 8,
     "metadata": {},
     "output_type": "execute_result"
    }
   ],
   "source": [
    "print(\"\\nIterative\\n\")\n",
    "print_number(5)\n",
    "print(\"\\nIterative\\n\")\n",
    "another_print_number(5)\n",
    "print(\"\\nRecursion\\n\")\n",
    "print_number_recursion(5)"
   ]
  },
  {
   "cell_type": "markdown",
   "id": "3145061f",
   "metadata": {
    "papermill": {
     "duration": 0.010837,
     "end_time": "2023-02-25T18:10:18.749732",
     "exception": false,
     "start_time": "2023-02-25T18:10:18.738895",
     "status": "completed"
    },
    "tags": []
   },
   "source": [
    "### Example2\n",
    "Reverse a string"
   ]
  },
  {
   "cell_type": "code",
   "execution_count": 9,
   "id": "7b8215f2",
   "metadata": {
    "execution": {
     "iopub.execute_input": "2023-02-25T18:10:18.773837Z",
     "iopub.status.busy": "2023-02-25T18:10:18.773442Z",
     "iopub.status.idle": "2023-02-25T18:10:18.781646Z",
     "shell.execute_reply": "2023-02-25T18:10:18.780199Z"
    },
    "papermill": {
     "duration": 0.023385,
     "end_time": "2023-02-25T18:10:18.784173",
     "exception": false,
     "start_time": "2023-02-25T18:10:18.760788",
     "status": "completed"
    },
    "tags": []
   },
   "outputs": [],
   "source": [
    "def reverse_string(S:str) -> None:\n",
    "    N = len(S)\n",
    "    for i in range(N-1,-1,-1):\n",
    "        print(S[i])\n",
    "        \n",
    "def reverse_string2(S:str) -> str:\n",
    "    string = \"\"\n",
    "    for i in S:\n",
    "        string = i + string\n",
    "    print(string)\n",
    "    return string\n",
    "        \n",
    "def reverse_string_recursion(S:str) -> str: \n",
    "    N = len(S)\n",
    "    if N == 0:\n",
    "        return S\n",
    "    \n",
    "    return reverse_string_recursion(S[1:]) + S[0]\n",
    "        "
   ]
  },
  {
   "cell_type": "code",
   "execution_count": 10,
   "id": "34486c0b",
   "metadata": {
    "execution": {
     "iopub.execute_input": "2023-02-25T18:10:18.809739Z",
     "iopub.status.busy": "2023-02-25T18:10:18.809326Z",
     "iopub.status.idle": "2023-02-25T18:10:18.818348Z",
     "shell.execute_reply": "2023-02-25T18:10:18.816666Z"
    },
    "papermill": {
     "duration": 0.025404,
     "end_time": "2023-02-25T18:10:18.821155",
     "exception": false,
     "start_time": "2023-02-25T18:10:18.795751",
     "status": "completed"
    },
    "tags": []
   },
   "outputs": [
    {
     "name": "stdout",
     "output_type": "stream",
     "text": [
      "a\n",
      "t\n",
      "a\n",
      "r\n",
      "b\n",
      "u\n",
      "s\n",
      "atarbus\n"
     ]
    },
    {
     "data": {
      "text/plain": [
       "'atarbus'"
      ]
     },
     "execution_count": 10,
     "metadata": {},
     "output_type": "execute_result"
    }
   ],
   "source": [
    "S = \"subrata\"\n",
    "\n",
    "reverse_string(S)\n",
    "reverse_string_recursion(S)\n",
    "reverse_string2(S)"
   ]
  },
  {
   "cell_type": "markdown",
   "id": "715ca724",
   "metadata": {
    "papermill": {
     "duration": 0.011145,
     "end_time": "2023-02-25T18:10:18.843814",
     "exception": false,
     "start_time": "2023-02-25T18:10:18.832669",
     "status": "completed"
    },
    "tags": []
   },
   "source": [
    "## Iteration vs Recursion\n",
    "**Note:** Recursive Call == Recursive Function\n",
    "### Iteration\n",
    "* Example: given a positive number N, print from N to 1 i.e if N=5 then print 5,4,3,2,1\n",
    "1. **Working Principle:** In iteration we need to initialize the `loop control variable` and increment or decrement it based on the need, and to run the code inside the loop the ` loop control variable` is checked against the `termination condition` i.e until the termination condition is true the inner statement of the loop will continuously execute.\n",
    "2. **Control Variable and Termination Logic:** In iteration the value of the Control Variable continuously move towards the Termination Logic.\n",
    "3. **Storage:** In iteration, the Control Variable stores the value and it is incremented or decremented based on need, and the updated value of the Control Variable will be checked with the Termination Condition.\n",
    "4. **Workings with Infinite Loop:** In iteration, when the Control Variable doesn't move towards the Termination Condition or there is no Termination Condition then the Loop will execute infinitely and it will consumes a lot of CPU cycles (the computer crashes, hangs) until we stop the execution manually\n",
    "\n",
    "### Recursion\n",
    "* Example: given a positive number N, print from N to 1 i.e if N=5 then print 5,4,3,2,1\n",
    "1. **Working Principle:** Whereas, in recursion the function will call itself to solve the problem so the recursion must have a Base Case i.e the termination condition to stop the function from calling itself and causing stack overflow. Until the Base Case is reached the function will call itself to solve the problem.\n",
    "2. **Control Variable and Termination Logic:** Whereas, in recursion the Recursive Call (Control Variable) will move towards the Base Case (Termination Condition)\n",
    "3. **Storage:** Whereas, in recursion, state of every Recursive Call will be stored and maintained in the Stack Memory and when the Base Case is reached the Execution will follow the Last In First Out (LIFO) principle i.e the last inserted Recursive Call will be executed first then it's result will be returned to the below Recursive Call and so on.\n",
    "4. **Workings with Infinite Loop:** Whereas, in recursion if there is no Base Case or the Recursive Call doesn't move towards the Base Case then the Recursive Call will be pushed into the Stack Memory until it causes Stack Overflow and the program crashes."
   ]
  },
  {
   "cell_type": "code",
   "execution_count": 11,
   "id": "f6dbae17",
   "metadata": {
    "execution": {
     "iopub.execute_input": "2023-02-25T18:10:18.869197Z",
     "iopub.status.busy": "2023-02-25T18:10:18.868733Z",
     "iopub.status.idle": "2023-02-25T18:10:18.876119Z",
     "shell.execute_reply": "2023-02-25T18:10:18.874769Z"
    },
    "papermill": {
     "duration": 0.023409,
     "end_time": "2023-02-25T18:10:18.878951",
     "exception": false,
     "start_time": "2023-02-25T18:10:18.855542",
     "status": "completed"
    },
    "tags": []
   },
   "outputs": [
    {
     "name": "stdout",
     "output_type": "stream",
     "text": [
      "5\n",
      "4\n",
      "3\n",
      "2\n",
      "1\n",
      "\n",
      "\n",
      "5\n",
      "4\n",
      "3\n",
      "2\n",
      "1\n"
     ]
    }
   ],
   "source": [
    "def iteration(N):\n",
    "    # range(initialize loop control variable, termination condition, logic i.e decrementing control variable)\n",
    "    for i in range(N,0,-1): # loop control variable is N and we are decrementing it, termination condition is 0\n",
    "        print(i)            # to run the code inside the loop the control variable N is checked against the termination condition 0\n",
    "\n",
    "iteration(5)\n",
    "print(\"\\n\")\n",
    "\n",
    "def recursion(N):\n",
    "    if N == 1:           # Termination Logic\n",
    "        print(1)\n",
    "        return \n",
    "    print(N)\n",
    "    return recursion(N-1) # control variable\n",
    "\n",
    "recursion(5)"
   ]
  },
  {
   "cell_type": "markdown",
   "id": "2984f875",
   "metadata": {
    "papermill": {
     "duration": 0.011201,
     "end_time": "2023-02-25T18:10:18.901765",
     "exception": false,
     "start_time": "2023-02-25T18:10:18.890564",
     "status": "completed"
    },
    "tags": []
   },
   "source": [
    "## Types of Recursion\n",
    "1. **Direct Recursion:** in direct recursion, the function will call itself, it is further divided into four types\n",
    "    1. `Tail Recursion:` in tail recursion the Recursive Call is the last(tail) thing executed by the function\n",
    "    2. `Head Recursion:` in head recursion the Recursive Call is the first(head) thing executed by the function\n",
    "    3. `Nested Recursion:` it is recursion inside a recursion i.e the Recursive Call will take Recursive Call as a parameter\n",
    "    4. `Tree or Binary Recursion:` in binary or tree recursion the Recursive Call calls itself twice\n",
    "    \n",
    "2. **Indirect/Mutual Recursion** in indirect recursion, more than one function will call mutually"
   ]
  },
  {
   "cell_type": "code",
   "execution_count": 12,
   "id": "41a5ee21",
   "metadata": {
    "execution": {
     "iopub.execute_input": "2023-02-25T18:10:18.926584Z",
     "iopub.status.busy": "2023-02-25T18:10:18.926174Z",
     "iopub.status.idle": "2023-02-25T18:10:18.933342Z",
     "shell.execute_reply": "2023-02-25T18:10:18.932188Z"
    },
    "papermill": {
     "duration": 0.022595,
     "end_time": "2023-02-25T18:10:18.935888",
     "exception": false,
     "start_time": "2023-02-25T18:10:18.913293",
     "status": "completed"
    },
    "tags": []
   },
   "outputs": [],
   "source": [
    "# Tail Recursion (Direct Recursion)\n",
    "def tail_recursion(N):\n",
    "    # operation1\n",
    "    # operation2\n",
    "    return tail_recursion(N-1)\n",
    "\n",
    "# Head Recursion (Direct Recursion)\n",
    "def head_recursion(N):\n",
    "    head_recursion(N-1)\n",
    "    # operation1\n",
    "    # operation2\n",
    "\n",
    "# Nested Recursion (Direct Recursion)\n",
    "def nested_recursion(N):\n",
    "    # operation1\n",
    "    # operation2\n",
    "    return nested_recursion(nested_recursion(N-1))\n",
    "\n",
    "# Tree or Binary Recursion (Direct Recursion)\n",
    "def tree_binary_recursion(N):\n",
    "    # operation1\n",
    "    # operation2\n",
    "    tree_binary_recursion(N-1)\n",
    "    tree_binary_recursion(N-2)\n",
    "    return\n"
   ]
  },
  {
   "cell_type": "markdown",
   "id": "eb7daa1f",
   "metadata": {
    "papermill": {
     "duration": 0.011285,
     "end_time": "2023-02-25T18:10:18.958972",
     "exception": false,
     "start_time": "2023-02-25T18:10:18.947687",
     "status": "completed"
    },
    "tags": []
   },
   "source": [
    "### Tail Recursion: \n",
    "**in tail recursion the Recursive Call is the last(tail) thing executed by the function**"
   ]
  },
  {
   "cell_type": "code",
   "execution_count": 13,
   "id": "c8bb3893",
   "metadata": {
    "execution": {
     "iopub.execute_input": "2023-02-25T18:10:18.984008Z",
     "iopub.status.busy": "2023-02-25T18:10:18.983420Z",
     "iopub.status.idle": "2023-02-25T18:10:18.989933Z",
     "shell.execute_reply": "2023-02-25T18:10:18.988828Z"
    },
    "papermill": {
     "duration": 0.022108,
     "end_time": "2023-02-25T18:10:18.992685",
     "exception": false,
     "start_time": "2023-02-25T18:10:18.970577",
     "status": "completed"
    },
    "tags": []
   },
   "outputs": [
    {
     "name": "stdout",
     "output_type": "stream",
     "text": [
      "Subrata\n",
      "ubrata\n",
      "brata\n",
      "rata\n",
      "ata\n",
      "ta\n",
      "a\n"
     ]
    }
   ],
   "source": [
    "def tail_recursion(S:str) -> None:\n",
    "    if len(S) is 0:\n",
    "        return\n",
    "    print(S)\n",
    "    tail_recursion(S[1:])\n",
    "\n",
    "tail_recursion(\"Subrata\")"
   ]
  },
  {
   "cell_type": "markdown",
   "id": "9fe6b59e",
   "metadata": {
    "papermill": {
     "duration": 0.011128,
     "end_time": "2023-02-25T18:10:19.015428",
     "exception": false,
     "start_time": "2023-02-25T18:10:19.004300",
     "status": "completed"
    },
    "tags": []
   },
   "source": [
    "### Head Recursion: \n",
    "**in head recursion the Recursive Call is the first(head) thing executed by the function**"
   ]
  },
  {
   "cell_type": "code",
   "execution_count": 14,
   "id": "c136e5af",
   "metadata": {
    "execution": {
     "iopub.execute_input": "2023-02-25T18:10:19.039819Z",
     "iopub.status.busy": "2023-02-25T18:10:19.039435Z",
     "iopub.status.idle": "2023-02-25T18:10:19.046169Z",
     "shell.execute_reply": "2023-02-25T18:10:19.044986Z"
    },
    "papermill": {
     "duration": 0.021856,
     "end_time": "2023-02-25T18:10:19.048630",
     "exception": false,
     "start_time": "2023-02-25T18:10:19.026774",
     "status": "completed"
    },
    "tags": []
   },
   "outputs": [
    {
     "name": "stdout",
     "output_type": "stream",
     "text": [
      "a\n",
      "ta\n",
      "ata\n",
      "rata\n",
      "brata\n",
      "ubrata\n",
      "Subrata\n"
     ]
    }
   ],
   "source": [
    "def head_recursion(S:str) -> None:\n",
    "    if len(S) is 0:\n",
    "        return\n",
    "    \n",
    "    head_recursion(S[1:])\n",
    "    print(S)\n",
    "    \n",
    "head_recursion(\"Subrata\")"
   ]
  },
  {
   "cell_type": "markdown",
   "id": "a2fa68fb",
   "metadata": {
    "papermill": {
     "duration": 0.011665,
     "end_time": "2023-02-25T18:10:19.071814",
     "exception": false,
     "start_time": "2023-02-25T18:10:19.060149",
     "status": "completed"
    },
    "tags": []
   },
   "source": [
    "### Nested Recursion: \n",
    "**it is recursion inside a recursion i.e the Recursive Call will take Recursive Call as a parameter**"
   ]
  },
  {
   "cell_type": "code",
   "execution_count": 15,
   "id": "5bfb2529",
   "metadata": {
    "execution": {
     "iopub.execute_input": "2023-02-25T18:10:19.098023Z",
     "iopub.status.busy": "2023-02-25T18:10:19.097031Z",
     "iopub.status.idle": "2023-02-25T18:10:19.105838Z",
     "shell.execute_reply": "2023-02-25T18:10:19.104614Z"
    },
    "papermill": {
     "duration": 0.024792,
     "end_time": "2023-02-25T18:10:19.108416",
     "exception": false,
     "start_time": "2023-02-25T18:10:19.083624",
     "status": "completed"
    },
    "tags": []
   },
   "outputs": [
    {
     "data": {
      "text/plain": [
       "10"
      ]
     },
     "execution_count": 15,
     "metadata": {},
     "output_type": "execute_result"
    }
   ],
   "source": [
    "def nested_recursion(N:int) -> int:\n",
    "    if N > 10:\n",
    "        return N - 1\n",
    "    \n",
    "    return nested_recursion(nested_recursion(N+2)) # when N=6: function of function of 8 \n",
    "    \n",
    "nested_recursion(6)"
   ]
  },
  {
   "cell_type": "markdown",
   "id": "df31bade",
   "metadata": {
    "papermill": {
     "duration": 0.011384,
     "end_time": "2023-02-25T18:10:19.131641",
     "exception": false,
     "start_time": "2023-02-25T18:10:19.120257",
     "status": "completed"
    },
    "tags": []
   },
   "source": [
    "### Tree or Binary Recursion: \n",
    "**in binary or tree recursion the Recursive Call calls itself twice**"
   ]
  },
  {
   "cell_type": "code",
   "execution_count": 16,
   "id": "bd1ef64b",
   "metadata": {
    "execution": {
     "iopub.execute_input": "2023-02-25T18:10:19.156749Z",
     "iopub.status.busy": "2023-02-25T18:10:19.156349Z",
     "iopub.status.idle": "2023-02-25T18:10:19.163650Z",
     "shell.execute_reply": "2023-02-25T18:10:19.162719Z"
    },
    "papermill": {
     "duration": 0.0225,
     "end_time": "2023-02-25T18:10:19.165798",
     "exception": false,
     "start_time": "2023-02-25T18:10:19.143298",
     "status": "completed"
    },
    "tags": []
   },
   "outputs": [
    {
     "data": {
      "text/plain": [
       "3"
      ]
     },
     "execution_count": 16,
     "metadata": {},
     "output_type": "execute_result"
    }
   ],
   "source": [
    "# fibonnacci \n",
    "def binary_tree_recursion(N:int) -> int:\n",
    "    if N <= 1:\n",
    "        return N\n",
    "    return binary_tree_recursion(N-1) + binary_tree_recursion(N-2)\n",
    "\n",
    "binary_tree_recursion(4)"
   ]
  },
  {
   "cell_type": "markdown",
   "id": "98ec73cd",
   "metadata": {
    "papermill": {
     "duration": 0.012325,
     "end_time": "2023-02-25T18:10:19.190628",
     "exception": false,
     "start_time": "2023-02-25T18:10:19.178303",
     "status": "completed"
    },
    "tags": []
   },
   "source": [
    "## Indirect/Mutual Recursion \n",
    "**in indirect recursion, more than one function will call mutually** i.e functionA calling functionB and functionB calling functionA"
   ]
  },
  {
   "cell_type": "code",
   "execution_count": 17,
   "id": "7b1e522d",
   "metadata": {
    "execution": {
     "iopub.execute_input": "2023-02-25T18:10:19.216078Z",
     "iopub.status.busy": "2023-02-25T18:10:19.215640Z",
     "iopub.status.idle": "2023-02-25T18:10:19.221227Z",
     "shell.execute_reply": "2023-02-25T18:10:19.220069Z"
    },
    "papermill": {
     "duration": 0.021265,
     "end_time": "2023-02-25T18:10:19.223882",
     "exception": false,
     "start_time": "2023-02-25T18:10:19.202617",
     "status": "completed"
    },
    "tags": []
   },
   "outputs": [],
   "source": [
    "# Indirect/Mutual Recursion: functionA indirectly calls itself\n",
    "def recursionA():\n",
    "    # base case\n",
    "    recursionB()\n",
    "    \n",
    "def recursionB():\n",
    "    # base case\n",
    "    recursionA()"
   ]
  },
  {
   "cell_type": "code",
   "execution_count": 18,
   "id": "136cabca",
   "metadata": {
    "execution": {
     "iopub.execute_input": "2023-02-25T18:10:19.249082Z",
     "iopub.status.busy": "2023-02-25T18:10:19.248679Z",
     "iopub.status.idle": "2023-02-25T18:10:19.257367Z",
     "shell.execute_reply": "2023-02-25T18:10:19.256241Z"
    },
    "papermill": {
     "duration": 0.024038,
     "end_time": "2023-02-25T18:10:19.259752",
     "exception": false,
     "start_time": "2023-02-25T18:10:19.235714",
     "status": "completed"
    },
    "tags": []
   },
   "outputs": [
    {
     "name": "stdout",
     "output_type": "stream",
     "text": [
      "Odd: 1\n",
      "Even: 2\n",
      "Odd: 3\n",
      "Even: 4\n"
     ]
    }
   ],
   "source": [
    "N = 1\n",
    "\n",
    "def even(): # function even is indirectly calling itself\n",
    "    global N\n",
    "    if N == 5:\n",
    "        return\n",
    "    print(\"Even:\",N)\n",
    "    \n",
    "    N += 1\n",
    "    odd()\n",
    "    \n",
    "def odd(): # function odd is indirectly calling itself\n",
    "    global N\n",
    "    if N == 5:\n",
    "        return\n",
    "    print(\"Odd:\",N)\n",
    "    N += 1\n",
    "    even()\n",
    "    \n",
    "odd()"
   ]
  },
  {
   "cell_type": "markdown",
   "id": "16202a56",
   "metadata": {
    "papermill": {
     "duration": 0.011737,
     "end_time": "2023-02-25T18:10:19.283229",
     "exception": false,
     "start_time": "2023-02-25T18:10:19.271492",
     "status": "completed"
    },
    "tags": []
   },
   "source": [
    "## Tail Call Optimization/Elimination/Tail Recursion: optimizes memory space\n",
    "### Why tail call optimization is efficient?\n",
    "Because they are optimized by the compilers itself, before execution the compiler converts the recursive code to a looping code and we know that recursion takes Stack Memory to store the recursive calls, whereas, looping doesn't requires memory i.e if recursion takes O(n) space then looping can do it in O(1) an i.e why Tail Recursion is considered as the most efficient one.\n",
    "\n",
    "\n",
    "**Let's optimize Factorial Recursion with Tail Recursion.**"
   ]
  },
  {
   "cell_type": "code",
   "execution_count": 19,
   "id": "cd2c97f8",
   "metadata": {
    "execution": {
     "iopub.execute_input": "2023-02-25T18:10:19.308848Z",
     "iopub.status.busy": "2023-02-25T18:10:19.308420Z",
     "iopub.status.idle": "2023-02-25T18:10:19.316403Z",
     "shell.execute_reply": "2023-02-25T18:10:19.315339Z"
    },
    "papermill": {
     "duration": 0.023544,
     "end_time": "2023-02-25T18:10:19.318689",
     "exception": false,
     "start_time": "2023-02-25T18:10:19.295145",
     "status": "completed"
    },
    "tags": []
   },
   "outputs": [
    {
     "data": {
      "text/plain": [
       "120"
      ]
     },
     "execution_count": 19,
     "metadata": {},
     "output_type": "execute_result"
    }
   ],
   "source": [
    "# in case of factorial of large numbers the program will consume too much memory\n",
    "def factorial(N:int) -> int:\n",
    "    if N <= 1:\n",
    "        return N\n",
    "    return N * factorial(N-1) # this is not tail recursion because the execution of this statement depends on the return value \n",
    "                              # of the next recursive call i.e factorial(N-1)\n",
    "\n",
    "factorial(5)"
   ]
  },
  {
   "cell_type": "markdown",
   "id": "1c6405fd",
   "metadata": {
    "papermill": {
     "duration": 0.012074,
     "end_time": "2023-02-25T18:10:19.342956",
     "exception": false,
     "start_time": "2023-02-25T18:10:19.330882",
     "status": "completed"
    },
    "tags": []
   },
   "source": [
    "**tail call optimization**"
   ]
  },
  {
   "cell_type": "code",
   "execution_count": 20,
   "id": "f30f669a",
   "metadata": {
    "execution": {
     "iopub.execute_input": "2023-02-25T18:10:19.368906Z",
     "iopub.status.busy": "2023-02-25T18:10:19.368368Z",
     "iopub.status.idle": "2023-02-25T18:10:19.377932Z",
     "shell.execute_reply": "2023-02-25T18:10:19.376727Z"
    },
    "papermill": {
     "duration": 0.025639,
     "end_time": "2023-02-25T18:10:19.380581",
     "exception": false,
     "start_time": "2023-02-25T18:10:19.354942",
     "status": "completed"
    },
    "tags": []
   },
   "outputs": [
    {
     "data": {
      "text/plain": [
       "120"
      ]
     },
     "execution_count": 20,
     "metadata": {},
     "output_type": "execute_result"
    }
   ],
   "source": [
    "# tail call optimization\n",
    "def factorial_recursion(N:int, ans = 1) -> int:\n",
    "    if N <= 0:\n",
    "        return ans\n",
    "    return factorial_recursion(N-1, N * ans)\n",
    "\n",
    "factorial_recursion(5,1) # factorial_recursion(5,1) = return factorial_recursion(5-1,5*1) i.e 4, 5\n",
    "                         # factorial_recursion(4,5) = return factorial_recursion(4-1,4*5) i.e 3, 20\n",
    "                         # factorial_recursion(3,20) = return factorial_recursion(3-1,3*20) i.e 2, 60\n",
    "                         # factorial_recursion(2,60) = return factorial_recursion(2-1,2*60) i.e 1, 120\n",
    "                         # factorial_recursion(1,120) = return factorial_recursion(1-1,1*120) i.e 0, 120 \n",
    "                         # factorial_recursion(0,120) since the N = 0, the Base Case will trigger and returns answer i.e ans = 120\n",
    "                        "
   ]
  },
  {
   "cell_type": "markdown",
   "id": "0332dcc6",
   "metadata": {
    "papermill": {
     "duration": 0.011867,
     "end_time": "2023-02-25T18:10:19.404806",
     "exception": false,
     "start_time": "2023-02-25T18:10:19.392939",
     "status": "completed"
    },
    "tags": []
   },
   "source": [
    "## Problems using Recursion\n",
    "---"
   ]
  },
  {
   "cell_type": "markdown",
   "id": "d9a72b46",
   "metadata": {
    "papermill": {
     "duration": 0.012347,
     "end_time": "2023-02-25T18:10:19.429299",
     "exception": false,
     "start_time": "2023-02-25T18:10:19.416952",
     "status": "completed"
    },
    "tags": []
   },
   "source": [
    "### Find sum of first N natural numbers using Recursion\n",
    "> * if N = 3 then output would be 1+2+3 = 6\n",
    "> * if N = 5 then output would be 1+2+3+4+5 = 15"
   ]
  },
  {
   "cell_type": "code",
   "execution_count": 21,
   "id": "c49597f5",
   "metadata": {
    "execution": {
     "iopub.execute_input": "2023-02-25T18:10:19.455278Z",
     "iopub.status.busy": "2023-02-25T18:10:19.454836Z",
     "iopub.status.idle": "2023-02-25T18:10:19.465096Z",
     "shell.execute_reply": "2023-02-25T18:10:19.463927Z"
    },
    "papermill": {
     "duration": 0.026163,
     "end_time": "2023-02-25T18:10:19.467613",
     "exception": false,
     "start_time": "2023-02-25T18:10:19.441450",
     "status": "completed"
    },
    "tags": []
   },
   "outputs": [
    {
     "data": {
      "text/plain": [
       "15"
      ]
     },
     "execution_count": 21,
     "metadata": {},
     "output_type": "execute_result"
    }
   ],
   "source": [
    "def n_sum(N, ans=1) -> int:\n",
    "    if N == 1:\n",
    "        return ans\n",
    "    return n_sum(N-1, N + ans) # tail call recursion because the execution of this statement doesn't depends on the return value \n",
    "                              # of the next recursive call i.e n_sum(N-1)\n",
    "\n",
    "n_sum(5)"
   ]
  },
  {
   "cell_type": "markdown",
   "id": "39bc1467",
   "metadata": {
    "papermill": {
     "duration": 0.012004,
     "end_time": "2023-02-25T18:10:19.491890",
     "exception": false,
     "start_time": "2023-02-25T18:10:19.479886",
     "status": "completed"
    },
    "tags": []
   },
   "source": [
    "### Decimal to binary conversion\n",
    "> * if input = 7 then output = 0111\n",
    "> * if input = 10 then output = 1010"
   ]
  },
  {
   "cell_type": "code",
   "execution_count": 22,
   "id": "5ef7391e",
   "metadata": {
    "execution": {
     "iopub.execute_input": "2023-02-25T18:10:19.518905Z",
     "iopub.status.busy": "2023-02-25T18:10:19.518514Z",
     "iopub.status.idle": "2023-02-25T18:10:19.524745Z",
     "shell.execute_reply": "2023-02-25T18:10:19.523490Z"
    },
    "papermill": {
     "duration": 0.023075,
     "end_time": "2023-02-25T18:10:19.527369",
     "exception": false,
     "start_time": "2023-02-25T18:10:19.504294",
     "status": "completed"
    },
    "tags": []
   },
   "outputs": [
    {
     "name": "stdout",
     "output_type": "stream",
     "text": [
      "1010"
     ]
    }
   ],
   "source": [
    "def decimal_to_binary(N) -> None:\n",
    "    if N <= 0:\n",
    "        return N\n",
    "    decimal_to_binary(N // 2)\n",
    "    print(N % 2, end=\"\")\n",
    "\n",
    "decimal_to_binary(10)"
   ]
  },
  {
   "cell_type": "markdown",
   "id": "4c2eaad4",
   "metadata": {
    "papermill": {
     "duration": 0.012051,
     "end_time": "2023-02-25T18:10:19.551650",
     "exception": false,
     "start_time": "2023-02-25T18:10:19.539599",
     "status": "completed"
    },
    "tags": []
   },
   "source": [
    "### Find modulo(remainder) using Recursion\n",
    "> * if input numertor and denominator is 7, 3 then output is 1\n",
    "> * if input numerator and denominator is 10, 4 then output is 2"
   ]
  },
  {
   "cell_type": "code",
   "execution_count": 23,
   "id": "ead0019b",
   "metadata": {
    "execution": {
     "iopub.execute_input": "2023-02-25T18:10:19.579890Z",
     "iopub.status.busy": "2023-02-25T18:10:19.579478Z",
     "iopub.status.idle": "2023-02-25T18:10:19.587558Z",
     "shell.execute_reply": "2023-02-25T18:10:19.586283Z"
    },
    "papermill": {
     "duration": 0.025388,
     "end_time": "2023-02-25T18:10:19.590016",
     "exception": false,
     "start_time": "2023-02-25T18:10:19.564628",
     "status": "completed"
    },
    "tags": []
   },
   "outputs": [
    {
     "data": {
      "text/plain": [
       "2"
      ]
     },
     "execution_count": 23,
     "metadata": {},
     "output_type": "execute_result"
    }
   ],
   "source": [
    "def modulo(Numerator,Denominator) -> int:\n",
    "    if Numerator < Denominator:\n",
    "        return Numerator\n",
    "    return modulo(Numerator - Denominator, Denominator)\n",
    "\n",
    "modulo(10,4)"
   ]
  },
  {
   "cell_type": "markdown",
   "id": "1280e446",
   "metadata": {
    "papermill": {
     "duration": 0.01193,
     "end_time": "2023-02-25T18:10:19.615379",
     "exception": false,
     "start_time": "2023-02-25T18:10:19.603449",
     "status": "completed"
    },
    "tags": []
   },
   "source": [
    "### String length using Recursion\n",
    "> * if input string is \"Subrata\" then the length is 7\n",
    "> * if input string is \"Mondal\" then the lemgth is 6"
   ]
  },
  {
   "cell_type": "code",
   "execution_count": 24,
   "id": "b28c3270",
   "metadata": {
    "execution": {
     "iopub.execute_input": "2023-02-25T18:10:19.641734Z",
     "iopub.status.busy": "2023-02-25T18:10:19.641338Z",
     "iopub.status.idle": "2023-02-25T18:10:19.648608Z",
     "shell.execute_reply": "2023-02-25T18:10:19.647706Z"
    },
    "papermill": {
     "duration": 0.023296,
     "end_time": "2023-02-25T18:10:19.650733",
     "exception": false,
     "start_time": "2023-02-25T18:10:19.627437",
     "status": "completed"
    },
    "tags": []
   },
   "outputs": [
    {
     "data": {
      "text/plain": [
       "7"
      ]
     },
     "execution_count": 24,
     "metadata": {},
     "output_type": "execute_result"
    }
   ],
   "source": [
    "def string_length(S:str) -> int:\n",
    "    if S == '':\n",
    "        return 0\n",
    "    return string_length(S[1:]) + 1\n",
    "\n",
    "\n",
    "string_length(\"Subrata\")"
   ]
  },
  {
   "cell_type": "markdown",
   "id": "cce62656",
   "metadata": {
    "papermill": {
     "duration": 0.012364,
     "end_time": "2023-02-25T18:10:19.675758",
     "exception": false,
     "start_time": "2023-02-25T18:10:19.663394",
     "status": "completed"
    },
    "tags": []
   },
   "source": [
    "### Reverse a String using Recursion\n",
    "> * if input is \"Subrata\" then output is \"atarbuS\""
   ]
  },
  {
   "cell_type": "code",
   "execution_count": 25,
   "id": "64293621",
   "metadata": {
    "execution": {
     "iopub.execute_input": "2023-02-25T18:10:19.702355Z",
     "iopub.status.busy": "2023-02-25T18:10:19.701928Z",
     "iopub.status.idle": "2023-02-25T18:10:19.710104Z",
     "shell.execute_reply": "2023-02-25T18:10:19.709263Z"
    },
    "papermill": {
     "duration": 0.024567,
     "end_time": "2023-02-25T18:10:19.712807",
     "exception": false,
     "start_time": "2023-02-25T18:10:19.688240",
     "status": "completed"
    },
    "tags": []
   },
   "outputs": [
    {
     "data": {
      "text/plain": [
       "'atarbuS'"
      ]
     },
     "execution_count": 25,
     "metadata": {},
     "output_type": "execute_result"
    }
   ],
   "source": [
    "def reverse(S:str) -> str:\n",
    "    if len(S) == 0:\n",
    "        return S\n",
    "    return reverse(S[1:]) + S[0] \n",
    "    \n",
    "reverse(\"Subrata\")"
   ]
  },
  {
   "cell_type": "code",
   "execution_count": null,
   "id": "471cee53",
   "metadata": {
    "papermill": {
     "duration": 0.012209,
     "end_time": "2023-02-25T18:10:19.737852",
     "exception": false,
     "start_time": "2023-02-25T18:10:19.725643",
     "status": "completed"
    },
    "tags": []
   },
   "outputs": [],
   "source": []
  },
  {
   "cell_type": "code",
   "execution_count": null,
   "id": "4be18442",
   "metadata": {
    "papermill": {
     "duration": 0.012284,
     "end_time": "2023-02-25T18:10:19.763241",
     "exception": false,
     "start_time": "2023-02-25T18:10:19.750957",
     "status": "completed"
    },
    "tags": []
   },
   "outputs": [],
   "source": []
  },
  {
   "cell_type": "code",
   "execution_count": null,
   "id": "66415f74",
   "metadata": {
    "papermill": {
     "duration": 0.012191,
     "end_time": "2023-02-25T18:10:19.787842",
     "exception": false,
     "start_time": "2023-02-25T18:10:19.775651",
     "status": "completed"
    },
    "tags": []
   },
   "outputs": [],
   "source": []
  },
  {
   "cell_type": "code",
   "execution_count": null,
   "id": "5be9581f",
   "metadata": {
    "papermill": {
     "duration": 0.012367,
     "end_time": "2023-02-25T18:10:19.812568",
     "exception": false,
     "start_time": "2023-02-25T18:10:19.800201",
     "status": "completed"
    },
    "tags": []
   },
   "outputs": [],
   "source": []
  },
  {
   "cell_type": "code",
   "execution_count": null,
   "id": "dcc16f5b",
   "metadata": {
    "papermill": {
     "duration": 0.01212,
     "end_time": "2023-02-25T18:10:19.837033",
     "exception": false,
     "start_time": "2023-02-25T18:10:19.824913",
     "status": "completed"
    },
    "tags": []
   },
   "outputs": [],
   "source": []
  }
 ],
 "metadata": {
  "kernelspec": {
   "display_name": "Python 3",
   "language": "python",
   "name": "python3"
  },
  "language_info": {
   "codemirror_mode": {
    "name": "ipython",
    "version": 3
   },
   "file_extension": ".py",
   "mimetype": "text/x-python",
   "name": "python",
   "nbconvert_exporter": "python",
   "pygments_lexer": "ipython3",
   "version": "3.7.12"
  },
  "papermill": {
   "default_parameters": {},
   "duration": 12.025438,
   "end_time": "2023-02-25T18:10:20.571067",
   "environment_variables": {},
   "exception": null,
   "input_path": "__notebook__.ipynb",
   "output_path": "__notebook__.ipynb",
   "parameters": {},
   "start_time": "2023-02-25T18:10:08.545629",
   "version": "2.3.4"
  }
 },
 "nbformat": 4,
 "nbformat_minor": 5
}
