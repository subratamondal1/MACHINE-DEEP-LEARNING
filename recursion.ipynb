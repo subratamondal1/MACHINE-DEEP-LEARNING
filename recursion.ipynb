{
 "cells": [
  {
   "cell_type": "code",
   "execution_count": 1,
   "id": "d56a8ff5",
   "metadata": {
    "_cell_guid": "b1076dfc-b9ad-4769-8c92-a6c4dae69d19",
    "_uuid": "8f2839f25d086af736a60e9eeb907d3b93b6e0e5",
    "execution": {
     "iopub.execute_input": "2023-02-21T07:36:58.175199Z",
     "iopub.status.busy": "2023-02-21T07:36:58.173742Z",
     "iopub.status.idle": "2023-02-21T07:36:58.190230Z",
     "shell.execute_reply": "2023-02-21T07:36:58.188943Z"
    },
    "papermill": {
     "duration": 0.034096,
     "end_time": "2023-02-21T07:36:58.193173",
     "exception": false,
     "start_time": "2023-02-21T07:36:58.159077",
     "status": "completed"
    },
    "tags": []
   },
   "outputs": [],
   "source": [
    "# This Python 3 environment comes with many helpful analytics libraries installed\n",
    "# It is defined by the kaggle/python Docker image: https://github.com/kaggle/docker-python\n",
    "# For example, here's several helpful packages to load\n",
    "\n",
    "import numpy as np # linear algebra\n",
    "import pandas as pd # data processing, CSV file I/O (e.g. pd.read_csv)\n",
    "\n",
    "# Input data files are available in the read-only \"../input/\" directory\n",
    "# For example, running this (by clicking run or pressing Shift+Enter) will list all files under the input directory\n",
    "\n",
    "import os\n",
    "for dirname, _, filenames in os.walk('/kaggle/input'):\n",
    "    for filename in filenames:\n",
    "        print(os.path.join(dirname, filename))\n",
    "\n",
    "# You can write up to 20GB to the current directory (/kaggle/working/) that gets preserved as output when you create a version using \"Save & Run All\" \n",
    "# You can also write temporary files to /kaggle/temp/, but they won't be saved outside of the current session"
   ]
  },
  {
   "cell_type": "markdown",
   "id": "bf920afc",
   "metadata": {
    "papermill": {
     "duration": 0.00826,
     "end_time": "2023-02-21T07:36:58.210591",
     "exception": false,
     "start_time": "2023-02-21T07:36:58.202331",
     "status": "completed"
    },
    "tags": []
   },
   "source": [
    "# <center>Recursion</center>\n",
    "---"
   ]
  },
  {
   "cell_type": "markdown",
   "id": "bceba36d",
   "metadata": {
    "papermill": {
     "duration": 0.00872,
     "end_time": "2023-02-21T07:36:58.228060",
     "exception": false,
     "start_time": "2023-02-21T07:36:58.219340",
     "status": "completed"
    },
    "tags": []
   },
   "source": [
    "## Introduction to Recursion & Basic Rules"
   ]
  },
  {
   "cell_type": "markdown",
   "id": "5e4afa27",
   "metadata": {
    "papermill": {
     "duration": 0.010984,
     "end_time": "2023-02-21T07:36:58.250905",
     "exception": false,
     "start_time": "2023-02-21T07:36:58.239921",
     "status": "completed"
    },
    "tags": []
   },
   "source": [
    "#### What is Recursion?\n",
    "The process in which a function calls itself.\n",
    "\n",
    "#### Why is Recursion used?\n",
    "Recursion is a widely used technique for problem solving.\n",
    "\n",
    "#### Basic Rules of Recursion:\n",
    "1. The function <u>must call itself</u>.\n",
    "2. The function <u>must have a base case</u>, or else the program will go inside infinite loop and crash.\n",
    "3. The recursive call <u>must align towards the base case</u>, or else the program will go inside infinite loop and crash.\n"
   ]
  },
  {
   "cell_type": "code",
   "execution_count": 2,
   "id": "d205b97e",
   "metadata": {
    "execution": {
     "iopub.execute_input": "2023-02-21T07:36:58.273586Z",
     "iopub.status.busy": "2023-02-21T07:36:58.272796Z",
     "iopub.status.idle": "2023-02-21T07:36:58.278006Z",
     "shell.execute_reply": "2023-02-21T07:36:58.277125Z"
    },
    "papermill": {
     "duration": 0.019619,
     "end_time": "2023-02-21T07:36:58.281501",
     "exception": false,
     "start_time": "2023-02-21T07:36:58.261882",
     "status": "completed"
    },
    "tags": []
   },
   "outputs": [],
   "source": [
    "def recursion(N): # N = 5\n",
    "    # base case\n",
    "    if N == 1:\n",
    "        return\n",
    "    \n",
    "    # recursive call aligning towards the base case\n",
    "    recursion(N-1) # 5,4,3,2,1,end\n",
    "    \n",
    "    # recursive call not aligning towards the base case\n",
    "    recursion(N+1) # 5, 6, 7, 8, ....., loop"
   ]
  },
  {
   "cell_type": "markdown",
   "id": "4e6fb352",
   "metadata": {
    "papermill": {
     "duration": 0.01231,
     "end_time": "2023-02-21T07:36:58.306812",
     "exception": false,
     "start_time": "2023-02-21T07:36:58.294502",
     "status": "completed"
    },
    "tags": []
   },
   "source": [
    "## How Recursion works\n",
    "**Every Recursive Call will be pushed into the Stack untill the Base Case is reached, and once it reaches the Base Case it will calculate the Result from Backward**</br>\n",
    "\n",
    "**Factorial using Recursion**</br>\n",
    "Factorial(N) = N x (N-1) x (N-2) x (N-3) ... x 1, here the function calling itself and each time the no. getting subtracted is incremented by 1, and the numbers are getting multiplied with each other.\n",
    "\n",
    "**Recursive Call:** N x function(N-1)</br>\n",
    "**Base Case:** N == 1"
   ]
  },
  {
   "cell_type": "code",
   "execution_count": 3,
   "id": "3a3112e7",
   "metadata": {
    "execution": {
     "iopub.execute_input": "2023-02-21T07:36:58.334966Z",
     "iopub.status.busy": "2023-02-21T07:36:58.334069Z",
     "iopub.status.idle": "2023-02-21T07:36:58.343651Z",
     "shell.execute_reply": "2023-02-21T07:36:58.342433Z"
    },
    "papermill": {
     "duration": 0.026288,
     "end_time": "2023-02-21T07:36:58.346987",
     "exception": false,
     "start_time": "2023-02-21T07:36:58.320699",
     "status": "completed"
    },
    "tags": []
   },
   "outputs": [],
   "source": [
    "def factorial(N:int) -> int:\n",
    "    # assertion\n",
    "    assert N >= 0, \"input must be positive integer\"\n",
    "    \n",
    "    # base case\n",
    "    if N == 1:\n",
    "        return 1\n",
    "    \n",
    "    # function calling itself also the recursive call is aligning towards the base case\n",
    "    return N * factorial(N - 1)"
   ]
  },
  {
   "cell_type": "code",
   "execution_count": 4,
   "id": "130e2dbd",
   "metadata": {
    "execution": {
     "iopub.execute_input": "2023-02-21T07:36:58.368362Z",
     "iopub.status.busy": "2023-02-21T07:36:58.367877Z",
     "iopub.status.idle": "2023-02-21T07:36:58.377973Z",
     "shell.execute_reply": "2023-02-21T07:36:58.376733Z"
    },
    "papermill": {
     "duration": 0.024583,
     "end_time": "2023-02-21T07:36:58.381735",
     "exception": false,
     "start_time": "2023-02-21T07:36:58.357152",
     "status": "completed"
    },
    "tags": []
   },
   "outputs": [
    {
     "data": {
      "text/plain": [
       "6"
      ]
     },
     "execution_count": 4,
     "metadata": {},
     "output_type": "execute_result"
    }
   ],
   "source": [
    "factorial(3)"
   ]
  },
  {
   "cell_type": "markdown",
   "id": "02622972",
   "metadata": {
    "papermill": {
     "duration": 0.00853,
     "end_time": "2023-02-21T07:36:58.398891",
     "exception": false,
     "start_time": "2023-02-21T07:36:58.390361",
     "status": "completed"
    },
    "tags": []
   },
   "source": [
    "## Stack Overflow in Recursion\n",
    "It is the most common issue faced by the Recursion and it will crash the program.\n",
    "\n",
    "## How to avoid Stack Overflow?\n",
    "As we know all the Recursive Calls are pushed into the Stack for it's execution, and after the execution is completed it will be removed from the stack. But the problem is Stack has a finite amount of Storage. Say the size of the Stack is N and when the number of Recursive Call is greater than N then it causes the Stack to Overflow.\n",
    "\n",
    "**Case1 for Stack Overflow:** No Base Case\n",
    "* When there is No Base Case there will be infinite Recursive Calls, which will led to the Stack Overflow"
   ]
  },
  {
   "cell_type": "code",
   "execution_count": 5,
   "id": "8a1f5f75",
   "metadata": {
    "execution": {
     "iopub.execute_input": "2023-02-21T07:36:58.418420Z",
     "iopub.status.busy": "2023-02-21T07:36:58.417577Z",
     "iopub.status.idle": "2023-02-21T07:36:58.422579Z",
     "shell.execute_reply": "2023-02-21T07:36:58.421672Z"
    },
    "papermill": {
     "duration": 0.017577,
     "end_time": "2023-02-21T07:36:58.425062",
     "exception": false,
     "start_time": "2023-02-21T07:36:58.407485",
     "status": "completed"
    },
    "tags": []
   },
   "outputs": [],
   "source": [
    "# def factorial(N:int) -> int:\n",
    "#     # no base case\n",
    "#     return N * factorial(N-1) # output: N = 5: 5,4,3,2,1,0,-1,-2,-3,-4..., negative infinity "
   ]
  },
  {
   "cell_type": "markdown",
   "id": "505144f8",
   "metadata": {
    "papermill": {
     "duration": 0.008471,
     "end_time": "2023-02-21T07:36:58.441959",
     "exception": false,
     "start_time": "2023-02-21T07:36:58.433488",
     "status": "completed"
    },
    "tags": []
   },
   "source": [
    "**Case2 for Stack Overflow:** When the Recursive Case doesn't align towards the Base Case"
   ]
  },
  {
   "cell_type": "code",
   "execution_count": 6,
   "id": "accbfdb9",
   "metadata": {
    "execution": {
     "iopub.execute_input": "2023-02-21T07:36:58.461846Z",
     "iopub.status.busy": "2023-02-21T07:36:58.460994Z",
     "iopub.status.idle": "2023-02-21T07:36:58.466653Z",
     "shell.execute_reply": "2023-02-21T07:36:58.465422Z"
    },
    "papermill": {
     "duration": 0.01862,
     "end_time": "2023-02-21T07:36:58.469518",
     "exception": false,
     "start_time": "2023-02-21T07:36:58.450898",
     "status": "completed"
    },
    "tags": []
   },
   "outputs": [],
   "source": [
    "# def factorial(N:int) -> int:\n",
    "#     if N == 1:\n",
    "#         return 1\n",
    "#     # Recursive Call doesn't align towards the Base Case\n",
    "#     return N * factorial(N+1) # output N = 5: 5,6,7,8,9,10,...positive infinity"
   ]
  },
  {
   "cell_type": "markdown",
   "id": "8a36346d",
   "metadata": {
    "papermill": {
     "duration": 0.0082,
     "end_time": "2023-02-21T07:36:58.486861",
     "exception": false,
     "start_time": "2023-02-21T07:36:58.478661",
     "status": "completed"
    },
    "tags": []
   },
   "source": [
    "## How to convert Iterative Function to Recursive Function ?\n",
    "1. **Step1:** convert Termination Condition to Base Case\n",
    "2. **Step2:** convert Loop to Recursive Call\n",
    "3. **Step3:** convert Iterative Logic to Argument for Recursive Call"
   ]
  },
  {
   "cell_type": "markdown",
   "id": "ed482624",
   "metadata": {
    "papermill": {
     "duration": 0.008185,
     "end_time": "2023-02-21T07:36:58.503531",
     "exception": false,
     "start_time": "2023-02-21T07:36:58.495346",
     "status": "completed"
    },
    "tags": []
   },
   "source": [
    "### Example1: \n",
    "Print all the positive numbers from 1 to the input number\n"
   ]
  },
  {
   "cell_type": "code",
   "execution_count": 7,
   "id": "e357a2ca",
   "metadata": {
    "execution": {
     "iopub.execute_input": "2023-02-21T07:36:58.522793Z",
     "iopub.status.busy": "2023-02-21T07:36:58.522355Z",
     "iopub.status.idle": "2023-02-21T07:36:58.530135Z",
     "shell.execute_reply": "2023-02-21T07:36:58.528494Z"
    },
    "papermill": {
     "duration": 0.020638,
     "end_time": "2023-02-21T07:36:58.532799",
     "exception": false,
     "start_time": "2023-02-21T07:36:58.512161",
     "status": "completed"
    },
    "tags": []
   },
   "outputs": [],
   "source": [
    "# print all the numbers from 1 to the given number\n",
    "def print_number(N:int) -> None:\n",
    "    # iterative method\n",
    "    for n in range(N,0, -1): # Termination Condition: run the loop till N is not less than 1 or N is greater than 1, Iterative Logic (N-1)\n",
    "        print(n)             \n",
    "        \n",
    "def another_print_number(N:int) -> None:\n",
    "    while N > 0:            # Termination Condition: run the loop till N is not less than 1 or N is greater than 1\n",
    "        print(N)\n",
    "        N -= 1              # Iterative Logic (N-1)\n",
    "        \n",
    "def print_number_recursion(N:int) -> None:\n",
    "    if N == 1:                             # convert Termination Condition to Base Case\n",
    "        return 1\n",
    "    print(N)\n",
    "    return print_number_recursion(N-1)     # convert Loop to Recursive Call,  convert Iterative Logic to Argument for Recursive Call"
   ]
  },
  {
   "cell_type": "code",
   "execution_count": 8,
   "id": "ddea19ef",
   "metadata": {
    "execution": {
     "iopub.execute_input": "2023-02-21T07:36:58.551997Z",
     "iopub.status.busy": "2023-02-21T07:36:58.551596Z",
     "iopub.status.idle": "2023-02-21T07:36:58.561935Z",
     "shell.execute_reply": "2023-02-21T07:36:58.559513Z"
    },
    "papermill": {
     "duration": 0.023599,
     "end_time": "2023-02-21T07:36:58.565155",
     "exception": false,
     "start_time": "2023-02-21T07:36:58.541556",
     "status": "completed"
    },
    "tags": []
   },
   "outputs": [
    {
     "name": "stdout",
     "output_type": "stream",
     "text": [
      "\n",
      "Iterative\n",
      "\n",
      "5\n",
      "4\n",
      "3\n",
      "2\n",
      "1\n",
      "\n",
      "Iterative\n",
      "\n",
      "5\n",
      "4\n",
      "3\n",
      "2\n",
      "1\n",
      "\n",
      "Recursion\n",
      "\n",
      "5\n",
      "4\n",
      "3\n",
      "2\n"
     ]
    },
    {
     "data": {
      "text/plain": [
       "1"
      ]
     },
     "execution_count": 8,
     "metadata": {},
     "output_type": "execute_result"
    }
   ],
   "source": [
    "print(\"\\nIterative\\n\")\n",
    "print_number(5)\n",
    "print(\"\\nIterative\\n\")\n",
    "another_print_number(5)\n",
    "print(\"\\nRecursion\\n\")\n",
    "print_number_recursion(5)"
   ]
  },
  {
   "cell_type": "markdown",
   "id": "5a4f2a4e",
   "metadata": {
    "papermill": {
     "duration": 0.008394,
     "end_time": "2023-02-21T07:36:58.582422",
     "exception": false,
     "start_time": "2023-02-21T07:36:58.574028",
     "status": "completed"
    },
    "tags": []
   },
   "source": [
    "### Example2\n",
    "Reverse a string"
   ]
  },
  {
   "cell_type": "code",
   "execution_count": 9,
   "id": "23acf3d7",
   "metadata": {
    "execution": {
     "iopub.execute_input": "2023-02-21T07:36:58.602087Z",
     "iopub.status.busy": "2023-02-21T07:36:58.601698Z",
     "iopub.status.idle": "2023-02-21T07:36:58.610031Z",
     "shell.execute_reply": "2023-02-21T07:36:58.608470Z"
    },
    "papermill": {
     "duration": 0.021493,
     "end_time": "2023-02-21T07:36:58.612852",
     "exception": false,
     "start_time": "2023-02-21T07:36:58.591359",
     "status": "completed"
    },
    "tags": []
   },
   "outputs": [],
   "source": [
    "def reverse_string(S:str) -> None:\n",
    "    N = len(S)\n",
    "    for i in range(N-1,-1,-1):\n",
    "        print(S[i])\n",
    "        \n",
    "def reverse_string2(S:str) -> str:\n",
    "    string = \"\"\n",
    "    for i in S:\n",
    "        string = i + string\n",
    "    print(string)\n",
    "    return string\n",
    "        \n",
    "def reverse_string_recursion(S:str) -> None: \n",
    "    N = len(S)\n",
    "    if N == 0:\n",
    "        return S\n",
    "    \n",
    "    return reverse_string_recursion(S[1:]) + S[0]\n",
    "        "
   ]
  },
  {
   "cell_type": "code",
   "execution_count": 10,
   "id": "863eb7bf",
   "metadata": {
    "execution": {
     "iopub.execute_input": "2023-02-21T07:36:58.632935Z",
     "iopub.status.busy": "2023-02-21T07:36:58.632048Z",
     "iopub.status.idle": "2023-02-21T07:36:58.641816Z",
     "shell.execute_reply": "2023-02-21T07:36:58.640682Z"
    },
    "papermill": {
     "duration": 0.022661,
     "end_time": "2023-02-21T07:36:58.644420",
     "exception": false,
     "start_time": "2023-02-21T07:36:58.621759",
     "status": "completed"
    },
    "tags": []
   },
   "outputs": [
    {
     "name": "stdout",
     "output_type": "stream",
     "text": [
      "a\n",
      "t\n",
      "a\n",
      "r\n",
      "b\n",
      "u\n",
      "s\n",
      "atarbus\n"
     ]
    },
    {
     "data": {
      "text/plain": [
       "'atarbus'"
      ]
     },
     "execution_count": 10,
     "metadata": {},
     "output_type": "execute_result"
    }
   ],
   "source": [
    "S = \"subrata\"\n",
    "\n",
    "reverse_string(S)\n",
    "reverse_string_recursion(S)\n",
    "reverse_string2(S)"
   ]
  },
  {
   "cell_type": "markdown",
   "id": "931d5f17",
   "metadata": {
    "papermill": {
     "duration": 0.008454,
     "end_time": "2023-02-21T07:36:58.661625",
     "exception": false,
     "start_time": "2023-02-21T07:36:58.653171",
     "status": "completed"
    },
    "tags": []
   },
   "source": [
    "## Iteration vs Recursion\n",
    "**Note:** Recursive Call == Recursive Function\n",
    "### Iteration\n",
    "* Example: given a positive number N, print from N to 1 i.e if N=5 then print 5,4,3,2,1\n",
    "1. **Working Principle:** In iteration we need to initialize the loop control variable and increment or decrement it based on the need, and to run the code inside the loop the control variable is checked against the termination condition i.e until the termination condition is true the inner statement of the loop will continuously execute.\n",
    "2. **Control Variable and Termination Logic:** In iteration the value of the Control Variable continuously move towards the Termination Logic.\n",
    "3. **Storage:** In iteration, the Control Variable stores the value and it is incremented or decremented based on need, and the updated value of the Control Variable will be checked with the Termination Condition.\n",
    "4. **Workings with Infinite Loop:** In iteration, when the Control Variable doesn't move towards the Termination Condition or there is no Termination Condition then the Loop will execute infinitely and it will consumes a lot of CPU cycles (the coputer gets hanged) until we stop the execution \n",
    "\n",
    "### Recursion\n",
    "* Example: given a positive number N, print from N to 1 i.e if N=5 then print 5,4,3,2,1\n",
    "1. **Working Principle:** Whereas, in recursion the function will call itself to solve the problem so the recursion must have a Base Case i.e the termination condition to stop the function from calling itself and causing stack overflow. Until the Base Case is reached the function will call itself to solve the problem.\n",
    "2. **Control Variable and Termination Logic:** Whereas, in recursion the Recursive Call (Control Variable) will move towards the Base Case (Termination Condition)\n",
    "3. **Storage:** Whereas, in recursion state of every Recursive Call will be stored and maintained in the Stack Memory and when the Base Case is reached the Execution will follow the Last In First Out (LIFO) principle i.e the last inserted Recursive Call will be executed first then it's result will be returned to the below Recursive Call and so on.\n",
    "4. **Workings with Infinite Loop:** Whereas, in recursion if there is no Base Case or the Recursive Call doesn't move towards the Base Case then the Recursive Call will be pushed into the Stack Memory until it causes Stack Overflow and the program crashes."
   ]
  },
  {
   "cell_type": "code",
   "execution_count": 11,
   "id": "ded8917f",
   "metadata": {
    "execution": {
     "iopub.execute_input": "2023-02-21T07:36:58.681955Z",
     "iopub.status.busy": "2023-02-21T07:36:58.680973Z",
     "iopub.status.idle": "2023-02-21T07:36:58.691874Z",
     "shell.execute_reply": "2023-02-21T07:36:58.689662Z"
    },
    "papermill": {
     "duration": 0.024971,
     "end_time": "2023-02-21T07:36:58.695482",
     "exception": false,
     "start_time": "2023-02-21T07:36:58.670511",
     "status": "completed"
    },
    "tags": []
   },
   "outputs": [
    {
     "name": "stdout",
     "output_type": "stream",
     "text": [
      "5\n",
      "4\n",
      "3\n",
      "2\n",
      "1\n",
      "\n",
      "\n",
      "5\n",
      "4\n",
      "3\n",
      "2\n",
      "1\n"
     ]
    }
   ],
   "source": [
    "def iteration(N):\n",
    "    # range(initialize loop control variable, termination condition, logic i.e decrementing control variable)\n",
    "    for i in range(N,0,-1): # loop control variable is N and we are decrementing it, termination condition is 0\n",
    "        print(i)            # to run the code inside the loop the control variable is checked against the termination condition\n",
    "\n",
    "iteration(5)\n",
    "print(\"\\n\")\n",
    "\n",
    "def recursion(N):\n",
    "    if N == 1:           # Termination Logic\n",
    "        print(1)\n",
    "        return \n",
    "    print(N)\n",
    "    return recursion(N-1) # control variable\n",
    "\n",
    "recursion(5)"
   ]
  },
  {
   "cell_type": "markdown",
   "id": "6476d050",
   "metadata": {
    "papermill": {
     "duration": 0.008664,
     "end_time": "2023-02-21T07:36:58.713500",
     "exception": false,
     "start_time": "2023-02-21T07:36:58.704836",
     "status": "completed"
    },
    "tags": []
   },
   "source": [
    "## Types of Recursion\n",
    "1. **Direct Recursion:** in direct recursion, the function will call itself, it is further divided into four types\n",
    "    1. `Tail Recursion:` in tail recursion the Recursive Call is the last(tail) thing executed by the function\n",
    "    2. `Head Recursion:` in head recursion the Recursive Call is the first(head) thing executed by the function\n",
    "    3. `Nested Recursion:` it is recursion inside a recursion i.e the Recursive Call will take Recursive Call as a parameter\n",
    "    4. `Tree or Binary Recursion:` in binary or tree recursion the Recursive Call calls itself twice\n",
    "    \n",
    "2. **Indirect/Mutual Recursion** in indirect recursion, more than one function will call mutually"
   ]
  },
  {
   "cell_type": "code",
   "execution_count": 12,
   "id": "5577615c",
   "metadata": {
    "execution": {
     "iopub.execute_input": "2023-02-21T07:36:58.733888Z",
     "iopub.status.busy": "2023-02-21T07:36:58.733361Z",
     "iopub.status.idle": "2023-02-21T07:36:58.741885Z",
     "shell.execute_reply": "2023-02-21T07:36:58.740283Z"
    },
    "papermill": {
     "duration": 0.022117,
     "end_time": "2023-02-21T07:36:58.744621",
     "exception": false,
     "start_time": "2023-02-21T07:36:58.722504",
     "status": "completed"
    },
    "tags": []
   },
   "outputs": [],
   "source": [
    "# Tail Recursion (Direct Recursion)\n",
    "def tail_recursion(N):\n",
    "    # operation1\n",
    "    # operation2\n",
    "    return tail_recursion(N-1)\n",
    "\n",
    "# Head Recursion (Direct Recursion)\n",
    "def head_recursion(N):\n",
    "    head_recursion(N-1)\n",
    "    # operation1\n",
    "    # operation2\n",
    "\n",
    "# Nested Recursion (Direct Recursion)\n",
    "def nested_recursion(N):\n",
    "    # operation1\n",
    "    # operation2\n",
    "    return nested_recursion(nested_recursion(N-1))\n",
    "\n",
    "# Tree or Binary Recursion (Direct Recursion)\n",
    "def tree_binary_recursion(N):\n",
    "    # operation1\n",
    "    # operation2\n",
    "    tree_binary_recursion(N-1)\n",
    "    tree_binary_recursion(N-2)\n",
    "    return\n"
   ]
  },
  {
   "cell_type": "markdown",
   "id": "ff88a109",
   "metadata": {
    "papermill": {
     "duration": 0.00915,
     "end_time": "2023-02-21T07:36:58.762833",
     "exception": false,
     "start_time": "2023-02-21T07:36:58.753683",
     "status": "completed"
    },
    "tags": []
   },
   "source": [
    "### Tail Recursion: \n",
    "**in tail recursion the Recursive Call is the last(tail) thing executed by the function**"
   ]
  },
  {
   "cell_type": "code",
   "execution_count": 13,
   "id": "55cb399c",
   "metadata": {
    "execution": {
     "iopub.execute_input": "2023-02-21T07:36:58.783133Z",
     "iopub.status.busy": "2023-02-21T07:36:58.782582Z",
     "iopub.status.idle": "2023-02-21T07:36:58.790767Z",
     "shell.execute_reply": "2023-02-21T07:36:58.789286Z"
    },
    "papermill": {
     "duration": 0.021813,
     "end_time": "2023-02-21T07:36:58.793555",
     "exception": false,
     "start_time": "2023-02-21T07:36:58.771742",
     "status": "completed"
    },
    "tags": []
   },
   "outputs": [
    {
     "name": "stdout",
     "output_type": "stream",
     "text": [
      "Subrata\n",
      "ubrata\n",
      "brata\n",
      "rata\n",
      "ata\n",
      "ta\n",
      "a\n"
     ]
    }
   ],
   "source": [
    "def tail_recursion(S:str) -> None:\n",
    "    if len(S) is 0:\n",
    "        return\n",
    "    print(S)\n",
    "    tail_recursion(S[1:])\n",
    "\n",
    "tail_recursion(\"Subrata\")"
   ]
  },
  {
   "cell_type": "markdown",
   "id": "ffd52e2e",
   "metadata": {
    "papermill": {
     "duration": 0.008607,
     "end_time": "2023-02-21T07:36:58.811201",
     "exception": false,
     "start_time": "2023-02-21T07:36:58.802594",
     "status": "completed"
    },
    "tags": []
   },
   "source": [
    "### Head Recursion: \n",
    "**in head recursion the Recursive Call is the first(head) thing executed by the function**"
   ]
  },
  {
   "cell_type": "code",
   "execution_count": 14,
   "id": "da22dea3",
   "metadata": {
    "execution": {
     "iopub.execute_input": "2023-02-21T07:36:58.832796Z",
     "iopub.status.busy": "2023-02-21T07:36:58.831589Z",
     "iopub.status.idle": "2023-02-21T07:36:58.839295Z",
     "shell.execute_reply": "2023-02-21T07:36:58.838039Z"
    },
    "papermill": {
     "duration": 0.021916,
     "end_time": "2023-02-21T07:36:58.842221",
     "exception": false,
     "start_time": "2023-02-21T07:36:58.820305",
     "status": "completed"
    },
    "tags": []
   },
   "outputs": [
    {
     "name": "stdout",
     "output_type": "stream",
     "text": [
      "a\n",
      "ta\n",
      "ata\n",
      "rata\n",
      "brata\n",
      "ubrata\n",
      "Subrata\n"
     ]
    }
   ],
   "source": [
    "def head_recursion(S:str) -> None:\n",
    "    if len(S) is 0:\n",
    "        return\n",
    "    \n",
    "    head_recursion(S[1:])\n",
    "    print(S)\n",
    "    \n",
    "head_recursion(\"Subrata\")"
   ]
  },
  {
   "cell_type": "markdown",
   "id": "6447b6f0",
   "metadata": {
    "papermill": {
     "duration": 0.008723,
     "end_time": "2023-02-21T07:36:58.859955",
     "exception": false,
     "start_time": "2023-02-21T07:36:58.851232",
     "status": "completed"
    },
    "tags": []
   },
   "source": [
    "### Nested Recursion: \n",
    "**it is recursion inside a recursion i.e the Recursive Call will take Recursive Call as a parameter**"
   ]
  },
  {
   "cell_type": "code",
   "execution_count": 15,
   "id": "c8701b44",
   "metadata": {
    "execution": {
     "iopub.execute_input": "2023-02-21T07:36:58.880546Z",
     "iopub.status.busy": "2023-02-21T07:36:58.880111Z",
     "iopub.status.idle": "2023-02-21T07:36:58.887778Z",
     "shell.execute_reply": "2023-02-21T07:36:58.886596Z"
    },
    "papermill": {
     "duration": 0.02143,
     "end_time": "2023-02-21T07:36:58.890401",
     "exception": false,
     "start_time": "2023-02-21T07:36:58.868971",
     "status": "completed"
    },
    "tags": []
   },
   "outputs": [
    {
     "data": {
      "text/plain": [
       "10"
      ]
     },
     "execution_count": 15,
     "metadata": {},
     "output_type": "execute_result"
    }
   ],
   "source": [
    "def nested_recursion(N:int) -> int:\n",
    "    if N > 10:\n",
    "        return N - 1\n",
    "    \n",
    "    return nested_recursion(nested_recursion(N+2)) # when N=6: function of function of 8 \n",
    "    \n",
    "nested_recursion(6)"
   ]
  },
  {
   "cell_type": "markdown",
   "id": "2f93ddd5",
   "metadata": {
    "papermill": {
     "duration": 0.008833,
     "end_time": "2023-02-21T07:36:58.908432",
     "exception": false,
     "start_time": "2023-02-21T07:36:58.899599",
     "status": "completed"
    },
    "tags": []
   },
   "source": [
    "### Tree or Binary Recursion: \n",
    "**in binary or tree recursion the Recursive Call calls itself twice**"
   ]
  },
  {
   "cell_type": "code",
   "execution_count": 16,
   "id": "f4ea7cdf",
   "metadata": {
    "execution": {
     "iopub.execute_input": "2023-02-21T07:36:58.928741Z",
     "iopub.status.busy": "2023-02-21T07:36:58.928319Z",
     "iopub.status.idle": "2023-02-21T07:36:58.937283Z",
     "shell.execute_reply": "2023-02-21T07:36:58.935943Z"
    },
    "papermill": {
     "duration": 0.021855,
     "end_time": "2023-02-21T07:36:58.939713",
     "exception": false,
     "start_time": "2023-02-21T07:36:58.917858",
     "status": "completed"
    },
    "tags": []
   },
   "outputs": [
    {
     "data": {
      "text/plain": [
       "3"
      ]
     },
     "execution_count": 16,
     "metadata": {},
     "output_type": "execute_result"
    }
   ],
   "source": [
    "# fibonnacci \n",
    "def binary_tree_recursion(N:int) -> int:\n",
    "    if N <= 1:\n",
    "        return N\n",
    "    return binary_tree_recursion(N-1) + binary_tree_recursion(N-2)\n",
    "\n",
    "binary_tree_recursion(4)"
   ]
  },
  {
   "cell_type": "markdown",
   "id": "37e1100c",
   "metadata": {
    "papermill": {
     "duration": 0.008898,
     "end_time": "2023-02-21T07:36:58.957862",
     "exception": false,
     "start_time": "2023-02-21T07:36:58.948964",
     "status": "completed"
    },
    "tags": []
   },
   "source": [
    "## Indirect/Mutual Recursion \n",
    "**in indirect recursion, more than one function will call mutually** i.e functionA calling functionB and functionB calling functionA"
   ]
  },
  {
   "cell_type": "code",
   "execution_count": 17,
   "id": "b75673e8",
   "metadata": {
    "execution": {
     "iopub.execute_input": "2023-02-21T07:36:58.977990Z",
     "iopub.status.busy": "2023-02-21T07:36:58.977572Z",
     "iopub.status.idle": "2023-02-21T07:36:58.983175Z",
     "shell.execute_reply": "2023-02-21T07:36:58.981850Z"
    },
    "papermill": {
     "duration": 0.018497,
     "end_time": "2023-02-21T07:36:58.985641",
     "exception": false,
     "start_time": "2023-02-21T07:36:58.967144",
     "status": "completed"
    },
    "tags": []
   },
   "outputs": [],
   "source": [
    "# Indirect/Mutual Recursion: functionA indirectly calls itself\n",
    "def recursionA():\n",
    "    # base case\n",
    "    recursionB()\n",
    "    \n",
    "def recursionB():\n",
    "    # base case\n",
    "    recursionA()"
   ]
  },
  {
   "cell_type": "code",
   "execution_count": 18,
   "id": "aab0f1d1",
   "metadata": {
    "execution": {
     "iopub.execute_input": "2023-02-21T07:36:59.005888Z",
     "iopub.status.busy": "2023-02-21T07:36:59.005480Z",
     "iopub.status.idle": "2023-02-21T07:36:59.015039Z",
     "shell.execute_reply": "2023-02-21T07:36:59.013585Z"
    },
    "papermill": {
     "duration": 0.022697,
     "end_time": "2023-02-21T07:36:59.017746",
     "exception": false,
     "start_time": "2023-02-21T07:36:58.995049",
     "status": "completed"
    },
    "tags": []
   },
   "outputs": [
    {
     "name": "stdout",
     "output_type": "stream",
     "text": [
      "Odd: 1\n",
      "Even: 2\n",
      "Odd: 3\n",
      "Even: 4\n"
     ]
    }
   ],
   "source": [
    "N = 1\n",
    "\n",
    "def even(): # function even is indirectly calling itself\n",
    "    global N\n",
    "    if N == 5:\n",
    "        return\n",
    "    print(\"Even:\",N)\n",
    "    \n",
    "    N += 1\n",
    "    odd()\n",
    "    \n",
    "def odd(): # function odd is indirectly calling itself\n",
    "    global N\n",
    "    if N == 5:\n",
    "        return\n",
    "    print(\"Odd:\",N)\n",
    "    N += 1\n",
    "    even()\n",
    "    \n",
    "odd()"
   ]
  },
  {
   "cell_type": "markdown",
   "id": "81c1779a",
   "metadata": {
    "papermill": {
     "duration": 0.008926,
     "end_time": "2023-02-21T07:36:59.036026",
     "exception": false,
     "start_time": "2023-02-21T07:36:59.027100",
     "status": "completed"
    },
    "tags": []
   },
   "source": [
    "## Tail Call Optimization or Elimination or Tail Recursion: optimizes memory space\n",
    "### Why tail call optimization is efficient?\n",
    "Because they are optimized by the compilers itself, before execution the compiler converts the recursive code to a looping code and we know that recursion takes Stack Memory to store the recursive calls, whereas, looping doesn't requires memory i.e if recursion takes O(n) space then looping can do it in O(1) an i.e why Tail Recursion is considered as the most efficient one.\n",
    "\n",
    "\n",
    "**Let's optimize Factorial Recursion with Tail Recursion.**"
   ]
  },
  {
   "cell_type": "code",
   "execution_count": 19,
   "id": "6f236fec",
   "metadata": {
    "execution": {
     "iopub.execute_input": "2023-02-21T07:36:59.056846Z",
     "iopub.status.busy": "2023-02-21T07:36:59.056362Z",
     "iopub.status.idle": "2023-02-21T07:36:59.066061Z",
     "shell.execute_reply": "2023-02-21T07:36:59.064742Z"
    },
    "papermill": {
     "duration": 0.023181,
     "end_time": "2023-02-21T07:36:59.068769",
     "exception": false,
     "start_time": "2023-02-21T07:36:59.045588",
     "status": "completed"
    },
    "tags": []
   },
   "outputs": [
    {
     "data": {
      "text/plain": [
       "120"
      ]
     },
     "execution_count": 19,
     "metadata": {},
     "output_type": "execute_result"
    }
   ],
   "source": [
    "# in case of factorial of large numbers the program will consume too much memory\n",
    "def factorial(N:int) -> int:\n",
    "    if N <= 1:\n",
    "        return N\n",
    "    return N * factorial(N-1) # this is not tail recursion because the execution of this statement depends on the return value \n",
    "                              # of the next recursive call i.e factorial(N-1)\n",
    "\n",
    "factorial(5)"
   ]
  },
  {
   "cell_type": "markdown",
   "id": "2abf5f72",
   "metadata": {
    "papermill": {
     "duration": 0.009149,
     "end_time": "2023-02-21T07:36:59.087515",
     "exception": false,
     "start_time": "2023-02-21T07:36:59.078366",
     "status": "completed"
    },
    "tags": []
   },
   "source": [
    "**tail call optimization**"
   ]
  },
  {
   "cell_type": "code",
   "execution_count": 20,
   "id": "1118bd4b",
   "metadata": {
    "execution": {
     "iopub.execute_input": "2023-02-21T07:36:59.108335Z",
     "iopub.status.busy": "2023-02-21T07:36:59.107920Z",
     "iopub.status.idle": "2023-02-21T07:36:59.116057Z",
     "shell.execute_reply": "2023-02-21T07:36:59.115172Z"
    },
    "papermill": {
     "duration": 0.021372,
     "end_time": "2023-02-21T07:36:59.118348",
     "exception": false,
     "start_time": "2023-02-21T07:36:59.096976",
     "status": "completed"
    },
    "tags": []
   },
   "outputs": [
    {
     "data": {
      "text/plain": [
       "120"
      ]
     },
     "execution_count": 20,
     "metadata": {},
     "output_type": "execute_result"
    }
   ],
   "source": [
    "# tail call optimization\n",
    "def factorial_recursion(N:int, ans = 1) -> int:\n",
    "    if N <= 0:\n",
    "        return ans\n",
    "    return factorial_recursion(N-1, N * ans)\n",
    "\n",
    "factorial_recursion(5,1) # factorial_recursion(5,1) = return factorial_recursion(5-1,5*1) i.e 4, 5\n",
    "                         # factorial_recursion(4,5) = return factorial_recursion(4-1,4*5) i.e 3, 20\n",
    "                         # factorial_recursion(3,20) = return factorial_recursion(3-1,3*20) i.e 2, 60\n",
    "                         # factorial_recursion(2,60) = return factorial_recursion(2-1,2*60) i.e 1, 120\n",
    "                         # factorial_recursion(1,120) = return factorial_recursion(1-1,1*120) i.e 0, 120 \n",
    "                         # factorial_recursion(0,120) since the N = 0, the Base Case will trigger and returns answer i.e ans = 120\n",
    "                        "
   ]
  },
  {
   "cell_type": "code",
   "execution_count": null,
   "id": "7fdb4051",
   "metadata": {
    "papermill": {
     "duration": 0.009062,
     "end_time": "2023-02-21T07:36:59.136924",
     "exception": false,
     "start_time": "2023-02-21T07:36:59.127862",
     "status": "completed"
    },
    "tags": []
   },
   "outputs": [],
   "source": []
  }
 ],
 "metadata": {
  "kernelspec": {
   "display_name": "Python 3",
   "language": "python",
   "name": "python3"
  },
  "language_info": {
   "codemirror_mode": {
    "name": "ipython",
    "version": 3
   },
   "file_extension": ".py",
   "mimetype": "text/x-python",
   "name": "python",
   "nbconvert_exporter": "python",
   "pygments_lexer": "ipython3",
   "version": "3.7.12"
  },
  "papermill": {
   "default_parameters": {},
   "duration": 10.99118,
   "end_time": "2023-02-21T07:36:59.869007",
   "environment_variables": {},
   "exception": null,
   "input_path": "__notebook__.ipynb",
   "output_path": "__notebook__.ipynb",
   "parameters": {},
   "start_time": "2023-02-21T07:36:48.877827",
   "version": "2.3.4"
  }
 },
 "nbformat": 4,
 "nbformat_minor": 5
}
