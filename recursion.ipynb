{
 "cells": [
  {
   "cell_type": "code",
   "execution_count": 1,
   "id": "0080782c",
   "metadata": {
    "_cell_guid": "1b350dc7-aab9-44fb-8d2f-81bcbb63d102",
    "_uuid": "29dd4153-bf67-43b5-a984-b4446f6ae015",
    "collapsed": false,
    "execution": {
     "iopub.execute_input": "2023-02-26T17:50:06.277592Z",
     "iopub.status.busy": "2023-02-26T17:50:06.276805Z",
     "iopub.status.idle": "2023-02-26T17:50:06.287884Z",
     "shell.execute_reply": "2023-02-26T17:50:06.287178Z"
    },
    "jupyter": {
     "outputs_hidden": false
    },
    "papermill": {
     "duration": 0.02784,
     "end_time": "2023-02-26T17:50:06.290060",
     "exception": false,
     "start_time": "2023-02-26T17:50:06.262220",
     "status": "completed"
    },
    "tags": []
   },
   "outputs": [],
   "source": [
    "# This Python 3 environment comes with many helpful analytics libraries installed\n",
    "# It is defined by the kaggle/python Docker image: https://github.com/kaggle/docker-python\n",
    "# For example, here's several helpful packages to load\n",
    "\n",
    "import numpy as np # linear algebra\n",
    "import pandas as pd # data processing, CSV file I/O (e.g. pd.read_csv)\n",
    "\n",
    "# Input data files are available in the read-only \"../input/\" directory\n",
    "# For example, running this (by clicking run or pressing Shift+Enter) will list all files under the input directory\n",
    "\n",
    "import os\n",
    "for dirname, _, filenames in os.walk('/kaggle/input'):\n",
    "    for filename in filenames:\n",
    "        print(os.path.join(dirname, filename))\n",
    "\n",
    "# You can write up to 20GB to the current directory (/kaggle/working/) that gets preserved as output when you create a version using \"Save & Run All\" \n",
    "# You can also write temporary files to /kaggle/temp/, but they won't be saved outside of the current session"
   ]
  },
  {
   "cell_type": "markdown",
   "id": "e2911553",
   "metadata": {
    "_cell_guid": "07c6f7b7-802f-4897-b0b8-9777030f3f8a",
    "_uuid": "f262b9eb-6cc0-458c-9ccf-73e56c10799f",
    "papermill": {
     "duration": 0.013102,
     "end_time": "2023-02-26T17:50:06.314829",
     "exception": false,
     "start_time": "2023-02-26T17:50:06.301727",
     "status": "completed"
    },
    "tags": []
   },
   "source": [
    "# <center>Recursion</center>\n",
    "---"
   ]
  },
  {
   "cell_type": "markdown",
   "id": "316da051",
   "metadata": {
    "_cell_guid": "41f11db4-617d-40d5-a568-086e77a11344",
    "_uuid": "d628e449-0444-44f8-ba0e-43c72b662702",
    "papermill": {
     "duration": 0.010523,
     "end_time": "2023-02-26T17:50:06.336368",
     "exception": false,
     "start_time": "2023-02-26T17:50:06.325845",
     "status": "completed"
    },
    "tags": []
   },
   "source": [
    "## Introduction to Recursion & Basic Rules"
   ]
  },
  {
   "cell_type": "markdown",
   "id": "f38fc7a6",
   "metadata": {
    "_cell_guid": "c66bb131-9726-4828-b1aa-461c676fb311",
    "_uuid": "fb381ff4-7e53-467f-9420-d873334593ed",
    "papermill": {
     "duration": 0.010731,
     "end_time": "2023-02-26T17:50:06.357972",
     "exception": false,
     "start_time": "2023-02-26T17:50:06.347241",
     "status": "completed"
    },
    "tags": []
   },
   "source": [
    "#### What is Recursion?\n",
    "The process in which a function calls itself.\n",
    "\n",
    "#### Why is Recursion used?\n",
    "Recursion is a widely used technique for problem solving.\n",
    "\n",
    "#### Basic Rules of Recursion:\n",
    "1. The function <u>must call itself</u>.\n",
    "2. The function <u>must have a base case</u>, or else the program will go inside infinite loop and crash.\n",
    "3. The recursive call <u>must align towards the base case</u>, or else the program will go inside infinite loop and crash."
   ]
  },
  {
   "cell_type": "code",
   "execution_count": 2,
   "id": "c311353b",
   "metadata": {
    "_cell_guid": "e0ad6c7f-eda7-4fd1-900b-eac173a02f89",
    "_uuid": "4c3797f9-fcfb-45ed-8b3d-f5e1c46d1774",
    "collapsed": false,
    "execution": {
     "iopub.execute_input": "2023-02-26T17:50:06.382401Z",
     "iopub.status.busy": "2023-02-26T17:50:06.381853Z",
     "iopub.status.idle": "2023-02-26T17:50:06.386476Z",
     "shell.execute_reply": "2023-02-26T17:50:06.385830Z"
    },
    "jupyter": {
     "outputs_hidden": false
    },
    "papermill": {
     "duration": 0.019212,
     "end_time": "2023-02-26T17:50:06.388175",
     "exception": false,
     "start_time": "2023-02-26T17:50:06.368963",
     "status": "completed"
    },
    "tags": []
   },
   "outputs": [],
   "source": [
    "def recursion(N): # N = 5\n",
    "    # base case\n",
    "    if N == 1:\n",
    "        return\n",
    "    \n",
    "    # recursive call aligning towards the base case\n",
    "    recursion(N-1) # 5,4,3,2,1,end\n",
    "    \n",
    "    # recursive call not aligning towards the base case\n",
    "    recursion(N+1) # 5, 6, 7, 8, ....., loop"
   ]
  },
  {
   "cell_type": "markdown",
   "id": "20de06c1",
   "metadata": {
    "_cell_guid": "948e0ebf-0121-448d-a763-156664d0c8c8",
    "_uuid": "0b9d7801-8db4-4073-bba9-ad193117a76d",
    "papermill": {
     "duration": 0.011057,
     "end_time": "2023-02-26T17:50:06.410159",
     "exception": false,
     "start_time": "2023-02-26T17:50:06.399102",
     "status": "completed"
    },
    "tags": []
   },
   "source": [
    "## How Recursion works\n",
    "**Every Recursive Call will be pushed into the Stack untill the Base Case is reached, and once it reaches the Base Case it will calculate the Result from Backward using Stack's LIFO principle**</br>\n",
    "\n",
    "**Factorial using Recursion**</br>\n",
    "Factorial(N) = N x (N-1) x (N-2) x (N-3) ... x 1, here the function calling itself and each time the no. getting subtracted is incremented by 1, and the numbers are getting multiplied with each other.\n",
    "\n",
    "**Recursive Call:** N x function(N-1)</br>\n",
    "**Base Case:** N == 1"
   ]
  },
  {
   "cell_type": "code",
   "execution_count": 3,
   "id": "761d7d50",
   "metadata": {
    "_cell_guid": "052a2cd5-b723-4efb-ab46-3286d4d558d1",
    "_uuid": "1b02ebfe-146e-4a89-806d-3d2df3ad1307",
    "collapsed": false,
    "execution": {
     "iopub.execute_input": "2023-02-26T17:50:06.434976Z",
     "iopub.status.busy": "2023-02-26T17:50:06.434428Z",
     "iopub.status.idle": "2023-02-26T17:50:06.440783Z",
     "shell.execute_reply": "2023-02-26T17:50:06.439159Z"
    },
    "jupyter": {
     "outputs_hidden": false
    },
    "papermill": {
     "duration": 0.021652,
     "end_time": "2023-02-26T17:50:06.443392",
     "exception": false,
     "start_time": "2023-02-26T17:50:06.421740",
     "status": "completed"
    },
    "tags": []
   },
   "outputs": [],
   "source": [
    "def factorial(N:int) -> int:\n",
    "    # assertion\n",
    "    assert N >= 0, \"input must be positive integer\"\n",
    "    \n",
    "    # base case\n",
    "    if N == 1:\n",
    "        return 1\n",
    "    \n",
    "    # function calling itself also the recursive call is aligning towards the base case\n",
    "    return N * factorial(N - 1)"
   ]
  },
  {
   "cell_type": "code",
   "execution_count": 4,
   "id": "10475278",
   "metadata": {
    "_cell_guid": "bcea3647-62e0-4b78-8554-65285f496d0b",
    "_uuid": "195d64b2-ac2c-48f4-b301-71bb089ca2aa",
    "collapsed": false,
    "execution": {
     "iopub.execute_input": "2023-02-26T17:50:06.468522Z",
     "iopub.status.busy": "2023-02-26T17:50:06.468006Z",
     "iopub.status.idle": "2023-02-26T17:50:06.475397Z",
     "shell.execute_reply": "2023-02-26T17:50:06.474339Z"
    },
    "jupyter": {
     "outputs_hidden": false
    },
    "papermill": {
     "duration": 0.022396,
     "end_time": "2023-02-26T17:50:06.477753",
     "exception": false,
     "start_time": "2023-02-26T17:50:06.455357",
     "status": "completed"
    },
    "tags": []
   },
   "outputs": [
    {
     "data": {
      "text/plain": [
       "6"
      ]
     },
     "execution_count": 4,
     "metadata": {},
     "output_type": "execute_result"
    }
   ],
   "source": [
    "factorial(3)"
   ]
  },
  {
   "cell_type": "markdown",
   "id": "98c20157",
   "metadata": {
    "_cell_guid": "fc131477-a8e5-407c-a4c4-f163ce767fbb",
    "_uuid": "0268469b-9d4c-4607-80c9-067708dacbb2",
    "papermill": {
     "duration": 0.011648,
     "end_time": "2023-02-26T17:50:06.501074",
     "exception": false,
     "start_time": "2023-02-26T17:50:06.489426",
     "status": "completed"
    },
    "tags": []
   },
   "source": [
    "## Stack Overflow in Recursion\n",
    "It is the most common issue faced by the Recursion and it will crash the program.\n",
    "\n",
    "## How to avoid Stack Overflow?\n",
    "As we know all the Recursive Calls are pushed into the Stack for it's execution, and after the execution is completed it will be removed from the stack. But the problem is Stack has a finite amount of Storage. Say the size of the Stack is N and when the number of Recursive Call is greater than N then it causes the Stack to Overflow.\n",
    "\n",
    "**Case1 for Stack Overflow:** No Base Case\n",
    "* When there is No Base Case there will be infinite Recursive Calls, which will led to the Stack Overflow"
   ]
  },
  {
   "cell_type": "code",
   "execution_count": 5,
   "id": "0b40fdf2",
   "metadata": {
    "_cell_guid": "9ad9427e-d204-4069-8f4d-e36cd4420698",
    "_uuid": "18bfd873-914a-479f-9cc9-6845e8113372",
    "collapsed": false,
    "execution": {
     "iopub.execute_input": "2023-02-26T17:50:06.526637Z",
     "iopub.status.busy": "2023-02-26T17:50:06.526285Z",
     "iopub.status.idle": "2023-02-26T17:50:06.529957Z",
     "shell.execute_reply": "2023-02-26T17:50:06.529221Z"
    },
    "jupyter": {
     "outputs_hidden": false
    },
    "papermill": {
     "duration": 0.018524,
     "end_time": "2023-02-26T17:50:06.531783",
     "exception": false,
     "start_time": "2023-02-26T17:50:06.513259",
     "status": "completed"
    },
    "tags": []
   },
   "outputs": [],
   "source": [
    "# def factorial(N:int) -> int:\n",
    "#     # no base case\n",
    "#     return N * factorial(N-1) # output: N = 5: 5,4,3,2,1,0,-1,-2,-3,-4..., negative infinity"
   ]
  },
  {
   "cell_type": "markdown",
   "id": "e9d9899e",
   "metadata": {
    "_cell_guid": "a2d7a16d-9f20-4c03-b51a-2b1f8a7f4573",
    "_uuid": "3312ab9a-09c8-4a76-a66a-c7d3dae7a1b0",
    "papermill": {
     "duration": 0.011297,
     "end_time": "2023-02-26T17:50:06.555089",
     "exception": false,
     "start_time": "2023-02-26T17:50:06.543792",
     "status": "completed"
    },
    "tags": []
   },
   "source": [
    "**Case2 for Stack Overflow:** When the Recursive Case doesn't align towards the Base Case"
   ]
  },
  {
   "cell_type": "code",
   "execution_count": 6,
   "id": "2bbde603",
   "metadata": {
    "_cell_guid": "f757154c-2dac-49a8-81ad-c0ec6a22baf8",
    "_uuid": "24bddfb4-10f2-4e79-9ff6-85a4f65378ee",
    "collapsed": false,
    "execution": {
     "iopub.execute_input": "2023-02-26T17:50:06.580271Z",
     "iopub.status.busy": "2023-02-26T17:50:06.579578Z",
     "iopub.status.idle": "2023-02-26T17:50:06.584767Z",
     "shell.execute_reply": "2023-02-26T17:50:06.582828Z"
    },
    "jupyter": {
     "outputs_hidden": false
    },
    "papermill": {
     "duration": 0.021356,
     "end_time": "2023-02-26T17:50:06.587755",
     "exception": false,
     "start_time": "2023-02-26T17:50:06.566399",
     "status": "completed"
    },
    "tags": []
   },
   "outputs": [],
   "source": [
    "# def factorial(N:int) -> int:\n",
    "#     if N == 1:\n",
    "#         return 1\n",
    "#     # Recursive Call doesn't align towards the Base Case\n",
    "#     return N * factorial(N+1) # output N = 5: 5,6,7,8,9,10,...positive infinity"
   ]
  },
  {
   "cell_type": "markdown",
   "id": "6f0b91c1",
   "metadata": {
    "_cell_guid": "890f7aeb-144b-4a25-b9d1-543e109a3b6a",
    "_uuid": "b48bba8d-d329-44c3-b779-9b405815db25",
    "papermill": {
     "duration": 0.012202,
     "end_time": "2023-02-26T17:50:06.612045",
     "exception": false,
     "start_time": "2023-02-26T17:50:06.599843",
     "status": "completed"
    },
    "tags": []
   },
   "source": [
    "## How to convert Iterative Function to Recursive Function ?\n",
    "1. **Step1:** convert Termination Condition to Base Case\n",
    "2. **Step2:** convert Loop to Recursive Call\n",
    "3. **Step3:** convert Iterative Logic to Argument for Recursive Call"
   ]
  },
  {
   "cell_type": "markdown",
   "id": "e63cf4a5",
   "metadata": {
    "_cell_guid": "6f4040ba-e086-498c-bea2-78748eeede13",
    "_uuid": "992157c0-b1f9-42e7-aafb-77efd0d66863",
    "papermill": {
     "duration": 0.011032,
     "end_time": "2023-02-26T17:50:06.634465",
     "exception": false,
     "start_time": "2023-02-26T17:50:06.623433",
     "status": "completed"
    },
    "tags": []
   },
   "source": [
    "### Example1: \n",
    "Print all the positive numbers from 1 to the input number"
   ]
  },
  {
   "cell_type": "code",
   "execution_count": 7,
   "id": "b8e1ebf6",
   "metadata": {
    "_cell_guid": "3e258122-7c79-424c-bad8-37e1b04e352f",
    "_uuid": "dca2d3aa-3f7c-40aa-a808-7e4171fbdb51",
    "collapsed": false,
    "execution": {
     "iopub.execute_input": "2023-02-26T17:50:06.659350Z",
     "iopub.status.busy": "2023-02-26T17:50:06.658952Z",
     "iopub.status.idle": "2023-02-26T17:50:06.665498Z",
     "shell.execute_reply": "2023-02-26T17:50:06.664736Z"
    },
    "jupyter": {
     "outputs_hidden": false
    },
    "papermill": {
     "duration": 0.021592,
     "end_time": "2023-02-26T17:50:06.667311",
     "exception": false,
     "start_time": "2023-02-26T17:50:06.645719",
     "status": "completed"
    },
    "tags": []
   },
   "outputs": [],
   "source": [
    "# print all the numbers from 1 to the given number\n",
    "def print_number(N:int) -> None:\n",
    "    # iterative method\n",
    "    for n in range(N,0, -1): # Termination Condition: run the loop till N is not less than 1 or N is greater than 1, Iterative Logic (N-1)\n",
    "        print(n)             \n",
    "        \n",
    "def another_print_number(N:int) -> None:\n",
    "    while N > 0:            # Termination Condition: run the loop till N is not less than 1 or N is greater than 1\n",
    "        print(N)\n",
    "        N -= 1              # Iterative Logic (N-1)\n",
    "        \n",
    "def print_number_recursion(N:int) -> None:\n",
    "    if N == 1:                             # convert Termination Condition to Base Case\n",
    "        return 1\n",
    "    print(N)\n",
    "    return print_number_recursion(N-1)     # convert Loop to Recursive Call,  convert Iterative Logic to Argument for Recursive Call"
   ]
  },
  {
   "cell_type": "code",
   "execution_count": 8,
   "id": "75a89cf2",
   "metadata": {
    "_cell_guid": "b556d0d1-2b8a-4318-bab6-8b60a58e4102",
    "_uuid": "75d0e88e-ae96-4f81-bac0-92bf4be36129",
    "collapsed": false,
    "execution": {
     "iopub.execute_input": "2023-02-26T17:50:06.691666Z",
     "iopub.status.busy": "2023-02-26T17:50:06.691085Z",
     "iopub.status.idle": "2023-02-26T17:50:06.698508Z",
     "shell.execute_reply": "2023-02-26T17:50:06.697318Z"
    },
    "jupyter": {
     "outputs_hidden": false
    },
    "papermill": {
     "duration": 0.022018,
     "end_time": "2023-02-26T17:50:06.700656",
     "exception": false,
     "start_time": "2023-02-26T17:50:06.678638",
     "status": "completed"
    },
    "tags": []
   },
   "outputs": [
    {
     "name": "stdout",
     "output_type": "stream",
     "text": [
      "\n",
      "Iterative\n",
      "\n",
      "5\n",
      "4\n",
      "3\n",
      "2\n",
      "1\n",
      "\n",
      "Iterative\n",
      "\n",
      "5\n",
      "4\n",
      "3\n",
      "2\n",
      "1\n",
      "\n",
      "Recursion\n",
      "\n",
      "5\n",
      "4\n",
      "3\n",
      "2\n"
     ]
    },
    {
     "data": {
      "text/plain": [
       "1"
      ]
     },
     "execution_count": 8,
     "metadata": {},
     "output_type": "execute_result"
    }
   ],
   "source": [
    "print(\"\\nIterative\\n\")\n",
    "print_number(5)\n",
    "print(\"\\nIterative\\n\")\n",
    "another_print_number(5)\n",
    "print(\"\\nRecursion\\n\")\n",
    "print_number_recursion(5)"
   ]
  },
  {
   "cell_type": "markdown",
   "id": "bfd6f5d8",
   "metadata": {
    "_cell_guid": "c628101a-63f3-4bb2-9ce2-d8cf9d189156",
    "_uuid": "50783f44-7cab-4a74-af50-365e13d04b1b",
    "papermill": {
     "duration": 0.011984,
     "end_time": "2023-02-26T17:50:06.724332",
     "exception": false,
     "start_time": "2023-02-26T17:50:06.712348",
     "status": "completed"
    },
    "tags": []
   },
   "source": [
    "### Example2\n",
    "Reverse a string"
   ]
  },
  {
   "cell_type": "code",
   "execution_count": 9,
   "id": "686b5dd6",
   "metadata": {
    "_cell_guid": "dff585f2-d96a-4f58-a5f2-39475886c655",
    "_uuid": "85e8d1ce-44a3-4013-8ec2-bb54b59e3f1a",
    "collapsed": false,
    "execution": {
     "iopub.execute_input": "2023-02-26T17:50:06.750098Z",
     "iopub.status.busy": "2023-02-26T17:50:06.749735Z",
     "iopub.status.idle": "2023-02-26T17:50:06.756811Z",
     "shell.execute_reply": "2023-02-26T17:50:06.755580Z"
    },
    "jupyter": {
     "outputs_hidden": false
    },
    "papermill": {
     "duration": 0.023345,
     "end_time": "2023-02-26T17:50:06.759231",
     "exception": false,
     "start_time": "2023-02-26T17:50:06.735886",
     "status": "completed"
    },
    "tags": []
   },
   "outputs": [],
   "source": [
    "def reverse_string(S:str) -> None:\n",
    "    N = len(S)\n",
    "    for i in range(N-1,-1,-1):\n",
    "        print(S[i])\n",
    "        \n",
    "def reverse_string2(S:str) -> str:\n",
    "    string = \"\"\n",
    "    for i in S:\n",
    "        string = i + string\n",
    "    print(string)\n",
    "    return string\n",
    "        \n",
    "def reverse_string_recursion(S:str) -> str: \n",
    "    N = len(S)\n",
    "    if N == 0:\n",
    "        return S\n",
    "    \n",
    "    return reverse_string_recursion(S[1:]) + S[0]"
   ]
  },
  {
   "cell_type": "code",
   "execution_count": 10,
   "id": "93f65992",
   "metadata": {
    "_cell_guid": "1adea374-53b0-40d1-8e82-cb515cc1f77f",
    "_uuid": "a446ce44-abe9-464a-8461-6b0888dc9830",
    "collapsed": false,
    "execution": {
     "iopub.execute_input": "2023-02-26T17:50:06.784739Z",
     "iopub.status.busy": "2023-02-26T17:50:06.783464Z",
     "iopub.status.idle": "2023-02-26T17:50:06.793574Z",
     "shell.execute_reply": "2023-02-26T17:50:06.791800Z"
    },
    "jupyter": {
     "outputs_hidden": false
    },
    "papermill": {
     "duration": 0.024875,
     "end_time": "2023-02-26T17:50:06.795675",
     "exception": false,
     "start_time": "2023-02-26T17:50:06.770800",
     "status": "completed"
    },
    "tags": []
   },
   "outputs": [
    {
     "name": "stdout",
     "output_type": "stream",
     "text": [
      "a\n",
      "t\n",
      "a\n",
      "r\n",
      "b\n",
      "u\n",
      "s\n",
      "atarbus\n"
     ]
    },
    {
     "data": {
      "text/plain": [
       "'atarbus'"
      ]
     },
     "execution_count": 10,
     "metadata": {},
     "output_type": "execute_result"
    }
   ],
   "source": [
    "S = \"subrata\"\n",
    "\n",
    "reverse_string(S)\n",
    "reverse_string_recursion(S)\n",
    "reverse_string2(S)"
   ]
  },
  {
   "cell_type": "markdown",
   "id": "483f4012",
   "metadata": {
    "_cell_guid": "27fe4d9d-8089-4b70-9f3a-d57c9caf9943",
    "_uuid": "72d7b4dd-34d3-4622-b931-f9e3e6b8e1fa",
    "papermill": {
     "duration": 0.011842,
     "end_time": "2023-02-26T17:50:06.819376",
     "exception": false,
     "start_time": "2023-02-26T17:50:06.807534",
     "status": "completed"
    },
    "tags": []
   },
   "source": [
    "## Iteration vs Recursion\n",
    "**Note:** Recursive Call == Recursive Function\n",
    "### Iteration\n",
    "* Example: given a positive number N, print from N to 1 i.e if N=5 then print 5,4,3,2,1\n",
    "1. **Working Principle:** In iteration we need to initialize the `loop control variable` and increment or decrement it based on the need, and to run the code inside the loop the ` loop control variable` is checked against the `termination condition` i.e until the termination condition is true the inner statement of the loop will continuously execute.\n",
    "2. **Control Variable and Termination Logic:** In iteration the value of the Control Variable continuously move towards the Termination Logic.\n",
    "3. **Storage:** In iteration, the Control Variable stores the value and it is incremented or decremented based on need, and the updated value of the Control Variable will be checked with the Termination Condition.\n",
    "4. **Workings with Infinite Loop:** In iteration, when the Control Variable doesn't move towards the Termination Condition or there is no Termination Condition then the Loop will execute infinitely and it will consumes a lot of CPU cycles (the computer crashes, hangs) until we stop the execution manually\n",
    "\n",
    "### Recursion\n",
    "* Example: given a positive number N, print from N to 1 i.e if N=5 then print 5,4,3,2,1\n",
    "1. **Working Principle:** Whereas, in recursion the function will call itself to solve the problem so the recursion must have a Base Case i.e the termination condition to stop the function from calling itself and causing stack overflow. Until the Base Case is reached the function will call itself to solve the problem.\n",
    "2. **Control Variable and Termination Logic:** Whereas, in recursion the Recursive Call (Control Variable) will move towards the Base Case (Termination Condition)\n",
    "3. **Storage:** Whereas, in recursion, state of every Recursive Call will be stored and maintained in the Stack Memory and when the Base Case is reached the Execution will follow the Last In First Out (LIFO) principle i.e the last inserted Recursive Call will be executed first then it's result will be returned to the below Recursive Call and so on.\n",
    "4. **Workings with Infinite Loop:** Whereas, in recursion if there is no Base Case or the Recursive Call doesn't move towards the Base Case then the Recursive Call will be pushed into the Stack Memory until it causes Stack Overflow and the program crashes."
   ]
  },
  {
   "cell_type": "code",
   "execution_count": 11,
   "id": "c445840c",
   "metadata": {
    "_cell_guid": "64de2cd7-1141-4324-9e98-c2c79cbe8f6f",
    "_uuid": "c3381e79-3397-44cf-8a29-70f8bbd17f5e",
    "collapsed": false,
    "execution": {
     "iopub.execute_input": "2023-02-26T17:50:06.845045Z",
     "iopub.status.busy": "2023-02-26T17:50:06.844581Z",
     "iopub.status.idle": "2023-02-26T17:50:06.852312Z",
     "shell.execute_reply": "2023-02-26T17:50:06.850768Z"
    },
    "jupyter": {
     "outputs_hidden": false
    },
    "papermill": {
     "duration": 0.022942,
     "end_time": "2023-02-26T17:50:06.854245",
     "exception": false,
     "start_time": "2023-02-26T17:50:06.831303",
     "status": "completed"
    },
    "tags": []
   },
   "outputs": [
    {
     "name": "stdout",
     "output_type": "stream",
     "text": [
      "5\n",
      "4\n",
      "3\n",
      "2\n",
      "1\n",
      "\n",
      "\n",
      "5\n",
      "4\n",
      "3\n",
      "2\n",
      "1\n"
     ]
    }
   ],
   "source": [
    "def iteration(N):\n",
    "    # range(initialize loop control variable, termination condition, logic i.e decrementing control variable)\n",
    "    for i in range(N,0,-1): # loop control variable is N and we are decrementing it, termination condition is 0\n",
    "        print(i)            # to run the code inside the loop the control variable N is checked against the termination condition 0\n",
    "\n",
    "iteration(5)\n",
    "print(\"\\n\")\n",
    "\n",
    "def recursion(N):\n",
    "    if N == 1:           # Termination Logic\n",
    "        print(1)\n",
    "        return \n",
    "    print(N)\n",
    "    return recursion(N-1) # control variable\n",
    "\n",
    "recursion(5)"
   ]
  },
  {
   "cell_type": "markdown",
   "id": "5a5862e2",
   "metadata": {
    "_cell_guid": "3129fd07-7b5c-4c4b-9184-81bf0cde6d7d",
    "_uuid": "f71b973f-fc7f-4913-9f69-e9885bc7c219",
    "papermill": {
     "duration": 0.011138,
     "end_time": "2023-02-26T17:50:06.876929",
     "exception": false,
     "start_time": "2023-02-26T17:50:06.865791",
     "status": "completed"
    },
    "tags": []
   },
   "source": [
    "## Types of Recursion\n",
    "1. **Direct Recursion:** in direct recursion, the function will call itself, it is further divided into four types\n",
    "    1. `Tail Recursion:` in tail recursion the Recursive Call is the last(tail) thing executed by the function\n",
    "    2. `Head Recursion:` in head recursion the Recursive Call is the first(head) thing executed by the function\n",
    "    3. `Nested Recursion:` it is recursion inside a recursion i.e the Recursive Call will take Recursive Call as a parameter\n",
    "    4. `Tree or Binary Recursion:` in binary or tree recursion the Recursive Call calls itself twice\n",
    "    \n",
    "2. **Indirect/Mutual Recursion** in indirect recursion, more than one function will call mutually"
   ]
  },
  {
   "cell_type": "code",
   "execution_count": 12,
   "id": "1711df6e",
   "metadata": {
    "_cell_guid": "d91b570d-3b5d-47a9-8780-58fa98e1414a",
    "_uuid": "31a5d8ed-d107-4e26-9fcd-4526b500f8c0",
    "collapsed": false,
    "execution": {
     "iopub.execute_input": "2023-02-26T17:50:06.901536Z",
     "iopub.status.busy": "2023-02-26T17:50:06.901201Z",
     "iopub.status.idle": "2023-02-26T17:50:06.907643Z",
     "shell.execute_reply": "2023-02-26T17:50:06.906479Z"
    },
    "jupyter": {
     "outputs_hidden": false
    },
    "papermill": {
     "duration": 0.021143,
     "end_time": "2023-02-26T17:50:06.909644",
     "exception": false,
     "start_time": "2023-02-26T17:50:06.888501",
     "status": "completed"
    },
    "tags": []
   },
   "outputs": [],
   "source": [
    "# Tail Recursion (Direct Recursion)\n",
    "def tail_recursion(N):\n",
    "    # operation1\n",
    "    # operation2\n",
    "    return tail_recursion(N-1)\n",
    "\n",
    "# Head Recursion (Direct Recursion)\n",
    "def head_recursion(N):\n",
    "    head_recursion(N-1)\n",
    "    # operation1\n",
    "    # operation2\n",
    "\n",
    "# Nested Recursion (Direct Recursion)\n",
    "def nested_recursion(N):\n",
    "    # operation1\n",
    "    # operation2\n",
    "    return nested_recursion(nested_recursion(N-1))\n",
    "\n",
    "# Tree or Binary Recursion (Direct Recursion)\n",
    "def tree_binary_recursion(N):\n",
    "    # operation1\n",
    "    # operation2\n",
    "    tree_binary_recursion(N-1)\n",
    "    tree_binary_recursion(N-2)\n",
    "    return"
   ]
  },
  {
   "cell_type": "markdown",
   "id": "9b279ac1",
   "metadata": {
    "_cell_guid": "acc6621f-85a3-4357-ba32-ab1d7eb3014b",
    "_uuid": "7d2e43f8-569d-4a45-adb2-d4b0ba966775",
    "papermill": {
     "duration": 0.011804,
     "end_time": "2023-02-26T17:50:06.934035",
     "exception": false,
     "start_time": "2023-02-26T17:50:06.922231",
     "status": "completed"
    },
    "tags": []
   },
   "source": [
    "### Tail Recursion: \n",
    "**in tail recursion the Recursive Call is the last(tail) thing executed by the function**"
   ]
  },
  {
   "cell_type": "code",
   "execution_count": 13,
   "id": "e75f6c76",
   "metadata": {
    "_cell_guid": "6492b79b-198e-49cc-9733-ad8d589908c7",
    "_uuid": "da7ea951-aa87-43a9-b856-d78e5aefa40f",
    "collapsed": false,
    "execution": {
     "iopub.execute_input": "2023-02-26T17:50:06.959534Z",
     "iopub.status.busy": "2023-02-26T17:50:06.959191Z",
     "iopub.status.idle": "2023-02-26T17:50:06.965400Z",
     "shell.execute_reply": "2023-02-26T17:50:06.964225Z"
    },
    "jupyter": {
     "outputs_hidden": false
    },
    "papermill": {
     "duration": 0.021615,
     "end_time": "2023-02-26T17:50:06.967751",
     "exception": false,
     "start_time": "2023-02-26T17:50:06.946136",
     "status": "completed"
    },
    "tags": []
   },
   "outputs": [
    {
     "name": "stdout",
     "output_type": "stream",
     "text": [
      "Subrata\n",
      "ubrata\n",
      "brata\n",
      "rata\n",
      "ata\n",
      "ta\n",
      "a\n"
     ]
    }
   ],
   "source": [
    "def tail_recursion(S:str) -> None:\n",
    "    if len(S) is 0:\n",
    "        return\n",
    "    print(S)\n",
    "    tail_recursion(S[1:])\n",
    "\n",
    "tail_recursion(\"Subrata\")"
   ]
  },
  {
   "cell_type": "markdown",
   "id": "601672c5",
   "metadata": {
    "_cell_guid": "4327be51-aecb-4df1-917d-3007d36eb3cf",
    "_uuid": "1a052678-7e89-43c3-b00e-8a6c04254e9c",
    "papermill": {
     "duration": 0.012057,
     "end_time": "2023-02-26T17:50:06.995049",
     "exception": false,
     "start_time": "2023-02-26T17:50:06.982992",
     "status": "completed"
    },
    "tags": []
   },
   "source": [
    "### Head Recursion: \n",
    "**in head recursion the Recursive Call is the first(head) thing executed by the function**"
   ]
  },
  {
   "cell_type": "code",
   "execution_count": 14,
   "id": "447b853c",
   "metadata": {
    "_cell_guid": "49b95e2d-5edb-466e-a18d-c3b7e7004756",
    "_uuid": "0d584591-692d-4d9b-9b30-965df04457d6",
    "collapsed": false,
    "execution": {
     "iopub.execute_input": "2023-02-26T17:50:07.022387Z",
     "iopub.status.busy": "2023-02-26T17:50:07.022030Z",
     "iopub.status.idle": "2023-02-26T17:50:07.028858Z",
     "shell.execute_reply": "2023-02-26T17:50:07.027320Z"
    },
    "jupyter": {
     "outputs_hidden": false
    },
    "papermill": {
     "duration": 0.022838,
     "end_time": "2023-02-26T17:50:07.030938",
     "exception": false,
     "start_time": "2023-02-26T17:50:07.008100",
     "status": "completed"
    },
    "tags": []
   },
   "outputs": [
    {
     "name": "stdout",
     "output_type": "stream",
     "text": [
      "a\n",
      "ta\n",
      "ata\n",
      "rata\n",
      "brata\n",
      "ubrata\n",
      "Subrata\n"
     ]
    }
   ],
   "source": [
    "def head_recursion(S:str) -> None:\n",
    "    if len(S) is 0:\n",
    "        return\n",
    "    \n",
    "    head_recursion(S[1:])\n",
    "    print(S)\n",
    "    \n",
    "head_recursion(\"Subrata\")"
   ]
  },
  {
   "cell_type": "markdown",
   "id": "82d4b00a",
   "metadata": {
    "_cell_guid": "16c3dfb7-0e17-414f-96b5-7fc3db80e9d5",
    "_uuid": "b44ab8c2-d36e-46aa-8e4c-d4205f695615",
    "papermill": {
     "duration": 0.011559,
     "end_time": "2023-02-26T17:50:07.055159",
     "exception": false,
     "start_time": "2023-02-26T17:50:07.043600",
     "status": "completed"
    },
    "tags": []
   },
   "source": [
    "### Nested Recursion: \n",
    "**it is recursion inside a recursion i.e the Recursive Call will take Recursive Call as a parameter**"
   ]
  },
  {
   "cell_type": "code",
   "execution_count": 15,
   "id": "4db87e8e",
   "metadata": {
    "_cell_guid": "5fa13ef5-d08d-41e1-a366-7dd3fb598370",
    "_uuid": "5fa200bf-4d07-4534-a456-e698f0eee694",
    "collapsed": false,
    "execution": {
     "iopub.execute_input": "2023-02-26T17:50:07.080247Z",
     "iopub.status.busy": "2023-02-26T17:50:07.079875Z",
     "iopub.status.idle": "2023-02-26T17:50:07.087797Z",
     "shell.execute_reply": "2023-02-26T17:50:07.086422Z"
    },
    "jupyter": {
     "outputs_hidden": false
    },
    "papermill": {
     "duration": 0.023119,
     "end_time": "2023-02-26T17:50:07.090186",
     "exception": false,
     "start_time": "2023-02-26T17:50:07.067067",
     "status": "completed"
    },
    "tags": []
   },
   "outputs": [
    {
     "data": {
      "text/plain": [
       "10"
      ]
     },
     "execution_count": 15,
     "metadata": {},
     "output_type": "execute_result"
    }
   ],
   "source": [
    "def nested_recursion(N:int) -> int:\n",
    "    if N > 10:\n",
    "        return N - 1\n",
    "    \n",
    "    return nested_recursion(nested_recursion(N+2)) # when N=6: function of function of 8 \n",
    "    \n",
    "nested_recursion(6)"
   ]
  },
  {
   "cell_type": "markdown",
   "id": "136ab5d8",
   "metadata": {
    "_cell_guid": "7485b40c-0700-49d3-b67e-269d47b4bb93",
    "_uuid": "75123eff-3e26-4efc-8b8e-ce50659718a4",
    "papermill": {
     "duration": 0.011967,
     "end_time": "2023-02-26T17:50:07.114595",
     "exception": false,
     "start_time": "2023-02-26T17:50:07.102628",
     "status": "completed"
    },
    "tags": []
   },
   "source": [
    "### Tree or Binary Recursion: \n",
    "**in binary or tree recursion the Recursive Call calls itself twice**"
   ]
  },
  {
   "cell_type": "code",
   "execution_count": 16,
   "id": "6f7de368",
   "metadata": {
    "_cell_guid": "d464bbdb-f867-40bf-a07d-fc2540147935",
    "_uuid": "6ba97821-13ce-426b-b3d0-c5999cf728eb",
    "collapsed": false,
    "execution": {
     "iopub.execute_input": "2023-02-26T17:50:07.141761Z",
     "iopub.status.busy": "2023-02-26T17:50:07.141395Z",
     "iopub.status.idle": "2023-02-26T17:50:07.150011Z",
     "shell.execute_reply": "2023-02-26T17:50:07.148637Z"
    },
    "jupyter": {
     "outputs_hidden": false
    },
    "papermill": {
     "duration": 0.025496,
     "end_time": "2023-02-26T17:50:07.152846",
     "exception": false,
     "start_time": "2023-02-26T17:50:07.127350",
     "status": "completed"
    },
    "tags": []
   },
   "outputs": [
    {
     "data": {
      "text/plain": [
       "3"
      ]
     },
     "execution_count": 16,
     "metadata": {},
     "output_type": "execute_result"
    }
   ],
   "source": [
    "# fibonnacci \n",
    "def binary_tree_recursion(N:int) -> int:\n",
    "    if N <= 1:\n",
    "        return N\n",
    "    return binary_tree_recursion(N-1) + binary_tree_recursion(N-2)\n",
    "\n",
    "binary_tree_recursion(4)"
   ]
  },
  {
   "cell_type": "markdown",
   "id": "b24d6b4e",
   "metadata": {
    "_cell_guid": "02c5543d-ada1-4c55-bc9d-29707b385872",
    "_uuid": "924f01df-dfb1-45f2-932a-94268374c0d8",
    "papermill": {
     "duration": 0.012726,
     "end_time": "2023-02-26T17:50:07.178470",
     "exception": false,
     "start_time": "2023-02-26T17:50:07.165744",
     "status": "completed"
    },
    "tags": []
   },
   "source": [
    "## Indirect/Mutual Recursion \n",
    "**in indirect recursion, more than one function will call mutually** i.e functionA calling functionB and functionB calling functionA"
   ]
  },
  {
   "cell_type": "code",
   "execution_count": 17,
   "id": "0c0c3c9b",
   "metadata": {
    "_cell_guid": "9f082352-a9ca-4633-a69f-0c9a4bcfb0fe",
    "_uuid": "a7503d5f-2494-4084-bd04-374c890aa2fd",
    "collapsed": false,
    "execution": {
     "iopub.execute_input": "2023-02-26T17:50:07.211315Z",
     "iopub.status.busy": "2023-02-26T17:50:07.210950Z",
     "iopub.status.idle": "2023-02-26T17:50:07.215817Z",
     "shell.execute_reply": "2023-02-26T17:50:07.214747Z"
    },
    "jupyter": {
     "outputs_hidden": false
    },
    "papermill": {
     "duration": 0.02578,
     "end_time": "2023-02-26T17:50:07.217855",
     "exception": false,
     "start_time": "2023-02-26T17:50:07.192075",
     "status": "completed"
    },
    "tags": []
   },
   "outputs": [],
   "source": [
    "# Indirect/Mutual Recursion: functionA indirectly calls itself\n",
    "def recursionA():\n",
    "    # base case\n",
    "    recursionB()\n",
    "    \n",
    "def recursionB():\n",
    "    # base case\n",
    "    recursionA()"
   ]
  },
  {
   "cell_type": "code",
   "execution_count": 18,
   "id": "e7ab1906",
   "metadata": {
    "_cell_guid": "be47ecd5-d765-4003-96c3-47eea9ebfa4b",
    "_uuid": "2081de46-adb2-4e76-a824-d3e6f4fa9b9f",
    "collapsed": false,
    "execution": {
     "iopub.execute_input": "2023-02-26T17:50:07.243527Z",
     "iopub.status.busy": "2023-02-26T17:50:07.243016Z",
     "iopub.status.idle": "2023-02-26T17:50:07.249894Z",
     "shell.execute_reply": "2023-02-26T17:50:07.248712Z"
    },
    "jupyter": {
     "outputs_hidden": false
    },
    "papermill": {
     "duration": 0.022131,
     "end_time": "2023-02-26T17:50:07.252163",
     "exception": false,
     "start_time": "2023-02-26T17:50:07.230032",
     "status": "completed"
    },
    "tags": []
   },
   "outputs": [
    {
     "name": "stdout",
     "output_type": "stream",
     "text": [
      "Odd: 1\n",
      "Even: 2\n",
      "Odd: 3\n",
      "Even: 4\n"
     ]
    }
   ],
   "source": [
    "N = 1\n",
    "\n",
    "def even(): # function even is indirectly calling itself\n",
    "    global N\n",
    "    if N == 5:\n",
    "        return\n",
    "    print(\"Even:\",N)\n",
    "    \n",
    "    N += 1\n",
    "    odd()\n",
    "    \n",
    "def odd(): # function odd is indirectly calling itself\n",
    "    global N\n",
    "    if N == 5:\n",
    "        return\n",
    "    print(\"Odd:\",N)\n",
    "    N += 1\n",
    "    even()\n",
    "    \n",
    "odd()"
   ]
  },
  {
   "cell_type": "markdown",
   "id": "be8e9c19",
   "metadata": {
    "_cell_guid": "eb462bb1-b7a3-4113-8638-cdc88a788d7c",
    "_uuid": "f09e447f-7742-48ab-ac17-cbde5264e1c8",
    "papermill": {
     "duration": 0.011598,
     "end_time": "2023-02-26T17:50:07.275754",
     "exception": false,
     "start_time": "2023-02-26T17:50:07.264156",
     "status": "completed"
    },
    "tags": []
   },
   "source": [
    "## Tail Call Optimization/Elimination/Tail Recursion: optimizes memory space\n",
    "### Why tail call optimization is efficient?\n",
    "Because they are optimized by the compilers itself, before execution the compiler converts the recursive code to a looping code and we know that recursion takes Stack Memory to store the recursive calls, whereas, looping doesn't requires memory i.e if recursion takes O(n) space then looping can do it in O(1) an i.e why Tail Recursion is considered as the most efficient one.\n",
    "\n",
    "\n",
    "**Let's optimize Factorial Recursion with Tail Recursion.**"
   ]
  },
  {
   "cell_type": "code",
   "execution_count": 19,
   "id": "293794ae",
   "metadata": {
    "_cell_guid": "8d78d180-3c53-4a25-b73c-1b39370990f4",
    "_uuid": "13eeb456-ce8d-440b-847b-8b6ec775dded",
    "collapsed": false,
    "execution": {
     "iopub.execute_input": "2023-02-26T17:50:07.301092Z",
     "iopub.status.busy": "2023-02-26T17:50:07.300771Z",
     "iopub.status.idle": "2023-02-26T17:50:07.307894Z",
     "shell.execute_reply": "2023-02-26T17:50:07.306717Z"
    },
    "jupyter": {
     "outputs_hidden": false
    },
    "papermill": {
     "duration": 0.022051,
     "end_time": "2023-02-26T17:50:07.309846",
     "exception": false,
     "start_time": "2023-02-26T17:50:07.287795",
     "status": "completed"
    },
    "tags": []
   },
   "outputs": [
    {
     "data": {
      "text/plain": [
       "120"
      ]
     },
     "execution_count": 19,
     "metadata": {},
     "output_type": "execute_result"
    }
   ],
   "source": [
    "# in case of factorial of large numbers the program will consume too much memory\n",
    "def factorial(N:int) -> int:\n",
    "    if N <= 1:\n",
    "        return N\n",
    "    return N * factorial(N-1) # this is not tail recursion because the execution of this statement depends on the return value \n",
    "                              # of the next recursive call i.e factorial(N-1)\n",
    "\n",
    "factorial(5)"
   ]
  },
  {
   "cell_type": "markdown",
   "id": "08f51cd8",
   "metadata": {
    "_cell_guid": "0b9677d9-dfd7-4879-b613-46445d81c723",
    "_uuid": "37af887a-92b8-4722-8fb7-044766d8100c",
    "papermill": {
     "duration": 0.012094,
     "end_time": "2023-02-26T17:50:07.334193",
     "exception": false,
     "start_time": "2023-02-26T17:50:07.322099",
     "status": "completed"
    },
    "tags": []
   },
   "source": [
    "**tail call optimization**"
   ]
  },
  {
   "cell_type": "code",
   "execution_count": 20,
   "id": "bd050ef7",
   "metadata": {
    "_cell_guid": "927e5096-eaf0-4132-9888-e8c8208a4dc8",
    "_uuid": "ce1a2431-efc0-4507-a5ef-a3786a70a325",
    "collapsed": false,
    "execution": {
     "iopub.execute_input": "2023-02-26T17:50:07.359773Z",
     "iopub.status.busy": "2023-02-26T17:50:07.359418Z",
     "iopub.status.idle": "2023-02-26T17:50:07.367730Z",
     "shell.execute_reply": "2023-02-26T17:50:07.366686Z"
    },
    "jupyter": {
     "outputs_hidden": false
    },
    "papermill": {
     "duration": 0.023875,
     "end_time": "2023-02-26T17:50:07.369944",
     "exception": false,
     "start_time": "2023-02-26T17:50:07.346069",
     "status": "completed"
    },
    "tags": []
   },
   "outputs": [
    {
     "data": {
      "text/plain": [
       "120"
      ]
     },
     "execution_count": 20,
     "metadata": {},
     "output_type": "execute_result"
    }
   ],
   "source": [
    "# tail call optimization\n",
    "def factorial_recursion(N:int, ans = 1) -> int:\n",
    "    if N <= 0:\n",
    "        return ans\n",
    "    return factorial_recursion(N-1, N * ans)\n",
    "\n",
    "factorial_recursion(5,1) # factorial_recursion(5,1) = return factorial_recursion(5-1,5*1) i.e 4, 5\n",
    "                         # factorial_recursion(4,5) = return factorial_recursion(4-1,4*5) i.e 3, 20\n",
    "                         # factorial_recursion(3,20) = return factorial_recursion(3-1,3*20) i.e 2, 60\n",
    "                         # factorial_recursion(2,60) = return factorial_recursion(2-1,2*60) i.e 1, 120\n",
    "                         # factorial_recursion(1,120) = return factorial_recursion(1-1,1*120) i.e 0, 120 \n",
    "                         # factorial_recursion(0,120) since the N = 0, the Base Case will trigger and returns answer i.e ans = 120"
   ]
  },
  {
   "cell_type": "markdown",
   "id": "1d9edd6a",
   "metadata": {
    "_cell_guid": "e817b7d0-79b2-4e8e-aca6-d02577f13b79",
    "_uuid": "6191c6b8-2d22-41e6-bf5d-21d392f62cf6",
    "papermill": {
     "duration": 0.01212,
     "end_time": "2023-02-26T17:50:07.394499",
     "exception": false,
     "start_time": "2023-02-26T17:50:07.382379",
     "status": "completed"
    },
    "tags": []
   },
   "source": [
    "## Problems using Recursion\n",
    "---"
   ]
  },
  {
   "cell_type": "markdown",
   "id": "ef0b5db7",
   "metadata": {
    "_cell_guid": "a60ed14f-4dca-47ec-bf96-8c0964a98ddc",
    "_uuid": "9dac1189-ba55-4fb8-8af4-45478240892d",
    "papermill": {
     "duration": 0.01186,
     "end_time": "2023-02-26T17:50:07.418648",
     "exception": false,
     "start_time": "2023-02-26T17:50:07.406788",
     "status": "completed"
    },
    "tags": []
   },
   "source": [
    "### Find sum of first N natural numbers using Recursion\n",
    "> * if N = 3 then output would be 1+2+3 = 6\n",
    "> * if N = 5 then output would be 1+2+3+4+5 = 15"
   ]
  },
  {
   "cell_type": "code",
   "execution_count": 21,
   "id": "2d8ac449",
   "metadata": {
    "_cell_guid": "c59a5595-519f-4f61-a7cc-f717e896aacb",
    "_uuid": "429b4b73-20ec-4df3-bb40-b2d7ff16ae24",
    "collapsed": false,
    "execution": {
     "iopub.execute_input": "2023-02-26T17:50:07.444761Z",
     "iopub.status.busy": "2023-02-26T17:50:07.444086Z",
     "iopub.status.idle": "2023-02-26T17:50:07.450719Z",
     "shell.execute_reply": "2023-02-26T17:50:07.450080Z"
    },
    "jupyter": {
     "outputs_hidden": false
    },
    "papermill": {
     "duration": 0.021826,
     "end_time": "2023-02-26T17:50:07.452444",
     "exception": false,
     "start_time": "2023-02-26T17:50:07.430618",
     "status": "completed"
    },
    "tags": []
   },
   "outputs": [
    {
     "data": {
      "text/plain": [
       "15"
      ]
     },
     "execution_count": 21,
     "metadata": {},
     "output_type": "execute_result"
    }
   ],
   "source": [
    "def n_sum(N, ans=1) -> int:\n",
    "    if N == 1:\n",
    "        return ans\n",
    "    return n_sum(N-1, N + ans) # tail call recursion because the execution of this statement doesn't depends on the return value \n",
    "                              # of the next recursive call i.e n_sum(N-1)\n",
    "\n",
    "n_sum(5)"
   ]
  },
  {
   "cell_type": "markdown",
   "id": "002b4702",
   "metadata": {
    "_cell_guid": "fbda5da5-86bf-47b0-bc47-8a083e4e6715",
    "_uuid": "93b0266b-5fa5-45db-9688-eb69b04d53ff",
    "papermill": {
     "duration": 0.011755,
     "end_time": "2023-02-26T17:50:07.476692",
     "exception": false,
     "start_time": "2023-02-26T17:50:07.464937",
     "status": "completed"
    },
    "tags": []
   },
   "source": [
    "### Decimal to binary conversion\n",
    "> * if input = 7 then output = 0111\n",
    "> * if input = 10 then output = 1010"
   ]
  },
  {
   "cell_type": "code",
   "execution_count": 22,
   "id": "aa808790",
   "metadata": {
    "_cell_guid": "b71b3d19-1e36-4fb4-914e-1a1a853ab5de",
    "_uuid": "aa285500-8365-4d35-9c0d-1d8fe9a1400a",
    "collapsed": false,
    "execution": {
     "iopub.execute_input": "2023-02-26T17:50:07.503356Z",
     "iopub.status.busy": "2023-02-26T17:50:07.502709Z",
     "iopub.status.idle": "2023-02-26T17:50:07.508464Z",
     "shell.execute_reply": "2023-02-26T17:50:07.507571Z"
    },
    "jupyter": {
     "outputs_hidden": false
    },
    "papermill": {
     "duration": 0.021392,
     "end_time": "2023-02-26T17:50:07.510151",
     "exception": false,
     "start_time": "2023-02-26T17:50:07.488759",
     "status": "completed"
    },
    "tags": []
   },
   "outputs": [
    {
     "name": "stdout",
     "output_type": "stream",
     "text": [
      "1010"
     ]
    }
   ],
   "source": [
    "def decimal_to_binary(N) -> None:\n",
    "    if N <= 0:\n",
    "        return N\n",
    "    decimal_to_binary(N // 2)\n",
    "    print(N % 2, end=\"\")\n",
    "\n",
    "decimal_to_binary(10)"
   ]
  },
  {
   "cell_type": "markdown",
   "id": "71efd825",
   "metadata": {
    "_cell_guid": "0ff378ed-ff8e-4c54-96ab-113a9733d34c",
    "_uuid": "44b1eb6c-2f8c-4565-9f31-835f80ad983f",
    "papermill": {
     "duration": 0.012122,
     "end_time": "2023-02-26T17:50:07.534650",
     "exception": false,
     "start_time": "2023-02-26T17:50:07.522528",
     "status": "completed"
    },
    "tags": []
   },
   "source": [
    "### Find modulo(remainder) using Recursion\n",
    "> * if input numertor and denominator is 7, 3 then output is 1\n",
    "> * if input numerator and denominator is 10, 4 then output is 2"
   ]
  },
  {
   "cell_type": "code",
   "execution_count": 23,
   "id": "fe67a12f",
   "metadata": {
    "_cell_guid": "ef7fab22-c084-4782-989b-b08a29552373",
    "_uuid": "d11d094f-0973-4ff9-8e27-82f52adc8ed5",
    "collapsed": false,
    "execution": {
     "iopub.execute_input": "2023-02-26T17:50:07.560646Z",
     "iopub.status.busy": "2023-02-26T17:50:07.560026Z",
     "iopub.status.idle": "2023-02-26T17:50:07.567363Z",
     "shell.execute_reply": "2023-02-26T17:50:07.566054Z"
    },
    "jupyter": {
     "outputs_hidden": false
    },
    "papermill": {
     "duration": 0.022385,
     "end_time": "2023-02-26T17:50:07.569231",
     "exception": false,
     "start_time": "2023-02-26T17:50:07.546846",
     "status": "completed"
    },
    "tags": []
   },
   "outputs": [
    {
     "data": {
      "text/plain": [
       "2"
      ]
     },
     "execution_count": 23,
     "metadata": {},
     "output_type": "execute_result"
    }
   ],
   "source": [
    "def modulo(Numerator,Denominator) -> int:\n",
    "    if Numerator < Denominator:\n",
    "        return Numerator\n",
    "    return modulo(Numerator - Denominator, Denominator)\n",
    "\n",
    "modulo(10,4)"
   ]
  },
  {
   "cell_type": "markdown",
   "id": "e61fa044",
   "metadata": {
    "_cell_guid": "3c0ceaf4-3613-4f1b-a8c3-8d07fc3fda75",
    "_uuid": "09041186-aa4c-404b-96d4-d9a4bd0f1e63",
    "papermill": {
     "duration": 0.012072,
     "end_time": "2023-02-26T17:50:07.593491",
     "exception": false,
     "start_time": "2023-02-26T17:50:07.581419",
     "status": "completed"
    },
    "tags": []
   },
   "source": [
    "### String length using Recursion\n",
    "> * if input string is \"Subrata\" then the length is 7\n",
    "> * if input string is \"Mondal\" then the lemgth is 6"
   ]
  },
  {
   "cell_type": "code",
   "execution_count": 24,
   "id": "9ae0e170",
   "metadata": {
    "_cell_guid": "03044eb6-6662-46c5-af77-4c4f964197b7",
    "_uuid": "2b2dfd44-fbaa-4cbf-a1c7-e80127f7a9f0",
    "collapsed": false,
    "execution": {
     "iopub.execute_input": "2023-02-26T17:50:07.622808Z",
     "iopub.status.busy": "2023-02-26T17:50:07.622219Z",
     "iopub.status.idle": "2023-02-26T17:50:07.630422Z",
     "shell.execute_reply": "2023-02-26T17:50:07.629309Z"
    },
    "jupyter": {
     "outputs_hidden": false
    },
    "papermill": {
     "duration": 0.02676,
     "end_time": "2023-02-26T17:50:07.632571",
     "exception": false,
     "start_time": "2023-02-26T17:50:07.605811",
     "status": "completed"
    },
    "tags": []
   },
   "outputs": [
    {
     "data": {
      "text/plain": [
       "7"
      ]
     },
     "execution_count": 24,
     "metadata": {},
     "output_type": "execute_result"
    }
   ],
   "source": [
    "def string_length(S:str) -> int:\n",
    "    if S == '':\n",
    "        return 0\n",
    "    return string_length(S[1:]) + 1\n",
    "\n",
    "\n",
    "string_length(\"Subrata\")"
   ]
  },
  {
   "cell_type": "markdown",
   "id": "4498fe69",
   "metadata": {
    "_cell_guid": "3df37e6d-162a-4050-9fb4-d3b9a6163fef",
    "_uuid": "37fee096-b6de-45bd-aea3-70049ead3bba",
    "papermill": {
     "duration": 0.016106,
     "end_time": "2023-02-26T17:50:07.662410",
     "exception": false,
     "start_time": "2023-02-26T17:50:07.646304",
     "status": "completed"
    },
    "tags": []
   },
   "source": [
    "### Reverse a String using Recursion\n",
    "> * if input is \"Subrata\" then output is \"atarbuS\""
   ]
  },
  {
   "cell_type": "code",
   "execution_count": 25,
   "id": "504ad6b4",
   "metadata": {
    "_cell_guid": "14acd213-619a-4b23-aa9d-d73a74854447",
    "_uuid": "321fdfcf-a17d-4719-8337-c68f60c86813",
    "collapsed": false,
    "execution": {
     "iopub.execute_input": "2023-02-26T17:50:07.693855Z",
     "iopub.status.busy": "2023-02-26T17:50:07.693066Z",
     "iopub.status.idle": "2023-02-26T17:50:07.702052Z",
     "shell.execute_reply": "2023-02-26T17:50:07.700971Z"
    },
    "jupyter": {
     "outputs_hidden": false
    },
    "papermill": {
     "duration": 0.027647,
     "end_time": "2023-02-26T17:50:07.704264",
     "exception": false,
     "start_time": "2023-02-26T17:50:07.676617",
     "status": "completed"
    },
    "tags": []
   },
   "outputs": [
    {
     "data": {
      "text/plain": [
       "'atarbuS'"
      ]
     },
     "execution_count": 25,
     "metadata": {},
     "output_type": "execute_result"
    }
   ],
   "source": [
    "def reverse(S:str) -> str:\n",
    "    if len(S) == 0:\n",
    "        return S\n",
    "    return reverse(S[1:]) + S[0] \n",
    "    \n",
    "reverse(\"Subrata\")"
   ]
  },
  {
   "cell_type": "markdown",
   "id": "7a9138a7",
   "metadata": {
    "_cell_guid": "5c82471a-9861-4ec7-a66c-fcc30e2a9812",
    "_uuid": "d9e948d1-7537-46a6-9e35-e4cd65cb6b7a",
    "papermill": {
     "duration": 0.012732,
     "end_time": "2023-02-26T17:50:07.730036",
     "exception": false,
     "start_time": "2023-02-26T17:50:07.717304",
     "status": "completed"
    },
    "tags": []
   },
   "source": [
    "### Palindrome Numbers\n",
    "Palindrope numbers are those numbers that we reverse but still remains the same\n",
    "* 121 ---> 121\n",
    "* 4224 ---> 4224\n",
    "* 456 ---> 654 this is not palindrome\n",
    "\n",
    "> * if input is 121 then output is Palindrome\n",
    "> * if input is 123 then output id Not Palindrome\n",
    "> * if input is 'madam' then output is Palindrome\n",
    "> * if input is 'subrata' then output is Not Palindrome"
   ]
  },
  {
   "cell_type": "code",
   "execution_count": 26,
   "id": "bae9969d",
   "metadata": {
    "_cell_guid": "033e1f3e-d1c6-49f0-9711-9dbae135ddbb",
    "_uuid": "a5f49626-5859-4d19-933d-176cd7c54b91",
    "collapsed": false,
    "execution": {
     "iopub.execute_input": "2023-02-26T17:50:07.760371Z",
     "iopub.status.busy": "2023-02-26T17:50:07.758850Z",
     "iopub.status.idle": "2023-02-26T17:50:07.767541Z",
     "shell.execute_reply": "2023-02-26T17:50:07.765978Z"
    },
    "jupyter": {
     "outputs_hidden": false
    },
    "papermill": {
     "duration": 0.026033,
     "end_time": "2023-02-26T17:50:07.769744",
     "exception": false,
     "start_time": "2023-02-26T17:50:07.743711",
     "status": "completed"
    },
    "tags": []
   },
   "outputs": [
    {
     "name": "stdout",
     "output_type": "stream",
     "text": [
      "Palindrome\n"
     ]
    }
   ],
   "source": [
    "# ---Check if the given string is Palindrome or not---\n",
    "\n",
    "def isPalindrome(S, startIndex, endIndex) -> str:\n",
    "    if startIndex >= endIndex:\n",
    "        return \"Palindrome\"\n",
    "    if S[startIndex] == S[endIndex]:\n",
    "        return isPalindrome(S, startIndex + 1, endIndex - 1)\n",
    "    return \"Not Palindrome\"\n",
    "\n",
    "\n",
    "S = \"maadaam\"\n",
    "\n",
    "print(isPalindrome(S, 0, len(S) - 1))"
   ]
  },
  {
   "cell_type": "markdown",
   "id": "26b6fc93",
   "metadata": {
    "_cell_guid": "9b58fca4-43cc-4556-a634-39453d64aefa",
    "_uuid": "320d76c1-77e2-4ba7-a8e5-a599a14fb163",
    "jupyter": {
     "outputs_hidden": false
    },
    "papermill": {
     "duration": 0.01225,
     "end_time": "2023-02-26T17:50:07.794841",
     "exception": false,
     "start_time": "2023-02-26T17:50:07.782591",
     "status": "completed"
    },
    "tags": []
   },
   "source": [
    "### Count vowels in a string\n",
    "> * if input is \"subrata\" then output is 3\n",
    "> * if input is \"mondal\" then output is 2"
   ]
  },
  {
   "cell_type": "code",
   "execution_count": 27,
   "id": "3df8041c",
   "metadata": {
    "_cell_guid": "8c280367-3d20-457d-84ab-70b6f5868297",
    "_uuid": "8d0b3f24-7792-4b36-bf30-d604c29b2ecb",
    "collapsed": false,
    "execution": {
     "iopub.execute_input": "2023-02-26T17:50:07.822053Z",
     "iopub.status.busy": "2023-02-26T17:50:07.821421Z",
     "iopub.status.idle": "2023-02-26T17:50:07.830312Z",
     "shell.execute_reply": "2023-02-26T17:50:07.828404Z"
    },
    "jupyter": {
     "outputs_hidden": false
    },
    "papermill": {
     "duration": 0.025256,
     "end_time": "2023-02-26T17:50:07.832559",
     "exception": false,
     "start_time": "2023-02-26T17:50:07.807303",
     "status": "completed"
    },
    "tags": []
   },
   "outputs": [
    {
     "name": "stdout",
     "output_type": "stream",
     "text": [
      "5\n"
     ]
    }
   ],
   "source": [
    "# ---Count Vowels in the String---\n",
    "def countVowels(S: str, endIndex) -> int:\n",
    "    V = [\"a\", \"e\", \"i\", \"o\", \"u\"]\n",
    "\n",
    "    if endIndex < 0:\n",
    "        return 0\n",
    "    if S[endIndex].lower() in V:\n",
    "        return countVowels(S, endIndex - 1) + 1\n",
    "    return countVowels(S, endIndex - 1)\n",
    "\n",
    "\n",
    "S = \"Subrata Mondal\"\n",
    "\n",
    "print(countVowels(S, len(S)-1))"
   ]
  },
  {
   "cell_type": "markdown",
   "id": "88a7e366",
   "metadata": {
    "_cell_guid": "51357460-4ceb-4ba4-a41a-78842df9a1bd",
    "_uuid": "ccb869f3-def5-4d33-aa2b-9e323e105237",
    "jupyter": {
     "outputs_hidden": false
    },
    "papermill": {
     "duration": 0.012909,
     "end_time": "2023-02-26T17:50:07.859970",
     "exception": false,
     "start_time": "2023-02-26T17:50:07.847061",
     "status": "completed"
    },
    "tags": []
   },
   "source": [
    "### Sum of Numbers in a Singly Linked List"
   ]
  },
  {
   "cell_type": "code",
   "execution_count": null,
   "id": "0f09ad55",
   "metadata": {
    "papermill": {
     "duration": 0.012655,
     "end_time": "2023-02-26T17:50:07.885704",
     "exception": false,
     "start_time": "2023-02-26T17:50:07.873049",
     "status": "completed"
    },
    "tags": []
   },
   "outputs": [],
   "source": []
  }
 ],
 "metadata": {
  "kernelspec": {
   "display_name": "Python 3",
   "language": "python",
   "name": "python3"
  },
  "language_info": {
   "codemirror_mode": {
    "name": "ipython",
    "version": 3
   },
   "file_extension": ".py",
   "mimetype": "text/x-python",
   "name": "python",
   "nbconvert_exporter": "python",
   "pygments_lexer": "ipython3",
   "version": "3.7.12"
  },
  "papermill": {
   "default_parameters": {},
   "duration": 10.733134,
   "end_time": "2023-02-26T17:50:08.519450",
   "environment_variables": {},
   "exception": null,
   "input_path": "__notebook__.ipynb",
   "output_path": "__notebook__.ipynb",
   "parameters": {},
   "start_time": "2023-02-26T17:49:57.786316",
   "version": "2.3.4"
  }
 },
 "nbformat": 4,
 "nbformat_minor": 5
}
