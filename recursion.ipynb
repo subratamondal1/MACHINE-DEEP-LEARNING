{
 "cells": [
  {
   "cell_type": "code",
   "execution_count": 1,
   "id": "ce705047",
   "metadata": {
    "_cell_guid": "b1076dfc-b9ad-4769-8c92-a6c4dae69d19",
    "_uuid": "8f2839f25d086af736a60e9eeb907d3b93b6e0e5",
    "execution": {
     "iopub.execute_input": "2023-02-21T05:43:15.713277Z",
     "iopub.status.busy": "2023-02-21T05:43:15.712728Z",
     "iopub.status.idle": "2023-02-21T05:43:15.727478Z",
     "shell.execute_reply": "2023-02-21T05:43:15.726387Z"
    },
    "papermill": {
     "duration": 0.026241,
     "end_time": "2023-02-21T05:43:15.730257",
     "exception": false,
     "start_time": "2023-02-21T05:43:15.704016",
     "status": "completed"
    },
    "tags": []
   },
   "outputs": [],
   "source": [
    "# This Python 3 environment comes with many helpful analytics libraries installed\n",
    "# It is defined by the kaggle/python Docker image: https://github.com/kaggle/docker-python\n",
    "# For example, here's several helpful packages to load\n",
    "\n",
    "import numpy as np # linear algebra\n",
    "import pandas as pd # data processing, CSV file I/O (e.g. pd.read_csv)\n",
    "\n",
    "# Input data files are available in the read-only \"../input/\" directory\n",
    "# For example, running this (by clicking run or pressing Shift+Enter) will list all files under the input directory\n",
    "\n",
    "import os\n",
    "for dirname, _, filenames in os.walk('/kaggle/input'):\n",
    "    for filename in filenames:\n",
    "        print(os.path.join(dirname, filename))\n",
    "\n",
    "# You can write up to 20GB to the current directory (/kaggle/working/) that gets preserved as output when you create a version using \"Save & Run All\" \n",
    "# You can also write temporary files to /kaggle/temp/, but they won't be saved outside of the current session"
   ]
  },
  {
   "cell_type": "markdown",
   "id": "824d9a8d",
   "metadata": {
    "papermill": {
     "duration": 0.006344,
     "end_time": "2023-02-21T05:43:15.742650",
     "exception": false,
     "start_time": "2023-02-21T05:43:15.736306",
     "status": "completed"
    },
    "tags": []
   },
   "source": [
    "# Recursion"
   ]
  },
  {
   "cell_type": "markdown",
   "id": "ccb09a00",
   "metadata": {
    "papermill": {
     "duration": 0.005598,
     "end_time": "2023-02-21T05:43:15.754098",
     "exception": false,
     "start_time": "2023-02-21T05:43:15.748500",
     "status": "completed"
    },
    "tags": []
   },
   "source": [
    "## Introduction to Recursion & Basic Rules"
   ]
  },
  {
   "cell_type": "markdown",
   "id": "ea5617e8",
   "metadata": {
    "papermill": {
     "duration": 0.005582,
     "end_time": "2023-02-21T05:43:15.765574",
     "exception": false,
     "start_time": "2023-02-21T05:43:15.759992",
     "status": "completed"
    },
    "tags": []
   },
   "source": [
    "#### What is Recursion?\n",
    "The process in which a function calls itself.\n",
    "\n",
    "#### Why is Recursion used?\n",
    "Recursion is a widely used technique for problem solving.\n",
    "\n",
    "#### Basic Rules of Recursion:\n",
    "1. The function <u>must call itself</u>.\n",
    "2. The function <u>must have a base case</u>, or else the program will go inside infinite loop and crash.\n",
    "3. The recursive call <u>must align towards the base case</u>, or else the program will go inside infinite loop and crash.\n"
   ]
  },
  {
   "cell_type": "code",
   "execution_count": 2,
   "id": "eab14ad4",
   "metadata": {
    "execution": {
     "iopub.execute_input": "2023-02-21T05:43:15.779419Z",
     "iopub.status.busy": "2023-02-21T05:43:15.779009Z",
     "iopub.status.idle": "2023-02-21T05:43:15.784877Z",
     "shell.execute_reply": "2023-02-21T05:43:15.783417Z"
    },
    "papermill": {
     "duration": 0.01568,
     "end_time": "2023-02-21T05:43:15.787245",
     "exception": false,
     "start_time": "2023-02-21T05:43:15.771565",
     "status": "completed"
    },
    "tags": []
   },
   "outputs": [],
   "source": [
    "def recursion(N): # N = 5\n",
    "    # base case\n",
    "    if N == 1:\n",
    "        return\n",
    "    \n",
    "    # recursive call aligning towards the base case\n",
    "    recursion(N-1) # 5,4,3,2,1,end\n",
    "    \n",
    "    # recursive call not aligning towards the base case\n",
    "    recursion(N+1) # 5, 6, 7, 8, ....., loop"
   ]
  },
  {
   "cell_type": "markdown",
   "id": "6f299fa6",
   "metadata": {
    "papermill": {
     "duration": 0.005454,
     "end_time": "2023-02-21T05:43:15.798527",
     "exception": false,
     "start_time": "2023-02-21T05:43:15.793073",
     "status": "completed"
    },
    "tags": []
   },
   "source": [
    "## How Recursion works\n",
    "**Every Recursive Call will be pushed into the Stack untill the Base Case is reached, and once it reaches the Base Case it will calculate the Result from Backward**</br>\n",
    "\n",
    "**Factorial using Recursion**</br>\n",
    "Factorial(N) = N x (N-1) x (N-2) x (N-3) ... x 1, here the function calling itself and each time the no. getting subtracted is incremented by 1, and the numbers are getting multiplied with each other.\n",
    "\n",
    "**Recursive Call:** N x function(N-1)</br>\n",
    "**Base Case:** N == 1"
   ]
  },
  {
   "cell_type": "code",
   "execution_count": 3,
   "id": "3ffbeb9e",
   "metadata": {
    "execution": {
     "iopub.execute_input": "2023-02-21T05:43:15.811882Z",
     "iopub.status.busy": "2023-02-21T05:43:15.811459Z",
     "iopub.status.idle": "2023-02-21T05:43:15.817604Z",
     "shell.execute_reply": "2023-02-21T05:43:15.816505Z"
    },
    "papermill": {
     "duration": 0.01528,
     "end_time": "2023-02-21T05:43:15.819582",
     "exception": false,
     "start_time": "2023-02-21T05:43:15.804302",
     "status": "completed"
    },
    "tags": []
   },
   "outputs": [],
   "source": [
    "def factorial(N:int) -> int:\n",
    "    # assertion\n",
    "    assert N >= 0, \"input must be positive integer\"\n",
    "    \n",
    "    # base case\n",
    "    if N == 1:\n",
    "        return 1\n",
    "    \n",
    "    # function calling itself also the recursive call is aligning towards the base case\n",
    "    return N * factorial(N - 1)"
   ]
  },
  {
   "cell_type": "code",
   "execution_count": 4,
   "id": "ceaf5329",
   "metadata": {
    "execution": {
     "iopub.execute_input": "2023-02-21T05:43:15.833451Z",
     "iopub.status.busy": "2023-02-21T05:43:15.832780Z",
     "iopub.status.idle": "2023-02-21T05:43:15.841348Z",
     "shell.execute_reply": "2023-02-21T05:43:15.839837Z"
    },
    "papermill": {
     "duration": 0.018369,
     "end_time": "2023-02-21T05:43:15.843733",
     "exception": false,
     "start_time": "2023-02-21T05:43:15.825364",
     "status": "completed"
    },
    "tags": []
   },
   "outputs": [
    {
     "data": {
      "text/plain": [
       "6"
      ]
     },
     "execution_count": 4,
     "metadata": {},
     "output_type": "execute_result"
    }
   ],
   "source": [
    "factorial(3)"
   ]
  },
  {
   "cell_type": "markdown",
   "id": "46897aa2",
   "metadata": {
    "papermill": {
     "duration": 0.005837,
     "end_time": "2023-02-21T05:43:15.855751",
     "exception": false,
     "start_time": "2023-02-21T05:43:15.849914",
     "status": "completed"
    },
    "tags": []
   },
   "source": [
    "## Stack Overflow in Recursion\n",
    "It is the most common issue faced by the Recursion and it will crash the program.\n",
    "\n",
    "## How to avoid Stack Overflow?\n",
    "As we know all the Recursive Calls are pushed into the Stack for it's execution, and after the execution is completed it will be removed from the stack. But the problem is Stack has a finite amount of Storage. Say the size of the Stack is N and when the number of Recursive Call is greater than N then it causes the Stack to Overflow.\n",
    "\n",
    "**Case1 for Stack Overflow:** No Base Case\n",
    "* When there is No Base Case there will be infinite Recursive Calls, which will led to the Stack Overflow"
   ]
  },
  {
   "cell_type": "code",
   "execution_count": 5,
   "id": "aa5d8db8",
   "metadata": {
    "execution": {
     "iopub.execute_input": "2023-02-21T05:43:15.871256Z",
     "iopub.status.busy": "2023-02-21T05:43:15.870812Z",
     "iopub.status.idle": "2023-02-21T05:43:15.876193Z",
     "shell.execute_reply": "2023-02-21T05:43:15.874790Z"
    },
    "papermill": {
     "duration": 0.017288,
     "end_time": "2023-02-21T05:43:15.879163",
     "exception": false,
     "start_time": "2023-02-21T05:43:15.861875",
     "status": "completed"
    },
    "tags": []
   },
   "outputs": [],
   "source": [
    "# def factorial(N:int) -> int:\n",
    "#     # no base case\n",
    "#     return N * factorial(N-1) # output: N = 5: 5,4,3,2,1,0,-1,-2,-3,-4..., negative infinity "
   ]
  },
  {
   "cell_type": "markdown",
   "id": "0bcc202a",
   "metadata": {
    "papermill": {
     "duration": 0.005695,
     "end_time": "2023-02-21T05:43:15.891025",
     "exception": false,
     "start_time": "2023-02-21T05:43:15.885330",
     "status": "completed"
    },
    "tags": []
   },
   "source": [
    "**Case2 for Stack Overflow:** When the Recursive Case doesn't align towards the Base Case"
   ]
  },
  {
   "cell_type": "code",
   "execution_count": 6,
   "id": "e3972be3",
   "metadata": {
    "execution": {
     "iopub.execute_input": "2023-02-21T05:43:15.904871Z",
     "iopub.status.busy": "2023-02-21T05:43:15.904395Z",
     "iopub.status.idle": "2023-02-21T05:43:15.910155Z",
     "shell.execute_reply": "2023-02-21T05:43:15.908661Z"
    },
    "papermill": {
     "duration": 0.015964,
     "end_time": "2023-02-21T05:43:15.913015",
     "exception": false,
     "start_time": "2023-02-21T05:43:15.897051",
     "status": "completed"
    },
    "tags": []
   },
   "outputs": [],
   "source": [
    "# def factorial(N:int) -> int:\n",
    "#     if N == 1:\n",
    "#         return 1\n",
    "#     # Recursive Call doesn't align towards the Base Case\n",
    "#     return N * factorial(N+1) # output N = 5: 5,6,7,8,9,10,...positive infinity"
   ]
  },
  {
   "cell_type": "markdown",
   "id": "380f028e",
   "metadata": {
    "papermill": {
     "duration": 0.005738,
     "end_time": "2023-02-21T05:43:15.924921",
     "exception": false,
     "start_time": "2023-02-21T05:43:15.919183",
     "status": "completed"
    },
    "tags": []
   },
   "source": [
    "## How to convert Iterative Function to Recursive Function ?\n",
    "1. **Step1:** convert Termination Condition to Base Case\n",
    "2. **Step2:** convert Loop to Recursive Call\n",
    "3. **Step3:** convert Iterative Logic to Argument for Recursive Call"
   ]
  },
  {
   "cell_type": "markdown",
   "id": "84d803ed",
   "metadata": {
    "papermill": {
     "duration": 0.005717,
     "end_time": "2023-02-21T05:43:15.936640",
     "exception": false,
     "start_time": "2023-02-21T05:43:15.930923",
     "status": "completed"
    },
    "tags": []
   },
   "source": [
    "### Example1: \n",
    "Print all the positive numbers from 1 to the input number\n"
   ]
  },
  {
   "cell_type": "code",
   "execution_count": 7,
   "id": "8316dccc",
   "metadata": {
    "execution": {
     "iopub.execute_input": "2023-02-21T05:43:15.951383Z",
     "iopub.status.busy": "2023-02-21T05:43:15.950614Z",
     "iopub.status.idle": "2023-02-21T05:43:15.957836Z",
     "shell.execute_reply": "2023-02-21T05:43:15.956196Z"
    },
    "papermill": {
     "duration": 0.017649,
     "end_time": "2023-02-21T05:43:15.960313",
     "exception": false,
     "start_time": "2023-02-21T05:43:15.942664",
     "status": "completed"
    },
    "tags": []
   },
   "outputs": [],
   "source": [
    "# print all the numbers from 1 to the given number\n",
    "def print_number(N:int) -> None:\n",
    "    # iterative method\n",
    "    for n in range(N,0, -1): # Termination Condition: run the loop till N is not less than 1 or N is greater than 1, Iterative Logic (N-1)\n",
    "        print(n)             \n",
    "        \n",
    "def another_print_number(N:int) -> None:\n",
    "    while N > 0:            # Termination Condition: run the loop till N is not less than 1 or N is greater than 1\n",
    "        print(N)\n",
    "        N -= 1              # Iterative Logic (N-1)\n",
    "        \n",
    "def print_number_recursion(N:int) -> None:\n",
    "    if N == 1:                             # convert Termination Condition to Base Case\n",
    "        return 1\n",
    "    print(N)\n",
    "    return print_number_recursion(N-1)     # convert Loop to Recursive Call,  convert Iterative Logic to Argument for Recursive Call"
   ]
  },
  {
   "cell_type": "code",
   "execution_count": 8,
   "id": "37b25d54",
   "metadata": {
    "execution": {
     "iopub.execute_input": "2023-02-21T05:43:15.974634Z",
     "iopub.status.busy": "2023-02-21T05:43:15.973895Z",
     "iopub.status.idle": "2023-02-21T05:43:15.982516Z",
     "shell.execute_reply": "2023-02-21T05:43:15.981744Z"
    },
    "papermill": {
     "duration": 0.019541,
     "end_time": "2023-02-21T05:43:15.985935",
     "exception": false,
     "start_time": "2023-02-21T05:43:15.966394",
     "status": "completed"
    },
    "tags": []
   },
   "outputs": [
    {
     "name": "stdout",
     "output_type": "stream",
     "text": [
      "\n",
      "Iterative\n",
      "\n",
      "5\n",
      "4\n",
      "3\n",
      "2\n",
      "1\n",
      "\n",
      "Iterative\n",
      "\n",
      "5\n",
      "4\n",
      "3\n",
      "2\n",
      "1\n",
      "\n",
      "Recursion\n",
      "\n",
      "5\n",
      "4\n",
      "3\n",
      "2\n"
     ]
    },
    {
     "data": {
      "text/plain": [
       "1"
      ]
     },
     "execution_count": 8,
     "metadata": {},
     "output_type": "execute_result"
    }
   ],
   "source": [
    "print(\"\\nIterative\\n\")\n",
    "print_number(5)\n",
    "print(\"\\nIterative\\n\")\n",
    "another_print_number(5)\n",
    "print(\"\\nRecursion\\n\")\n",
    "print_number_recursion(5)"
   ]
  },
  {
   "cell_type": "markdown",
   "id": "0d80e191",
   "metadata": {
    "papermill": {
     "duration": 0.00585,
     "end_time": "2023-02-21T05:43:15.998348",
     "exception": false,
     "start_time": "2023-02-21T05:43:15.992498",
     "status": "completed"
    },
    "tags": []
   },
   "source": [
    "### Example2\n",
    "Reverse a string"
   ]
  },
  {
   "cell_type": "code",
   "execution_count": 9,
   "id": "b87612cd",
   "metadata": {
    "execution": {
     "iopub.execute_input": "2023-02-21T05:43:16.013416Z",
     "iopub.status.busy": "2023-02-21T05:43:16.012120Z",
     "iopub.status.idle": "2023-02-21T05:43:16.020677Z",
     "shell.execute_reply": "2023-02-21T05:43:16.019509Z"
    },
    "papermill": {
     "duration": 0.01939,
     "end_time": "2023-02-21T05:43:16.023737",
     "exception": false,
     "start_time": "2023-02-21T05:43:16.004347",
     "status": "completed"
    },
    "tags": []
   },
   "outputs": [],
   "source": [
    "def reverse_string(S:str) -> None:\n",
    "    N = len(S)\n",
    "    for i in range(N-1,-1,-1):\n",
    "        print(S[i])\n",
    "        \n",
    "def reverse_string2(S:str) -> str:\n",
    "    string = \"\"\n",
    "    for i in S:\n",
    "        string = i + string\n",
    "    print(string)\n",
    "    return string\n",
    "        \n",
    "def reverse_string_recursion(S:str) -> None: \n",
    "    N = len(S)\n",
    "    if N == 0:\n",
    "        return S\n",
    "    \n",
    "    return reverse_string_recursion(S[1:]) + S[0]\n",
    "        "
   ]
  },
  {
   "cell_type": "code",
   "execution_count": 10,
   "id": "92c7c2da",
   "metadata": {
    "execution": {
     "iopub.execute_input": "2023-02-21T05:43:16.038073Z",
     "iopub.status.busy": "2023-02-21T05:43:16.037716Z",
     "iopub.status.idle": "2023-02-21T05:43:16.045089Z",
     "shell.execute_reply": "2023-02-21T05:43:16.043984Z"
    },
    "papermill": {
     "duration": 0.017425,
     "end_time": "2023-02-21T05:43:16.047572",
     "exception": false,
     "start_time": "2023-02-21T05:43:16.030147",
     "status": "completed"
    },
    "tags": []
   },
   "outputs": [
    {
     "name": "stdout",
     "output_type": "stream",
     "text": [
      "a\n",
      "t\n",
      "a\n",
      "r\n",
      "b\n",
      "u\n",
      "s\n",
      "atarbus\n"
     ]
    },
    {
     "data": {
      "text/plain": [
       "'atarbus'"
      ]
     },
     "execution_count": 10,
     "metadata": {},
     "output_type": "execute_result"
    }
   ],
   "source": [
    "S = \"subrata\"\n",
    "\n",
    "reverse_string(S)\n",
    "reverse_string_recursion(S)\n",
    "reverse_string2(S)"
   ]
  },
  {
   "cell_type": "markdown",
   "id": "abe1c6ed",
   "metadata": {
    "papermill": {
     "duration": 0.005931,
     "end_time": "2023-02-21T05:43:16.059802",
     "exception": false,
     "start_time": "2023-02-21T05:43:16.053871",
     "status": "completed"
    },
    "tags": []
   },
   "source": [
    "## Iteration vs Recursion\n",
    "**Note:** Recursive Call == Recursive Function\n",
    "### Iteration\n",
    "* Example: given a positive number N, print from N to 1 i.e if N=5 then print 5,4,3,2,1\n",
    "1. **Working Principle:** In iteration we need to initialize the loop control variable and increment or decrement it based on the need, and to run the code inside the loop the control variable is checked against the termination condition i.e until the termination condition is true the inner statement of the loop will continuously execute.\n",
    "2. **Control Variable and Termination Logic:** In iteration the value of the Control Variable continuously move towards the Termination Logic.\n",
    "3. **Storage:** In iteration, the Control Variable stores the value and it is incremented or decremented based on need, and the updated value of the Control Variable will be checked with the Termination Condition.\n",
    "4. **Workings with Infinite Loop:** In iteration, when the Control Variable doesn't move towards the Termination Condition or there is no Termination Condition then the Loop will execute infinitely and it will consumes a lot of CPU cycles (the coputer gets hanged) until we stop the execution \n",
    "\n",
    "### Recursion\n",
    "* Example: given a positive number N, print from N to 1 i.e if N=5 then print 5,4,3,2,1\n",
    "1. **Working Principle:** Whereas, in recursion the function will call itself to solve the problem so the recursion must have a Base Case i.e the termination condition to stop the function from calling itself and causing stack overflow. Until the Base Case is reached the function will call itself to solve the problem.\n",
    "2. **Control Variable and Termination Logic:** Whereas, in recursion the Recursive Call (Control Variable) will move towards the Base Case (Termination Condition)\n",
    "3. **Storage:** Whereas, in recursion state of every Recursive Call will be stored and maintained in the Stack Memory and when the Base Case is reached the Execution will follow the Last In First Out (LIFO) principle i.e the last inserted Recursive Call will be executed first then it's result will be returned to the below Recursive Call and so on.\n",
    "4. **Workings with Infinite Loop:** Whereas, in recursion if there is no Base Case or the Recursive Call doesn't move towards the Base Case then the Recursive Call will be pushed into the Stack Memory until it causes Stack Overflow and the program crashes."
   ]
  },
  {
   "cell_type": "code",
   "execution_count": 11,
   "id": "66aef6e9",
   "metadata": {
    "execution": {
     "iopub.execute_input": "2023-02-21T05:43:16.073925Z",
     "iopub.status.busy": "2023-02-21T05:43:16.073536Z",
     "iopub.status.idle": "2023-02-21T05:43:16.081161Z",
     "shell.execute_reply": "2023-02-21T05:43:16.079587Z"
    },
    "papermill": {
     "duration": 0.017387,
     "end_time": "2023-02-21T05:43:16.083279",
     "exception": false,
     "start_time": "2023-02-21T05:43:16.065892",
     "status": "completed"
    },
    "tags": []
   },
   "outputs": [
    {
     "name": "stdout",
     "output_type": "stream",
     "text": [
      "5\n",
      "4\n",
      "3\n",
      "2\n",
      "1\n",
      "\n",
      "\n",
      "5\n",
      "4\n",
      "3\n",
      "2\n",
      "1\n"
     ]
    }
   ],
   "source": [
    "def iteration(N):\n",
    "    # range(initialize loop control variable, termination condition, logic i.e decrementing control variable)\n",
    "    for i in range(N,0,-1): # loop control variable is N and we are decrementing it, termination condition is 0\n",
    "        print(i)            # to run the code inside the loop the control variable is checked against the termination condition\n",
    "\n",
    "iteration(5)\n",
    "print(\"\\n\")\n",
    "\n",
    "def recursion(N):\n",
    "    if N == 1:           # Termination Logic\n",
    "        print(1)\n",
    "        return \n",
    "    print(N)\n",
    "    return recursion(N-1) # control variable\n",
    "\n",
    "recursion(5)"
   ]
  },
  {
   "cell_type": "markdown",
   "id": "a76283c8",
   "metadata": {
    "papermill": {
     "duration": 0.005844,
     "end_time": "2023-02-21T05:43:16.095167",
     "exception": false,
     "start_time": "2023-02-21T05:43:16.089323",
     "status": "completed"
    },
    "tags": []
   },
   "source": [
    "## Types of Recursion\n",
    "1. **Direct Recursion:** in direct recursion, the function will call itself, it is further divided into four types\n",
    "    1. `Tail Recursion:` in tail recursion the Recursive Call is the last(tail) thing executed by the function\n",
    "    2. `Head Recursion:` in head recursion the Recursive Call is the first(head) thing executed by the function\n",
    "    3. `Nested Recursion:` it is recursion inside a recursion i.e the Recursive Call will take Recursive Call as a parameter\n",
    "    4. `Tree or Binary Recursion:` in binary or tree recursion the Recursive Call calls itself twice\n",
    "2. **Indirect Recursion** in indirect recursion, more than one function will call mutually"
   ]
  },
  {
   "cell_type": "code",
   "execution_count": 12,
   "id": "0e0a83a8",
   "metadata": {
    "execution": {
     "iopub.execute_input": "2023-02-21T05:43:16.108977Z",
     "iopub.status.busy": "2023-02-21T05:43:16.108540Z",
     "iopub.status.idle": "2023-02-21T05:43:16.115915Z",
     "shell.execute_reply": "2023-02-21T05:43:16.114330Z"
    },
    "papermill": {
     "duration": 0.017164,
     "end_time": "2023-02-21T05:43:16.118299",
     "exception": false,
     "start_time": "2023-02-21T05:43:16.101135",
     "status": "completed"
    },
    "tags": []
   },
   "outputs": [],
   "source": [
    "# Tail Recursion (Direct Recursion)\n",
    "def tail_recursion(N):\n",
    "    # operation1\n",
    "    # operation2\n",
    "    return tail_recursion(N-1)\n",
    "\n",
    "# Head Recursion (Direct Recursion)\n",
    "def head_recursion(N):\n",
    "    head_recursion(N-1)\n",
    "    # operation1\n",
    "    # operation2\n",
    "\n",
    "# Nested Recursion (Direct Recursion)\n",
    "def nested_recursion(N):\n",
    "    # operation1\n",
    "    # operation2\n",
    "    return nested_recursion(nested_recursion(N-1))\n",
    "\n",
    "# Tree or Binary Recursion (Direct Recursion)\n",
    "def tree_binary_recursion(N):\n",
    "    # operation1\n",
    "    # operation2\n",
    "    tree_binary_recursion(N-1)\n",
    "    tree_binary_recursion(N-2)\n",
    "    return\n"
   ]
  },
  {
   "cell_type": "markdown",
   "id": "ee4695a3",
   "metadata": {
    "papermill": {
     "duration": 0.005876,
     "end_time": "2023-02-21T05:43:16.130267",
     "exception": false,
     "start_time": "2023-02-21T05:43:16.124391",
     "status": "completed"
    },
    "tags": []
   },
   "source": [
    "### Tail Recursion: \n",
    "**in tail recursion the Recursive Call is the last(tail) thing executed by the function**"
   ]
  },
  {
   "cell_type": "code",
   "execution_count": 13,
   "id": "0a4acbc2",
   "metadata": {
    "execution": {
     "iopub.execute_input": "2023-02-21T05:43:16.144125Z",
     "iopub.status.busy": "2023-02-21T05:43:16.143779Z",
     "iopub.status.idle": "2023-02-21T05:43:16.150259Z",
     "shell.execute_reply": "2023-02-21T05:43:16.148929Z"
    },
    "papermill": {
     "duration": 0.016162,
     "end_time": "2023-02-21T05:43:16.152579",
     "exception": false,
     "start_time": "2023-02-21T05:43:16.136417",
     "status": "completed"
    },
    "tags": []
   },
   "outputs": [
    {
     "name": "stdout",
     "output_type": "stream",
     "text": [
      "Subrata\n",
      "ubrata\n",
      "brata\n",
      "rata\n",
      "ata\n",
      "ta\n",
      "a\n"
     ]
    }
   ],
   "source": [
    "def tail_recursion(S:str) -> None:\n",
    "    if len(S) is 0:\n",
    "        return\n",
    "    print(S)\n",
    "    tail_recursion(S[1:])\n",
    "\n",
    "tail_recursion(\"Subrata\")"
   ]
  },
  {
   "cell_type": "markdown",
   "id": "da7a77e9",
   "metadata": {
    "papermill": {
     "duration": 0.005836,
     "end_time": "2023-02-21T05:43:16.164558",
     "exception": false,
     "start_time": "2023-02-21T05:43:16.158722",
     "status": "completed"
    },
    "tags": []
   },
   "source": [
    "### Head Recursion: \n",
    "**in head recursion the Recursive Call is the first(head) thing executed by the function**"
   ]
  },
  {
   "cell_type": "code",
   "execution_count": 14,
   "id": "215c586a",
   "metadata": {
    "execution": {
     "iopub.execute_input": "2023-02-21T05:43:16.178752Z",
     "iopub.status.busy": "2023-02-21T05:43:16.178385Z",
     "iopub.status.idle": "2023-02-21T05:43:16.184844Z",
     "shell.execute_reply": "2023-02-21T05:43:16.183601Z"
    },
    "papermill": {
     "duration": 0.016952,
     "end_time": "2023-02-21T05:43:16.187572",
     "exception": false,
     "start_time": "2023-02-21T05:43:16.170620",
     "status": "completed"
    },
    "tags": []
   },
   "outputs": [
    {
     "name": "stdout",
     "output_type": "stream",
     "text": [
      "a\n",
      "ta\n",
      "ata\n",
      "rata\n",
      "brata\n",
      "ubrata\n",
      "Subrata\n"
     ]
    }
   ],
   "source": [
    "def head_recursion(S:str) -> None:\n",
    "    if len(S) is 0:\n",
    "        return\n",
    "    \n",
    "    head_recursion(S[1:])\n",
    "    print(S)\n",
    "    \n",
    "head_recursion(\"Subrata\")"
   ]
  },
  {
   "cell_type": "code",
   "execution_count": null,
   "id": "39a42daf",
   "metadata": {
    "papermill": {
     "duration": 0.00605,
     "end_time": "2023-02-21T05:43:16.200300",
     "exception": false,
     "start_time": "2023-02-21T05:43:16.194250",
     "status": "completed"
    },
    "tags": []
   },
   "outputs": [],
   "source": []
  }
 ],
 "metadata": {
  "kernelspec": {
   "display_name": "Python 3",
   "language": "python",
   "name": "python3"
  },
  "language_info": {
   "codemirror_mode": {
    "name": "ipython",
    "version": 3
   },
   "file_extension": ".py",
   "mimetype": "text/x-python",
   "name": "python",
   "nbconvert_exporter": "python",
   "pygments_lexer": "ipython3",
   "version": "3.7.12"
  },
  "papermill": {
   "default_parameters": {},
   "duration": 9.545884,
   "end_time": "2023-02-21T05:43:16.830129",
   "environment_variables": {},
   "exception": null,
   "input_path": "__notebook__.ipynb",
   "output_path": "__notebook__.ipynb",
   "parameters": {},
   "start_time": "2023-02-21T05:43:07.284245",
   "version": "2.3.4"
  }
 },
 "nbformat": 4,
 "nbformat_minor": 5
}
